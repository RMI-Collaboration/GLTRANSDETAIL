{
 "cells": [
  {
   "cell_type": "markdown",
   "metadata": {},
   "source": [
    "# MD Package"
   ]
  },
  {
   "cell_type": "markdown",
   "metadata": {},
   "source": [
    "## 1.  Load Transactional Data, SalesForce Data, Mavenlink Data, load packages, and convert to Dataframes\n",
    "\n",
    "I am using three reports from Netsuite to populate this data:  Lists/Employees --> Run report without filters all set to \"All\".\n",
    "\n",
    "Search in Netsuite search bar usings \"sea\" for Adaptive Transaction Search - P&L - Jeremy\n",
    "\n",
    "Search in Netsuite search bar using \"sea\" for Mavenlink Time Audit\n",
    "\n",
    "In Salesforce, use Ginny's link, but filter for \"ALL\" in Opportunity Record Type.  Also include Revenue Date:  greater or equal to LAST FISCAL YEAR.\n",
    "\n",
    "![title](img/picture.jpg)"
   ]
  },
  {
   "cell_type": "code",
   "execution_count": 1,
   "metadata": {},
   "outputs": [],
   "source": [
    "import pandas as pd\n",
    "import numpy as np\n",
    "import openpyxl\n",
    "from openpyxl import load_workbook\n",
    "from openpyxl.styles import Font\n",
    "from openpyxl.styles import Alignment\n",
    "from openpyxl.styles.borders import Border, Side\n"
   ]
  },
  {
   "cell_type": "code",
   "execution_count": 2,
   "metadata": {},
   "outputs": [],
   "source": [
    "HistoricDatapath = 'C:\\\\Users\\\\jerem\\\\anaconda3\\\\envs\\\\Code\\\\RMICODING\\\\Data\\\\FY19&FY20_Detail_Trans.xlsx'\n",
    "\n",
    "dfHistoric = pd.read_excel(HistoricDatapath)"
   ]
  },
  {
   "cell_type": "code",
   "execution_count": 3,
   "metadata": {},
   "outputs": [],
   "source": [
    "FY18Datapath = 'C:\\\\Users\\\\jerem\\\\anaconda3\\\\envs\\\\Code\\\\RMICODING\\\\Data\\\\ADAPTIVETransactionSearchPLResultsFY18.xlsx'\n",
    "\n",
    "dfFY18 = pd.read_excel(FY18Datapath)"
   ]
  },
  {
   "cell_type": "code",
   "execution_count": 4,
   "metadata": {},
   "outputs": [],
   "source": [
    "GrantBalancespath = 'C:\\\\Users\\\\jerem\\\\anaconda3\\\\envs\\\\Code\\\\RMICODING\\\\Data\\\\Grant_Balance_Report_October_LOAD.xlsx'\n",
    "\n",
    "dfGrantBalances = pd.read_excel(GrantBalancespath)"
   ]
  },
  {
   "cell_type": "code",
   "execution_count": 5,
   "metadata": {},
   "outputs": [],
   "source": [
    "#Get this from Mavenlink, Insight--> Sharepoint Reports, Project List for MDs:  Export to XLSX, uncheck \"Keep attribute cells merged\" and \"Include active filters in each report\"\n",
    "\n",
    "\n",
    "MavenlinkProjectspath = 'C:\\\\Users\\\\jerem\\\\anaconda3\\\\envs\\\\Code\\\\RMICODING\\\\Data\\\\Sharepoint Reports 11-14-2021 1201pm.xlsx'\n",
    "\n",
    "dfMAVELINKACTIVEPROJECTS = pd.read_excel(MavenlinkProjectspath)"
   ]
  },
  {
   "cell_type": "code",
   "execution_count": 6,
   "metadata": {},
   "outputs": [],
   "source": [
    "dfHistoric = pd.concat([dfFY18, dfHistoric], ignore_index=True)"
   ]
  },
  {
   "cell_type": "code",
   "execution_count": 7,
   "metadata": {},
   "outputs": [
    {
     "data": {
      "text/plain": [
       "149156"
      ]
     },
     "execution_count": 7,
     "metadata": {},
     "output_type": "execute_result"
    }
   ],
   "source": [
    "\n",
    "AdaptiveTranspath = 'C:\\\\Users\\\\jerem\\\\anaconda3\\\\envs\\\\Code\\\\RMICODING\\\\Data\\\\ADAPTIVETransactionSearchPLJeremyResultsFY21.xls'\n",
    "\n",
    "from xml.sax import ContentHandler, parse\n",
    "\n",
    "# Reference https://goo.gl/KaOBG3\n",
    "class ExcelHandler(ContentHandler):\n",
    "    def __init__(self):\n",
    "        self.chars = [  ]\n",
    "        self.cells = [  ]\n",
    "        self.rows = [  ]\n",
    "        self.tables = [  ]\n",
    "    def characters(self, content):\n",
    "        self.chars.append(content)\n",
    "    def startElement(self, name, atts):\n",
    "        if name==\"Cell\":\n",
    "            self.chars = [  ]\n",
    "        elif name==\"Row\":\n",
    "            self.cells=[  ]\n",
    "        elif name==\"Table\":\n",
    "            self.rows = [  ]\n",
    "    def endElement(self, name):\n",
    "        if name==\"Cell\":\n",
    "            self.cells.append(''.join(self.chars))\n",
    "        elif name==\"Row\":\n",
    "            self.rows.append(self.cells)\n",
    "        elif name==\"Table\":\n",
    "            self.tables.append(self.rows)\n",
    "\n",
    "excelHandler = ExcelHandler()\n",
    "parse(AdaptiveTranspath, excelHandler)\n",
    "dfFY21 = pd.DataFrame(excelHandler.tables[0][1:], columns=excelHandler.tables[0][0])\n",
    "\n",
    "len(dfFY21)"
   ]
  },
  {
   "cell_type": "code",
   "execution_count": 8,
   "metadata": {},
   "outputs": [],
   "source": [
    "\n",
    "AdaptiveTranspath = 'C:\\\\Users\\\\jerem\\\\anaconda3\\\\envs\\\\Code\\\\RMICODING\\\\Data\\\\ADAPTIVETransactionSearchPLJeremyResults928.xls'\n",
    "\n",
    "from xml.sax import ContentHandler, parse\n",
    "\n",
    "# Reference https://goo.gl/KaOBG3\n",
    "class ExcelHandler(ContentHandler):\n",
    "    def __init__(self):\n",
    "        self.chars = [  ]\n",
    "        self.cells = [  ]\n",
    "        self.rows = [  ]\n",
    "        self.tables = [  ]\n",
    "    def characters(self, content):\n",
    "        self.chars.append(content)\n",
    "    def startElement(self, name, atts):\n",
    "        if name==\"Cell\":\n",
    "            self.chars = [  ]\n",
    "        elif name==\"Row\":\n",
    "            self.cells=[  ]\n",
    "        elif name==\"Table\":\n",
    "            self.rows = [  ]\n",
    "    def endElement(self, name):\n",
    "        if name==\"Cell\":\n",
    "            self.cells.append(''.join(self.chars))\n",
    "        elif name==\"Row\":\n",
    "            self.rows.append(self.cells)\n",
    "        elif name==\"Table\":\n",
    "            self.tables.append(self.rows)\n",
    "\n",
    "excelHandler = ExcelHandler()\n",
    "parse(AdaptiveTranspath, excelHandler)\n",
    "dfFY22 = pd.DataFrame(excelHandler.tables[0][1:], columns=excelHandler.tables[0][0])"
   ]
  },
  {
   "cell_type": "code",
   "execution_count": 9,
   "metadata": {},
   "outputs": [],
   "source": [
    "#Search \"Mavenlink Time Audit\", filter it to start at the beginning of the fiscal year.\n",
    "\n",
    "#excelHandler = ExcelHandler()\n",
    "#parse('../Data/raw/MavenlinkTimeAuditResults905.xls', excelHandler)\n",
    "#dfMavenlink = pd.DataFrame(excelHandler.tables[0][1:], columns=excelHandler.tables[0][0])"
   ]
  },
  {
   "cell_type": "code",
   "execution_count": 10,
   "metadata": {},
   "outputs": [],
   "source": [
    "#excelHandler = ExcelHandler()\n",
    "#parse('../Data/raw/Employees588.xls', excelHandler)\n",
    "#employee_list = pd.DataFrame(excelHandler.tables[0][1:], columns=excelHandler.tables[0][0])\n"
   ]
  },
  {
   "cell_type": "code",
   "execution_count": 11,
   "metadata": {},
   "outputs": [],
   "source": [
    "#https://rockymountaininstitute.lightning.force.com/lightning/r/Report/00O6f000008AUqkEAG/view?queryScope=userFolders\n",
    "\n",
    "SalesForcePhilanthropicpath = 'C:\\\\Users\\\\jerem\\\\anaconda3\\\\envs\\\\Code\\\\RMICODING\\\\Data\\\\ALLPHILANTHROPICSFDATA111221.xls'\n",
    "\n",
    "dfSalesforce = pd.read_html(SalesForcePhilanthropicpath)\n",
    "dfSalesforce = dfSalesforce[0]"
   ]
  },
  {
   "cell_type": "code",
   "execution_count": 12,
   "metadata": {},
   "outputs": [],
   "source": [
    "dfSalesforce1 = dfSalesforce.drop('RMI Grant Name', axis=1).join(dfSalesforce['RMI Grant Name'].str.split(',', expand=True).stack().reset_index(level=1,drop=True).rename('RMI Grant Name'))"
   ]
  },
  {
   "cell_type": "code",
   "execution_count": 13,
   "metadata": {},
   "outputs": [],
   "source": [
    "Names = dfSalesforce1['RMI Grant Name']\n",
    "dfSalesforce1.drop(labels=['RMI Grant Name'], axis=1,inplace = True)\n",
    "dfSalesforce1.insert(0, 'RMI Grant Name', Names)"
   ]
  },
  {
   "cell_type": "code",
   "execution_count": 14,
   "metadata": {},
   "outputs": [],
   "source": [
    "#This output creates the file that I need with Dates broken out by row\n",
    "\n",
    "dfSalesforce1.to_excel('SALESFORCEGRANTDATEFILE.xlsx')"
   ]
  },
  {
   "cell_type": "code",
   "execution_count": null,
   "metadata": {},
   "outputs": [],
   "source": []
  },
  {
   "cell_type": "code",
   "execution_count": 15,
   "metadata": {},
   "outputs": [],
   "source": [
    "SalesForceFFSpath = 'C:\\\\Users\\\\jerem\\\\anaconda3\\\\envs\\\\Code\\\\RMICODING\\\\Data\\\\report1636920232704.xls'\n",
    "\n",
    "#https://rockymountaininstitute.lightning.force.com/lightning/r/Report/00O6f000008AajLEAS/view?queryScope=userFolders\n",
    "dfSalesforceFFS = pd.read_html(SalesForceFFSpath)\n",
    "dfSalesforceFFS = dfSalesforceFFS[0]"
   ]
  },
  {
   "cell_type": "code",
   "execution_count": 16,
   "metadata": {},
   "outputs": [],
   "source": [
    "#https://rockymountaininstitute.lightning.force.com/lightning/r/Report/00O6f000008IFHbEAO/view?queryScope=userFolders\n",
    "\n",
    "SalesForceLinksPath = 'C:\\\\Users\\\\jerem\\\\anaconda3\\\\envs\\\\Code\\\\RMICODING\\\\Data\\\\report1636920305642.xls'\n",
    "\n",
    "dfSalesforceGrantContracts = pd.read_html(SalesForceLinksPath)\n",
    "dfSalesforceGrantContracts = dfSalesforceGrantContracts[0]"
   ]
  },
  {
   "cell_type": "code",
   "execution_count": 17,
   "metadata": {},
   "outputs": [],
   "source": [
    "SalesForceGrantReportsDuepath = 'C:\\\\Users\\\\jerem\\\\anaconda3\\\\envs\\\\Code\\\\RMICODING\\\\Data\\\\report1636920369239.xls'\n",
    "\n",
    "#https://rockymountaininstitute.lightning.force.com/lightning/r/Report/00O6f000008IZKbEAO/view?queryScope=userFolders\n",
    "SalesForceGrantReportsDue = pd.read_html(SalesForceGrantReportsDuepath)\n",
    "SalesForceGrantReportsDue = SalesForceGrantReportsDue[0]"
   ]
  },
  {
   "cell_type": "code",
   "execution_count": 18,
   "metadata": {},
   "outputs": [],
   "source": [
    "#To get the FFS Balances and Whitney's data from Netsuite: RMI Fee for Service Contract Balances\n",
    "\n",
    "\n",
    "NetsuiteContractBalancePath = 'C:\\\\Users\\\\jerem\\\\anaconda3\\\\envs\\\\Code\\\\RMICODING\\\\Data\\\\RMIFeeforServiceContractBalancesResults849.xls'\n",
    "\n",
    "excelHandler = ExcelHandler()\n",
    "parse(NetsuiteContractBalancePath, excelHandler)\n",
    "dfFFSData = pd.DataFrame(excelHandler.tables[0][1:], columns=excelHandler.tables[0][0])"
   ]
  },
  {
   "cell_type": "code",
   "execution_count": 19,
   "metadata": {},
   "outputs": [],
   "source": [
    "#\"FFS Projects\" from Netsuite\n",
    "NetsuiteFFSProjectsPath =  'C:\\\\Users\\\\jerem\\\\anaconda3\\\\envs\\\\Code\\\\RMICODING\\\\Data\\\\FFSProjectsResults686.xls'\n",
    "\n",
    "excelHandler = ExcelHandler()\n",
    "parse(NetsuiteFFSProjectsPath, excelHandler)\n",
    "dfFFSData2 = pd.DataFrame(excelHandler.tables[0][1:], columns=excelHandler.tables[0][0])"
   ]
  },
  {
   "cell_type": "code",
   "execution_count": 20,
   "metadata": {},
   "outputs": [],
   "source": [
    "#To get the deferred Revenue data for FFS from Netsuite:  RMI Transaction Search - Revenue Summary\n",
    "\n",
    "NSRMITablespath = 'C:\\\\Users\\\\jerem\\\\anaconda3\\\\envs\\\\Code\\\\RMICODING\\\\Data\\\\RMITransactionSearchRevenueSummaryResults765.xls'\n",
    "\n",
    "excelHandler = ExcelHandler()\n",
    "parse(NSRMITablespath, excelHandler)\n",
    "dfFFSIncludingDeferred = pd.DataFrame(excelHandler.tables[0][1:], columns=excelHandler.tables[0][0])"
   ]
  },
  {
   "cell_type": "code",
   "execution_count": 21,
   "metadata": {},
   "outputs": [
    {
     "data": {
      "text/plain": [
       "541462"
      ]
     },
     "execution_count": 21,
     "metadata": {},
     "output_type": "execute_result"
    }
   ],
   "source": [
    "df1 = pd.concat([dfHistoric, dfFY21, dfFY22], ignore_index=True)\n",
    "len(df1)"
   ]
  },
  {
   "cell_type": "markdown",
   "metadata": {},
   "source": [
    "## 2. Data Manipulation\n",
    "\n",
    "In this section I start manipulting these datasets into somethign more digestable for the end user.  The main manipulation I am doing in this seciton is pulling information out of the \"Memo\" field that users may want to see seperately."
   ]
  },
  {
   "cell_type": "code",
   "execution_count": 22,
   "metadata": {},
   "outputs": [],
   "source": [
    "#print(len(employee_id_list))"
   ]
  },
  {
   "cell_type": "code",
   "execution_count": 23,
   "metadata": {},
   "outputs": [],
   "source": [
    "df1['Memo'] = df1['Memo'].astype('string')"
   ]
  },
  {
   "cell_type": "code",
   "execution_count": 24,
   "metadata": {},
   "outputs": [
    {
     "data": {
      "text/plain": [
       "Date                               object\n",
       "Period                             object\n",
       "GL Account                         object\n",
       "Document Number                    object\n",
       "Program                            object\n",
       "Initiative                         object\n",
       "Project                            object\n",
       "Restriction                        object\n",
       "Grant                              object\n",
       "Amount                             object\n",
       "Vendor Name                        object\n",
       "Employee Name                      object\n",
       "Memo                               string\n",
       "Amount (Credit)                    object\n",
       "Amount (Debit)                     object\n",
       "Client                             object\n",
       "Transaction Number                 object\n",
       "Type                               object\n",
       "Vendor Rate                        object\n",
       "Vendor Contract Expiration Date    object\n",
       "dtype: object"
      ]
     },
     "execution_count": 24,
     "metadata": {},
     "output_type": "execute_result"
    }
   ],
   "source": [
    "df1.dtypes"
   ]
  },
  {
   "cell_type": "code",
   "execution_count": 25,
   "metadata": {},
   "outputs": [],
   "source": [
    "#all_ids = '|'.join(employee_id_list)"
   ]
  },
  {
   "cell_type": "code",
   "execution_count": 26,
   "metadata": {},
   "outputs": [],
   "source": [
    "def return_first(x):\n",
    "    try:\n",
    "        y = x[0]\n",
    "    except:\n",
    "        y = \"\"\n",
    "    return y"
   ]
  },
  {
   "cell_type": "markdown",
   "metadata": {},
   "source": [
    "## 3. Salesforce Data Manipulation"
   ]
  },
  {
   "cell_type": "code",
   "execution_count": 27,
   "metadata": {},
   "outputs": [],
   "source": [
    "dfSalesforce['Revenue Status'].replace('', np.nan, inplace=True)\n",
    "dfSalesforce['Initiative'].replace('', np.nan, inplace=True)\n",
    "dfSalesforce['Revenue Amount'].replace('', np.nan, inplace=True)\n",
    "dfSalesforce['RMI Grant Name'].replace('', np.nan, inplace=True)\n",
    "dfSalesforce['Grant Term - Start Date'].replace('', np.nan, inplace=True)\n",
    "dfSalesforce['Grant Term - End Date'].replace('', np.nan, inplace=True)\n",
    "dfSalesforce['Grant Status'].replace('', np.nan, inplace=True)"
   ]
  },
  {
   "cell_type": "code",
   "execution_count": 28,
   "metadata": {},
   "outputs": [],
   "source": [
    "dfSalesforce['Revenue Status'].fillna(\"na\", inplace=True)\n",
    "dfSalesforce['Initiative'].fillna(\"na\", inplace=True)\n",
    "dfSalesforce['Revenue Amount'].fillna(0, inplace=True)\n",
    "dfSalesforce['RMI Grant Name'].fillna(\"na\", inplace=True)\n",
    "dfSalesforce['Grant Term - Start Date'].fillna(\"na\", inplace=True)\n",
    "dfSalesforce['Grant Term - End Date'].fillna(\"na\", inplace=True)\n",
    "dfSalesforce['Grant Status'].fillna(\"na\", inplace=True)"
   ]
  },
  {
   "cell_type": "code",
   "execution_count": 29,
   "metadata": {
    "scrolled": true
   },
   "outputs": [],
   "source": [
    "dfSalesforceFFS['Amount'].replace('', np.nan, inplace=True)\n",
    "dfSalesforceFFS['Relationship Manager'].replace('', np.nan, inplace=True)\n",
    "dfSalesforceFFS['Initiative'].replace('', np.nan, inplace=True)"
   ]
  },
  {
   "cell_type": "code",
   "execution_count": 30,
   "metadata": {},
   "outputs": [],
   "source": [
    "dfSalesforceFFS['Amount'].fillna(0, inplace=True)\n",
    "dfSalesforceFFS['Relationship Manager'].fillna('na', inplace=True)\n",
    "dfSalesforceFFS['Initiative'].fillna('na', inplace=True)"
   ]
  },
  {
   "cell_type": "code",
   "execution_count": 31,
   "metadata": {},
   "outputs": [],
   "source": [
    "dfSalesforceGrantContracts[\"Documents Link\"] = dfSalesforceGrantContracts['Essential Documents Link'].str.findall(r'\\<a href=(.*?)\\ target').apply(return_first)\n"
   ]
  },
  {
   "cell_type": "code",
   "execution_count": 32,
   "metadata": {},
   "outputs": [],
   "source": [
    "dfSalesforceGrantContractsNS = dfSalesforceGrantContracts[['RMI Grant Name', 'Documents Link']]"
   ]
  },
  {
   "cell_type": "code",
   "execution_count": 33,
   "metadata": {},
   "outputs": [],
   "source": [
    "dfSalesforceGrantContractsNS = dfSalesforceGrantContractsNS.dropna()\n",
    "dfSalesforceGrantContractsNS = dfSalesforceGrantContractsNS.rename(columns={'RMI Grant Name':'Grant'})\n",
    "\n"
   ]
  },
  {
   "cell_type": "code",
   "execution_count": 34,
   "metadata": {},
   "outputs": [],
   "source": [
    "\n",
    "dfSalesforceGrantContractsNS = dfSalesforceGrantContractsNS.drop_duplicates(subset='Grant', keep=\"first\")"
   ]
  },
  {
   "cell_type": "code",
   "execution_count": 35,
   "metadata": {},
   "outputs": [],
   "source": [
    "dfSalesforceGrantContractsNS['Documents Link'] = dfSalesforceGrantContractsNS['Documents Link'].str.replace('\"', '')"
   ]
  },
  {
   "cell_type": "code",
   "execution_count": 36,
   "metadata": {},
   "outputs": [],
   "source": [
    "#dfSalesforceGrantContractsNS.to_excel('test.xlsx')"
   ]
  },
  {
   "cell_type": "code",
   "execution_count": 37,
   "metadata": {},
   "outputs": [],
   "source": [
    "dfSalesforceGrantContractsSF = dfSalesforceGrantContracts[['Documents Link','Opportunity Name']]"
   ]
  },
  {
   "cell_type": "code",
   "execution_count": 38,
   "metadata": {},
   "outputs": [],
   "source": [
    "dfSalesforceGrantContractsSF = dfSalesforceGrantContractsSF.drop_duplicates(subset='Opportunity Name', keep=\"first\")"
   ]
  },
  {
   "cell_type": "code",
   "execution_count": 39,
   "metadata": {},
   "outputs": [],
   "source": [
    "dfSalesforceGrantContractsSF['Documents Link'] = dfSalesforceGrantContractsSF['Documents Link'].str.replace('\"', '')"
   ]
  },
  {
   "cell_type": "code",
   "execution_count": 40,
   "metadata": {},
   "outputs": [],
   "source": [
    "dfSalesforceFFS['Relationship Manager'].fillna('na', inplace=True)"
   ]
  },
  {
   "cell_type": "code",
   "execution_count": 41,
   "metadata": {},
   "outputs": [
    {
     "data": {
      "text/plain": [
       "6697"
      ]
     },
     "execution_count": 41,
     "metadata": {},
     "output_type": "execute_result"
    }
   ],
   "source": [
    "len(dfSalesforce)"
   ]
  },
  {
   "cell_type": "code",
   "execution_count": 42,
   "metadata": {},
   "outputs": [],
   "source": [
    "dfSalesforce = pd.merge(dfSalesforce, dfSalesforceGrantContractsSF, on = 'Opportunity Name', how='left')"
   ]
  },
  {
   "cell_type": "code",
   "execution_count": 43,
   "metadata": {},
   "outputs": [
    {
     "data": {
      "text/plain": [
       "6697"
      ]
     },
     "execution_count": 43,
     "metadata": {},
     "output_type": "execute_result"
    }
   ],
   "source": [
    "len(dfSalesforce)"
   ]
  },
  {
   "cell_type": "code",
   "execution_count": null,
   "metadata": {},
   "outputs": [],
   "source": []
  },
  {
   "cell_type": "code",
   "execution_count": 44,
   "metadata": {},
   "outputs": [],
   "source": [
    "dfSalesforce['Documents Link'].fillna('na', inplace=True)"
   ]
  },
  {
   "cell_type": "code",
   "execution_count": 45,
   "metadata": {},
   "outputs": [],
   "source": [
    "dfSalesforce.to_excel('Output_Salesforce.xlsx')"
   ]
  },
  {
   "cell_type": "markdown",
   "metadata": {},
   "source": [
    "## 4. Manipulate Netsuite Data"
   ]
  },
  {
   "cell_type": "code",
   "execution_count": 46,
   "metadata": {},
   "outputs": [],
   "source": [
    "allocations = ['BONUS ALLOCATION', 'ADMIN ALLOCATION', 'PTO/HOLIDAY ALLOCATION']"
   ]
  },
  {
   "cell_type": "code",
   "execution_count": 47,
   "metadata": {},
   "outputs": [],
   "source": [
    "all_allocations = '|'.join(allocations)"
   ]
  },
  {
   "cell_type": "code",
   "execution_count": 48,
   "metadata": {},
   "outputs": [],
   "source": [
    "df1['ALLOCATION'] = df1['Memo'].str.findall(all_allocations).apply(return_first)"
   ]
  },
  {
   "cell_type": "markdown",
   "metadata": {},
   "source": [
    "# 5.  Admin Clearing Account, Depreciation, Allocated Expenses"
   ]
  },
  {
   "cell_type": "code",
   "execution_count": 49,
   "metadata": {},
   "outputs": [],
   "source": [
    "initiativecodes = ['AF - Admin', 'BLD - Admin', 'CAI - Admin', 'CF - Admin', 'CH - Admin', 'CIP - Admin', 'D3 - Admin','ETA - Admin', 'GCF - Admin', 'IA - Admin', 'IN - Admin', 'IS - Admin', 'M3 - Admin', 'MTX - Admin', 'POW - Admin', 'SA - Admin', 'SAE - Admin', 'US - Admin', 'UT - Admin']"
   ]
  },
  {
   "cell_type": "code",
   "execution_count": 50,
   "metadata": {},
   "outputs": [],
   "source": [
    "all_initiativecodes = '|'.join(initiativecodes)"
   ]
  },
  {
   "cell_type": "code",
   "execution_count": 51,
   "metadata": {},
   "outputs": [],
   "source": [
    "df1['8005 clearing'] = df1['Memo'].str.findall(all_initiativecodes).apply(return_first)"
   ]
  },
  {
   "cell_type": "code",
   "execution_count": 52,
   "metadata": {},
   "outputs": [],
   "source": [
    "depreciation = 'Depreciation'"
   ]
  },
  {
   "cell_type": "code",
   "execution_count": 53,
   "metadata": {},
   "outputs": [],
   "source": [
    "df1['Depreciation'] = df1['Memo'].str.findall(depreciation).apply(return_first)"
   ]
  },
  {
   "cell_type": "code",
   "execution_count": 54,
   "metadata": {},
   "outputs": [],
   "source": [
    "allocatedexpenses = 'Allocated Expenses'"
   ]
  },
  {
   "cell_type": "code",
   "execution_count": 55,
   "metadata": {},
   "outputs": [],
   "source": [
    "df1['AllocatedExpenses'] = df1['Memo'].str.findall(allocatedexpenses).apply(return_first)"
   ]
  },
  {
   "cell_type": "code",
   "execution_count": null,
   "metadata": {},
   "outputs": [],
   "source": []
  },
  {
   "cell_type": "markdown",
   "metadata": {},
   "source": [
    "## Extract Project Fields for Heather's report"
   ]
  },
  {
   "cell_type": "code",
   "execution_count": 56,
   "metadata": {},
   "outputs": [],
   "source": [
    "df1['Project Allocations'] = df1['Project'].str.findall(r'\\[(.*?)\\]').apply(return_first)"
   ]
  },
  {
   "cell_type": "markdown",
   "metadata": {},
   "source": [
    "## Add Rollup Accounts"
   ]
  },
  {
   "cell_type": "code",
   "execution_count": 57,
   "metadata": {},
   "outputs": [],
   "source": [
    "LookupsPath = 'C:\\\\Users\\\\jerem\\\\anaconda3\\\\envs\\\\Code\\\\RMICODING\\\\Data\\\\lookups.xlsx'\n",
    "\n",
    "lookups = pd.read_excel(LookupsPath)"
   ]
  },
  {
   "cell_type": "code",
   "execution_count": 58,
   "metadata": {},
   "outputs": [
    {
     "data": {
      "text/html": [
       "<div>\n",
       "<style scoped>\n",
       "    .dataframe tbody tr th:only-of-type {\n",
       "        vertical-align: middle;\n",
       "    }\n",
       "\n",
       "    .dataframe tbody tr th {\n",
       "        vertical-align: top;\n",
       "    }\n",
       "\n",
       "    .dataframe thead th {\n",
       "        text-align: right;\n",
       "    }\n",
       "</style>\n",
       "<table border=\"1\" class=\"dataframe\">\n",
       "  <thead>\n",
       "    <tr style=\"text-align: right;\">\n",
       "      <th></th>\n",
       "      <th>GL Account</th>\n",
       "      <th>Rollup Account</th>\n",
       "    </tr>\n",
       "  </thead>\n",
       "  <tbody>\n",
       "    <tr>\n",
       "      <th>0</th>\n",
       "      <td>5010 Contributions Revenue : Foundation Contri...</td>\n",
       "      <td>5000 Contributions Revenue</td>\n",
       "    </tr>\n",
       "    <tr>\n",
       "      <th>1</th>\n",
       "      <td>5015 Contributions Revenue : Campaign Foundati...</td>\n",
       "      <td>5000 Contributions Revenue</td>\n",
       "    </tr>\n",
       "    <tr>\n",
       "      <th>2</th>\n",
       "      <td>5020 Contributions Revenue : Individual Contri...</td>\n",
       "      <td>5000 Contributions Revenue</td>\n",
       "    </tr>\n",
       "    <tr>\n",
       "      <th>3</th>\n",
       "      <td>5025 Contributions Revenue : Campaign Corporat...</td>\n",
       "      <td>5000 Contributions Revenue</td>\n",
       "    </tr>\n",
       "    <tr>\n",
       "      <th>4</th>\n",
       "      <td>5030 Contributions Revenue : Endowment Contrib...</td>\n",
       "      <td>5000 Contributions Revenue</td>\n",
       "    </tr>\n",
       "  </tbody>\n",
       "</table>\n",
       "</div>"
      ],
      "text/plain": [
       "                                          GL Account  \\\n",
       "0  5010 Contributions Revenue : Foundation Contri...   \n",
       "1  5015 Contributions Revenue : Campaign Foundati...   \n",
       "2  5020 Contributions Revenue : Individual Contri...   \n",
       "3  5025 Contributions Revenue : Campaign Corporat...   \n",
       "4  5030 Contributions Revenue : Endowment Contrib...   \n",
       "\n",
       "               Rollup Account  \n",
       "0  5000 Contributions Revenue  \n",
       "1  5000 Contributions Revenue  \n",
       "2  5000 Contributions Revenue  \n",
       "3  5000 Contributions Revenue  \n",
       "4  5000 Contributions Revenue  "
      ]
     },
     "execution_count": 58,
     "metadata": {},
     "output_type": "execute_result"
    }
   ],
   "source": [
    "lookups.head()"
   ]
  },
  {
   "cell_type": "code",
   "execution_count": 59,
   "metadata": {},
   "outputs": [],
   "source": [
    "df1 = pd.merge(df1, lookups, on = 'GL Account', how='left')"
   ]
  },
  {
   "cell_type": "code",
   "execution_count": 60,
   "metadata": {},
   "outputs": [],
   "source": [
    "df1['Account Digit'] = df1['GL Account'].astype('string').str[0]"
   ]
  },
  {
   "cell_type": "code",
   "execution_count": 61,
   "metadata": {},
   "outputs": [
    {
     "data": {
      "text/plain": [
       "Index(['Date', 'Period', 'GL Account', 'Document Number', 'Program',\n",
       "       'Initiative', 'Project', 'Restriction', 'Grant', 'Amount',\n",
       "       'Vendor Name', 'Employee Name', 'Memo', 'Amount (Credit)',\n",
       "       'Amount (Debit)', 'Client', 'Transaction Number', 'Type', 'Vendor Rate',\n",
       "       'Vendor Contract Expiration Date', 'ALLOCATION', '8005 clearing',\n",
       "       'Depreciation', 'AllocatedExpenses', 'Project Allocations',\n",
       "       'Rollup Account', 'Account Digit'],\n",
       "      dtype='object')"
      ]
     },
     "execution_count": 61,
     "metadata": {},
     "output_type": "execute_result"
    }
   ],
   "source": [
    "df1.columns"
   ]
  },
  {
   "cell_type": "code",
   "execution_count": 62,
   "metadata": {},
   "outputs": [],
   "source": [
    "df1['Amount'] = df1['Amount'].astype(float)\n",
    "df1['Amount (Credit)'].replace('', 0, inplace=True)\n",
    "df1['Amount (Debit)'].replace('', 0, inplace=True)\n",
    "df1['Amount (Credit)'] = df1['Amount (Credit)'].astype(float)\n",
    "df1['Amount (Debit)'] = df1['Amount (Debit)'].astype(float)"
   ]
  },
  {
   "cell_type": "code",
   "execution_count": 63,
   "metadata": {},
   "outputs": [
    {
     "data": {
      "text/plain": [
       "Date                                object\n",
       "Period                              object\n",
       "GL Account                          object\n",
       "Document Number                     object\n",
       "Program                             object\n",
       "Initiative                          object\n",
       "Project                             object\n",
       "Restriction                         object\n",
       "Grant                               object\n",
       "Amount                             float64\n",
       "Vendor Name                         object\n",
       "Employee Name                       object\n",
       "Memo                                string\n",
       "Amount (Credit)                    float64\n",
       "Amount (Debit)                     float64\n",
       "Client                              object\n",
       "Transaction Number                  object\n",
       "Type                                object\n",
       "Vendor Rate                         object\n",
       "Vendor Contract Expiration Date     object\n",
       "ALLOCATION                          object\n",
       "8005 clearing                       object\n",
       "Depreciation                        object\n",
       "AllocatedExpenses                   object\n",
       "Project Allocations                 object\n",
       "Rollup Account                      object\n",
       "Account Digit                       string\n",
       "dtype: object"
      ]
     },
     "execution_count": 63,
     "metadata": {},
     "output_type": "execute_result"
    }
   ],
   "source": [
    "df1.dtypes"
   ]
  },
  {
   "cell_type": "markdown",
   "metadata": {},
   "source": [
    "## Add Reclass Field and Closeout field"
   ]
  },
  {
   "cell_type": "code",
   "execution_count": 64,
   "metadata": {},
   "outputs": [],
   "source": [
    "account_exceptions = ['To reclass', 'Reclass', 'reclass']"
   ]
  },
  {
   "cell_type": "code",
   "execution_count": 65,
   "metadata": {},
   "outputs": [],
   "source": [
    "Accounting_Moves = '|'.join(account_exceptions)"
   ]
  },
  {
   "cell_type": "code",
   "execution_count": 66,
   "metadata": {},
   "outputs": [],
   "source": [
    "closeout = 'close out'"
   ]
  },
  {
   "cell_type": "code",
   "execution_count": 67,
   "metadata": {},
   "outputs": [],
   "source": [
    "df1['Accounting Adjustments'] = df1['Memo'].str.findall(Accounting_Moves).apply(return_first)"
   ]
  },
  {
   "cell_type": "code",
   "execution_count": 68,
   "metadata": {},
   "outputs": [],
   "source": [
    "df1['Accounting Close Out'] = df1['Memo'].str.findall(closeout).apply(return_first)"
   ]
  },
  {
   "cell_type": "code",
   "execution_count": 69,
   "metadata": {},
   "outputs": [],
   "source": [
    "df1['Vendor Contract Expiration Date'] = pd.to_datetime(df1['Vendor Contract Expiration Date'])"
   ]
  },
  {
   "cell_type": "code",
   "execution_count": 70,
   "metadata": {},
   "outputs": [],
   "source": [
    "df1['Vendor Contract Expiration Date'] = df1['Vendor Contract Expiration Date'].dt.date"
   ]
  },
  {
   "cell_type": "code",
   "execution_count": 71,
   "metadata": {},
   "outputs": [],
   "source": [
    "#df1 = pd.merge(df1, employeelisttomerge, on = 'Name', how='left')"
   ]
  },
  {
   "cell_type": "code",
   "execution_count": 72,
   "metadata": {},
   "outputs": [
    {
     "name": "stderr",
     "output_type": "stream",
     "text": [
      "C:\\Users\\jerem\\anaconda3\\lib\\site-packages\\pandas\\core\\missing.py:49: FutureWarning: elementwise comparison failed; returning scalar instead, but in the future will perform elementwise comparison\n",
      "  mask = arr == x\n"
     ]
    }
   ],
   "source": [
    "df1['Initiative'].replace('', np.nan, inplace=True)\n",
    "df1['Project'].replace('', np.nan, inplace=True)\n",
    "df1['Grant'].replace('', np.nan, inplace=True)\n",
    "df1['GL Account'].replace('', np.nan, inplace=True)\n",
    "df1['Memo'].replace('', np.nan, inplace=True)\n",
    "df1['Transaction Number'].replace('', np.nan, inplace=True)\n",
    "df1['Vendor Name'].replace('', np.nan, inplace=True)\n",
    "df1['Vendor Rate'].replace('', np.nan, inplace=True)\n",
    "df1['Vendor Contract Expiration Date'].replace('', np.nan, inplace=True)\n",
    "df1['Program'].replace('', np.nan, inplace=True)\n",
    "df1['Project Allocations'].replace('', np.nan, inplace=True)\n",
    "df1['Project Allocations'].replace('e', np.nan, inplace=True)\n",
    "df1['Accounting Adjustments'].replace('To reclass', 'Reclass', inplace=True)\n",
    "df1['Client'].replace('', np.nan, inplace=True)\n",
    "df1['Rollup Account'].replace('', np.nan, inplace=True)\n",
    "df1['Restriction'].replace('', np.nan, inplace=True)"
   ]
  },
  {
   "cell_type": "code",
   "execution_count": 73,
   "metadata": {},
   "outputs": [],
   "source": [
    "df1['Initiative'].fillna(\"na\", inplace=True)\n",
    "df1['Project'].fillna(\"na\", inplace=True)\n",
    "df1['Grant'].fillna(\"No Grant\", inplace=True)\n",
    "df1['GL Account'].fillna(\"na\", inplace=True)\n",
    "df1['Memo'].fillna(\"na\", inplace=True)\n",
    "df1['Transaction Number'].fillna(\"na\", inplace=True)\n",
    "df1['Vendor Name'].fillna(\"na\", inplace=True)\n",
    "df1['Vendor Rate'].fillna(\"na\", inplace=True)\n",
    "df1['Vendor Contract Expiration Date'].fillna(\"na\", inplace=True)\n",
    "df1['Program'].fillna(\"na\", inplace=True)\n",
    "df1['Project Allocations'].fillna(\"Other\", inplace=True)\n",
    "df1['Client'].fillna(\"na\", inplace=True)\n",
    "df1['Rollup Account'].replace(\"New Account\", np.nan, inplace=True)\n",
    "df1['Restriction'].replace(\"na\", np.nan, inplace=True)"
   ]
  },
  {
   "cell_type": "markdown",
   "metadata": {},
   "source": [
    "## Add Further Heather Calcs"
   ]
  },
  {
   "cell_type": "code",
   "execution_count": 74,
   "metadata": {},
   "outputs": [],
   "source": [
    "df1['Inst or Reclass'] = df1['Account Digit'] + df1['Accounting Adjustments']"
   ]
  },
  {
   "cell_type": "code",
   "execution_count": 75,
   "metadata": {},
   "outputs": [
    {
     "data": {
      "text/plain": [
       "7           417155\n",
       "8            69228\n",
       "5            32558\n",
       "6            13214\n",
       "7Reclass      7006\n",
       "8Reclass      1598\n",
       "5Reclass       333\n",
       "7reclass       271\n",
       "8reclass        57\n",
       "6Reclass        33\n",
       "5reclass         4\n",
       "9                2\n",
       "Name: Inst or Reclass, dtype: Int64"
      ]
     },
     "execution_count": 75,
     "metadata": {},
     "output_type": "execute_result"
    }
   ],
   "source": [
    "df1['Inst or Reclass'].value_counts()"
   ]
  },
  {
   "cell_type": "code",
   "execution_count": 76,
   "metadata": {},
   "outputs": [],
   "source": [
    "df1['Inst or Reclass'] = df1['Inst or Reclass'].map({'7': \"Expense\", '8': \"Institutional Overhead\", '5': \"Revenue\", '6': \"Revenue\", '7Reclass': \"Expense Reclass\", '8Reclass': \"Inst Overhead Reclass\", '5Reclass': \"Revenue Reclass\", '6Reclass': \"Revenue Reclass\"})"
   ]
  },
  {
   "cell_type": "markdown",
   "metadata": {},
   "source": [
    "## Unrestricted Columns Added"
   ]
  },
  {
   "cell_type": "code",
   "execution_count": 77,
   "metadata": {},
   "outputs": [],
   "source": [
    "def return_grant(x):\n",
    "    if x != \"No Grant\":\n",
    "        return \"Yes\"\n",
    "    else: \n",
    "        return \"No\"\n",
    "    \n",
    "    "
   ]
  },
  {
   "cell_type": "code",
   "execution_count": 78,
   "metadata": {},
   "outputs": [],
   "source": [
    "df1['grant?'] = df1['Grant'].apply(return_grant)"
   ]
  },
  {
   "cell_type": "code",
   "execution_count": 79,
   "metadata": {},
   "outputs": [],
   "source": [
    "df1[\"Restricted Revenue\"] = df1['grant?'] + df1['Account Digit']"
   ]
  },
  {
   "cell_type": "code",
   "execution_count": 80,
   "metadata": {},
   "outputs": [],
   "source": [
    "df1[\"Restricted Revenue\"] = df1[\"Restricted Revenue\"].map({'No7': \"No\", 'Yes7': \"Restricted Revenue\", 'No8': \"No\", 'No5': \"No\", 'Yes8': \"Restricted Revenue\", 'Yes6': \"No\", 'No6': \"No\", 'Yes5': \"No\"})"
   ]
  },
  {
   "cell_type": "code",
   "execution_count": 81,
   "metadata": {},
   "outputs": [],
   "source": [
    "df1['Restricted Revenue'] = np.where(df1['Restricted Revenue'] == \"Restricted Revenue\", df1['Amount'], 0)"
   ]
  },
  {
   "cell_type": "code",
   "execution_count": 82,
   "metadata": {},
   "outputs": [],
   "source": [
    "df1[\"Rev or Exp\"] = df1[\"Account Digit\"].map({'6': 'Revenue', '5': 'Revenue', '7': 'Expense', '8': 'Expense'})"
   ]
  },
  {
   "cell_type": "code",
   "execution_count": 83,
   "metadata": {},
   "outputs": [
    {
     "data": {
      "text/plain": [
       "Expense    495315\n",
       "Revenue     46142\n",
       "Name: Rev or Exp, dtype: int64"
      ]
     },
     "execution_count": 83,
     "metadata": {},
     "output_type": "execute_result"
    }
   ],
   "source": [
    "df1[\"Rev or Exp\"].value_counts()"
   ]
  },
  {
   "cell_type": "code",
   "execution_count": 84,
   "metadata": {},
   "outputs": [],
   "source": [
    "df1['Multilateral'] = np.where(df1['Rev or Exp'] == \"Revenue\", df1['Amount'], 0)"
   ]
  },
  {
   "cell_type": "code",
   "execution_count": 85,
   "metadata": {},
   "outputs": [],
   "source": [
    "df1['General Expense'] = np.where(df1['Rev or Exp'] == \"Expense\", df1['Amount'], 0)"
   ]
  },
  {
   "cell_type": "code",
   "execution_count": 86,
   "metadata": {},
   "outputs": [],
   "source": [
    "df1['Unrestricted'] = - df1['Restricted Revenue'] - df1['Multilateral'] + df1['General Expense']"
   ]
  },
  {
   "cell_type": "code",
   "execution_count": 87,
   "metadata": {},
   "outputs": [],
   "source": [
    "#df1 = df1.drop('Match ID Names',1)"
   ]
  },
  {
   "cell_type": "code",
   "execution_count": 88,
   "metadata": {},
   "outputs": [
    {
     "data": {
      "text/plain": [
       "541462"
      ]
     },
     "execution_count": 88,
     "metadata": {},
     "output_type": "execute_result"
    }
   ],
   "source": [
    "len(df1)"
   ]
  },
  {
   "cell_type": "markdown",
   "metadata": {},
   "source": [
    "## Build FFS Tables"
   ]
  },
  {
   "cell_type": "code",
   "execution_count": 89,
   "metadata": {},
   "outputs": [],
   "source": [
    "df1['Project3YrRev'] = df1.groupby(['Project','Rev or Exp'])['Amount'].transform('sum')\n",
    "\n",
    "dfrevenuetable = df1[['Project', 'Project3YrRev','Rev or Exp']]\n",
    "\n",
    "#dfrevenuetable = dfrevenuetable[dfrevenuetable['Rev or Exp']=='Revenue']\n"
   ]
  },
  {
   "cell_type": "code",
   "execution_count": 90,
   "metadata": {},
   "outputs": [
    {
     "name": "stderr",
     "output_type": "stream",
     "text": [
      "<ipython-input-90-5491e83c7e5f>:3: SettingWithCopyWarning: \n",
      "A value is trying to be set on a copy of a slice from a DataFrame.\n",
      "Try using .loc[row_indexer,col_indexer] = value instead\n",
      "\n",
      "See the caveats in the documentation: https://pandas.pydata.org/pandas-docs/stable/user_guide/indexing.html#returning-a-view-versus-a-copy\n",
      "  initiative_program_table['Project-edited'] = initiative_program_table['Client'] + \" : \" + initiative_program_table['Project']\n"
     ]
    }
   ],
   "source": [
    "initiative_program_table = dfMAVELINKACTIVEPROJECTS[['Program', 'Initiative', 'Project', 'Client']]\n",
    "\n",
    "initiative_program_table['Project-edited'] = initiative_program_table['Client'] + \" : \" + initiative_program_table['Project']\n",
    "\n",
    "initiative_program_table = initiative_program_table.drop_duplicates()\n",
    "\n",
    "initiative_program_table = initiative_program_table[['Program', 'Initiative', 'Project-edited']]\n",
    "\n",
    "initiative_program_table = initiative_program_table.rename(columns={'Project-edited':'Project'})"
   ]
  },
  {
   "cell_type": "code",
   "execution_count": 91,
   "metadata": {},
   "outputs": [],
   "source": [
    "initiative_program_table2 = df1[['Program', 'Initiative', 'Project']]"
   ]
  },
  {
   "cell_type": "code",
   "execution_count": 92,
   "metadata": {},
   "outputs": [],
   "source": [
    "initiative_program_table = pd.concat([initiative_program_table, initiative_program_table2], ignore_index=True)\n",
    "\n",
    "initiative_program_table = initiative_program_table.drop_duplicates()"
   ]
  },
  {
   "cell_type": "code",
   "execution_count": 93,
   "metadata": {},
   "outputs": [
    {
     "data": {
      "text/html": [
       "<div>\n",
       "<style scoped>\n",
       "    .dataframe tbody tr th:only-of-type {\n",
       "        vertical-align: middle;\n",
       "    }\n",
       "\n",
       "    .dataframe tbody tr th {\n",
       "        vertical-align: top;\n",
       "    }\n",
       "\n",
       "    .dataframe thead th {\n",
       "        text-align: right;\n",
       "    }\n",
       "</style>\n",
       "<table border=\"1\" class=\"dataframe\">\n",
       "  <thead>\n",
       "    <tr style=\"text-align: right;\">\n",
       "      <th></th>\n",
       "      <th>Program</th>\n",
       "      <th>Initiative</th>\n",
       "      <th>Project</th>\n",
       "    </tr>\n",
       "  </thead>\n",
       "  <tbody>\n",
       "    <tr>\n",
       "      <th>0</th>\n",
       "      <td>Industry</td>\n",
       "      <td>INY - Aviation</td>\n",
       "      <td>WSP : SFO SAF Feasibility</td>\n",
       "    </tr>\n",
       "    <tr>\n",
       "      <th>1</th>\n",
       "      <td>India</td>\n",
       "      <td>IN - India</td>\n",
       "      <td>WSP : Microsoft ZE Fleet Initiative</td>\n",
       "    </tr>\n",
       "    <tr>\n",
       "      <th>2</th>\n",
       "      <td>China</td>\n",
       "      <td>CHN - Early Peaking Cities</td>\n",
       "      <td>World Wide Fund for Nature Beijing Office - US...</td>\n",
       "    </tr>\n",
       "    <tr>\n",
       "      <th>3</th>\n",
       "      <td>Beijing</td>\n",
       "      <td>BEJ - Early Peaking Cities</td>\n",
       "      <td>World Wide Fund for Nature Beijing Office - CN...</td>\n",
       "    </tr>\n",
       "    <tr>\n",
       "      <th>4</th>\n",
       "      <td>Operations</td>\n",
       "      <td>OPS - CEO Special Projects</td>\n",
       "      <td>World Resources Institute (WRI) : America's Pl...</td>\n",
       "    </tr>\n",
       "    <tr>\n",
       "      <th>...</th>\n",
       "      <td>...</td>\n",
       "      <td>...</td>\n",
       "      <td>...</td>\n",
       "    </tr>\n",
       "    <tr>\n",
       "      <th>538531</th>\n",
       "      <td>Strategic Analysis and Engagement</td>\n",
       "      <td>SAE - Admin</td>\n",
       "      <td>*Unrestricted : Portfolio Impact Accelerator</td>\n",
       "    </tr>\n",
       "    <tr>\n",
       "      <th>539682</th>\n",
       "      <td>US</td>\n",
       "      <td>US - Admin</td>\n",
       "      <td>*Unrestricted : Codes for Climate [IIF]</td>\n",
       "    </tr>\n",
       "    <tr>\n",
       "      <th>540255</th>\n",
       "      <td>US</td>\n",
       "      <td>US - Beyond Carbon</td>\n",
       "      <td>United Nations Foundation (UNF) : New Mexico A...</td>\n",
       "    </tr>\n",
       "    <tr>\n",
       "      <th>542181</th>\n",
       "      <td>Urban Transformation</td>\n",
       "      <td>UT - City Renewable Accelerator</td>\n",
       "      <td>European Climate Foundation (ECF) : GCoM/ECF: ...</td>\n",
       "    </tr>\n",
       "    <tr>\n",
       "      <th>542479</th>\n",
       "      <td>WattTime</td>\n",
       "      <td>WAT - Admin</td>\n",
       "      <td>The Regents of the University of CA WT</td>\n",
       "    </tr>\n",
       "  </tbody>\n",
       "</table>\n",
       "<p>2192 rows × 3 columns</p>\n",
       "</div>"
      ],
      "text/plain": [
       "                                  Program                       Initiative  \\\n",
       "0                                Industry                   INY - Aviation   \n",
       "1                                   India                       IN - India   \n",
       "2                                   China       CHN - Early Peaking Cities   \n",
       "3                                 Beijing       BEJ - Early Peaking Cities   \n",
       "4                              Operations       OPS - CEO Special Projects   \n",
       "...                                   ...                              ...   \n",
       "538531  Strategic Analysis and Engagement                      SAE - Admin   \n",
       "539682                                 US                       US - Admin   \n",
       "540255                                 US               US - Beyond Carbon   \n",
       "542181               Urban Transformation  UT - City Renewable Accelerator   \n",
       "542479                           WattTime                      WAT - Admin   \n",
       "\n",
       "                                                  Project  \n",
       "0                               WSP : SFO SAF Feasibility  \n",
       "1                     WSP : Microsoft ZE Fleet Initiative  \n",
       "2       World Wide Fund for Nature Beijing Office - US...  \n",
       "3       World Wide Fund for Nature Beijing Office - CN...  \n",
       "4       World Resources Institute (WRI) : America's Pl...  \n",
       "...                                                   ...  \n",
       "538531       *Unrestricted : Portfolio Impact Accelerator  \n",
       "539682            *Unrestricted : Codes for Climate [IIF]  \n",
       "540255  United Nations Foundation (UNF) : New Mexico A...  \n",
       "542181  European Climate Foundation (ECF) : GCoM/ECF: ...  \n",
       "542479             The Regents of the University of CA WT  \n",
       "\n",
       "[2192 rows x 3 columns]"
      ]
     },
     "execution_count": 93,
     "metadata": {},
     "output_type": "execute_result"
    }
   ],
   "source": [
    "initiative_program_table"
   ]
  },
  {
   "cell_type": "code",
   "execution_count": 94,
   "metadata": {},
   "outputs": [],
   "source": [
    "initiative_program_table.loc[(initiative_program_table['Initiative'] == 'GCF - Center for a Climate-Aligned Finance'), 'Program'] = 'Finance'  "
   ]
  },
  {
   "cell_type": "code",
   "execution_count": 95,
   "metadata": {},
   "outputs": [
    {
     "data": {
      "text/plain": [
       "Program                     Initiative                              \n",
       "Climate Aligned Industries  CAI - Center for Climate Aligned Finance    6\n",
       "                            CAI - Hydrogen                              5\n",
       "                            CAI - MPP                                   4\n",
       "                            CAI - Admin                                 4\n",
       "                            CAI - Business Development                  2\n",
       "                            CAI - Aviation                              2\n",
       "dtype: int64"
      ]
     },
     "execution_count": 95,
     "metadata": {},
     "output_type": "execute_result"
    }
   ],
   "source": [
    "initiative_program_table[initiative_program_table['Program']=='Climate Aligned Industries'][['Program','Initiative']].value_counts()"
   ]
  },
  {
   "cell_type": "code",
   "execution_count": 96,
   "metadata": {},
   "outputs": [],
   "source": [
    "dfFFSData = dfFFSData.rename(columns={'Name':'Project'})\n",
    "dfFFSIncludingDeferred = dfFFSIncludingDeferred.rename(columns={'Sum of Total Revenue Recognized':'Total Revenue Recognized'})\n",
    "dfFFSData2 = dfFFSData2.rename(columns={'Current Month Invoicing Action':'Current Month Action'})\n",
    "dfFFSData2 = dfFFSData2.rename(columns={'Name':'Project'})"
   ]
  },
  {
   "cell_type": "code",
   "execution_count": 97,
   "metadata": {},
   "outputs": [],
   "source": [
    "dfFFSData2['DUPLICATE'] = dfFFSData2['Project'].isin(dfFFSData['Project'])"
   ]
  },
  {
   "cell_type": "code",
   "execution_count": 98,
   "metadata": {},
   "outputs": [],
   "source": [
    "dfFFSData2 = dfFFSData2[dfFFSData2['DUPLICATE']==False]"
   ]
  },
  {
   "cell_type": "code",
   "execution_count": 99,
   "metadata": {},
   "outputs": [],
   "source": [
    "dfFFSData2 = dfFFSData2[['Project', 'Project Type', 'Contract?', 'Contract Start Date',\n",
    "       'Contract End Date', 'Contract Amount', 'Invoice Type',\n",
    "       'Invoicing Notes', 'Current Month Action', 'Project Complete?']]"
   ]
  },
  {
   "cell_type": "code",
   "execution_count": 100,
   "metadata": {},
   "outputs": [],
   "source": [
    "dfFFSData = pd.concat([dfFFSData, dfFFSData2], ignore_index=True)"
   ]
  },
  {
   "cell_type": "code",
   "execution_count": 101,
   "metadata": {},
   "outputs": [],
   "source": [
    "dfFFSData = pd.merge(dfFFSData, dfFFSIncludingDeferred, on = 'Project', how='left')\n"
   ]
  },
  {
   "cell_type": "code",
   "execution_count": 102,
   "metadata": {},
   "outputs": [],
   "source": [
    "dfFFSData['Total Revenue Recognized'].replace('', np.nan, inplace=True)\n",
    "dfFFSData['Total Revenue Recognized'].fillna(0, inplace=True)\n",
    "dfFFSData['Reimbursables NTE'].replace('', np.nan, inplace=True)\n",
    "dfFFSData['Reimbursables NTE'].fillna(0, inplace=True)\n",
    "dfFFSData['Invoice Type'].replace('', np.nan, inplace=True)\n",
    "dfFFSData['Invoice Type'].fillna(0, inplace=True)\n",
    "dfFFSData['Invoicing Notes'].replace('', np.nan, inplace=True)\n",
    "dfFFSData['Invoicing Notes'].fillna(0, inplace=True)\n",
    "dfFFSData['Current Month Action'].replace('', np.nan, inplace=True)\n",
    "dfFFSData['Current Month Action'].fillna(0, inplace=True)\n",
    "dfFFSData['Contract Amount'].replace('', np.nan, inplace=True)\n",
    "dfFFSData['Contract Amount'].fillna(0, inplace=True)\n",
    "dfFFSData['Remaining Contract Balance'].replace('', np.nan, inplace=True)\n",
    "dfFFSData['Remaining Contract Balance'].fillna(0, inplace=True)"
   ]
  },
  {
   "cell_type": "code",
   "execution_count": 103,
   "metadata": {},
   "outputs": [],
   "source": [
    "dfFFSData['Contract Amount'] = dfFFSData['Contract Amount'].astype(float)\n",
    "dfFFSData['Total Revenue Recognized'] = dfFFSData['Total Revenue Recognized'].astype(float)\n",
    "dfFFSData['Reimbursables NTE'] = dfFFSData['Reimbursables NTE'].astype(float)\n",
    "dfFFSData['Reimbursables Actual'] = dfFFSData['Reimbursables Actual'].astype(float)"
   ]
  },
  {
   "cell_type": "code",
   "execution_count": 104,
   "metadata": {},
   "outputs": [],
   "source": [
    "dfFFSData['Remaining Revenue'] = dfFFSData['Contract Amount'] + dfFFSData['Reimbursables NTE'] - dfFFSData['Total Revenue Recognized']"
   ]
  },
  {
   "cell_type": "code",
   "execution_count": 105,
   "metadata": {},
   "outputs": [],
   "source": [
    "dfFFSData.loc[dfFFSData['Remaining Revenue'] <= 0, 'Remaining Revenue'] = \"na\"\n",
    "dfFFSData.loc[dfFFSData['Contract Amount'] <= 0, 'Contract Amount'] = \"na\""
   ]
  },
  {
   "cell_type": "code",
   "execution_count": 106,
   "metadata": {},
   "outputs": [],
   "source": [
    "dfFFSData['Contract Start Date'] = pd.to_datetime(dfFFSData['Contract Start Date']).dt.strftime(\"%m/%d/%Y\")\n",
    "dfFFSData['Contract End Date'] = pd.to_datetime(dfFFSData['Contract End Date']).dt.strftime(\"%m/%d/%Y\")"
   ]
  },
  {
   "cell_type": "code",
   "execution_count": 107,
   "metadata": {},
   "outputs": [],
   "source": [
    "dfFFSDataV2 = dfFFSData\n",
    "\n",
    "dfFFSDataV2 = pd.merge(dfFFSDataV2, initiative_program_table, on = 'Project', how='left')\n",
    "\n",
    "dfFFSDataV2 = pd.merge(dfFFSDataV2, dfrevenuetable, on = 'Project', how='left')\n",
    "\n",
    "dfFFSDataV2 = dfFFSDataV2.drop_duplicates()"
   ]
  },
  {
   "cell_type": "code",
   "execution_count": 108,
   "metadata": {},
   "outputs": [],
   "source": [
    "dfFFSDataV2 = dfFFSDataV2[dfFFSDataV2['Project'] != \"Overall Total\"]"
   ]
  },
  {
   "cell_type": "code",
   "execution_count": 109,
   "metadata": {},
   "outputs": [],
   "source": [
    "dfFFSDataV2['Rev or Exp'].replace('', np.nan, inplace=True)\n",
    "dfFFSDataV2['Rev or Exp'].fillna(0, inplace=True)\n",
    "dfFFSDataV2['Reimbursables NTE'].replace('', np.nan, inplace=True)\n",
    "dfFFSDataV2['Reimbursables NTE'].fillna('na', inplace=True)\n",
    "dfFFSDataV2['Contract Start Date'].replace('', np.nan, inplace=True)\n",
    "dfFFSDataV2['Contract Start Date'].fillna('na', inplace=True)\n",
    "dfFFSDataV2['Contract End Date'].replace('', np.nan, inplace=True)\n",
    "dfFFSDataV2['Contract End Date'].fillna('na', inplace=True)"
   ]
  },
  {
   "cell_type": "code",
   "execution_count": 110,
   "metadata": {},
   "outputs": [],
   "source": [
    "PROJECTSWITHOUTINITIATIVES = dfFFSDataV2[pd.isnull(dfFFSDataV2['Initiative'])]"
   ]
  },
  {
   "cell_type": "code",
   "execution_count": 111,
   "metadata": {},
   "outputs": [
    {
     "data": {
      "text/html": [
       "<div>\n",
       "<style scoped>\n",
       "    .dataframe tbody tr th:only-of-type {\n",
       "        vertical-align: middle;\n",
       "    }\n",
       "\n",
       "    .dataframe tbody tr th {\n",
       "        vertical-align: top;\n",
       "    }\n",
       "\n",
       "    .dataframe thead th {\n",
       "        text-align: right;\n",
       "    }\n",
       "</style>\n",
       "<table border=\"1\" class=\"dataframe\">\n",
       "  <thead>\n",
       "    <tr style=\"text-align: right;\">\n",
       "      <th></th>\n",
       "      <th>Invoice Type</th>\n",
       "      <th>Main RMI Contact</th>\n",
       "      <th>Client</th>\n",
       "      <th>Project</th>\n",
       "      <th>Project Type</th>\n",
       "      <th>Contract?</th>\n",
       "      <th>Contract Start Date</th>\n",
       "      <th>Contract End Date</th>\n",
       "      <th>Invoicing Notes</th>\n",
       "      <th>Current Month Action</th>\n",
       "      <th>...</th>\n",
       "      <th>Reimbursables NTE</th>\n",
       "      <th>Reimbursables Actual</th>\n",
       "      <th>Remaining Contract Balance</th>\n",
       "      <th>Project Complete?</th>\n",
       "      <th>Total Revenue Recognized</th>\n",
       "      <th>Remaining Revenue</th>\n",
       "      <th>Program</th>\n",
       "      <th>Initiative</th>\n",
       "      <th>Project3YrRev</th>\n",
       "      <th>Rev or Exp</th>\n",
       "    </tr>\n",
       "  </thead>\n",
       "  <tbody>\n",
       "    <tr>\n",
       "      <th>20800</th>\n",
       "      <td>Hourly plus reimbursables</td>\n",
       "      <td>Rebecca Esau</td>\n",
       "      <td>New Buildings Institute (NBI)</td>\n",
       "      <td>New Buildings Institute (NBI) : NYSERDA CNBR W...</td>\n",
       "      <td>FFS</td>\n",
       "      <td>Yes</td>\n",
       "      <td>05/27/2020</td>\n",
       "      <td>10/31/2021</td>\n",
       "      <td>We booked two invoices for this project under ...</td>\n",
       "      <td>8/6 no time in July, sent to RE 5/6, 2018 send...</td>\n",
       "      <td>...</td>\n",
       "      <td>0.0</td>\n",
       "      <td>0.00</td>\n",
       "      <td>94373.00</td>\n",
       "      <td>NaN</td>\n",
       "      <td>78354.5</td>\n",
       "      <td>49133.5</td>\n",
       "      <td>NaN</td>\n",
       "      <td>NaN</td>\n",
       "      <td>NaN</td>\n",
       "      <td>0</td>\n",
       "    </tr>\n",
       "    <tr>\n",
       "      <th>34436</th>\n",
       "      <td>Overall Total</td>\n",
       "      <td></td>\n",
       "      <td></td>\n",
       "      <td></td>\n",
       "      <td></td>\n",
       "      <td></td>\n",
       "      <td>na</td>\n",
       "      <td>na</td>\n",
       "      <td>0</td>\n",
       "      <td>0</td>\n",
       "      <td>...</td>\n",
       "      <td>0.0</td>\n",
       "      <td>2701043.74</td>\n",
       "      <td>0</td>\n",
       "      <td>NaN</td>\n",
       "      <td>0.0</td>\n",
       "      <td>na</td>\n",
       "      <td>NaN</td>\n",
       "      <td>NaN</td>\n",
       "      <td>NaN</td>\n",
       "      <td>0</td>\n",
       "    </tr>\n",
       "  </tbody>\n",
       "</table>\n",
       "<p>2 rows × 23 columns</p>\n",
       "</div>"
      ],
      "text/plain": [
       "                    Invoice Type Main RMI Contact  \\\n",
       "20800  Hourly plus reimbursables     Rebecca Esau   \n",
       "34436              Overall Total                    \n",
       "\n",
       "                              Client  \\\n",
       "20800  New Buildings Institute (NBI)   \n",
       "34436                                  \n",
       "\n",
       "                                                 Project Project Type  \\\n",
       "20800  New Buildings Institute (NBI) : NYSERDA CNBR W...          FFS   \n",
       "34436                                                                   \n",
       "\n",
       "      Contract? Contract Start Date Contract End Date  \\\n",
       "20800       Yes          05/27/2020        10/31/2021   \n",
       "34436                            na                na   \n",
       "\n",
       "                                         Invoicing Notes  \\\n",
       "20800  We booked two invoices for this project under ...   \n",
       "34436                                                  0   \n",
       "\n",
       "                                    Current Month Action  ...  \\\n",
       "20800  8/6 no time in July, sent to RE 5/6, 2018 send...  ...   \n",
       "34436                                                  0  ...   \n",
       "\n",
       "      Reimbursables NTE Reimbursables Actual Remaining Contract Balance  \\\n",
       "20800               0.0                 0.00                   94373.00   \n",
       "34436               0.0           2701043.74                          0   \n",
       "\n",
       "       Project Complete?  Total Revenue Recognized Remaining Revenue Program  \\\n",
       "20800                NaN                   78354.5           49133.5     NaN   \n",
       "34436                NaN                       0.0                na     NaN   \n",
       "\n",
       "       Initiative Project3YrRev Rev or Exp  \n",
       "20800         NaN           NaN          0  \n",
       "34436         NaN           NaN          0  \n",
       "\n",
       "[2 rows x 23 columns]"
      ]
     },
     "execution_count": 111,
     "metadata": {},
     "output_type": "execute_result"
    }
   ],
   "source": [
    "PROJECTSWITHOUTINITIATIVES"
   ]
  },
  {
   "cell_type": "code",
   "execution_count": 112,
   "metadata": {},
   "outputs": [],
   "source": [
    "dfFFSDataV2.to_excel(\"FFSOpen.xlsx\")"
   ]
  },
  {
   "cell_type": "code",
   "execution_count": 113,
   "metadata": {},
   "outputs": [],
   "source": [
    "dfFFSDataZeros = dfFFSDataV2[dfFFSDataV2['Rev or Exp']==0]"
   ]
  },
  {
   "cell_type": "code",
   "execution_count": 114,
   "metadata": {},
   "outputs": [],
   "source": [
    "#dfFFSDataZeros.to_excel('dfzeros.xlsx')"
   ]
  },
  {
   "cell_type": "markdown",
   "metadata": {},
   "source": [
    "## Add critical datapoints to Netsuite Report from RMI Fee for Service Report "
   ]
  },
  {
   "cell_type": "code",
   "execution_count": 115,
   "metadata": {},
   "outputs": [
    {
     "data": {
      "text/plain": [
       "Index(['Project', 'Project Type', 'Contract?', 'Contract Start Date',\n",
       "       'Contract End Date', 'Invoice Type', 'Invoicing Notes',\n",
       "       'Current Month Action', 'Revenue Recognition Notes', 'Contract Amount',\n",
       "       'Total Revenue Recognized', 'Reimbursables NTE', 'Reimbursables Actual',\n",
       "       'Remaining Revenue'],\n",
       "      dtype='object')"
      ]
     },
     "execution_count": 115,
     "metadata": {},
     "output_type": "execute_result"
    }
   ],
   "source": [
    "dfFFSDataedited = dfFFSData[['Project', 'Project Type', 'Contract?',\n",
    "       'Contract Start Date', 'Contract End Date', 'Invoice Type',\n",
    "       'Invoicing Notes', 'Current Month Action', 'Revenue Recognition Notes',\n",
    "       'Contract Amount', 'Total Revenue Recognized', 'Reimbursables NTE',\n",
    "       'Reimbursables Actual', 'Remaining Revenue']]\n",
    "\n",
    "\n",
    "dfFFSDataedited.columns"
   ]
  },
  {
   "cell_type": "code",
   "execution_count": 116,
   "metadata": {},
   "outputs": [],
   "source": [
    "df1 = pd.merge(df1, dfFFSDataedited, on = 'Project', how='left')"
   ]
  },
  {
   "cell_type": "code",
   "execution_count": 117,
   "metadata": {},
   "outputs": [
    {
     "data": {
      "text/plain": [
       "541462"
      ]
     },
     "execution_count": 117,
     "metadata": {},
     "output_type": "execute_result"
    }
   ],
   "source": [
    "len(df1)"
   ]
  },
  {
   "cell_type": "code",
   "execution_count": 118,
   "metadata": {},
   "outputs": [
    {
     "data": {
      "text/plain": [
       "Index(['Date', 'Period', 'GL Account', 'Document Number', 'Program',\n",
       "       'Initiative', 'Project', 'Restriction', 'Grant', 'Amount',\n",
       "       'Vendor Name', 'Employee Name', 'Memo', 'Amount (Credit)',\n",
       "       'Amount (Debit)', 'Client', 'Transaction Number', 'Type', 'Vendor Rate',\n",
       "       'Vendor Contract Expiration Date', 'ALLOCATION', '8005 clearing',\n",
       "       'Depreciation', 'AllocatedExpenses', 'Project Allocations',\n",
       "       'Rollup Account', 'Account Digit', 'Accounting Adjustments',\n",
       "       'Accounting Close Out', 'Inst or Reclass', 'grant?',\n",
       "       'Restricted Revenue', 'Rev or Exp', 'Multilateral', 'General Expense',\n",
       "       'Unrestricted', 'Project3YrRev', 'Project Type', 'Contract?',\n",
       "       'Contract Start Date', 'Contract End Date', 'Invoice Type',\n",
       "       'Invoicing Notes', 'Current Month Action', 'Revenue Recognition Notes',\n",
       "       'Contract Amount', 'Total Revenue Recognized', 'Reimbursables NTE',\n",
       "       'Reimbursables Actual', 'Remaining Revenue'],\n",
       "      dtype='object')"
      ]
     },
     "execution_count": 118,
     "metadata": {},
     "output_type": "execute_result"
    }
   ],
   "source": [
    "df1.columns"
   ]
  },
  {
   "cell_type": "code",
   "execution_count": 119,
   "metadata": {},
   "outputs": [],
   "source": [
    "df1['Project Type'].replace('', np.nan, inplace=True)\n",
    "df1['Contract?'].replace('', np.nan, inplace=True)\n",
    "df1['Contract Start Date'].replace('', np.nan, inplace=True)\n",
    "df1['Contract End Date'].replace('', np.nan, inplace=True)\n",
    "df1['Invoice Type'].replace('', np.nan, inplace=True)\n",
    "df1['Invoicing Notes'].replace('', np.nan, inplace=True)\n",
    "df1['Current Month Action'].replace('', np.nan, inplace=True)\n",
    "df1['Revenue Recognition Notes'].replace('', np.nan, inplace=True)\n",
    "df1['Contract Amount'].replace('', np.nan, inplace=True)\n",
    "df1['Total Revenue Recognized'].replace('', np.nan, inplace=True)\n",
    "df1['Reimbursables NTE'].replace('', np.nan, inplace=True)\n",
    "df1['Reimbursables Actual'].replace('', inplace=True)\n",
    "df1['Remaining Revenue'].replace('', np.nan, inplace=True)"
   ]
  },
  {
   "cell_type": "code",
   "execution_count": 120,
   "metadata": {},
   "outputs": [],
   "source": [
    "df1['Project Type'].fillna(\"na\", inplace=True)\n",
    "df1['Contract?'].fillna(\"na\", inplace=True)\n",
    "df1['Contract Start Date'].fillna(\"na\", inplace=True)\n",
    "df1['Contract End Date'].fillna(\"na\", inplace=True)\n",
    "df1['Invoice Type'].fillna(\"na\", inplace=True)\n",
    "df1['Invoicing Notes'].fillna(\"na\", inplace=True)\n",
    "df1['Current Month Action'].fillna(\"na\", inplace=True)\n",
    "df1['Revenue Recognition Notes'].fillna(\"na\", inplace=True)\n",
    "df1['Contract Amount'].fillna(\"na\", inplace=True)\n",
    "df1['Total Revenue Recognized'].fillna(\"na\", inplace=True)\n",
    "df1['Reimbursables NTE'].fillna(\"na\", inplace=True)\n",
    "df1['Reimbursables Actual'].fillna(\"na\", inplace=True)\n",
    "df1['Remaining Revenue'].fillna(\"na\", inplace=True)"
   ]
  },
  {
   "cell_type": "markdown",
   "metadata": {},
   "source": [
    "## Grant Balance Data Manipulation"
   ]
  },
  {
   "cell_type": "code",
   "execution_count": 121,
   "metadata": {},
   "outputs": [],
   "source": [
    "dfGrantBalances = dfGrantBalances[dfGrantBalances['Grant'].notna()]"
   ]
  },
  {
   "cell_type": "code",
   "execution_count": 122,
   "metadata": {},
   "outputs": [],
   "source": [
    "dfGrantBalancescopy = dfGrantBalances[['Grant', 'Amount Received', 'Total Grant Spend', 'Institutional Overhead Note', 'Institutional Overhead', 'Grant Balance', 'Grant Close Date (Adaptive Sheet)', 'Grant Start Date', 'Grant Revenue Date', 'Soft Close Date']]"
   ]
  },
  {
   "cell_type": "code",
   "execution_count": 123,
   "metadata": {},
   "outputs": [
    {
     "name": "stderr",
     "output_type": "stream",
     "text": [
      "<ipython-input-123-13c56aec49e9>:1: SettingWithCopyWarning: \n",
      "A value is trying to be set on a copy of a slice from a DataFrame.\n",
      "Try using .loc[row_indexer,col_indexer] = value instead\n",
      "\n",
      "See the caveats in the documentation: https://pandas.pydata.org/pandas-docs/stable/user_guide/indexing.html#returning-a-view-versus-a-copy\n",
      "  dfGrantBalancescopy['Grant Start Date'] = pd.to_datetime(dfGrantBalancescopy['Grant Start Date']).dt.strftime(\"%m/%d/%Y\")\n",
      "<ipython-input-123-13c56aec49e9>:2: SettingWithCopyWarning: \n",
      "A value is trying to be set on a copy of a slice from a DataFrame.\n",
      "Try using .loc[row_indexer,col_indexer] = value instead\n",
      "\n",
      "See the caveats in the documentation: https://pandas.pydata.org/pandas-docs/stable/user_guide/indexing.html#returning-a-view-versus-a-copy\n",
      "  dfGrantBalancescopy['Grant Revenue Date'] = pd.to_datetime(dfGrantBalancescopy['Grant Revenue Date']).dt.strftime(\"%m/%d/%Y\")\n",
      "<ipython-input-123-13c56aec49e9>:3: SettingWithCopyWarning: \n",
      "A value is trying to be set on a copy of a slice from a DataFrame.\n",
      "Try using .loc[row_indexer,col_indexer] = value instead\n",
      "\n",
      "See the caveats in the documentation: https://pandas.pydata.org/pandas-docs/stable/user_guide/indexing.html#returning-a-view-versus-a-copy\n",
      "  dfGrantBalancescopy['Grant Close Date (Adaptive Sheet)'] = pd.to_datetime(dfGrantBalancescopy['Grant Close Date (Adaptive Sheet)']).dt.strftime(\"%m/%d/%Y\")\n"
     ]
    }
   ],
   "source": [
    "dfGrantBalancescopy['Grant Start Date'] = pd.to_datetime(dfGrantBalancescopy['Grant Start Date']).dt.strftime(\"%m/%d/%Y\")\n",
    "dfGrantBalancescopy['Grant Revenue Date'] = pd.to_datetime(dfGrantBalancescopy['Grant Revenue Date']).dt.strftime(\"%m/%d/%Y\")\n",
    "dfGrantBalancescopy['Grant Close Date (Adaptive Sheet)'] = pd.to_datetime(dfGrantBalancescopy['Grant Close Date (Adaptive Sheet)']).dt.strftime(\"%m/%d/%Y\")"
   ]
  },
  {
   "cell_type": "code",
   "execution_count": 124,
   "metadata": {},
   "outputs": [
    {
     "name": "stderr",
     "output_type": "stream",
     "text": [
      "<ipython-input-124-58b9aca68eff>:1: SettingWithCopyWarning: \n",
      "A value is trying to be set on a copy of a slice from a DataFrame.\n",
      "Try using .loc[row_indexer,col_indexer] = value instead\n",
      "\n",
      "See the caveats in the documentation: https://pandas.pydata.org/pandas-docs/stable/user_guide/indexing.html#returning-a-view-versus-a-copy\n",
      "  dfGrantBalancescopy['Amount Received'] = dfGrantBalancescopy['Amount Received'].astype(float)\n",
      "<ipython-input-124-58b9aca68eff>:2: SettingWithCopyWarning: \n",
      "A value is trying to be set on a copy of a slice from a DataFrame.\n",
      "Try using .loc[row_indexer,col_indexer] = value instead\n",
      "\n",
      "See the caveats in the documentation: https://pandas.pydata.org/pandas-docs/stable/user_guide/indexing.html#returning-a-view-versus-a-copy\n",
      "  dfGrantBalancescopy['Total Grant Spend'] = dfGrantBalancescopy['Total Grant Spend'].astype(float)\n",
      "<ipython-input-124-58b9aca68eff>:3: SettingWithCopyWarning: \n",
      "A value is trying to be set on a copy of a slice from a DataFrame.\n",
      "Try using .loc[row_indexer,col_indexer] = value instead\n",
      "\n",
      "See the caveats in the documentation: https://pandas.pydata.org/pandas-docs/stable/user_guide/indexing.html#returning-a-view-versus-a-copy\n",
      "  dfGrantBalancescopy['Institutional Overhead'] = dfGrantBalancescopy['Institutional Overhead'].astype(float)\n",
      "<ipython-input-124-58b9aca68eff>:4: SettingWithCopyWarning: \n",
      "A value is trying to be set on a copy of a slice from a DataFrame.\n",
      "Try using .loc[row_indexer,col_indexer] = value instead\n",
      "\n",
      "See the caveats in the documentation: https://pandas.pydata.org/pandas-docs/stable/user_guide/indexing.html#returning-a-view-versus-a-copy\n",
      "  dfGrantBalancescopy['Grant Balance'] = dfGrantBalancescopy['Grant Balance'].astype(float)\n"
     ]
    }
   ],
   "source": [
    "dfGrantBalancescopy['Amount Received'] = dfGrantBalancescopy['Amount Received'].astype(float)\n",
    "dfGrantBalancescopy['Total Grant Spend'] = dfGrantBalancescopy['Total Grant Spend'].astype(float)\n",
    "dfGrantBalancescopy['Institutional Overhead'] = dfGrantBalancescopy['Institutional Overhead'].astype(float)\n",
    "dfGrantBalancescopy['Grant Balance'] = dfGrantBalancescopy['Grant Balance'].astype(float)\n",
    "#dfGrantBalancescopy['Close Date Notes'] = dfGrantBalancescopy['Close Date Notes'].astype(str)"
   ]
  },
  {
   "cell_type": "code",
   "execution_count": 125,
   "metadata": {},
   "outputs": [
    {
     "name": "stderr",
     "output_type": "stream",
     "text": [
      "C:\\Users\\jerem\\anaconda3\\lib\\site-packages\\pandas\\core\\series.py:4563: SettingWithCopyWarning: \n",
      "A value is trying to be set on a copy of a slice from a DataFrame\n",
      "\n",
      "See the caveats in the documentation: https://pandas.pydata.org/pandas-docs/stable/user_guide/indexing.html#returning-a-view-versus-a-copy\n",
      "  return super().replace(\n",
      "C:\\Users\\jerem\\anaconda3\\lib\\site-packages\\pandas\\core\\series.py:4517: SettingWithCopyWarning: \n",
      "A value is trying to be set on a copy of a slice from a DataFrame\n",
      "\n",
      "See the caveats in the documentation: https://pandas.pydata.org/pandas-docs/stable/user_guide/indexing.html#returning-a-view-versus-a-copy\n",
      "  return super().fillna(\n"
     ]
    }
   ],
   "source": [
    "dfGrantBalancescopy['Grant Close Date (Adaptive Sheet)'].replace('', np.nan, inplace=True)\n",
    "dfGrantBalancescopy['Grant Start Date'].replace('', np.nan, inplace=True)\n",
    "dfGrantBalancescopy['Grant Revenue Date'].replace('', np.nan, inplace=True)\n",
    "dfGrantBalancescopy['Soft Close Date'].replace('', np.nan, inplace=True)\n",
    "dfGrantBalancescopy['Grant Close Date (Adaptive Sheet)'].fillna(\"na\", inplace=True)\n",
    "dfGrantBalancescopy['Grant Start Date'].fillna(\"na\", inplace=True)\n",
    "dfGrantBalancescopy['Grant Revenue Date'].fillna(\"na\", inplace=True)\n",
    "dfGrantBalancescopy['Soft Close Date'].fillna(\"na\", inplace=True)"
   ]
  },
  {
   "cell_type": "code",
   "execution_count": 126,
   "metadata": {},
   "outputs": [],
   "source": [
    "df1 = pd.merge(df1, dfGrantBalancescopy, on = 'Grant', how='left')"
   ]
  },
  {
   "cell_type": "code",
   "execution_count": 127,
   "metadata": {},
   "outputs": [
    {
     "data": {
      "text/plain": [
       "541462"
      ]
     },
     "execution_count": 127,
     "metadata": {},
     "output_type": "execute_result"
    }
   ],
   "source": [
    "len(df1)"
   ]
  },
  {
   "cell_type": "markdown",
   "metadata": {},
   "source": [
    "# Add Hyperlinks"
   ]
  },
  {
   "cell_type": "code",
   "execution_count": 128,
   "metadata": {},
   "outputs": [],
   "source": [
    "df1 = pd.merge(df1, dfSalesforceGrantContractsNS, on = 'Grant', how='left')"
   ]
  },
  {
   "cell_type": "code",
   "execution_count": 129,
   "metadata": {},
   "outputs": [
    {
     "data": {
      "text/plain": [
       "541462"
      ]
     },
     "execution_count": 129,
     "metadata": {},
     "output_type": "execute_result"
    }
   ],
   "source": [
    "len(df1)"
   ]
  },
  {
   "cell_type": "code",
   "execution_count": 130,
   "metadata": {},
   "outputs": [],
   "source": [
    "df1['Grant Close Date (Adaptive Sheet)'].replace('', np.nan, inplace=True)\n",
    "df1['Grant Start Date'].replace('', np.nan, inplace=True)\n",
    "df1['Soft Close Date'].replace('', np.nan, inplace=True)\n",
    "df1['Documents Link'].replace('', np.nan, inplace=True)\n",
    "df1['Grant Revenue Date'].replace('', np.nan, inplace=True)\n",
    "df1['Amount Received'].replace('', np.nan, inplace=True)\n",
    "df1['Total Grant Spend'].replace('', np.nan, inplace=True)\n",
    "df1['Institutional Overhead Note'].replace('', np.nan, inplace=True)\n",
    "df1['Institutional Overhead'].replace('', np.nan, inplace=True)\n",
    "df1['Grant Balance'].replace('', np.nan, inplace=True)\n",
    "df1['Grant Close Date (Adaptive Sheet)'].fillna(\"na\", inplace=True)\n",
    "df1['Grant Start Date'].fillna(\"na\", inplace=True)\n",
    "df1['Grant Revenue Date'].fillna(\"na\", inplace=True)\n",
    "df1['Amount Received'].fillna(\"na\", inplace=True)\n",
    "df1['Total Grant Spend'].fillna(\"na\", inplace=True)\n",
    "df1['Institutional Overhead Note'].fillna(\"na\", inplace=True)\n",
    "df1['Institutional Overhead'].fillna(\"na\", inplace=True)\n",
    "df1['Grant Balance'].fillna(\"na\", inplace=True)\n",
    "df1['Soft Close Date'].fillna(\"na\", inplace=True)\n",
    "df1['Documents Link'].fillna(\"na\", inplace=True)"
   ]
  },
  {
   "cell_type": "code",
   "execution_count": null,
   "metadata": {},
   "outputs": [],
   "source": []
  },
  {
   "cell_type": "markdown",
   "metadata": {},
   "source": [
    "# Create Grant Spenddown of 0 Dataframe"
   ]
  },
  {
   "cell_type": "code",
   "execution_count": 131,
   "metadata": {},
   "outputs": [],
   "source": [
    "#Missing Project\n",
    "dfGrantBalancesZEROSPEND = dfGrantBalances[['Level', 'Grant', 'Amount Received', 'Total Grant Spend', 'Institutional Overhead Note', 'Institutional Overhead', 'Grant Balance', 'Grant Close Date (Adaptive Sheet)', 'Grant Start Date', 'Grant Revenue Date', 'Soft Close Date']]"
   ]
  },
  {
   "cell_type": "code",
   "execution_count": 132,
   "metadata": {},
   "outputs": [],
   "source": [
    "dfGrantBalancesZEROSPEND = dfGrantBalancesZEROSPEND[dfGrantBalancesZEROSPEND['Total Grant Spend']==0]"
   ]
  },
  {
   "cell_type": "code",
   "execution_count": 133,
   "metadata": {},
   "outputs": [],
   "source": [
    "dfGrantBalancesZEROSPEND[\"Project\"] = \"\""
   ]
  },
  {
   "cell_type": "code",
   "execution_count": 134,
   "metadata": {},
   "outputs": [
    {
     "data": {
      "text/html": [
       "<div>\n",
       "<style scoped>\n",
       "    .dataframe tbody tr th:only-of-type {\n",
       "        vertical-align: middle;\n",
       "    }\n",
       "\n",
       "    .dataframe tbody tr th {\n",
       "        vertical-align: top;\n",
       "    }\n",
       "\n",
       "    .dataframe thead th {\n",
       "        text-align: right;\n",
       "    }\n",
       "</style>\n",
       "<table border=\"1\" class=\"dataframe\">\n",
       "  <thead>\n",
       "    <tr style=\"text-align: right;\">\n",
       "      <th></th>\n",
       "      <th>Level</th>\n",
       "      <th>Grant</th>\n",
       "      <th>Amount Received</th>\n",
       "      <th>Total Grant Spend</th>\n",
       "      <th>Institutional Overhead Note</th>\n",
       "      <th>Institutional Overhead</th>\n",
       "      <th>Grant Balance</th>\n",
       "      <th>Grant Close Date (Adaptive Sheet)</th>\n",
       "      <th>Grant Start Date</th>\n",
       "      <th>Grant Revenue Date</th>\n",
       "      <th>Soft Close Date</th>\n",
       "      <th>Project</th>\n",
       "    </tr>\n",
       "  </thead>\n",
       "  <tbody>\n",
       "    <tr>\n",
       "      <th>19</th>\n",
       "      <td>BLD - Building Electrification</td>\n",
       "      <td>Heising-Simons - Building Electrification FY21</td>\n",
       "      <td>150000.00</td>\n",
       "      <td>0.0</td>\n",
       "      <td>0% of Total Cost</td>\n",
       "      <td>0.0</td>\n",
       "      <td>150000.00</td>\n",
       "      <td>NaN</td>\n",
       "      <td>NaN</td>\n",
       "      <td>NaN</td>\n",
       "      <td>NaN</td>\n",
       "      <td></td>\n",
       "    </tr>\n",
       "    <tr>\n",
       "      <th>24</th>\n",
       "      <td>GCF - Center for a Climate-Aligned Finance</td>\n",
       "      <td>TD Bank - CCAF FY21</td>\n",
       "      <td>400000.00</td>\n",
       "      <td>0.0</td>\n",
       "      <td>20% of total grant</td>\n",
       "      <td>80000.0</td>\n",
       "      <td>320000.00</td>\n",
       "      <td>1/31/2023</td>\n",
       "      <td>NaN</td>\n",
       "      <td>2/22/2021</td>\n",
       "      <td>NaN</td>\n",
       "      <td></td>\n",
       "    </tr>\n",
       "    <tr>\n",
       "      <th>25</th>\n",
       "      <td>D3 - Admin</td>\n",
       "      <td>Engie - 3rd Derivative FY21</td>\n",
       "      <td>100000.00</td>\n",
       "      <td>0.0</td>\n",
       "      <td>20% of total grant</td>\n",
       "      <td>20000.0</td>\n",
       "      <td>80000.00</td>\n",
       "      <td>NaN</td>\n",
       "      <td>NaN</td>\n",
       "      <td>4/8/2021</td>\n",
       "      <td>2/1/2024</td>\n",
       "      <td></td>\n",
       "    </tr>\n",
       "    <tr>\n",
       "      <th>26</th>\n",
       "      <td>GCF - Center for a Climate-Aligned Finance</td>\n",
       "      <td>CIBC - CAI CCAF FY21</td>\n",
       "      <td>150000.00</td>\n",
       "      <td>0.0</td>\n",
       "      <td>20% of total grant</td>\n",
       "      <td>30000.0</td>\n",
       "      <td>120000.00</td>\n",
       "      <td>1/29/2022</td>\n",
       "      <td>NaN</td>\n",
       "      <td>2/9/2021</td>\n",
       "      <td>NaN</td>\n",
       "      <td></td>\n",
       "    </tr>\n",
       "    <tr>\n",
       "      <th>36</th>\n",
       "      <td>GCF - Center for a Climate-Aligned Finance</td>\n",
       "      <td>Vision Ridge - GCF FY20</td>\n",
       "      <td>100000.00</td>\n",
       "      <td>0.0</td>\n",
       "      <td>20% of total grant</td>\n",
       "      <td>20000.0</td>\n",
       "      <td>80000.00</td>\n",
       "      <td>NaN</td>\n",
       "      <td>NaN</td>\n",
       "      <td>NaN</td>\n",
       "      <td>NaN</td>\n",
       "      <td></td>\n",
       "    </tr>\n",
       "    <tr>\n",
       "      <th>37</th>\n",
       "      <td>GCF - Center for a Climate-Aligned Finance</td>\n",
       "      <td>JPMC - CAI CCAF FY21</td>\n",
       "      <td>150000.00</td>\n",
       "      <td>0.0</td>\n",
       "      <td>20% of total grant</td>\n",
       "      <td>30000.0</td>\n",
       "      <td>120000.00</td>\n",
       "      <td>NaN</td>\n",
       "      <td>NaN</td>\n",
       "      <td>10/22/2020</td>\n",
       "      <td>6/30/2022</td>\n",
       "      <td></td>\n",
       "    </tr>\n",
       "    <tr>\n",
       "      <th>38</th>\n",
       "      <td>GCF - Center for a Climate-Aligned Finance</td>\n",
       "      <td>Goldman Sachs - CAI CCAF FY21</td>\n",
       "      <td>100000.00</td>\n",
       "      <td>0.0</td>\n",
       "      <td>20% of total cost</td>\n",
       "      <td>20000.0</td>\n",
       "      <td>80000.00</td>\n",
       "      <td>NaN</td>\n",
       "      <td>NaN</td>\n",
       "      <td>NaN</td>\n",
       "      <td>NaN</td>\n",
       "      <td></td>\n",
       "    </tr>\n",
       "    <tr>\n",
       "      <th>39</th>\n",
       "      <td>GCF - Center for a Climate-Aligned Finance</td>\n",
       "      <td>CCAF - General</td>\n",
       "      <td>9902.13</td>\n",
       "      <td>0.0</td>\n",
       "      <td>0% of total cost</td>\n",
       "      <td>0.0</td>\n",
       "      <td>9902.13</td>\n",
       "      <td>NaN</td>\n",
       "      <td>NaN</td>\n",
       "      <td>12/31/2020</td>\n",
       "      <td>6/30/2022</td>\n",
       "      <td></td>\n",
       "    </tr>\n",
       "    <tr>\n",
       "      <th>57</th>\n",
       "      <td>GCF - Center for a Climate-Aligned Finance</td>\n",
       "      <td>RBC - CAI CCAF FY21</td>\n",
       "      <td>300000.00</td>\n",
       "      <td>0.0</td>\n",
       "      <td>20% of total grant</td>\n",
       "      <td>60000.0</td>\n",
       "      <td>240000.00</td>\n",
       "      <td>2/23/2023</td>\n",
       "      <td>NaN</td>\n",
       "      <td>3/22/2021</td>\n",
       "      <td>NaN</td>\n",
       "      <td></td>\n",
       "    </tr>\n",
       "    <tr>\n",
       "      <th>58</th>\n",
       "      <td>D3 - Admin</td>\n",
       "      <td>Angela Wright Bennett Foundation - 3rd Derivat...</td>\n",
       "      <td>300000.00</td>\n",
       "      <td>0.0</td>\n",
       "      <td>20% of total grant</td>\n",
       "      <td>60000.0</td>\n",
       "      <td>240000.00</td>\n",
       "      <td>11/30/2023</td>\n",
       "      <td>NaN</td>\n",
       "      <td>3/12/2021</td>\n",
       "      <td>NaN</td>\n",
       "      <td></td>\n",
       "    </tr>\n",
       "    <tr>\n",
       "      <th>82</th>\n",
       "      <td>POW - BMR</td>\n",
       "      <td>Stanback - Electricity FY21</td>\n",
       "      <td>100000.00</td>\n",
       "      <td>0.0</td>\n",
       "      <td>0% of total grant</td>\n",
       "      <td>0.0</td>\n",
       "      <td>100000.00</td>\n",
       "      <td>NaN</td>\n",
       "      <td>NaN</td>\n",
       "      <td>6/25/2021</td>\n",
       "      <td>6/30/2022</td>\n",
       "      <td></td>\n",
       "    </tr>\n",
       "    <tr>\n",
       "      <th>86</th>\n",
       "      <td>D3 - Admin</td>\n",
       "      <td>Wells Fargo - 3rd Derivative FY21</td>\n",
       "      <td>300000.00</td>\n",
       "      <td>0.0</td>\n",
       "      <td>0% of Total Cost</td>\n",
       "      <td>0.0</td>\n",
       "      <td>300000.00</td>\n",
       "      <td>NaN</td>\n",
       "      <td>NaN</td>\n",
       "      <td>NaN</td>\n",
       "      <td>NaN</td>\n",
       "      <td></td>\n",
       "    </tr>\n",
       "    <tr>\n",
       "      <th>92</th>\n",
       "      <td>IN - Admin</td>\n",
       "      <td>Grantham - India FY21</td>\n",
       "      <td>166666.67</td>\n",
       "      <td>0.0</td>\n",
       "      <td>do not take overhead yet -- overhead rate TBD ...</td>\n",
       "      <td>0.0</td>\n",
       "      <td>166666.67</td>\n",
       "      <td>NaN</td>\n",
       "      <td>NaN</td>\n",
       "      <td>NaN</td>\n",
       "      <td>NaN</td>\n",
       "      <td></td>\n",
       "    </tr>\n",
       "    <tr>\n",
       "      <th>93</th>\n",
       "      <td>IS - Puerto Rico</td>\n",
       "      <td>Hands - Puerto Rico FY21</td>\n",
       "      <td>15000.00</td>\n",
       "      <td>0.0</td>\n",
       "      <td>20% of total grant</td>\n",
       "      <td>3000.0</td>\n",
       "      <td>12000.00</td>\n",
       "      <td>NaN</td>\n",
       "      <td>NaN</td>\n",
       "      <td>6/30/2021</td>\n",
       "      <td>6/30/2022</td>\n",
       "      <td></td>\n",
       "    </tr>\n",
       "    <tr>\n",
       "      <th>96</th>\n",
       "      <td>CH - Power Market Reform</td>\n",
       "      <td>EFC - China Power Market Reform FY22</td>\n",
       "      <td>200000.00</td>\n",
       "      <td>0.0</td>\n",
       "      <td>0% of total grant</td>\n",
       "      <td>0.0</td>\n",
       "      <td>200000.00</td>\n",
       "      <td>5/31/2022</td>\n",
       "      <td>6/1/2021</td>\n",
       "      <td>7/15/2021</td>\n",
       "      <td>NaN</td>\n",
       "      <td></td>\n",
       "    </tr>\n",
       "    <tr>\n",
       "      <th>99</th>\n",
       "      <td>GCF - Center for a Climate-Aligned Finance</td>\n",
       "      <td>Citi - Finance CCAF FY22</td>\n",
       "      <td>100000.00</td>\n",
       "      <td>0.0</td>\n",
       "      <td>20% of total grant</td>\n",
       "      <td>20000.0</td>\n",
       "      <td>80000.00</td>\n",
       "      <td>5/31/2021</td>\n",
       "      <td>7/13/2021</td>\n",
       "      <td>7/13/2021</td>\n",
       "      <td>NaN</td>\n",
       "      <td></td>\n",
       "    </tr>\n",
       "    <tr>\n",
       "      <th>104</th>\n",
       "      <td>D3 - Admin</td>\n",
       "      <td>BHP - 3rd Derivative FY22</td>\n",
       "      <td>300000.00</td>\n",
       "      <td>0.0</td>\n",
       "      <td>20% of total grant</td>\n",
       "      <td>60000.0</td>\n",
       "      <td>240000.00</td>\n",
       "      <td>NaN</td>\n",
       "      <td>NaN</td>\n",
       "      <td>8/4/2021</td>\n",
       "      <td>5/10/2024</td>\n",
       "      <td></td>\n",
       "    </tr>\n",
       "    <tr>\n",
       "      <th>105</th>\n",
       "      <td>CIP - Oil and Gas Solutions</td>\n",
       "      <td>Field Family Foundation - CIP FY22</td>\n",
       "      <td>20000.00</td>\n",
       "      <td>0.0</td>\n",
       "      <td>0% of total grant</td>\n",
       "      <td>0.0</td>\n",
       "      <td>20000.00</td>\n",
       "      <td>NaN</td>\n",
       "      <td>NaN</td>\n",
       "      <td>8/5/2021</td>\n",
       "      <td>6/30/2022</td>\n",
       "      <td></td>\n",
       "    </tr>\n",
       "    <tr>\n",
       "      <th>106</th>\n",
       "      <td>CIP - Oil and Gas Solutions</td>\n",
       "      <td>Lyda Hill - CIP FY22</td>\n",
       "      <td>1250005.26</td>\n",
       "      <td>0.0</td>\n",
       "      <td>10% of all direct project costs (including all...</td>\n",
       "      <td>93820.2</td>\n",
       "      <td>1156185.06</td>\n",
       "      <td>NaN</td>\n",
       "      <td>NaN</td>\n",
       "      <td>10/21/2021</td>\n",
       "      <td>8/31/2022</td>\n",
       "      <td></td>\n",
       "    </tr>\n",
       "    <tr>\n",
       "      <th>109</th>\n",
       "      <td>CH - Admin</td>\n",
       "      <td>Hewlett - China Capacity Building FY22</td>\n",
       "      <td>50000.00</td>\n",
       "      <td>0.0</td>\n",
       "      <td>20% of total grant</td>\n",
       "      <td>10000.0</td>\n",
       "      <td>40000.00</td>\n",
       "      <td>8/2/2022</td>\n",
       "      <td>8/2/2021</td>\n",
       "      <td>8/20/2021</td>\n",
       "      <td>NaN</td>\n",
       "      <td></td>\n",
       "    </tr>\n",
       "    <tr>\n",
       "      <th>111</th>\n",
       "      <td>UT - City Renewable Accelerator</td>\n",
       "      <td>Anonymous - Urban Transformation FY22</td>\n",
       "      <td>75000.00</td>\n",
       "      <td>0.0</td>\n",
       "      <td>0% of total grant</td>\n",
       "      <td>0.0</td>\n",
       "      <td>75000.00</td>\n",
       "      <td>NaN</td>\n",
       "      <td>NaN</td>\n",
       "      <td>9/24/2021</td>\n",
       "      <td>8/31/2022</td>\n",
       "      <td></td>\n",
       "    </tr>\n",
       "    <tr>\n",
       "      <th>112</th>\n",
       "      <td>POW - Utility Transition</td>\n",
       "      <td>Hartfield Foundation - Electricity FY21</td>\n",
       "      <td>50000.00</td>\n",
       "      <td>0.0</td>\n",
       "      <td>TBD pending donor - currently 0% of Total Cost</td>\n",
       "      <td>0.0</td>\n",
       "      <td>50000.00</td>\n",
       "      <td>NaN</td>\n",
       "      <td>NaN</td>\n",
       "      <td>4/12/2021</td>\n",
       "      <td>3/31/2022</td>\n",
       "      <td></td>\n",
       "    </tr>\n",
       "    <tr>\n",
       "      <th>114</th>\n",
       "      <td>IN - Admin</td>\n",
       "      <td>Climateworks - India SWAT FY22</td>\n",
       "      <td>50000.00</td>\n",
       "      <td>0.0</td>\n",
       "      <td>0% of total grant</td>\n",
       "      <td>0.0</td>\n",
       "      <td>50000.00</td>\n",
       "      <td>12/31/2022</td>\n",
       "      <td>1/1/2022</td>\n",
       "      <td>9/25/2021</td>\n",
       "      <td>NaN</td>\n",
       "      <td></td>\n",
       "    </tr>\n",
       "    <tr>\n",
       "      <th>115</th>\n",
       "      <td>IN - Admin</td>\n",
       "      <td>Climate Imperative - India FY22</td>\n",
       "      <td>1000000.00</td>\n",
       "      <td>0.0</td>\n",
       "      <td>20% of total grant</td>\n",
       "      <td>200000.0</td>\n",
       "      <td>800000.00</td>\n",
       "      <td>6/30/2022</td>\n",
       "      <td>7/1/2021</td>\n",
       "      <td>9/28/2021</td>\n",
       "      <td>NaN</td>\n",
       "      <td></td>\n",
       "    </tr>\n",
       "    <tr>\n",
       "      <th>116</th>\n",
       "      <td>CIP - Admin</td>\n",
       "      <td>Grantham - CIP IG3IS 2 FY21</td>\n",
       "      <td>166666.67</td>\n",
       "      <td>0.0</td>\n",
       "      <td>0% of total grant</td>\n",
       "      <td>0.0</td>\n",
       "      <td>166666.67</td>\n",
       "      <td>6/30/2022</td>\n",
       "      <td>1/1/2022</td>\n",
       "      <td>6/30/2021</td>\n",
       "      <td>NaN</td>\n",
       "      <td></td>\n",
       "    </tr>\n",
       "    <tr>\n",
       "      <th>117</th>\n",
       "      <td>IS - Islands</td>\n",
       "      <td>National Philanthropic Trust - Islands FY22</td>\n",
       "      <td>230000.00</td>\n",
       "      <td>0.0</td>\n",
       "      <td>20% of total grant</td>\n",
       "      <td>46000.0</td>\n",
       "      <td>184000.00</td>\n",
       "      <td>12/31/2022</td>\n",
       "      <td>9/1/2021</td>\n",
       "      <td>9/1/2021</td>\n",
       "      <td>NaN</td>\n",
       "      <td></td>\n",
       "    </tr>\n",
       "    <tr>\n",
       "      <th>118</th>\n",
       "      <td>D3 - Admin</td>\n",
       "      <td>Shell - 3rd Derivative FY22</td>\n",
       "      <td>300000.00</td>\n",
       "      <td>0.0</td>\n",
       "      <td>20% of total grant</td>\n",
       "      <td>60000.0</td>\n",
       "      <td>240000.00</td>\n",
       "      <td>NaN</td>\n",
       "      <td>NaN</td>\n",
       "      <td>9/15/2021</td>\n",
       "      <td>8/6/2023</td>\n",
       "      <td></td>\n",
       "    </tr>\n",
       "    <tr>\n",
       "      <th>122</th>\n",
       "      <td>CH - Admin</td>\n",
       "      <td>CIFF - China FY22</td>\n",
       "      <td>300000.00</td>\n",
       "      <td>0.0</td>\n",
       "      <td>15% overhead on direct grant (take 15% on TDPC...</td>\n",
       "      <td>27489.0</td>\n",
       "      <td>272511.00</td>\n",
       "      <td>9/19/2023</td>\n",
       "      <td>9/20/2021</td>\n",
       "      <td>10/11/2021</td>\n",
       "      <td>NaN</td>\n",
       "      <td></td>\n",
       "    </tr>\n",
       "    <tr>\n",
       "      <th>123</th>\n",
       "      <td>UT - City Renewable Accelerator</td>\n",
       "      <td>Garrett Jacobs - Urban Transformation FY22</td>\n",
       "      <td>50000.00</td>\n",
       "      <td>0.0</td>\n",
       "      <td>20% of total grant</td>\n",
       "      <td>10000.0</td>\n",
       "      <td>40000.00</td>\n",
       "      <td>NaN</td>\n",
       "      <td>NaN</td>\n",
       "      <td>12/31/2021</td>\n",
       "      <td>NaN</td>\n",
       "      <td></td>\n",
       "    </tr>\n",
       "    <tr>\n",
       "      <th>124</th>\n",
       "      <td>GCF - Center for a Climate-Aligned Finance</td>\n",
       "      <td>JPMC - Finance CCAF FY22</td>\n",
       "      <td>150000.00</td>\n",
       "      <td>0.0</td>\n",
       "      <td>20% of total grant</td>\n",
       "      <td>30000.0</td>\n",
       "      <td>120000.00</td>\n",
       "      <td>NaN</td>\n",
       "      <td>NaN</td>\n",
       "      <td>10/21/2021</td>\n",
       "      <td>9/30/2022</td>\n",
       "      <td></td>\n",
       "    </tr>\n",
       "    <tr>\n",
       "      <th>125</th>\n",
       "      <td>IS - Puerto Rico</td>\n",
       "      <td>Rockefeller - Islands FY22</td>\n",
       "      <td>775000.00</td>\n",
       "      <td>0.0</td>\n",
       "      <td>15% of total direct project costs (take 15% of...</td>\n",
       "      <td>66576.0</td>\n",
       "      <td>708424.00</td>\n",
       "      <td>5/31/2022</td>\n",
       "      <td>11/1/2021</td>\n",
       "      <td>10/26/2021</td>\n",
       "      <td>NaN</td>\n",
       "      <td></td>\n",
       "    </tr>\n",
       "    <tr>\n",
       "      <th>126</th>\n",
       "      <td>MTX - Freight Mobility</td>\n",
       "      <td>General Motors - Mobility FY22</td>\n",
       "      <td>750000.00</td>\n",
       "      <td>0.0</td>\n",
       "      <td>15% of total project expenses (including alloc...</td>\n",
       "      <td>97826.0</td>\n",
       "      <td>652174.00</td>\n",
       "      <td>NaN</td>\n",
       "      <td>NaN</td>\n",
       "      <td>10/13/2021</td>\n",
       "      <td>9/30/2022</td>\n",
       "      <td></td>\n",
       "    </tr>\n",
       "    <tr>\n",
       "      <th>128</th>\n",
       "      <td>OPS - Operations Admin</td>\n",
       "      <td>Goodnow Fund - Operations FY22</td>\n",
       "      <td>25000.00</td>\n",
       "      <td>0.0</td>\n",
       "      <td>0% of total grant</td>\n",
       "      <td>0.0</td>\n",
       "      <td>25000.00</td>\n",
       "      <td>NaN</td>\n",
       "      <td>NaN</td>\n",
       "      <td>10/15/2021</td>\n",
       "      <td>9/30/2022</td>\n",
       "      <td></td>\n",
       "    </tr>\n",
       "  </tbody>\n",
       "</table>\n",
       "</div>"
      ],
      "text/plain": [
       "                                          Level  \\\n",
       "19               BLD - Building Electrification   \n",
       "24   GCF - Center for a Climate-Aligned Finance   \n",
       "25                                   D3 - Admin   \n",
       "26   GCF - Center for a Climate-Aligned Finance   \n",
       "36   GCF - Center for a Climate-Aligned Finance   \n",
       "37   GCF - Center for a Climate-Aligned Finance   \n",
       "38   GCF - Center for a Climate-Aligned Finance   \n",
       "39   GCF - Center for a Climate-Aligned Finance   \n",
       "57   GCF - Center for a Climate-Aligned Finance   \n",
       "58                                   D3 - Admin   \n",
       "82                                    POW - BMR   \n",
       "86                                   D3 - Admin   \n",
       "92                                   IN - Admin   \n",
       "93                             IS - Puerto Rico   \n",
       "96                     CH - Power Market Reform   \n",
       "99   GCF - Center for a Climate-Aligned Finance   \n",
       "104                                  D3 - Admin   \n",
       "105                 CIP - Oil and Gas Solutions   \n",
       "106                 CIP - Oil and Gas Solutions   \n",
       "109                                  CH - Admin   \n",
       "111             UT - City Renewable Accelerator   \n",
       "112                    POW - Utility Transition   \n",
       "114                                  IN - Admin   \n",
       "115                                  IN - Admin   \n",
       "116                                 CIP - Admin   \n",
       "117                                IS - Islands   \n",
       "118                                  D3 - Admin   \n",
       "122                                  CH - Admin   \n",
       "123             UT - City Renewable Accelerator   \n",
       "124  GCF - Center for a Climate-Aligned Finance   \n",
       "125                            IS - Puerto Rico   \n",
       "126                      MTX - Freight Mobility   \n",
       "128                      OPS - Operations Admin   \n",
       "\n",
       "                                                 Grant  Amount Received  \\\n",
       "19      Heising-Simons - Building Electrification FY21        150000.00   \n",
       "24                                 TD Bank - CCAF FY21        400000.00   \n",
       "25                         Engie - 3rd Derivative FY21        100000.00   \n",
       "26                                CIBC - CAI CCAF FY21        150000.00   \n",
       "36                             Vision Ridge - GCF FY20        100000.00   \n",
       "37                                JPMC - CAI CCAF FY21        150000.00   \n",
       "38                       Goldman Sachs - CAI CCAF FY21        100000.00   \n",
       "39                                      CCAF - General          9902.13   \n",
       "57                                 RBC - CAI CCAF FY21        300000.00   \n",
       "58   Angela Wright Bennett Foundation - 3rd Derivat...        300000.00   \n",
       "82                         Stanback - Electricity FY21        100000.00   \n",
       "86                   Wells Fargo - 3rd Derivative FY21        300000.00   \n",
       "92                               Grantham - India FY21        166666.67   \n",
       "93                            Hands - Puerto Rico FY21         15000.00   \n",
       "96                EFC - China Power Market Reform FY22        200000.00   \n",
       "99                            Citi - Finance CCAF FY22        100000.00   \n",
       "104                          BHP - 3rd Derivative FY22        300000.00   \n",
       "105                 Field Family Foundation - CIP FY22         20000.00   \n",
       "106                               Lyda Hill - CIP FY22       1250005.26   \n",
       "109             Hewlett - China Capacity Building FY22         50000.00   \n",
       "111              Anonymous - Urban Transformation FY22         75000.00   \n",
       "112            Hartfield Foundation - Electricity FY21         50000.00   \n",
       "114                     Climateworks - India SWAT FY22         50000.00   \n",
       "115                    Climate Imperative - India FY22       1000000.00   \n",
       "116                        Grantham - CIP IG3IS 2 FY21        166666.67   \n",
       "117        National Philanthropic Trust - Islands FY22        230000.00   \n",
       "118                        Shell - 3rd Derivative FY22        300000.00   \n",
       "122                                  CIFF - China FY22        300000.00   \n",
       "123         Garrett Jacobs - Urban Transformation FY22         50000.00   \n",
       "124                           JPMC - Finance CCAF FY22        150000.00   \n",
       "125                         Rockefeller - Islands FY22        775000.00   \n",
       "126                     General Motors - Mobility FY22        750000.00   \n",
       "128                     Goodnow Fund - Operations FY22         25000.00   \n",
       "\n",
       "     Total Grant Spend                        Institutional Overhead Note  \\\n",
       "19                 0.0                                   0% of Total Cost   \n",
       "24                 0.0                                 20% of total grant   \n",
       "25                 0.0                                20% of total grant    \n",
       "26                 0.0                                 20% of total grant   \n",
       "36                 0.0                                20% of total grant    \n",
       "37                 0.0                                20% of total grant    \n",
       "38                 0.0                                 20% of total cost    \n",
       "39                 0.0                                  0% of total cost    \n",
       "57                 0.0                                 20% of total grant   \n",
       "58                 0.0                                 20% of total grant   \n",
       "82                 0.0                                  0% of total grant   \n",
       "86                 0.0                                   0% of Total Cost   \n",
       "92                 0.0  do not take overhead yet -- overhead rate TBD ...   \n",
       "93                 0.0                                 20% of total grant   \n",
       "96                 0.0                                  0% of total grant   \n",
       "99                 0.0                                 20% of total grant   \n",
       "104                0.0                                 20% of total grant   \n",
       "105                0.0                                  0% of total grant   \n",
       "106                0.0  10% of all direct project costs (including all...   \n",
       "109                0.0                                 20% of total grant   \n",
       "111                0.0                                  0% of total grant   \n",
       "112                0.0     TBD pending donor - currently 0% of Total Cost   \n",
       "114                0.0                                  0% of total grant   \n",
       "115                0.0                                20% of total grant    \n",
       "116                0.0                                  0% of total grant   \n",
       "117                0.0                                20% of total grant    \n",
       "118                0.0                                20% of total grant    \n",
       "122                0.0  15% overhead on direct grant (take 15% on TDPC...   \n",
       "123                0.0                                20% of total grant    \n",
       "124                0.0                                20% of total grant    \n",
       "125                0.0  15% of total direct project costs (take 15% of...   \n",
       "126                0.0  15% of total project expenses (including alloc...   \n",
       "128                0.0                                  0% of total grant   \n",
       "\n",
       "     Institutional Overhead  Grant Balance Grant Close Date (Adaptive Sheet)  \\\n",
       "19                      0.0      150000.00                               NaN   \n",
       "24                  80000.0      320000.00                         1/31/2023   \n",
       "25                  20000.0       80000.00                               NaN   \n",
       "26                  30000.0      120000.00                         1/29/2022   \n",
       "36                  20000.0       80000.00                               NaN   \n",
       "37                  30000.0      120000.00                               NaN   \n",
       "38                  20000.0       80000.00                               NaN   \n",
       "39                      0.0        9902.13                               NaN   \n",
       "57                  60000.0      240000.00                         2/23/2023   \n",
       "58                  60000.0      240000.00                        11/30/2023   \n",
       "82                      0.0      100000.00                               NaN   \n",
       "86                      0.0      300000.00                               NaN   \n",
       "92                      0.0      166666.67                               NaN   \n",
       "93                   3000.0       12000.00                               NaN   \n",
       "96                      0.0      200000.00                         5/31/2022   \n",
       "99                  20000.0       80000.00                         5/31/2021   \n",
       "104                 60000.0      240000.00                               NaN   \n",
       "105                     0.0       20000.00                               NaN   \n",
       "106                 93820.2     1156185.06                               NaN   \n",
       "109                 10000.0       40000.00                          8/2/2022   \n",
       "111                     0.0       75000.00                               NaN   \n",
       "112                     0.0       50000.00                               NaN   \n",
       "114                     0.0       50000.00                        12/31/2022   \n",
       "115                200000.0      800000.00                         6/30/2022   \n",
       "116                     0.0      166666.67                         6/30/2022   \n",
       "117                 46000.0      184000.00                        12/31/2022   \n",
       "118                 60000.0      240000.00                               NaN   \n",
       "122                 27489.0      272511.00                         9/19/2023   \n",
       "123                 10000.0       40000.00                               NaN   \n",
       "124                 30000.0      120000.00                               NaN   \n",
       "125                 66576.0      708424.00                         5/31/2022   \n",
       "126                 97826.0      652174.00                               NaN   \n",
       "128                     0.0       25000.00                               NaN   \n",
       "\n",
       "    Grant Start Date Grant Revenue Date Soft Close Date Project  \n",
       "19               NaN                NaN             NaN          \n",
       "24               NaN          2/22/2021             NaN          \n",
       "25               NaN           4/8/2021        2/1/2024          \n",
       "26               NaN           2/9/2021             NaN          \n",
       "36               NaN                NaN             NaN          \n",
       "37               NaN         10/22/2020       6/30/2022          \n",
       "38               NaN                NaN             NaN          \n",
       "39               NaN         12/31/2020       6/30/2022          \n",
       "57               NaN          3/22/2021             NaN          \n",
       "58               NaN          3/12/2021             NaN          \n",
       "82               NaN          6/25/2021       6/30/2022          \n",
       "86               NaN                NaN             NaN          \n",
       "92               NaN                NaN             NaN          \n",
       "93               NaN          6/30/2021       6/30/2022          \n",
       "96          6/1/2021          7/15/2021             NaN          \n",
       "99         7/13/2021          7/13/2021             NaN          \n",
       "104              NaN           8/4/2021       5/10/2024          \n",
       "105              NaN           8/5/2021       6/30/2022          \n",
       "106              NaN         10/21/2021       8/31/2022          \n",
       "109         8/2/2021          8/20/2021             NaN          \n",
       "111              NaN          9/24/2021       8/31/2022          \n",
       "112              NaN          4/12/2021       3/31/2022          \n",
       "114         1/1/2022          9/25/2021             NaN          \n",
       "115         7/1/2021          9/28/2021             NaN          \n",
       "116         1/1/2022          6/30/2021             NaN          \n",
       "117         9/1/2021           9/1/2021             NaN          \n",
       "118              NaN          9/15/2021        8/6/2023          \n",
       "122        9/20/2021         10/11/2021             NaN          \n",
       "123              NaN         12/31/2021             NaN          \n",
       "124              NaN         10/21/2021       9/30/2022          \n",
       "125        11/1/2021         10/26/2021             NaN          \n",
       "126              NaN         10/13/2021       9/30/2022          \n",
       "128              NaN         10/15/2021       9/30/2022          "
      ]
     },
     "execution_count": 134,
     "metadata": {},
     "output_type": "execute_result"
    }
   ],
   "source": [
    "dfGrantBalancesZEROSPEND"
   ]
  },
  {
   "cell_type": "code",
   "execution_count": 135,
   "metadata": {},
   "outputs": [],
   "source": [
    "#dfGrantBalancesZEROSPEND.to_excel('grantzerospendtable.xlsx')"
   ]
  },
  {
   "cell_type": "markdown",
   "metadata": {},
   "source": [
    "## Add Project Budgets to Netsuite Output"
   ]
  },
  {
   "cell_type": "code",
   "execution_count": 136,
   "metadata": {},
   "outputs": [
    {
     "data": {
      "text/plain": [
       "541462"
      ]
     },
     "execution_count": 136,
     "metadata": {},
     "output_type": "execute_result"
    }
   ],
   "source": [
    "len(df1)"
   ]
  },
  {
   "cell_type": "code",
   "execution_count": 137,
   "metadata": {},
   "outputs": [
    {
     "data": {
      "text/html": [
       "<div>\n",
       "<style scoped>\n",
       "    .dataframe tbody tr th:only-of-type {\n",
       "        vertical-align: middle;\n",
       "    }\n",
       "\n",
       "    .dataframe tbody tr th {\n",
       "        vertical-align: top;\n",
       "    }\n",
       "\n",
       "    .dataframe thead th {\n",
       "        text-align: right;\n",
       "    }\n",
       "</style>\n",
       "<table border=\"1\" class=\"dataframe\">\n",
       "  <thead>\n",
       "    <tr style=\"text-align: right;\">\n",
       "      <th></th>\n",
       "      <th>Project</th>\n",
       "      <th>Program</th>\n",
       "      <th>Initiative</th>\n",
       "      <th>05. Managing Director</th>\n",
       "      <th>Client</th>\n",
       "      <th>Funding Sources</th>\n",
       "      <th>Status</th>\n",
       "      <th>Project Lead</th>\n",
       "      <th>Start Date</th>\n",
       "      <th>Due Date</th>\n",
       "      <th>Workspace Billable Default</th>\n",
       "      <th>Project Started before July 2017 or is a Speaking Engagement</th>\n",
       "      <th>Unnamed: 12</th>\n",
       "      <th>Values</th>\n",
       "    </tr>\n",
       "  </thead>\n",
       "  <tbody>\n",
       "    <tr>\n",
       "      <th>0</th>\n",
       "      <td>SFO SAF Feasibility</td>\n",
       "      <td>Industry</td>\n",
       "      <td>INY - Aviation</td>\n",
       "      <td>Ned Harvey</td>\n",
       "      <td>WSP</td>\n",
       "      <td>NaN</td>\n",
       "      <td>Completed</td>\n",
       "      <td>Dave Mullaney</td>\n",
       "      <td>2018-07-02</td>\n",
       "      <td>2019-01-31</td>\n",
       "      <td>Billable</td>\n",
       "      <td>NaN</td>\n",
       "      <td>Total Project Budget</td>\n",
       "      <td>25174</td>\n",
       "    </tr>\n",
       "    <tr>\n",
       "      <th>1</th>\n",
       "      <td>SFO SAF Feasibility</td>\n",
       "      <td>Industry</td>\n",
       "      <td>INY - Aviation</td>\n",
       "      <td>Ned Harvey</td>\n",
       "      <td>WSP</td>\n",
       "      <td>NaN</td>\n",
       "      <td>Completed</td>\n",
       "      <td>Dave Mullaney</td>\n",
       "      <td>2018-07-02</td>\n",
       "      <td>2019-01-31</td>\n",
       "      <td>Billable</td>\n",
       "      <td>NaN</td>\n",
       "      <td>Project Budget @ Cost</td>\n",
       "      <td>19842.4</td>\n",
       "    </tr>\n",
       "    <tr>\n",
       "      <th>2</th>\n",
       "      <td>SFO SAF Feasibility</td>\n",
       "      <td>Industry</td>\n",
       "      <td>INY - Aviation</td>\n",
       "      <td>Ned Harvey</td>\n",
       "      <td>WSP</td>\n",
       "      <td>NaN</td>\n",
       "      <td>Completed</td>\n",
       "      <td>Dave Mullaney</td>\n",
       "      <td>2018-07-02</td>\n",
       "      <td>2019-01-31</td>\n",
       "      <td>Billable</td>\n",
       "      <td>NaN</td>\n",
       "      <td>Actual Cost &amp; Expenses</td>\n",
       "      <td>32680.4</td>\n",
       "    </tr>\n",
       "    <tr>\n",
       "      <th>3</th>\n",
       "      <td>SFO SAF Feasibility</td>\n",
       "      <td>Industry</td>\n",
       "      <td>INY - Aviation</td>\n",
       "      <td>Ned Harvey</td>\n",
       "      <td>WSP</td>\n",
       "      <td>NaN</td>\n",
       "      <td>Completed</td>\n",
       "      <td>Dave Mullaney</td>\n",
       "      <td>2018-07-02</td>\n",
       "      <td>2019-01-31</td>\n",
       "      <td>Billable</td>\n",
       "      <td>NaN</td>\n",
       "      <td>Remaining Budget</td>\n",
       "      <td>-12838</td>\n",
       "    </tr>\n",
       "    <tr>\n",
       "      <th>4</th>\n",
       "      <td>SFO SAF Feasibility</td>\n",
       "      <td>Industry</td>\n",
       "      <td>INY - Aviation</td>\n",
       "      <td>Ned Harvey</td>\n",
       "      <td>WSP</td>\n",
       "      <td>NaN</td>\n",
       "      <td>Completed</td>\n",
       "      <td>Dave Mullaney</td>\n",
       "      <td>2018-07-02</td>\n",
       "      <td>2019-01-31</td>\n",
       "      <td>Billable</td>\n",
       "      <td>NaN</td>\n",
       "      <td>Budget vs Actuals</td>\n",
       "      <td>2</td>\n",
       "    </tr>\n",
       "  </tbody>\n",
       "</table>\n",
       "</div>"
      ],
      "text/plain": [
       "               Project   Program      Initiative 05. Managing Director Client  \\\n",
       "0  SFO SAF Feasibility  Industry  INY - Aviation            Ned Harvey    WSP   \n",
       "1  SFO SAF Feasibility  Industry  INY - Aviation            Ned Harvey    WSP   \n",
       "2  SFO SAF Feasibility  Industry  INY - Aviation            Ned Harvey    WSP   \n",
       "3  SFO SAF Feasibility  Industry  INY - Aviation            Ned Harvey    WSP   \n",
       "4  SFO SAF Feasibility  Industry  INY - Aviation            Ned Harvey    WSP   \n",
       "\n",
       "  Funding Sources     Status   Project Lead Start Date   Due Date  \\\n",
       "0             NaN  Completed  Dave Mullaney 2018-07-02 2019-01-31   \n",
       "1             NaN  Completed  Dave Mullaney 2018-07-02 2019-01-31   \n",
       "2             NaN  Completed  Dave Mullaney 2018-07-02 2019-01-31   \n",
       "3             NaN  Completed  Dave Mullaney 2018-07-02 2019-01-31   \n",
       "4             NaN  Completed  Dave Mullaney 2018-07-02 2019-01-31   \n",
       "\n",
       "  Workspace Billable Default  \\\n",
       "0                   Billable   \n",
       "1                   Billable   \n",
       "2                   Billable   \n",
       "3                   Billable   \n",
       "4                   Billable   \n",
       "\n",
       "  Project Started before July 2017 or is a Speaking Engagement  \\\n",
       "0                                                NaN             \n",
       "1                                                NaN             \n",
       "2                                                NaN             \n",
       "3                                                NaN             \n",
       "4                                                NaN             \n",
       "\n",
       "              Unnamed: 12   Values  \n",
       "0    Total Project Budget    25174  \n",
       "1   Project Budget @ Cost  19842.4  \n",
       "2  Actual Cost & Expenses  32680.4  \n",
       "3        Remaining Budget   -12838  \n",
       "4       Budget vs Actuals        2  "
      ]
     },
     "execution_count": 137,
     "metadata": {},
     "output_type": "execute_result"
    }
   ],
   "source": [
    "dfMAVELINKACTIVEPROJECTS.head()"
   ]
  },
  {
   "cell_type": "code",
   "execution_count": 138,
   "metadata": {},
   "outputs": [],
   "source": [
    "dfMAVELINKACTIVEPROJECTS = dfMAVELINKACTIVEPROJECTS.rename(columns={'Unnamed: 12': 'Budget'})"
   ]
  },
  {
   "cell_type": "code",
   "execution_count": 139,
   "metadata": {},
   "outputs": [],
   "source": [
    "dfMAVELINKACTIVEPROJECTSBudgets = dfMAVELINKACTIVEPROJECTS[dfMAVELINKACTIVEPROJECTS['Budget'] == \"Total Project Budget\"]"
   ]
  },
  {
   "cell_type": "code",
   "execution_count": 140,
   "metadata": {},
   "outputs": [
    {
     "name": "stderr",
     "output_type": "stream",
     "text": [
      "<ipython-input-140-41d8463e0a9b>:1: SettingWithCopyWarning: \n",
      "A value is trying to be set on a copy of a slice from a DataFrame.\n",
      "Try using .loc[row_indexer,col_indexer] = value instead\n",
      "\n",
      "See the caveats in the documentation: https://pandas.pydata.org/pandas-docs/stable/user_guide/indexing.html#returning-a-view-versus-a-copy\n",
      "  dfMAVELINKACTIVEPROJECTSBudgets[\"NetsuiteProject\"] = dfMAVELINKACTIVEPROJECTSBudgets['Client'] + \" : \" + dfMAVELINKACTIVEPROJECTSBudgets['Project']\n"
     ]
    }
   ],
   "source": [
    "dfMAVELINKACTIVEPROJECTSBudgets[\"NetsuiteProject\"] = dfMAVELINKACTIVEPROJECTSBudgets['Client'] + \" : \" + dfMAVELINKACTIVEPROJECTSBudgets['Project']"
   ]
  },
  {
   "cell_type": "code",
   "execution_count": 141,
   "metadata": {},
   "outputs": [],
   "source": [
    "dfMAVELINKACTIVEPROJECTSBudgets = dfMAVELINKACTIVEPROJECTSBudgets[[\"NetsuiteProject\", \"Values\"]]"
   ]
  },
  {
   "cell_type": "code",
   "execution_count": 142,
   "metadata": {},
   "outputs": [],
   "source": [
    "dfMAVELINKACTIVEPROJECTSBudgets = dfMAVELINKACTIVEPROJECTSBudgets.rename(columns={\"NetsuiteProject\": \"Project\", \"Values\": \"Project Budget\"})"
   ]
  },
  {
   "cell_type": "code",
   "execution_count": 143,
   "metadata": {},
   "outputs": [
    {
     "data": {
      "text/plain": [
       "1242"
      ]
     },
     "execution_count": 143,
     "metadata": {},
     "output_type": "execute_result"
    }
   ],
   "source": [
    "len(dfMAVELINKACTIVEPROJECTSBudgets)"
   ]
  },
  {
   "cell_type": "code",
   "execution_count": 144,
   "metadata": {},
   "outputs": [],
   "source": [
    "dfMAVELINKACTIVEPROJECTSBudgets = dfMAVELINKACTIVEPROJECTSBudgets.dropna()"
   ]
  },
  {
   "cell_type": "code",
   "execution_count": 145,
   "metadata": {},
   "outputs": [
    {
     "data": {
      "text/plain": [
       "1200"
      ]
     },
     "execution_count": 145,
     "metadata": {},
     "output_type": "execute_result"
    }
   ],
   "source": [
    "len(dfMAVELINKACTIVEPROJECTSBudgets)"
   ]
  },
  {
   "cell_type": "code",
   "execution_count": 146,
   "metadata": {},
   "outputs": [],
   "source": [
    "dfMAVELINKACTIVEPROJECTSBudgets = dfMAVELINKACTIVEPROJECTSBudgets.drop_duplicates()"
   ]
  },
  {
   "cell_type": "code",
   "execution_count": 147,
   "metadata": {},
   "outputs": [
    {
     "data": {
      "text/plain": [
       "1181"
      ]
     },
     "execution_count": 147,
     "metadata": {},
     "output_type": "execute_result"
    }
   ],
   "source": [
    "len(dfMAVELINKACTIVEPROJECTSBudgets)"
   ]
  },
  {
   "cell_type": "code",
   "execution_count": 148,
   "metadata": {},
   "outputs": [],
   "source": [
    "dfMAVELINKACTIVEPROJECTSBudgets = dfMAVELINKACTIVEPROJECTSBudgets[dfMAVELINKACTIVEPROJECTSBudgets['Project Budget'] != 0]"
   ]
  },
  {
   "cell_type": "code",
   "execution_count": 149,
   "metadata": {},
   "outputs": [],
   "source": [
    "df1 = pd.merge(df1, dfMAVELINKACTIVEPROJECTSBudgets, on = 'Project', how='left')"
   ]
  },
  {
   "cell_type": "code",
   "execution_count": 150,
   "metadata": {},
   "outputs": [
    {
     "data": {
      "text/plain": [
       "541462"
      ]
     },
     "execution_count": 150,
     "metadata": {},
     "output_type": "execute_result"
    }
   ],
   "source": [
    "len(df1)"
   ]
  },
  {
   "cell_type": "code",
   "execution_count": 151,
   "metadata": {},
   "outputs": [],
   "source": [
    "df1['Project Budget'].replace('', np.nan, inplace=True)\n",
    "df1['Project Budget'].fillna(\"na\", inplace=True)"
   ]
  },
  {
   "cell_type": "code",
   "execution_count": null,
   "metadata": {},
   "outputs": [],
   "source": []
  },
  {
   "cell_type": "markdown",
   "metadata": {},
   "source": [
    "## Manipulate Dataset for BKT Changes"
   ]
  },
  {
   "cell_type": "code",
   "execution_count": 152,
   "metadata": {},
   "outputs": [],
   "source": [
    "df1.loc[df1['Initiative'] == 'BKT - Market Affiliates', 'Program'] = 'Strategic Analysis and Engagement'  \n",
    "df1.loc[df1['Initiative'] == 'BKT - Third Derivative', 'Program'] = 'Third Derivative'  "
   ]
  },
  {
   "cell_type": "code",
   "execution_count": 153,
   "metadata": {},
   "outputs": [],
   "source": [
    "df1.loc[df1['Initiative'] == 'BKT - Market Affiliates', 'Initiative'] = 'SAE - Market Affiliates'  \n",
    "df1.loc[df1['Initiative'] == 'BKT - Third Derivative', 'Initiative'] = 'D3 - Third Derivative' \n",
    "df1.loc[df1['Program'] == 'Global Climate Finance', 'Program'] = 'Finance'\n",
    "df1.loc[df1['Program'] == 'M3', 'Program'] = 'Climate Aligned Industries'"
   ]
  },
  {
   "cell_type": "code",
   "execution_count": 154,
   "metadata": {},
   "outputs": [],
   "source": [
    "df1.loc[(df1['Program'] == 'na') & (df1['Rollup Account'] != '7100 Employee Benefits'), 'Initiative'] = 'CH - Admin'  \n",
    "df1.loc[(df1['Program'] == 'na') & (df1['Rollup Account'] != '7100 Employee Benefits'), 'Program'] = 'China'  "
   ]
  },
  {
   "cell_type": "code",
   "execution_count": 155,
   "metadata": {},
   "outputs": [],
   "source": [
    "df1 = df1[df1['Date'] != 'Overall Total']"
   ]
  },
  {
   "cell_type": "markdown",
   "metadata": {},
   "source": [
    "# Remove Project Shirley for Carbon Free Electricity"
   ]
  },
  {
   "cell_type": "code",
   "execution_count": 156,
   "metadata": {},
   "outputs": [],
   "source": [
    "df1.loc[df1['Project'] == 'Google LLC : Project Shirley', 'Project'] = 'Project Shirley' "
   ]
  },
  {
   "cell_type": "markdown",
   "metadata": {},
   "source": [
    "## Output manipulated DF to Excel"
   ]
  },
  {
   "cell_type": "code",
   "execution_count": 157,
   "metadata": {},
   "outputs": [
    {
     "name": "stdout",
     "output_type": "stream",
     "text": [
      "Wall time: 3min 12s\n"
     ]
    }
   ],
   "source": [
    "%%time\n",
    "df1.columns\n",
    "df1[['Date', 'Period', 'GL Account', 'Document Number', 'Program','Initiative', 'Project', 'Restriction', 'Grant', 'Amount','Vendor Name', 'Employee Name', 'Memo', 'Amount (Credit)','Amount (Debit)', 'Client', 'Transaction Number', 'Type', 'Vendor Rate','Vendor Contract Expiration Date', 'ALLOCATION', 'Project Allocations','Rollup Account', 'Account Digit', 'Accounting Adjustments','Accounting Close Out', 'Inst or Reclass', 'grant?','Restricted Revenue', 'Rev or Exp', 'Multilateral', 'General Expense','Unrestricted']].to_excel('Output_Netsuite.xlsx', index=False)\n",
    "\n"
   ]
  },
  {
   "cell_type": "markdown",
   "metadata": {},
   "source": [
    "# 5.  Data Segmentation by Program\n",
    "\n",
    "Here I'm taking the manipulated data and ultimately creating a dataframe to filter out each program's restricted revenue."
   ]
  },
  {
   "cell_type": "code",
   "execution_count": 158,
   "metadata": {},
   "outputs": [],
   "source": [
    "Programs = list(df1['Program'].unique())"
   ]
  },
  {
   "cell_type": "code",
   "execution_count": 159,
   "metadata": {},
   "outputs": [
    {
     "name": "stdout",
     "output_type": "stream",
     "text": [
      "['Development', 'Finance', 'Operations', 'Strategic Analysis and Engagement', 'Beijing', 'China', 'Islands', 'Africa', 'Methane', 'Carbon-Free Buildings', 'Sustainable Finance', 'Sunshine for Mines', 'India', 'Carbon-Free Electricity', 'Shine', 'Trucking', 'Carbon-Free Mobility', 'WattTime', 'Shipping', 'Business Renewable Center', 'Aviation', 'Industry', 'Building Electrification', 'Communications', 'Carbon War Room', 'Emerging Energy Solutions', 'Energy Web Foundation', 'Urban Transformation', 'Climate Aligned Industries', 'na', 'Third Derivative', 'Climate Intelligence', 'SE Asia', 'US', 'CFAN', 'Energy Transition Academy', 'Cross-Program Impact Acceleration', 'Canary Media Program']\n"
     ]
    }
   ],
   "source": [
    "print(Programs)"
   ]
  },
  {
   "cell_type": "code",
   "execution_count": 160,
   "metadata": {},
   "outputs": [],
   "source": [
    "def create_program(program):\n",
    "    firstdf = df1[df1['Program']==program]\n",
    "    seconddf = firstdf[firstdf['Grant'] != 'No Grant'] \n",
    "    thirddf = seconddf[(seconddf['Account Digit']=='6')]\n",
    "    fourthdf = thirddf[thirddf['Restriction']==\"1-Unrestricted\"]\n",
    "    if fourthdf.empty == True:\n",
    "        print(str(program)+ \" DF is EMPTY\")\n",
    "    else:    \n",
    "        return fourthdf"
   ]
  },
  {
   "cell_type": "code",
   "execution_count": 161,
   "metadata": {},
   "outputs": [],
   "source": [
    "def create_programCHINA(program):\n",
    "    firstdf = df1[df1['Program']==program]\n",
    "    seconddf = firstdf[firstdf['Grant'] != 'No Grant'] \n",
    "    thirddf = seconddf[(seconddf['Account Digit']=='6')]\n",
    "    fourthdf = thirddf[thirddf['Restriction']==\"1-Unrestricted\"]\n",
    "    if fourthdf.empty == True:\n",
    "        print(str(program)+ \" DF is EMPTY\")\n",
    "    else:    \n",
    "        return fourthdf"
   ]
  },
  {
   "cell_type": "code",
   "execution_count": 162,
   "metadata": {},
   "outputs": [
    {
     "name": "stdout",
     "output_type": "stream",
     "text": [
      "Communications DF is EMPTY\n",
      "Cross-Program Impact Acceleration DF is EMPTY\n",
      "M3 DF is EMPTY\n"
     ]
    }
   ],
   "source": [
    "Development = create_program('Development')\n",
    "Islands = create_program('Islands')\n",
    "India = create_program('India')\n",
    "Communications = create_program('Communications')\n",
    "CrossProgramImpactAcceleration = create_program('Cross-Program Impact Acceleration')\n",
    "Operations = create_program('Operations')\n",
    "Development = create_program('Development')\n",
    "China = create_programCHINA('China')\n",
    "Breakthrough_Technology = create_program('M3')\n",
    "CarbonFree_Mobility = create_program('Carbon-Free Mobility')\n",
    "Climate_Aligned_Industries = create_program('Climate Aligned Industries')\n",
    "Global_Climate_Finance = create_program('Finance')\n",
    "Strategic_Engagement_and_Analysis_Group = create_program('Strategic Analysis and Engagement')\n",
    "CarbonFree_Buildings = create_program('Carbon-Free Buildings')\n",
    "WattTime = create_program('WattTime')\n",
    "CarbonFree_Electricty = create_program('Carbon-Free Electricity')\n",
    "Urban_Transformation = create_program('Urban Transformation')\n",
    "Climate_Intelligence = create_program('Climate Intelligence')\n",
    "Industry = create_program('Industry')\n",
    "SE_Asia = create_program('SE Asia')\n",
    "Africa = create_program('Africa')\n",
    "US = create_program('US')\n",
    "Building_Electrification = create_program('Building Electrification')\n",
    "Energy_Transition_Academy = create_program('Energy Transition Academy')\n",
    "Beijing = create_program('Beijing')\n",
    "CFAN = create_program('CFAN')\n",
    "D3 = create_program('Third Derivative')"
   ]
  },
  {
   "cell_type": "code",
   "execution_count": 163,
   "metadata": {},
   "outputs": [],
   "source": [
    "Developing_Economies_Rollup = pd.concat([Islands, Africa, SE_Asia, Energy_Transition_Academy, CFAN], ignore_index = True, sort=False)\n",
    "CarbonFreeBuildings_Rollup = pd.concat([CarbonFree_Buildings, Building_Electrification], ignore_index = True, sort=False)\n",
    "China_Rollup = pd.concat([China, Beijing], ignore_index = True, sort=False)"
   ]
  },
  {
   "cell_type": "markdown",
   "metadata": {},
   "source": [
    "## 6. Create Reports Path and Manipulate File Names\n",
    "\n",
    "I will need to come up with naming conventions that work over time for this project, so in this step I do just that.   Also I am loading the Openpyxl packages that i'm going to need for the rest of this program."
   ]
  },
  {
   "cell_type": "code",
   "execution_count": 164,
   "metadata": {},
   "outputs": [],
   "source": [
    "import os\n",
    "\n",
    "DetailTransPath = 'C:\\\\Users\\\\jerem\\\\anaconda3\\\\envs\\\\Code\\\\RMICODING\\\\Outputs\\\\Detail_Trans'\n",
    "MDPackagePath = 'C:\\\\Users\\\\jerem\\\\anaconda3\\\\envs\\\\Code\\\\RMICODING\\\\Outputs\\\\MD_Package'"
   ]
  },
  {
   "cell_type": "code",
   "execution_count": 165,
   "metadata": {},
   "outputs": [],
   "source": [
    "from datetime import datetime\n",
    "today = datetime.today()\n",
    "datem = datetime(today.year, today.month-1, 1)\n",
    "timestamp = \"Detail_Transactions_\"+datem.strftime(\"%b_%Y\")"
   ]
  },
  {
   "cell_type": "code",
   "execution_count": 166,
   "metadata": {},
   "outputs": [
    {
     "name": "stdout",
     "output_type": "stream",
     "text": [
      "Detail_Transactions_Oct_2021.xlsx\n"
     ]
    }
   ],
   "source": [
    "print(timestamp+\".xlsx\")"
   ]
  },
  {
   "cell_type": "code",
   "execution_count": 167,
   "metadata": {},
   "outputs": [],
   "source": [
    "from openpyxl.styles import Color, PatternFill, Font, Border\n",
    "greyFill = PatternFill(start_color='00C0C0C0',\n",
    "                   end_color='00C0C0C0',\n",
    "                   fill_type='solid')"
   ]
  },
  {
   "cell_type": "markdown",
   "metadata": {},
   "source": [
    "## 7. DF Creation "
   ]
  },
  {
   "cell_type": "code",
   "execution_count": 168,
   "metadata": {},
   "outputs": [],
   "source": [
    "def create_df_allExpenses(program):\n",
    "    firstdf = df1[df1['Program']==program]\n",
    "    seconddf = firstdf[(firstdf['Account Digit']=='7')|(firstdf['Account Digit']=='8')]\n",
    "    thirddf = seconddf[seconddf['Restriction']==\"1-Unrestricted\"]\n",
    "    if thirddf.empty == True:\n",
    "        print(str(program)+ \" DF is EMPTY\")\n",
    "    else:    \n",
    "        return thirddf"
   ]
  },
  {
   "cell_type": "code",
   "execution_count": 169,
   "metadata": {},
   "outputs": [],
   "source": [
    "def create_df_allExpensesCHINA(program):\n",
    "    firstdf = df1[df1['Program']==program]\n",
    "    seconddf = firstdf[(firstdf['Account Digit']=='7')|(firstdf['Account Digit']=='8')]\n",
    "    if seconddf.empty == True:\n",
    "        print(str(program)+ \" DF is EMPTY\")\n",
    "    else:    \n",
    "        return seconddf"
   ]
  },
  {
   "cell_type": "code",
   "execution_count": 170,
   "metadata": {},
   "outputs": [
    {
     "name": "stdout",
     "output_type": "stream",
     "text": [
      "M3 DF is EMPTY\n"
     ]
    }
   ],
   "source": [
    "\n",
    "DevelopmentExp = create_df_allExpenses(\"Development\")\n",
    "IslandsExp = create_df_allExpenses(\"Islands\")\n",
    "IndiaExp = create_df_allExpenses(\"India\")\n",
    "OperationsExp = create_df_allExpenses(\"Operations\")\n",
    "ChinaExp = create_df_allExpensesCHINA(\"China\")\n",
    "Breakthrough_Technology_Exp = create_df_allExpenses(\"M3\")\n",
    "CarbonFree_MobilityExp = create_df_allExpenses(\"Carbon-Free Mobility\")\n",
    "ClimateAligned_IndustriesExp = create_df_allExpenses(\"Climate Aligned Industries\")\n",
    "CommunicationsExp = create_df_allExpenses(\"Communications\")\n",
    "GlobalClimate_FinanceExp = create_df_allExpenses(\"Finance\")\n",
    "Strategic_Engagement_and_Analysis_GroupExp = create_df_allExpenses(\"Strategic Analysis and Engagement\")\n",
    "CrossProgramImpactAccelerationExp = create_df_allExpenses(\"Cross-Program Impact Acceleration\")\n",
    "Carbon_Free_BuildingsExp = create_df_allExpenses(\"Carbon-Free Buildings\")\n",
    "Watttime_Exp = create_df_allExpenses(\"WattTime\")\n",
    "Carbon_Free_ElectricityExp = create_df_allExpenses(\"Carbon-Free Electricity\")\n",
    "UrbanTrans_Exp = create_df_allExpenses(\"Urban Transformation\")\n",
    "ClimateIntelExp = create_df_allExpenses(\"Climate Intelligence\")\n",
    "IndustryExp = create_df_allExpenses(\"Industry\")\n",
    "SEAsiaExp = create_df_allExpenses(\"SE Asia\")\n",
    "AfricaExp = create_df_allExpenses(\"Africa\")\n",
    "USExp = create_df_allExpenses(\"US\")\n",
    "BuildingElectrificationExp = create_df_allExpenses(\"Building Electrification\")\n",
    "Energy_Transition_AcademyExp = create_df_allExpenses(\"Energy Transition Academy\")\n",
    "BeijingExp = create_df_allExpenses(\"Beijing\")\n",
    "CFANExp = create_df_allExpenses(\"CFAN\")\n",
    "D3Exp = create_df_allExpenses(\"Third Derivative\")"
   ]
  },
  {
   "cell_type": "code",
   "execution_count": 171,
   "metadata": {},
   "outputs": [],
   "source": [
    "Developing_Economies_RollupExp = pd.concat([IslandsExp, AfricaExp, SEAsiaExp, Energy_Transition_AcademyExp, CFANExp], ignore_index = True, sort=False)\n",
    "CarbonFreeBuildings_RollupExp = pd.concat([Carbon_Free_BuildingsExp, BuildingElectrificationExp], ignore_index = True, sort=False)\n",
    "China_RollupExp = pd.concat([ChinaExp, BeijingExp], ignore_index = True, sort=False)"
   ]
  },
  {
   "cell_type": "markdown",
   "metadata": {},
   "source": [
    "## Create FFS Income Statement Dataset"
   ]
  },
  {
   "cell_type": "code",
   "execution_count": 172,
   "metadata": {},
   "outputs": [],
   "source": [
    "def create_df_FeeforService2(program):\n",
    "    firstdf = df1[df1['Program']==program]\n",
    "    seconddf = firstdf[firstdf['Grant']==\"No Grant\"]\n",
    "    thirddf = seconddf[seconddf['Restriction']==\"1-Unrestricted\"]\n",
    "    if thirddf.empty == True:\n",
    "        print(str(program)+ \" DF is EMPTY\")\n",
    "    else:    \n",
    "        return thirddf"
   ]
  },
  {
   "cell_type": "code",
   "execution_count": 173,
   "metadata": {},
   "outputs": [],
   "source": [
    "def create_df_FeeforServiceCHINA(program):\n",
    "    firstdf = df1[df1['Program']==program]\n",
    "    seconddf = firstdf[firstdf['Grant']==\"No Grant\"]\n",
    "    if seconddf.empty == True:\n",
    "        print(str(program)+ \" DF is EMPTY\")\n",
    "    else:    \n",
    "        return seconddf"
   ]
  },
  {
   "cell_type": "code",
   "execution_count": 174,
   "metadata": {},
   "outputs": [
    {
     "name": "stdout",
     "output_type": "stream",
     "text": [
      "M3 DF is EMPTY\n"
     ]
    }
   ],
   "source": [
    "DevelopmentFFSIS = create_df_FeeforService2(\"Development\")\n",
    "IslandsFFSIS = create_df_FeeforService2(\"Islands\")\n",
    "IndiaFFSIS = create_df_FeeforService2(\"India\")\n",
    "OperationsFFSIS = create_df_FeeforService2(\"Operations\")\n",
    "ChinaFFSIS = create_df_FeeforServiceCHINA(\"China\")\n",
    "Breakthrough_Technology_FFSIS = create_df_FeeforService2(\"M3\")\n",
    "CarbonFree_MobilityFFSIS = create_df_FeeforService2(\"Carbon-Free Mobility\")\n",
    "ClimateAligned_IndustriesFFSIS = create_df_FeeforService2(\"Climate Aligned Industries\")\n",
    "CommunicationsFFSIS = create_df_FeeforService2(\"Communications\")\n",
    "GlobalClimate_FinanceFFSIS = create_df_FeeforService2(\"Finance\")\n",
    "Strategic_Engagement_and_Analysis_GroupFFSIS = create_df_FeeforService2(\"Strategic Analysis and Engagement\")\n",
    "CrossProgramImpactAccelerationFFSIS = create_df_FeeforService2(\"Cross-Program Impact Acceleration\")\n",
    "Carbon_Free_BuildingsFFSIS = create_df_FeeforService2(\"Carbon-Free Buildings\")\n",
    "Watttime_FFSIS = create_df_FeeforService2(\"WattTime\")\n",
    "Carbon_Free_ElectricityFFSIS = create_df_FeeforService2(\"Carbon-Free Electricity\")\n",
    "UrbanTrans_FFSIS = create_df_FeeforService2(\"Urban Transformation\")\n",
    "ClimateIntelFFSIS = create_df_FeeforService2(\"Climate Intelligence\")\n",
    "IndustryFFSIS = create_df_FeeforService2(\"Industry\")\n",
    "SEAsiaFFSIS = create_df_FeeforService2(\"SE Asia\")\n",
    "AfricaFFSIS = create_df_FeeforService2(\"Africa\")\n",
    "USFFSIS = create_df_FeeforService2(\"US\")\n",
    "BuildingElectrificationFFSIS = create_df_FeeforService2(\"Building Electrification\")\n",
    "Energy_Transition_AcademyFFSIS = create_df_FeeforService2(\"Energy Transition Academy\")\n",
    "BeijingFFSIS = create_df_FeeforService2(\"Beijing\")\n",
    "CFANFFSIS = create_df_FeeforService2(\"CFAN\")\n",
    "D3FFSIS = create_df_FeeforService2(\"Third Derivative\")"
   ]
  },
  {
   "cell_type": "code",
   "execution_count": 175,
   "metadata": {},
   "outputs": [],
   "source": [
    "Watttime_FFSIS = Watttime_FFSIS[Watttime_FFSIS['Rollup Account']!='5000 Contributions Revenue']"
   ]
  },
  {
   "cell_type": "code",
   "execution_count": 176,
   "metadata": {},
   "outputs": [],
   "source": [
    "Developing_Economies_RollupFFSIS = pd.concat([IslandsFFSIS, AfricaFFSIS, SEAsiaFFSIS, Energy_Transition_AcademyFFSIS, CFANFFSIS], ignore_index = True, sort=False)\n",
    "CarbonFreeBuildings_RollupFFSIS = pd.concat([Carbon_Free_BuildingsFFSIS, BuildingElectrificationFFSIS], ignore_index = True, sort=False)\n",
    "China_RollupFFSIS = pd.concat([ChinaFFSIS,BeijingFFSIS], ignore_index = True, sort=False)\n"
   ]
  },
  {
   "cell_type": "markdown",
   "metadata": {},
   "source": [
    "## Create Reports for Heather and Jon Creyts"
   ]
  },
  {
   "cell_type": "code",
   "execution_count": 177,
   "metadata": {},
   "outputs": [],
   "source": [
    "todayMD = datetime.today()\n",
    "datemMD = datetime(today.year, today.month-1, 1)\n",
    "timestampMD = datem.strftime(\"%B %Y\")"
   ]
  },
  {
   "cell_type": "code",
   "execution_count": 178,
   "metadata": {},
   "outputs": [
    {
     "data": {
      "text/plain": [
       "'October 2021'"
      ]
     },
     "execution_count": 178,
     "metadata": {},
     "output_type": "execute_result"
    }
   ],
   "source": [
    "timestampMD"
   ]
  },
  {
   "cell_type": "code",
   "execution_count": 179,
   "metadata": {},
   "outputs": [],
   "source": [
    "from openpyxl.styles import Border, Side, PatternFill, Font, GradientFill, Alignment\n",
    "\n",
    "CFOpath = 'C:\\\\Users\\\\jerem\\\\anaconda3\\\\envs\\\\Code\\\\RMICODING\\\\Outputs\\\\CFO_path'\n",
    "\n",
    "CFOTemplatepath = 'C:\\\\Users\\\\jerem\\\\anaconda3\\\\envs\\\\Code\\\\RMICODING\\\\Data\\\\CFO_Cover_Page.xlsx'"
   ]
  },
  {
   "cell_type": "code",
   "execution_count": 180,
   "metadata": {},
   "outputs": [],
   "source": [
    "blueFill = PatternFill(start_color='0033CCCC',\n",
    "                   end_color='0033CCCC',\n",
    "                   fill_type='solid')\n",
    "\n"
   ]
  },
  {
   "cell_type": "markdown",
   "metadata": {},
   "source": [
    "## Create Cover Sheet CFO"
   ]
  },
  {
   "cell_type": "code",
   "execution_count": 181,
   "metadata": {},
   "outputs": [],
   "source": [
    "Logopath = 'C:\\\\Users\\\\jerem\\\\anaconda3\\\\envs\\\\Code\\\\RMICODING\\\\Data\\\\Picture1.png'\n",
    "\n",
    "# 'C:\\\\Users\\\\Jeremy Wendt\\\\anaconda3\\\\envs\\\\Code\\\\Detail_Trans_Project_FY21\\\\notebooks\\\\img\\\\MD_Cover_Page.xlsx'"
   ]
  },
  {
   "cell_type": "code",
   "execution_count": 182,
   "metadata": {},
   "outputs": [],
   "source": [
    "wbCFO = load_workbook(CFOTemplatepath)\n",
    "wsCFO = wbCFO['Cover']    \n",
    "img = openpyxl.drawing.image.Image(Logopath)\n",
    "img.anchor = 'A1'\n",
    "wsCFO.add_image(img)\n",
    "wsCFO.cell(row = 14, column = 1).value = 'CFO Report ' + timestampMD\n",
    "wbCFO.save(str(CFOpath+'\\\\CFO_Report_'+timestampMD+'.xlsx'))"
   ]
  },
  {
   "cell_type": "markdown",
   "metadata": {},
   "source": [
    "# 8. Managing Director Dashboard"
   ]
  },
  {
   "cell_type": "code",
   "execution_count": 183,
   "metadata": {},
   "outputs": [],
   "source": [
    "MDpath = 'C:\\\\Users\\\\jerem\\\\anaconda3\\\\envs\\\\Code\\\\RMICODING\\\\Outputs\\\\MD_Package'\n",
    "\n",
    "\n",
    "Templatepath = 'C:\\\\Users\\\\jerem\\\\anaconda3\\\\envs\\\\Code\\\\RMICODING\\\\Data\\\\MD_Cover_Page.xlsx'"
   ]
  },
  {
   "cell_type": "code",
   "execution_count": 184,
   "metadata": {},
   "outputs": [],
   "source": [
    "\n",
    "#wb = openpyxl.load_workbook(filename=Templatepath)\n",
    "#ws = wb['Cover']"
   ]
  },
  {
   "cell_type": "code",
   "execution_count": 185,
   "metadata": {},
   "outputs": [],
   "source": [
    "ProgramsMD = Programs"
   ]
  },
  {
   "cell_type": "code",
   "execution_count": 186,
   "metadata": {},
   "outputs": [],
   "source": [
    "ProgramsMD.remove('na')\n",
    "ProgramsMD.remove('Building Electrification')\n",
    "ProgramsMD.remove('Islands')\n",
    "ProgramsMD.remove('SE Asia')\n",
    "ProgramsMD.remove('Africa')\n",
    "ProgramsMD.remove('Energy Transition Academy')\n",
    "ProgramsMD.remove('Sustainable Finance')\n",
    "ProgramsMD.remove('Energy Web Foundation')\n",
    "ProgramsMD.remove('Business Renewable Center')\n",
    "ProgramsMD.remove('Emerging Energy Solutions')\n",
    "ProgramsMD.remove('Shine')\n",
    "ProgramsMD.remove('Carbon War Room')\n",
    "ProgramsMD.remove('Methane')\n",
    "ProgramsMD.remove('Sunshine for Mines')\n",
    "ProgramsMD.remove('Aviation')\n",
    "ProgramsMD.remove('Trucking')\n",
    "ProgramsMD.remove('Shipping')\n",
    "ProgramsMD.append('Global South')\n",
    "ProgramsMD.remove('Beijing')"
   ]
  },
  {
   "cell_type": "code",
   "execution_count": 187,
   "metadata": {},
   "outputs": [
    {
     "data": {
      "text/plain": [
       "['Development',\n",
       " 'Finance',\n",
       " 'Operations',\n",
       " 'Strategic Analysis and Engagement',\n",
       " 'China',\n",
       " 'Carbon-Free Buildings',\n",
       " 'India',\n",
       " 'Carbon-Free Electricity',\n",
       " 'Carbon-Free Mobility',\n",
       " 'WattTime',\n",
       " 'Industry',\n",
       " 'Communications',\n",
       " 'Urban Transformation',\n",
       " 'Climate Aligned Industries',\n",
       " 'Third Derivative',\n",
       " 'Climate Intelligence',\n",
       " 'US',\n",
       " 'CFAN',\n",
       " 'Cross-Program Impact Acceleration',\n",
       " 'Canary Media Program',\n",
       " 'Global South']"
      ]
     },
     "execution_count": 187,
     "metadata": {},
     "output_type": "execute_result"
    }
   ],
   "source": [
    "ProgramsMD"
   ]
  },
  {
   "cell_type": "markdown",
   "metadata": {},
   "source": [
    "## Create Cover Sheet"
   ]
  },
  {
   "cell_type": "code",
   "execution_count": 188,
   "metadata": {},
   "outputs": [],
   "source": [
    "CoverNames = []\n",
    "\n",
    "for i in ProgramsMD:\n",
    "    CoverNames.append(i + \" - \" + timestampMD)"
   ]
  },
  {
   "cell_type": "code",
   "execution_count": 189,
   "metadata": {},
   "outputs": [],
   "source": [
    "for i in CoverNames:    \n",
    "    wb = load_workbook(Templatepath)\n",
    "    ws = wb['Cover']    \n",
    "    img = openpyxl.drawing.image.Image(Logopath)\n",
    "    img.anchor = 'A1'\n",
    "    ws.add_image(img)\n",
    "    ws.cell(row = 14, column = 1).value = i\n",
    "    wb.save(str(MDpath+'\\\\'+i+' - MD Package.xlsx'))"
   ]
  },
  {
   "cell_type": "markdown",
   "metadata": {},
   "source": [
    "## Create First MD Table"
   ]
  },
  {
   "cell_type": "code",
   "execution_count": 190,
   "metadata": {},
   "outputs": [],
   "source": [
    "initiative_program_table3 = initiative_program_table[['Program', 'Initiative']].drop_duplicates()"
   ]
  },
  {
   "cell_type": "code",
   "execution_count": 191,
   "metadata": {},
   "outputs": [],
   "source": [
    "initiative_program_table3.to_excel('initiativetable.xlsx')"
   ]
  },
  {
   "cell_type": "code",
   "execution_count": 192,
   "metadata": {},
   "outputs": [],
   "source": [
    "dfGrantBalancesZEROSPEND = dfGrantBalancesZEROSPEND.rename(columns={'Level':'Initiative'})"
   ]
  },
  {
   "cell_type": "code",
   "execution_count": 193,
   "metadata": {},
   "outputs": [],
   "source": [
    "dfGrantBalancesZEROSPEND = pd.merge(dfGrantBalancesZEROSPEND, initiative_program_table3, on = 'Initiative', how='left')"
   ]
  },
  {
   "cell_type": "code",
   "execution_count": 194,
   "metadata": {},
   "outputs": [],
   "source": [
    "dfGrantBalancesZEROSPEND = pd.merge(dfGrantBalancesZEROSPEND, dfSalesforceGrantContractsNS, on = 'Grant', how='left')"
   ]
  },
  {
   "cell_type": "code",
   "execution_count": 195,
   "metadata": {},
   "outputs": [
    {
     "data": {
      "text/plain": [
       "Index(['Initiative', 'Grant', 'Amount Received', 'Total Grant Spend',\n",
       "       'Institutional Overhead Note', 'Institutional Overhead',\n",
       "       'Grant Balance', 'Grant Close Date (Adaptive Sheet)',\n",
       "       'Grant Start Date', 'Grant Revenue Date', 'Soft Close Date', 'Project',\n",
       "       'Program', 'Documents Link'],\n",
       "      dtype='object')"
      ]
     },
     "execution_count": 195,
     "metadata": {},
     "output_type": "execute_result"
    }
   ],
   "source": [
    "dfGrantBalancesZEROSPEND.columns"
   ]
  },
  {
   "cell_type": "code",
   "execution_count": 196,
   "metadata": {},
   "outputs": [],
   "source": [
    "dfGrantBalancesZEROSPEND['Grant Start Date'] = pd.to_datetime(dfGrantBalancesZEROSPEND['Grant Start Date']).dt.strftime(\"%m/%d/%Y\")\n",
    "dfGrantBalancesZEROSPEND['Grant Revenue Date'] = pd.to_datetime(dfGrantBalancesZEROSPEND['Grant Revenue Date']).dt.strftime(\"%m/%d/%Y\")\n",
    "dfGrantBalancesZEROSPEND['Grant Close Date (Adaptive Sheet)'] = pd.to_datetime(dfGrantBalancesZEROSPEND['Grant Close Date (Adaptive Sheet)']).dt.strftime(\"%m/%d/%Y\")\n",
    "dfGrantBalancesZEROSPEND['Amount Received'] = dfGrantBalancesZEROSPEND['Amount Received'].astype(float)\n",
    "dfGrantBalancesZEROSPEND['Total Grant Spend'] = dfGrantBalancesZEROSPEND['Total Grant Spend'].astype(float)\n",
    "dfGrantBalancesZEROSPEND['Institutional Overhead'] = dfGrantBalancesZEROSPEND['Institutional Overhead'].astype(float)\n",
    "dfGrantBalancesZEROSPEND['Grant Balance'] = dfGrantBalancesZEROSPEND['Grant Balance'].astype(float)"
   ]
  },
  {
   "cell_type": "code",
   "execution_count": 197,
   "metadata": {},
   "outputs": [],
   "source": [
    "dfGrantBalancesZEROSPEND['Grant Close Date (Adaptive Sheet)'].replace('', np.nan, inplace=True)\n",
    "dfGrantBalancesZEROSPEND['Grant Start Date'].replace('', np.nan, inplace=True)\n",
    "dfGrantBalancesZEROSPEND['Soft Close Date'].replace('', np.nan, inplace=True)\n",
    "dfGrantBalancesZEROSPEND['Grant Revenue Date'].replace('', np.nan, inplace=True)\n",
    "dfGrantBalancesZEROSPEND['Amount Received'].replace('', np.nan, inplace=True)\n",
    "dfGrantBalancesZEROSPEND['Total Grant Spend'].replace('', np.nan, inplace=True)\n",
    "dfGrantBalancesZEROSPEND['Institutional Overhead Note'].replace('', np.nan, inplace=True)\n",
    "dfGrantBalancesZEROSPEND['Institutional Overhead'].replace('', np.nan, inplace=True)\n",
    "dfGrantBalancesZEROSPEND['Grant Balance'].replace('', np.nan, inplace=True)\n",
    "dfGrantBalancesZEROSPEND['Grant Close Date (Adaptive Sheet)'].fillna(\"na\", inplace=True)\n",
    "dfGrantBalancesZEROSPEND['Grant Start Date'].fillna(\"na\", inplace=True)\n",
    "dfGrantBalancesZEROSPEND['Grant Revenue Date'].fillna(\"na\", inplace=True)\n",
    "dfGrantBalancesZEROSPEND['Amount Received'].fillna(\"na\", inplace=True)\n",
    "dfGrantBalancesZEROSPEND['Total Grant Spend'].fillna(\"na\", inplace=True)\n",
    "dfGrantBalancesZEROSPEND['Institutional Overhead Note'].fillna(\"na\", inplace=True)\n",
    "dfGrantBalancesZEROSPEND['Institutional Overhead'].fillna(\"na\", inplace=True)\n",
    "dfGrantBalancesZEROSPEND['Grant Balance'].fillna(\"na\", inplace=True)\n",
    "dfGrantBalancesZEROSPEND['Soft Close Date'].fillna(\"na\", inplace=True)"
   ]
  },
  {
   "cell_type": "code",
   "execution_count": 198,
   "metadata": {},
   "outputs": [],
   "source": [
    "\n",
    "ChinaGrantNOEXP = dfGrantBalancesZEROSPEND[dfGrantBalancesZEROSPEND[\"Program\"]==\"China\"]\n",
    "BEGrantNOEXP = dfGrantBalancesZEROSPEND[dfGrantBalancesZEROSPEND[\"Program\"]==\"Building Electrification\"]\n",
    "CFEGrantNOEXP = dfGrantBalancesZEROSPEND[dfGrantBalancesZEROSPEND[\"Program\"]==\"Carbon-Free Electricity\"]\n",
    "UTGrantNOEXP = dfGrantBalancesZEROSPEND[dfGrantBalancesZEROSPEND[\"Program\"]==\"Urban Transformation\"]\n",
    "CAIGrantNOEXP = dfGrantBalancesZEROSPEND[dfGrantBalancesZEROSPEND[\"Program\"]==\"Climate Aligned Industries\"]\n",
    "CFBGrantNOEXP = dfGrantBalancesZEROSPEND[dfGrantBalancesZEROSPEND[\"Program\"]==\"Carbon-Free Buildings\"]\n",
    "BTGrantNOEXP = dfGrantBalancesZEROSPEND[dfGrantBalancesZEROSPEND[\"Program\"]==\"M3\"]\n",
    "CFMGrantNOEXP = dfGrantBalancesZEROSPEND[dfGrantBalancesZEROSPEND[\"Program\"]==\"Carbon-Free Mobility\"]\n",
    "ISLANDSGrantNOEXP = dfGrantBalancesZEROSPEND[dfGrantBalancesZEROSPEND[\"Program\"]==\"Islands\"]\n",
    "IndiaGrantNOEXP = dfGrantBalancesZEROSPEND[dfGrantBalancesZEROSPEND[\"Program\"]==\"India\"]\n",
    "GCFGrantNOEXP = dfGrantBalancesZEROSPEND[dfGrantBalancesZEROSPEND[\"Program\"]==\"Finance\"]\n",
    "SEAGrantNOEXP = dfGrantBalancesZEROSPEND[dfGrantBalancesZEROSPEND[\"Program\"]==\"Strategic Analysis and Engagement\"]\n",
    "WattTimeGrantNOEXP = dfGrantBalancesZEROSPEND[dfGrantBalancesZEROSPEND[\"Program\"]==\"WattTime\"]\n",
    "SEASIAGrantNOEXP = dfGrantBalancesZEROSPEND[dfGrantBalancesZEROSPEND[\"Program\"]==\"SE Asia\"]\n",
    "AfricaGrantNOEXP = dfGrantBalancesZEROSPEND[dfGrantBalancesZEROSPEND[\"Program\"]==\"Africa\"]\n",
    "USGrantNOEXP = dfGrantBalancesZEROSPEND[dfGrantBalancesZEROSPEND[\"Program\"]==\"US\"]\n",
    "CIGrantNOEXP = dfGrantBalancesZEROSPEND[dfGrantBalancesZEROSPEND[\"Program\"]==\"Climate Intelligence\"]\n",
    "ETAGrantNOEXP = dfGrantBalancesZEROSPEND[dfGrantBalancesZEROSPEND[\"Program\"]==\"Energy Transition Academy\"]\n",
    "CFANGrantNOEXP = dfGrantBalancesZEROSPEND[dfGrantBalancesZEROSPEND[\"Program\"]==\"CFAN\"]\n",
    "D3GrantNOEXP = dfGrantBalancesZEROSPEND[dfGrantBalancesZEROSPEND[\"Program\"]==\"Third Derivative\"]\n",
    "\n",
    "DEGrantNOEXP = pd.concat([ISLANDSGrantNOEXP, SEASIAGrantNOEXP, AfricaGrantNOEXP, ETAGrantNOEXP, CFANGrantNOEXP], ignore_index = True, sort=False)\n",
    "CFRRollingGrantNOEXP = pd.concat([BEGrantNOEXP, CFBGrantNOEXP], ignore_index = True, sort=False)"
   ]
  },
  {
   "cell_type": "code",
   "execution_count": 199,
   "metadata": {},
   "outputs": [],
   "source": [
    "from openpyxl.utils.dataframe import dataframe_to_rows\n",
    "\n",
    "def create_data_GrantZeroBalance(Group, str):\n",
    "    table = Group[['Initiative','Project','Grant', 'Documents Link', 'Grant Revenue Date', 'Grant Start Date', 'Grant Close Date (Adaptive Sheet)', 'Soft Close Date', 'Amount Received','Total Grant Spend', 'Institutional Overhead Note', 'Institutional Overhead',  'Grant Balance']]\n",
    "    book = load_workbook(MDpath+str)\n",
    "    sheet = book[\"Restricted Revenue\"]\n",
    "    data = table\n",
    "    rows = dataframe_to_rows(table, index=False, header=True)\n",
    "    for r_idx, row in enumerate(rows, sheet.max_row+2):\n",
    "        for c_idx, value in enumerate(row, 1):\n",
    "            sheet.cell(row=r_idx, column=c_idx, value=value)\n",
    "            sheet.cell(column=c_idx, row=r_idx).font = Font(bold=True)\n",
    "            sheet.cell(column=c_idx, row=r_idx).number_format = '\"$\"#,##0;[Red](\"$\"#,##0)'\n",
    "            if sheet.cell(column=4, row=r_idx).value is None or sheet.cell(column=4, row=r_idx).value == 'Documents Link':\n",
    "                continue\n",
    "            else:\n",
    "                try:\n",
    "                    sheet.cell(column=3, row=r_idx).hyperlink = sheet.cell(column=4, row=r_idx).value  \n",
    "                    sheet.cell(column=3, row=r_idx).value = sheet.cell(column=3, row=r_idx).value    \n",
    "                    sheet.cell(column=3, row=r_idx).style = \"Hyperlink\"   \n",
    "                except:\n",
    "                    pass    \n",
    "            if sheet.cell(column=8, row=r_idx).value == \"na\" or sheet.cell(column=8, row=r_idx).value == 'Close Date Notes':\n",
    "                continue\n",
    "            else:\n",
    "                try:\n",
    "                    sheet.cell(column=7, row=r_idx).value = sheet.cell(column=8, row=r_idx).value    \n",
    "                except:\n",
    "                    pass    \n",
    "    book.save(MDpath+str)"
   ]
  },
  {
   "cell_type": "code",
   "execution_count": 200,
   "metadata": {},
   "outputs": [],
   "source": [
    "def create_MD_pivot1(Group):\n",
    "    Month_order = ['Jul 2017', 'Aug 2017', 'Sep 2017', 'Oct 2017', 'Nov 2017', 'Dec 2017', 'Jan 2018', 'Feb 2018', 'Mar 2018', 'Apr 2018', 'May 2018', 'Jun 2018', 'Jul 2018', 'Aug 2018', 'Sep 2018', 'Oct 2018', 'Nov 2018', 'Dec 2018', 'Jan 2019', 'Feb 2019', 'Mar 2019', 'Apr 2019', 'May 2019', 'Jun 2019', 'July 2019', 'Aug 2019', 'Sep 2019', 'Oct 2019', 'Nov 2019', 'Dec 2019', 'Jan 2020', 'Feb 2020', 'Mar 2020', 'Apr 2020', 'May 2020', 'Jun 2020', 'Jul 2020', 'Aug 2020', 'Sep 2020', 'Oct 2020', 'Nov 2020', 'Dec 2020', 'Jan 2021', 'Feb 2021', 'Mar 2021', 'Apr 2021', 'May 2021', 'Jun 2021', 'Jul 2021', 'Aug 2021', 'Sep 2021', 'Oct 2021', 'Nov 2021', 'Dec 2021', 'Jan 2022', 'Feb 2022', 'Mar 2022', 'Apr 2022', 'May 2022', 'Jun 2022']\n",
    "    table = pd.pivot_table(Group, index = ['Initiative','Project','Grant', 'Documents Link', 'Grant Revenue Date', 'Grant Start Date', 'Grant Close Date (Adaptive Sheet)', 'Soft Close Date', 'Amount Received','Total Grant Spend', 'Institutional Overhead Note', 'Institutional Overhead',  'Grant Balance'], values = 'Amount', columns = 'Period', aggfunc=np.sum)\n",
    "    table2 = table.reindex(Month_order, axis=1)\n",
    "    table2['FY22 Total'] = table2.iloc[:,-12:].sum(axis=1)\n",
    "    table2['FY18-FY22 Total'] = table2.iloc[:,-61:-1].sum(axis=1)   \n",
    "    return table2"
   ]
  },
  {
   "cell_type": "code",
   "execution_count": 201,
   "metadata": {},
   "outputs": [],
   "source": [
    "def add_subtotal_MD1(PivotedGroup):\n",
    "    out = pd.concat([d.append(d.sum().rename((k,'','','','','','','','','','','','Subtotal'))) for k, d in PivotedGroup.groupby('Initiative')]).append((PivotedGroup.sum()).rename(('Grand','','','','','','','','','','','','Total')))\n",
    "    out.index = pd.MultiIndex.from_tuples(out.index)\n",
    "    return out"
   ]
  },
  {
   "cell_type": "code",
   "execution_count": 202,
   "metadata": {},
   "outputs": [],
   "source": [
    "def to_excel_MD1(df, file):\n",
    "    writer = pd.ExcelWriter(file, engine='openpyxl')\n",
    "    if os.path.exists(file):\n",
    "        book = openpyxl.load_workbook(file)\n",
    "        writer.book = book\n",
    "\n",
    "    df.to_excel(writer, sheet_name=\"Restricted Revenue\", startrow = 1)\n",
    "    writer.save()\n",
    "    writer.close()    "
   ]
  },
  {
   "cell_type": "code",
   "execution_count": 203,
   "metadata": {},
   "outputs": [],
   "source": [
    "from openpyxl.styles import Border, Side, PatternFill, Font, GradientFill, Alignment\n",
    "from openpyxl.utils import get_column_letter\n",
    "\n",
    "def edit_workbook_MD1(file):\n",
    "    book = load_workbook(file)\n",
    "    sheet = book[\"Restricted Revenue\"] #active means last opened sheet\n",
    "    rd = sheet.row_dimensions[1]\n",
    "    rd.height = 25\n",
    "    sheet['A2']= \"Initiative\"\n",
    "    sheet['B2']= \"Project\"\n",
    "    sheet['C2']= \"Grant\"    \n",
    "    sheet['D2']= \"Grant Agreement Link\"       \n",
    "    sheet['E2']= \"Grant Revenue Date\"    \n",
    "    sheet['F2']= \"Grant Start Date\"    \n",
    "    sheet['G2']= \"Grant End Date\"  \n",
    "    sheet['H2']= \"Soft Close Date\"  \n",
    "    sheet['I2']= \"Amount Received\"    \n",
    "    sheet['J2']= \"Total Grant Spend\"    \n",
    "    sheet['K2']= \"Institutional Overhead Note\"    \n",
    "    sheet['L2']= \"Institutional Overhead\"    \n",
    "    sheet['M2']= \"Grant Balance\"    \n",
    "    sheet['A2'].font = Font(bold=True)\n",
    "    sheet['B2'].font = Font(bold=True)\n",
    "    sheet['C2'].font = Font(bold=True)\n",
    "    sheet['D2'].font = Font(bold=True)\n",
    "    sheet['E2'].font = Font(bold=True)\n",
    "    sheet['F2'].font = Font(bold=True)\n",
    "    sheet['G2'].font = Font(bold=True)\n",
    "    sheet['H2'].font = Font(bold=True)\n",
    "    sheet['I2'].font = Font(bold=True)\n",
    "    sheet['J2'].font = Font(bold=True)\n",
    "    sheet['K2'].font = Font(bold=True)\n",
    "    sheet['L2'].font = Font(bold=True)\n",
    "    sheet['M2'].font = Font(bold=True)\n",
    "#    fontStyle = Font(size = \"26\")\n",
    "    sheet.merge_cells('A1:BW1')\n",
    "    top_left_cell = sheet['A1']\n",
    "    top_right_cell = sheet['BW1']\n",
    "    top_left_cell.value = \"FY22 Restricted Revenue\"\n",
    "    thin = Side(border_style=\"thin\", color=\"000000\")\n",
    "    double = Side(border_style=\"double\", color=\"000000\")\n",
    "    top_left_cell.border = Border(top=thin, left=thin, right=thin, bottom=thin)\n",
    "    top_left_cell.fill = PatternFill(\"solid\", fgColor=\"003366\")\n",
    "#    top_left_cell.fill = fill = GradientFill(stop=(\"000080\", \"FFFFFF\"))\n",
    "    top_left_cell.font  = Font(color=\"FFFFFF\", size = \"26\")\n",
    "#    top_left_cell.font = fontStyle\n",
    "    top_left_cell.alignment = Alignment(horizontal=\"center\", vertical=\"center\")\n",
    "    top_right_cell.border = Border(top=thin, left=thin, right=thin, bottom=thin)\n",
    "    sheet.column_dimensions['A'].width = 25\n",
    "    sheet.column_dimensions['B'].width = 25\n",
    "    sheet.column_dimensions['C'].width = 35\n",
    "    sheet.column_dimensions['D'].width = 15\n",
    "    sheet.column_dimensions['E'].width = 15\n",
    "    sheet.column_dimensions['F'].width = 15\n",
    "    sheet.column_dimensions['G'].width = 15\n",
    "    sheet.column_dimensions['H'].width = 15\n",
    "    sheet.column_dimensions['I'].width = 15\n",
    "    sheet.column_dimensions['J'].width = 15\n",
    "    sheet.column_dimensions['K'].width = 15\n",
    "    sheet.column_dimensions['L'].width = 15\n",
    "    sheet.column_dimensions['M'].width = 15\n",
    "    sheet.column_dimensions['BV'].width = 15\n",
    "    sheet.column_dimensions['BW'].width = 15\n",
    "    sheet.column_dimensions['E'].hidden = True\n",
    "    sheet.column_dimensions['F'].hidden = True  \n",
    "#    sheet.column_dimensions['BL'].hidden = True\n",
    "    sheet.column_dimensions['D'].hidden = True\n",
    "    sheet.column_dimensions['H'].hidden = True\n",
    "    num_rows = sheet.max_row\n",
    "    curr_row = 2\n",
    "    thin_border = Border(left=Side(style='thin'), \n",
    "                         right=Side(style='thin'), \n",
    "                         top=Side(style='thin'), \n",
    "                         bottom=Side(style='thin'))\n",
    "    for col in range(3, 4):\n",
    "        for row in range(2, num_rows+1):\n",
    "            if sheet.cell(column=4, row=row).value == 'na':\n",
    "                continue\n",
    "            else:\n",
    "                try:\n",
    "                    sheet.cell(column=col, row=row).hyperlink = sheet.cell(column=4, row=row).value  \n",
    "                    sheet.cell(column=col, row=row).value = sheet.cell(column=col, row=row).value    \n",
    "                    sheet.cell(column=col, row=row).style = \"Hyperlink\"   \n",
    "                except:\n",
    "                    pass    \n",
    "    for col in range(3, 4):\n",
    "        for row in range(2, num_rows+1):\n",
    "                sheet.cell(column=col, row=row).border = thin_border\n",
    "    for col in range(9, 76):\n",
    "        for row in range(2, num_rows+1):\n",
    "            sheet.cell(column=col, row=row).number_format = '\"$\"#,##0;[Red](\"$\"#,##0)'            \n",
    "    for col in range(74, 77):\n",
    "        for row in range(2, num_rows+1):\n",
    "            sheet.cell(column=col, row=row).border = Border(left=thin)            \n",
    "    for col in range(1, 14):\n",
    "        for row in range(3, num_rows):\n",
    "            sheet.cell(column=col, row=row).alignment = Alignment(horizontal = 'left', vertical='top')\n",
    "            sheet.cell(column=col, row=row).fill = blueFill\n",
    "    for i in range(1, sheet.max_row + 1):\n",
    "        if sheet.cell(row=i, column=13).value == \"Subtotal\":\n",
    "            for j in range(4,76):\n",
    "                sheet.cell(column=j, row=i).font = Font(bold=True)\n",
    "                sheet.cell(column=j, row=i).border = Border(bottom=Side(style='thin'))   \n",
    "            for j in range(74,76):\n",
    "                sheet.cell(column=j, row=i).border = Border(bottom=Side(style='thin'), left=thin) \n",
    "    for i in range(1, sheet.max_row + 1):\n",
    "        if sheet.cell(row=i, column=1).value == \"Grand\":\n",
    "            for j in range(1,76):\n",
    "                sheet.cell(column=j, row=i).font = Font(bold=True)\n",
    "                sheet.cell(column=j, row=i).border = Border(bottom=Side(style=\"double\"))   \n",
    "    for i in range(1, sheet.max_row + 1):\n",
    "        if sheet.cell(row=i, column=1).value == \"Initiative\":\n",
    "            for j in range(1,76):\n",
    "                sheet.cell(column=j, row=i).font = Font(bold=True)\n",
    "                sheet.cell(column=j, row=i).border = Border(top = thin, bottom = thin)  \n",
    "                sheet.cell(column=j, row=i).fill = greyFill\n",
    "    for col in range(76, 77):\n",
    "        for row in range(2, num_rows+1):\n",
    "            sheet.cell(column=col, row=row).border = Border(left=thin)  \n",
    "#    sheet.auto_filter.ref = sheet.dimensions\n",
    "    FullRange = \"A2:\" + get_column_letter(sheet.max_column) \\\n",
    "    + str(sheet.max_row)\n",
    "    sheet.auto_filter.ref = FullRange\n",
    "    sheet.sheet_view.zoomScale = 70\n",
    "    sheet.freeze_panes = \"N3\"\n",
    "    sheet.column_dimensions.group(\"N\",\"BI\",hidden=True)\n",
    "    book.save(file)"
   ]
  },
  {
   "cell_type": "code",
   "execution_count": null,
   "metadata": {},
   "outputs": [],
   "source": []
  },
  {
   "cell_type": "code",
   "execution_count": 204,
   "metadata": {},
   "outputs": [],
   "source": [
    "def format_multi_pivot_MD1(Group, str):\n",
    "    step1 = create_MD_pivot1(Group)\n",
    "    step2 = add_subtotal_MD1(step1)\n",
    "    to_excel_MD1(step2, MDpath+str)\n",
    "    edit_workbook_MD1(MDpath+str)"
   ]
  },
  {
   "cell_type": "code",
   "execution_count": 205,
   "metadata": {},
   "outputs": [
    {
     "data": {
      "text/plain": [
       "['Development - October 2021',\n",
       " 'Finance - October 2021',\n",
       " 'Operations - October 2021',\n",
       " 'Strategic Analysis and Engagement - October 2021',\n",
       " 'China - October 2021',\n",
       " 'Carbon-Free Buildings - October 2021',\n",
       " 'India - October 2021',\n",
       " 'Carbon-Free Electricity - October 2021',\n",
       " 'Carbon-Free Mobility - October 2021',\n",
       " 'WattTime - October 2021',\n",
       " 'Industry - October 2021',\n",
       " 'Communications - October 2021',\n",
       " 'Urban Transformation - October 2021',\n",
       " 'Climate Aligned Industries - October 2021',\n",
       " 'Third Derivative - October 2021',\n",
       " 'Climate Intelligence - October 2021',\n",
       " 'US - October 2021',\n",
       " 'CFAN - October 2021',\n",
       " 'Cross-Program Impact Acceleration - October 2021',\n",
       " 'Canary Media Program - October 2021',\n",
       " 'Global South - October 2021']"
      ]
     },
     "execution_count": 205,
     "metadata": {},
     "output_type": "execute_result"
    }
   ],
   "source": [
    "CoverNames"
   ]
  },
  {
   "cell_type": "code",
   "execution_count": 206,
   "metadata": {},
   "outputs": [],
   "source": [
    "#!pip install openpyxl==3.0.7"
   ]
  },
  {
   "cell_type": "code",
   "execution_count": 207,
   "metadata": {},
   "outputs": [],
   "source": [
    "format_multi_pivot_MD1(Developing_Economies_Rollup, '\\\\Global South - '+timestampMD+' - MD Package.xlsx')\n",
    "format_multi_pivot_MD1(Climate_Aligned_Industries, '\\\\Climate Aligned Industries - '+timestampMD+' - MD Package.xlsx')\n",
    "format_multi_pivot_MD1(India, '\\\\India - '+timestampMD+' - MD Package.xlsx')\n",
    "format_multi_pivot_MD1(Operations, '\\\\Operations - '+timestampMD+' - MD Package.xlsx')\n",
    "#format_multi_pivot_MD1(Development, '\\\\Development - '+timestampMD+' - MD Package.xlsx')\n",
    "#format_multi_pivot_MD1(Communications, '\\\\Communications - '+timestampMD+' - MD Package.xlsx')\n",
    "format_multi_pivot_MD1(China_Rollup, '\\\\China - '+timestampMD+' - MD Package.xlsx')\n",
    "#format_multi_pivot_MD1(Breakthrough_Technology, '\\\\M3 - '+timestampMD+' - MD Package.xlsx')\n",
    "#format_multi_pivot_MD1(CrossProgramImpactAcceleration, '\\\\Cross-Program Impact Acceleration - '+timestampMD+' - MD Package.xlsx')\n",
    "format_multi_pivot_MD1(CarbonFree_Mobility, '\\\\Carbon-Free Mobility - '+timestampMD+' - MD Package.xlsx')\n",
    "format_multi_pivot_MD1(CarbonFree_Electricty, '\\\\Carbon-Free Electricity - '+timestampMD+' - MD Package.xlsx')\n",
    "format_multi_pivot_MD1(Strategic_Engagement_and_Analysis_Group, '\\\\Strategic Analysis and Engagement - '+timestampMD+' - MD Package.xlsx')\n",
    "format_multi_pivot_MD1(CarbonFreeBuildings_Rollup, '\\\\Carbon-Free Buildings - '+timestampMD+' - MD Package.xlsx')\n",
    "format_multi_pivot_MD1(Urban_Transformation, '\\\\Urban Transformation - '+timestampMD+' - MD Package.xlsx')\n",
    "format_multi_pivot_MD1(Climate_Intelligence, '\\\\Climate Intelligence - '+timestampMD+' - MD Package.xlsx')\n",
    "format_multi_pivot_MD1(Industry, '\\\\Industry - '+timestampMD+' - MD Package.xlsx')\n",
    "format_multi_pivot_MD1(US, '\\\\US - '+timestampMD+' - MD Package.xlsx')\n",
    "#format_multi_pivot_MD1(WattTime, '\\\\WattTime - '+timestampMD+' - MD Package.xlsx')\n",
    "format_multi_pivot_MD1(Global_Climate_Finance, '\\\\Finance - '+timestampMD+' - MD Package.xlsx')\n",
    "format_multi_pivot_MD1(D3, '\\\\Third Derivative - '+timestampMD+' - MD Package.xlsx')"
   ]
  },
  {
   "cell_type": "code",
   "execution_count": 208,
   "metadata": {},
   "outputs": [],
   "source": [
    "create_data_GrantZeroBalance(ChinaGrantNOEXP,'\\\\China - '+timestampMD+' - MD Package.xlsx')\n",
    "create_data_GrantZeroBalance(CFEGrantNOEXP,'\\\\Carbon-Free Electricity - '+timestampMD+' - MD Package.xlsx')\n",
    "create_data_GrantZeroBalance(UTGrantNOEXP,'\\\\Urban Transformation - '+timestampMD+' - MD Package.xlsx')\n",
    "create_data_GrantZeroBalance(CAIGrantNOEXP,'\\\\Climate Aligned Industries - '+timestampMD+' - MD Package.xlsx')\n",
    "create_data_GrantZeroBalance(CFRRollingGrantNOEXP,'\\\\Carbon-Free Buildings - '+timestampMD+' - MD Package.xlsx')\n",
    "#create_data_GrantZeroBalance(BTGrantNOEXP,'\\\\M3 - '+timestampMD+' - MD Package.xlsx')\n",
    "create_data_GrantZeroBalance(CFMGrantNOEXP,'\\\\Carbon-Free Mobility - '+timestampMD+' - MD Package.xlsx')\n",
    "create_data_GrantZeroBalance(IndiaGrantNOEXP,'\\\\India - '+timestampMD+' - MD Package.xlsx')\n",
    "create_data_GrantZeroBalance(GCFGrantNOEXP,'\\\\Finance - '+timestampMD+' - MD Package.xlsx')\n",
    "create_data_GrantZeroBalance(SEAGrantNOEXP,'\\\\Strategic Analysis and Engagement - '+timestampMD+' - MD Package.xlsx')\n",
    "#create_data_GrantZeroBalance(WattTimeGrantNOEXP,'\\\\WattTime - '+timestampMD+' - MD Package.xlsx')\n",
    "create_data_GrantZeroBalance(USGrantNOEXP,'\\\\US - '+timestampMD+' - MD Package.xlsx')\n",
    "create_data_GrantZeroBalance(CIGrantNOEXP,'\\\\Climate Intelligence - '+timestampMD+' - MD Package.xlsx')\n",
    "create_data_GrantZeroBalance(DEGrantNOEXP,'\\\\Global South - '+timestampMD+' - MD Package.xlsx')\n",
    "create_data_GrantZeroBalance(D3GrantNOEXP,'\\\\Third Derivative - '+timestampMD+' - MD Package.xlsx')"
   ]
  },
  {
   "cell_type": "code",
   "execution_count": null,
   "metadata": {},
   "outputs": [],
   "source": []
  },
  {
   "cell_type": "markdown",
   "metadata": {},
   "source": [
    "## Restricted Revenue tab by Grant and Project"
   ]
  },
  {
   "cell_type": "code",
   "execution_count": 209,
   "metadata": {},
   "outputs": [],
   "source": [
    "def create_MD_pivot1a(Group):\n",
    "    Month_order = ['Jul 2017', 'Aug 2017', 'Sep 2017', 'Oct 2017', 'Nov 2017', 'Dec 2017', 'Jan 2018', 'Feb 2018', 'Mar 2018', 'Apr 2018', 'May 2018', 'Jun 2018', 'Jul 2018', 'Aug 2018', 'Sep 2018', 'Oct 2018', 'Nov 2018', 'Dec 2018', 'Jan 2019', 'Feb 2019', 'Mar 2019', 'Apr 2019', 'May 2019', 'Jun 2019', 'July 2019', 'Aug 2019', 'Sep 2019', 'Oct 2019', 'Nov 2019', 'Dec 2019', 'Jan 2020', 'Feb 2020', 'Mar 2020', 'Apr 2020', 'May 2020', 'Jun 2020', 'Jul 2020', 'Aug 2020', 'Sep 2020', 'Oct 2020', 'Nov 2020', 'Dec 2020', 'Jan 2021', 'Feb 2021', 'Mar 2021', 'Apr 2021', 'May 2021', 'Jun 2021', 'Jul 2021', 'Aug 2021', 'Sep 2021', 'Oct 2021', 'Nov 2021', 'Dec 2021', 'Jan 2022', 'Feb 2022', 'Mar 2022', 'Apr 2022', 'May 2022', 'Jun 2022']\n",
    "    table = pd.pivot_table(Group, index = ['Initiative','Grant','Project','Documents Link', 'Grant Revenue Date', 'Grant Start Date', 'Grant Close Date (Adaptive Sheet)', 'Soft Close Date', 'Amount Received','Total Grant Spend', 'Institutional Overhead Note', 'Institutional Overhead',  'Grant Balance'], values = 'Amount', columns = 'Period', aggfunc=np.sum)\n",
    "    table2 = table.reindex(Month_order, axis=1)\n",
    "    table2['FY22 Total'] = table2.iloc[:,-12:].sum(axis=1)\n",
    "    table2['FY18-FY22 Total'] = table2.iloc[:,-61:-1].sum(axis=1)   \n",
    "    return table2"
   ]
  },
  {
   "cell_type": "code",
   "execution_count": 210,
   "metadata": {},
   "outputs": [],
   "source": [
    "def add_subtotal_MD1a(PivotedGroup):\n",
    "    out = pd.concat([d.append(d.sum().rename((k,'','','','','','','','','','','','Subtotal'))) for k, d in PivotedGroup.groupby('Initiative')]).append((PivotedGroup.sum()).rename(('Grand','','','','','','','','','','','','Total')))\n",
    "    out.index = pd.MultiIndex.from_tuples(out.index)\n",
    "    return out"
   ]
  },
  {
   "cell_type": "code",
   "execution_count": 211,
   "metadata": {},
   "outputs": [],
   "source": [
    "def to_excel_MD1a(df, file):\n",
    "    writer = pd.ExcelWriter(file, engine='openpyxl')\n",
    "    if os.path.exists(file):\n",
    "        book = openpyxl.load_workbook(file)\n",
    "        writer.book = book\n",
    "\n",
    "    df.to_excel(writer, sheet_name=\"Restricted Revenue ReOrg\", startrow = 1)\n",
    "    writer.save()\n",
    "    writer.close()  "
   ]
  },
  {
   "cell_type": "code",
   "execution_count": 212,
   "metadata": {},
   "outputs": [],
   "source": [
    "from openpyxl.styles import Border, Side, PatternFill, Font, GradientFill, Alignment\n",
    "from openpyxl.utils import get_column_letter\n",
    "\n",
    "def edit_workbook_MD1a(file):\n",
    "    book = load_workbook(file)\n",
    "    sheet = book[\"Restricted Revenue ReOrg\"] #active means last opened sheet\n",
    "    rd = sheet.row_dimensions[1]\n",
    "    rd.height = 25\n",
    "    sheet['A2']= \"Initiative\"\n",
    "    sheet['B2']= \"Grant\"\n",
    "    sheet['C2']= \"Project\"    \n",
    "    sheet['D2']= \"Grant Agreement Link\"       \n",
    "    sheet['E2']= \"Grant Revenue Date\"    \n",
    "    sheet['F2']= \"Grant Start Date\"    \n",
    "    sheet['G2']= \"Grant Close Date\"  \n",
    "    sheet['H2']= \"Soft Close Date\"   \n",
    "    sheet['I2']= \"Amount Received\"    \n",
    "    sheet['J2']= \"Total Grant Spend\"    \n",
    "    sheet['K2']= \"Institutional Overhead Note\"    \n",
    "    sheet['L2']= \"Institutional Overhead\"    \n",
    "    sheet['M2']= \"Grant Balance\"    \n",
    "    sheet['A2'].font = Font(bold=True)\n",
    "    sheet['B2'].font = Font(bold=True)\n",
    "    sheet['C2'].font = Font(bold=True)\n",
    "    sheet['D2'].font = Font(bold=True)\n",
    "    sheet['E2'].font = Font(bold=True)\n",
    "    sheet['F2'].font = Font(bold=True)\n",
    "    sheet['G2'].font = Font(bold=True)\n",
    "    sheet['H2'].font = Font(bold=True)\n",
    "    sheet['I2'].font = Font(bold=True)\n",
    "    sheet['J2'].font = Font(bold=True)\n",
    "    sheet['K2'].font = Font(bold=True)\n",
    "    sheet['L2'].font = Font(bold=True)\n",
    "    sheet['M2'].font = Font(bold=True)\n",
    "#    fontStyle = Font(size = \"26\")\n",
    "    sheet.merge_cells('A1:BW1')\n",
    "    top_left_cell = sheet['A1']\n",
    "    top_right_cell = sheet['BW1']\n",
    "    top_left_cell.value = \"FY22 Restricted Revenue\"\n",
    "    thin = Side(border_style=\"thin\", color=\"000000\")\n",
    "    double = Side(border_style=\"double\", color=\"000000\")\n",
    "    top_left_cell.border = Border(top=thin, left=thin, right=thin, bottom=thin)\n",
    "    top_left_cell.fill = PatternFill(\"solid\", fgColor=\"003366\")\n",
    "#    top_left_cell.fill = fill = GradientFill(stop=(\"000080\", \"FFFFFF\"))\n",
    "    top_left_cell.font  = Font(color=\"FFFFFF\", size = \"26\")\n",
    "#    top_left_cell.font = fontStyle\n",
    "    top_left_cell.alignment = Alignment(horizontal=\"center\", vertical=\"center\")\n",
    "    top_right_cell.border = Border(top=thin, left=thin, right=thin, bottom=thin)\n",
    "    sheet.column_dimensions['A'].width = 25\n",
    "    sheet.column_dimensions['B'].width = 25\n",
    "    sheet.column_dimensions['C'].width = 35\n",
    "    sheet.column_dimensions['D'].width = 15\n",
    "    sheet.column_dimensions['E'].width = 15\n",
    "    sheet.column_dimensions['F'].width = 15\n",
    "    sheet.column_dimensions['G'].width = 15\n",
    "    sheet.column_dimensions['H'].width = 15\n",
    "    sheet.column_dimensions['I'].width = 15\n",
    "    sheet.column_dimensions['J'].width = 15\n",
    "    sheet.column_dimensions['K'].width = 15\n",
    "    sheet.column_dimensions['L'].width = 15\n",
    "    sheet.column_dimensions['M'].width = 15\n",
    "    sheet.column_dimensions['BV'].width = 15\n",
    "    sheet.column_dimensions['BW'].width = 15\n",
    "    sheet.column_dimensions['E'].hidden = True\n",
    "    sheet.column_dimensions['F'].hidden = True   \n",
    "#    sheet.column_dimensions['BL'].hidden = True\n",
    "    sheet.column_dimensions['D'].hidden = True\n",
    "    sheet.column_dimensions['H'].hidden = True\n",
    "    num_rows = sheet.max_row\n",
    "    curr_row = 2\n",
    "    thin_border = Border(left=Side(style='thin'), \n",
    "                         right=Side(style='thin'), \n",
    "                         top=Side(style='thin'), \n",
    "                         bottom=Side(style='thin'))\n",
    "    for col in range(2, 3):\n",
    "        for row in range(2, num_rows+1):\n",
    "            if sheet.cell(column=4, row=row).value == 'na':\n",
    "                continue\n",
    "            else:\n",
    "                try:\n",
    "                    sheet.cell(column=col, row=row).hyperlink = sheet.cell(column=4, row=row).value  \n",
    "                    sheet.cell(column=col, row=row).value = sheet.cell(column=col, row=row).value    \n",
    "                    sheet.cell(column=col, row=row).style = \"Hyperlink\"   \n",
    "                except:\n",
    "                    pass    \n",
    "    for col in range(3, 4):\n",
    "        for row in range(2, num_rows+1):\n",
    "                sheet.cell(column=col, row=row).border = thin_border\n",
    "    for col in range(9, 76):\n",
    "        for row in range(2, num_rows+1):\n",
    "            sheet.cell(column=col, row=row).number_format = '\"$\"#,##0;[Red](\"$\"#,##0)'            \n",
    "    for col in range(74, 77):\n",
    "        for row in range(2, num_rows+1):\n",
    "            sheet.cell(column=col, row=row).border = Border(left=thin)            \n",
    "    for col in range(1, 14):\n",
    "        for row in range(3, num_rows):\n",
    "            sheet.cell(column=col, row=row).alignment = Alignment(horizontal = 'left', vertical='top')\n",
    "            sheet.cell(column=col, row=row).fill = blueFill\n",
    "    for i in range(1, sheet.max_row + 1):\n",
    "        if sheet.cell(row=i, column=13).value == \"Subtotal\":\n",
    "            for j in range(4,76):\n",
    "                sheet.cell(column=j, row=i).font = Font(bold=True)\n",
    "                sheet.cell(column=j, row=i).border = Border(bottom=Side(style='thin'))   \n",
    "            for j in range(74,76):\n",
    "                sheet.cell(column=j, row=i).border = Border(bottom=Side(style='thin'), left=thin) \n",
    "    for i in range(1, sheet.max_row + 1):\n",
    "        if sheet.cell(row=i, column=1).value == \"Grand\":\n",
    "            for j in range(1,76):\n",
    "                sheet.cell(column=j, row=i).font = Font(bold=True)\n",
    "                sheet.cell(column=j, row=i).border = Border(bottom=Side(style=\"double\"))   \n",
    "    for i in range(1, sheet.max_row + 1):\n",
    "        if sheet.cell(row=i, column=1).value == \"Initiative\":\n",
    "            for j in range(1,76):\n",
    "                sheet.cell(column=j, row=i).font = Font(bold=True)\n",
    "                sheet.cell(column=j, row=i).border = Border(top = thin, bottom = thin)  \n",
    "                sheet.cell(column=j, row=i).fill = greyFill\n",
    "    for col in range(76, 77):\n",
    "        for row in range(2, num_rows+1):\n",
    "            sheet.cell(column=col, row=row).border = Border(left=thin)  \n",
    "#    sheet.auto_filter.ref = sheet.dimensions\n",
    "    FullRange = \"A2:\" + get_column_letter(sheet.max_column) \\\n",
    "    + str(sheet.max_row)\n",
    "    sheet.auto_filter.ref = FullRange\n",
    "    sheet.sheet_view.zoomScale = 70\n",
    "    sheet.freeze_panes = \"N3\"\n",
    "    sheet.sheet_state = 'hidden'\n",
    "    sheet.column_dimensions.group(\"N\",\"BI\",hidden=True)\n",
    "    book.save(file)"
   ]
  },
  {
   "cell_type": "code",
   "execution_count": 213,
   "metadata": {},
   "outputs": [],
   "source": [
    "def format_multi_pivot_MD1a(Group, str):\n",
    "    step1 = create_MD_pivot1a(Group)\n",
    "    step2 = add_subtotal_MD1a(step1)\n",
    "    to_excel_MD1a(step2, MDpath+str)\n",
    "    edit_workbook_MD1a(MDpath+str)"
   ]
  },
  {
   "cell_type": "code",
   "execution_count": 214,
   "metadata": {},
   "outputs": [],
   "source": [
    "format_multi_pivot_MD1a(Developing_Economies_Rollup, '\\\\Global South - '+timestampMD+' - MD Package.xlsx')\n",
    "format_multi_pivot_MD1a(Climate_Aligned_Industries, '\\\\Climate Aligned Industries - '+timestampMD+' - MD Package.xlsx')\n",
    "format_multi_pivot_MD1a(India, '\\\\India - '+timestampMD+' - MD Package.xlsx')\n",
    "format_multi_pivot_MD1a(Operations, '\\\\Operations - '+timestampMD+' - MD Package.xlsx')\n",
    "#format_multi_pivot_MD1a(Development, '\\\\Development - '+timestampMD+' - MD Package.xlsx')\n",
    "#format_multi_pivot_MD1a(Communications, '\\\\Communications - '+timestampMD+' - MD Package.xlsx')\n",
    "format_multi_pivot_MD1a(China_Rollup, '\\\\China - '+timestampMD+' - MD Package.xlsx')\n",
    "#format_multi_pivot_MD1a(Breakthrough_Technology, '\\\\M3 - '+timestampMD+' - MD Package.xlsx')\n",
    "#format_multi_pivot_MD1a(CrossProgramImpactAcceleration, '\\\\Cross-Program Impact Acceleration - '+timestampMD+' - MD Package.xlsx')\n",
    "format_multi_pivot_MD1a(CarbonFree_Mobility, '\\\\Carbon-Free Mobility - '+timestampMD+' - MD Package.xlsx')\n",
    "format_multi_pivot_MD1a(CarbonFree_Electricty, '\\\\Carbon-Free Electricity - '+timestampMD+' - MD Package.xlsx')\n",
    "format_multi_pivot_MD1a(Strategic_Engagement_and_Analysis_Group, '\\\\Strategic Analysis and Engagement - '+timestampMD+' - MD Package.xlsx')\n",
    "format_multi_pivot_MD1a(CarbonFreeBuildings_Rollup, '\\\\Carbon-Free Buildings - '+timestampMD+' - MD Package.xlsx')\n",
    "format_multi_pivot_MD1a(Urban_Transformation, '\\\\Urban Transformation - '+timestampMD+' - MD Package.xlsx')\n",
    "format_multi_pivot_MD1a(Climate_Intelligence, '\\\\Climate Intelligence - '+timestampMD+' - MD Package.xlsx')\n",
    "format_multi_pivot_MD1a(Industry, '\\\\Industry - '+timestampMD+' - MD Package.xlsx')\n",
    "format_multi_pivot_MD1a(US, '\\\\US - '+timestampMD+' - MD Package.xlsx')\n",
    "#format_multi_pivot_MD1a(WattTime, '\\\\WattTime - '+timestampMD+' - MD Package.xlsx')\n",
    "format_multi_pivot_MD1a(Global_Climate_Finance, '\\\\Finance - '+timestampMD+' - MD Package.xlsx')\n",
    "format_multi_pivot_MD1a(D3, '\\\\Third Derivative - '+timestampMD+' - MD Package.xlsx')"
   ]
  },
  {
   "cell_type": "code",
   "execution_count": 215,
   "metadata": {},
   "outputs": [],
   "source": [
    "from openpyxl.utils.dataframe import dataframe_to_rows\n",
    "\n",
    "def create_data_GrantZeroBalance2(Group, str):\n",
    "    table = Group[['Initiative','Grant','Project', 'Documents Link', 'Grant Revenue Date', 'Grant Start Date', 'Grant Close Date (Adaptive Sheet)', 'Soft Close Date', 'Amount Received','Total Grant Spend', 'Institutional Overhead Note', 'Institutional Overhead',  'Grant Balance']]\n",
    "    book = load_workbook(MDpath+str)\n",
    "    sheet = book[\"Restricted Revenue ReOrg\"]\n",
    "    data = table\n",
    "    rows = dataframe_to_rows(table, index=False, header=True)\n",
    "    for r_idx, row in enumerate(rows, sheet.max_row+2):\n",
    "        for c_idx, value in enumerate(row, 1):\n",
    "            sheet.cell(row=r_idx, column=c_idx, value=value)\n",
    "            sheet.cell(column=c_idx, row=r_idx).font = Font(bold=True)\n",
    "            sheet.cell(column=c_idx, row=r_idx).number_format = '\"$\"#,##0;[Red](\"$\"#,##0)'\n",
    "            if sheet.cell(column=4, row=r_idx).value is None or sheet.cell(column=4, row=r_idx).value == 'Documents Link':\n",
    "                continue\n",
    "            else:\n",
    "                try:\n",
    "                    sheet.cell(column=3, row=r_idx).hyperlink = sheet.cell(column=4, row=r_idx).value  \n",
    "                    sheet.cell(column=3, row=r_idx).value = sheet.cell(column=3, row=r_idx).value    \n",
    "                    sheet.cell(column=3, row=r_idx).style = \"Hyperlink\"   \n",
    "                except:\n",
    "                    pass    \n",
    "            if sheet.cell(column=8, row=r_idx).value == \"na\" or sheet.cell(column=8, row=r_idx).value == 'Close Date Notes':\n",
    "                continue\n",
    "            else:\n",
    "                try:\n",
    "                    sheet.cell(column=7, row=r_idx).value = sheet.cell(column=8, row=r_idx).value    \n",
    "                except:\n",
    "                    pass    \n",
    "    book.save(MDpath+str)"
   ]
  },
  {
   "cell_type": "code",
   "execution_count": 216,
   "metadata": {},
   "outputs": [],
   "source": [
    "create_data_GrantZeroBalance2(ChinaGrantNOEXP,'\\\\China - '+timestampMD+' - MD Package.xlsx')\n",
    "create_data_GrantZeroBalance2(CFEGrantNOEXP,'\\\\Carbon-Free Electricity - '+timestampMD+' - MD Package.xlsx')\n",
    "create_data_GrantZeroBalance2(UTGrantNOEXP,'\\\\Urban Transformation - '+timestampMD+' - MD Package.xlsx')\n",
    "create_data_GrantZeroBalance2(CAIGrantNOEXP,'\\\\Climate Aligned Industries - '+timestampMD+' - MD Package.xlsx')\n",
    "create_data_GrantZeroBalance2(CFRRollingGrantNOEXP,'\\\\Carbon-Free Buildings - '+timestampMD+' - MD Package.xlsx')\n",
    "#create_data_GrantZeroBalance2(BTGrantNOEXP,'\\\\M3 - '+timestampMD+' - MD Package.xlsx')\n",
    "create_data_GrantZeroBalance2(CFMGrantNOEXP,'\\\\Carbon-Free Mobility - '+timestampMD+' - MD Package.xlsx')\n",
    "create_data_GrantZeroBalance2(IndiaGrantNOEXP,'\\\\India - '+timestampMD+' - MD Package.xlsx')\n",
    "create_data_GrantZeroBalance2(GCFGrantNOEXP,'\\\\Finance - '+timestampMD+' - MD Package.xlsx')\n",
    "create_data_GrantZeroBalance2(SEAGrantNOEXP,'\\\\Strategic Analysis and Engagement - '+timestampMD+' - MD Package.xlsx')\n",
    "#create_data_GrantZeroBalance2(WattTimeGrantNOEXP,'\\\\WattTime - '+timestampMD+' - MD Package.xlsx')\n",
    "create_data_GrantZeroBalance2(USGrantNOEXP,'\\\\US - '+timestampMD+' - MD Package.xlsx')\n",
    "create_data_GrantZeroBalance2(CIGrantNOEXP,'\\\\Climate Intelligence - '+timestampMD+' - MD Package.xlsx')\n",
    "create_data_GrantZeroBalance2(DEGrantNOEXP,'\\\\Global South - '+timestampMD+' - MD Package.xlsx')\n",
    "create_data_GrantZeroBalance2(D3GrantNOEXP,'\\\\Third Derivative - '+timestampMD+' - MD Package.xlsx')\n"
   ]
  },
  {
   "cell_type": "code",
   "execution_count": null,
   "metadata": {},
   "outputs": [],
   "source": []
  },
  {
   "cell_type": "code",
   "execution_count": null,
   "metadata": {},
   "outputs": [],
   "source": []
  },
  {
   "cell_type": "code",
   "execution_count": null,
   "metadata": {},
   "outputs": [],
   "source": []
  },
  {
   "cell_type": "markdown",
   "metadata": {},
   "source": [
    "## Create FFS Dataset"
   ]
  },
  {
   "cell_type": "code",
   "execution_count": 217,
   "metadata": {},
   "outputs": [],
   "source": [
    "dfFFSDataZeros = dfFFSDataZeros[['Program','Initiative','Project','Contract?','Project Type', 'Contract Start Date', 'Contract End Date','Invoice Type', 'Invoicing Notes', 'Current Month Action', 'Revenue Recognition Notes', 'Contract Amount', 'Total Revenue Recognized', 'Reimbursables NTE', 'Reimbursables Actual', 'Remaining Revenue']]\n",
    "\n",
    "dfFFSDataZeros[\"Revenue/Expense\"] = \"\"\n",
    "dfFFSDataZeros[\"Rollup Account\"] = \"\"\n",
    "\n",
    "ChinaFFSNOREV = dfFFSDataZeros[dfFFSDataZeros[\"Program\"]==\"China\"]\n",
    "CFEFFSNOREV = dfFFSDataZeros[dfFFSDataZeros[\"Program\"]==\"Carbon-Free Electricity\"]\n",
    "UTFFSNOREV = dfFFSDataZeros[dfFFSDataZeros[\"Program\"]==\"Urban Transformation\"]\n",
    "CAIFFSNOREV = dfFFSDataZeros[dfFFSDataZeros[\"Program\"]==\"Climate Aligned Industries\"]\n",
    "CFBFFSNOREV = dfFFSDataZeros[dfFFSDataZeros[\"Program\"]==\"Carbon-Free Buildings\"]\n",
    "BTFFSNOREV = dfFFSDataZeros[dfFFSDataZeros[\"Program\"]==\"M3\"]\n",
    "CFMFFSNOREV = dfFFSDataZeros[dfFFSDataZeros[\"Program\"]==\"Carbon-Free Mobility\"]\n",
    "ISLANDSFFSNOREV = dfFFSDataZeros[dfFFSDataZeros[\"Program\"]==\"Islands\"]\n",
    "CIFFSNOREV = dfFFSDataZeros[dfFFSDataZeros[\"Program\"]==\"Climate Intelligence\"]\n",
    "D3NOREV = dfFFSDataZeros[dfFFSDataZeros[\"Program\"]==\"Third Derivative\"]\n"
   ]
  },
  {
   "cell_type": "code",
   "execution_count": null,
   "metadata": {},
   "outputs": [],
   "source": []
  },
  {
   "cell_type": "markdown",
   "metadata": {},
   "source": [
    "## Create Total Expenses by Initiative and Project"
   ]
  },
  {
   "cell_type": "code",
   "execution_count": 218,
   "metadata": {},
   "outputs": [],
   "source": [
    "def create_MD_pivot7(Group):\n",
    "    Month_order = ['Jul 2021', 'Aug 2021', 'Sep 2021', 'Oct 2021', 'Nov 2021', 'Dec 2021', 'Jan 2022', 'Feb 2022', 'Mar 2022', 'Apr 2022', 'May 2022', 'Jun 2022']\n",
    "    table = pd.pivot_table(Group, index = ['Initiative','Project','Rollup Account'], values = 'Amount', columns = 'Period', aggfunc=np.sum)\n",
    "    table2 = table.reindex(Month_order, axis=1)\n",
    "    table2['Total FY22'] = table2.iloc[:,-12:].sum(axis=1)\n",
    "    return table2"
   ]
  },
  {
   "cell_type": "code",
   "execution_count": 219,
   "metadata": {},
   "outputs": [],
   "source": [
    "def add_subtotal_MD7(PivotedGroup):\n",
    "    out = pd.concat([d.append(d.sum().rename((k,'','Subtotal'))) for k, d in PivotedGroup.groupby('Project')]).append((PivotedGroup.sum()).rename(('Grand', '','Total')))\n",
    "    out.index = pd.MultiIndex.from_tuples(out.index)\n",
    "    return out"
   ]
  },
  {
   "cell_type": "code",
   "execution_count": null,
   "metadata": {},
   "outputs": [],
   "source": []
  },
  {
   "cell_type": "code",
   "execution_count": 220,
   "metadata": {},
   "outputs": [],
   "source": [
    "def to_excel_MD7(df, file):\n",
    "    writer = pd.ExcelWriter(file, engine='openpyxl')\n",
    "    if os.path.exists(file):\n",
    "        book = openpyxl.load_workbook(file)\n",
    "        writer.book = book\n",
    "\n",
    "    df.to_excel(writer, sheet_name=\"Expenses by Project\", startrow = 1)\n",
    "    writer.save()\n",
    "    writer.close()    "
   ]
  },
  {
   "cell_type": "code",
   "execution_count": 221,
   "metadata": {},
   "outputs": [],
   "source": [
    "def edit_workbook_MD7(file):\n",
    "    book = load_workbook(file)\n",
    "    sheet = book[\"Expenses by Project\"] #active means last opened sheet\n",
    "    rd = sheet.row_dimensions[1]\n",
    "    rd.height = 25\n",
    "    sheet['A2']= \"Initiative\"\n",
    "    sheet['B2']= \"Project\"\n",
    "    sheet['C2']= \"Account Category\"\n",
    "    sheet['A2'].font = Font(bold=True)\n",
    "    sheet['B2'].font = Font(bold=True)\n",
    "    sheet['C2'].font = Font(bold=True)\n",
    "#    fontStyle = Font(size = \"20\")\n",
    "    sheet.merge_cells('A1:P1')\n",
    "    top_left_cell = sheet['A1']\n",
    "    top_right_cell = sheet['P1']\n",
    "    top_left_cell.value = \"FY22 Total Program Expenses by Initiative and Project\"\n",
    "    thin = Side(border_style=\"thin\", color=\"000000\")\n",
    "    double = Side(border_style=\"double\", color=\"000000\")\n",
    "    top_left_cell.border = Border(top=thin, left=thin, right=thin, bottom=thin)\n",
    "    top_left_cell.fill = PatternFill(\"solid\", fgColor=\"003366\")\n",
    "#    top_left_cell.fill = fill = GradientFill(stop=(\"000080\", \"FFFFFF\"))\n",
    "    top_left_cell.font  = Font(color=\"FFFFFF\", size = \"26\")\n",
    "#    top_left_cell.font = fontStyle\n",
    "    top_left_cell.alignment = Alignment(horizontal=\"center\", vertical=\"center\")\n",
    "    top_right_cell.border = Border(top=thin, left=thin, right=thin, bottom=thin)\n",
    "    sheet.column_dimensions['A'].width = 25\n",
    "    sheet.column_dimensions['B'].width = 25\n",
    "    sheet.column_dimensions['C'].width = 30\n",
    "    sheet.column_dimensions['D'].width = 15\n",
    "    sheet.column_dimensions['E'].width = 15\n",
    "    sheet.column_dimensions['F'].width = 15\n",
    "    sheet.column_dimensions['G'].width = 15\n",
    "    sheet.column_dimensions['H'].width = 15\n",
    "    sheet.column_dimensions['I'].width = 15\n",
    "    sheet.column_dimensions['J'].width = 15\n",
    "    sheet.column_dimensions['K'].width = 15\n",
    "    sheet.column_dimensions['L'].width = 15\n",
    "    sheet.column_dimensions['M'].width = 15\n",
    "    sheet.column_dimensions['N'].width = 15\n",
    "    sheet.column_dimensions['O'].width = 15\n",
    "    sheet.column_dimensions['P'].width = 15\n",
    "#    sheet.column_dimensions['D'].hidden = True\n",
    "    num_rows = sheet.max_row\n",
    "    curr_row = 2\n",
    "    for col in range(4, 17):\n",
    "        for row in range(2, num_rows+1):\n",
    "            sheet.cell(column=col, row=row).number_format = '\"$\"#,##0;[Red](\"$\"#,##0)'\n",
    "    for col in range(1, 4):\n",
    "        for row in range(3, num_rows):\n",
    "            sheet.cell(column=col, row=row).alignment = Alignment(horizontal = 'left', vertical='top')\n",
    "            sheet.cell(column=col, row=row).fill = blueFill\n",
    "    for i in range(1, sheet.max_row + 1):\n",
    "        if sheet.cell(row=i, column=3).value == \"Subtotal\":\n",
    "            for j in range(3,17):\n",
    "                sheet.cell(column=j, row=i).font = Font(bold=True)\n",
    "                sheet.cell(column=j, row=i).border = Border(bottom=Side(style='thin'))     \n",
    "    for i in range(1, sheet.max_row + 1):\n",
    "        if sheet.cell(row=i, column=1).value == \"Grand\":\n",
    "            for j in range(1,17):\n",
    "                sheet.cell(column=j, row=i).font = Font(bold=True)\n",
    "                sheet.cell(column=j, row=i).border = Border(bottom=Side(style=\"double\"))   \n",
    "    for i in range(1, sheet.max_row + 1):\n",
    "        if sheet.cell(row=i, column=1).value == \"Initiative\":\n",
    "            for j in range(1,17):\n",
    "                sheet.cell(column=j, row=i).font = Font(bold=True)\n",
    "                sheet.cell(column=j, row=i).border = Border(top = thin, bottom = thin)   \n",
    "                sheet.cell(column=j, row=i).fill = greyFill\n",
    "    for col in range(17, 18):\n",
    "        for row in range(2, num_rows+1):\n",
    "            sheet.cell(column=col, row=row).border = Border(left=thin)\n",
    "#    sheet.auto_filter.ref = sheet.dimensions\n",
    "    sheet.sheet_view.zoomScale = 70\n",
    "    sheet.freeze_panes = \"D3\"\n",
    "    sheet.sheet_state = 'hidden'\n",
    "    book.save(file)"
   ]
  },
  {
   "cell_type": "code",
   "execution_count": 222,
   "metadata": {},
   "outputs": [],
   "source": [
    "def format_multi_pivot_MD7(Group, str):\n",
    "    step1 = create_MD_pivot7(Group)\n",
    "    step2 = add_subtotal_MD7(step1)\n",
    "    to_excel_MD7(step2, MDpath+str)\n",
    "    edit_workbook_MD7(MDpath+str)"
   ]
  },
  {
   "cell_type": "code",
   "execution_count": 223,
   "metadata": {},
   "outputs": [],
   "source": [
    "format_multi_pivot_MD7(Developing_Economies_RollupExp, '\\\\Global South - '+timestampMD+' - MD Package.xlsx')\n",
    "format_multi_pivot_MD7(ClimateAligned_IndustriesExp, '\\\\Climate Aligned Industries - '+timestampMD+' - MD Package.xlsx')\n",
    "format_multi_pivot_MD7(IndiaExp, '\\\\India - '+timestampMD+' - MD Package.xlsx')\n",
    "format_multi_pivot_MD7(OperationsExp, '\\\\Operations - '+timestampMD+' - MD Package.xlsx')\n",
    "format_multi_pivot_MD7(DevelopmentExp, '\\\\Development - '+timestampMD+' - MD Package.xlsx')\n",
    "format_multi_pivot_MD7(CommunicationsExp, '\\\\Communications - '+timestampMD+' - MD Package.xlsx')\n",
    "format_multi_pivot_MD7(ChinaExp, '\\\\China - '+timestampMD+' - MD Package.xlsx')\n",
    "#format_multi_pivot_MD7(Breakthrough_Technology_Exp, '\\\\M3 - '+timestampMD+' - MD Package.xlsx')\n",
    "format_multi_pivot_MD7(CarbonFree_MobilityExp, '\\\\Carbon-Free Mobility - '+timestampMD+' - MD Package.xlsx')\n",
    "format_multi_pivot_MD7(Carbon_Free_ElectricityExp, '\\\\Carbon-Free Electricity - '+timestampMD+' - MD Package.xlsx')\n",
    "format_multi_pivot_MD7(CrossProgramImpactAccelerationExp, '\\\\Cross-Program Impact Acceleration - '+timestampMD+' - MD Package.xlsx')\n",
    "format_multi_pivot_MD7(Strategic_Engagement_and_Analysis_GroupExp, '\\\\Strategic Analysis and Engagement - '+timestampMD+' - MD Package.xlsx')\n",
    "format_multi_pivot_MD7(CarbonFreeBuildings_RollupExp, '\\\\Carbon-Free Buildings - '+timestampMD+' - MD Package.xlsx')\n",
    "format_multi_pivot_MD7(UrbanTrans_Exp, '\\\\Urban Transformation - '+timestampMD+' - MD Package.xlsx')\n",
    "format_multi_pivot_MD7(ClimateIntelExp, '\\\\Climate Intelligence - '+timestampMD+' - MD Package.xlsx')\n",
    "format_multi_pivot_MD7(IndustryExp, '\\\\Industry - '+timestampMD+' - MD Package.xlsx')\n",
    "format_multi_pivot_MD7(USExp, '\\\\US - '+timestampMD+' - MD Package.xlsx')\n",
    "format_multi_pivot_MD7(GlobalClimate_FinanceExp, '\\\\Finance - '+timestampMD+' - MD Package.xlsx')\n",
    "#format_multi_pivot_MD7(Watttime_Exp, '\\\\WattTime - '+timestampMD+' - MD Package.xlsx')\n",
    "format_multi_pivot_MD7(D3Exp, '\\\\Third Derivative - '+timestampMD+' - MD Package.xlsx')\n",
    "#format_multi_pivot_MD3(BuildingElectrificationExp, '\\\\Building Electrification - '+timestampMD+' - MD Package.xlsx')"
   ]
  },
  {
   "cell_type": "code",
   "execution_count": null,
   "metadata": {},
   "outputs": [],
   "source": []
  },
  {
   "cell_type": "markdown",
   "metadata": {},
   "source": [
    "## Restricted Revenue Spend by Grant and Project"
   ]
  },
  {
   "cell_type": "code",
   "execution_count": 224,
   "metadata": {},
   "outputs": [],
   "source": [
    "def create_MD_pivot8(Group):\n",
    "    Month_order = ['Jul 2021', 'Aug 2021', 'Sep 2021', 'Oct 2021', 'Nov 2021', 'Dec 2021', 'Jan 2022', 'Feb 2022', 'Mar 2022', 'Apr 2022', 'May 2022', 'Jun 2022']\n",
    "    table = pd.pivot_table(Group, index = ['Grant','Project'], values = 'Amount', columns = 'Period', aggfunc=np.sum)\n",
    "    table2 = table.reindex(Month_order, axis=1)\n",
    "    table2['Total FY22'] = table2.iloc[:,-12:].sum(axis=1)\n",
    "    return table2"
   ]
  },
  {
   "cell_type": "code",
   "execution_count": 225,
   "metadata": {},
   "outputs": [],
   "source": [
    "def to_excel_MD8(df, file):\n",
    "    writer = pd.ExcelWriter(file, engine='openpyxl')\n",
    "    if os.path.exists(file):\n",
    "        book = openpyxl.load_workbook(file)\n",
    "        writer.book = book\n",
    "\n",
    "    df.to_excel(writer, sheet_name=\"Grant by Project\", startrow = 1)\n",
    "    writer.save()\n",
    "    writer.close()    "
   ]
  },
  {
   "cell_type": "code",
   "execution_count": 226,
   "metadata": {},
   "outputs": [],
   "source": [
    "def edit_workbook_MD8(file):\n",
    "    book = load_workbook(file)\n",
    "    sheet = book[\"Grant by Project\"] #active means last opened sheet\n",
    "    rd = sheet.row_dimensions[1]\n",
    "    rd.height = 25\n",
    "    sheet['A2']= \"Grant\"\n",
    "    sheet['B2']= \"Project\"\n",
    "    sheet['A2'].font = Font(bold=True)\n",
    "    sheet['B2'].font = Font(bold=True)\n",
    "#    fontStyle = Font(size = \"20\")\n",
    "    sheet.merge_cells('A1:O1')\n",
    "    top_left_cell = sheet['A1']\n",
    "    top_right_cell = sheet['O1']\n",
    "    top_left_cell.value = \"FY21 Total Program Expenses by Grant and Project\"\n",
    "    thin = Side(border_style=\"thin\", color=\"000000\")\n",
    "    double = Side(border_style=\"double\", color=\"000000\")\n",
    "    top_left_cell.border = Border(top=thin, left=thin, right=thin, bottom=thin)\n",
    "    top_left_cell.fill = PatternFill(\"solid\", fgColor=\"003366\")\n",
    "#    top_left_cell.fill = fill = GradientFill(stop=(\"000080\", \"FFFFFF\"))\n",
    "    top_left_cell.font  = Font(color=\"FFFFFF\", size = \"26\")\n",
    "#    top_left_cell.font = fontStyle\n",
    "    top_left_cell.alignment = Alignment(horizontal=\"center\", vertical=\"center\")\n",
    "    top_right_cell.border = Border(top=thin, left=thin, right=thin, bottom=thin)\n",
    "    sheet.column_dimensions['A'].width = 25\n",
    "    sheet.column_dimensions['B'].width = 45\n",
    "    sheet.column_dimensions['C'].width = 15\n",
    "    sheet.column_dimensions['D'].width = 15\n",
    "    sheet.column_dimensions['E'].width = 15\n",
    "    sheet.column_dimensions['F'].width = 15\n",
    "    sheet.column_dimensions['G'].width = 15\n",
    "    sheet.column_dimensions['H'].width = 15\n",
    "    sheet.column_dimensions['I'].width = 15\n",
    "    sheet.column_dimensions['J'].width = 15\n",
    "    sheet.column_dimensions['K'].width = 15\n",
    "    sheet.column_dimensions['L'].width = 15\n",
    "    sheet.column_dimensions['M'].width = 15\n",
    "    sheet.column_dimensions['N'].width = 15\n",
    "    sheet.column_dimensions['O'].width = 15\n",
    "#    sheet.column_dimensions['D'].hidden = True\n",
    "    num_rows = sheet.max_row\n",
    "    curr_row = 2\n",
    "    for col in range(3, 16):\n",
    "        for row in range(2, num_rows+1):\n",
    "            sheet.cell(column=col, row=row).number_format = '\"$\"#,##0;[Red](\"$\"#,##0)'\n",
    "    for col in range(1, 3):\n",
    "        for row in range(3, num_rows):\n",
    "            sheet.cell(column=col, row=row).alignment = Alignment(horizontal = 'left', vertical='top')\n",
    "            sheet.cell(column=col, row=row).fill = blueFill\n",
    "    for i in range(1, sheet.max_row + 1):\n",
    "        if sheet.cell(row=i, column=1).value == \"Grant\":\n",
    "            for j in range(1,16):\n",
    "                sheet.cell(column=j, row=i).font = Font(bold=True)\n",
    "                sheet.cell(column=j, row=i).border = Border(top = thin, bottom = thin)   \n",
    "                sheet.cell(column=j, row=i).fill = greyFill\n",
    "    for col in range(16, 17):\n",
    "        for row in range(2, num_rows+1):\n",
    "            sheet.cell(column=col, row=row).border = Border(left=thin)\n",
    "#    sheet.auto_filter.ref = sheet.dimensions\n",
    "    sheet.sheet_view.zoomScale = 70\n",
    "    sheet.freeze_panes = \"C3\"\n",
    "    sheet.sheet_state = 'hidden'\n",
    "    book.save(file)"
   ]
  },
  {
   "cell_type": "code",
   "execution_count": 227,
   "metadata": {},
   "outputs": [],
   "source": [
    "def format_multi_pivot_MD8(Group, str):\n",
    "    step1 = create_MD_pivot8(Group)\n",
    "    to_excel_MD8(step1, MDpath+str)\n",
    "    edit_workbook_MD8(MDpath+str)"
   ]
  },
  {
   "cell_type": "code",
   "execution_count": 228,
   "metadata": {},
   "outputs": [],
   "source": [
    "format_multi_pivot_MD8(Developing_Economies_Rollup, '\\\\Global South - '+timestampMD+' - MD Package.xlsx')\n",
    "format_multi_pivot_MD8(Climate_Aligned_Industries, '\\\\Climate Aligned Industries - '+timestampMD+' - MD Package.xlsx')\n",
    "format_multi_pivot_MD8(India, '\\\\India - '+timestampMD+' - MD Package.xlsx')\n",
    "#format_multi_pivot_MD8(Operations, '\\\\Operations - '+timestampMD+' - MD Package.xlsx')\n",
    "#format_multi_pivot_MD8(Development, '\\\\Development - '+timestampMD+' - MD Package.xlsx')\n",
    "#format_multi_pivot_MD8(Communications, '\\\\Communications - '+timestampMD+' - MD Package.xlsx')\n",
    "format_multi_pivot_MD8(China_Rollup, '\\\\China - '+timestampMD+' - MD Package.xlsx')\n",
    "#format_multi_pivot_MD8(Breakthrough_Technology, '\\\\M3 - '+timestampMD+' - MD Package.xlsx')\n",
    "format_multi_pivot_MD8(CarbonFree_Mobility, '\\\\Carbon-Free Mobility - '+timestampMD+' - MD Package.xlsx')\n",
    "format_multi_pivot_MD8(CarbonFree_Electricty, '\\\\Carbon-Free Electricity - '+timestampMD+' - MD Package.xlsx')\n",
    "#format_multi_pivot_MD8(CrossProgramImpactAcceleration, '\\\\Cross-Program Impact Acceleration - '+timestampMD+' - MD Package.xlsx')\n",
    "format_multi_pivot_MD8(Strategic_Engagement_and_Analysis_Group, '\\\\Strategic Analysis and Engagement - '+timestampMD+' - MD Package.xlsx')\n",
    "format_multi_pivot_MD8(CarbonFreeBuildings_Rollup, '\\\\Carbon-Free Buildings - '+timestampMD+' - MD Package.xlsx')\n",
    "format_multi_pivot_MD8(Urban_Transformation, '\\\\Urban Transformation - '+timestampMD+' - MD Package.xlsx')\n",
    "format_multi_pivot_MD8(Climate_Intelligence, '\\\\Climate Intelligence - '+timestampMD+' - MD Package.xlsx')\n",
    "format_multi_pivot_MD8(Industry, '\\\\Industry - '+timestampMD+' - MD Package.xlsx')\n",
    "format_multi_pivot_MD8(US, '\\\\US - '+timestampMD+' - MD Package.xlsx')\n",
    "format_multi_pivot_MD8(Global_Climate_Finance, '\\\\Finance - '+timestampMD+' - MD Package.xlsx')\n",
    "#format_multi_pivot_MD8(Watttime_Exp, '\\\\WattTime - '+timestampMD+' - MD Package.xlsx')\n",
    "format_multi_pivot_MD8(D3Exp, '\\\\Third Derivative - '+timestampMD+' - MD Package.xlsx')\n",
    "#format_multi_pivot_MD3(BuildingElectrificationExp, '\\\\Building Electrification - '+timestampMD+' - MD Package.xlsx')"
   ]
  },
  {
   "cell_type": "code",
   "execution_count": null,
   "metadata": {},
   "outputs": [],
   "source": []
  },
  {
   "cell_type": "markdown",
   "metadata": {},
   "source": [
    "## Income Statement for FFS by Project"
   ]
  },
  {
   "cell_type": "code",
   "execution_count": 229,
   "metadata": {},
   "outputs": [],
   "source": [
    "def create_MD_pivot9(Group):\n",
    "    Month_order = ['Jul 2017', 'Aug 2017', 'Sep 2017', 'Oct 2017', 'Nov 2017', 'Dec 2017', 'Jan 2018', 'Feb 2018', 'Mar 2018', 'Apr 2018', 'May 2018', 'Jun 2018','Jul 2018', 'Aug 2018', 'Sep 2018', 'Oct 2018', 'Nov 2018', 'Dec 2018', 'Jan 2019', 'Feb 2019', 'Mar 2019', 'Apr 2019', 'May 2019', 'Jun 2019', 'July 2019', 'Aug 2019', 'Sep 2019', 'Oct 2019', 'Nov 2019', 'Dec 2019', 'Jan 2020', 'Feb 2020', 'Mar 2020', 'Apr 2020', 'May 2020', 'Jun 2020', 'Jul 2020', 'Aug 2020', 'Sep 2020', 'Oct 2020', 'Nov 2020', 'Dec 2020', 'Jan 2021', 'Feb 2021', 'Mar 2021', 'Apr 2021', 'May 2021', 'Jun 2021', 'Jul 2021', 'Aug 2021', 'Sep 2021', 'Oct 2021', 'Nov 2021', 'Dec 2021', 'Jan 2022', 'Feb 2022', 'Mar 2022', 'Apr 2022', 'May 2022', 'Jun 2022']\n",
    "    table = pd.pivot_table(Group, index = ['Project','Rev or Exp', 'Rollup Account','Project Type', 'Contract?', 'Contract Start Date', 'Contract End Date', 'Invoicing Notes', 'Current Month Action', 'Revenue Recognition Notes','Project Budget', 'Contract Amount'], values = 'Unrestricted', columns = 'Period', aggfunc=np.sum)\n",
    "    table2 = table.reindex(Month_order, axis=1)\n",
    "    table2['FY22 Total'] = table2.iloc[:,-12:].sum(axis=1)\n",
    "    table2['FY18-FY22 Total'] = table2.iloc[:,-61:-1].sum(axis=1)\n",
    "    return table2"
   ]
  },
  {
   "cell_type": "code",
   "execution_count": 230,
   "metadata": {},
   "outputs": [],
   "source": [
    "def add_subtotal_MD9(PivotedGroup):\n",
    "    out = pd.concat([d.append(d.sum().rename(( k,'','','','','','','','','','','Unrestricted Used'))) for k, d in PivotedGroup.groupby('Project')]).append((PivotedGroup.sum()).rename(('Total', '','','','','','','','','','', 'UNRESTRICTED Used')))\n",
    "    out.index = pd.MultiIndex.from_tuples(out.index)\n",
    "    return out"
   ]
  },
  {
   "cell_type": "code",
   "execution_count": 231,
   "metadata": {},
   "outputs": [],
   "source": [
    "def to_excel_MD9(df, file):\n",
    "    writer = pd.ExcelWriter(file, engine='openpyxl')\n",
    "    if os.path.exists(file):\n",
    "        book = openpyxl.load_workbook(file)\n",
    "        writer.book = book\n",
    "   \n",
    "    df.to_excel(writer, sheet_name=\"FFS & Admin Income Statement\", startrow = 1)\n",
    "    writer.save()\n",
    "    writer.close()    "
   ]
  },
  {
   "cell_type": "code",
   "execution_count": 232,
   "metadata": {},
   "outputs": [],
   "source": [
    "def edit_workbook_MD9(file):\n",
    "    book = load_workbook(file)\n",
    "    sheet = book[\"FFS & Admin Income Statement\"] #active means last opened sheet\n",
    "    rd = sheet.row_dimensions[1]\n",
    "    rd.height = 25\n",
    "    sheet['A2']= \"Project\"\n",
    "    sheet['B2']= \"Revenue/Expense\"\n",
    "    sheet['C2']= \"Rollup Account\"\n",
    "    sheet['D2']= \"Project Type\"\n",
    "    sheet['E2']= \"Contract?\"\n",
    "    sheet['F2']= \"Contract Start Date\"\n",
    "    sheet['G2']= \"Contract End Date\"\n",
    "    sheet['H2']= \"Invoicing Notes\"\n",
    "    sheet['I2']= \"Current Month Action\"\n",
    "    sheet['J2']= \"Revenue Recognition Notes\"\n",
    "    sheet['K2']= \"Project Budget\"\n",
    "    sheet['L2']= \"Contract Amount\"\n",
    "#    sheet['M2']= \"Total Revenue Recognized (INCLUDES DEFERRED REVENUE)\"\n",
    "#    sheet['N2']= \"Reimbursables NTE\"\n",
    "#    sheet['O2']= \"Reimbursables Actual\"\n",
    "#    sheet['P2']= \"Remaining Revenue\"\n",
    "    sheet['A2'].font = Font(bold=True)\n",
    "    sheet['B2'].font = Font(bold=True)\n",
    "#    fontStyle = Font(size = \"20\")\n",
    "    sheet.merge_cells('A1:BV1')\n",
    "    top_left_cell = sheet['A1']\n",
    "    top_right_cell = sheet['BV1']\n",
    "    top_left_cell.value = \"FY22 Earned, Government, and Multilateral Grant Income Statement\"\n",
    "    thin = Side(border_style=\"thin\", color=\"000000\")\n",
    "    double = Side(border_style=\"double\", color=\"000000\")\n",
    "    top_left_cell.border = Border(top=thin, left=thin, right=thin, bottom=thin)\n",
    "    top_left_cell.fill = PatternFill(\"solid\", fgColor=\"003366\")\n",
    "#    top_left_cell.fill = fill = GradientFill(stop=(\"000080\", \"FFFFFF\"))\n",
    "    top_left_cell.font  = Font(color=\"FFFFFF\", size = \"26\")\n",
    "#    top_left_cell.font = fontStyle\n",
    "    top_left_cell.alignment = Alignment(horizontal=\"center\", vertical=\"center\")\n",
    "    top_right_cell.border = Border(top=thin, left=thin, right=thin, bottom=thin)\n",
    "    sheet.column_dimensions['A'].width = 25\n",
    "    sheet.column_dimensions['B'].width = 15\n",
    "    sheet.column_dimensions['C'].width = 25\n",
    "    sheet.column_dimensions['D'].width = 10\n",
    "    sheet.column_dimensions['E'].width = 15\n",
    "    sheet.column_dimensions['F'].width = 15\n",
    "    sheet.column_dimensions['G'].width = 15\n",
    "    sheet.column_dimensions['H'].width = 15\n",
    "    sheet.column_dimensions['I'].width = 15\n",
    "    sheet.column_dimensions['J'].width = 15\n",
    "    sheet.column_dimensions['K'].width = 15\n",
    "    sheet.column_dimensions['L'].width = 15\n",
    "    sheet.column_dimensions['M'].width = 15\n",
    "    sheet.column_dimensions['N'].width = 15\n",
    "    sheet.column_dimensions['O'].width = 15\n",
    "    sheet.column_dimensions['P'].width = 20\n",
    "    sheet.column_dimensions['F'].hidden = True\n",
    "    sheet.column_dimensions['J'].hidden = True\n",
    "    sheet.column_dimensions['N'].hidden = True\n",
    "    sheet.column_dimensions['O'].hidden = True\n",
    "#    sheet.column_dimensions['K'].hidden = True\n",
    "#    sheet.column_dimensions['BB'].hidden = True\n",
    "    num_rows = sheet.max_row\n",
    "    curr_row = 2\n",
    "    for col in range(1, 13):\n",
    "        for row in range(3, num_rows):\n",
    "            sheet.cell(column=col, row=row).alignment = Alignment(horizontal = 'left', vertical='top')\n",
    "            sheet.cell(column=col, row=row).fill = blueFill\n",
    "    for col in range(11, 75):\n",
    "        for row in range(2, num_rows+1):\n",
    "            sheet.cell(column=col, row=row).number_format = '\"$\"#,##0;[Red](\"$\"#,##0)'\n",
    "    for col in range(73, 76):\n",
    "        for row in range(2, num_rows+1):\n",
    "            sheet.cell(column=col, row=row).border = Border(left=thin)\n",
    "    for i in range(1, sheet.max_row + 1):\n",
    "        if sheet.cell(row=i, column=12).value == \"Unrestricted Used\":\n",
    "            for j in range(3,75):\n",
    "                sheet.cell(column=j, row=i).font = Font(bold=True)\n",
    "                sheet.cell(column=j, row=i).border = Border(bottom=Side(style='thin'))    \n",
    "            for j in range(73,75):       \n",
    "                sheet.cell(column=j, row=i).border = Border(bottom=Side(style='thin'),left=thin)    \n",
    "    for i in range(1, sheet.max_row + 1):\n",
    "        if sheet.cell(row=i, column=1).value == \"Total\":\n",
    "            for j in range(1,75):\n",
    "                sheet.cell(column=j, row=i).font = Font(bold=True)\n",
    "                sheet.cell(column=j, row=i).border = Border(bottom=Side(style=\"double\"))   \n",
    "    for i in range(1, sheet.max_row + 1):\n",
    "        if sheet.cell(row=i, column=1).value == \"Project\":\n",
    "            for j in range(1,75):\n",
    "                sheet.cell(column=j, row=i).font = Font(bold=True)\n",
    "                sheet.cell(column=j, row=i).border = Border(top = thin, bottom = thin)   \n",
    "                sheet.cell(column=j, row=i).fill = greyFill\n",
    "#    sheet.auto_filter.ref = sheet.dimensions\n",
    "    FullRange = \"A2:\" + get_column_letter(sheet.max_column) \\\n",
    "    + str(sheet.max_row)\n",
    "    sheet.auto_filter.ref = FullRange\n",
    "    sheet.sheet_view.zoomScale = 70\n",
    "    sheet.freeze_panes = \"M3\"\n",
    "    sheet.column_dimensions.group(\"M\",\"BH\",hidden=True)\n",
    "    sheet.column_dimensions.group(\"D\",\"J\",hidden=True)\n",
    "    book.save(file)"
   ]
  },
  {
   "cell_type": "code",
   "execution_count": 233,
   "metadata": {},
   "outputs": [],
   "source": [
    "def format_multi_pivot_MD9(Group, str):\n",
    "    step1 = create_MD_pivot9(Group)\n",
    "    step2 = add_subtotal_MD9(step1)\n",
    "    to_excel_MD9(step2, MDpath+str)\n",
    "    edit_workbook_MD9(MDpath+str)"
   ]
  },
  {
   "cell_type": "code",
   "execution_count": 234,
   "metadata": {},
   "outputs": [],
   "source": [
    "\n",
    "format_multi_pivot_MD9(ClimateAligned_IndustriesFFSIS, '\\\\Climate Aligned Industries - '+timestampMD+' - MD Package.xlsx')\n",
    "format_multi_pivot_MD9(IndiaFFSIS, '\\\\India - '+timestampMD+' - MD Package.xlsx')\n",
    "format_multi_pivot_MD9(OperationsFFSIS, '\\\\Operations - '+timestampMD+' - MD Package.xlsx')\n",
    "#format_multi_pivot_MD9(DevelopmentFFSIS, '\\\\Development - '+timestampMD+' - MD Package.xlsx')\n",
    "format_multi_pivot_MD9(CommunicationsFFSIS, '\\\\Communications - '+timestampMD+' - MD Package.xlsx')\n",
    "format_multi_pivot_MD9(ChinaFFSIS, '\\\\China - '+timestampMD+' - MD Package.xlsx')\n",
    "#format_multi_pivot_MD9(Breakthrough_Technology_FFSIS, '\\\\M3 - '+timestampMD+' - MD Package.xlsx')\n",
    "format_multi_pivot_MD9(CarbonFree_MobilityFFSIS, '\\\\Carbon-Free Mobility - '+timestampMD+' - MD Package.xlsx')\n",
    "format_multi_pivot_MD9(Carbon_Free_ElectricityFFSIS, '\\\\Carbon-Free Electricity - '+timestampMD+' - MD Package.xlsx')\n",
    "#format_multi_pivot_MD9(CrossProgramImpactAccelerationFFSIS, '\\\\Cross-Program Impact Acceleration - '+timestampMD+' - MD Package.xlsx')\n",
    "format_multi_pivot_MD9(Strategic_Engagement_and_Analysis_GroupFFSIS, '\\\\Strategic Analysis and Engagement - '+timestampMD+' - MD Package.xlsx')\n",
    "format_multi_pivot_MD9(CarbonFreeBuildings_RollupFFSIS, '\\\\Carbon-Free Buildings - '+timestampMD+' - MD Package.xlsx')\n",
    "format_multi_pivot_MD9(UrbanTrans_FFSIS, '\\\\Urban Transformation - '+timestampMD+' - MD Package.xlsx')\n",
    "format_multi_pivot_MD9(ClimateIntelFFSIS, '\\\\Climate Intelligence - '+timestampMD+' - MD Package.xlsx')\n",
    "format_multi_pivot_MD9(IndustryFFSIS, '\\\\Industry - '+timestampMD+' - MD Package.xlsx')\n",
    "format_multi_pivot_MD9(GlobalClimate_FinanceFFSIS, '\\\\Finance - '+timestampMD+' - MD Package.xlsx')\n",
    "#format_multi_pivot_MD9(Watttime_FFSIS, '\\\\WattTime - '+timestampMD+' - MD Package.xlsx')\n",
    "format_multi_pivot_MD9(D3FFSIS, '\\\\Third Derivative - '+timestampMD+' - MD Package.xlsx')\n",
    "#format_multi_pivot_MD9(USFFSIS, '\\\\US - '+timestampMD+\".xlsx\")"
   ]
  },
  {
   "cell_type": "code",
   "execution_count": 235,
   "metadata": {},
   "outputs": [],
   "source": [
    "def create_data_FFSZeroBalance2(Group, str):\n",
    "    table = Group[['Project','Revenue/Expense','Rollup Account','Project Type','Contract?','Contract Start Date', 'Contract End Date','Invoice Type',  'Invoicing Notes', 'Current Month Action', 'Revenue Recognition Notes', 'Contract Amount', 'Total Revenue Recognized', 'Reimbursables NTE', 'Reimbursables Actual', 'Remaining Revenue']]\n",
    "    book = load_workbook(MDpath+str)\n",
    "    sheet = book[\"FFS & Admin Income Statement\"]\n",
    "    data = table\n",
    "    rows = dataframe_to_rows(table, index=False, header=True)\n",
    "    for r_idx, row in enumerate(rows, sheet.max_row+2):\n",
    "        for c_idx, value in enumerate(row, 1):\n",
    "            sheet.cell(row=r_idx, column=c_idx, value=value)\n",
    "            sheet.cell(column=c_idx, row=r_idx).font = Font(bold=True)\n",
    "            sheet.cell(column=c_idx, row=r_idx).number_format = '\"$\"#,##0;[Red](\"$\"#,##0)'\n",
    "    book.save(MDpath+str)"
   ]
  },
  {
   "cell_type": "code",
   "execution_count": 236,
   "metadata": {},
   "outputs": [],
   "source": [
    "create_data_FFSZeroBalance2(CFEFFSNOREV,'\\\\Carbon-Free Electricity - '+timestampMD+' - MD Package.xlsx')\n",
    "create_data_FFSZeroBalance2(ChinaFFSNOREV,'\\\\China - '+timestampMD+' - MD Package.xlsx')\n",
    "create_data_FFSZeroBalance2(UTFFSNOREV,'\\\\Urban Transformation - '+timestampMD+' - MD Package.xlsx')\n",
    "create_data_FFSZeroBalance2(CAIFFSNOREV,'\\\\Climate Aligned Industries - '+timestampMD+' - MD Package.xlsx')\n",
    "create_data_FFSZeroBalance2(CFBFFSNOREV,'\\\\Carbon-Free Buildings - '+timestampMD+' - MD Package.xlsx')\n",
    "#create_data_FFSZeroBalance2(BTFFSNOREV,'\\\\M3 - '+timestampMD+' - MD Package.xlsx')\n",
    "create_data_FFSZeroBalance2(CFMFFSNOREV,'\\\\Carbon-Free Mobility - '+timestampMD+' - MD Package.xlsx')\n",
    "create_data_FFSZeroBalance2(CIFFSNOREV,'\\\\Climate Intelligence - '+timestampMD+' - MD Package.xlsx')\n",
    "create_data_FFSZeroBalance2(D3NOREV,'\\\\Third Derivative - '+timestampMD+' - MD Package.xlsx')\n",
    "\n"
   ]
  },
  {
   "cell_type": "code",
   "execution_count": null,
   "metadata": {},
   "outputs": [],
   "source": []
  },
  {
   "cell_type": "code",
   "execution_count": null,
   "metadata": {},
   "outputs": [],
   "source": []
  },
  {
   "cell_type": "code",
   "execution_count": null,
   "metadata": {},
   "outputs": [],
   "source": []
  },
  {
   "cell_type": "markdown",
   "metadata": {},
   "source": [
    "## Income Statement for FFS by Program and Project"
   ]
  },
  {
   "cell_type": "code",
   "execution_count": 237,
   "metadata": {},
   "outputs": [],
   "source": [
    "def create_MD_pivot10(Group):\n",
    "    Month_order = ['Jul 2017', 'Aug 2017', 'Sep 2017', 'Oct 2017', 'Nov 2017', 'Dec 2017', 'Jan 2018', 'Feb 2018', 'Mar 2018', 'Apr 2018', 'May 2018', 'Jun 2018','Jul 2018', 'Aug 2018', 'Sep 2018', 'Oct 2018', 'Nov 2018', 'Dec 2018', 'Jan 2019', 'Feb 2019', 'Mar 2019', 'Apr 2019', 'May 2019', 'Jun 2019', 'July 2019', 'Aug 2019', 'Sep 2019', 'Oct 2019', 'Nov 2019', 'Dec 2019', 'Jan 2020', 'Feb 2020', 'Mar 2020', 'Apr 2020', 'May 2020', 'Jun 2020', 'Jul 2020', 'Aug 2020', 'Sep 2020', 'Oct 2020', 'Nov 2020', 'Dec 2020', 'Jan 2021', 'Feb 2021', 'Mar 2021', 'Apr 2021', 'May 2021', 'Jun 2021', 'Jul 2021', 'Aug 2021', 'Sep 2021', 'Oct 2021', 'Nov 2021', 'Dec 2021', 'Jan 2022', 'Feb 2022', 'Mar 2022', 'Apr 2022', 'May 2022', 'Jun 2022']\n",
    "    table = pd.pivot_table(Group, index = ['Program','Project','Rev or Exp', 'Rollup Account','Project Type', 'Contract?', 'Contract Start Date', 'Contract End Date', 'Invoicing Notes', 'Current Month Action', 'Revenue Recognition Notes', 'Project Budget', 'Contract Amount'], values = 'Unrestricted', columns = 'Period', aggfunc=np.sum)\n",
    "    table2 = table.reindex(Month_order, axis=1)\n",
    "    table2['FY22 Total'] = table2.iloc[:,-12:].sum(axis=1)\n",
    "    table2['FY18-FY22 Total'] = table2.iloc[:,-61:-1].sum(axis=1)\n",
    "    return table2"
   ]
  },
  {
   "cell_type": "code",
   "execution_count": 238,
   "metadata": {},
   "outputs": [],
   "source": [
    "def add_subtotal_MD10(PivotedGroup):\n",
    "    out = pd.concat([d.append(d.sum().rename(( '','','','','','','','','','','','','Unrestricted Used'))) for k, d in PivotedGroup.groupby('Project')]).append((PivotedGroup.sum()).rename(('Total', '','','','','','','','','','','','UNRESTRICTED USED')))\n",
    "    out.index = pd.MultiIndex.from_tuples(out.index)\n",
    "    return out"
   ]
  },
  {
   "cell_type": "code",
   "execution_count": 239,
   "metadata": {},
   "outputs": [],
   "source": [
    "def to_excel_MD10(df, file):\n",
    "    writer = pd.ExcelWriter(file, engine='openpyxl')\n",
    "    if os.path.exists(file):\n",
    "        book = openpyxl.load_workbook(file)\n",
    "        writer.book = book\n",
    "   \n",
    "    df.to_excel(writer, sheet_name=\"FFS & Admin Income Statement\", startrow = 1)\n",
    "    writer.save()\n",
    "    writer.close()    "
   ]
  },
  {
   "cell_type": "code",
   "execution_count": 240,
   "metadata": {},
   "outputs": [],
   "source": [
    "def edit_workbook_MD10(file):\n",
    "    book = load_workbook(file)\n",
    "    sheet = book[\"FFS & Admin Income Statement\"] #active means last opened sheet\n",
    "    rd = sheet.row_dimensions[1]\n",
    "    rd.height = 25\n",
    "    sheet['A2']= \"Program\"\n",
    "    sheet['B2']= \"Project\"\n",
    "    sheet['C2']= \"Revenue/Expense\"\n",
    "    sheet['D2']= \"Rollup Account\"\n",
    "    sheet['E2']= \"Project Type\"\n",
    "    sheet['F2']= \"Contract?\"\n",
    "    sheet['G2']= \"Contract Start Date\"\n",
    "    sheet['H2']= \"Contract End Date\"\n",
    "    sheet['I2']= \"Invoicing Notes\"\n",
    "    sheet['J2']= \"Current Month Action\"\n",
    "    sheet['K2']= \"Revenue Recognition Notes\"\n",
    "    sheet['L2']= 'Project Budget'\n",
    "    sheet['M2']= \"Contract Amount\"\n",
    "#    sheet['N2']= \"Total Revenue Recognized (INCLUDES DEFERRED REVENUE)\"\n",
    "#    sheet['O2']= \"Reimbursables NTE\"\n",
    "#    sheet['P2']= \"Reimbursables Actual\"\n",
    "#    sheet['Q2']= \"Remaining Revenue\"\n",
    "    sheet['A2'].font = Font(bold=True)\n",
    "    sheet['B2'].font = Font(bold=True)\n",
    "#    fontStyle = Font(size = \"20\")\n",
    "    sheet.merge_cells('A1:BW1')\n",
    "    top_left_cell = sheet['A1']\n",
    "    top_right_cell = sheet['BW1']\n",
    "    top_left_cell.value = \"FY22 Earned, Government, and Multilateral Grant Income Statement\"\n",
    "    thin = Side(border_style=\"thin\", color=\"000000\")\n",
    "    double = Side(border_style=\"double\", color=\"000000\")\n",
    "    top_left_cell.border = Border(top=thin, left=thin, right=thin, bottom=thin)\n",
    "    top_left_cell.fill = PatternFill(\"solid\", fgColor=\"003366\")\n",
    "#    top_left_cell.fill = fill = GradientFill(stop=(\"000080\", \"FFFFFF\"))\n",
    "    top_left_cell.font  = Font(color=\"FFFFFF\", size = \"26\")\n",
    "#    top_left_cell.font = fontStyle\n",
    "    top_left_cell.alignment = Alignment(horizontal=\"center\", vertical=\"center\")\n",
    "    top_right_cell.border = Border(top=thin, left=thin, right=thin, bottom=thin)\n",
    "    sheet.column_dimensions['A'].width = 25\n",
    "    sheet.column_dimensions['B'].width = 25\n",
    "    sheet.column_dimensions['C'].width = 15\n",
    "    sheet.column_dimensions['D'].width = 20\n",
    "    sheet.column_dimensions['E'].width = 15\n",
    "    sheet.column_dimensions['F'].width = 15\n",
    "    sheet.column_dimensions['G'].width = 15\n",
    "    sheet.column_dimensions['H'].width = 15\n",
    "    sheet.column_dimensions['I'].width = 15\n",
    "    sheet.column_dimensions['J'].width = 15\n",
    "    sheet.column_dimensions['K'].width = 15\n",
    "    sheet.column_dimensions['L'].width = 15\n",
    "    sheet.column_dimensions['M'].width = 15\n",
    "    sheet.column_dimensions['N'].width = 15\n",
    "    sheet.column_dimensions['O'].width = 15\n",
    "    sheet.column_dimensions['P'].width = 20\n",
    "    sheet.column_dimensions['Q'].width = 15\n",
    "    sheet.column_dimensions['BZ'].width = 15\n",
    "    sheet.column_dimensions['CA'].width = 15\n",
    "#    sheet.column_dimensions['G'].hidden = True\n",
    "#    sheet.column_dimensions['K'].hidden = True\n",
    "#    sheet.column_dimensions['M'].hidden = True\n",
    "#    sheet.column_dimensions['P'].hidden = True\n",
    "#    sheet.column_dimensions['L'].hidden = True\n",
    "#    sheet.column_dimensions['BC'].hidden = True\n",
    "    num_rows = sheet.max_row\n",
    "    curr_row = 2\n",
    "    for col in range(1, 14):\n",
    "        for row in range(3, num_rows):\n",
    "            sheet.cell(column=col, row=row).alignment = Alignment(horizontal = 'left', vertical='top')\n",
    "            sheet.cell(column=col, row=row).fill = blueFill\n",
    "    for col in range(12, 76):\n",
    "        for row in range(2, num_rows+1):\n",
    "            sheet.cell(column=col, row=row).number_format = '\"$\"#,##0;[Red](\"$\"#,##0)'\n",
    "    for col in range(74, 77):\n",
    "        for row in range(2, num_rows+1):\n",
    "            sheet.cell(column=col, row=row).border = Border(left=thin)\n",
    "    for i in range(1, sheet.max_row + 1):\n",
    "        if sheet.cell(row=i, column=13).value == \"Unrestricted Used\":\n",
    "            for j in range(4,76):\n",
    "                sheet.cell(column=j, row=i).font = Font(bold=True)\n",
    "                sheet.cell(column=j, row=i).border = Border(bottom=Side(style='thin'))  \n",
    "            for j in range(74,76):\n",
    "                sheet.cell(column=j, row=i).border = Border(bottom=Side(style='thin'),left=thin)  \n",
    "    for i in range(1, sheet.max_row + 1):\n",
    "        if sheet.cell(row=i, column=1).value == \"Total\":\n",
    "            for j in range(1,76):\n",
    "                sheet.cell(column=j, row=i).font = Font(bold=True)\n",
    "                sheet.cell(column=j, row=i).border = Border(bottom=Side(style=\"double\"))   \n",
    "    for i in range(1, sheet.max_row + 1):\n",
    "        if sheet.cell(row=i, column=1).value == \"Program\":\n",
    "            for j in range(1,76):\n",
    "                sheet.cell(column=j, row=i).font = Font(bold=True)\n",
    "                sheet.cell(column=j, row=i).border = Border(top = thin, bottom = thin)   \n",
    "                sheet.cell(column=j, row=i).fill = greyFill\n",
    "#    sheet.auto_filter.ref = sheet.dimensions\n",
    "    FullRange = \"A2:\" + get_column_letter(sheet.max_column) \\\n",
    "    + str(sheet.max_row)\n",
    "    sheet.auto_filter.ref = FullRange\n",
    "    sheet.sheet_view.zoomScale = 70\n",
    "    sheet.freeze_panes = \"N3\"\n",
    "    sheet.column_dimensions.group(\"N\",\"BI\",hidden=True)\n",
    "    sheet.column_dimensions.group(\"E\",\"J\",hidden=True)\n",
    "    book.save(file)"
   ]
  },
  {
   "cell_type": "code",
   "execution_count": 241,
   "metadata": {},
   "outputs": [],
   "source": [
    "def format_multi_pivot_MD10(Group, str):\n",
    "    step1 = create_MD_pivot10(Group)\n",
    "    step2 = add_subtotal_MD10(step1)\n",
    "    to_excel_MD9(step2, MDpath+str)\n",
    "    edit_workbook_MD10(MDpath+str)"
   ]
  },
  {
   "cell_type": "code",
   "execution_count": 242,
   "metadata": {},
   "outputs": [],
   "source": [
    "format_multi_pivot_MD10(Developing_Economies_RollupFFSIS, '\\\\Global South - '+timestampMD+' - MD Package.xlsx')"
   ]
  },
  {
   "cell_type": "code",
   "execution_count": 243,
   "metadata": {},
   "outputs": [],
   "source": [
    "create_data_FFSZeroBalance2(ISLANDSFFSNOREV,'\\\\Global South - '+timestampMD+' - MD Package.xlsx')"
   ]
  },
  {
   "cell_type": "markdown",
   "metadata": {},
   "source": [
    "# Create All Expenses Report by Initiative and Account"
   ]
  },
  {
   "cell_type": "code",
   "execution_count": 244,
   "metadata": {},
   "outputs": [],
   "source": [
    "def create_MD_pivot3(Group):\n",
    "    Month_order = ['Jul 2017', 'Aug 2017', 'Sep 2017', 'Oct 2017', 'Nov 2017', 'Dec 2017', 'Jan 2018', 'Feb 2018', 'Mar 2018', 'Apr 2018', 'May 2018', 'Jun 2018','Jul 2018', 'Aug 2018', 'Sep 2018', 'Oct 2018', 'Nov 2018', 'Dec 2018', 'Jan 2019', 'Feb 2019', 'Mar 2019', 'Apr 2019', 'May 2019', 'Jun 2019', 'July 2019', 'Aug 2019', 'Sep 2019', 'Oct 2019', 'Nov 2019', 'Dec 2019', 'Jan 2020', 'Feb 2020', 'Mar 2020', 'Apr 2020', 'May 2020', 'Jun 2020', 'Jul 2020', 'Aug 2020', 'Sep 2020', 'Oct 2020', 'Nov 2020', 'Dec 2020', 'Jan 2021', 'Feb 2021', 'Mar 2021', 'Apr 2021', 'May 2021', 'Jun 2021', 'Jul 2021', 'Aug 2021', 'Sep 2021', 'Oct 2021', 'Nov 2021', 'Dec 2021', 'Jan 2022', 'Feb 2022', 'Mar 2022', 'Apr 2022', 'May 2022', 'Jun 2022']\n",
    "    table = pd.pivot_table(Group, index = ['Initiative','Rollup Account'], values = 'Amount', columns = 'Period', aggfunc=np.sum)\n",
    "    table2 = table.reindex(Month_order, axis=1)\n",
    "    table2['FY21 Total'] = table2.iloc[:,-12:].sum(axis=1)\n",
    "    return table2"
   ]
  },
  {
   "cell_type": "code",
   "execution_count": 245,
   "metadata": {},
   "outputs": [],
   "source": [
    "def add_subtotal_MD3(PivotedGroup):\n",
    "    out = pd.concat([d.append(d.sum().rename((k, 'Subtotal'))) for k, d in PivotedGroup.groupby('Initiative')]).append((PivotedGroup.sum()).rename(('Grand', 'Total')))\n",
    "    out.index = pd.MultiIndex.from_tuples(out.index)\n",
    "    return out"
   ]
  },
  {
   "cell_type": "code",
   "execution_count": 246,
   "metadata": {},
   "outputs": [],
   "source": [
    "def to_excel_MD3(df, file):\n",
    "    writer = pd.ExcelWriter(file, engine='openpyxl')\n",
    "    if os.path.exists(file):\n",
    "        book = openpyxl.load_workbook(file)\n",
    "        writer.book = book\n",
    "\n",
    "    df.to_excel(writer, sheet_name=\"Total Expenses\", startrow = 1)\n",
    "    writer.save()\n",
    "    writer.close()    "
   ]
  },
  {
   "cell_type": "code",
   "execution_count": 247,
   "metadata": {},
   "outputs": [],
   "source": [
    "def edit_workbook_MD3(file):\n",
    "    book = load_workbook(file)\n",
    "    sheet = book[\"Total Expenses\"] #active means last opened sheet\n",
    "    rd = sheet.row_dimensions[1]\n",
    "    rd.height = 25\n",
    "    sheet['A2']= \"Initiative\"\n",
    "    sheet['B2']= \"Account Category\"\n",
    "    sheet['A2'].font = Font(bold=True)\n",
    "    sheet['B2'].font = Font(bold=True)\n",
    "#    fontStyle = Font(size = \"20\")\n",
    "    sheet.merge_cells('A1:BK1')\n",
    "    top_left_cell = sheet['A1']\n",
    "    top_right_cell = sheet['BK1']\n",
    "    top_left_cell.value = \"FY22 Total Program Expenses by Initiative and Account\"\n",
    "    thin = Side(border_style=\"thin\", color=\"000000\")\n",
    "    double = Side(border_style=\"double\", color=\"000000\")\n",
    "    top_left_cell.border = Border(top=thin, left=thin, right=thin, bottom=thin)\n",
    "    top_left_cell.fill = PatternFill(\"solid\", fgColor=\"003366\")\n",
    "#    top_left_cell.fill = fill = GradientFill(stop=(\"000080\", \"FFFFFF\"))\n",
    "    top_left_cell.font  = Font(color=\"FFFFFF\", size = \"26\")\n",
    "#    top_left_cell.font = fontStyle\n",
    "    top_left_cell.alignment = Alignment(horizontal=\"center\", vertical=\"center\")\n",
    "    top_right_cell.border = Border(top=thin, left=thin, right=thin, bottom=thin)\n",
    "    sheet.column_dimensions['A'].width = 25\n",
    "    sheet.column_dimensions['B'].width = 35\n",
    "    sheet.column_dimensions['AM'].width = 15\n",
    "    sheet.column_dimensions['AN'].width = 15\n",
    "    sheet.column_dimensions['AO'].width = 15\n",
    "    sheet.column_dimensions['AP'].width = 15\n",
    "    sheet.column_dimensions['AQ'].width = 15\n",
    "    sheet.column_dimensions['AR'].width = 15\n",
    "    sheet.column_dimensions['AS'].width = 15\n",
    "    sheet.column_dimensions['AT'].width = 15\n",
    "    sheet.column_dimensions['AU'].width = 15\n",
    "    sheet.column_dimensions['AV'].width = 15\n",
    "    sheet.column_dimensions['AW'].width = 15\n",
    "    sheet.column_dimensions['AX'].width = 15\n",
    "    sheet.column_dimensions['AY'].width = 15\n",
    "#    sheet.column_dimensions['D'].hidden = True\n",
    "    num_rows = sheet.max_row\n",
    "    curr_row = 2\n",
    "    for col in range(3, 64):\n",
    "        for row in range(2, num_rows+1):\n",
    "            sheet.cell(column=col, row=row).number_format = '\"$\"#,##0;[Red](\"$\"#,##0)'\n",
    "    for col in range(1, 3):\n",
    "        for row in range(3, num_rows):\n",
    "            sheet.cell(column=col, row=row).alignment = Alignment(horizontal = 'left', vertical='top')\n",
    "            sheet.cell(column=col, row=row).fill = blueFill\n",
    "    for i in range(1, sheet.max_row + 1):\n",
    "        if sheet.cell(row=i, column=2).value == \"Subtotal\":\n",
    "            for j in range(2,64):\n",
    "                sheet.cell(column=j, row=i).font = Font(bold=True)\n",
    "                sheet.cell(column=j, row=i).border = Border(bottom=Side(style='thin'))     \n",
    "    for i in range(1, sheet.max_row + 1):\n",
    "        if sheet.cell(row=i, column=1).value == \"Grand\":\n",
    "            for j in range(1,64):\n",
    "                sheet.cell(column=j, row=i).font = Font(bold=True)\n",
    "                sheet.cell(column=j, row=i).border = Border(bottom=Side(style=\"double\"))   \n",
    "    for i in range(1, sheet.max_row + 1):\n",
    "        if sheet.cell(row=i, column=1).value == \"Initiative\":\n",
    "            for j in range(1,64):\n",
    "                sheet.cell(column=j, row=i).font = Font(bold=True)\n",
    "                sheet.cell(column=j, row=i).border = Border(top = thin, bottom = thin)   \n",
    "                sheet.cell(column=j, row=i).fill = greyFill\n",
    "    for col in range(64, 65):\n",
    "        for row in range(2, num_rows+1):\n",
    "            sheet.cell(column=col, row=row).border = Border(left=thin)\n",
    "#    sheet.auto_filter.ref = sheet.dimensions\n",
    "    sheet.sheet_view.zoomScale = 70\n",
    "    sheet.freeze_panes = \"C3\"\n",
    "    sheet.column_dimensions.group(\"C\",\"AX\",hidden=True)\n",
    "    book.save(file)"
   ]
  },
  {
   "cell_type": "code",
   "execution_count": 248,
   "metadata": {},
   "outputs": [],
   "source": [
    "def format_multi_pivot_MD3(Group, str):\n",
    "    step1 = create_MD_pivot3(Group)\n",
    "    step2 = add_subtotal_MD3(step1)\n",
    "    to_excel_MD3(step2, MDpath+str)\n",
    "    edit_workbook_MD3(MDpath+str)"
   ]
  },
  {
   "cell_type": "code",
   "execution_count": 249,
   "metadata": {},
   "outputs": [],
   "source": [
    "format_multi_pivot_MD3(Developing_Economies_RollupExp, '\\\\Global South - '+timestampMD+' - MD Package.xlsx')\n",
    "format_multi_pivot_MD3(ClimateAligned_IndustriesExp, '\\\\Climate Aligned Industries - '+timestampMD+' - MD Package.xlsx')\n",
    "format_multi_pivot_MD3(IndiaExp, '\\\\India - '+timestampMD+' - MD Package.xlsx')\n",
    "format_multi_pivot_MD3(OperationsExp, '\\\\Operations - '+timestampMD+' - MD Package.xlsx')\n",
    "format_multi_pivot_MD3(DevelopmentExp, '\\\\Development - '+timestampMD+' - MD Package.xlsx')\n",
    "format_multi_pivot_MD3(CommunicationsExp, '\\\\Communications - '+timestampMD+' - MD Package.xlsx')\n",
    "format_multi_pivot_MD3(ChinaExp, '\\\\China - '+timestampMD+' - MD Package.xlsx')\n",
    "#format_multi_pivot_MD3(Breakthrough_Technology_Exp, '\\\\M3 - '+timestampMD+' - MD Package.xlsx')\n",
    "format_multi_pivot_MD3(CarbonFree_MobilityExp, '\\\\Carbon-Free Mobility - '+timestampMD+' - MD Package.xlsx')\n",
    "format_multi_pivot_MD3(CrossProgramImpactAccelerationExp, '\\\\Cross-Program Impact Acceleration - '+timestampMD+' - MD Package.xlsx')\n",
    "format_multi_pivot_MD3(Carbon_Free_ElectricityExp, '\\\\Carbon-Free Electricity - '+timestampMD+' - MD Package.xlsx')\n",
    "format_multi_pivot_MD3(Strategic_Engagement_and_Analysis_GroupExp, '\\\\Strategic Analysis and Engagement - '+timestampMD+' - MD Package.xlsx')\n",
    "format_multi_pivot_MD3(CarbonFreeBuildings_RollupExp, '\\\\Carbon-Free Buildings - '+timestampMD+' - MD Package.xlsx')\n",
    "format_multi_pivot_MD3(UrbanTrans_Exp, '\\\\Urban Transformation - '+timestampMD+' - MD Package.xlsx')\n",
    "format_multi_pivot_MD3(ClimateIntelExp, '\\\\Climate Intelligence - '+timestampMD+' - MD Package.xlsx')\n",
    "format_multi_pivot_MD3(IndustryExp, '\\\\Industry - '+timestampMD+' - MD Package.xlsx')\n",
    "format_multi_pivot_MD3(USExp, '\\\\US - '+timestampMD+' - MD Package.xlsx')\n",
    "format_multi_pivot_MD3(GlobalClimate_FinanceExp, '\\\\Finance - '+timestampMD+' - MD Package.xlsx')\n",
    "#format_multi_pivot_MD3(Watttime_Exp, '\\\\WattTime - '+timestampMD+' - MD Package.xlsx')\n",
    "format_multi_pivot_MD3(D3Exp, '\\\\Third Derivative - '+timestampMD+' - MD Package.xlsx')\n",
    "#format_multi_pivot_MD3(BuildingElectrificationExp, '\\\\Building Electrification - '+timestampMD+' - MD Package.xlsx')"
   ]
  },
  {
   "cell_type": "markdown",
   "metadata": {},
   "source": [
    "# Unrestricted Report"
   ]
  },
  {
   "cell_type": "code",
   "execution_count": 250,
   "metadata": {},
   "outputs": [],
   "source": [
    "def create_Totalprogram(program):\n",
    "    firstdf = df1[df1['Program']==program]\n",
    "    if firstdf.empty == True:\n",
    "        print(str(program)+ \" DF is EMPTY\")\n",
    "    else:    \n",
    "        return firstdf\n",
    "    \n"
   ]
  },
  {
   "cell_type": "code",
   "execution_count": 251,
   "metadata": {},
   "outputs": [
    {
     "name": "stdout",
     "output_type": "stream",
     "text": [
      "M3 DF is EMPTY\n"
     ]
    }
   ],
   "source": [
    "DevelopmentTotal = create_Totalprogram('Development')\n",
    "CommunicationsTotal = create_Totalprogram('Communications')\n",
    "IslandsTotal = create_Totalprogram('Islands')\n",
    "IndiaTotal = create_Totalprogram('India')\n",
    "OperationsTotal = create_Totalprogram('Operations')\n",
    "ChinaTotal = create_Totalprogram('China')\n",
    "Breakthrough_TechnologyTotal = create_Totalprogram('M3')\n",
    "CarbonFree_MobilityTotal = create_Totalprogram('Carbon-Free Mobility')\n",
    "Climate_Aligned_IndustriesTotal = create_Totalprogram('Climate Aligned Industries')\n",
    "Global_Climate_FinanceTotal = create_Totalprogram('Finance')\n",
    "Strategic_Engagement_and_Analysis_GroupTotal = create_Totalprogram('Strategic Analysis and Engagement')\n",
    "CrossProgramImpactAccelerationTotal = create_Totalprogram('Cross-Program Impact Acceleration')\n",
    "CarbonFree_BuildingsTotal = create_Totalprogram('Carbon-Free Buildings')\n",
    "WattTimeTotal = create_Totalprogram('WattTime')\n",
    "CarbonFree_ElectrictyTotal = create_Totalprogram('Carbon-Free Electricity')\n",
    "Urban_TransformationTotal = create_Totalprogram('Urban Transformation')\n",
    "Climate_IntelligenceTotal = create_Totalprogram('Climate Intelligence')\n",
    "IndustryTotal = create_Totalprogram('Industry')\n",
    "SE_AsiaTotal = create_Totalprogram('SE Asia')\n",
    "AfricaTotal = create_Totalprogram('Africa')\n",
    "USTotal = create_Totalprogram('US')\n",
    "Building_ElectrificationTotal = create_Totalprogram('Building Electrification')\n",
    "Energy_Transition_AcademyTotal = create_Totalprogram('Energy Transition Academy')\n",
    "BeijingTotal = create_Totalprogram('Beijing')\n",
    "CFANTotal = create_Totalprogram('CFAN')\n",
    "D3Total = create_Totalprogram('Third Derivative')"
   ]
  },
  {
   "cell_type": "code",
   "execution_count": 252,
   "metadata": {},
   "outputs": [],
   "source": [
    "WattTimeTotal = WattTimeTotal[WattTimeTotal['Rollup Account']!='5000 Contributions Revenue']"
   ]
  },
  {
   "cell_type": "code",
   "execution_count": 253,
   "metadata": {},
   "outputs": [],
   "source": [
    "Developing_Economies_RollupTotal = pd.concat([IslandsTotal, AfricaTotal, SE_AsiaTotal, Energy_Transition_AcademyTotal, CFANTotal], ignore_index = True, sort=False)\n",
    "CarbonFreeBuildings_RollupTotal = pd.concat([CarbonFree_BuildingsTotal, Building_ElectrificationTotal], ignore_index = True, sort=False)\n",
    "China_RollupTotal = pd.concat([ChinaTotal, BeijingTotal], ignore_index = True, sort=False)"
   ]
  },
  {
   "cell_type": "code",
   "execution_count": 254,
   "metadata": {},
   "outputs": [],
   "source": [
    "def create_MD_pivot4(Group):\n",
    "    Month_order = ['Jul 2021', 'Aug 2021', 'Sep 2021', 'Oct 2021', 'Nov 2021', 'Dec 2021', 'Jan 2022', 'Feb 2022', 'Mar 2022', 'Apr 2022', 'May 2022', 'Jun 2022']\n",
    "    table = pd.pivot_table(Group, index = ['Initiative','Project','Grant'], values = 'Unrestricted', columns = 'Period', aggfunc=np.sum)\n",
    "    table2 = table.reindex(Month_order, axis=1)\n",
    "    table2['Total'] = table2.iloc[:,-12:].sum(axis=1)\n",
    "    return table2"
   ]
  },
  {
   "cell_type": "code",
   "execution_count": 255,
   "metadata": {},
   "outputs": [],
   "source": [
    "def add_subtotal_MD4(PivotedGroup):\n",
    "    out = pd.concat([d.append(d.sum().rename((k,'', 'Subtotal'))) for k, d in PivotedGroup.groupby('Initiative')]).append((PivotedGroup.sum()).rename(('Grand','', 'Total')))\n",
    "    out.index = pd.MultiIndex.from_tuples(out.index)\n",
    "    return out"
   ]
  },
  {
   "cell_type": "code",
   "execution_count": 256,
   "metadata": {},
   "outputs": [],
   "source": [
    "def to_excel_MD4(df, file):\n",
    "    writer = pd.ExcelWriter(file, engine='openpyxl')\n",
    "    if os.path.exists(file):\n",
    "        book = openpyxl.load_workbook(file)\n",
    "        writer.book = book\n",
    "\n",
    "    df.to_excel(writer, sheet_name=\"Unrestricted Use\", startrow = 1)\n",
    "    writer.save()\n",
    "    writer.close()    "
   ]
  },
  {
   "cell_type": "code",
   "execution_count": 257,
   "metadata": {},
   "outputs": [],
   "source": [
    "def edit_workbook_MD4(file):\n",
    "    book = load_workbook(file)\n",
    "    sheet = book[\"Unrestricted Use\"] #active means last opened sheet\n",
    "    rd = sheet.row_dimensions[1]\n",
    "    rd.height = 25\n",
    "    sheet['A2']= \"Initiative\"\n",
    "    sheet['B2']= \"Project\"\n",
    "    sheet['C2']= \"Grant\"    \n",
    "    sheet['A2'].font = Font(bold=True)\n",
    "    sheet['B2'].font = Font(bold=True)\n",
    "    sheet['C2'].font = Font(bold=True)\n",
    "#    fontStyle = Font(size = \"20\")\n",
    "    sheet.merge_cells('A1:P1')\n",
    "    top_left_cell = sheet['A1']\n",
    "    top_right_cell = sheet['P1']\n",
    "    top_left_cell.value = \"FY21 Unrestricted Use by Initiative, Project, and Grant\"\n",
    "    thin = Side(border_style=\"thin\", color=\"000000\")\n",
    "    double = Side(border_style=\"double\", color=\"000000\")\n",
    "    top_left_cell.border = Border(top=thin, left=thin, right=thin, bottom=thin)\n",
    "    top_left_cell.fill = PatternFill(\"solid\", fgColor=\"003366\")\n",
    "#    top_left_cell.fill = fill = GradientFill(stop=(\"000080\", \"FFFFFF\"))\n",
    "    top_left_cell.font  = Font(color=\"FFFFFF\", size = \"26\")\n",
    "#    top_left_cell.font = fontStyle\n",
    "    top_left_cell.alignment = Alignment(horizontal=\"center\", vertical=\"center\")\n",
    "    top_right_cell.border = Border(top=thin, left=thin, right=thin, bottom=thin)\n",
    "    sheet.column_dimensions['A'].width = 25\n",
    "    sheet.column_dimensions['B'].width = 35\n",
    "    sheet.column_dimensions['C'].width = 25\n",
    "    sheet.column_dimensions['D'].width = 15\n",
    "    sheet.column_dimensions['E'].width = 15\n",
    "    sheet.column_dimensions['F'].width = 15\n",
    "    sheet.column_dimensions['G'].width = 15\n",
    "    sheet.column_dimensions['H'].width = 15\n",
    "    sheet.column_dimensions['I'].width = 15\n",
    "    sheet.column_dimensions['J'].width = 15\n",
    "    sheet.column_dimensions['K'].width = 15\n",
    "    sheet.column_dimensions['L'].width = 15\n",
    "    sheet.column_dimensions['M'].width = 15\n",
    "    sheet.column_dimensions['N'].width = 15\n",
    "    sheet.column_dimensions['O'].width = 15\n",
    "    sheet.column_dimensions['P'].width = 15\n",
    "#    sheet.column_dimensions['D'].hidden = True\n",
    "    num_rows = sheet.max_row\n",
    "    curr_row = 2\n",
    "    for col in range(4, 17):\n",
    "        for row in range(2, num_rows+1):\n",
    "            sheet.cell(column=col, row=row).number_format = '\"$\"#,##0;[Red](\"$\"#,##0)'\n",
    "    for col in range(1, 4):\n",
    "        for row in range(3, num_rows):\n",
    "            sheet.cell(column=col, row=row).alignment = Alignment(horizontal = 'left', vertical='top')\n",
    "            sheet.cell(column=col, row=row).fill = blueFill\n",
    "    for i in range(1, sheet.max_row + 1):\n",
    "        if sheet.cell(row=i, column=3).value == \"Subtotal\":\n",
    "            for j in range(3,17):\n",
    "                sheet.cell(column=j, row=i).font = Font(bold=True)\n",
    "                sheet.cell(column=j, row=i).border = Border(bottom=Side(style='thin'))     \n",
    "    for i in range(1, sheet.max_row + 1):\n",
    "        if sheet.cell(row=i, column=1).value == \"Grand\":\n",
    "            for j in range(1,17):\n",
    "                sheet.cell(column=j, row=i).font = Font(bold=True)\n",
    "                sheet.cell(column=j, row=i).border = Border(bottom=Side(style=\"double\"))   \n",
    "    for i in range(1, sheet.max_row + 1):\n",
    "        if sheet.cell(row=i, column=1).value == \"Initiative\":\n",
    "            for j in range(1,17):\n",
    "                sheet.cell(column=j, row=i).font = Font(bold=True)\n",
    "                sheet.cell(column=j, row=i).border = Border(top = thin, bottom = thin) \n",
    "                sheet.cell(column=j, row=i).fill = greyFill\n",
    "    for col in range(17, 18):\n",
    "        for row in range(2, num_rows+1):\n",
    "            sheet.cell(column=col, row=row).border = Border(left=thin)\n",
    "#    sheet.auto_filter.ref = sheet.dimensions\n",
    "    sheet.sheet_view.zoomScale = 70\n",
    "    sheet.freeze_panes = \"D3\"\n",
    "    book.save(file)"
   ]
  },
  {
   "cell_type": "code",
   "execution_count": 258,
   "metadata": {},
   "outputs": [],
   "source": [
    "def format_multi_pivot_MD4(Group, str):\n",
    "    step1 = create_MD_pivot4(Group)\n",
    "    step2 = add_subtotal_MD4(step1)\n",
    "    to_excel_MD4(step2, MDpath+str)\n",
    "    edit_workbook_MD4(MDpath+str)"
   ]
  },
  {
   "cell_type": "code",
   "execution_count": 259,
   "metadata": {},
   "outputs": [],
   "source": [
    "format_multi_pivot_MD4(Developing_Economies_RollupTotal, '\\\\Global South - '+timestampMD+' - MD Package.xlsx')\n",
    "format_multi_pivot_MD4(Climate_Aligned_IndustriesTotal, '\\\\Climate Aligned Industries - '+timestampMD+' - MD Package.xlsx')\n",
    "format_multi_pivot_MD4(IndiaTotal, '\\\\India - '+timestampMD+' - MD Package.xlsx')\n",
    "format_multi_pivot_MD4(OperationsTotal, '\\\\Operations - '+timestampMD+' - MD Package.xlsx')\n",
    "format_multi_pivot_MD4(DevelopmentTotal, '\\\\Development - '+timestampMD+' - MD Package.xlsx')\n",
    "format_multi_pivot_MD4(CommunicationsTotal, '\\\\Communications - '+timestampMD+' - MD Package.xlsx')\n",
    "format_multi_pivot_MD4(China_RollupTotal, '\\\\China - '+timestampMD+' - MD Package.xlsx')\n",
    "#format_multi_pivot_MD4(Breakthrough_TechnologyTotal, '\\\\M3 - '+timestampMD+' - MD Package.xlsx')\n",
    "format_multi_pivot_MD4(CrossProgramImpactAccelerationTotal, '\\\\Cross-Program Impact Acceleration - '+timestampMD+' - MD Package.xlsx')\n",
    "format_multi_pivot_MD4(CarbonFree_MobilityTotal, '\\\\Carbon-Free Mobility - '+timestampMD+' - MD Package.xlsx')\n",
    "format_multi_pivot_MD4(CarbonFree_ElectrictyTotal, '\\\\Carbon-Free Electricity - '+timestampMD+' - MD Package.xlsx')\n",
    "format_multi_pivot_MD4(Strategic_Engagement_and_Analysis_GroupTotal, '\\\\Strategic Analysis and Engagement - '+timestampMD+' - MD Package.xlsx')\n",
    "format_multi_pivot_MD4(CarbonFreeBuildings_RollupTotal, '\\\\Carbon-Free Buildings - '+timestampMD+' - MD Package.xlsx')\n",
    "format_multi_pivot_MD4(Urban_TransformationTotal, '\\\\Urban Transformation - '+timestampMD+' - MD Package.xlsx')\n",
    "format_multi_pivot_MD4(Climate_IntelligenceTotal, '\\\\Climate Intelligence - '+timestampMD+' - MD Package.xlsx')\n",
    "format_multi_pivot_MD4(IndustryTotal, '\\\\Industry - '+timestampMD+' - MD Package.xlsx')\n",
    "format_multi_pivot_MD4(USTotal, '\\\\US - '+timestampMD+' - MD Package.xlsx')\n",
    "#format_multi_pivot_MD4(WattTimeTotal, '\\\\WattTime - '+timestampMD+' - MD Package.xlsx')\n",
    "format_multi_pivot_MD4(Global_Climate_FinanceTotal, '\\\\Finance - '+timestampMD+' - MD Package.xlsx')\n",
    "format_multi_pivot_MD4(D3Total, '\\\\Third Derivative - '+timestampMD+' - MD Package.xlsx')\n"
   ]
  },
  {
   "cell_type": "markdown",
   "metadata": {},
   "source": [
    "## Create Salesforce Pivots for Philanthropic"
   ]
  },
  {
   "cell_type": "code",
   "execution_count": 260,
   "metadata": {},
   "outputs": [],
   "source": [
    "def create_Salesforceprogram(program):\n",
    "    firstdf = dfSalesforce[dfSalesforce['Program: Program Name']==program]\n",
    "    seconddf = firstdf[firstdf['Grant Status']!='Complete - Satisfactory']\n",
    "    if seconddf.empty == True:\n",
    "        print(str(program)+ \" DF is EMPTY\")\n",
    "    else:    \n",
    "        return firstdf"
   ]
  },
  {
   "cell_type": "code",
   "execution_count": 261,
   "metadata": {},
   "outputs": [
    {
     "name": "stdout",
     "output_type": "stream",
     "text": [
      "Operations DF is EMPTY\n",
      "M3 DF is EMPTY\n",
      "Communications DF is EMPTY\n",
      "Cross-Program Impact Acceleration DF is EMPTY\n",
      "Industry DF is EMPTY\n",
      "Building Electrification DF is EMPTY\n",
      "Beijing DF is EMPTY\n",
      "CFAN DF is EMPTY\n"
     ]
    }
   ],
   "source": [
    "DevelopmentSF = create_Salesforceprogram(\"General Support\")\n",
    "IslandsSF = create_Salesforceprogram(\"Islands\")\n",
    "IndiaSF = create_Salesforceprogram(\"India\")\n",
    "OperationsSF = create_Salesforceprogram(\"Operations\")\n",
    "ChinaSF = create_Salesforceprogram(\"China\")\n",
    "Breakthrough_Technology_SF = create_Salesforceprogram(\"M3\")\n",
    "CarbonFree_MobilitySF = create_Salesforceprogram(\"Carbon-Free Mobility\")\n",
    "ClimateAligned_IndustriesSF = create_Salesforceprogram(\"Climate Aligned Industries\")\n",
    "CommunicationsSF = create_Salesforceprogram(\"Communications\")\n",
    "GlobalClimate_FinanceSF = create_Salesforceprogram(\"Global Climate Finance\")\n",
    "Strategic_Engagement_and_Analysis_GroupSF = create_Salesforceprogram(\"Strategic Analysis and Engagement\")\n",
    "Carbon_Free_BuildingsSF = create_Salesforceprogram(\"Carbon-Free Buildings\")\n",
    "CrossProgramImpactAccelerationSF = create_Salesforceprogram(\"Cross-Program Impact Acceleration\")\n",
    "Carbon_Free_ElectricitySF = create_Salesforceprogram(\"Carbon-Free Electricity\")\n",
    "UrbanTrans_SF = create_Salesforceprogram(\"Urban Transformation\")\n",
    "ClimateIntelSF = create_Salesforceprogram(\"Climate Intelligence\")\n",
    "IndustrySF = create_Salesforceprogram(\"Industry\")\n",
    "SEAsiaSF = create_Salesforceprogram(\"SE Asia Energy\")\n",
    "AfricaSF = create_Salesforceprogram(\"Africa\")\n",
    "USSF = create_Salesforceprogram(\"US\")\n",
    "BuildingElectrificationSF = create_Salesforceprogram(\"Building Electrification\")\n",
    "Energy_Transition_AcademySF = create_Salesforceprogram(\"Energy Transition Academy\")\n",
    "BeijingSF = create_Salesforceprogram(\"Beijing\")\n",
    "CFANSF = create_Salesforceprogram(\"CFAN\")\n",
    "D3SF = create_Salesforceprogram(\"Third Derivative\")"
   ]
  },
  {
   "cell_type": "code",
   "execution_count": 262,
   "metadata": {},
   "outputs": [],
   "source": [
    "Developing_Economies_RollupSF = pd.concat([IslandsSF, AfricaSF, SEAsiaSF, Energy_Transition_AcademySF, CFANSF], ignore_index = True, sort=False)\n",
    "CarbonFreeBuildings_RollupSF = pd.concat([Carbon_Free_BuildingsSF, BuildingElectrificationSF], ignore_index = True, sort=False)\n",
    "China_RollupSF = pd.concat([ChinaSF, BeijingSF], ignore_index = True, sort=False)"
   ]
  },
  {
   "cell_type": "code",
   "execution_count": 263,
   "metadata": {},
   "outputs": [],
   "source": [
    "def create_MD_pivot5(Group):\n",
    "    table = pd.pivot_table(Group, index = ['Opportunity Record Type','Initiative','Forecast Category','Opportunity Name', 'Documents Link', 'RMI Grant Name', 'Revenue Name','Stage', 'Revenue Date', 'Grant Term - Start Date', 'Grant Term - End Date', 'Grant Status', 'Program Fund Type', 'Probability (%)', 'Revenue Amount'], values = 'Expected Revenue', aggfunc=np.sum)\n",
    "    return table"
   ]
  },
  {
   "cell_type": "code",
   "execution_count": 264,
   "metadata": {},
   "outputs": [],
   "source": [
    "today = datetime.today()\n",
    "timestamptoday = today.strftime(\"%B %d, %Y\")"
   ]
  },
  {
   "cell_type": "code",
   "execution_count": 265,
   "metadata": {},
   "outputs": [],
   "source": [
    "def to_excel_MD5(df, file):\n",
    "    writer = pd.ExcelWriter(file, engine='openpyxl')\n",
    "    if os.path.exists(file):\n",
    "        book = openpyxl.load_workbook(file)\n",
    "        writer.book = book\n",
    "\n",
    "    df.to_excel(writer, sheet_name=\"SF Data DEV&GovMLBL\", startrow = 1)\n",
    "    writer.save()\n",
    "    writer.close()   "
   ]
  },
  {
   "cell_type": "code",
   "execution_count": 266,
   "metadata": {},
   "outputs": [],
   "source": [
    "def edit_workbook_MD5(file):\n",
    "    book = load_workbook(file)\n",
    "    sheet = book[\"SF Data DEV&GovMLBL\"] #active means last opened sheet\n",
    "    rd = sheet.row_dimensions[1]\n",
    "    rd.height = 25\n",
    "    sheet['A2']= \"Opportunity Record Type\"    \n",
    "    sheet['B2']= \"Initiative\"\n",
    "    sheet['C2']= \"Forecast Category\" \n",
    "    sheet['D2']= \"Opportunity Name\"\n",
    "    sheet['E2']= \"Essential Documents Link\"      \n",
    "    sheet['F2']= \"RMI Grant Name\"    \n",
    "    sheet['G2']= \"Revenue Name\" \n",
    "    sheet['H2']= \"Stage\"     \n",
    "    sheet['I2']= \"Revenue Date\"     \n",
    "    sheet['J2']= \"Grant Term - Start Date\"\n",
    "    sheet['K2']= \"Grant Term - End Date\"  \n",
    "    sheet['L2']= \"Grant Status\"   \n",
    "    sheet['M2']= \"Program Fund Type\"   \n",
    "    sheet['N2']= \"Probability (%)\"     \n",
    "    sheet['O2']= \"Revenue Amount\"\n",
    "    sheet['P2']= \"Expected Revenue\"   \n",
    "    sheet['A2'].font = Font(bold=True)\n",
    "    sheet['B2'].font = Font(bold=True)\n",
    "    sheet['C2'].font = Font(bold=True)\n",
    "    sheet['D2'].font = Font(bold=True) \n",
    "#    fontStyle = Font(size = \"20\")\n",
    "    sheet.merge_cells('A1:P1')\n",
    "    top_left_cell = sheet['A1']\n",
    "    top_right_cell = sheet['P1']\n",
    "    top_left_cell.value = \"SalesForce FY20+ Data as of \" +timestamptoday\n",
    "    thin = Side(border_style=\"thin\", color=\"000000\")\n",
    "    double = Side(border_style=\"double\", color=\"000000\")\n",
    "    top_left_cell.border = Border(top=thin, left=thin, right=thin, bottom=thin)\n",
    "    top_left_cell.fill = PatternFill(\"solid\", fgColor=\"003366\")\n",
    "#    top_left_cell.fill = fill = GradientFill(stop=(\"000080\", \"FFFFFF\"))\n",
    "    top_left_cell.font  = Font(color=\"FFFFFF\", size = \"26\")\n",
    "#    top_left_cell.font = fontStyle\n",
    "    top_left_cell.alignment = Alignment(horizontal=\"center\", vertical=\"center\")\n",
    "    top_right_cell.border = Border(top=thin, left=thin, right=thin, bottom=thin)\n",
    "    sheet.column_dimensions['A'].width = 25\n",
    "    sheet.column_dimensions['B'].width = 20\n",
    "    sheet.column_dimensions['C'].width = 15\n",
    "    sheet.column_dimensions['D'].width = 30\n",
    "    sheet.column_dimensions['E'].width = 25\n",
    "    sheet.column_dimensions['F'].width = 25\n",
    "    sheet.column_dimensions['G'].width = 30\n",
    "    sheet.column_dimensions['H'].width = 15\n",
    "    sheet.column_dimensions['I'].width = 15\n",
    "    sheet.column_dimensions['J'].width = 15\n",
    "    sheet.column_dimensions['K'].width = 15\n",
    "    sheet.column_dimensions['L'].width = 15\n",
    "    sheet.column_dimensions['M'].width = 15\n",
    "    sheet.column_dimensions['N'].width = 15\n",
    "    sheet.column_dimensions['O'].width = 15\n",
    "    sheet.column_dimensions['F'].hidden = True\n",
    "    sheet.column_dimensions['E'].hidden = True\n",
    "    num_rows = sheet.max_row\n",
    "    curr_row = 2\n",
    "    thin_border = Border(left=Side(style='thin'), \n",
    "                         right=Side(style='thin'), \n",
    "                         top=Side(style='thin'), \n",
    "                         bottom=Side(style='thin'))\n",
    "    for col in range(4, 5):\n",
    "        for row in range(2, num_rows+1):\n",
    "            if sheet.cell(column=5, row=row).value == 'na':\n",
    "                continue\n",
    "            else:\n",
    "                try:\n",
    "                    sheet.cell(column=col, row=row).hyperlink = sheet.cell(column=5, row=row).value  \n",
    "                    sheet.cell(column=col, row=row).value = sheet.cell(column=col, row=row).value    \n",
    "                    sheet.cell(column=col, row=row).style = \"Hyperlink\"   \n",
    "                except:\n",
    "                    pass    \n",
    "    for col in range(4, 5):\n",
    "        for row in range(2, num_rows+1):\n",
    "                sheet.cell(column=col, row=row).border = thin_border\n",
    "    for col in range(14, 17):\n",
    "        for row in range(2, num_rows+1):\n",
    "            sheet.cell(column=col, row=row).number_format = '#,##0;[Red](#,##0)'\n",
    "    for col in range(1, 8):\n",
    "        for row in range(3, num_rows+1):\n",
    "            sheet.cell(column=col, row=row).alignment = Alignment(horizontal = 'left', vertical='top')\n",
    "            sheet.cell(column=col, row=row).fill = blueFill\n",
    "    for i in range(1, sheet.max_row + 1):\n",
    "        if sheet.cell(row=i, column=1).value == \"Opportunity Record Type\":\n",
    "            for j in range(1,17):\n",
    "                sheet.cell(column=j, row=i).font = Font(bold=True)\n",
    "                sheet.cell(column=j, row=i).border = Border(top = thin, bottom = thin)   \n",
    "                sheet.cell(column=j, row=i).fill = greyFill\n",
    "    for col in range(16, 17):\n",
    "        for row in range(2, num_rows+1):\n",
    "            sheet.cell(column=col, row=row).border = Border(top=thin, left=thin, right=thin, bottom=thin)\n",
    "    for col in range(8, 17):\n",
    "        for row in range(3, num_rows+1):\n",
    "            sheet.cell(column=col, row=row).font = Font(bold=False)\n",
    "    sheet.sheet_view.zoomScale = 85  \n",
    "    sheet.freeze_panes = sheet['H3']\n",
    "    book.save(file)"
   ]
  },
  {
   "cell_type": "code",
   "execution_count": 267,
   "metadata": {},
   "outputs": [],
   "source": [
    "def format_multi_pivot_MD5(Group, str):\n",
    "    step1 = create_MD_pivot5(Group)\n",
    "    to_excel_MD5(step1, MDpath+str)\n",
    "    edit_workbook_MD5(MDpath+str)"
   ]
  },
  {
   "cell_type": "code",
   "execution_count": 268,
   "metadata": {},
   "outputs": [],
   "source": [
    "format_multi_pivot_MD5(Developing_Economies_RollupSF, '\\\\Global South - '+timestampMD+' - MD Package.xlsx')\n",
    "format_multi_pivot_MD5(ClimateAligned_IndustriesSF, '\\\\Climate Aligned Industries - '+timestampMD+' - MD Package.xlsx')\n",
    "format_multi_pivot_MD5(IndiaSF, '\\\\India - '+timestampMD+' - MD Package.xlsx')\n",
    "#format_multi_pivot_MD5(OperationsSF, '\\\\Operations - '+timestampMD+' - MD Package.xlsx')\n",
    "#format_multi_pivot_MD5(CommunicationsSF, '\\\\Communications - '+timestampMD+' - MD Package.xlsx')\n",
    "format_multi_pivot_MD5(DevelopmentSF, '\\\\Development - '+timestampMD+' - MD Package.xlsx')\n",
    "format_multi_pivot_MD5(China_RollupSF, '\\\\China - '+timestampMD+' - MD Package.xlsx')\n",
    "#format_multi_pivot_MD5(Breakthrough_Technology_SF, '\\\\M3 - '+timestampMD+' - MD Package.xlsx')\n",
    "format_multi_pivot_MD5(D3SF, '\\\\Third Derivative - '+timestampMD+' - MD Package.xlsx')\n",
    "#format_multi_pivot_MD5(CrossProgramImpactAccelerationSF, '\\\\Cross-Program Impact Acceleration - '+timestampMD+' - MD Package.xlsx')\n",
    "format_multi_pivot_MD5(CarbonFree_MobilitySF, '\\\\Carbon-Free Mobility - '+timestampMD+' - MD Package.xlsx')\n",
    "format_multi_pivot_MD5(Carbon_Free_ElectricitySF, '\\\\Carbon-Free Electricity - '+timestampMD+' - MD Package.xlsx')\n",
    "format_multi_pivot_MD5(Strategic_Engagement_and_Analysis_GroupSF, '\\\\Strategic Analysis and Engagement - '+timestampMD+' - MD Package.xlsx')\n",
    "format_multi_pivot_MD5(CarbonFreeBuildings_RollupSF, '\\\\Carbon-Free Buildings - '+timestampMD+' - MD Package.xlsx')\n",
    "format_multi_pivot_MD5(UrbanTrans_SF, '\\\\Urban Transformation - '+timestampMD+' - MD Package.xlsx')\n",
    "format_multi_pivot_MD5(ClimateIntelSF, '\\\\Climate Intelligence - '+timestampMD+' - MD Package.xlsx')\n",
    "#format_multi_pivot_MD5(IndustrySF, '\\\\Industry - '+timestampMD+' - MD Package.xlsx')\n",
    "format_multi_pivot_MD5(USSF, '\\\\US - '+timestampMD+' - MD Package.xlsx')\n",
    "format_multi_pivot_MD5(GlobalClimate_FinanceSF, '\\\\Finance - '+timestampMD+' - MD Package.xlsx')\n",
    "#format_multi_pivot_MD6(BuildingElectrificationSF, '\\\\Building Electrification - '+timestampMD+' - MD Package.xlsx')"
   ]
  },
  {
   "cell_type": "markdown",
   "metadata": {},
   "source": [
    "## Create Salesforce Pivots for FFS"
   ]
  },
  {
   "cell_type": "code",
   "execution_count": 269,
   "metadata": {},
   "outputs": [],
   "source": [
    "def create_Salesforceprogram2(program):\n",
    "    firstdf = dfSalesforceFFS[dfSalesforceFFS['Program Area: Program Name']==program]\n",
    "    if firstdf.empty == True:\n",
    "        print(str(program)+ \" DF is EMPTY\")\n",
    "    else:    \n",
    "        return firstdf"
   ]
  },
  {
   "cell_type": "code",
   "execution_count": 270,
   "metadata": {},
   "outputs": [
    {
     "name": "stdout",
     "output_type": "stream",
     "text": [
      "General Support DF is EMPTY\n",
      "Operations DF is EMPTY\n",
      "M3 DF is EMPTY\n",
      "Communications DF is EMPTY\n",
      "Strategic Analysis and Engagement DF is EMPTY\n",
      "Cross-Program Impact Acceleration DF is EMPTY\n",
      "Industry DF is EMPTY\n",
      "Building Electrification DF is EMPTY\n",
      "Energy Transition Academy DF is EMPTY\n",
      "Beijing DF is EMPTY\n",
      "CFAN DF is EMPTY\n"
     ]
    }
   ],
   "source": [
    "DevelopmentSFffs = create_Salesforceprogram2(\"General Support\")\n",
    "IslandsSFffs = create_Salesforceprogram2(\"Islands\")\n",
    "IndiaSFffs = create_Salesforceprogram2(\"India\")\n",
    "OperationsSFffs = create_Salesforceprogram2(\"Operations\")\n",
    "ChinaSFffs = create_Salesforceprogram2(\"China\")\n",
    "Breakthrough_Technology_SFffs = create_Salesforceprogram2(\"M3\")\n",
    "CarbonFree_MobilitySFffs = create_Salesforceprogram2(\"Carbon-Free Mobility\")\n",
    "ClimateAligned_IndustriesSFffs = create_Salesforceprogram2(\"Climate Aligned Industries\")\n",
    "CommunicationsSFffs = create_Salesforceprogram2(\"Communications\")\n",
    "GlobalClimate_FinanceSFffs = create_Salesforceprogram2(\"Global Climate Finance\")\n",
    "Strategic_Engagement_and_Analysis_GroupSFffs = create_Salesforceprogram2(\"Strategic Analysis and Engagement\")\n",
    "CrossProgramImpactAccelerationSFffs = create_Salesforceprogram2(\"Cross-Program Impact Acceleration\")\n",
    "Carbon_Free_BuildingsSFffs = create_Salesforceprogram2(\"Carbon-Free Buildings\")\n",
    "Carbon_Free_ElectricitySFffs = create_Salesforceprogram2(\"Carbon-Free Electricity\")\n",
    "UrbanTrans_SFffs = create_Salesforceprogram2(\"Urban Transformation\")\n",
    "ClimateIntelSFffs = create_Salesforceprogram2(\"Climate Intelligence\")\n",
    "IndustrySFffs = create_Salesforceprogram2(\"Industry\")\n",
    "SEAsiaSFffs = create_Salesforceprogram2(\"SE Asia Energy\")\n",
    "AfricaSFffs = create_Salesforceprogram2(\"Africa\")\n",
    "USSFffs = create_Salesforceprogram2(\"US\")\n",
    "BuildingElectrificationSFffs = create_Salesforceprogram2(\"Building Electrification\")\n",
    "Energy_Transition_AcademySFffs = create_Salesforceprogram2(\"Energy Transition Academy\")\n",
    "BeijingSFffs = create_Salesforceprogram2(\"Beijing\")\n",
    "CFANSFffs = create_Salesforceprogram2(\"CFAN\")\n",
    "D3SFffs = create_Salesforceprogram2(\"Third Derivative\")"
   ]
  },
  {
   "cell_type": "code",
   "execution_count": 271,
   "metadata": {},
   "outputs": [],
   "source": [
    "Developing_Economies_RollupSFffs = pd.concat([IslandsSFffs, AfricaSFffs, SEAsiaSFffs, Energy_Transition_AcademySFffs, CFANSFffs], ignore_index = True, sort=False)\n",
    "CarbonFreeBuildings_RollupSFffs = pd.concat([Carbon_Free_BuildingsSFffs, BuildingElectrificationSFffs], ignore_index = True, sort=False)\n",
    "China_RollupSFffs = pd.concat([ChinaSFffs, BeijingSFffs], ignore_index = True, sort=False)"
   ]
  },
  {
   "cell_type": "code",
   "execution_count": 272,
   "metadata": {},
   "outputs": [],
   "source": [
    "def create_MD_pivot6(Group):\n",
    "    table = pd.pivot_table(Group, index = ['Initiative','Account Name', 'Opportunity Name','Relationship Manager', 'Stage', 'Close Date', 'Probability (%)', 'Amount'], values = 'Weighted Value of Opportunity', aggfunc=np.sum)\n",
    "    return table"
   ]
  },
  {
   "cell_type": "code",
   "execution_count": 273,
   "metadata": {},
   "outputs": [],
   "source": [
    "def to_excel_MD6(df, file):\n",
    "    writer = pd.ExcelWriter(file, engine='openpyxl')\n",
    "    if os.path.exists(file):\n",
    "        book = openpyxl.load_workbook(file)\n",
    "        writer.book = book\n",
    "\n",
    "    df.to_excel(writer, sheet_name=\"SF Data FFS & Other Opps\", startrow = 1)\n",
    "    writer.save()\n",
    "    writer.close()   "
   ]
  },
  {
   "cell_type": "code",
   "execution_count": 274,
   "metadata": {},
   "outputs": [],
   "source": [
    "def edit_workbook_MD6(file):\n",
    "    book = load_workbook(file)\n",
    "    sheet = book[\"SF Data FFS & Other Opps\"] #active means last opened sheet\n",
    "    rd = sheet.row_dimensions[1]\n",
    "    rd.height = 25\n",
    "    sheet['A2']= \"Initiative\"\n",
    "    sheet['B2']= \"Account Name\"    \n",
    "    sheet['C2']= \"Opportunity Name\"\n",
    "    sheet['D2']= \"Relationship Manager\" \n",
    "    sheet['E2']= \"Stage\"\n",
    "    sheet['F2']= \"Close Date\"    \n",
    "    sheet['G2']= \"Probability (%)\"   \n",
    "    sheet['H2']= \"Amount\"  \n",
    "    sheet['I2']= \"Weighted Value of Opportunity\"   \n",
    "    sheet['A2'].font = Font(bold=True)\n",
    "    sheet['B2'].font = Font(bold=True)\n",
    "    sheet['C2'].font = Font(bold=True)\n",
    "    sheet['D2'].font = Font(bold=True) \n",
    "#    fontStyle = Font(size = \"20\")\n",
    "    sheet.merge_cells('A1:I1')\n",
    "    top_left_cell = sheet['A1']\n",
    "    top_right_cell = sheet['I1']\n",
    "    top_left_cell.value = \"SalesForce FY20+ Data as of \" +timestamptoday \n",
    "    thin = Side(border_style=\"thin\", color=\"000000\")\n",
    "    double = Side(border_style=\"double\", color=\"000000\")\n",
    "    top_left_cell.border = Border(top=thin, left=thin, right=thin, bottom=thin)\n",
    "    top_left_cell.fill = PatternFill(\"solid\", fgColor=\"003366\")\n",
    "#    top_left_cell.fill = fill = GradientFill(stop=(\"000080\", \"FFFFFF\"))\n",
    "    top_left_cell.font  = Font(color=\"FFFFFF\", size = \"26\")\n",
    "#    top_left_cell.font = fontStyle\n",
    "    top_left_cell.alignment = Alignment(horizontal=\"center\", vertical=\"center\")\n",
    "    top_right_cell.border = Border(top=thin, left=thin, right=thin, bottom=thin)\n",
    "    sheet.column_dimensions['A'].width = 25\n",
    "    sheet.column_dimensions['B'].width = 25\n",
    "    sheet.column_dimensions['C'].width = 35\n",
    "    sheet.column_dimensions['D'].width = 25\n",
    "    sheet.column_dimensions['E'].width = 25\n",
    "    sheet.column_dimensions['F'].width = 15\n",
    "    sheet.column_dimensions['G'].width = 25\n",
    "    sheet.column_dimensions['H'].width = 25\n",
    "    sheet.column_dimensions['I'].width = 15\n",
    "    sheet.column_dimensions['J'].width = 15\n",
    "#    sheet.column_dimensions['D'].hidden = True\n",
    "    num_rows = sheet.max_row\n",
    "    curr_row = 2\n",
    "    for col in range(7, 10):\n",
    "        for row in range(2, num_rows+1):\n",
    "            sheet.cell(column=col, row=row).number_format = '#,##0;[Red](#,##0)'\n",
    "    for col in range(1, 6):\n",
    "        for row in range(3, num_rows+1):\n",
    "            sheet.cell(column=col, row=row).alignment = Alignment(horizontal = 'left', vertical='top')\n",
    "            sheet.cell(column=col, row=row).fill = blueFill\n",
    "    for i in range(1, sheet.max_row + 1):\n",
    "        if sheet.cell(row=i, column=1).value == \"Initiative\":\n",
    "            for j in range(1,10):\n",
    "                sheet.cell(column=j, row=i).font = Font(bold=True)\n",
    "                sheet.cell(column=j, row=i).border = Border(top = thin, bottom = thin)   \n",
    "                sheet.cell(column=j, row=i).fill = greyFill\n",
    "    for col in range(9, 10):\n",
    "        for row in range(2, num_rows+1):\n",
    "            sheet.cell(column=col, row=row).border = Border(top=thin, left=thin, right=thin, bottom=thin)\n",
    "    for col in range(6, 10):\n",
    "        for row in range(3, num_rows+1):\n",
    "            sheet.cell(column=col, row=row).font = Font(bold=False)\n",
    "    sheet.sheet_view.zoomScale = 70  \n",
    "    sheet.freeze_panes = sheet['F3']\n",
    "    book.save(file)"
   ]
  },
  {
   "cell_type": "code",
   "execution_count": 275,
   "metadata": {},
   "outputs": [],
   "source": [
    "def format_multi_pivot_MD6(Group, str):\n",
    "    step1 = create_MD_pivot6(Group)\n",
    "    to_excel_MD6(step1, MDpath+str)\n",
    "    edit_workbook_MD6(MDpath+str)"
   ]
  },
  {
   "cell_type": "code",
   "execution_count": 276,
   "metadata": {},
   "outputs": [],
   "source": [
    "format_multi_pivot_MD6(Developing_Economies_RollupSFffs, '\\\\Global South - '+timestampMD+' - MD Package.xlsx')\n",
    "format_multi_pivot_MD6(ClimateAligned_IndustriesSFffs, '\\\\Climate Aligned Industries - '+timestampMD+' - MD Package.xlsx')\n",
    "format_multi_pivot_MD6(IndiaSFffs, '\\\\India - '+timestampMD+' - MD Package.xlsx')\n",
    "#format_multi_pivot_MD6(OperationsSFffs, '\\\\Operations - '+timestampMD+' - MD Package.xlsx')\n",
    "#format_multi_pivot_MD6(DevelopmentSFffs, '\\\\Development - '+timestampMD+' - MD Package.xlsx')\n",
    "#format_multi_pivot_MD6(CommunicationsSFffs, '\\\\Communications - '+timestampMD+' - MD Package.xlsx')\n",
    "format_multi_pivot_MD6(China_RollupSFffs, '\\\\China - '+timestampMD+' - MD Package.xlsx')\n",
    "#format_multi_pivot_MD6(Breakthrough_Technology_SFffs, '\\\\M3 - '+timestampMD+' - MD Package.xlsx')\n",
    "format_multi_pivot_MD6(D3SFffs, '\\\\Third Derivative - '+timestampMD+' - MD Package.xlsx')\n",
    "#format_multi_pivot_MD6(CrossProgramImpactAccelerationSFffs, '\\\\Cross-Program Impact Acceleration - '+timestampMD+' - MD Package.xlsx')\n",
    "format_multi_pivot_MD6(CarbonFree_MobilitySFffs, '\\\\Carbon-Free Mobility - '+timestampMD+' - MD Package.xlsx')\n",
    "format_multi_pivot_MD6(Carbon_Free_ElectricitySFffs, '\\\\Carbon-Free Electricity - '+timestampMD+' - MD Package.xlsx')\n",
    "#format_multi_pivot_MD6(Strategic_Engagement_and_Analysis_GroupSFffs, '\\\\Strategic Analysis and Engagement - '+timestampMD+' - MD Package.xlsx')\n",
    "format_multi_pivot_MD6(CarbonFreeBuildings_RollupSFffs, '\\\\Carbon-Free Buildings - '+timestampMD+' - MD Package.xlsx')\n",
    "format_multi_pivot_MD6(UrbanTrans_SFffs, '\\\\Urban Transformation - '+timestampMD+' - MD Package.xlsx')\n",
    "format_multi_pivot_MD6(ClimateIntelSFffs, '\\\\Climate Intelligence - '+timestampMD+' - MD Package.xlsx')\n",
    "#format_multi_pivot_MD6(IndustrySFffs, '\\\\Industry - '+timestampMD+' - MD Package.xlsx')\n",
    "format_multi_pivot_MD6(USSFffs, '\\\\US - '+timestampMD+' - MD Package.xlsx')\n",
    "format_multi_pivot_MD6(GlobalClimate_FinanceSFffs, '\\\\Finance - '+timestampMD+' - MD Package.xlsx')"
   ]
  },
  {
   "cell_type": "markdown",
   "metadata": {},
   "source": [
    "# ADD GRANT REPORTS DUE SECTION"
   ]
  },
  {
   "cell_type": "code",
   "execution_count": 277,
   "metadata": {},
   "outputs": [
    {
     "data": {
      "text/plain": [
       "Index(['Date', 'Account Name', 'Type', 'Status', 'Subject', 'Comments',\n",
       "       'Opportunity Name', 'RMI Grant Name', 'Amount', 'Close Date',\n",
       "       'Program Area', 'Grant Status', 'Grant Term - Start Date',\n",
       "       'Grant Term - End Date', 'Relationship Manager', 'Assigned',\n",
       "       'Funding Type'],\n",
       "      dtype='object')"
      ]
     },
     "execution_count": 277,
     "metadata": {},
     "output_type": "execute_result"
    }
   ],
   "source": [
    "SalesForceGrantReportsDue.columns"
   ]
  },
  {
   "cell_type": "code",
   "execution_count": 278,
   "metadata": {},
   "outputs": [],
   "source": [
    "SalesForceGrantReportsDue = SalesForceGrantReportsDue[['Date', 'Program Area','Account Name','Opportunity Name','RMI Grant Name','Status','Subject', 'Assigned']]"
   ]
  },
  {
   "cell_type": "code",
   "execution_count": 279,
   "metadata": {},
   "outputs": [],
   "source": [
    "SalesForceGrantReportsDue['Date'] = pd.to_datetime(SalesForceGrantReportsDue['Date'])\n",
    "SalesForceGrantReportsDue['Date'] = SalesForceGrantReportsDue['Date'].dt.date"
   ]
  },
  {
   "cell_type": "code",
   "execution_count": 280,
   "metadata": {},
   "outputs": [],
   "source": [
    "SalesForceGrantReportsDue['Program Area'].replace('', np.nan, inplace=True)\n",
    "SalesForceGrantReportsDue['Account Name'].replace('', np.nan, inplace=True)\n",
    "SalesForceGrantReportsDue['Opportunity Name'].replace('', np.nan, inplace=True)\n",
    "SalesForceGrantReportsDue['RMI Grant Name'].replace('', np.nan, inplace=True)\n",
    "SalesForceGrantReportsDue['Status'].replace('', np.nan, inplace=True)\n",
    "SalesForceGrantReportsDue['Subject'].replace('', np.nan, inplace=True)\n",
    "SalesForceGrantReportsDue['Assigned'].replace('', np.nan, inplace=True)\n",
    "SalesForceGrantReportsDue['Date'].replace('', np.nan, inplace=True)\n",
    "\n",
    "\n",
    "SalesForceGrantReportsDue['Program Area'].fillna(\"na\", inplace=True)\n",
    "SalesForceGrantReportsDue['Account Name'].fillna(\"na\", inplace=True)\n",
    "SalesForceGrantReportsDue['Opportunity Name'].fillna(\"na\", inplace=True)\n",
    "SalesForceGrantReportsDue['RMI Grant Name'].fillna(\"na\", inplace=True)\n",
    "SalesForceGrantReportsDue['Status'].fillna(\"na\", inplace=True)\n",
    "SalesForceGrantReportsDue['Subject'].fillna(\"na\", inplace=True)\n",
    "SalesForceGrantReportsDue['Assigned'].fillna(\"na\", inplace=True)\n",
    "SalesForceGrantReportsDue['Date'].fillna(\"na\", inplace=True)\n",
    "                        "
   ]
  },
  {
   "cell_type": "code",
   "execution_count": 281,
   "metadata": {},
   "outputs": [],
   "source": [
    "def slice_SF_Reports_Data(program):\n",
    "    firstdf = SalesForceGrantReportsDue[SalesForceGrantReportsDue['Program Area']==program]\n",
    "    firstdf.sort_values(by='Date')\n",
    "    firstdf[['Date', 'Account Name','Opportunity Name','RMI Grant Name','Status','Subject', 'Assigned']]\n",
    "    return firstdf\n",
    "    "
   ]
  },
  {
   "cell_type": "code",
   "execution_count": 282,
   "metadata": {},
   "outputs": [],
   "source": [
    "Developing_Economies_GRD = pd.concat([slice_SF_Reports_Data(\"Africa\"), slice_SF_Reports_Data(\"Islands\"), slice_SF_Reports_Data(\"Climate Finance Access Network\")], ignore_index = True, sort=False)"
   ]
  },
  {
   "cell_type": "code",
   "execution_count": 283,
   "metadata": {},
   "outputs": [],
   "source": [
    "def to_excel_MD11(df, file):\n",
    "    writer = pd.ExcelWriter(file, engine='openpyxl')\n",
    "    if os.path.exists(file):\n",
    "        book = openpyxl.load_workbook(file)\n",
    "        writer.book = book\n",
    "\n",
    "    df.to_excel(writer, sheet_name=\"Grant Reports Due\", startrow = 1, index = False)\n",
    "    writer.save()\n",
    "    writer.close()   "
   ]
  },
  {
   "cell_type": "code",
   "execution_count": 284,
   "metadata": {},
   "outputs": [],
   "source": [
    "def edit_workbook_MD11(file):\n",
    "    book = load_workbook(file)\n",
    "    sheet = book[\"Grant Reports Due\"] #active means last opened sheet\n",
    "    rd = sheet.row_dimensions[1]\n",
    "    rd.height = 25\n",
    "    sheet['A2']= \"Date\"\n",
    "    sheet['B2']= \"Program Area\"    \n",
    "    sheet['C2']= \"Account Name\"\n",
    "    sheet['D2']= \"Opportunity Name\" \n",
    "    sheet['E2']= \"RMI Grant Name\"\n",
    "    sheet['F2']= \"Status\"    \n",
    "    sheet['G2']= \"Subject\"   \n",
    "    sheet['H2']= \"Assigned\"  \n",
    "    sheet['A2'].font = Font(bold=True)\n",
    "    sheet['B2'].font = Font(bold=True)\n",
    "    sheet['C2'].font = Font(bold=True)\n",
    "    sheet['D2'].font = Font(bold=True) \n",
    "    sheet['E2'].font = Font(bold=True)     \n",
    "    sheet['F2'].font = Font(bold=True)     \n",
    "    sheet['G2'].font = Font(bold=True) \n",
    "    sheet['H2'].font = Font(bold=True) \n",
    "#    fontStyle = Font(size = \"20\")\n",
    "    sheet.merge_cells('A1:H1')\n",
    "    top_left_cell = sheet['A1']\n",
    "    top_right_cell = sheet['H1']\n",
    "    top_left_cell.value = \"SalesForce Grant Reports Due as of \" +timestamptoday \n",
    "    thin = Side(border_style=\"thin\", color=\"000000\")\n",
    "    double = Side(border_style=\"double\", color=\"000000\")\n",
    "    top_left_cell.border = Border(top=thin, left=thin, right=thin, bottom=thin)\n",
    "    top_left_cell.fill = PatternFill(\"solid\", fgColor=\"003366\")\n",
    "#    top_left_cell.fill = fill = GradientFill(stop=(\"000080\", \"FFFFFF\"))\n",
    "    top_left_cell.font  = Font(color=\"FFFFFF\", size = \"26\")\n",
    "#    top_left_cell.font = fontStyle\n",
    "    top_left_cell.alignment = Alignment(horizontal=\"center\", vertical=\"center\")\n",
    "    top_right_cell.border = Border(top=thin, left=thin, right=thin, bottom=thin)\n",
    "    sheet.column_dimensions['A'].width = 25\n",
    "    sheet.column_dimensions['B'].width = 25\n",
    "    sheet.column_dimensions['C'].width = 35\n",
    "    sheet.column_dimensions['D'].width = 25\n",
    "    sheet.column_dimensions['E'].width = 25\n",
    "    sheet.column_dimensions['F'].width = 15\n",
    "    sheet.column_dimensions['G'].width = 25\n",
    "    sheet.column_dimensions['H'].width = 25\n",
    "#    sheet.column_dimensions['D'].hidden = True\n",
    "    num_rows = sheet.max_row\n",
    "    curr_row = 2\n",
    "    for i in range(1, sheet.max_row + 1):\n",
    "        if sheet.cell(row=i, column=1).value == \"Date\":\n",
    "            for j in range(1,9):\n",
    "                sheet.cell(column=j, row=i).font = Font(bold=True)\n",
    "                sheet.cell(column=j, row=i).border = Border(top = thin, bottom = thin)   \n",
    "                sheet.cell(column=j, row=i).fill = greyFill\n",
    "    for col in range(9, 10):\n",
    "        for row in range(2, num_rows+1):\n",
    "            sheet.cell(column=col, row=row).border = Border(left=thin)\n",
    "    for col in range(1, 9):\n",
    "        for row in range(3, num_rows+1):\n",
    "            if row == num_rows:\n",
    "                sheet.cell(column=col, row=row).border = Border(bottom=thin)\n",
    "    sheet.sheet_view.zoomScale = 70  \n",
    "    book.save(file)"
   ]
  },
  {
   "cell_type": "code",
   "execution_count": 285,
   "metadata": {},
   "outputs": [],
   "source": [
    "def format_multi_pivot_MD11(Group, str):\n",
    "    GRD_DF = slice_SF_Reports_Data(Group)\n",
    "    to_excel_MD11(GRD_DF, MDpath+str)\n",
    "    edit_workbook_MD11(MDpath+str)"
   ]
  },
  {
   "cell_type": "code",
   "execution_count": 286,
   "metadata": {},
   "outputs": [],
   "source": [
    "def format_multi_pivot_DevEc_MD11(GRD_DF, str):\n",
    "    to_excel_MD11(GRD_DF, MDpath+str)\n",
    "    edit_workbook_MD11(MDpath+str)"
   ]
  },
  {
   "cell_type": "code",
   "execution_count": 287,
   "metadata": {},
   "outputs": [],
   "source": [
    "format_multi_pivot_DevEc_MD11(Developing_Economies_GRD, '\\\\Global South - '+timestampMD+' - MD Package.xlsx')"
   ]
  },
  {
   "cell_type": "code",
   "execution_count": 288,
   "metadata": {},
   "outputs": [],
   "source": [
    "format_multi_pivot_MD11(\"India\", '\\\\India - '+timestampMD+' - MD Package.xlsx')\n",
    "format_multi_pivot_MD11(\"China\", '\\\\China - '+timestampMD+' - MD Package.xlsx')\n",
    "format_multi_pivot_MD11(\"Carbon-Free Mobility\", '\\\\Carbon-Free Mobility - '+timestampMD+' - MD Package.xlsx')\n",
    "format_multi_pivot_MD11(\"Climate Aligned Industries\", '\\\\Climate Aligned Industries - '+timestampMD+' - MD Package.xlsx')\n",
    "format_multi_pivot_MD11(\"Climate Intelligence\", '\\\\Climate Intelligence - '+timestampMD+' - MD Package.xlsx')\n",
    "format_multi_pivot_MD11(\"Carbon-Free Buildings\", '\\\\Carbon-Free Buildings - '+timestampMD+' - MD Package.xlsx')\n",
    "format_multi_pivot_MD11(\"US\", '\\\\US - '+timestampMD+' - MD Package.xlsx')\n",
    "format_multi_pivot_MD11(\"Urban Transformation\", '\\\\Urban Transformation - '+timestampMD+' - MD Package.xlsx')\n",
    "format_multi_pivot_MD11(\"Third Derivative\", '\\\\Third Derivative - '+timestampMD+' - MD Package.xlsx')\n",
    "format_multi_pivot_MD11(\"Global Climate Finance\", '\\\\Finance - '+timestampMD+' - MD Package.xlsx')\n",
    "#format_multi_pivot_MD11(\"Canary Media\", '\\\\Climate Aligned Industries - '+timestampMD+' - MD Package.xlsx')\n"
   ]
  },
  {
   "cell_type": "code",
   "execution_count": 289,
   "metadata": {},
   "outputs": [],
   "source": [
    "format_multi_pivot_MD11(\"Carbon-Free Electricity\", '\\\\Carbon-Free Electricity - '+timestampMD+' - MD Package.xlsx')\n",
    "format_multi_pivot_MD11(\"Strategic Analysis and Engagement\", '\\\\Strategic Analysis and Engagement - '+timestampMD+' - MD Package.xlsx')"
   ]
  },
  {
   "cell_type": "markdown",
   "metadata": {},
   "source": [
    "## Add Projects Tables to MD Package"
   ]
  },
  {
   "cell_type": "code",
   "execution_count": 290,
   "metadata": {},
   "outputs": [],
   "source": [
    "# for data go to Mavenlink: Insights/Finance Dashboard/Projects for Invoicing.  Then select this Fiscal Year\n",
    "\n"
   ]
  },
  {
   "cell_type": "code",
   "execution_count": 291,
   "metadata": {},
   "outputs": [],
   "source": [
    "ProgramProjectListFY22 = dfFY22[['Program', 'Project']]"
   ]
  },
  {
   "cell_type": "code",
   "execution_count": 292,
   "metadata": {},
   "outputs": [],
   "source": [
    "ProgramProjectListFY22 = ProgramProjectListFY22.drop_duplicates()"
   ]
  },
  {
   "cell_type": "code",
   "execution_count": 293,
   "metadata": {},
   "outputs": [],
   "source": [
    "ProgramProjectListFY22 = ProgramProjectListFY22.rename(columns={'Project': 'Netsuite Project'})"
   ]
  },
  {
   "cell_type": "code",
   "execution_count": 294,
   "metadata": {},
   "outputs": [],
   "source": [
    "FinanceDashboard = 'C:\\\\Users\\\\jerem\\\\anaconda3\\\\envs\\\\Code\\\\RMICODING\\\\Data\\\\Finance Dashboard 11-15-2021 1139am.xlsx'\n",
    "FinanceDashboardData = pd.read_excel(FinanceDashboard)"
   ]
  },
  {
   "cell_type": "code",
   "execution_count": 295,
   "metadata": {},
   "outputs": [],
   "source": [
    "FinanceDashboardData['year'] = pd.DatetimeIndex(FinanceDashboardData['Date (Shared Date)']).year\n",
    "FinanceDashboardData['month'] = pd.DatetimeIndex(FinanceDashboardData['Date (Shared Date)']).month"
   ]
  },
  {
   "cell_type": "code",
   "execution_count": 296,
   "metadata": {},
   "outputs": [],
   "source": [
    "FinanceDashboardData['month'] = FinanceDashboardData['month'].astype(str)\n",
    "FinanceDashboardData['year'] = FinanceDashboardData['year'].astype(str)"
   ]
  },
  {
   "cell_type": "code",
   "execution_count": 297,
   "metadata": {},
   "outputs": [
    {
     "data": {
      "text/html": [
       "<div>\n",
       "<style scoped>\n",
       "    .dataframe tbody tr th:only-of-type {\n",
       "        vertical-align: middle;\n",
       "    }\n",
       "\n",
       "    .dataframe tbody tr th {\n",
       "        vertical-align: top;\n",
       "    }\n",
       "\n",
       "    .dataframe thead th {\n",
       "        text-align: right;\n",
       "    }\n",
       "</style>\n",
       "<table border=\"1\" class=\"dataframe\">\n",
       "  <thead>\n",
       "    <tr style=\"text-align: right;\">\n",
       "      <th></th>\n",
       "      <th>12. Client Name</th>\n",
       "      <th>Project</th>\n",
       "      <th>Workstream</th>\n",
       "      <th>Date (Shared Date)</th>\n",
       "      <th>Employee</th>\n",
       "      <th>Role</th>\n",
       "      <th>Billable</th>\n",
       "      <th>Notes</th>\n",
       "      <th>Hours Actual: All Approved</th>\n",
       "      <th>Billing Rate - Calculated from Time Entry Record</th>\n",
       "      <th>Approved Hours x Bill Rate</th>\n",
       "      <th>year</th>\n",
       "      <th>month</th>\n",
       "    </tr>\n",
       "  </thead>\n",
       "  <tbody>\n",
       "    <tr>\n",
       "      <th>0</th>\n",
       "      <td>3Degrees</td>\n",
       "      <td>3D Utility Product Strategy</td>\n",
       "      <td>Industry Input and Strat. Prioritization</td>\n",
       "      <td>2021-07-01</td>\n",
       "      <td>Ben Shapiro</td>\n",
       "      <td>Sr. Associate</td>\n",
       "      <td>True</td>\n",
       "      <td>EDF fleet report; CFM team meeting (1/3 alloca...</td>\n",
       "      <td>1.50</td>\n",
       "      <td>136.0</td>\n",
       "      <td>204.0</td>\n",
       "      <td>2021</td>\n",
       "      <td>7</td>\n",
       "    </tr>\n",
       "    <tr>\n",
       "      <th>1</th>\n",
       "      <td>3Degrees</td>\n",
       "      <td>3D Utility Product Strategy</td>\n",
       "      <td>Industry Input and Strat. Prioritization</td>\n",
       "      <td>2021-07-06</td>\n",
       "      <td>Ben Shapiro</td>\n",
       "      <td>Sr. Associate</td>\n",
       "      <td>True</td>\n",
       "      <td>Interview w/ Nadia El Mallakh at Xcel.</td>\n",
       "      <td>1.25</td>\n",
       "      <td>136.0</td>\n",
       "      <td>170.0</td>\n",
       "      <td>2021</td>\n",
       "      <td>7</td>\n",
       "    </tr>\n",
       "    <tr>\n",
       "      <th>2</th>\n",
       "      <td>3Degrees</td>\n",
       "      <td>3D Utility Product Strategy</td>\n",
       "      <td>Industry Input and Strat. Prioritization</td>\n",
       "      <td>2021-07-07</td>\n",
       "      <td>Ben Shapiro</td>\n",
       "      <td>Sr. Associate</td>\n",
       "      <td>True</td>\n",
       "      <td>PSE and Xcel interview slides.</td>\n",
       "      <td>3.00</td>\n",
       "      <td>136.0</td>\n",
       "      <td>408.0</td>\n",
       "      <td>2021</td>\n",
       "      <td>7</td>\n",
       "    </tr>\n",
       "    <tr>\n",
       "      <th>3</th>\n",
       "      <td>3Degrees</td>\n",
       "      <td>3D Utility Product Strategy</td>\n",
       "      <td>Industry Input and Strat. Prioritization</td>\n",
       "      <td>2021-07-12</td>\n",
       "      <td>Ben Shapiro</td>\n",
       "      <td>Sr. Associate</td>\n",
       "      <td>True</td>\n",
       "      <td>Reading Enel X article (Canary Media.</td>\n",
       "      <td>0.25</td>\n",
       "      <td>136.0</td>\n",
       "      <td>34.0</td>\n",
       "      <td>2021</td>\n",
       "      <td>7</td>\n",
       "    </tr>\n",
       "    <tr>\n",
       "      <th>4</th>\n",
       "      <td>3Degrees</td>\n",
       "      <td>3D Utility Product Strategy</td>\n",
       "      <td>Industry Input and Strat. Prioritization</td>\n",
       "      <td>2021-07-13</td>\n",
       "      <td>Ben Shapiro</td>\n",
       "      <td>Sr. Associate</td>\n",
       "      <td>True</td>\n",
       "      <td>Articles on fleet electrification; 1/2 of RoL-...</td>\n",
       "      <td>1.00</td>\n",
       "      <td>136.0</td>\n",
       "      <td>136.0</td>\n",
       "      <td>2021</td>\n",
       "      <td>7</td>\n",
       "    </tr>\n",
       "  </tbody>\n",
       "</table>\n",
       "</div>"
      ],
      "text/plain": [
       "  12. Client Name                      Project  \\\n",
       "0        3Degrees  3D Utility Product Strategy   \n",
       "1        3Degrees  3D Utility Product Strategy   \n",
       "2        3Degrees  3D Utility Product Strategy   \n",
       "3        3Degrees  3D Utility Product Strategy   \n",
       "4        3Degrees  3D Utility Product Strategy   \n",
       "\n",
       "                                 Workstream Date (Shared Date)     Employee  \\\n",
       "0  Industry Input and Strat. Prioritization         2021-07-01  Ben Shapiro   \n",
       "1  Industry Input and Strat. Prioritization         2021-07-06  Ben Shapiro   \n",
       "2  Industry Input and Strat. Prioritization         2021-07-07  Ben Shapiro   \n",
       "3  Industry Input and Strat. Prioritization         2021-07-12  Ben Shapiro   \n",
       "4  Industry Input and Strat. Prioritization         2021-07-13  Ben Shapiro   \n",
       "\n",
       "            Role  Billable                                              Notes  \\\n",
       "0  Sr. Associate      True  EDF fleet report; CFM team meeting (1/3 alloca...   \n",
       "1  Sr. Associate      True             Interview w/ Nadia El Mallakh at Xcel.   \n",
       "2  Sr. Associate      True                     PSE and Xcel interview slides.   \n",
       "3  Sr. Associate      True              Reading Enel X article (Canary Media.   \n",
       "4  Sr. Associate      True  Articles on fleet electrification; 1/2 of RoL-...   \n",
       "\n",
       "   Hours Actual: All Approved  \\\n",
       "0                        1.50   \n",
       "1                        1.25   \n",
       "2                        3.00   \n",
       "3                        0.25   \n",
       "4                        1.00   \n",
       "\n",
       "   Billing Rate - Calculated from Time Entry Record  \\\n",
       "0                                             136.0   \n",
       "1                                             136.0   \n",
       "2                                             136.0   \n",
       "3                                             136.0   \n",
       "4                                             136.0   \n",
       "\n",
       "   Approved Hours x Bill Rate  year month  \n",
       "0                       204.0  2021     7  \n",
       "1                       170.0  2021     7  \n",
       "2                       408.0  2021     7  \n",
       "3                        34.0  2021     7  \n",
       "4                       136.0  2021     7  "
      ]
     },
     "execution_count": 297,
     "metadata": {},
     "output_type": "execute_result"
    }
   ],
   "source": [
    "FinanceDashboardData.head()"
   ]
  },
  {
   "cell_type": "code",
   "execution_count": 298,
   "metadata": {},
   "outputs": [],
   "source": [
    "FinanceDashboardData['month & year'] = FinanceDashboardData['month'] + \"/\" + FinanceDashboardData['year']"
   ]
  },
  {
   "cell_type": "code",
   "execution_count": 299,
   "metadata": {},
   "outputs": [],
   "source": [
    "FinanceDashboardData['Netsuite Project'] = FinanceDashboardData['12. Client Name'] + \" : \" + FinanceDashboardData['Project']"
   ]
  },
  {
   "cell_type": "code",
   "execution_count": 300,
   "metadata": {},
   "outputs": [
    {
     "data": {
      "text/plain": [
       "7123"
      ]
     },
     "execution_count": 300,
     "metadata": {},
     "output_type": "execute_result"
    }
   ],
   "source": [
    "len(FinanceDashboardData)"
   ]
  },
  {
   "cell_type": "code",
   "execution_count": 301,
   "metadata": {},
   "outputs": [],
   "source": [
    "FinanceDashboardData2 = pd.merge(FinanceDashboardData, ProgramProjectListFY22, on = 'Netsuite Project', how='left')"
   ]
  },
  {
   "cell_type": "code",
   "execution_count": 302,
   "metadata": {},
   "outputs": [
    {
     "data": {
      "text/plain": [
       "8554"
      ]
     },
     "execution_count": 302,
     "metadata": {},
     "output_type": "execute_result"
    }
   ],
   "source": [
    "len(FinanceDashboardData2)"
   ]
  },
  {
   "cell_type": "code",
   "execution_count": 303,
   "metadata": {},
   "outputs": [],
   "source": [
    "FinanceDashboardData2.loc[FinanceDashboardData2['Project'] == 'M3', 'Netsuite Project'] = 'Climate Aligned Industries'"
   ]
  },
  {
   "cell_type": "code",
   "execution_count": 304,
   "metadata": {},
   "outputs": [],
   "source": [
    "def createdfProjectInvoiceSummary(program):\n",
    "    firstdf = FinanceDashboardData2[FinanceDashboardData2['Program']==program]\n",
    "    return firstdf\n",
    "    "
   ]
  },
  {
   "cell_type": "code",
   "execution_count": 305,
   "metadata": {},
   "outputs": [],
   "source": [
    "def create_ProjectInvoice_pivot(Group):\n",
    "    Month_order = ['7/2021', '8/2021', '9/2021', '10/2021', '11/2021', '12/2021', '1/2022', '2/2022', '3/2022', '4/2022', '5/2022', '6/2022']\n",
    "    table = pd.pivot_table(Group, index = ['Netsuite Project', 'Workstream', 'Employee', 'Billing Rate - Calculated from Time Entry Record'], values = 'Approved Hours x Bill Rate', columns = 'month & year', aggfunc=np.sum)\n",
    "    table2 = table.reindex(Month_order, axis=1)\n",
    "    table2['FY22 Total'] = table2.iloc[:,-12:].sum(axis=1)\n",
    "    return table2"
   ]
  },
  {
   "cell_type": "code",
   "execution_count": 306,
   "metadata": {},
   "outputs": [
    {
     "data": {
      "text/plain": [
       "Carbon-Free Electricity       1670\n",
       "Climate Aligned Industries     755\n",
       "M3                             755\n",
       "Operations                     676\n",
       "Climate Intelligence           596\n",
       "Carbon-Free Mobility           489\n",
       "Carbon-Free Buildings          437\n",
       "Islands                        391\n",
       "China                          377\n",
       "Urban Transformation           226\n",
       "India                          221\n",
       "Africa                          77\n",
       "SE Asia                         32\n",
       "US                              17\n",
       "Name: Program, dtype: int64"
      ]
     },
     "execution_count": 306,
     "metadata": {},
     "output_type": "execute_result"
    }
   ],
   "source": [
    "FinanceDashboardData2['Program'].value_counts()"
   ]
  },
  {
   "cell_type": "code",
   "execution_count": 307,
   "metadata": {},
   "outputs": [],
   "source": [
    "create_ProjectInvoice_pivot(createdfProjectInvoiceSummary('Carbon-Free Buildings')).to_excel('test1.xlsx')"
   ]
  },
  {
   "cell_type": "code",
   "execution_count": null,
   "metadata": {},
   "outputs": [],
   "source": []
  },
  {
   "cell_type": "code",
   "execution_count": null,
   "metadata": {},
   "outputs": [],
   "source": []
  },
  {
   "cell_type": "code",
   "execution_count": null,
   "metadata": {},
   "outputs": [],
   "source": []
  },
  {
   "cell_type": "code",
   "execution_count": null,
   "metadata": {},
   "outputs": [],
   "source": []
  }
 ],
 "metadata": {
  "kernelspec": {
   "display_name": "Python 3",
   "language": "python",
   "name": "python3"
  },
  "language_info": {
   "codemirror_mode": {
    "name": "ipython",
    "version": 3
   },
   "file_extension": ".py",
   "mimetype": "text/x-python",
   "name": "python",
   "nbconvert_exporter": "python",
   "pygments_lexer": "ipython3",
   "version": "3.8.5"
  }
 },
 "nbformat": 4,
 "nbformat_minor": 4
}

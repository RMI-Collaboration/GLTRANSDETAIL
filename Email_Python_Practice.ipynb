{
 "cells": [
  {
   "cell_type": "code",
   "execution_count": 1,
   "id": "1e6180e1",
   "metadata": {},
   "outputs": [
    {
     "name": "stdout",
     "output_type": "stream",
     "text": [
      "Requirement already satisfied: pywin32 in c:\\users\\jerem\\anaconda3\\lib\\site-packages (227)\n",
      "Note: you may need to restart the kernel to use updated packages.\n"
     ]
    }
   ],
   "source": [
    "pip install pywin32"
   ]
  },
  {
   "cell_type": "markdown",
   "id": "c4b0054f",
   "metadata": {},
   "source": [
    "# Instructions!!"
   ]
  },
  {
   "cell_type": "code",
   "execution_count": 2,
   "id": "c6059def",
   "metadata": {},
   "outputs": [],
   "source": [
    "# Change name of \"DocName\" and \"Month\" depending on which file you are sending\n",
    "#Then run!"
   ]
  },
  {
   "cell_type": "code",
   "execution_count": 3,
   "id": "012eeec5",
   "metadata": {},
   "outputs": [],
   "source": [
    "import win32com.client"
   ]
  },
  {
   "cell_type": "code",
   "execution_count": 4,
   "id": "6ae93a97",
   "metadata": {},
   "outputs": [],
   "source": [
    "outlook = win32com.client.Dispatch('outlook.application')"
   ]
  },
  {
   "cell_type": "code",
   "execution_count": 5,
   "id": "56d9278c",
   "metadata": {},
   "outputs": [],
   "source": [
    "#Select the first DocName during Preclass.  Select the 2nd after Close.  \n",
    "\n",
    "DocName = \" (PRECLOSE-FOR RECLASS)\" \n",
    "\n",
    "#DocName = \"\" "
   ]
  },
  {
   "cell_type": "code",
   "execution_count": 6,
   "id": "11611f77",
   "metadata": {},
   "outputs": [],
   "source": [
    "Month = \" - Sep_2021\""
   ]
  },
  {
   "cell_type": "code",
   "execution_count": 7,
   "id": "44cf0d9a",
   "metadata": {},
   "outputs": [],
   "source": [
    "def email_attachment(addresses, attachment):\n",
    "    mail = outlook.CreateItem(0)\n",
    "    mail.To = addresses\n",
    "    mail.Subject = 'Detail Trans '+ Month\n",
    "    mail.HTMLBody = '<h3>Good Morning, \\r\\n\\nAttached are your Detail Transactions which include salaries and allocations from the previous month.  Please use this file in order to identify reclasses that you would like to make before the Accounting month close of our books.  Please send your reclass requests to Joanna Unruh before the close of the 8th business day (10/12/21). \\r\\nThank you for your attention. \\r\\n\\n -Jeremy</h3>'\n",
    "    mail.Body = \"Good Morning, \\r\\n\\nAttached are your Detail Transactions which include salaries and allocations from the previous month.  Please use this file in order to identify reclasses that you would like to make before the Accounting month close of our books.  Please send your reclass requests to Joanna Unruh before the close of the 8th business day (10/12/21). \\r\\nThank you for your attention. \\r\\n\\n -Jeremy\"\n",
    "    mail.Attachments.Add('C:\\\\Users\\\\jerem\\\\anaconda3\\\\envs\\\\Code\\\\RMICODING\\\\Outputs\\\\Detail_Trans\\\\'+attachment+'.xlsx')\n",
    "    #mail.CC = 'jeremy.h.wendt@gmail.com'\\\n",
    "    mail.Send()"
   ]
  },
  {
   "cell_type": "code",
   "execution_count": 8,
   "id": "ea1eb2fa",
   "metadata": {},
   "outputs": [],
   "source": [
    "test_group = ['jeremy.wendt@nmss.org', 'jeremy.h.wendt@gmail.com']\n",
    "D3_group = ['Amos Zerah', 'relkins@rmi.org']\n",
    "CFB_group = ['mmooney@RMI.org', 'mrichard@rmi.org']\n",
    "CFM_group = ['ekmccook@rmi.org']\n",
    "China_group = ['jchen@RMI.org', 'qsun@rmi.org', 'yhao@RMI.org']\n",
    "CAI_group = ['goneill@rmi.org']\n",
    "CI_group = ['agensterblum@RMI.org']\n",
    "GS_group = ['sbackstrom@RMI.org', 'esantana@rmi.org', 'lriegler@rmi.org']\n",
    "Finance_group = ['jmitchell@rmi.org', 'bohanlon@rmi.org', 'cott@rmi.org']\n",
    "India_group = ['lbhagavatula@rmi.org']\n",
    "SAE_group = ['vtamez@rmi.org']\n",
    "UT_group = ['sabbott@rmi.org']\n",
    "US_group = ['jmurison@rmi.org']\n",
    "CFE_group = ['gsweeney@rmi.org']\n",
    "Canary_group = ['relkins@rmi.org']\n",
    "\n"
   ]
  },
  {
   "cell_type": "code",
   "execution_count": 9,
   "id": "22b20268",
   "metadata": {},
   "outputs": [],
   "source": [
    "#for i in test_group:\n",
    "#        email_attachment(i, 'Carbon-Free Mobility Detail Transactions'+DocName+Month)"
   ]
  },
  {
   "cell_type": "code",
   "execution_count": 10,
   "id": "961ab519",
   "metadata": {},
   "outputs": [],
   "source": [
    "\n",
    "\n",
    "for i in D3_group:\n",
    "        email_attachment(i, 'Third Derivative Detail Transactions'+DocName+Month)\n",
    "\n",
    "for i in CFB_group:\n",
    "        email_attachment(i, 'Carbon-Free Buildings Detail Transactions'+DocName+Month)\n",
    "\n",
    "for i in CFM_group:\n",
    "        email_attachment(i, 'Carbon-Free Mobility Detail Transactions'+DocName+Month)\n",
    "\n",
    "for i in China_group:\n",
    "        email_attachment(i, 'China Detail Transactions'+DocName+Month)\n",
    "\n",
    "for i in CAI_group:\n",
    "        email_attachment(i, 'Climate Aligned Industries Detail Transactions'+DocName+Month)\n",
    "        \n",
    "for i in CI_group:\n",
    "        email_attachment(i, 'Climate Intelligence Detail Transactions'+DocName+Month)\n",
    "        \n",
    "for i in GS_group:\n",
    "        email_attachment(i, 'Global South Detail Transactions'+DocName+Month)\n",
    "        \n",
    "for i in Finance_group:\n",
    "        email_attachment(i, 'Finance Detail Transactions'+DocName+Month)\n",
    "        \n",
    "for i in India_group:\n",
    "        email_attachment(i, 'India Detail Transactions'+DocName+Month)\n",
    "        \n",
    "for i in SAE_group:\n",
    "        email_attachment(i, 'Strategic Analysis and Engagement Detail Transactions'+DocName+Month)\n",
    "        \n",
    "for i in UT_group:\n",
    "        email_attachment(i, 'Urban Transformation Detail Transactions'+DocName+Month)\n",
    "        \n",
    "for i in US_group:\n",
    "        email_attachment(i, 'US Detail Transactions'+DocName+Month)\n",
    "        \n",
    "for i in CFE_group:\n",
    "        email_attachment(i, 'Carbon-Free Electricity Detail Transactions'+DocName+Month)\n",
    "\n"
   ]
  }
 ],
 "metadata": {
  "kernelspec": {
   "display_name": "Python 3",
   "language": "python",
   "name": "python3"
  },
  "language_info": {
   "codemirror_mode": {
    "name": "ipython",
    "version": 3
   },
   "file_extension": ".py",
   "mimetype": "text/x-python",
   "name": "python",
   "nbconvert_exporter": "python",
   "pygments_lexer": "ipython3",
   "version": "3.8.5"
  }
 },
 "nbformat": 4,
 "nbformat_minor": 5
}

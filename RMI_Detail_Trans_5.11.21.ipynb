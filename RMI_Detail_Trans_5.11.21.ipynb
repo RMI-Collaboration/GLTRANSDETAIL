{
 "cells": [
  {
   "cell_type": "markdown",
   "metadata": {},
   "source": [
    "# RMI Detail Transactions Project"
   ]
  },
  {
   "cell_type": "markdown",
   "metadata": {},
   "source": [
    "## 1.  Load Transactional Data, SalesForce Data, Mavenlink Data, load packages, and convert to Dataframes\n",
    "\n",
    "I am using three reports from Netsuite to populate this data:  Lists/Employees --> Run report without filters all set to \"All\".\n",
    "\n",
    "Search in Netsuite search bar usings \"sea\" for Adaptive Transaction Search - P&L - Jeremy\n",
    "\n",
    "Search in Netsuite search bar using \"sea\" for Mavenlink Time Audit\n",
    "\n",
    "In Salesforce, use Ginny's link, but filter for \"ALL\" in Opportunity Record Type.  Also include Revenue Date:  greater or equal to LAST FISCAL YEAR.\n",
    "\n",
    "![title](img/picture.jpg)"
   ]
  },
  {
   "cell_type": "code",
   "execution_count": 1,
   "metadata": {},
   "outputs": [],
   "source": [
    "import pandas as pd\n",
    "import numpy as np\n",
    "import openpyxl\n",
    "from openpyxl import load_workbook\n",
    "from openpyxl.styles import Font\n",
    "from openpyxl.styles import Alignment\n",
    "from openpyxl.styles.borders import Border, Side\n"
   ]
  },
  {
   "cell_type": "code",
   "execution_count": 2,
   "metadata": {},
   "outputs": [],
   "source": [
    "from xml.sax import ContentHandler, parse\n",
    "\n",
    "# Reference https://goo.gl/KaOBG3\n",
    "class ExcelHandler(ContentHandler):\n",
    "    def __init__(self):\n",
    "        self.chars = [  ]\n",
    "        self.cells = [  ]\n",
    "        self.rows = [  ]\n",
    "        self.tables = [  ]\n",
    "    def characters(self, content):\n",
    "        self.chars.append(content)\n",
    "    def startElement(self, name, atts):\n",
    "        if name==\"Cell\":\n",
    "            self.chars = [  ]\n",
    "        elif name==\"Row\":\n",
    "            self.cells=[  ]\n",
    "        elif name==\"Table\":\n",
    "            self.rows = [  ]\n",
    "    def endElement(self, name):\n",
    "        if name==\"Cell\":\n",
    "            self.cells.append(''.join(self.chars))\n",
    "        elif name==\"Row\":\n",
    "            self.rows.append(self.cells)\n",
    "        elif name==\"Table\":\n",
    "            self.tables.append(self.rows)\n",
    "\n",
    "excelHandler = ExcelHandler()\n",
    "parse('../Data/raw/ADAPTIVETransactionSearchPLJeremyResults240.xls', excelHandler)\n",
    "df1 = pd.DataFrame(excelHandler.tables[0][1:], columns=excelHandler.tables[0][0])\n",
    "\n"
   ]
  },
  {
   "cell_type": "code",
   "execution_count": 3,
   "metadata": {},
   "outputs": [],
   "source": [
    "\n",
    "\n",
    "excelHandler = ExcelHandler()\n",
    "parse('../Data/raw/MavenlinkTimeAuditResults101.xls', excelHandler)\n",
    "dfMavenlink = pd.DataFrame(excelHandler.tables[0][1:], columns=excelHandler.tables[0][0])"
   ]
  },
  {
   "cell_type": "code",
   "execution_count": 4,
   "metadata": {},
   "outputs": [],
   "source": [
    "excelHandler = ExcelHandler()\n",
    "parse('../Data/raw/Employees588.xls', excelHandler)\n",
    "employee_list = pd.DataFrame(excelHandler.tables[0][1:], columns=excelHandler.tables[0][0])\n"
   ]
  },
  {
   "cell_type": "code",
   "execution_count": null,
   "metadata": {},
   "outputs": [],
   "source": []
  },
  {
   "cell_type": "markdown",
   "metadata": {},
   "source": [
    "## 2. Data Manipulation\n",
    "\n",
    "In this section I start manipulting these datasets into somethign more digestable for the end user.  The main manipulation I am doing in this seciton is pulling information out of the \"Memo\" field that users may want to see seperately."
   ]
  },
  {
   "cell_type": "code",
   "execution_count": 5,
   "metadata": {},
   "outputs": [],
   "source": [
    "#EmployeeNameandID = employee_list[['Name', 'External ID', 'Job Title']]"
   ]
  },
  {
   "cell_type": "code",
   "execution_count": 6,
   "metadata": {},
   "outputs": [],
   "source": [
    "#EmployeeNameandID['External ID'].replace('', np.nan, inplace=True)"
   ]
  },
  {
   "cell_type": "code",
   "execution_count": 7,
   "metadata": {},
   "outputs": [],
   "source": [
    "#len(EmployeeNameandID)"
   ]
  },
  {
   "cell_type": "code",
   "execution_count": 8,
   "metadata": {},
   "outputs": [],
   "source": [
    "#EmployeeNameandID.to_excel('originallist.xlsx')"
   ]
  },
  {
   "cell_type": "code",
   "execution_count": 9,
   "metadata": {},
   "outputs": [],
   "source": [
    "#employee_id_list = employee_list['External ID'].tolist()"
   ]
  },
  {
   "cell_type": "code",
   "execution_count": 10,
   "metadata": {},
   "outputs": [],
   "source": [
    "#employee_id_list = list(filter(None, employee_id_list))"
   ]
  },
  {
   "cell_type": "code",
   "execution_count": 11,
   "metadata": {},
   "outputs": [],
   "source": [
    "#print(len(employee_id_list))"
   ]
  },
  {
   "cell_type": "code",
   "execution_count": 12,
   "metadata": {},
   "outputs": [],
   "source": [
    "df1['Memo'] = df1['Memo'].astype('string')"
   ]
  },
  {
   "cell_type": "code",
   "execution_count": 13,
   "metadata": {},
   "outputs": [
    {
     "data": {
      "text/plain": [
       "Date                               object\n",
       "Period                             object\n",
       "GL Account                         object\n",
       "Document Number                    object\n",
       "Program                            object\n",
       "Initiative                         object\n",
       "Project                            object\n",
       "Restriction                        object\n",
       "Grant                              object\n",
       "Amount                             object\n",
       "Vendor Name                        object\n",
       "Employee Name                      object\n",
       "Memo                               string\n",
       "Amount (Credit)                    object\n",
       "Amount (Debit)                     object\n",
       "Client                             object\n",
       "Transaction Number                 object\n",
       "Type                               object\n",
       "Vendor Rate                        object\n",
       "Vendor Contract Expiration Date    object\n",
       "dtype: object"
      ]
     },
     "execution_count": 13,
     "metadata": {},
     "output_type": "execute_result"
    }
   ],
   "source": [
    "df1.dtypes"
   ]
  },
  {
   "cell_type": "code",
   "execution_count": 14,
   "metadata": {},
   "outputs": [],
   "source": [
    "#all_ids = '|'.join(employee_id_list)"
   ]
  },
  {
   "cell_type": "code",
   "execution_count": 15,
   "metadata": {},
   "outputs": [],
   "source": [
    "def return_first(x):\n",
    "    try:\n",
    "        y = x[0]\n",
    "    except:\n",
    "        y = \"\"\n",
    "    return y"
   ]
  },
  {
   "cell_type": "code",
   "execution_count": 16,
   "metadata": {},
   "outputs": [],
   "source": [
    "#df1['External ID'] = df1['Memo'].str.findall(all_ids).apply(return_first)"
   ]
  },
  {
   "cell_type": "code",
   "execution_count": 17,
   "metadata": {},
   "outputs": [],
   "source": [
    "#employee_name_list = employee_list['Name'].tolist()"
   ]
  },
  {
   "cell_type": "code",
   "execution_count": 18,
   "metadata": {},
   "outputs": [],
   "source": [
    "#employee_name_list = list(filter(None, employee_name_list))"
   ]
  },
  {
   "cell_type": "code",
   "execution_count": 19,
   "metadata": {},
   "outputs": [],
   "source": [
    "#all_names = '|'.join(employee_name_list)"
   ]
  },
  {
   "cell_type": "code",
   "execution_count": 20,
   "metadata": {},
   "outputs": [],
   "source": [
    "#all_names = all_names + \"|Agnis Li|Anna Ledden|Greg Hales|Rachel Hohensee|Li Ma\""
   ]
  },
  {
   "cell_type": "code",
   "execution_count": 21,
   "metadata": {},
   "outputs": [],
   "source": [
    "#df1['Match ID Names'] = df1['Memo'].str.findall(all_names).apply(return_first)"
   ]
  },
  {
   "cell_type": "code",
   "execution_count": 22,
   "metadata": {},
   "outputs": [],
   "source": [
    "#df1 = pd.merge(df1, EmployeeNameandID, on = 'External ID', how='left')"
   ]
  },
  {
   "cell_type": "code",
   "execution_count": 23,
   "metadata": {},
   "outputs": [],
   "source": [
    "#df1['Match ID Names'].replace('', np.nan, inplace=True)"
   ]
  },
  {
   "cell_type": "code",
   "execution_count": 24,
   "metadata": {},
   "outputs": [],
   "source": [
    "#df1['Name'].replace('', np.nan, inplace=True)"
   ]
  },
  {
   "cell_type": "code",
   "execution_count": 25,
   "metadata": {},
   "outputs": [],
   "source": [
    "#df1['Name'].fillna(df1['Match ID Names'], inplace=True)"
   ]
  },
  {
   "cell_type": "code",
   "execution_count": 26,
   "metadata": {},
   "outputs": [],
   "source": [
    "#df1['Name'].replace('Agnis Li', 'Agnes Li', inplace=True)\n",
    "#df1['Name'].replace('Anna Ledden', 'Anna  Ledden', inplace=True)\n",
    "#df1['Name'].replace('Rachel Hohensee', 'Rachel T Hohensee', inplace=True)"
   ]
  },
  {
   "cell_type": "code",
   "execution_count": 27,
   "metadata": {},
   "outputs": [],
   "source": [
    "#len(df1)"
   ]
  },
  {
   "cell_type": "markdown",
   "metadata": {},
   "source": [
    "## Mavenlink Data Manipulation"
   ]
  },
  {
   "cell_type": "code",
   "execution_count": 28,
   "metadata": {},
   "outputs": [],
   "source": [
    "dfMavenlink['Month'] = pd.DatetimeIndex(dfMavenlink['Date']).month\n",
    "dfMavenlink['Month'] = dfMavenlink['Month'].map({7: 'Jul 2020', 8: \"Aug 2020\", 9: \"Sep 2020\", 10: \"Oct 2020\", 11: \"Nov 2020\", 12: \"Dec 2020\", 1: \"Jan 2021\", 2: \"Feb 2021\", 3: \"Mar 2021\", 4: \"Apr 2021\", 5: \"May 2021\", 6: \"Jun 2021\"})"
   ]
  },
  {
   "cell_type": "code",
   "execution_count": 29,
   "metadata": {},
   "outputs": [],
   "source": [
    "dfMavenlink['Minutes'] =  dfMavenlink['Duration'].str.split(':').apply(lambda x: int(x[0]) * 60 + int(x[1]) * 1)\n",
    "dfMavenlink['Hours'] =  dfMavenlink['Minutes'] / 60"
   ]
  },
  {
   "cell_type": "code",
   "execution_count": 30,
   "metadata": {},
   "outputs": [],
   "source": [
    "dfMavenlink['Grant'].replace('', np.nan, inplace=True)\n",
    "dfMavenlink['Initiative'].replace('', np.nan, inplace=True)\n",
    "dfMavenlink['Employee'].replace('', np.nan, inplace=True)\n",
    "dfMavenlink['Case/Task/Event'].replace('', np.nan, inplace=True)\n",
    "dfMavenlink['Billable'].replace('', np.nan, inplace=True)"
   ]
  },
  {
   "cell_type": "code",
   "execution_count": 31,
   "metadata": {},
   "outputs": [],
   "source": [
    "dfMavenlink['Grant'].fillna(\"No Grant\", inplace=True)\n",
    "dfMavenlink['Initiative'].fillna(\"No Initiative\", inplace=True)\n",
    "dfMavenlink['Grant'].fillna(\"Employee\", inplace=True)\n",
    "dfMavenlink['Case/Task/Event'].fillna(\"Case/Task/Event\", inplace=True)\n",
    "dfMavenlink['Billable'].fillna(\"Billable\", inplace=True)"
   ]
  },
  {
   "cell_type": "code",
   "execution_count": 32,
   "metadata": {},
   "outputs": [],
   "source": [
    "dfMavenlink['Employee Hours'] = dfMavenlink.groupby(['Employee','Month'])['Hours'].transform('sum')\n",
    "\n"
   ]
  },
  {
   "cell_type": "code",
   "execution_count": 33,
   "metadata": {},
   "outputs": [],
   "source": [
    "dfMavenlink['Percent of Total Monthly Hours'] = dfMavenlink['Hours'] / dfMavenlink['Employee Hours']"
   ]
  },
  {
   "cell_type": "code",
   "execution_count": 34,
   "metadata": {},
   "outputs": [
    {
     "data": {
      "text/html": [
       "<div>\n",
       "<style scoped>\n",
       "    .dataframe tbody tr th:only-of-type {\n",
       "        vertical-align: middle;\n",
       "    }\n",
       "\n",
       "    .dataframe tbody tr th {\n",
       "        vertical-align: top;\n",
       "    }\n",
       "\n",
       "    .dataframe thead th {\n",
       "        text-align: right;\n",
       "    }\n",
       "</style>\n",
       "<table border=\"1\" class=\"dataframe\">\n",
       "  <thead>\n",
       "    <tr style=\"text-align: right;\">\n",
       "      <th></th>\n",
       "      <th>Internal ID</th>\n",
       "      <th>External ID</th>\n",
       "      <th>Employee</th>\n",
       "      <th>Duration</th>\n",
       "      <th>Program</th>\n",
       "      <th>Initiative</th>\n",
       "      <th>Client</th>\n",
       "      <th>Grant</th>\n",
       "      <th>Restriction</th>\n",
       "      <th>Case/Task/Event</th>\n",
       "      <th>...</th>\n",
       "      <th>Billable</th>\n",
       "      <th>Date</th>\n",
       "      <th>Item</th>\n",
       "      <th>Type</th>\n",
       "      <th>Actual Time Entry Cost</th>\n",
       "      <th>Month</th>\n",
       "      <th>Minutes</th>\n",
       "      <th>Hours</th>\n",
       "      <th>Employee Hours</th>\n",
       "      <th>Percent of Total Monthly Hours</th>\n",
       "    </tr>\n",
       "  </thead>\n",
       "  <tbody>\n",
       "    <tr>\n",
       "      <th>0</th>\n",
       "      <td>9607850</td>\n",
       "      <td>1535266785</td>\n",
       "      <td>Radhika Lalit</td>\n",
       "      <td>8:00</td>\n",
       "      <td>Global Climate Finance</td>\n",
       "      <td>GCF - Center for a Climate-Aligned Finance</td>\n",
       "      <td>*Restricted : Center for Climate Aligned Finance</td>\n",
       "      <td>Wells Fargo - GCF CCAF FY20</td>\n",
       "      <td>1-Unrestricted</td>\n",
       "      <td>Admin (Project Task)</td>\n",
       "      <td>...</td>\n",
       "      <td>Yes</td>\n",
       "      <td>2020-07-01T00:00:00</td>\n",
       "      <td>Professional Personnel</td>\n",
       "      <td>Actual Time</td>\n",
       "      <td>631.861</td>\n",
       "      <td>Jul 2020</td>\n",
       "      <td>480</td>\n",
       "      <td>8.0</td>\n",
       "      <td>360.0</td>\n",
       "      <td>0.022222</td>\n",
       "    </tr>\n",
       "    <tr>\n",
       "      <th>1</th>\n",
       "      <td>9609942</td>\n",
       "      <td>1536835065</td>\n",
       "      <td>Emily Goldfield</td>\n",
       "      <td>4:00</td>\n",
       "      <td>India</td>\n",
       "      <td>IN - India</td>\n",
       "      <td>Children's Investment Fund Foundation : CIFF T...</td>\n",
       "      <td>No Grant</td>\n",
       "      <td>1-Unrestricted</td>\n",
       "      <td>Project management (Project Task)</td>\n",
       "      <td>...</td>\n",
       "      <td>Yes</td>\n",
       "      <td>2020-07-01T00:00:00</td>\n",
       "      <td>Professional Personnel</td>\n",
       "      <td>Actual Time</td>\n",
       "      <td>264.776</td>\n",
       "      <td>Jul 2020</td>\n",
       "      <td>240</td>\n",
       "      <td>4.0</td>\n",
       "      <td>184.0</td>\n",
       "      <td>0.021739</td>\n",
       "    </tr>\n",
       "    <tr>\n",
       "      <th>2</th>\n",
       "      <td>9627632</td>\n",
       "      <td>1531726455</td>\n",
       "      <td>Holly Leonard</td>\n",
       "      <td>4:00</td>\n",
       "      <td>Urban Transformation</td>\n",
       "      <td>UT - Admin</td>\n",
       "      <td>*Unrestricted : Urban Transformation [Holiday]...</td>\n",
       "      <td>Bloomberg America's Pledge FY20</td>\n",
       "      <td>1-Unrestricted</td>\n",
       "      <td>PTO-AP2020 (Project Task)</td>\n",
       "      <td>...</td>\n",
       "      <td>No</td>\n",
       "      <td>2020-07-01T00:00:00</td>\n",
       "      <td>Professional Personnel</td>\n",
       "      <td>Actual Time</td>\n",
       "      <td>230.71</td>\n",
       "      <td>Jul 2020</td>\n",
       "      <td>240</td>\n",
       "      <td>4.0</td>\n",
       "      <td>202.5</td>\n",
       "      <td>0.019753</td>\n",
       "    </tr>\n",
       "    <tr>\n",
       "      <th>3</th>\n",
       "      <td>9593084</td>\n",
       "      <td>1532866255</td>\n",
       "      <td>James Newcomb</td>\n",
       "      <td>2:00</td>\n",
       "      <td>Strategic Analysis and Engagement</td>\n",
       "      <td>SAE - Admin</td>\n",
       "      <td>*Unrestricted : Strategic  Analysis and  Engag...</td>\n",
       "      <td>Wells Fargo - EES Phase 2 FY20</td>\n",
       "      <td>1-Unrestricted</td>\n",
       "      <td>Meetings (Project Task)</td>\n",
       "      <td>...</td>\n",
       "      <td>No</td>\n",
       "      <td>2020-07-01T00:00:00</td>\n",
       "      <td>Professional Personnel</td>\n",
       "      <td>Actual Time</td>\n",
       "      <td>453.404</td>\n",
       "      <td>Jul 2020</td>\n",
       "      <td>120</td>\n",
       "      <td>2.0</td>\n",
       "      <td>184.0</td>\n",
       "      <td>0.010870</td>\n",
       "    </tr>\n",
       "    <tr>\n",
       "      <th>4</th>\n",
       "      <td>9606292</td>\n",
       "      <td>1535531785</td>\n",
       "      <td>Shelley Backstrom</td>\n",
       "      <td>2:00</td>\n",
       "      <td>Islands</td>\n",
       "      <td>IS - Islands</td>\n",
       "      <td>*Restricted : Bermuda</td>\n",
       "      <td>Anonymous - Bermuda FY20</td>\n",
       "      <td>1-Unrestricted</td>\n",
       "      <td>Electricity (Project Task)</td>\n",
       "      <td>...</td>\n",
       "      <td>Yes</td>\n",
       "      <td>2020-07-01T00:00:00</td>\n",
       "      <td>Professional Personnel</td>\n",
       "      <td>Actual Time</td>\n",
       "      <td>104.538</td>\n",
       "      <td>Jul 2020</td>\n",
       "      <td>120</td>\n",
       "      <td>2.0</td>\n",
       "      <td>184.0</td>\n",
       "      <td>0.010870</td>\n",
       "    </tr>\n",
       "  </tbody>\n",
       "</table>\n",
       "<p>5 rows × 21 columns</p>\n",
       "</div>"
      ],
      "text/plain": [
       "  Internal ID External ID           Employee Duration  \\\n",
       "0     9607850  1535266785      Radhika Lalit     8:00   \n",
       "1     9609942  1536835065    Emily Goldfield     4:00   \n",
       "2     9627632  1531726455      Holly Leonard     4:00   \n",
       "3     9593084  1532866255      James Newcomb     2:00   \n",
       "4     9606292  1535531785  Shelley Backstrom     2:00   \n",
       "\n",
       "                             Program  \\\n",
       "0             Global Climate Finance   \n",
       "1                              India   \n",
       "2               Urban Transformation   \n",
       "3  Strategic Analysis and Engagement   \n",
       "4                            Islands   \n",
       "\n",
       "                                   Initiative  \\\n",
       "0  GCF - Center for a Climate-Aligned Finance   \n",
       "1                                  IN - India   \n",
       "2                                  UT - Admin   \n",
       "3                                 SAE - Admin   \n",
       "4                                IS - Islands   \n",
       "\n",
       "                                              Client  \\\n",
       "0   *Restricted : Center for Climate Aligned Finance   \n",
       "1  Children's Investment Fund Foundation : CIFF T...   \n",
       "2  *Unrestricted : Urban Transformation [Holiday]...   \n",
       "3  *Unrestricted : Strategic  Analysis and  Engag...   \n",
       "4                              *Restricted : Bermuda   \n",
       "\n",
       "                             Grant     Restriction  \\\n",
       "0      Wells Fargo - GCF CCAF FY20  1-Unrestricted   \n",
       "1                         No Grant  1-Unrestricted   \n",
       "2  Bloomberg America's Pledge FY20  1-Unrestricted   \n",
       "3   Wells Fargo - EES Phase 2 FY20  1-Unrestricted   \n",
       "4         Anonymous - Bermuda FY20  1-Unrestricted   \n",
       "\n",
       "                     Case/Task/Event  ... Billable                 Date  \\\n",
       "0               Admin (Project Task)  ...      Yes  2020-07-01T00:00:00   \n",
       "1  Project management (Project Task)  ...      Yes  2020-07-01T00:00:00   \n",
       "2          PTO-AP2020 (Project Task)  ...       No  2020-07-01T00:00:00   \n",
       "3            Meetings (Project Task)  ...       No  2020-07-01T00:00:00   \n",
       "4         Electricity (Project Task)  ...      Yes  2020-07-01T00:00:00   \n",
       "\n",
       "                     Item         Type Actual Time Entry Cost     Month  \\\n",
       "0  Professional Personnel  Actual Time                631.861  Jul 2020   \n",
       "1  Professional Personnel  Actual Time                264.776  Jul 2020   \n",
       "2  Professional Personnel  Actual Time                 230.71  Jul 2020   \n",
       "3  Professional Personnel  Actual Time                453.404  Jul 2020   \n",
       "4  Professional Personnel  Actual Time                104.538  Jul 2020   \n",
       "\n",
       "  Minutes  Hours  Employee Hours  Percent of Total Monthly Hours  \n",
       "0     480    8.0           360.0                        0.022222  \n",
       "1     240    4.0           184.0                        0.021739  \n",
       "2     240    4.0           202.5                        0.019753  \n",
       "3     120    2.0           184.0                        0.010870  \n",
       "4     120    2.0           184.0                        0.010870  \n",
       "\n",
       "[5 rows x 21 columns]"
      ]
     },
     "execution_count": 34,
     "metadata": {},
     "output_type": "execute_result"
    }
   ],
   "source": [
    "dfMavenlink.head()"
   ]
  },
  {
   "cell_type": "code",
   "execution_count": 35,
   "metadata": {},
   "outputs": [],
   "source": [
    "#dfMavenlink.to_excel('Output_Mavenlink.xlsx')"
   ]
  },
  {
   "cell_type": "markdown",
   "metadata": {},
   "source": [
    "## Extract Time Allocation From Memo"
   ]
  },
  {
   "cell_type": "code",
   "execution_count": 36,
   "metadata": {},
   "outputs": [],
   "source": [
    "allocations = ['BONUS ALLOCATION', 'ADMIN ALLOCATION', 'PTO/HOLIDAY ALLOCATION']"
   ]
  },
  {
   "cell_type": "code",
   "execution_count": 37,
   "metadata": {},
   "outputs": [],
   "source": [
    "all_allocations = '|'.join(allocations)"
   ]
  },
  {
   "cell_type": "code",
   "execution_count": 38,
   "metadata": {},
   "outputs": [],
   "source": [
    "df1['ALLOCATION'] = df1['Memo'].str.findall(all_allocations).apply(return_first)"
   ]
  },
  {
   "cell_type": "markdown",
   "metadata": {},
   "source": [
    "## Extract Project Fields for Heather's report"
   ]
  },
  {
   "cell_type": "code",
   "execution_count": 39,
   "metadata": {},
   "outputs": [],
   "source": [
    "df1['Project Allocations'] = df1['Project'].str.findall(r'\\[(.*?)\\]').apply(return_first)"
   ]
  },
  {
   "cell_type": "markdown",
   "metadata": {},
   "source": [
    "## Add Rollup Accounts"
   ]
  },
  {
   "cell_type": "code",
   "execution_count": 40,
   "metadata": {},
   "outputs": [],
   "source": [
    "lookups = pd.read_excel('../Data/raw/lookups.xlsx')"
   ]
  },
  {
   "cell_type": "code",
   "execution_count": 41,
   "metadata": {},
   "outputs": [
    {
     "data": {
      "text/html": [
       "<div>\n",
       "<style scoped>\n",
       "    .dataframe tbody tr th:only-of-type {\n",
       "        vertical-align: middle;\n",
       "    }\n",
       "\n",
       "    .dataframe tbody tr th {\n",
       "        vertical-align: top;\n",
       "    }\n",
       "\n",
       "    .dataframe thead th {\n",
       "        text-align: right;\n",
       "    }\n",
       "</style>\n",
       "<table border=\"1\" class=\"dataframe\">\n",
       "  <thead>\n",
       "    <tr style=\"text-align: right;\">\n",
       "      <th></th>\n",
       "      <th>GL Account</th>\n",
       "      <th>Rollup Account</th>\n",
       "    </tr>\n",
       "  </thead>\n",
       "  <tbody>\n",
       "    <tr>\n",
       "      <th>0</th>\n",
       "      <td>5010 Contributions Revenue : Foundation Contri...</td>\n",
       "      <td>5000 Contributions Revenue</td>\n",
       "    </tr>\n",
       "    <tr>\n",
       "      <th>1</th>\n",
       "      <td>5015 Contributions Revenue : Campaign Foundati...</td>\n",
       "      <td>5000 Contributions Revenue</td>\n",
       "    </tr>\n",
       "    <tr>\n",
       "      <th>2</th>\n",
       "      <td>5020 Contributions Revenue : Individual Contri...</td>\n",
       "      <td>5000 Contributions Revenue</td>\n",
       "    </tr>\n",
       "    <tr>\n",
       "      <th>3</th>\n",
       "      <td>5025 Contributions Revenue : Campaign Corporat...</td>\n",
       "      <td>5000 Contributions Revenue</td>\n",
       "    </tr>\n",
       "    <tr>\n",
       "      <th>4</th>\n",
       "      <td>5030 Contributions Revenue : Endowment Contrib...</td>\n",
       "      <td>5000 Contributions Revenue</td>\n",
       "    </tr>\n",
       "  </tbody>\n",
       "</table>\n",
       "</div>"
      ],
      "text/plain": [
       "                                          GL Account  \\\n",
       "0  5010 Contributions Revenue : Foundation Contri...   \n",
       "1  5015 Contributions Revenue : Campaign Foundati...   \n",
       "2  5020 Contributions Revenue : Individual Contri...   \n",
       "3  5025 Contributions Revenue : Campaign Corporat...   \n",
       "4  5030 Contributions Revenue : Endowment Contrib...   \n",
       "\n",
       "               Rollup Account  \n",
       "0  5000 Contributions Revenue  \n",
       "1  5000 Contributions Revenue  \n",
       "2  5000 Contributions Revenue  \n",
       "3  5000 Contributions Revenue  \n",
       "4  5000 Contributions Revenue  "
      ]
     },
     "execution_count": 41,
     "metadata": {},
     "output_type": "execute_result"
    }
   ],
   "source": [
    "lookups.head()"
   ]
  },
  {
   "cell_type": "code",
   "execution_count": 42,
   "metadata": {},
   "outputs": [],
   "source": [
    "df1 = pd.merge(df1, lookups, on = 'GL Account', how='left')"
   ]
  },
  {
   "cell_type": "code",
   "execution_count": 43,
   "metadata": {},
   "outputs": [],
   "source": [
    "df1['Account Digit'] = df1['GL Account'].astype('string').str[0]"
   ]
  },
  {
   "cell_type": "code",
   "execution_count": 44,
   "metadata": {},
   "outputs": [
    {
     "data": {
      "text/plain": [
       "Index(['Date', 'Period', 'GL Account', 'Document Number', 'Program',\n",
       "       'Initiative', 'Project', 'Restriction', 'Grant', 'Amount',\n",
       "       'Vendor Name', 'Employee Name', 'Memo', 'Amount (Credit)',\n",
       "       'Amount (Debit)', 'Client', 'Transaction Number', 'Type', 'Vendor Rate',\n",
       "       'Vendor Contract Expiration Date', 'ALLOCATION', 'Project Allocations',\n",
       "       'Rollup Account', 'Account Digit'],\n",
       "      dtype='object')"
      ]
     },
     "execution_count": 44,
     "metadata": {},
     "output_type": "execute_result"
    }
   ],
   "source": [
    "df1.columns"
   ]
  },
  {
   "cell_type": "code",
   "execution_count": 45,
   "metadata": {},
   "outputs": [],
   "source": [
    "df1['Amount'] = df1['Amount'].astype(float)\n",
    "df1['Amount (Credit)'].replace('', 0, inplace=True)\n",
    "df1['Amount (Debit)'].replace('', 0, inplace=True)\n",
    "df1['Amount (Credit)'] = df1['Amount (Credit)'].astype(float)\n",
    "df1['Amount (Debit)'] = df1['Amount (Debit)'].astype(float)"
   ]
  },
  {
   "cell_type": "code",
   "execution_count": 46,
   "metadata": {},
   "outputs": [
    {
     "data": {
      "text/plain": [
       "Date                                object\n",
       "Period                              object\n",
       "GL Account                          object\n",
       "Document Number                     object\n",
       "Program                             object\n",
       "Initiative                          object\n",
       "Project                             object\n",
       "Restriction                         object\n",
       "Grant                               object\n",
       "Amount                             float64\n",
       "Vendor Name                         object\n",
       "Employee Name                       object\n",
       "Memo                                string\n",
       "Amount (Credit)                    float64\n",
       "Amount (Debit)                     float64\n",
       "Client                              object\n",
       "Transaction Number                  object\n",
       "Type                                object\n",
       "Vendor Rate                         object\n",
       "Vendor Contract Expiration Date     object\n",
       "ALLOCATION                          object\n",
       "Project Allocations                 object\n",
       "Rollup Account                      object\n",
       "Account Digit                       string\n",
       "dtype: object"
      ]
     },
     "execution_count": 46,
     "metadata": {},
     "output_type": "execute_result"
    }
   ],
   "source": [
    "df1.dtypes"
   ]
  },
  {
   "cell_type": "markdown",
   "metadata": {},
   "source": [
    "## Add Reclass Field and Closeout field"
   ]
  },
  {
   "cell_type": "code",
   "execution_count": 47,
   "metadata": {},
   "outputs": [],
   "source": [
    "account_exceptions = ['To reclass', 'Reclass']"
   ]
  },
  {
   "cell_type": "code",
   "execution_count": 48,
   "metadata": {},
   "outputs": [],
   "source": [
    "Accounting_Moves = '|'.join(account_exceptions)"
   ]
  },
  {
   "cell_type": "code",
   "execution_count": 49,
   "metadata": {},
   "outputs": [],
   "source": [
    "closeout = 'close out'"
   ]
  },
  {
   "cell_type": "code",
   "execution_count": 50,
   "metadata": {},
   "outputs": [],
   "source": [
    "df1['Accounting Adjustments'] = df1['Memo'].str.findall(Accounting_Moves).apply(return_first)"
   ]
  },
  {
   "cell_type": "code",
   "execution_count": 51,
   "metadata": {},
   "outputs": [],
   "source": [
    "df1['Accounting Close Out'] = df1['Memo'].str.findall(closeout).apply(return_first)"
   ]
  },
  {
   "cell_type": "code",
   "execution_count": 52,
   "metadata": {},
   "outputs": [],
   "source": [
    "df1['Vendor Contract Expiration Date'] = pd.to_datetime(df1['Vendor Contract Expiration Date'])"
   ]
  },
  {
   "cell_type": "code",
   "execution_count": 53,
   "metadata": {},
   "outputs": [],
   "source": [
    "df1['Vendor Contract Expiration Date'] = df1['Vendor Contract Expiration Date'].dt.date"
   ]
  },
  {
   "cell_type": "markdown",
   "metadata": {},
   "source": [
    "## ADDING TITLES INSTEAD OF NAMES"
   ]
  },
  {
   "cell_type": "code",
   "execution_count": 54,
   "metadata": {},
   "outputs": [],
   "source": [
    "#EmployeeNameandID['Job Title'].value_counts()"
   ]
  },
  {
   "cell_type": "code",
   "execution_count": 55,
   "metadata": {},
   "outputs": [],
   "source": [
    "#uniquetitles = EmployeeNameandID['Job Title'].unique()"
   ]
  },
  {
   "cell_type": "code",
   "execution_count": 56,
   "metadata": {},
   "outputs": [],
   "source": [
    "#Titleslist = uniquetitles.tolist()"
   ]
  },
  {
   "cell_type": "code",
   "execution_count": 57,
   "metadata": {},
   "outputs": [],
   "source": [
    "#def createEmployeeTitlesdf(title, df):\n",
    "#    newdf = df[df['Job Title']==title]\n",
    "#    newdf.reset_index(drop=True, inplace=True)\n",
    "#    newdf['PositionID'] = newdf['Job Title'] + newdf.index.astype(str)    \n",
    "#    return newdf.to_dict()"
   ]
  },
  {
   "cell_type": "code",
   "execution_count": 58,
   "metadata": {},
   "outputs": [],
   "source": [
    "#DictList = {}\n",
    "\n",
    "#for i in range(len(Titleslist)):\n",
    "#    newdict = createEmployeeTitlesdf(Titleslist[i], EmployeeNameandID)\n",
    "#    DictList[i] = newdict"
   ]
  },
  {
   "cell_type": "code",
   "execution_count": 59,
   "metadata": {},
   "outputs": [],
   "source": [
    "#dflist = []\n",
    "\n",
    "#for i in range(len(DictList)):\n",
    "#    df = pd.DataFrame(DictList[i])\n",
    "#    dflist.append(df)"
   ]
  },
  {
   "cell_type": "code",
   "execution_count": 60,
   "metadata": {},
   "outputs": [],
   "source": [
    "#finalemployeedf = pd.concat(dflist).reset_index(drop=True)"
   ]
  },
  {
   "cell_type": "code",
   "execution_count": 61,
   "metadata": {},
   "outputs": [],
   "source": [
    "#employeelisttomerge = finalemployeedf[['Name', 'PositionID']]"
   ]
  },
  {
   "cell_type": "code",
   "execution_count": 62,
   "metadata": {},
   "outputs": [],
   "source": [
    "#employeelisttomerge.to_excel('listwithposition.xlsx')"
   ]
  },
  {
   "cell_type": "code",
   "execution_count": 63,
   "metadata": {},
   "outputs": [],
   "source": [
    "#len(employeelisttomerge)"
   ]
  },
  {
   "cell_type": "code",
   "execution_count": 64,
   "metadata": {},
   "outputs": [],
   "source": [
    "#df1 = pd.merge(df1, employeelisttomerge, on = 'Name', how='left')"
   ]
  },
  {
   "cell_type": "code",
   "execution_count": 65,
   "metadata": {},
   "outputs": [],
   "source": [
    "df1['Initiative'].replace('', np.nan, inplace=True)\n",
    "df1['Project'].replace('', np.nan, inplace=True)\n",
    "df1['Grant'].replace('', np.nan, inplace=True)\n",
    "df1['GL Account'].replace('', np.nan, inplace=True)\n",
    "df1['Memo'].replace('', np.nan, inplace=True)\n",
    "df1['Transaction Number'].replace('', np.nan, inplace=True)\n",
    "df1['Vendor Name'].replace('', np.nan, inplace=True)\n",
    "df1['Vendor Rate'].replace('', np.nan, inplace=True)\n",
    "df1['Vendor Contract Expiration Date'].replace('', np.nan, inplace=True)\n",
    "df1['Program'].replace('', np.nan, inplace=True)\n",
    "df1['Project Allocations'].replace('', np.nan, inplace=True)\n",
    "df1['Project Allocations'].replace('e', np.nan, inplace=True)\n",
    "df1['Accounting Adjustments'].replace('To reclass', 'Reclass', inplace=True)\n",
    "df1['Client'].replace('', np.nan, inplace=True)\n",
    "df1['Rollup Account'].replace('', np.nan, inplace=True)"
   ]
  },
  {
   "cell_type": "code",
   "execution_count": 66,
   "metadata": {},
   "outputs": [],
   "source": [
    "df1['Initiative'].fillna(\"No Initiative\", inplace=True)\n",
    "df1['Project'].fillna(\"No Project\", inplace=True)\n",
    "df1['Grant'].fillna(\"No Grant\", inplace=True)\n",
    "df1['GL Account'].fillna(\"No GL Account\", inplace=True)\n",
    "df1['Memo'].fillna(\"No Memo\", inplace=True)\n",
    "df1['Transaction Number'].fillna(\"No Transaction Number\", inplace=True)\n",
    "df1['Vendor Name'].fillna(\"No Vendor Name\", inplace=True)\n",
    "df1['Vendor Rate'].fillna(\"No Vendor Rate\", inplace=True)\n",
    "df1['Vendor Contract Expiration Date'].fillna(\"No Contract Expiration Date\", inplace=True)\n",
    "df1['Program'].fillna(\"No Program\", inplace=True)\n",
    "df1['Project Allocations'].fillna(\"Other\", inplace=True)\n",
    "df1['Client'].fillna(\"No Client\", inplace=True)\n",
    "df1['Rollup Account'].replace(\"New Account\", np.nan, inplace=True)"
   ]
  },
  {
   "cell_type": "markdown",
   "metadata": {},
   "source": [
    "## Add Further Heather Calcs"
   ]
  },
  {
   "cell_type": "code",
   "execution_count": 67,
   "metadata": {},
   "outputs": [],
   "source": [
    "df1['Inst or Reclass'] = df1['Account Digit'] + df1['Accounting Adjustments']"
   ]
  },
  {
   "cell_type": "code",
   "execution_count": 68,
   "metadata": {},
   "outputs": [
    {
     "data": {
      "text/plain": [
       "7           93689\n",
       "8           16677\n",
       "5            6316\n",
       "6            2862\n",
       "7Reclass     1002\n",
       "8Reclass      243\n",
       "5Reclass       77\n",
       "9               2\n",
       "Name: Inst or Reclass, dtype: Int64"
      ]
     },
     "execution_count": 68,
     "metadata": {},
     "output_type": "execute_result"
    }
   ],
   "source": [
    "df1['Inst or Reclass'].value_counts()"
   ]
  },
  {
   "cell_type": "code",
   "execution_count": 69,
   "metadata": {},
   "outputs": [],
   "source": [
    "df1['Inst or Reclass'] = df1['Inst or Reclass'].map({'7': \"Expense\", '8': \"Institutional Overhead\", '5': \"Revenue\", '6': \"Revenue\", '7Reclass': \"Expense Reclass\", '8Reclass': \"Inst Overhead Reclass\", '5Reclass': \"Revenue Reclass\", '6Reclass': \"Revenue Reclass\"})"
   ]
  },
  {
   "cell_type": "markdown",
   "metadata": {},
   "source": [
    "## Unrestricted Columns Added"
   ]
  },
  {
   "cell_type": "code",
   "execution_count": 70,
   "metadata": {},
   "outputs": [],
   "source": [
    "def return_grant(x):\n",
    "    if x != \"No Grant\":\n",
    "        return \"Yes\"\n",
    "    else: \n",
    "        return \"No\"\n",
    "    \n",
    "    "
   ]
  },
  {
   "cell_type": "code",
   "execution_count": 71,
   "metadata": {},
   "outputs": [],
   "source": [
    "df1['grant?'] = df1['Grant'].apply(return_grant)"
   ]
  },
  {
   "cell_type": "code",
   "execution_count": 72,
   "metadata": {},
   "outputs": [],
   "source": [
    "df1[\"Restricted Revenue\"] = df1['grant?'] + df1['Account Digit']"
   ]
  },
  {
   "cell_type": "code",
   "execution_count": 73,
   "metadata": {},
   "outputs": [],
   "source": [
    "df1[\"Restricted Revenue\"] = df1[\"Restricted Revenue\"].map({'No7': \"No\", 'Yes7': \"Restricted Revenue\", 'No8': \"No\", 'No5': \"No\", 'Yes8': \"Restricted Revenue\", 'Yes6': \"No\", 'No6': \"No\", 'Yes5': \"No\"})"
   ]
  },
  {
   "cell_type": "code",
   "execution_count": 74,
   "metadata": {},
   "outputs": [],
   "source": [
    "df1['Restricted Revenue'] = np.where(df1['Restricted Revenue'] == \"Restricted Revenue\", df1['Amount'], 0)"
   ]
  },
  {
   "cell_type": "code",
   "execution_count": 75,
   "metadata": {},
   "outputs": [],
   "source": [
    "df1[\"Rev or Exp\"] = df1[\"Account Digit\"].map({'6': 'Revenue', '5': 'Revenue', '7': 'Expense', '8': 'Expense'})"
   ]
  },
  {
   "cell_type": "code",
   "execution_count": 76,
   "metadata": {},
   "outputs": [
    {
     "data": {
      "text/plain": [
       "Expense    111611\n",
       "Revenue      9255\n",
       "Name: Rev or Exp, dtype: int64"
      ]
     },
     "execution_count": 76,
     "metadata": {},
     "output_type": "execute_result"
    }
   ],
   "source": [
    "df1[\"Rev or Exp\"].value_counts()"
   ]
  },
  {
   "cell_type": "code",
   "execution_count": 77,
   "metadata": {},
   "outputs": [],
   "source": [
    "df1['Multilateral'] = np.where(df1['Rev or Exp'] == \"Revenue\", df1['Amount'], 0)"
   ]
  },
  {
   "cell_type": "code",
   "execution_count": 78,
   "metadata": {},
   "outputs": [],
   "source": [
    "df1['General Expense'] = np.where(df1['Rev or Exp'] == \"Expense\", df1['Amount'], 0)"
   ]
  },
  {
   "cell_type": "code",
   "execution_count": 79,
   "metadata": {},
   "outputs": [],
   "source": [
    "df1['Unrestricted'] = - df1['Restricted Revenue'] - df1['Multilateral'] + df1['General Expense']"
   ]
  },
  {
   "cell_type": "code",
   "execution_count": 80,
   "metadata": {},
   "outputs": [],
   "source": [
    "#df1 = df1.drop('Match ID Names',1)"
   ]
  },
  {
   "cell_type": "markdown",
   "metadata": {},
   "source": [
    "## Output manipulated DF to Excel"
   ]
  },
  {
   "cell_type": "code",
   "execution_count": 81,
   "metadata": {},
   "outputs": [],
   "source": [
    "#df1.to_excel('Output_Netsuite.xlsx')"
   ]
  },
  {
   "cell_type": "markdown",
   "metadata": {},
   "source": [
    "# 3.  Data Segmentation by Program\n",
    "\n",
    "Here I'm taking the manipulated data and ultimately creating a dataframe to filter out each program's restricted revenue."
   ]
  },
  {
   "cell_type": "code",
   "execution_count": 82,
   "metadata": {},
   "outputs": [],
   "source": [
    "Programs = list(df1['Program'].unique())"
   ]
  },
  {
   "cell_type": "code",
   "execution_count": 83,
   "metadata": {},
   "outputs": [
    {
     "name": "stdout",
     "output_type": "stream",
     "text": [
      "['Development', 'Islands', 'Operations', 'India', 'China', 'Breakthrough Technology', 'Carbon-Free Mobility', 'Climate Aligned Industries', 'Global Climate Finance', 'Carbon-Free Electricity', 'Strategic Analysis and Engagement', 'Carbon-Free Buildings', 'Climate Intelligence', 'WattTime', 'Urban Transformation', 'Building Electrification', 'Industry', 'Africa', 'SE Asia', 'US', 'CFAN', 'Energy Transition Academy', 'Communications', 'Cross-Program Impact Acceleration', 'Canary Media Program', 'No Program']\n"
     ]
    }
   ],
   "source": [
    "print(Programs)"
   ]
  },
  {
   "cell_type": "code",
   "execution_count": 84,
   "metadata": {},
   "outputs": [],
   "source": [
    "def create_program(program):\n",
    "    firstdf = df1[df1['Program']==program]\n",
    "    seconddf = firstdf[firstdf['Grant'] != 'No Grant'] \n",
    "    thirddf = seconddf[(seconddf['Account Digit']=='7')|(seconddf['Account Digit']=='8')]\n",
    "    if thirddf.empty == True:\n",
    "        print(str(program)+ \" DF is EMPTY\")\n",
    "    else:    \n",
    "        return thirddf"
   ]
  },
  {
   "cell_type": "code",
   "execution_count": 85,
   "metadata": {},
   "outputs": [
    {
     "name": "stdout",
     "output_type": "stream",
     "text": [
      "Development DF is EMPTY\n",
      "Communications DF is EMPTY\n"
     ]
    }
   ],
   "source": [
    "Development = create_program('Development')\n",
    "Islands = create_program('Islands')\n",
    "India = create_program('India')\n",
    "Operations = create_program('Operations')\n",
    "China = create_program('China')\n",
    "Breakthrough_Technology = create_program('Breakthrough Technology')\n",
    "CarbonFree_Mobility = create_program('Carbon-Free Mobility')\n",
    "Climate_Aligned_Industries = create_program('Climate Aligned Industries')\n",
    "Global_Climate_Finance = create_program('Global Climate Finance')\n",
    "Strategic_Engagement_and_Analysis_Group = create_program('Strategic Analysis and Engagement')\n",
    "CarbonFree_Buildings = create_program('Carbon-Free Buildings')\n",
    "WattTime = create_program('WattTime')\n",
    "CarbonFree_Electricty = create_program('Carbon-Free Electricity')\n",
    "Urban_Transformation = create_program('Urban Transformation')\n",
    "Climate_Intelligence = create_program('Climate Intelligence')\n",
    "Industry = create_program('Industry')\n",
    "SE_Asia = create_program('SE Asia')\n",
    "Africa = create_program('Africa')\n",
    "US = create_program('US')\n",
    "Building_Electrification = create_program('Building Electrification')\n",
    "Energy_Transition_Academy = create_program('Energy Transition Academy')\n",
    "Communications = create_program('Communications')\n",
    "CFAN = create_program('CFAN')\n"
   ]
  },
  {
   "cell_type": "code",
   "execution_count": 86,
   "metadata": {},
   "outputs": [],
   "source": [
    "Developing_Economies_Rollup = pd.concat([Islands, Africa, SE_Asia, Energy_Transition_Academy, CFAN], ignore_index = True, sort=False)\n",
    "CarbonFreeBuildings_Rollup = pd.concat([CarbonFree_Buildings, Building_Electrification], ignore_index = True, sort=False)\n"
   ]
  },
  {
   "cell_type": "markdown",
   "metadata": {},
   "source": [
    "## 4. Create Reports Path and Manipulate File Names\n",
    "\n",
    "I will need to come up with naming conventions that work over time for this project, so in this step I do just that.   Also I am loading the Openpyxl packages that i'm going to need for the rest of this program."
   ]
  },
  {
   "cell_type": "code",
   "execution_count": 87,
   "metadata": {},
   "outputs": [],
   "source": [
    "import os\n",
    "\n",
    "path = r'C:\\Users\\Jeremy Wendt\\anaconda3\\envs\\Code\\Detail_Trans_Project_FY21\\reports\\Detail_Trans_Reports'"
   ]
  },
  {
   "cell_type": "code",
   "execution_count": 88,
   "metadata": {},
   "outputs": [],
   "source": [
    "from datetime import datetime\n",
    "today = datetime.today()\n",
    "datem = datetime(today.year, today.month-1, 1)\n",
    "timestamp = \"Detail_Transactions_\"+datem.strftime(\"%b_%Y\")"
   ]
  },
  {
   "cell_type": "code",
   "execution_count": 89,
   "metadata": {},
   "outputs": [
    {
     "name": "stdout",
     "output_type": "stream",
     "text": [
      "Detail_Transactions_Apr_2021.xlsx\n"
     ]
    }
   ],
   "source": [
    "print(timestamp+\".xlsx\")"
   ]
  },
  {
   "cell_type": "code",
   "execution_count": 90,
   "metadata": {},
   "outputs": [],
   "source": [
    "from openpyxl.styles import Color, PatternFill, Font, Border\n",
    "greyFill = PatternFill(start_color='00C0C0C0',\n",
    "                   end_color='00C0C0C0',\n",
    "                   fill_type='solid')"
   ]
  },
  {
   "cell_type": "markdown",
   "metadata": {},
   "source": [
    "## 5.  Create Pivot Table, Add Subtotals, Export to Excel, and Combine All These Functions into One"
   ]
  },
  {
   "cell_type": "code",
   "execution_count": 91,
   "metadata": {},
   "outputs": [],
   "source": [
    "def create_multi_pivot(Group):\n",
    "    Month_order = ['Jul 2020', 'Aug 2020', 'Sep 2020', 'Oct 2020', 'Nov 2020', 'Dec 2020', 'Jan 2021', 'Feb 2021', 'Mar 2021', 'Apr 2021', 'May 2021', 'Jun 2021']\n",
    "    table = pd.pivot_table(Group, index = ['Initiative','Project','Grant', 'GL Account', 'Memo', 'Transaction Number', 'Vendor Name', 'Vendor Rate', 'Vendor Contract Expiration Date'], values = 'Amount', columns = 'Period', aggfunc=np.sum)\n",
    "    table2 = table.reindex(Month_order, axis=1)\n",
    "    table2['Total'] = table2.iloc[:,-12:].sum(axis=1)\n",
    "    return table2"
   ]
  },
  {
   "cell_type": "code",
   "execution_count": 92,
   "metadata": {},
   "outputs": [],
   "source": [
    "def add_subtotal_multi(PivotedGroup):\n",
    "    out = pd.concat([d.append(d.sum().rename((k, '', '', '', '', '', '', '', 'Subtotal'))) for k, d in PivotedGroup.groupby('Initiative')]).append((PivotedGroup.sum()).rename(('Grand', '', '', '', '', '', '', '', 'Total')))\n",
    "    out.index = pd.MultiIndex.from_tuples(out.index)\n",
    "    return out"
   ]
  },
  {
   "cell_type": "code",
   "execution_count": 93,
   "metadata": {},
   "outputs": [],
   "source": [
    "def to_excel(pivot, str):\n",
    "    pivot.to_excel(path+str, freeze_panes = (1,9), engine = 'openpyxl', sheet_name = 'Restricted_Rev_Detail', float_format = \"%.2f\")"
   ]
  },
  {
   "cell_type": "code",
   "execution_count": 94,
   "metadata": {},
   "outputs": [],
   "source": [
    "\n",
    "\n",
    "def edit_workbook(file):\n",
    "    book = load_workbook(file)\n",
    "    sheet = book.active #active means last opened sheet\n",
    "    sheet['A1']= \"Initiative\"\n",
    "    sheet['B1']= \"Project\"\n",
    "    sheet['C1']= \"Grant\"\n",
    "    sheet['D1']= \"GL Account\"\n",
    "    sheet['E1']= \"Memo\"\n",
    "    sheet['F1']= \"Transaction Number\"\n",
    "    sheet['G1']= \"Vendor Name\"\n",
    "    sheet['H1']= \"Vendor Rate\"\n",
    "    sheet['I1']= \"Vendor Contract Expiration Date\" \n",
    "    sheet['A1'].font = Font(bold=True)\n",
    "    sheet['B1'].font = Font(bold=True)\n",
    "    sheet['C1'].font = Font(bold=True)\n",
    "    sheet['D1'].font = Font(bold=True)\n",
    "    sheet['E1'].font = Font(bold=True)\n",
    "    sheet['F1'].font = Font(bold=True)\n",
    "    sheet['G1'].font = Font(bold=True)\n",
    "    sheet['H1'].font = Font(bold=True)\n",
    "    sheet['I1'].font = Font(bold=True)\n",
    "    sheet.column_dimensions['A'].width = 15\n",
    "    sheet.column_dimensions['B'].width = 20\n",
    "    sheet.column_dimensions['C'].width = 20\n",
    "    sheet.column_dimensions['D'].width = 20\n",
    "    sheet.column_dimensions['E'].width = 15\n",
    "    sheet.column_dimensions['F'].width = 15\n",
    "    sheet.column_dimensions['G'].width = 15\n",
    "    sheet.column_dimensions['H'].width = 15\n",
    "    sheet.column_dimensions['I'].width = 15\n",
    "    sheet.column_dimensions['J'].width = 12.5\n",
    "    sheet.column_dimensions['K'].width = 12.5\n",
    "    sheet.column_dimensions['L'].width = 12.5\n",
    "    sheet.column_dimensions['M'].width = 12.5\n",
    "    sheet.column_dimensions['N'].width = 12.5\n",
    "    sheet.column_dimensions['O'].width = 12.5\n",
    "    sheet.column_dimensions['P'].width = 12.5\n",
    "    sheet.column_dimensions['Q'].width = 12.5\n",
    "    sheet.column_dimensions['R'].width = 12.5\n",
    "    sheet.column_dimensions['S'].width = 12.5\n",
    "    sheet.column_dimensions['T'].width = 12.5   \n",
    "    sheet.column_dimensions['U'].width = 12.5   \n",
    "    sheet.column_dimensions['V'].width = 12.5   \n",
    "#    sheet.column_dimensions['D'].hidden = True\n",
    "    num_rows = sheet.max_row\n",
    "    curr_row = 1\n",
    "    for col in range(10, 23):\n",
    "        for row in range(1, num_rows+1):\n",
    "            sheet.cell(column=col, row=row).number_format = '\"$\"#,##0.00_);[Red](\"$\"#,##0.00)'\n",
    "    for col in range(1, 10):\n",
    "        for row in range(1, num_rows):\n",
    "            sheet.cell(column=col, row=row).alignment = Alignment(horizontal = 'left', vertical='top')\n",
    "            sheet.cell(column=col, row=row).fill = greyFill\n",
    "    for i in range(1, sheet.max_row + 1):\n",
    "        if sheet.cell(row=i, column=9).value == \"Subtotal\":\n",
    "            for j in range(10,23):\n",
    "                sheet.cell(column=j, row=i).font = Font(bold=True)\n",
    "                sheet.cell(column=j, row=i).border = Border(bottom=Side(style='thin'))       \n",
    "    sheet.auto_filter.ref = sheet.dimensions\n",
    "    sheet.sheet_view.zoomScale = 55\n",
    "#    sheet.protection.sheet = True\n",
    "    book.save(file)"
   ]
  },
  {
   "cell_type": "markdown",
   "metadata": {},
   "source": [
    "## Testing for unmerging cells"
   ]
  },
  {
   "cell_type": "code",
   "execution_count": 95,
   "metadata": {},
   "outputs": [],
   "source": [
    "# THIS CODE WILL UNMERGE ALL THE CELLS IN A SHEET.   \n",
    "def unmerge_rows(file):\n",
    "    for col in range(1,5):\n",
    "        rowstounmerge = []\n",
    "        book = load_workbook(file)\n",
    "        testsheet = book['Restricted_Rev_Detail'] #active means last opened sheet\n",
    "        for i in range(1,testsheet.max_row + 1):\n",
    "            if testsheet.cell(row=i, column=col).value:\n",
    "                rowstounmerge.append(i)\n",
    "        rowstounmerge.append(testsheet.max_row)\n",
    "        for i in range(1,len(rowstounmerge)-1):        \n",
    "            try:\n",
    "                testsheet.unmerge_cells(start_row=rowstounmerge[i], start_column=col, end_row = rowstounmerge[i+1]-1, end_column=col) \n",
    "            except:\n",
    "                pass\n",
    "        book.save(file) \n",
    "        book = load_workbook(file)\n",
    "        testsheet = book['Restricted_Rev_Detail'] #active means last opened sheet\n",
    "        for i in range(1,testsheet.max_row + 1):\n",
    "            if testsheet.cell(row=i, column=col).value:\n",
    "                continue\n",
    "            else:\n",
    "                testsheet.cell(row=i, column=col).value = testsheet.cell(row=i-1, column=col).value\n",
    "        book.save(file) \n",
    "        book = load_workbook(file)\n",
    "        testsheet = book['Restricted_Rev_Detail'] #active means last opened sheet\n",
    "        for i in range(1, testsheet.max_row + 1):\n",
    "            if testsheet.cell(row=i, column=9).value == \"Subtotal\":\n",
    "                testsheet.cell(row=i, column=col).value = None\n",
    "        book.save(file) \n",
    "        book = load_workbook(file)\n",
    "        testsheet = book['Restricted_Rev_Detail'] #active means last opened sheet\n",
    "        for i in range(1, testsheet.max_row + 1):\n",
    "            if testsheet.cell(row=i, column=1).value == \"Grand\":\n",
    "                testsheet.cell(row=i, column=2).value = None\n",
    "                testsheet.cell(row=i, column=3).value = None\n",
    "                testsheet.cell(row=i, column=4).value = None\n",
    "        book.save(file) "
   ]
  },
  {
   "cell_type": "code",
   "execution_count": 96,
   "metadata": {},
   "outputs": [],
   "source": [
    "def format_multi_pivot(Group, str):\n",
    "    step1 = create_multi_pivot(Group)\n",
    "    step2 = add_subtotal_multi(step1)\n",
    "    to_excel(step2, str)\n",
    "    edit_workbook(path+str)\n",
    "    unmerge_rows(path+str)"
   ]
  },
  {
   "cell_type": "markdown",
   "metadata": {},
   "source": [
    "## 6.  Create Restricted Revenue Files"
   ]
  },
  {
   "cell_type": "code",
   "execution_count": 97,
   "metadata": {},
   "outputs": [
    {
     "name": "stdout",
     "output_type": "stream",
     "text": [
      "Wall time: 10min 13s\n"
     ]
    }
   ],
   "source": [
    "\n",
    "%%time\n",
    "format_multi_pivot(India, '\\\\India_'+timestamp+\".xlsx\")\n",
    "format_multi_pivot(Operations, '\\\\Operations_'+timestamp+\".xlsx\")\n",
    "format_multi_pivot(China, '\\\\China_'+timestamp+\".xlsx\")\n",
    "format_multi_pivot(Breakthrough_Technology, '\\\\Breakthrough_Technology-'+timestamp+\".xlsx\")\n",
    "format_multi_pivot(CarbonFree_Mobility, '\\\\CarbonFree_Mobility_'+timestamp+\".xlsx\")\n",
    "format_multi_pivot(Climate_Aligned_Industries, '\\\\Climate_Aligned_Industries_'+timestamp+\".xlsx\")\n",
    "format_multi_pivot(Strategic_Engagement_and_Analysis_Group, '\\\\Strategic_Analysis_and_Engagement_Group_'+timestamp+\".xlsx\")\n",
    "format_multi_pivot(CarbonFreeBuildings_Rollup, '\\\\CarbonFree_Buildings_'+timestamp+\".xlsx\")\n",
    "format_multi_pivot(WattTime, '\\\\WattTime_'+timestamp+\".xlsx\")\n",
    "format_multi_pivot(CarbonFree_Electricty, '\\\\CarbonFree_Electricity_'+timestamp+\".xlsx\")\n",
    "format_multi_pivot(Urban_Transformation, '\\\\Urban_Transformation_'+timestamp+\".xlsx\")\n",
    "format_multi_pivot(Climate_Intelligence, '\\\\Climate_Intelligence_'+timestamp+\".xlsx\")\n",
    "format_multi_pivot(Industry, '\\\\Industry_'+timestamp+\".xlsx\")\n",
    "format_multi_pivot(Developing_Economies_Rollup, '\\\\Developing_Economies_'+timestamp+\".xlsx\")\n",
    "format_multi_pivot(US, '\\\\US_'+timestamp+\".xlsx\")  \n",
    "format_multi_pivot(Global_Climate_Finance, '\\\\Global_Climate_Finance_'+timestamp+\".xlsx\")  \n",
    "#format_multi_pivot(Communications, '\\\\Communications_'+timestamp+\".xlsx\")  "
   ]
  },
  {
   "cell_type": "code",
   "execution_count": null,
   "metadata": {},
   "outputs": [],
   "source": []
  },
  {
   "cell_type": "markdown",
   "metadata": {},
   "source": [
    "## 7.  Add ML and Consulting Fee Tab"
   ]
  },
  {
   "cell_type": "code",
   "execution_count": 98,
   "metadata": {},
   "outputs": [],
   "source": [
    "def create_df_FeeforService(program):\n",
    "    firstdf = df1[df1['Program']==program]\n",
    "    seconddf = firstdf[(firstdf['Account Digit']=='5')|(firstdf['Account Digit']=='6')]\n",
    "    if seconddf.empty == True:\n",
    "        print(str(program)+ \" DF is EMPTY\")\n",
    "    else:    \n",
    "        return seconddf"
   ]
  },
  {
   "cell_type": "code",
   "execution_count": 99,
   "metadata": {},
   "outputs": [
    {
     "name": "stdout",
     "output_type": "stream",
     "text": [
      "Communications DF is EMPTY\n"
     ]
    }
   ],
   "source": [
    "DevelopmentFFS = create_df_FeeforService(\"Development\")\n",
    "IslandsFFS = create_df_FeeforService(\"Islands\")\n",
    "IndiaFFS = create_df_FeeforService(\"India\")\n",
    "OperationsFFS = create_df_FeeforService(\"Operations\")\n",
    "ChinaFFS = create_df_FeeforService(\"China\")\n",
    "Breakthrough_Technology_FFS = create_df_FeeforService(\"Breakthrough Technology\")\n",
    "CarbonFree_MobilityFFS = create_df_FeeforService(\"Carbon-Free Mobility\")\n",
    "ClimateAligned_IndustriesFFS = create_df_FeeforService(\"Climate Aligned Industries\")\n",
    "CommunicationsFFS = create_df_FeeforService(\"Communications\")\n",
    "GlobalClimate_FinanceFFS = create_df_FeeforService(\"Global Climate Finance\")\n",
    "Strategic_Engagement_and_Analysis_GroupFFS = create_df_FeeforService(\"Strategic Analysis and Engagement\")\n",
    "Carbon_Free_BuildingsFFS = create_df_FeeforService(\"Carbon-Free Buildings\")\n",
    "Watttime_FFS = create_df_FeeforService(\"WattTime\")\n",
    "Carbon_Free_ElectricityFFS = create_df_FeeforService(\"Carbon-Free Electricity\")\n",
    "UrbanTrans_FFS = create_df_FeeforService(\"Urban Transformation\")\n",
    "ClimateIntelFFS = create_df_FeeforService(\"Climate Intelligence\")\n",
    "IndustryFFS = create_df_FeeforService(\"Industry\")\n",
    "SEAsiaFFS = create_df_FeeforService(\"SE Asia\")\n",
    "AfricaFFS = create_df_FeeforService(\"Africa\")\n",
    "USFFS = create_df_FeeforService(\"US\")\n",
    "BuildingElectrificationFFS = create_df_FeeforService(\"Building Electrification\")\n",
    "Energy_Transition_AcademyFFS = create_df_FeeforService(\"Energy Transition Academy\")\n",
    "CFANFFS = create_df_FeeforService(\"CFAN\")"
   ]
  },
  {
   "cell_type": "code",
   "execution_count": 100,
   "metadata": {},
   "outputs": [],
   "source": [
    "Developing_Economies_RollupFFS = pd.concat([IslandsFFS, AfricaFFS, SEAsiaFFS, Energy_Transition_AcademyFFS, CFANFFS], ignore_index = True, sort=False)\n",
    "CarbonFreeBuildings_RollupFFS = pd.concat([Carbon_Free_BuildingsFFS, BuildingElectrificationFFS], ignore_index = True, sort=False)\n"
   ]
  },
  {
   "cell_type": "code",
   "execution_count": 101,
   "metadata": {},
   "outputs": [],
   "source": [
    "def create_FFS_pivot(Group):\n",
    "    Month_order = ['Jul 2020', 'Aug 2020', 'Sep 2020', 'Oct 2020', 'Nov 2020', 'Dec 2020', 'Jan 2021', 'Feb 2021', 'Mar 2021', 'Apr 2021', 'May 2021', 'Jun 2021']\n",
    "    table = pd.pivot_table(Group, index = ['Initiative','Project','Grant', 'GL Account', 'Memo', 'Client', 'Transaction Number'], values = 'Amount', columns = 'Period', aggfunc=np.sum)\n",
    "    table2 = table.reindex(Month_order, axis=1)\n",
    "    table2['Total'] = table2.iloc[:,-12:].sum(axis=1)\n",
    "    return table2"
   ]
  },
  {
   "cell_type": "code",
   "execution_count": 102,
   "metadata": {},
   "outputs": [],
   "source": [
    "def add_subtotal_FFS(PivotedGroup):\n",
    "    out = pd.concat([d.append(d.sum().rename((k, '', '', '', '', '',  'Subtotal'))) for k, d in PivotedGroup.groupby('Initiative')]).append((PivotedGroup.sum()).rename(('Grand', '', '', '',  '', '', 'Total')))\n",
    "    out.index = pd.MultiIndex.from_tuples(out.index)\n",
    "    return out"
   ]
  },
  {
   "cell_type": "code",
   "execution_count": 103,
   "metadata": {},
   "outputs": [],
   "source": [
    "def to_excel_FFS(df, file):\n",
    "    writer = pd.ExcelWriter(file, engine='openpyxl')\n",
    "    if os.path.exists(file):\n",
    "        book = openpyxl.load_workbook(file)\n",
    "        writer.book = book\n",
    "\n",
    "    df.to_excel(writer, sheet_name=\"ML & FFS Revenue\")\n",
    "    writer.save()\n",
    "    writer.close()    "
   ]
  },
  {
   "cell_type": "code",
   "execution_count": 104,
   "metadata": {},
   "outputs": [],
   "source": [
    "def edit_workbook_FFS(file):\n",
    "    book = load_workbook(file)\n",
    "    sheet = book[\"ML & FFS Revenue\"] #active means last opened sheet\n",
    "    sheet['A1']= \"Initiative\"\n",
    "    sheet['B1']= \"Project\"\n",
    "    sheet['C1']= \"Grant\"\n",
    "    sheet['D1']= \"GL Account\"\n",
    "    sheet['E1']= \"Memo\"\n",
    "    sheet['F1']= \"Client\"\n",
    "    sheet['G1']= \"Transaction Number\" \n",
    "    sheet['A1'].font = Font(bold=True)\n",
    "    sheet['B1'].font = Font(bold=True)\n",
    "    sheet['C1'].font = Font(bold=True)\n",
    "    sheet['D1'].font = Font(bold=True)\n",
    "    sheet['E1'].font = Font(bold=True)\n",
    "    sheet['F1'].font = Font(bold=True)\n",
    "    sheet['G1'].font = Font(bold=True)\n",
    "    sheet.column_dimensions['A'].width = 15\n",
    "    sheet.column_dimensions['B'].width = 20\n",
    "    sheet.column_dimensions['C'].width = 20\n",
    "    sheet.column_dimensions['D'].width = 20\n",
    "    sheet.column_dimensions['E'].width = 15\n",
    "    sheet.column_dimensions['F'].width = 15\n",
    "    sheet.column_dimensions['G'].width = 15\n",
    "    sheet.column_dimensions['J'].width = 12.5\n",
    "    sheet.column_dimensions['K'].width = 12.5\n",
    "    sheet.column_dimensions['L'].width = 12.5\n",
    "    sheet.column_dimensions['M'].width = 12.5\n",
    "    sheet.column_dimensions['N'].width = 12.5\n",
    "    sheet.column_dimensions['O'].width = 12.5\n",
    "    sheet.column_dimensions['P'].width = 12.5\n",
    "    sheet.column_dimensions['Q'].width = 12.5\n",
    "    sheet.column_dimensions['R'].width = 12.5\n",
    "    sheet.column_dimensions['S'].width = 12.5\n",
    "    sheet.column_dimensions['T'].width = 12.5   \n",
    "    sheet.column_dimensions['U'].width = 12.5   \n",
    "    sheet.column_dimensions['V'].width = 12.5   \n",
    "#    sheet.column_dimensions['D'].hidden = True\n",
    "    num_rows = sheet.max_row\n",
    "    curr_row = 1\n",
    "    for col in range(8, 21):\n",
    "        for row in range(1, num_rows+1):\n",
    "            sheet.cell(column=col, row=row).number_format = '\"$\"#,##0.00_);[Red](\"$\"#,##0.00)'\n",
    "    for col in range(1, 8):\n",
    "        for row in range(1, num_rows):\n",
    "            sheet.cell(column=col, row=row).alignment = Alignment(horizontal = 'left', vertical='top')\n",
    "            sheet.cell(column=col, row=row).fill = greyFill\n",
    "    for i in range(1, sheet.max_row + 1):\n",
    "        if sheet.cell(row=i, column=7).value == \"Subtotal\":\n",
    "            for j in range(8,21):\n",
    "                sheet.cell(column=j, row=i).font = Font(bold=True)\n",
    "                sheet.cell(column=j, row=i).border = Border(bottom=Side(style='thin'))       \n",
    "    sheet.auto_filter.ref = sheet.dimensions\n",
    "    sheet.sheet_view.zoomScale = 55\n",
    "    sheet.freeze_panes = \"H2\"\n",
    "    book.save(file)"
   ]
  },
  {
   "cell_type": "code",
   "execution_count": 105,
   "metadata": {},
   "outputs": [],
   "source": [
    "def unmerge_rows_FFS(file):\n",
    "    for col in range(1,5):\n",
    "        rowstounmerge = []\n",
    "        book = load_workbook(file)\n",
    "        testsheet = book['ML & FFS Revenue'] #active means last opened sheet\n",
    "        for i in range(1,testsheet.max_row + 1):\n",
    "            if testsheet.cell(row=i, column=col).value:\n",
    "                rowstounmerge.append(i)\n",
    "        rowstounmerge.append(testsheet.max_row)\n",
    "        for i in range(1,len(rowstounmerge)-1):        \n",
    "            try:\n",
    "                testsheet.unmerge_cells(start_row=rowstounmerge[i], start_column=col, end_row = rowstounmerge[i+1]-1, end_column=col) \n",
    "            except:\n",
    "                pass\n",
    "        book.save(file) \n",
    "        book = load_workbook(file)\n",
    "        testsheet = book['ML & FFS Revenue'] #active means last opened sheet\n",
    "        for i in range(1,testsheet.max_row + 1):\n",
    "            if testsheet.cell(row=i, column=col).value:\n",
    "                continue\n",
    "            else:\n",
    "                testsheet.cell(row=i, column=col).value = testsheet.cell(row=i-1, column=col).value\n",
    "        book.save(file) \n",
    "        book = load_workbook(file)\n",
    "        testsheet = book['ML & FFS Revenue'] #active means last opened sheet\n",
    "        for i in range(1, testsheet.max_row + 1):\n",
    "            if testsheet.cell(row=i, column=7).value == \"Subtotal\":\n",
    "                testsheet.cell(row=i, column=col).value = None\n",
    "        book.save(file) \n",
    "        book = load_workbook(file)\n",
    "        testsheet = book['ML & FFS Revenue'] #active means last opened sheet\n",
    "        for i in range(1, testsheet.max_row + 1):\n",
    "            if testsheet.cell(row=i, column=1).value == \"Grand\":\n",
    "                testsheet.cell(row=i, column=2).value = None\n",
    "                testsheet.cell(row=i, column=3).value = None\n",
    "                testsheet.cell(row=i, column=4).value = None\n",
    "        book.save(file) "
   ]
  },
  {
   "cell_type": "code",
   "execution_count": 106,
   "metadata": {},
   "outputs": [],
   "source": [
    "def format_FFS_pivot(Group, str):\n",
    "    step1 = create_FFS_pivot(Group)\n",
    "    step2 = add_subtotal_FFS(step1)\n",
    "    to_excel_FFS(step2, path+str)\n",
    "    edit_workbook_FFS(path+str)\n",
    "    unmerge_rows_FFS(path+str)"
   ]
  },
  {
   "cell_type": "markdown",
   "metadata": {},
   "source": [
    "## 8.  Add ML and FFS Pivots to Second Tab"
   ]
  },
  {
   "cell_type": "code",
   "execution_count": 107,
   "metadata": {},
   "outputs": [],
   "source": [
    "\n",
    "format_FFS_pivot(Developing_Economies_RollupFFS, '\\\\Developing_Economies_'+timestamp+\".xlsx\")\n",
    "format_FFS_pivot(IndiaFFS, '\\\\India_'+timestamp+\".xlsx\")\n",
    "format_FFS_pivot(OperationsFFS, '\\\\Operations_'+timestamp+\".xlsx\")\n",
    "format_FFS_pivot(ChinaFFS, '\\\\China_'+timestamp+\".xlsx\")\n",
    "format_FFS_pivot(Breakthrough_Technology_FFS, '\\\\Breakthrough_Technology-'+timestamp+\".xlsx\")\n",
    "format_FFS_pivot(CarbonFree_MobilityFFS, '\\\\CarbonFree_Mobility_'+timestamp+\".xlsx\")\n",
    "format_FFS_pivot(ClimateAligned_IndustriesFFS, '\\\\Climate_Aligned_Industries_'+timestamp+\".xlsx\")\n",
    "format_FFS_pivot(Strategic_Engagement_and_Analysis_GroupFFS, '\\\\Strategic_Analysis_and_Engagement_Group_'+timestamp+\".xlsx\")\n",
    "format_FFS_pivot(CarbonFreeBuildings_RollupFFS, '\\\\CarbonFree_Buildings_'+timestamp+\".xlsx\")\n",
    "format_FFS_pivot(Watttime_FFS, '\\\\WattTime_'+timestamp+\".xlsx\")\n",
    "format_FFS_pivot(Carbon_Free_ElectricityFFS, '\\\\CarbonFree_Electricity_'+timestamp+\".xlsx\")\n",
    "format_FFS_pivot(UrbanTrans_FFS, '\\\\Urban_Transformation_'+timestamp+\".xlsx\")\n",
    "format_FFS_pivot(ClimateIntelFFS, '\\\\Climate_Intelligence_'+timestamp+\".xlsx\")\n",
    "format_FFS_pivot(IndustryFFS, '\\\\Industry_'+timestamp+\".xlsx\")\n",
    "format_FFS_pivot(USFFS, '\\\\US_'+timestamp+\".xlsx\")\n",
    "format_FFS_pivot(GlobalClimate_FinanceFFS, '\\\\Global_Climate_Finance_'+timestamp+\".xlsx\")\n",
    "format_FFS_pivot(DevelopmentFFS, '\\\\Development_'+timestamp+\".xlsx\")"
   ]
  },
  {
   "cell_type": "markdown",
   "metadata": {},
   "source": [
    "# 9.  Total Expenses"
   ]
  },
  {
   "cell_type": "code",
   "execution_count": 108,
   "metadata": {},
   "outputs": [],
   "source": [
    "def create_df_allExpenses(program):\n",
    "    firstdf = df1[df1['Program']==program]\n",
    "    seconddf = firstdf[(firstdf['Account Digit']=='7')|(firstdf['Account Digit']=='8')]\n",
    "    if seconddf.empty == True:\n",
    "        print(str(program)+ \" DF is EMPTY\")\n",
    "    else:    \n",
    "        return seconddf"
   ]
  },
  {
   "cell_type": "code",
   "execution_count": 109,
   "metadata": {},
   "outputs": [],
   "source": [
    "DevelopmentExp = create_df_allExpenses(\"Development\")\n",
    "IslandsExp = create_df_allExpenses(\"Islands\")\n",
    "IndiaExp = create_df_allExpenses(\"India\")\n",
    "OperationsExp = create_df_allExpenses(\"Operations\")\n",
    "ChinaExp = create_df_allExpenses(\"China\")\n",
    "Breakthrough_Technology_Exp = create_df_allExpenses(\"Breakthrough Technology\")\n",
    "CarbonFree_MobilityExp = create_df_allExpenses(\"Carbon-Free Mobility\")\n",
    "ClimateAligned_IndustriesExp = create_df_allExpenses(\"Climate Aligned Industries\")\n",
    "CommunicationsExp = create_df_allExpenses(\"Communications\")\n",
    "GlobalClimate_FinanceExp = create_df_allExpenses(\"Global Climate Finance\")\n",
    "Strategic_Engagement_and_Analysis_GroupExp = create_df_allExpenses(\"Strategic Analysis and Engagement\")\n",
    "Carbon_Free_BuildingsExp = create_df_allExpenses(\"Carbon-Free Buildings\")\n",
    "Watttime_Exp = create_df_allExpenses(\"WattTime\")\n",
    "Carbon_Free_ElectricityExp = create_df_allExpenses(\"Carbon-Free Electricity\")\n",
    "UrbanTrans_Exp = create_df_allExpenses(\"Urban Transformation\")\n",
    "ClimateIntelExp = create_df_allExpenses(\"Climate Intelligence\")\n",
    "IndustryExp = create_df_allExpenses(\"Industry\")\n",
    "SEAsiaExp = create_df_allExpenses(\"SE Asia\")\n",
    "AfricaExp = create_df_allExpenses(\"Africa\")\n",
    "USExp = create_df_allExpenses(\"US\")\n",
    "BuildingElectrificationExp = create_df_allExpenses(\"Building Electrification\")\n",
    "Energy_Transition_AcademyExp = create_df_allExpenses(\"Energy Transition Academy\")\n",
    "CFANExp = create_df_allExpenses(\"CFAN\")"
   ]
  },
  {
   "cell_type": "code",
   "execution_count": 110,
   "metadata": {},
   "outputs": [],
   "source": [
    "Developing_Economies_RollupExp = pd.concat([IslandsExp, CFANExp, AfricaExp, SEAsiaExp, Energy_Transition_AcademyExp], ignore_index = True, sort=False)\n",
    "CarbonFreeBuildings_RollupExp = pd.concat([Carbon_Free_BuildingsExp, BuildingElectrificationExp], ignore_index = True, sort=False)\n"
   ]
  },
  {
   "cell_type": "code",
   "execution_count": 111,
   "metadata": {},
   "outputs": [],
   "source": [
    "def create_pivot_Exp(Group):\n",
    "    Month_order = ['Jul 2020', 'Aug 2020', 'Sep 2020', 'Oct 2020', 'Nov 2020', 'Dec 2020', 'Jan 2021', 'Feb 2021', 'Mar 2021', 'Apr 2021', 'May 2021', 'Jun 2021']\n",
    "    table = pd.pivot_table(Group, index = ['Initiative','Project','Grant', 'GL Account', 'Memo', 'Transaction Number', 'Vendor Name', 'Vendor Rate', 'Vendor Contract Expiration Date'], values = 'Amount', columns = 'Period', aggfunc=np.sum)\n",
    "    table2 = table.reindex(Month_order, axis=1)\n",
    "    table2['Total'] = table2.iloc[:,-12:].sum(axis=1)\n",
    "    return table2"
   ]
  },
  {
   "cell_type": "code",
   "execution_count": 112,
   "metadata": {},
   "outputs": [],
   "source": [
    "def add_subtotal_Exp(PivotedGroup):\n",
    "    out = pd.concat([d.append(d.sum().rename((k, '', '', '', '', '', '', '', 'Subtotal'))) for k, d in PivotedGroup.groupby('Initiative')]).append((PivotedGroup.sum()).rename(('Grand', '', '', '', '', '', '', '', 'Total')))\n",
    "    out.index = pd.MultiIndex.from_tuples(out.index)\n",
    "    return out"
   ]
  },
  {
   "cell_type": "code",
   "execution_count": 113,
   "metadata": {},
   "outputs": [],
   "source": [
    "def to_excel_Exp(df, file):\n",
    "    writer = pd.ExcelWriter(file, engine='openpyxl')\n",
    "    if os.path.exists(file):\n",
    "        book = openpyxl.load_workbook(file)\n",
    "        writer.book = book\n",
    "\n",
    "    df.to_excel(writer, sheet_name=\"All Expense Detail\")\n",
    "    writer.save()\n",
    "    writer.close()    "
   ]
  },
  {
   "cell_type": "code",
   "execution_count": 114,
   "metadata": {},
   "outputs": [],
   "source": [
    "def edit_workbook_Exp(file):\n",
    "    book = load_workbook(file)\n",
    "    sheet = book['All Expense Detail'] #active means last opened sheet\n",
    "    sheet['A1']= \"Initiative\"\n",
    "    sheet['B1']= \"Project\"\n",
    "    sheet['C1']= \"Grant\"\n",
    "    sheet['D1']= \"GL Account\"\n",
    "    sheet['E1']= \"Memo\"\n",
    "    sheet['F1']= \"Transaction Number\"\n",
    "    sheet['G1']= \"Vendor Name\"\n",
    "    sheet['H1']= \"Vendor Rate\"\n",
    "    sheet['I1']= \"Vendor Contract Expiration Date\" \n",
    "    sheet['A1'].font = Font(bold=True)\n",
    "    sheet['B1'].font = Font(bold=True)\n",
    "    sheet['C1'].font = Font(bold=True)\n",
    "    sheet['D1'].font = Font(bold=True)\n",
    "    sheet['E1'].font = Font(bold=True)\n",
    "    sheet['F1'].font = Font(bold=True)\n",
    "    sheet['G1'].font = Font(bold=True)\n",
    "    sheet['H1'].font = Font(bold=True)\n",
    "    sheet['I1'].font = Font(bold=True)\n",
    "    sheet.column_dimensions['A'].width = 15\n",
    "    sheet.column_dimensions['B'].width = 20\n",
    "    sheet.column_dimensions['C'].width = 20\n",
    "    sheet.column_dimensions['D'].width = 20\n",
    "    sheet.column_dimensions['E'].width = 15\n",
    "    sheet.column_dimensions['F'].width = 15\n",
    "    sheet.column_dimensions['G'].width = 15\n",
    "    sheet.column_dimensions['H'].width = 15\n",
    "    sheet.column_dimensions['I'].width = 15\n",
    "    sheet.column_dimensions['J'].width = 12.5\n",
    "    sheet.column_dimensions['K'].width = 12.5\n",
    "    sheet.column_dimensions['L'].width = 12.5\n",
    "    sheet.column_dimensions['M'].width = 12.5\n",
    "    sheet.column_dimensions['N'].width = 12.5\n",
    "    sheet.column_dimensions['O'].width = 12.5\n",
    "    sheet.column_dimensions['P'].width = 12.5\n",
    "    sheet.column_dimensions['Q'].width = 12.5\n",
    "    sheet.column_dimensions['R'].width = 12.5\n",
    "    sheet.column_dimensions['S'].width = 12.5\n",
    "    sheet.column_dimensions['T'].width = 12.5   \n",
    "    sheet.column_dimensions['U'].width = 12.5   \n",
    "    sheet.column_dimensions['V'].width = 12.5   \n",
    "#    sheet.column_dimensions['D'].hidden = True\n",
    "    num_rows = sheet.max_row\n",
    "    curr_row = 1\n",
    "    for col in range(10, 23):\n",
    "        for row in range(1, num_rows+1):\n",
    "            sheet.cell(column=col, row=row).number_format = '\"$\"#,##0.00_);[Red](\"$\"#,##0.00)'\n",
    "    for col in range(1, 10):\n",
    "        for row in range(1, num_rows):\n",
    "            sheet.cell(column=col, row=row).alignment = Alignment(horizontal = 'left', vertical='top')\n",
    "            sheet.cell(column=col, row=row).fill = greyFill\n",
    "    for i in range(1, sheet.max_row + 1):\n",
    "        if sheet.cell(row=i, column=9).value == \"Subtotal\":\n",
    "            for j in range(10,23):\n",
    "                sheet.cell(column=j, row=i).font = Font(bold=True)\n",
    "                sheet.cell(column=j, row=i).border = Border(bottom=Side(style='thin'))       \n",
    "    sheet.auto_filter.ref = sheet.dimensions\n",
    "    sheet.sheet_view.zoomScale = 55\n",
    "    sheet.freeze_panes = \"J2\"\n",
    "    book.save(file)"
   ]
  },
  {
   "cell_type": "code",
   "execution_count": 115,
   "metadata": {},
   "outputs": [],
   "source": [
    "def unmerge_rows_EXP(file):\n",
    "    for col in range(1,5):\n",
    "        rowstounmerge = []\n",
    "        book = load_workbook(file)\n",
    "        testsheet = book['All Expense Detail'] #active means last opened sheet\n",
    "        for i in range(1,testsheet.max_row + 1):\n",
    "            if testsheet.cell(row=i, column=col).value:\n",
    "                rowstounmerge.append(i)\n",
    "        rowstounmerge.append(testsheet.max_row)\n",
    "        for i in range(1,len(rowstounmerge)-1):        \n",
    "            try:\n",
    "                testsheet.unmerge_cells(start_row=rowstounmerge[i], start_column=col, end_row = rowstounmerge[i+1]-1, end_column=col) \n",
    "            except:\n",
    "                pass\n",
    "        book.save(file) \n",
    "        book = load_workbook(file)\n",
    "        testsheet = book['All Expense Detail'] #active means last opened sheet\n",
    "        for i in range(1,testsheet.max_row + 1):\n",
    "            if testsheet.cell(row=i, column=col).value:\n",
    "                continue\n",
    "            else:\n",
    "                testsheet.cell(row=i, column=col).value = testsheet.cell(row=i-1, column=col).value\n",
    "        book.save(file) \n",
    "        book = load_workbook(file)\n",
    "        testsheet = book['All Expense Detail'] #active means last opened sheet\n",
    "        for i in range(1, testsheet.max_row + 1):\n",
    "            if testsheet.cell(row=i, column=9).value == \"Subtotal\":\n",
    "                testsheet.cell(row=i, column=col).value = None\n",
    "        book.save(file) \n",
    "        book = load_workbook(file)\n",
    "        testsheet = book['All Expense Detail'] #active means last opened sheet\n",
    "        for i in range(1, testsheet.max_row + 1):\n",
    "            if testsheet.cell(row=i, column=1).value == \"Grand\":\n",
    "                testsheet.cell(row=i, column=2).value = None\n",
    "                testsheet.cell(row=i, column=3).value = None\n",
    "                testsheet.cell(row=i, column=4).value = None\n",
    "        book.save(file) "
   ]
  },
  {
   "cell_type": "code",
   "execution_count": 116,
   "metadata": {},
   "outputs": [],
   "source": [
    "def format_Exp_pivot(Group, str):\n",
    "    step1 = create_pivot_Exp(Group)\n",
    "    step2 = add_subtotal_Exp(step1)\n",
    "    to_excel_Exp(step2, path+str)\n",
    "    edit_workbook_Exp(path+str)\n",
    "    unmerge_rows_EXP(path+str)"
   ]
  },
  {
   "cell_type": "code",
   "execution_count": 117,
   "metadata": {},
   "outputs": [],
   "source": [
    "\n",
    "format_Exp_pivot(Developing_Economies_RollupExp, '\\\\Developing_Economies_'+timestamp+\".xlsx\")\n",
    "format_Exp_pivot(IndiaExp, '\\\\India_'+timestamp+\".xlsx\")\n",
    "format_Exp_pivot(OperationsExp, '\\\\Operations_'+timestamp+\".xlsx\")\n",
    "format_Exp_pivot(ChinaExp, '\\\\China_'+timestamp+\".xlsx\")\n",
    "format_Exp_pivot(Breakthrough_Technology_Exp, '\\\\Breakthrough_Technology-'+timestamp+\".xlsx\")\n",
    "format_Exp_pivot(CarbonFree_MobilityExp, '\\\\CarbonFree_Mobility_'+timestamp+\".xlsx\")\n",
    "format_Exp_pivot(ClimateAligned_IndustriesExp, '\\\\Climate_Aligned_Industries_'+timestamp+\".xlsx\")\n",
    "format_Exp_pivot(Strategic_Engagement_and_Analysis_GroupExp, '\\\\Strategic_Analysis_and_Engagement_Group_'+timestamp+\".xlsx\")\n",
    "format_Exp_pivot(CarbonFreeBuildings_RollupExp, '\\\\CarbonFree_Buildings_'+timestamp+\".xlsx\")\n",
    "format_Exp_pivot(Watttime_Exp, '\\\\WattTime_'+timestamp+\".xlsx\")\n",
    "format_Exp_pivot(Carbon_Free_ElectricityExp, '\\\\CarbonFree_Electricity_'+timestamp+\".xlsx\")\n",
    "format_Exp_pivot(UrbanTrans_Exp, '\\\\Urban_Transformation_'+timestamp+\".xlsx\")\n",
    "format_Exp_pivot(ClimateIntelExp, '\\\\Climate_Intelligence_'+timestamp+\".xlsx\")\n",
    "format_Exp_pivot(IndustryExp, '\\\\Industry_'+timestamp+\".xlsx\")\n",
    "format_Exp_pivot(USExp, '\\\\US_'+timestamp+\".xlsx\")\n",
    "format_Exp_pivot(GlobalClimate_FinanceExp, '\\\\Global_Climate_Finance_'+timestamp+\".xlsx\")\n",
    "format_Exp_pivot(DevelopmentExp, '\\\\Development_'+timestamp+\".xlsx\")\n",
    "format_Exp_pivot(CommunicationsExp, '\\\\Communications_'+timestamp+\".xlsx\")"
   ]
  },
  {
   "cell_type": "markdown",
   "metadata": {},
   "source": [
    "## 10. Add Mavenlink Detail"
   ]
  },
  {
   "cell_type": "code",
   "execution_count": 118,
   "metadata": {},
   "outputs": [],
   "source": [
    "def create_Mavenlinkprogram(program):\n",
    "    firstdf = dfMavenlink[dfMavenlink['Program']==program]\n",
    "    if firstdf.empty == True:\n",
    "        print(str(program)+ \" DF is EMPTY\")\n",
    "    else:    \n",
    "        return firstdf"
   ]
  },
  {
   "cell_type": "code",
   "execution_count": 119,
   "metadata": {},
   "outputs": [],
   "source": [
    "DevelopmentML = create_Mavenlinkprogram(\"Development\")\n",
    "IslandsML = create_Mavenlinkprogram(\"Islands\")\n",
    "IndiaML = create_Mavenlinkprogram(\"India\")\n",
    "OperationsML = create_Mavenlinkprogram(\"Operations\")\n",
    "ChinaML = create_Mavenlinkprogram(\"China\")\n",
    "Breakthrough_Technology_ML = create_Mavenlinkprogram(\"Breakthrough Technology\")\n",
    "CarbonFree_MobilityML = create_Mavenlinkprogram(\"Carbon-Free Mobility\")\n",
    "ClimateAligned_IndustriesML = create_Mavenlinkprogram(\"Climate Aligned Industries\")\n",
    "CommunicationsML = create_Mavenlinkprogram(\"Communications\")\n",
    "GlobalClimate_FinanceML = create_Mavenlinkprogram(\"Global Climate Finance\")\n",
    "Strategic_Engagement_and_Analysis_GroupML = create_Mavenlinkprogram(\"Strategic Analysis and Engagement\")\n",
    "Carbon_Free_BuildingsML = create_Mavenlinkprogram(\"Carbon-Free Buildings\")\n",
    "Carbon_Free_ElectricityML = create_Mavenlinkprogram(\"Carbon-Free Electricity\")\n",
    "UrbanTrans_ML = create_Mavenlinkprogram(\"Urban Transformation\")\n",
    "ClimateIntelML = create_Mavenlinkprogram(\"Climate Intelligence\")\n",
    "IndustryML = create_Mavenlinkprogram(\"Industry\")\n",
    "SEAsiaML = create_Mavenlinkprogram(\"SE Asia\")\n",
    "AfricaML = create_Mavenlinkprogram(\"Africa\")\n",
    "USML = create_Mavenlinkprogram(\"US\")\n",
    "BuildingElectrificationML = create_Mavenlinkprogram(\"Building Electrification\")\n",
    "Energy_Transition_AcademyML = create_Mavenlinkprogram(\"Energy Transition Academy\")\n",
    "CommunicationsML = create_Mavenlinkprogram(\"Communications\")\n",
    "CFANML = create_Mavenlinkprogram(\"CFAN\")"
   ]
  },
  {
   "cell_type": "code",
   "execution_count": 120,
   "metadata": {},
   "outputs": [],
   "source": [
    "Developing_Economies_RollupML = pd.concat([IslandsML, AfricaML, SEAsiaML, Energy_Transition_AcademyML, CFANML], ignore_index = True, sort=False)\n",
    "CarbonFreeBuildings_RollupML = pd.concat([Carbon_Free_BuildingsML, BuildingElectrificationML], ignore_index = True, sort=False)\n"
   ]
  },
  {
   "cell_type": "code",
   "execution_count": 121,
   "metadata": {},
   "outputs": [],
   "source": [
    "def create_ML_pivot(Group):\n",
    "    Month_order = ['Jul 2020', 'Aug 2020', 'Sep 2020', 'Oct 2020', 'Nov 2020', 'Dec 2020', 'Jan 2021', 'Feb 2021', 'Mar 2021', 'Apr 2021', 'May 2021', 'Jun 2021']\n",
    "    table = pd.pivot_table(Group, index = ['Initiative','Employee','Case/Task/Event','Grant','Billable'], values = 'Percent of Total Monthly Hours', columns = 'Month', aggfunc=np.sum)\n",
    "    table2 = table.reindex(Month_order, axis=1)\n",
    "    table2['Total'] = table2.iloc[:,-12:].sum(axis=1)\n",
    "    return table2"
   ]
  },
  {
   "cell_type": "code",
   "execution_count": 122,
   "metadata": {},
   "outputs": [],
   "source": [
    "def to_excel_ML(df, file):\n",
    "    writer = pd.ExcelWriter(file, engine='openpyxl')\n",
    "    if os.path.exists(file):\n",
    "        book = openpyxl.load_workbook(file)\n",
    "        writer.book = book\n",
    "\n",
    "    df.to_excel(writer, sheet_name=\"Mavenlink Hours\")\n",
    "    writer.save()\n",
    "    writer.close()   "
   ]
  },
  {
   "cell_type": "code",
   "execution_count": 123,
   "metadata": {},
   "outputs": [],
   "source": [
    "def edit_workbook_ML(file):\n",
    "    book = load_workbook(file)\n",
    "    sheet = book[\"Mavenlink Hours\"] #active means last opened sheet\n",
    "    sheet['B1']= \"Employee\"\n",
    "    sheet['A1']= \"Initiative\"\n",
    "    sheet['C1']= \"Case/Task/Event\"    \n",
    "    sheet['D1']= \"Grant\"     \n",
    "    sheet['E1']= \"Billable\"    \n",
    "    sheet['A1'].font = Font(bold=True)\n",
    "    sheet['B1'].font = Font(bold=True)\n",
    "    sheet['C1'].font = Font(bold=True)\n",
    "    sheet['D1'].font = Font(bold=True)\n",
    "    sheet['E1'].font = Font(bold=True)\n",
    "    sheet.column_dimensions['A'].width = 25\n",
    "    sheet.column_dimensions['B'].width = 25\n",
    "    sheet.column_dimensions['C'].width = 25\n",
    "    sheet.column_dimensions['D'].width = 25\n",
    "    sheet.column_dimensions['E'].width = 25\n",
    "    sheet.column_dimensions['F'].width = 15\n",
    "    sheet.column_dimensions['G'].width = 15\n",
    "    sheet.column_dimensions['H'].width = 15\n",
    "    sheet.column_dimensions['I'].width = 15\n",
    "    sheet.column_dimensions['J'].width = 15\n",
    "    sheet.column_dimensions['K'].width = 15\n",
    "    sheet.column_dimensions['L'].width = 15\n",
    "    sheet.column_dimensions['M'].width = 15\n",
    "    sheet.column_dimensions['N'].width = 15\n",
    "    sheet.column_dimensions['O'].width = 15\n",
    "    sheet.column_dimensions['P'].width = 15\n",
    "    sheet.column_dimensions['Q'].width = 15\n",
    "    sheet.column_dimensions['R'].width = 15\n",
    "#    sheet.column_dimensions['D'].hidden = True\n",
    "    num_rows = sheet.max_row\n",
    "    curr_row = 2\n",
    "    for col in range(6, 19):\n",
    "        for row in range(2, num_rows+1):\n",
    "            sheet.cell(column=col, row=row).number_format = '0.00%'\n",
    "    for col in range(1, 6):\n",
    "        for row in range(1, num_rows+1):\n",
    "            sheet.cell(column=col, row=row).alignment = Alignment(horizontal = 'left', vertical='top')\n",
    "            sheet.cell(column=col, row=row).fill = greyFill \n",
    "    sheet.auto_filter.ref = sheet.dimensions\n",
    "    sheet.sheet_view.zoomScale = 60\n",
    "    sheet.freeze_panes = \"F2\"\n",
    "    book.save(file)"
   ]
  },
  {
   "cell_type": "code",
   "execution_count": 124,
   "metadata": {},
   "outputs": [],
   "source": [
    "def unmerge_rows_ML(file):\n",
    "    for col in range(1,4):\n",
    "        rowstounmerge = []\n",
    "        book = load_workbook(file)\n",
    "        testsheet = book[\"Mavenlink Hours\"] #active means last opened sheet\n",
    "        for i in range(1,testsheet.max_row + 1):\n",
    "            if testsheet.cell(row=i, column=col).value:\n",
    "                rowstounmerge.append(i)\n",
    "        rowstounmerge.append(testsheet.max_row+1)\n",
    "        for i in range(1,len(rowstounmerge)-1):        \n",
    "            try:\n",
    "                testsheet.unmerge_cells(start_row=rowstounmerge[i], start_column=col, end_row = rowstounmerge[i+1]-1, end_column=col) \n",
    "            except:\n",
    "                pass\n",
    "        book.save(file) \n",
    "        book = load_workbook(file)\n",
    "        testsheet = book[\"Mavenlink Hours\"] #active means last opened sheet\n",
    "        for i in range(1,testsheet.max_row + 1):\n",
    "            if testsheet.cell(row=i, column=col).value:\n",
    "                continue\n",
    "            else:\n",
    "                testsheet.cell(row=i, column=col).value = testsheet.cell(row=i-1, column=col).value\n",
    "        book.save(file) \n"
   ]
  },
  {
   "cell_type": "code",
   "execution_count": 125,
   "metadata": {},
   "outputs": [],
   "source": [
    "def format_pivot_ML(Group, str):\n",
    "    step1 = create_ML_pivot(Group)\n",
    "    to_excel_ML(step1, path+str)\n",
    "    edit_workbook_ML(path+str)\n",
    "    unmerge_rows_ML(path+str)"
   ]
  },
  {
   "cell_type": "code",
   "execution_count": null,
   "metadata": {},
   "outputs": [],
   "source": []
  },
  {
   "cell_type": "code",
   "execution_count": 126,
   "metadata": {},
   "outputs": [],
   "source": [
    "\n",
    "format_pivot_ML(Developing_Economies_RollupML, '\\\\Developing_Economies_'+timestamp+\".xlsx\")\n",
    "format_pivot_ML(IndiaML, '\\\\India_'+timestamp+\".xlsx\")\n",
    "format_pivot_ML(OperationsML, '\\\\Operations_'+timestamp+\".xlsx\")\n",
    "format_pivot_ML(ChinaML, '\\\\China_'+timestamp+\".xlsx\")\n",
    "format_pivot_ML(Breakthrough_Technology_ML, '\\\\Breakthrough_Technology-'+timestamp+\".xlsx\")\n",
    "format_pivot_ML(CarbonFree_MobilityML, '\\\\CarbonFree_Mobility_'+timestamp+\".xlsx\")\n",
    "format_pivot_ML(ClimateAligned_IndustriesML, '\\\\Climate_Aligned_Industries_'+timestamp+\".xlsx\")\n",
    "format_pivot_ML(Strategic_Engagement_and_Analysis_GroupML, '\\\\Strategic_Analysis_and_Engagement_Group_'+timestamp+\".xlsx\")\n",
    "format_pivot_ML(CarbonFreeBuildings_RollupML, '\\\\CarbonFree_Buildings_'+timestamp+\".xlsx\")\n",
    "format_pivot_ML(Carbon_Free_ElectricityML, '\\\\CarbonFree_Electricity_'+timestamp+\".xlsx\")\n",
    "format_pivot_ML(UrbanTrans_ML, '\\\\Urban_Transformation_'+timestamp+\".xlsx\")\n",
    "format_pivot_ML(ClimateIntelML, '\\\\Climate_Intelligence_'+timestamp+\".xlsx\")\n",
    "format_pivot_ML(IndustryML, '\\\\Industry_'+timestamp+\".xlsx\")\n",
    "format_pivot_ML(USML, '\\\\US_'+timestamp+\".xlsx\")\n",
    "format_pivot_ML(GlobalClimate_FinanceML, '\\\\Global_Climate_Finance_'+timestamp+\".xlsx\")\n",
    "format_pivot_ML(DevelopmentML, '\\\\Development_'+timestamp+\".xlsx\")\n",
    "format_pivot_ML(CommunicationsML, '\\\\Communications_'+timestamp+\".xlsx\")"
   ]
  },
  {
   "cell_type": "code",
   "execution_count": null,
   "metadata": {},
   "outputs": [],
   "source": []
  },
  {
   "cell_type": "code",
   "execution_count": null,
   "metadata": {},
   "outputs": [],
   "source": []
  },
  {
   "cell_type": "code",
   "execution_count": null,
   "metadata": {},
   "outputs": [],
   "source": []
  },
  {
   "cell_type": "code",
   "execution_count": null,
   "metadata": {},
   "outputs": [],
   "source": []
  },
  {
   "cell_type": "code",
   "execution_count": null,
   "metadata": {},
   "outputs": [],
   "source": []
  },
  {
   "cell_type": "code",
   "execution_count": null,
   "metadata": {},
   "outputs": [],
   "source": []
  },
  {
   "cell_type": "code",
   "execution_count": null,
   "metadata": {},
   "outputs": [],
   "source": []
  },
  {
   "cell_type": "code",
   "execution_count": null,
   "metadata": {},
   "outputs": [],
   "source": []
  },
  {
   "cell_type": "code",
   "execution_count": null,
   "metadata": {},
   "outputs": [],
   "source": []
  },
  {
   "cell_type": "code",
   "execution_count": null,
   "metadata": {},
   "outputs": [],
   "source": []
  },
  {
   "cell_type": "code",
   "execution_count": null,
   "metadata": {},
   "outputs": [],
   "source": []
  },
  {
   "cell_type": "code",
   "execution_count": null,
   "metadata": {},
   "outputs": [],
   "source": []
  },
  {
   "cell_type": "code",
   "execution_count": null,
   "metadata": {},
   "outputs": [],
   "source": []
  },
  {
   "cell_type": "code",
   "execution_count": null,
   "metadata": {},
   "outputs": [],
   "source": []
  },
  {
   "cell_type": "code",
   "execution_count": null,
   "metadata": {},
   "outputs": [],
   "source": []
  }
 ],
 "metadata": {
  "kernelspec": {
   "display_name": "Python 3",
   "language": "python",
   "name": "python3"
  },
  "language_info": {
   "codemirror_mode": {
    "name": "ipython",
    "version": 3
   },
   "file_extension": ".py",
   "mimetype": "text/x-python",
   "name": "python",
   "nbconvert_exporter": "python",
   "pygments_lexer": "ipython3",
   "version": "3.8.5"
  }
 },
 "nbformat": 4,
 "nbformat_minor": 4
}

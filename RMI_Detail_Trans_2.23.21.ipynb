{
 "cells": [
  {
   "cell_type": "markdown",
   "metadata": {},
   "source": [
    "# RMI Detail Transactions Project"
   ]
  },
  {
   "cell_type": "markdown",
   "metadata": {},
   "source": [
    "## 1.  Load Transactional Data, load packages, and convert to Dataframes\n",
    "\n",
    "I am using two reports from Netsuite to populate this data:  Lists/Employees --> Run report without filters all set to \"All\".\n",
    "\n",
    "Search in Netsuite search bar usings \"sea\" for Adaptive Transaction Search - P&L - Jeremy\n",
    "\n",
    "![title](img/picture.jpg)"
   ]
  },
  {
   "cell_type": "code",
   "execution_count": 1,
   "metadata": {},
   "outputs": [],
   "source": [
    "import pandas as pd\n",
    "import numpy as np"
   ]
  },
  {
   "cell_type": "code",
   "execution_count": 2,
   "metadata": {},
   "outputs": [],
   "source": [
    "from xml.sax import ContentHandler, parse\n",
    "\n",
    "# Reference https://goo.gl/KaOBG3\n",
    "class ExcelHandler(ContentHandler):\n",
    "    def __init__(self):\n",
    "        self.chars = [  ]\n",
    "        self.cells = [  ]\n",
    "        self.rows = [  ]\n",
    "        self.tables = [  ]\n",
    "    def characters(self, content):\n",
    "        self.chars.append(content)\n",
    "    def startElement(self, name, atts):\n",
    "        if name==\"Cell\":\n",
    "            self.chars = [  ]\n",
    "        elif name==\"Row\":\n",
    "            self.cells=[  ]\n",
    "        elif name==\"Table\":\n",
    "            self.rows = [  ]\n",
    "    def endElement(self, name):\n",
    "        if name==\"Cell\":\n",
    "            self.cells.append(''.join(self.chars))\n",
    "        elif name==\"Row\":\n",
    "            self.rows.append(self.cells)\n",
    "        elif name==\"Table\":\n",
    "            self.tables.append(self.rows)\n",
    "\n",
    "excelHandler = ExcelHandler()\n",
    "parse('../Data/raw/ADAPTIVETransactionSearchPLJeremyResults849.xls', excelHandler)\n",
    "df1 = pd.DataFrame(excelHandler.tables[0][1:], columns=excelHandler.tables[0][0])\n",
    "\n"
   ]
  },
  {
   "cell_type": "code",
   "execution_count": 3,
   "metadata": {},
   "outputs": [
    {
     "data": {
      "text/html": [
       "<div>\n",
       "<style scoped>\n",
       "    .dataframe tbody tr th:only-of-type {\n",
       "        vertical-align: middle;\n",
       "    }\n",
       "\n",
       "    .dataframe tbody tr th {\n",
       "        vertical-align: top;\n",
       "    }\n",
       "\n",
       "    .dataframe thead th {\n",
       "        text-align: right;\n",
       "    }\n",
       "</style>\n",
       "<table border=\"1\" class=\"dataframe\">\n",
       "  <thead>\n",
       "    <tr style=\"text-align: right;\">\n",
       "      <th></th>\n",
       "      <th>Date</th>\n",
       "      <th>Period</th>\n",
       "      <th>GL Account</th>\n",
       "      <th>Document Number</th>\n",
       "      <th>Program</th>\n",
       "      <th>Initiative</th>\n",
       "      <th>Project</th>\n",
       "      <th>Restriction</th>\n",
       "      <th>Grant</th>\n",
       "      <th>Amount</th>\n",
       "      <th>Vendor Name</th>\n",
       "      <th>Employee Name</th>\n",
       "      <th>Memo</th>\n",
       "      <th>Amount (Credit)</th>\n",
       "      <th>Amount (Debit)</th>\n",
       "      <th>Client</th>\n",
       "      <th>Transaction Number</th>\n",
       "      <th>Type</th>\n",
       "      <th>Vendor Rate</th>\n",
       "      <th>Vendor Contract Expiration Date</th>\n",
       "    </tr>\n",
       "  </thead>\n",
       "  <tbody>\n",
       "    <tr>\n",
       "      <th>0</th>\n",
       "      <td>2020-07-01T00:00:00</td>\n",
       "      <td>Jul 2020</td>\n",
       "      <td>5010 Contributions Revenue : Foundation Contri...</td>\n",
       "      <td>JE5152</td>\n",
       "      <td>Development</td>\n",
       "      <td>DEV - Admin</td>\n",
       "      <td>Donation : Donation</td>\n",
       "      <td>2-Temporary Restricted</td>\n",
       "      <td>WRI - Islands FY20</td>\n",
       "      <td>50000.00</td>\n",
       "      <td></td>\n",
       "      <td></td>\n",
       "      <td>WRI - Islands FY20</td>\n",
       "      <td>50000.00</td>\n",
       "      <td></td>\n",
       "      <td></td>\n",
       "      <td>JOURNAL5152</td>\n",
       "      <td>Journal</td>\n",
       "      <td></td>\n",
       "      <td></td>\n",
       "    </tr>\n",
       "    <tr>\n",
       "      <th>1</th>\n",
       "      <td>2020-09-30T00:00:00</td>\n",
       "      <td>Sep 2020</td>\n",
       "      <td>5010 Contributions Revenue : Foundation Contri...</td>\n",
       "      <td>JE5424</td>\n",
       "      <td>Development</td>\n",
       "      <td>DEV - Admin</td>\n",
       "      <td>Donation : Donation</td>\n",
       "      <td>2-Temporary Restricted</td>\n",
       "      <td>WRI - Islands FY20</td>\n",
       "      <td>50000.00</td>\n",
       "      <td></td>\n",
       "      <td></td>\n",
       "      <td>WRI - Islands FY20</td>\n",
       "      <td>50000.00</td>\n",
       "      <td></td>\n",
       "      <td></td>\n",
       "      <td>JOURNAL5424</td>\n",
       "      <td>Journal</td>\n",
       "      <td></td>\n",
       "      <td></td>\n",
       "    </tr>\n",
       "    <tr>\n",
       "      <th>2</th>\n",
       "      <td>2020-10-31T00:00:00</td>\n",
       "      <td>Oct 2020</td>\n",
       "      <td>5010 Contributions Revenue : Foundation Contri...</td>\n",
       "      <td>JE5578</td>\n",
       "      <td>Development</td>\n",
       "      <td>DEV - Admin</td>\n",
       "      <td>Donation : Donation</td>\n",
       "      <td>2-Temporary Restricted</td>\n",
       "      <td>WRI - Islands FY20</td>\n",
       "      <td>150000.00</td>\n",
       "      <td></td>\n",
       "      <td></td>\n",
       "      <td>WRI - Islands FY20</td>\n",
       "      <td>150000.00</td>\n",
       "      <td></td>\n",
       "      <td></td>\n",
       "      <td>JOURNAL5578</td>\n",
       "      <td>Journal</td>\n",
       "      <td></td>\n",
       "      <td></td>\n",
       "    </tr>\n",
       "    <tr>\n",
       "      <th>3</th>\n",
       "      <td>2020-07-31T00:00:00</td>\n",
       "      <td>Jul 2020</td>\n",
       "      <td>7020 Salaries &amp; Wages : Salaries &amp; Wages</td>\n",
       "      <td>JE5137</td>\n",
       "      <td>Islands</td>\n",
       "      <td>IS - Islands</td>\n",
       "      <td>*Restricted : NDC Partnerships CAEP - Belize</td>\n",
       "      <td>1-Unrestricted</td>\n",
       "      <td>WRI - Islands FY20</td>\n",
       "      <td>242.53</td>\n",
       "      <td></td>\n",
       "      <td></td>\n",
       "      <td>JULY 2020 000626 Sidney Jules *Restricted : ND...</td>\n",
       "      <td></td>\n",
       "      <td>242.53</td>\n",
       "      <td></td>\n",
       "      <td>JOURNAL5137</td>\n",
       "      <td>Journal</td>\n",
       "      <td></td>\n",
       "      <td></td>\n",
       "    </tr>\n",
       "    <tr>\n",
       "      <th>4</th>\n",
       "      <td>2020-07-31T00:00:00</td>\n",
       "      <td>Jul 2020</td>\n",
       "      <td>7020 Salaries &amp; Wages : Salaries &amp; Wages</td>\n",
       "      <td>JE5137</td>\n",
       "      <td>Islands</td>\n",
       "      <td>IS - Islands</td>\n",
       "      <td>*Restricted : NDC Partnerships CAEP - Belize</td>\n",
       "      <td>1-Unrestricted</td>\n",
       "      <td>WRI - Islands FY20</td>\n",
       "      <td>2740.03</td>\n",
       "      <td></td>\n",
       "      <td></td>\n",
       "      <td>JULY 2020 000877 Shelley Backstrom *Restricted...</td>\n",
       "      <td></td>\n",
       "      <td>2740.03</td>\n",
       "      <td></td>\n",
       "      <td>JOURNAL5137</td>\n",
       "      <td>Journal</td>\n",
       "      <td></td>\n",
       "      <td></td>\n",
       "    </tr>\n",
       "  </tbody>\n",
       "</table>\n",
       "</div>"
      ],
      "text/plain": [
       "                  Date    Period  \\\n",
       "0  2020-07-01T00:00:00  Jul 2020   \n",
       "1  2020-09-30T00:00:00  Sep 2020   \n",
       "2  2020-10-31T00:00:00  Oct 2020   \n",
       "3  2020-07-31T00:00:00  Jul 2020   \n",
       "4  2020-07-31T00:00:00  Jul 2020   \n",
       "\n",
       "                                          GL Account Document Number  \\\n",
       "0  5010 Contributions Revenue : Foundation Contri...          JE5152   \n",
       "1  5010 Contributions Revenue : Foundation Contri...          JE5424   \n",
       "2  5010 Contributions Revenue : Foundation Contri...          JE5578   \n",
       "3           7020 Salaries & Wages : Salaries & Wages          JE5137   \n",
       "4           7020 Salaries & Wages : Salaries & Wages          JE5137   \n",
       "\n",
       "       Program    Initiative                                       Project  \\\n",
       "0  Development   DEV - Admin                           Donation : Donation   \n",
       "1  Development   DEV - Admin                           Donation : Donation   \n",
       "2  Development   DEV - Admin                           Donation : Donation   \n",
       "3      Islands  IS - Islands  *Restricted : NDC Partnerships CAEP - Belize   \n",
       "4      Islands  IS - Islands  *Restricted : NDC Partnerships CAEP - Belize   \n",
       "\n",
       "              Restriction               Grant     Amount Vendor Name  \\\n",
       "0  2-Temporary Restricted  WRI - Islands FY20   50000.00               \n",
       "1  2-Temporary Restricted  WRI - Islands FY20   50000.00               \n",
       "2  2-Temporary Restricted  WRI - Islands FY20  150000.00               \n",
       "3          1-Unrestricted  WRI - Islands FY20     242.53               \n",
       "4          1-Unrestricted  WRI - Islands FY20    2740.03               \n",
       "\n",
       "  Employee Name                                               Memo  \\\n",
       "0                                               WRI - Islands FY20   \n",
       "1                                               WRI - Islands FY20   \n",
       "2                                               WRI - Islands FY20   \n",
       "3                JULY 2020 000626 Sidney Jules *Restricted : ND...   \n",
       "4                JULY 2020 000877 Shelley Backstrom *Restricted...   \n",
       "\n",
       "  Amount (Credit) Amount (Debit) Client Transaction Number     Type  \\\n",
       "0        50000.00                              JOURNAL5152  Journal   \n",
       "1        50000.00                              JOURNAL5424  Journal   \n",
       "2       150000.00                              JOURNAL5578  Journal   \n",
       "3                         242.53               JOURNAL5137  Journal   \n",
       "4                        2740.03               JOURNAL5137  Journal   \n",
       "\n",
       "  Vendor Rate Vendor Contract Expiration Date  \n",
       "0                                              \n",
       "1                                              \n",
       "2                                              \n",
       "3                                              \n",
       "4                                              "
      ]
     },
     "execution_count": 3,
     "metadata": {},
     "output_type": "execute_result"
    }
   ],
   "source": [
    "df1.head()"
   ]
  },
  {
   "cell_type": "code",
   "execution_count": 4,
   "metadata": {},
   "outputs": [],
   "source": [
    "excelHandler = ExcelHandler()\n",
    "parse('../Data/raw/Employees621.xls', excelHandler)\n",
    "employee_list = pd.DataFrame(excelHandler.tables[0][1:], columns=excelHandler.tables[0][0])\n"
   ]
  },
  {
   "cell_type": "code",
   "execution_count": 5,
   "metadata": {},
   "outputs": [
    {
     "data": {
      "text/html": [
       "<div>\n",
       "<style scoped>\n",
       "    .dataframe tbody tr th:only-of-type {\n",
       "        vertical-align: middle;\n",
       "    }\n",
       "\n",
       "    .dataframe tbody tr th {\n",
       "        vertical-align: top;\n",
       "    }\n",
       "\n",
       "    .dataframe thead th {\n",
       "        text-align: right;\n",
       "    }\n",
       "</style>\n",
       "<table border=\"1\" class=\"dataframe\">\n",
       "  <thead>\n",
       "    <tr style=\"text-align: right;\">\n",
       "      <th></th>\n",
       "      <th>Inactive</th>\n",
       "      <th>Internal ID</th>\n",
       "      <th>Name</th>\n",
       "      <th>Job Title</th>\n",
       "      <th>Program</th>\n",
       "      <th>Monthly Bonus Amount</th>\n",
       "      <th>Initiatives</th>\n",
       "      <th>Termination/Release Date</th>\n",
       "      <th>Hourly Rate</th>\n",
       "      <th>External ID</th>\n",
       "    </tr>\n",
       "  </thead>\n",
       "  <tbody>\n",
       "    <tr>\n",
       "      <th>0</th>\n",
       "      <td>No</td>\n",
       "      <td>94538</td>\n",
       "      <td>Aaron Davitt</td>\n",
       "      <td>Principal Analyst</td>\n",
       "      <td>WattTime</td>\n",
       "      <td></td>\n",
       "      <td>WAT - Admin</td>\n",
       "      <td></td>\n",
       "      <td></td>\n",
       "      <td>000978</td>\n",
       "    </tr>\n",
       "    <tr>\n",
       "      <th>1</th>\n",
       "      <td>No</td>\n",
       "      <td>45398</td>\n",
       "      <td>Aaron G Glazer</td>\n",
       "      <td>Associate</td>\n",
       "      <td>Carbon-Free Electricity</td>\n",
       "      <td>200.00</td>\n",
       "      <td>POW - Admin</td>\n",
       "      <td></td>\n",
       "      <td></td>\n",
       "      <td>000802</td>\n",
       "    </tr>\n",
       "    <tr>\n",
       "      <th>2</th>\n",
       "      <td>No</td>\n",
       "      <td>93272</td>\n",
       "      <td>Aaron Schwartz</td>\n",
       "      <td>Intern</td>\n",
       "      <td>Carbon-Free Electricity</td>\n",
       "      <td></td>\n",
       "      <td>POW - Admin</td>\n",
       "      <td>2020-09-04T00:00:00</td>\n",
       "      <td></td>\n",
       "      <td>000937</td>\n",
       "    </tr>\n",
       "    <tr>\n",
       "      <th>3</th>\n",
       "      <td>No</td>\n",
       "      <td>92131</td>\n",
       "      <td>Abhishek Jain</td>\n",
       "      <td>Intern</td>\n",
       "      <td>Carbon-Free Buildings</td>\n",
       "      <td>.00</td>\n",
       "      <td>BLD - Admin</td>\n",
       "      <td>2020-10-31T00:00:00</td>\n",
       "      <td></td>\n",
       "      <td>000943</td>\n",
       "    </tr>\n",
       "    <tr>\n",
       "      <th>4</th>\n",
       "      <td>No</td>\n",
       "      <td>3793</td>\n",
       "      <td>Adam Klauber</td>\n",
       "      <td>Director</td>\n",
       "      <td>Industry</td>\n",
       "      <td></td>\n",
       "      <td>INY - Admin</td>\n",
       "      <td>2019-05-17T00:00:00</td>\n",
       "      <td></td>\n",
       "      <td>000524</td>\n",
       "    </tr>\n",
       "  </tbody>\n",
       "</table>\n",
       "</div>"
      ],
      "text/plain": [
       "  Inactive Internal ID            Name          Job Title  \\\n",
       "0       No       94538    Aaron Davitt  Principal Analyst   \n",
       "1       No       45398  Aaron G Glazer          Associate   \n",
       "2       No       93272  Aaron Schwartz             Intern   \n",
       "3       No       92131   Abhishek Jain             Intern   \n",
       "4       No        3793    Adam Klauber           Director   \n",
       "\n",
       "                   Program Monthly Bonus Amount  Initiatives  \\\n",
       "0                 WattTime                       WAT - Admin   \n",
       "1  Carbon-Free Electricity               200.00  POW - Admin   \n",
       "2  Carbon-Free Electricity                       POW - Admin   \n",
       "3    Carbon-Free Buildings                  .00  BLD - Admin   \n",
       "4                 Industry                       INY - Admin   \n",
       "\n",
       "  Termination/Release Date Hourly Rate External ID  \n",
       "0                                           000978  \n",
       "1                                           000802  \n",
       "2      2020-09-04T00:00:00                  000937  \n",
       "3      2020-10-31T00:00:00                  000943  \n",
       "4      2019-05-17T00:00:00                  000524  "
      ]
     },
     "execution_count": 5,
     "metadata": {},
     "output_type": "execute_result"
    }
   ],
   "source": [
    "employee_list.head()"
   ]
  },
  {
   "cell_type": "markdown",
   "metadata": {},
   "source": [
    "## 2. Data Manipulation\n",
    "\n",
    "In this section I start manipulting these datasets into somethign more digestable for the end user.  The main manipulation I am doing in this seciton is pulling information out of the \"Memo\" field that users may want to see seperately."
   ]
  },
  {
   "cell_type": "code",
   "execution_count": 6,
   "metadata": {},
   "outputs": [],
   "source": [
    "EmployeeNameandID = employee_list[['Name', 'External ID', 'Job Title']]"
   ]
  },
  {
   "cell_type": "code",
   "execution_count": 7,
   "metadata": {},
   "outputs": [
    {
     "name": "stderr",
     "output_type": "stream",
     "text": [
      "C:\\Users\\Jeremy Wendt\\anaconda3\\lib\\site-packages\\pandas\\core\\series.py:4563: SettingWithCopyWarning: \n",
      "A value is trying to be set on a copy of a slice from a DataFrame\n",
      "\n",
      "See the caveats in the documentation: https://pandas.pydata.org/pandas-docs/stable/user_guide/indexing.html#returning-a-view-versus-a-copy\n",
      "  return super().replace(\n"
     ]
    }
   ],
   "source": [
    "EmployeeNameandID['External ID'].replace('', np.nan, inplace=True)"
   ]
  },
  {
   "cell_type": "code",
   "execution_count": 8,
   "metadata": {},
   "outputs": [
    {
     "data": {
      "text/plain": [
       "497"
      ]
     },
     "execution_count": 8,
     "metadata": {},
     "output_type": "execute_result"
    }
   ],
   "source": [
    "len(EmployeeNameandID)"
   ]
  },
  {
   "cell_type": "code",
   "execution_count": 9,
   "metadata": {},
   "outputs": [],
   "source": [
    "#EmployeeNameandID.to_excel('originallist.xlsx')"
   ]
  },
  {
   "cell_type": "code",
   "execution_count": 10,
   "metadata": {},
   "outputs": [],
   "source": [
    "employee_id_list = employee_list['External ID'].tolist()"
   ]
  },
  {
   "cell_type": "code",
   "execution_count": 11,
   "metadata": {},
   "outputs": [],
   "source": [
    "employee_id_list = list(filter(None, employee_id_list))"
   ]
  },
  {
   "cell_type": "code",
   "execution_count": 12,
   "metadata": {},
   "outputs": [
    {
     "name": "stdout",
     "output_type": "stream",
     "text": [
      "453\n"
     ]
    }
   ],
   "source": [
    "print(len(employee_id_list))"
   ]
  },
  {
   "cell_type": "code",
   "execution_count": 13,
   "metadata": {},
   "outputs": [],
   "source": [
    "df1['Memo'] = df1['Memo'].astype('string')"
   ]
  },
  {
   "cell_type": "code",
   "execution_count": 14,
   "metadata": {},
   "outputs": [
    {
     "data": {
      "text/plain": [
       "Date                               object\n",
       "Period                             object\n",
       "GL Account                         object\n",
       "Document Number                    object\n",
       "Program                            object\n",
       "Initiative                         object\n",
       "Project                            object\n",
       "Restriction                        object\n",
       "Grant                              object\n",
       "Amount                             object\n",
       "Vendor Name                        object\n",
       "Employee Name                      object\n",
       "Memo                               string\n",
       "Amount (Credit)                    object\n",
       "Amount (Debit)                     object\n",
       "Client                             object\n",
       "Transaction Number                 object\n",
       "Type                               object\n",
       "Vendor Rate                        object\n",
       "Vendor Contract Expiration Date    object\n",
       "dtype: object"
      ]
     },
     "execution_count": 14,
     "metadata": {},
     "output_type": "execute_result"
    }
   ],
   "source": [
    "df1.dtypes"
   ]
  },
  {
   "cell_type": "code",
   "execution_count": 15,
   "metadata": {},
   "outputs": [],
   "source": [
    "all_ids = '|'.join(employee_id_list)"
   ]
  },
  {
   "cell_type": "code",
   "execution_count": 16,
   "metadata": {},
   "outputs": [
    {
     "data": {
      "text/plain": [
       "'000978|000802|000937|000943|000524|000631|001029|000952|000663|000981|000847|000945|000586|000620|000583|000622|000549|000550|000891|000977|000639|000563|000558|000447|000832|000913|000878|000935|000106|001042|000453|000902|000539|000409|000595|000614|000574|000831|001012|000658|000889|000973|000554|000926|000499|000502|000951|000907|000863|000931|000885|000850|000919|000846|000638|001030|000229|000967|000972|000629|000476|000914|000572|000918|000293|000893|001041|000936|000816|000879|000856|000635|000920|001028|000456|000131|000589|000827|000646|000566|000274|000569|000641|000826|000649|000851|000818|000912|000601|000437|000867|000580|000581|000403|000623|001017|000896|000643|000634|000472|000520|001022|000655|000815|000911|000984|000388|000895|000323|000624|000954|000849|000157|000823|000458|000890|000382|000428|000531|000479|001004|000396|000664|000400|000657|001033|000480|000616|000408|000840|000988|000291|000559|000908|000821|000363|000933|000604|000401|000613|000905|000215|000445|001003|000925|000214|000651|000246|000598|000272|001013|000603|000415|000946|000579|000240|000991|000955|000804|000940|000844|000910|000985|000405|000578|000621|001014|000969|000610|000924|000894|000584|000301|000852|000391|000593|000544|000256|000611|000442|000625|000482|000439|000561|000899|000993|000511|000845|000886|000959|000386|000837|000645|000302|000864|000322|000543|000446|000127|000510|000533|000588|000862|000530|000968|001015|000420|000297|000560|000822|000617|000842|000808|000803|001016|001002|000953|000342|000987|000875|000929|000481|000303|000811|000974|000402|000836|000650|000971|000465|000900|000553|000443|000904|000587|000835|000605|000903|000504|000538|000555|000843|000360|000508|000656|000868|000870|000474|001005|000433|000223|000444|000661|000982|000378|000547|000503|000861|000970|000975|000371|000986|000869|000630|001011|000534|001008|000575|000522|000807|000640|000590|000385|000906|000591|000654|000364|000122|000881|000948|000475|000540|000932|000883|000532|000965|000647|000950|000425|000637|000956|001001|001032|000506|000949|000493|000898|000232|000463|000612|000568|000507|000909|000546|000392|000107|000659|000577|000436|000813|000892|000865|000958|000627|000262|000619|000876|000901|000990|000941|000888|000225|000942|000478|000536|000599|000565|000636|000665|000994|000596|000648|000897|000997|000939|000947|000618|001027|000576|001000|000527|001025|000607|000801|000833|000542|000564|000512|000594|000535|000394|000957|000817|000500|000602|000570|000556|000820|000928|000264|000999|000642|000592|000548|000829|000267|000389|000567|000653|000340|000830|000311|000998|000517|000652|000573|000551|000150|001043|000557|000809|000632|000597|000930|001006|001007|000628|000834|000585|000552|001024|000887|000660|000562|000541|000608|000916|000606|000877|000921|000545|000996|000626|000806|000828|000917|000860|000571|000393|000449|000838|000934|000814|000866|000841|000966|000839|000633|000983|000882|001009|999999|000609|000529|000944|001010|000938|000615|000413|000537|000992|000518|000819|000644|000130|001031|000124|000116|000880|000923|000927|000884|000423|000848|000582|000411|000989|000872|000600|000976|000922|000424|000980'"
      ]
     },
     "execution_count": 16,
     "metadata": {},
     "output_type": "execute_result"
    }
   ],
   "source": [
    "all_ids"
   ]
  },
  {
   "cell_type": "code",
   "execution_count": 17,
   "metadata": {},
   "outputs": [],
   "source": [
    "def return_first(x):\n",
    "    try:\n",
    "        y = x[0]\n",
    "    except:\n",
    "        y = \"\"\n",
    "    return y"
   ]
  },
  {
   "cell_type": "code",
   "execution_count": 18,
   "metadata": {},
   "outputs": [],
   "source": [
    "df1['External ID'] = df1['Memo'].str.findall(all_ids).apply(return_first)"
   ]
  },
  {
   "cell_type": "code",
   "execution_count": 19,
   "metadata": {},
   "outputs": [],
   "source": [
    "employee_name_list = employee_list['Name'].tolist()"
   ]
  },
  {
   "cell_type": "code",
   "execution_count": 20,
   "metadata": {},
   "outputs": [],
   "source": [
    "employee_name_list = list(filter(None, employee_name_list))"
   ]
  },
  {
   "cell_type": "code",
   "execution_count": 21,
   "metadata": {},
   "outputs": [],
   "source": [
    "all_names = '|'.join(employee_name_list)"
   ]
  },
  {
   "cell_type": "code",
   "execution_count": 22,
   "metadata": {},
   "outputs": [
    {
     "data": {
      "text/plain": [
       "'Aaron Davitt|Aaron G Glazer|Aaron Schwartz|Abhishek Jain|Adam Klauber|Adam McKittrick|Adefunke Sonaike|Adriana Cid|Agnes Li|Ailin Asadinejad|Aimee Schwartze|Aishwarya Jaishankar|Akshay Krishnan|Alexander Engel|Alexander J Prince|Alexander Klonick|Alexandra Chin|Alexandra Rotatori|Alexandra Tsubota|Alexis Tubb|Ali Kargar|Alicia Noriega|Alisa Petersen|Allison Crow|Aman Chitkara|Amanda Farthing|Amar Shah|Ambrosia Gensterblum|Amit Halevi|Amory Lovins|Amos Zerah|Amy Baum|Amy Dalton|Amy Egerter|Amy Westervelt|Ana  S Mifsud|Andrew Keeton|Angela Whitney|Angelique Fathy|Anish Tilak|Ankit Kalanki|Anna  Ledden|Anna Palmer|Annabelle Sullivan|Annalise Grueter|Annis Benn|Anthony Teixeira|Aparna Ramesh|Aradhana Gahlaut|Ashley  Wiles|Ashley Gremel|Ashley Tate|Audrey Allen|Audrey Rempher|Avery McEvoy|Avril Levasseur|Ben  Shapiro|Ben Holland|Ben Miller|Ben Serrurier|Benjamin Miller|Bianca Wachtel|Billy Mwanda|Bingqi Liu|Blair Swift|Bonny Joseph|Brad Mushovic|Brady Seals|Brant W Richards|Brent Butler|Brett Webster|Brian O\\'Hanlon|Britta Gross|Bruce Nilles|Bryan Hassin|Caitlin Bonney|Caitlin Odom|Calista Ruh|Cara Carmichael|Cara Goldenberg|Carla Dunlap|Carla M Frisch|Carlyn Nading|Carol Nasta|Caroline Ott|Caroline Winslow|Caroline Zhu|Carolyn Hight|Charles  Teplin|Charles Bloch|Charles Cannon|Chathurika Gamage|Chelsea Bolton|Chelsea Samot|Cheng Zhang|Chiel Borenstein|Chinedum E Ezeagwula|Chris McClurg|Chris T Tallackson|Christian  Fong|Christian Roselund|Christine Phan|Christopher Bowman|Christopher Burgess|Christopher Nelder|Christopher Patino|Christy Lewis|Chuck Ray|Chung Im|Chuyun Zeng|Cindy Nguyen|Claire Henly|Claire McKenna|Claire Wang|Clarisse Lilley|Clay Stranger|Concur Integration|Connor Cox|Connor Usry|Connor Valaik|Coreina Chan|Cory Felder|Courtney Fairbrother|Courtney Fieldman|Craig Schiller|Curtis Probst|Cynthia Baker|Cynthia Ma|Cyril Yee|Dai Lin|Daniel Cross-Call|Daniel L Slanger|Daniel Wetzel|Danielle Li|Darius Nassiry|Datamigration User|David Gumbs|David Labrador|David Levy|David Mullaney|David Paolella|David Robles|David Schlais|Debra Giallombardo|Denali Hussin|Denise Grab|Denise T Greene|Derek Hitchman|Devi Glick|Diego Hakim|Donna Breight|Douglas Miller|Ebunoluwa Ayandele|Edith Taylor|Edward Harvey|Edward Klock-McCook|Edward Whitaker|Elaine Hsieh|Elizabeth After|Elizabeth Hartman|Elizabeth Leach|Elizabeth O\\'Grady|Ellen Franconi|Emily Beagle|Emily Davenport|Emily Goldfield|Emily McMahon|Emily Zhang|Eric Braswell|Eric Wanless|Erifili Draklellis|Estefania Marchan|Ethan Wampler|Evan Syers|Fang Feng|Frances Reuland|Gabriela De Oliveira Volpato|Garrett Fitzgerald|Gavin McCormick|Genevieve Lillis|Gennelle  Wilson|Geoff Hancock|Grace Mitchell|Grace Sweeney|Greg \"Jerry\" Hales|Greg Bohus|Gregory Hopkins|Gregory Rucks|Guy Wohl|Han Cai|Hayes Zirnhelt|Heather House|Heather McCreery|Hector Maglione|Helen  Zhang|Henry Richardson|Herve Touati|Holly Leonard|Iain Campbell|Ian T Kelly|Integrations User|Isaac Toussie|Ishan Saraswat|Jacob  Trumbull|Jacob Corvidae|Jacob Glassman|Jacob Mueller|James Gilman|James Mandel|James McLane|James Mitchell|James Newcomb|James Rohman|James Sherwood|Jamil Farbes|Jason Meyer|Jeannene Cruise Woolley|Jeffrey Waller|Jennifer Childs|Jennifer Gilley|Jennifer Goldman|Jennifer Stokes|Jeremy Freeman|Jeremy Wendt|Jeruld Weiland|Jesse Morris|Jessica Lund|Jessie Ciulla|Ji Chen|Jiayi Zhang|Jiayin Song|Joanna Unruh|Joanna Wagner|Joel Cofield|Joey  Cathcart|John Matson|John Perez|John Schroeder|Jon Creyts|Jonathan Kocher|Jonathan Rea|Jose E Rodriguez Jimenez|Joseph Goodman|Joshua Agenbroad|Joshua Brooks|Jubing Ge|Jules Kortenhorst|Julia Hofmann|Julia Meisel|Jun Shepard|Justin Locke|Kaily Bourg|Kaitlin Wutschel|Kaitlyn Bunker|Kaja Rebane|Kareem Dabbagh|Kareem Hammoud|Katelyn Searcy|Katerina Stephan|Katherine Chrisman|Katherine Mark|Kathleen Baireuther|Kathleen Mulvaney|Kathleen Wight|Kathryn Lau|Katie Ryan|Katie Siegner|Katrina  M Frank|Katya Whyte|Keenan Johnson|Kelly Carlin|Kelly Vaughn|Kendall Ernst|Kester Wade|Keto Zhang|Kevin Brehm|Kevin Haley|Kieran Coleman|Kiley Kroh|Kirsten Millar|Kirsten Seeborg|Koben Calhoun|Krishna Karra|Kristine Chan-Lizardo|Krutarth Jhaveri|Kyle Clark-Sutton|Lara Johnson|Lara Owens|Larissa Pauli|Lars Thomas Koch Blank|Laura Corso|Laura Hutchinson|Lauren Shwisberg|Laurie A Stone|Leah Louis-Prescott|Leah Mosier|Lee Ann Baronett|Leia Guccione|Lena Hansen|Lena Nguyen|Liam Keyek|Lily Donge|Lindsey Chew|Lindsey Schafferer|Lisa Jaccoma|Lisa Phillips|Lisa Sundeen|Lucas Toffoli|Lucy Kessler|Lucy Lu|Luke Liechty|Lynn Daniels|Madeline Tyson|Madeline Weir|Maggie Buford|Manfei He|Marc Johnson|Margaret McCall|Maria Hernandez|Marijke Jongbloed|Marj Webster|Mark Dyson|Mark Grundy|Mark Kelkenberg|Mark Porter|Mark Silberg|Marsha Barancik|Marshall Abramczyk|Martha Campbell|Martha Pickett|Mary McInnis-Efaw|Matthew Evans|Matthew Jungclaus|Matthew Popkin|Maura Lillis|Maura Mooney|Maximiliano Herrera|Megan Kerins|Megan Shean|Melanie Richard|Melissa Crogle|Melissa Roberts|Meng Wang|Meredith Cowart|Mia Reback|Michael Banker|Michael Bendewald|Michael Campton|Michael Gartman|Michael Henchen|Michael Liebman|Michael Roeth|Michael Tuckfelt|Michelle Steege|Mina Lee|Miranda  A Ballentine|Misty Burns|Molly Keleher|Nancy McKinney|Nathan Iyer|Nathaniel Buescher|Nicholas Amuchastegui|Nicholas Pesta|Nicholas Steel|Nicole Leonard|Nicole Martin|Nicole Simonelli|Nicole Snider|Nicole Tilley|Oliver Tully|Pamela Schuckies|Pamela Turpin|Paolo Natali|Patrick Molloy|Paul Bodnar|Philip Keuhn|Pintian Chen|Pranav Lakhina|Qian Sun|Qiyu Liu|Rachel Gold|Rachel T Hohensee|Rachit Kansal|Radhika Lalit|Raghav Muralidharan|Raghuram Sunnam|Rebecca Cole|Rebecca Esau|Rebecca Pimentel|Richard Li|Richard Ward|Richenda Van Leeuwen|Richlyn C Pavcek|Robert McIntosh|Roberto Zanchi|Robin Quarrier|Romy Purshouse|Rosanna Ren|Roy Torbert|Rudy Kahsar|Ruosida Lin|Ruoyao Zhang|Rushad Nanavatty|Ruth Karagacha|Ruthanne S Elkins|Ryan Foelske|Ryan Laemel|Ryan Shea|S Chillara|Saarthak Narsipur|Sachiko H Graber|Sakhi Shah|Sally Jernigan-Smith|Sam Koebrich|Sam Mardell|Sam Peters|Samhita Shiledar|Samuel Hartnett|Santia Desir|Sarah La Monaca|Savannah Bornstein|Scarlett Santana|Selena Wang-Thomas|Seth Coan|Sha Liu|Sharon Posner|Sheldon Mendonca|Shelley Backstrom|ShenShen Li|Sherri Billimoria|Shidong Zhang|Shravan Bhat|Shuyi Li|Sidney Jules|Siri Chillara|Sneha Ayyagari|Srilekha Sridhar|Stephanie Greene|Stephanie Krail|Stephen Abbott|Stephen Doig|Stephen Lezak|Stephen McShane|Stephen Mushegan|Suguru Ide|Sumin Wang|Suzanne Hopkins|Swaroop Atnoorkar|Sydney Hanson|Talor Gruenwald|Tamara Grbusic|Tessa Weiss|Testing Hedgehog|Thomas  Kirk|Thomas Doyle|Thomas Hancock|Thomas Kassel|Tian Qiao|Tierney Sheehan|Timithy Singer|Timothy Karfs|Ting Li|Titiaan Palazzi|Todd Zeranski|Tushar Khurana|Tyeler Matsuo|Tzu C Huang|Uday Varadarajan|Veronica Cortes|Victor Olgyay|Vinita Srinivasan|Virginia Lacy|Virginia Yang|Wendell Cathcart|Wendy Jaglom|Wendy McGill|Whitney Luhr|Whitney Mann|Xiang Li|Xilu Li|Xin Zhang|Xinyue Li|Y Liu|Yanjun Wu|Yi Ke|Yihan Hao|Yiyan Cao|Yu Ann Tan|Yuan Yao|Yuning Liu|Zach Alles|Zachary Subin|Zhe Wang|Zhixin Wang|Zihe Meng|Ziying Han|Zora Xiang'"
      ]
     },
     "execution_count": 22,
     "metadata": {},
     "output_type": "execute_result"
    }
   ],
   "source": [
    "all_names"
   ]
  },
  {
   "cell_type": "code",
   "execution_count": 23,
   "metadata": {},
   "outputs": [],
   "source": [
    "all_names = all_names + \"|Agnis Li|Anna Ledden|Greg Hales|Rachel Hohensee|Li Ma\""
   ]
  },
  {
   "cell_type": "code",
   "execution_count": 24,
   "metadata": {},
   "outputs": [],
   "source": [
    "df1['Match ID Names'] = df1['Memo'].str.findall(all_names).apply(return_first)"
   ]
  },
  {
   "cell_type": "code",
   "execution_count": 25,
   "metadata": {},
   "outputs": [],
   "source": [
    "df1 = pd.merge(df1, EmployeeNameandID, on = 'External ID', how='left')"
   ]
  },
  {
   "cell_type": "code",
   "execution_count": 26,
   "metadata": {},
   "outputs": [],
   "source": [
    "df1['Match ID Names'].replace('', np.nan, inplace=True)"
   ]
  },
  {
   "cell_type": "code",
   "execution_count": 27,
   "metadata": {},
   "outputs": [],
   "source": [
    "df1['Name'].replace('', np.nan, inplace=True)"
   ]
  },
  {
   "cell_type": "code",
   "execution_count": 28,
   "metadata": {},
   "outputs": [],
   "source": [
    "df1['Name'].fillna(df1['Match ID Names'], inplace=True)"
   ]
  },
  {
   "cell_type": "code",
   "execution_count": 29,
   "metadata": {},
   "outputs": [],
   "source": [
    "df1['Name'].replace('Agnis Li', 'Agnes Li', inplace=True)\n",
    "df1['Name'].replace('Anna Ledden', 'Anna  Ledden', inplace=True)\n",
    "df1['Name'].replace('Rachel Hohensee', 'Rachel T Hohensee', inplace=True)"
   ]
  },
  {
   "cell_type": "code",
   "execution_count": 30,
   "metadata": {},
   "outputs": [
    {
     "data": {
      "text/plain": [
       "84467"
      ]
     },
     "execution_count": 30,
     "metadata": {},
     "output_type": "execute_result"
    }
   ],
   "source": [
    "len(df1)"
   ]
  },
  {
   "cell_type": "markdown",
   "metadata": {},
   "source": [
    "## Extract Time Allocation From Memo"
   ]
  },
  {
   "cell_type": "code",
   "execution_count": 31,
   "metadata": {},
   "outputs": [],
   "source": [
    "allocations = ['BONUS ALLOCATION', 'ADMIN ALLOCATION', 'PTO/HOLIDAY ALLOCATION']"
   ]
  },
  {
   "cell_type": "code",
   "execution_count": 32,
   "metadata": {},
   "outputs": [],
   "source": [
    "all_allocations = '|'.join(allocations)"
   ]
  },
  {
   "cell_type": "code",
   "execution_count": 33,
   "metadata": {},
   "outputs": [],
   "source": [
    "df1['ALLOCATION'] = df1['Memo'].str.findall(all_allocations).apply(return_first)"
   ]
  },
  {
   "cell_type": "markdown",
   "metadata": {},
   "source": [
    "## Extract Project Fields for Heather's report"
   ]
  },
  {
   "cell_type": "code",
   "execution_count": 34,
   "metadata": {},
   "outputs": [],
   "source": [
    "df1['Project Allocations'] = df1['Project'].str.findall(r'\\[(.*?)\\]').apply(return_first)"
   ]
  },
  {
   "cell_type": "markdown",
   "metadata": {},
   "source": [
    "## Add Rollup Accounts"
   ]
  },
  {
   "cell_type": "code",
   "execution_count": 35,
   "metadata": {},
   "outputs": [],
   "source": [
    "lookups = pd.read_excel('../Data/raw/lookups.xlsx')"
   ]
  },
  {
   "cell_type": "code",
   "execution_count": 36,
   "metadata": {},
   "outputs": [
    {
     "data": {
      "text/html": [
       "<div>\n",
       "<style scoped>\n",
       "    .dataframe tbody tr th:only-of-type {\n",
       "        vertical-align: middle;\n",
       "    }\n",
       "\n",
       "    .dataframe tbody tr th {\n",
       "        vertical-align: top;\n",
       "    }\n",
       "\n",
       "    .dataframe thead th {\n",
       "        text-align: right;\n",
       "    }\n",
       "</style>\n",
       "<table border=\"1\" class=\"dataframe\">\n",
       "  <thead>\n",
       "    <tr style=\"text-align: right;\">\n",
       "      <th></th>\n",
       "      <th>GL Account</th>\n",
       "      <th>Rollup Account</th>\n",
       "    </tr>\n",
       "  </thead>\n",
       "  <tbody>\n",
       "    <tr>\n",
       "      <th>0</th>\n",
       "      <td>5010 Contributions Revenue : Foundation Contri...</td>\n",
       "      <td>5000 Contributions Revenue</td>\n",
       "    </tr>\n",
       "    <tr>\n",
       "      <th>1</th>\n",
       "      <td>5015 Contributions Revenue : Campaign Foundati...</td>\n",
       "      <td>5000 Contributions Revenue</td>\n",
       "    </tr>\n",
       "    <tr>\n",
       "      <th>2</th>\n",
       "      <td>5020 Contributions Revenue : Individual Contri...</td>\n",
       "      <td>5000 Contributions Revenue</td>\n",
       "    </tr>\n",
       "    <tr>\n",
       "      <th>3</th>\n",
       "      <td>5025 Contributions Revenue : Campaign Corporat...</td>\n",
       "      <td>5000 Contributions Revenue</td>\n",
       "    </tr>\n",
       "    <tr>\n",
       "      <th>4</th>\n",
       "      <td>5030 Contributions Revenue : Endowment Contrib...</td>\n",
       "      <td>5000 Contributions Revenue</td>\n",
       "    </tr>\n",
       "  </tbody>\n",
       "</table>\n",
       "</div>"
      ],
      "text/plain": [
       "                                          GL Account  \\\n",
       "0  5010 Contributions Revenue : Foundation Contri...   \n",
       "1  5015 Contributions Revenue : Campaign Foundati...   \n",
       "2  5020 Contributions Revenue : Individual Contri...   \n",
       "3  5025 Contributions Revenue : Campaign Corporat...   \n",
       "4  5030 Contributions Revenue : Endowment Contrib...   \n",
       "\n",
       "               Rollup Account  \n",
       "0  5000 Contributions Revenue  \n",
       "1  5000 Contributions Revenue  \n",
       "2  5000 Contributions Revenue  \n",
       "3  5000 Contributions Revenue  \n",
       "4  5000 Contributions Revenue  "
      ]
     },
     "execution_count": 36,
     "metadata": {},
     "output_type": "execute_result"
    }
   ],
   "source": [
    "lookups.head()"
   ]
  },
  {
   "cell_type": "code",
   "execution_count": 37,
   "metadata": {},
   "outputs": [],
   "source": [
    "df1 = pd.merge(df1, lookups, on = 'GL Account', how='left')"
   ]
  },
  {
   "cell_type": "code",
   "execution_count": 38,
   "metadata": {},
   "outputs": [],
   "source": [
    "df1['Account Digit'] = df1['GL Account'].astype('string').str[0]"
   ]
  },
  {
   "cell_type": "code",
   "execution_count": 39,
   "metadata": {},
   "outputs": [
    {
     "data": {
      "text/plain": [
       "Index(['Date', 'Period', 'GL Account', 'Document Number', 'Program',\n",
       "       'Initiative', 'Project', 'Restriction', 'Grant', 'Amount',\n",
       "       'Vendor Name', 'Employee Name', 'Memo', 'Amount (Credit)',\n",
       "       'Amount (Debit)', 'Client', 'Transaction Number', 'Type', 'Vendor Rate',\n",
       "       'Vendor Contract Expiration Date', 'External ID', 'Match ID Names',\n",
       "       'Name', 'Job Title', 'ALLOCATION', 'Project Allocations',\n",
       "       'Rollup Account', 'Account Digit'],\n",
       "      dtype='object')"
      ]
     },
     "execution_count": 39,
     "metadata": {},
     "output_type": "execute_result"
    }
   ],
   "source": [
    "df1.columns"
   ]
  },
  {
   "cell_type": "code",
   "execution_count": 40,
   "metadata": {},
   "outputs": [],
   "source": [
    "df1['Amount'] = df1['Amount'].astype(float)\n",
    "df1['Amount (Credit)'].replace('', 0, inplace=True)\n",
    "df1['Amount (Debit)'].replace('', 0, inplace=True)\n",
    "df1['Amount (Credit)'] = df1['Amount (Credit)'].astype(float)\n",
    "df1['Amount (Debit)'] = df1['Amount (Debit)'].astype(float)"
   ]
  },
  {
   "cell_type": "code",
   "execution_count": 41,
   "metadata": {},
   "outputs": [
    {
     "data": {
      "text/plain": [
       "Date                                object\n",
       "Period                              object\n",
       "GL Account                          object\n",
       "Document Number                     object\n",
       "Program                             object\n",
       "Initiative                          object\n",
       "Project                             object\n",
       "Restriction                         object\n",
       "Grant                               object\n",
       "Amount                             float64\n",
       "Vendor Name                         object\n",
       "Employee Name                       object\n",
       "Memo                                string\n",
       "Amount (Credit)                    float64\n",
       "Amount (Debit)                     float64\n",
       "Client                              object\n",
       "Transaction Number                  object\n",
       "Type                                object\n",
       "Vendor Rate                         object\n",
       "Vendor Contract Expiration Date     object\n",
       "External ID                         object\n",
       "Match ID Names                      object\n",
       "Name                                object\n",
       "Job Title                           object\n",
       "ALLOCATION                          object\n",
       "Project Allocations                 object\n",
       "Rollup Account                      object\n",
       "Account Digit                       string\n",
       "dtype: object"
      ]
     },
     "execution_count": 41,
     "metadata": {},
     "output_type": "execute_result"
    }
   ],
   "source": [
    "df1.dtypes"
   ]
  },
  {
   "cell_type": "markdown",
   "metadata": {},
   "source": [
    "## Add Reclass Field and Closeout field"
   ]
  },
  {
   "cell_type": "code",
   "execution_count": 42,
   "metadata": {},
   "outputs": [],
   "source": [
    "account_exceptions = ['To reclass', 'Reclass']"
   ]
  },
  {
   "cell_type": "code",
   "execution_count": 43,
   "metadata": {},
   "outputs": [],
   "source": [
    "Accounting_Moves = '|'.join(account_exceptions)"
   ]
  },
  {
   "cell_type": "code",
   "execution_count": 44,
   "metadata": {},
   "outputs": [],
   "source": [
    "closeout = 'close out'"
   ]
  },
  {
   "cell_type": "code",
   "execution_count": 45,
   "metadata": {},
   "outputs": [],
   "source": [
    "df1['Accounting Adjustments'] = df1['Memo'].str.findall(Accounting_Moves).apply(return_first)"
   ]
  },
  {
   "cell_type": "code",
   "execution_count": 46,
   "metadata": {},
   "outputs": [],
   "source": [
    "df1['Accounting Close Out'] = df1['Memo'].str.findall(closeout).apply(return_first)"
   ]
  },
  {
   "cell_type": "code",
   "execution_count": 47,
   "metadata": {},
   "outputs": [],
   "source": [
    "df1['Vendor Contract Expiration Date'] = pd.to_datetime(df1['Vendor Contract Expiration Date'])"
   ]
  },
  {
   "cell_type": "code",
   "execution_count": 48,
   "metadata": {},
   "outputs": [],
   "source": [
    "df1['Vendor Contract Expiration Date'] = df1['Vendor Contract Expiration Date'].dt.date"
   ]
  },
  {
   "cell_type": "markdown",
   "metadata": {},
   "source": [
    "## ADDING TITLES INSTEAD OF NAMES"
   ]
  },
  {
   "cell_type": "code",
   "execution_count": 49,
   "metadata": {},
   "outputs": [
    {
     "data": {
      "text/plain": [
       "Senior Associate                  73\n",
       "Manager                           63\n",
       "Associate                         63\n",
       "Intern                            47\n",
       "Principal                         38\n",
       "                                  ..\n",
       "Help Desk Lead                     1\n",
       "Data Reporting Analyst             1\n",
       "Development Operations Manager     1\n",
       "Email Marketing Lead               1\n",
       "Controller                         1\n",
       "Name: Job Title, Length: 111, dtype: int64"
      ]
     },
     "execution_count": 49,
     "metadata": {},
     "output_type": "execute_result"
    }
   ],
   "source": [
    "EmployeeNameandID['Job Title'].value_counts()"
   ]
  },
  {
   "cell_type": "code",
   "execution_count": 50,
   "metadata": {},
   "outputs": [
    {
     "data": {
      "text/html": [
       "<div>\n",
       "<style scoped>\n",
       "    .dataframe tbody tr th:only-of-type {\n",
       "        vertical-align: middle;\n",
       "    }\n",
       "\n",
       "    .dataframe tbody tr th {\n",
       "        vertical-align: top;\n",
       "    }\n",
       "\n",
       "    .dataframe thead th {\n",
       "        text-align: right;\n",
       "    }\n",
       "</style>\n",
       "<table border=\"1\" class=\"dataframe\">\n",
       "  <thead>\n",
       "    <tr style=\"text-align: right;\">\n",
       "      <th></th>\n",
       "      <th>Name</th>\n",
       "      <th>External ID</th>\n",
       "      <th>Job Title</th>\n",
       "    </tr>\n",
       "  </thead>\n",
       "  <tbody>\n",
       "    <tr>\n",
       "      <th>0</th>\n",
       "      <td>Aaron Davitt</td>\n",
       "      <td>000978</td>\n",
       "      <td>Principal Analyst</td>\n",
       "    </tr>\n",
       "    <tr>\n",
       "      <th>1</th>\n",
       "      <td>Aaron G Glazer</td>\n",
       "      <td>000802</td>\n",
       "      <td>Associate</td>\n",
       "    </tr>\n",
       "    <tr>\n",
       "      <th>2</th>\n",
       "      <td>Aaron Schwartz</td>\n",
       "      <td>000937</td>\n",
       "      <td>Intern</td>\n",
       "    </tr>\n",
       "    <tr>\n",
       "      <th>3</th>\n",
       "      <td>Abhishek Jain</td>\n",
       "      <td>000943</td>\n",
       "      <td>Intern</td>\n",
       "    </tr>\n",
       "    <tr>\n",
       "      <th>4</th>\n",
       "      <td>Adam Klauber</td>\n",
       "      <td>000524</td>\n",
       "      <td>Director</td>\n",
       "    </tr>\n",
       "  </tbody>\n",
       "</table>\n",
       "</div>"
      ],
      "text/plain": [
       "             Name External ID          Job Title\n",
       "0    Aaron Davitt      000978  Principal Analyst\n",
       "1  Aaron G Glazer      000802          Associate\n",
       "2  Aaron Schwartz      000937             Intern\n",
       "3   Abhishek Jain      000943             Intern\n",
       "4    Adam Klauber      000524           Director"
      ]
     },
     "execution_count": 50,
     "metadata": {},
     "output_type": "execute_result"
    }
   ],
   "source": [
    "EmployeeNameandID.head()"
   ]
  },
  {
   "cell_type": "code",
   "execution_count": 51,
   "metadata": {},
   "outputs": [],
   "source": [
    "uniquetitles = EmployeeNameandID['Job Title'].unique()"
   ]
  },
  {
   "cell_type": "code",
   "execution_count": 52,
   "metadata": {},
   "outputs": [],
   "source": [
    "Titleslist = uniquetitles.tolist()"
   ]
  },
  {
   "cell_type": "code",
   "execution_count": 53,
   "metadata": {},
   "outputs": [],
   "source": [
    "def createEmployeeTitlesdf(title, df):\n",
    "    newdf = df[df['Job Title']==title]\n",
    "    newdf.reset_index(drop=True, inplace=True)\n",
    "    newdf['PositionID'] = newdf['Job Title'] + newdf.index.astype(str)    \n",
    "    return newdf.to_dict()"
   ]
  },
  {
   "cell_type": "code",
   "execution_count": 54,
   "metadata": {},
   "outputs": [
    {
     "name": "stderr",
     "output_type": "stream",
     "text": [
      "<ipython-input-53-933c5a1db0ab>:4: SettingWithCopyWarning: \n",
      "A value is trying to be set on a copy of a slice from a DataFrame.\n",
      "Try using .loc[row_indexer,col_indexer] = value instead\n",
      "\n",
      "See the caveats in the documentation: https://pandas.pydata.org/pandas-docs/stable/user_guide/indexing.html#returning-a-view-versus-a-copy\n",
      "  newdf['PositionID'] = newdf['Job Title'] + newdf.index.astype(str)\n"
     ]
    }
   ],
   "source": [
    "DictList = {}\n",
    "\n",
    "for i in range(len(Titleslist)):\n",
    "    newdict = createEmployeeTitlesdf(Titleslist[i], EmployeeNameandID)\n",
    "    DictList[i] = newdict"
   ]
  },
  {
   "cell_type": "code",
   "execution_count": 55,
   "metadata": {},
   "outputs": [],
   "source": [
    "dflist = []\n",
    "\n",
    "for i in range(len(DictList)):\n",
    "    df = pd.DataFrame(DictList[i])\n",
    "    dflist.append(df)"
   ]
  },
  {
   "cell_type": "code",
   "execution_count": 56,
   "metadata": {},
   "outputs": [],
   "source": [
    "finalemployeedf = pd.concat(dflist).reset_index(drop=True)"
   ]
  },
  {
   "cell_type": "code",
   "execution_count": 57,
   "metadata": {},
   "outputs": [],
   "source": [
    "employeelisttomerge = finalemployeedf[['Name', 'PositionID']]"
   ]
  },
  {
   "cell_type": "code",
   "execution_count": 58,
   "metadata": {},
   "outputs": [],
   "source": [
    "#employeelisttomerge.to_excel('listwithposition.xlsx')"
   ]
  },
  {
   "cell_type": "code",
   "execution_count": 59,
   "metadata": {},
   "outputs": [
    {
     "data": {
      "text/plain": [
       "497"
      ]
     },
     "execution_count": 59,
     "metadata": {},
     "output_type": "execute_result"
    }
   ],
   "source": [
    "len(employeelisttomerge)"
   ]
  },
  {
   "cell_type": "code",
   "execution_count": 60,
   "metadata": {},
   "outputs": [],
   "source": [
    "df1 = pd.merge(df1, employeelisttomerge, on = 'Name', how='left')"
   ]
  },
  {
   "cell_type": "code",
   "execution_count": 61,
   "metadata": {},
   "outputs": [],
   "source": [
    "df1['Initiative'].replace('', np.nan, inplace=True)\n",
    "df1['Project'].replace('', np.nan, inplace=True)\n",
    "df1['Grant'].replace('', np.nan, inplace=True)\n",
    "df1['GL Account'].replace('', np.nan, inplace=True)\n",
    "df1['Memo'].replace('', np.nan, inplace=True)\n",
    "df1['Transaction Number'].replace('', np.nan, inplace=True)\n",
    "df1['Vendor Name'].replace('', np.nan, inplace=True)\n",
    "df1['Vendor Rate'].replace('', np.nan, inplace=True)\n",
    "df1['Vendor Contract Expiration Date'].replace('', np.nan, inplace=True)\n",
    "df1['Program'].replace('', np.nan, inplace=True)\n",
    "df1['Project Allocations'].replace('', np.nan, inplace=True)\n",
    "df1['Project Allocations'].replace('e', np.nan, inplace=True)\n",
    "df1['Accounting Adjustments'].replace('To reclass', 'Reclass', inplace=True)"
   ]
  },
  {
   "cell_type": "code",
   "execution_count": 62,
   "metadata": {},
   "outputs": [],
   "source": [
    "df1['Initiative'].fillna(\"No Initiative\", inplace=True)\n",
    "df1['Project'].fillna(\"No Project\", inplace=True)\n",
    "df1['Grant'].fillna(\"No Grant\", inplace=True)\n",
    "df1['GL Account'].fillna(\"No GL Account\", inplace=True)\n",
    "df1['Memo'].fillna(\"No Memo\", inplace=True)\n",
    "df1['Transaction Number'].fillna(\"No Transaction Number\", inplace=True)\n",
    "df1['Vendor Name'].fillna(\"No Vendor Name\", inplace=True)\n",
    "df1['Vendor Rate'].fillna(\"No Vendor Rate\", inplace=True)\n",
    "df1['Vendor Contract Expiration Date'].fillna(\"No Contract Expiration Date\", inplace=True)\n",
    "df1['Program'].fillna(\"No Program\", inplace=True)\n",
    "df1['Project Allocations'].fillna(\"Other\", inplace=True)\n"
   ]
  },
  {
   "cell_type": "markdown",
   "metadata": {},
   "source": [
    "## Add Further Heather Calcs"
   ]
  },
  {
   "cell_type": "code",
   "execution_count": 63,
   "metadata": {},
   "outputs": [],
   "source": [
    "df1['Inst or Reclass'] = df1['Account Digit'] + df1['Accounting Adjustments']"
   ]
  },
  {
   "cell_type": "code",
   "execution_count": 64,
   "metadata": {},
   "outputs": [
    {
     "data": {
      "text/plain": [
       "7           65736\n",
       "8           11527\n",
       "5            4446\n",
       "6            1852\n",
       "7Reclass      694\n",
       "8Reclass      165\n",
       "5Reclass       46\n",
       "Name: Inst or Reclass, dtype: Int64"
      ]
     },
     "execution_count": 64,
     "metadata": {},
     "output_type": "execute_result"
    }
   ],
   "source": [
    "df1['Inst or Reclass'].value_counts()"
   ]
  },
  {
   "cell_type": "code",
   "execution_count": 65,
   "metadata": {},
   "outputs": [],
   "source": [
    "df1['Inst or Reclass'] = df1['Inst or Reclass'].map({'7': \"Expense\", '8': \"Institutional Overhead\", '5': \"Revenue\", '6': \"Revenue\", '7Reclass': \"Expense Reclass\", '8Reclass': \"Inst Overhead Reclass\", '5Reclass': \"Revenue Reclass\", '6Reclass': \"Revenue Reclass\"})"
   ]
  },
  {
   "cell_type": "markdown",
   "metadata": {},
   "source": [
    "## Unrestricted Columns Added"
   ]
  },
  {
   "cell_type": "code",
   "execution_count": 66,
   "metadata": {},
   "outputs": [],
   "source": [
    "def return_grant(x):\n",
    "    if x != \"No Grant\":\n",
    "        return \"Yes\"\n",
    "    else: \n",
    "        return \"No\"\n",
    "    \n",
    "    "
   ]
  },
  {
   "cell_type": "code",
   "execution_count": 67,
   "metadata": {},
   "outputs": [],
   "source": [
    "df1['grant?'] = df1['Grant'].apply(return_grant)"
   ]
  },
  {
   "cell_type": "code",
   "execution_count": 68,
   "metadata": {},
   "outputs": [],
   "source": [
    "df1[\"Restricted Revenue\"] = df1['grant?'] + df1['Account Digit']"
   ]
  },
  {
   "cell_type": "code",
   "execution_count": 69,
   "metadata": {},
   "outputs": [],
   "source": [
    "df1[\"Restricted Revenue\"] = df1[\"Restricted Revenue\"].map({'No7': \"No\", 'Yes7': \"Restricted Revenue\", 'No8': \"No\", 'No5': \"No\", 'Yes8': \"Restricted Revenue\", 'Yes6': \"No\", 'No6': \"No\", 'Yes5': \"No\"})"
   ]
  },
  {
   "cell_type": "code",
   "execution_count": 70,
   "metadata": {},
   "outputs": [],
   "source": [
    "df1['Restricted Revenue'] = np.where(df1['Restricted Revenue'] == \"Restricted Revenue\", df1['Amount'], 0)"
   ]
  },
  {
   "cell_type": "code",
   "execution_count": 71,
   "metadata": {},
   "outputs": [],
   "source": [
    "df1[\"Rev or Exp\"] = df1[\"Account Digit\"].map({'6': 'Revenue', '5': 'Revenue', '7': 'Expense', '8': 'Expense'})"
   ]
  },
  {
   "cell_type": "code",
   "execution_count": 72,
   "metadata": {},
   "outputs": [
    {
     "data": {
      "text/plain": [
       "Expense    78122\n",
       "Revenue     6344\n",
       "Name: Rev or Exp, dtype: int64"
      ]
     },
     "execution_count": 72,
     "metadata": {},
     "output_type": "execute_result"
    }
   ],
   "source": [
    "df1[\"Rev or Exp\"].value_counts()"
   ]
  },
  {
   "cell_type": "code",
   "execution_count": 73,
   "metadata": {},
   "outputs": [],
   "source": [
    "df1['Multilateral'] = np.where(df1['Rev or Exp'] == \"Revenue\", df1['Amount'], 0)"
   ]
  },
  {
   "cell_type": "code",
   "execution_count": 74,
   "metadata": {},
   "outputs": [],
   "source": [
    "df1['General Expense'] = np.where(df1['Rev or Exp'] == \"Expense\", df1['Amount'], 0)"
   ]
  },
  {
   "cell_type": "code",
   "execution_count": 75,
   "metadata": {},
   "outputs": [],
   "source": [
    "df1['Unrestricted'] = - df1['Restricted Revenue'] - df1['Multilateral'] + df1['General Expense']"
   ]
  },
  {
   "cell_type": "code",
   "execution_count": 76,
   "metadata": {},
   "outputs": [],
   "source": [
    "df1 = df1.drop('Match ID Names',1)"
   ]
  },
  {
   "cell_type": "markdown",
   "metadata": {},
   "source": [
    "## Output manipulated DF to Excel"
   ]
  },
  {
   "cell_type": "code",
   "execution_count": 78,
   "metadata": {},
   "outputs": [],
   "source": [
    "df1.to_excel('Output.xlsx')"
   ]
  },
  {
   "cell_type": "markdown",
   "metadata": {},
   "source": [
    "# 3.  Data Segmentation by Program\n",
    "\n",
    "Here I'm taking the manipulated data and ultimately creating a dataframe to filter out each program's restricted revenue."
   ]
  },
  {
   "cell_type": "code",
   "execution_count": 79,
   "metadata": {},
   "outputs": [],
   "source": [
    "Programs = list(df1['Program'].unique())"
   ]
  },
  {
   "cell_type": "code",
   "execution_count": 80,
   "metadata": {},
   "outputs": [
    {
     "name": "stdout",
     "output_type": "stream",
     "text": [
      "['Development', 'Islands', 'India', 'Operations', 'China', 'Breakthrough Technology', 'Carbon-Free Mobility', 'Climate Aligned Industries', 'Global Climate Finance', 'Carbon-Free Electricity', 'Strategic Engagement and Analysis Group', 'Carbon-Free Buildings', 'WattTime', 'Urban Transformation', 'Climate Intelligence', 'Industry', 'Africa', 'SE Asia', 'US', 'Building Electrification', 'Communications', 'Energy Transition Academy', 'No Program']\n"
     ]
    }
   ],
   "source": [
    "print(Programs)"
   ]
  },
  {
   "cell_type": "code",
   "execution_count": 81,
   "metadata": {},
   "outputs": [],
   "source": [
    "def create_program(program):\n",
    "    firstdf = df1[df1['Program']==program]\n",
    "    seconddf = firstdf[firstdf['Grant'] != 'No Grant'] \n",
    "    thirddf = seconddf[(seconddf['Account Digit']=='7')|(seconddf['Account Digit']=='8')]\n",
    "    if thirddf.empty == True:\n",
    "        print(str(program)+ \" DF is EMPTY\")\n",
    "    else:    \n",
    "        return thirddf"
   ]
  },
  {
   "cell_type": "code",
   "execution_count": 82,
   "metadata": {},
   "outputs": [
    {
     "name": "stdout",
     "output_type": "stream",
     "text": [
      "Development DF is EMPTY\n"
     ]
    }
   ],
   "source": [
    "Development = create_program('Development')\n",
    "Islands = create_program('Islands')\n",
    "India = create_program('India')\n",
    "Operations = create_program('Operations')\n",
    "China = create_program('China')\n",
    "Breakthrough_Technology = create_program('Breakthrough Technology')\n",
    "CarbonFree_Mobility = create_program('Carbon-Free Mobility')\n",
    "Climate_Aligned_Industries = create_program('Climate Aligned Industries')\n",
    "Global_Climate_Finance = create_program('Global Climate Finance')\n",
    "Strategic_Engagement_and_Analysis_Group = create_program('Strategic Engagement and Analysis Group')\n",
    "CarbonFree_Buildings = create_program('Carbon-Free Buildings')\n",
    "WattTime = create_program('WattTime')\n",
    "CarbonFree_Electricty = create_program('Carbon-Free Electricity')\n",
    "Urban_Transformation = create_program('Urban Transformation')\n",
    "Climate_Intelligence = create_program('Climate Intelligence')\n",
    "Industry = create_program('Industry')\n",
    "SE_Asia = create_program('SE Asia')\n",
    "Africa = create_program('Africa')\n",
    "US = create_program('US')\n",
    "Building_Electrification = create_program('Building Electrification')\n",
    "\n"
   ]
  },
  {
   "cell_type": "code",
   "execution_count": 83,
   "metadata": {},
   "outputs": [],
   "source": [
    "Developing_Economies_Rollup = pd.concat([Islands, Africa, SE_Asia], ignore_index = True, sort=False)\n",
    "CarbonFreeBuildings_Rollup = pd.concat([CarbonFree_Buildings, Building_Electrification], ignore_index = True, sort=False)"
   ]
  },
  {
   "cell_type": "markdown",
   "metadata": {},
   "source": [
    "## 4. Create Reports Path and Manipulate File Names\n",
    "\n",
    "I will need to come up with naming conventions that work over time for this project, so in this step I do just that.   Also I am loading the Openpyxl packages that i'm going to need for the rest of this program."
   ]
  },
  {
   "cell_type": "code",
   "execution_count": 84,
   "metadata": {},
   "outputs": [],
   "source": [
    "import os\n",
    "\n",
    "path = r'C:\\Users\\Jeremy Wendt\\anaconda3\\envs\\Code\\Detail_Trans_Project_FY21\\reports\\Detail_Trans_Reports'"
   ]
  },
  {
   "cell_type": "code",
   "execution_count": 85,
   "metadata": {},
   "outputs": [],
   "source": [
    "from datetime import datetime\n",
    "today = datetime.today()\n",
    "datem = datetime(today.year, today.month-1, 1)\n",
    "timestamp = datem.strftime(\"%b_%Y\")"
   ]
  },
  {
   "cell_type": "code",
   "execution_count": 86,
   "metadata": {},
   "outputs": [
    {
     "name": "stdout",
     "output_type": "stream",
     "text": [
      "Jan_2021.xlsx\n"
     ]
    }
   ],
   "source": [
    "print(timestamp+\".xlsx\")"
   ]
  },
  {
   "cell_type": "code",
   "execution_count": 87,
   "metadata": {},
   "outputs": [],
   "source": [
    "from openpyxl.styles import Color, PatternFill, Font, Border\n",
    "greyFill = PatternFill(start_color='00C0C0C0',\n",
    "                   end_color='00C0C0C0',\n",
    "                   fill_type='solid')"
   ]
  },
  {
   "cell_type": "markdown",
   "metadata": {},
   "source": [
    "## 5.  Create Pivot Table, Add Subtotals, Export to Excel, and Combine All These Functions into One"
   ]
  },
  {
   "cell_type": "code",
   "execution_count": 88,
   "metadata": {},
   "outputs": [],
   "source": [
    "def create_multi_pivot(Group):\n",
    "    Month_order = ['Jul 2020', 'Aug 2020', 'Sep 2020', 'Oct 2020', 'Nov 2020', 'Dec 2020', 'Jan 2021', 'Feb 2021', 'Mar 2021', 'Apr 2021', 'May 2021', 'Jun 2021']\n",
    "    table = pd.pivot_table(Group, index = ['Initiative','Project','Grant', 'GL Account', 'Memo', 'Transaction Number', 'Vendor Name', 'Vendor Rate', 'Vendor Contract Expiration Date'], values = 'Amount', columns = 'Period', aggfunc=np.sum)\n",
    "    table2 = table.reindex(Month_order, axis=1)\n",
    "    table2['Total'] = table2.iloc[:,-12:].sum(axis=1)\n",
    "    return table2"
   ]
  },
  {
   "cell_type": "code",
   "execution_count": 89,
   "metadata": {},
   "outputs": [],
   "source": [
    "def add_subtotal_multi(PivotedGroup):\n",
    "    out = pd.concat([d.append(d.sum().rename((k, '', '', '', '', '', '', '', 'Subtotal'))) for k, d in PivotedGroup.groupby('Initiative')]).append((PivotedGroup.sum()).rename(('Grand', '', '', '', '', '', '', '', 'Total')))\n",
    "    out.index = pd.MultiIndex.from_tuples(out.index)\n",
    "    return out"
   ]
  },
  {
   "cell_type": "code",
   "execution_count": 90,
   "metadata": {},
   "outputs": [],
   "source": [
    "def to_excel(pivot, str):\n",
    "    pivot.to_excel(path+str, freeze_panes = (1,9), engine = 'openpyxl', sheet_name = 'Restricted_Rev_Detail', float_format = \"%.2f\")"
   ]
  },
  {
   "cell_type": "code",
   "execution_count": 91,
   "metadata": {},
   "outputs": [],
   "source": [
    "from openpyxl import load_workbook\n",
    "from openpyxl.styles import Font\n",
    "from openpyxl.styles import Alignment\n",
    "from openpyxl.styles.borders import Border, Side\n",
    "\n",
    "\n",
    "def edit_workbook(file):\n",
    "    book = load_workbook(file)\n",
    "    sheet = book.active #active means last opened sheet\n",
    "    sheet['A1']= \"Initiative\"\n",
    "    sheet['B1']= \"Project\"\n",
    "    sheet['C1']= \"Grant\"\n",
    "    sheet['D1']= \"GL Account\"\n",
    "    sheet['E1']= \"Memo\"\n",
    "    sheet['F1']= \"Transaction Number\"\n",
    "    sheet['G1']= \"Vendor Name\"\n",
    "    sheet['H1']= \"Vendor Rate\"\n",
    "    sheet['I1']= \"Vendor Contract Expiration Date\" \n",
    "    sheet['A1'].font = Font(bold=True)\n",
    "    sheet['B1'].font = Font(bold=True)\n",
    "    sheet['C1'].font = Font(bold=True)\n",
    "    sheet['D1'].font = Font(bold=True)\n",
    "    sheet['E1'].font = Font(bold=True)\n",
    "    sheet['F1'].font = Font(bold=True)\n",
    "    sheet['G1'].font = Font(bold=True)\n",
    "    sheet['H1'].font = Font(bold=True)\n",
    "    sheet['I1'].font = Font(bold=True)\n",
    "    sheet.column_dimensions['A'].width = 15\n",
    "    sheet.column_dimensions['B'].width = 20\n",
    "    sheet.column_dimensions['C'].width = 20\n",
    "    sheet.column_dimensions['D'].width = 20\n",
    "    sheet.column_dimensions['E'].width = 15\n",
    "    sheet.column_dimensions['F'].width = 15\n",
    "    sheet.column_dimensions['G'].width = 15\n",
    "    sheet.column_dimensions['H'].width = 15\n",
    "    sheet.column_dimensions['I'].width = 15\n",
    "    sheet.column_dimensions['J'].width = 12.5\n",
    "    sheet.column_dimensions['K'].width = 12.5\n",
    "    sheet.column_dimensions['L'].width = 12.5\n",
    "    sheet.column_dimensions['M'].width = 12.5\n",
    "    sheet.column_dimensions['N'].width = 12.5\n",
    "    sheet.column_dimensions['O'].width = 12.5\n",
    "    sheet.column_dimensions['P'].width = 12.5\n",
    "    sheet.column_dimensions['Q'].width = 12.5\n",
    "    sheet.column_dimensions['R'].width = 12.5\n",
    "    sheet.column_dimensions['S'].width = 12.5\n",
    "    sheet.column_dimensions['T'].width = 12.5   \n",
    "    sheet.column_dimensions['U'].width = 12.5   \n",
    "    sheet.column_dimensions['V'].width = 12.5   \n",
    "#    sheet.column_dimensions['D'].hidden = True\n",
    "    num_rows = sheet.max_row\n",
    "    curr_row = 1\n",
    "    for col in range(10, 23):\n",
    "        for row in range(1, num_rows+1):\n",
    "            sheet.cell(column=col, row=row).number_format = '\"$\"#,##0.00_);[Red](\"$\"#,##0.00)'\n",
    "    for col in range(1, 10):\n",
    "        for row in range(1, num_rows):\n",
    "            sheet.cell(column=col, row=row).alignment = Alignment(horizontal = 'left', vertical='top')\n",
    "            sheet.cell(column=col, row=row).fill = greyFill\n",
    "    for i in range(1, sheet.max_row + 1):\n",
    "        if sheet.cell(row=i, column=9).value == \"Subtotal\":\n",
    "            for j in range(10,23):\n",
    "                sheet.cell(column=j, row=i).font = Font(bold=True)\n",
    "                sheet.cell(column=j, row=i).border = Border(bottom=Side(style='thin'))       \n",
    "    sheet.auto_filter.ref = sheet.dimensions\n",
    "    sheet.sheet_view.zoomScale = 55\n",
    "#    sheet.protection.sheet = True\n",
    "    book.save(file)"
   ]
  },
  {
   "cell_type": "code",
   "execution_count": 92,
   "metadata": {},
   "outputs": [],
   "source": [
    "def format_multi_pivot(Group, str):\n",
    "    step1 = create_multi_pivot(Group)\n",
    "    step2 = add_subtotal_multi(step1)\n",
    "    to_excel(step2, str)\n",
    "    edit_workbook(path+str)"
   ]
  },
  {
   "cell_type": "markdown",
   "metadata": {},
   "source": [
    "## 6.  Create Restricted Revenue Files"
   ]
  },
  {
   "cell_type": "code",
   "execution_count": 93,
   "metadata": {},
   "outputs": [
    {
     "name": "stdout",
     "output_type": "stream",
     "text": [
      "Wall time: 37.9 s\n"
     ]
    }
   ],
   "source": [
    "%%time \n",
    "format_multi_pivot(Islands, '\\\\Islands_'+timestamp+\".xlsx\")\n",
    "format_multi_pivot(India, '\\\\India_'+timestamp+\".xlsx\")\n",
    "format_multi_pivot(Operations, '\\\\Operations_'+timestamp+\".xlsx\")\n",
    "format_multi_pivot(China, '\\\\China_'+timestamp+\".xlsx\")\n",
    "format_multi_pivot(Breakthrough_Technology, '\\\\Breakthrough_Technology-'+timestamp+\".xlsx\")\n",
    "format_multi_pivot(CarbonFree_Mobility, '\\\\CarbonFree_Mobility_'+timestamp+\".xlsx\")\n",
    "format_multi_pivot(Climate_Aligned_Industries, '\\\\Climate_Aligned_Industries_'+timestamp+\".xlsx\")\n",
    "format_multi_pivot(Global_Climate_Finance, '\\\\Global_Climate_Finance_'+timestamp+\".xlsx\")\n",
    "format_multi_pivot(Strategic_Engagement_and_Analysis_Group, '\\\\Strategic_Engagement_and_Analysis_Group_'+timestamp+\".xlsx\")\n",
    "format_multi_pivot(CarbonFree_Buildings, '\\\\CarbonFree_Buildings_'+timestamp+\".xlsx\")\n"
   ]
  },
  {
   "cell_type": "code",
   "execution_count": 94,
   "metadata": {},
   "outputs": [],
   "source": [
    "format_multi_pivot(WattTime, '\\\\WattTime_'+timestamp+\".xlsx\")\n",
    "format_multi_pivot(CarbonFree_Electricty, '\\\\CarbonFree_Electricity_'+timestamp+\".xlsx\")\n",
    "format_multi_pivot(Urban_Transformation, '\\\\Urban_Transformation_'+timestamp+\".xlsx\")\n",
    "format_multi_pivot(Climate_Intelligence, '\\\\Climate_Intelligence_'+timestamp+\".xlsx\")\n",
    "format_multi_pivot(Industry, '\\\\Industry_'+timestamp+\".xlsx\")\n",
    "format_multi_pivot(SE_Asia, '\\\\SE_Asia_'+timestamp+\".xlsx\")\n",
    "format_multi_pivot(Africa, '\\\\Africa_'+timestamp+\".xlsx\")\n",
    "format_multi_pivot(US, '\\\\US_'+timestamp+\".xlsx\")\n",
    "format_multi_pivot(Building_Electrification, '\\\\Building_Electrification_'+timestamp+\".xlsx\")          "
   ]
  },
  {
   "cell_type": "markdown",
   "metadata": {},
   "source": [
    "## 7.  Add ML and Consulting Fee Tab"
   ]
  },
  {
   "cell_type": "code",
   "execution_count": 95,
   "metadata": {},
   "outputs": [],
   "source": [
    "def create_df_FeeforService(program):\n",
    "    firstdf = df1[df1['Program']==program]\n",
    "    seconddf = firstdf[(firstdf['Account Digit']=='5')|(firstdf['Account Digit']=='6')]\n",
    "    if seconddf.empty == True:\n",
    "        print(str(program)+ \" DF is EMPTY\")\n",
    "    else:    \n",
    "        return seconddf"
   ]
  },
  {
   "cell_type": "code",
   "execution_count": 96,
   "metadata": {},
   "outputs": [
    {
     "name": "stdout",
     "output_type": "stream",
     "text": [
      "Communications DF is EMPTY\n"
     ]
    }
   ],
   "source": [
    "DevelopmentFFS = create_df_FeeforService(\"Development\")\n",
    "IslandsFFS = create_df_FeeforService(\"Islands\")\n",
    "IndiaFFS = create_df_FeeforService(\"India\")\n",
    "OperationsFFS = create_df_FeeforService(\"Operations\")\n",
    "ChinaFFS = create_df_FeeforService(\"China\")\n",
    "Breakthrough_Technology_FFS = create_df_FeeforService(\"Breakthrough Technology\")\n",
    "CarbonFree_MobilityFFS = create_df_FeeforService(\"Carbon-Free Mobility\")\n",
    "ClimateAligned_IndustriesFFS = create_df_FeeforService(\"Climate Aligned Industries\")\n",
    "CommunicationsFFS = create_df_FeeforService(\"Communications\")\n",
    "GlobalClimate_FinanceFFS = create_df_FeeforService(\"Global Climate Finance\")\n",
    "Strategic_Engagement_and_Analysis_GroupFFS = create_df_FeeforService(\"Strategic Engagement and Analysis Group\")\n",
    "Carbon_Free_BuildingsFFS = create_df_FeeforService(\"Carbon-Free Buildings\")\n",
    "Watttime_FFS = create_df_FeeforService(\"WattTime\")\n",
    "Carbon_Free_ElectricityFFS = create_df_FeeforService(\"Carbon-Free Electricity\")\n",
    "UrbanTrans_FFS = create_df_FeeforService(\"Urban Transformation\")\n",
    "ClimateIntelFFS = create_df_FeeforService(\"Climate Intelligence\")\n",
    "IndustryFFS = create_df_FeeforService(\"Industry\")\n",
    "SEAsiaFFS = create_df_FeeforService(\"SE Asia\")\n",
    "AfricaFFS = create_df_FeeforService(\"Africa\")\n",
    "USFFS = create_df_FeeforService(\"US\")\n",
    "BuildingElectrificationFFS = create_df_FeeforService(\"Building Electrification\")"
   ]
  },
  {
   "cell_type": "code",
   "execution_count": 97,
   "metadata": {},
   "outputs": [],
   "source": [
    "def create_FFS_pivot(Group):\n",
    "    Month_order = ['Jul 2020', 'Aug 2020', 'Sep 2020', 'Oct 2020', 'Nov 2020', 'Dec 2020', 'Jan 2021', 'Feb 2021', 'Mar 2021', 'Apr 2021', 'May 2021', 'Jun 2021']\n",
    "    table = pd.pivot_table(Group, index = ['Initiative','Project','Grant', 'GL Account', 'Memo', 'Client', 'Transaction Number'], values = 'Amount', columns = 'Period', aggfunc=np.sum)\n",
    "    table2 = table.reindex(Month_order, axis=1)\n",
    "    table2['Total'] = table2.iloc[:,-12:].sum(axis=1)\n",
    "    return table2"
   ]
  },
  {
   "cell_type": "code",
   "execution_count": 98,
   "metadata": {},
   "outputs": [],
   "source": [
    "def add_subtotal_FFS(PivotedGroup):\n",
    "    out = pd.concat([d.append(d.sum().rename((k, '', '', '', '', '',  'Subtotal'))) for k, d in PivotedGroup.groupby('Initiative')]).append((PivotedGroup.sum()).rename(('Grand', '', '', '',  '', '', 'Total')))\n",
    "    out.index = pd.MultiIndex.from_tuples(out.index)\n",
    "    return out"
   ]
  },
  {
   "cell_type": "code",
   "execution_count": 99,
   "metadata": {},
   "outputs": [],
   "source": [
    "import openpyxl\n",
    "\n",
    "def to_excel_FFS(df, file):\n",
    "    writer = pd.ExcelWriter(file, engine='openpyxl')\n",
    "    if os.path.exists(file):\n",
    "        book = openpyxl.load_workbook(file)\n",
    "        writer.book = book\n",
    "\n",
    "    df.to_excel(writer, sheet_name=\"ML & FFS Revenue\")\n",
    "    writer.save()\n",
    "    writer.close()    "
   ]
  },
  {
   "cell_type": "code",
   "execution_count": 100,
   "metadata": {},
   "outputs": [],
   "source": [
    "def edit_workbook_FFS(file):\n",
    "    book = load_workbook(file)\n",
    "    sheet = book[\"ML & FFS Revenue\"] #active means last opened sheet\n",
    "    sheet['A1']= \"Initiative\"\n",
    "    sheet['B1']= \"Project\"\n",
    "    sheet['C1']= \"Grant\"\n",
    "    sheet['D1']= \"GL Account\"\n",
    "    sheet['E1']= \"Memo\"\n",
    "    sheet['F1']= \"Client\"\n",
    "    sheet['G1']= \"Transaction Number\" \n",
    "    sheet['A1'].font = Font(bold=True)\n",
    "    sheet['B1'].font = Font(bold=True)\n",
    "    sheet['C1'].font = Font(bold=True)\n",
    "    sheet['D1'].font = Font(bold=True)\n",
    "    sheet['E1'].font = Font(bold=True)\n",
    "    sheet['F1'].font = Font(bold=True)\n",
    "    sheet['G1'].font = Font(bold=True)\n",
    "    sheet.column_dimensions['A'].width = 15\n",
    "    sheet.column_dimensions['B'].width = 20\n",
    "    sheet.column_dimensions['C'].width = 20\n",
    "    sheet.column_dimensions['D'].width = 20\n",
    "    sheet.column_dimensions['E'].width = 15\n",
    "    sheet.column_dimensions['F'].width = 15\n",
    "    sheet.column_dimensions['G'].width = 15\n",
    "    sheet.column_dimensions['J'].width = 12.5\n",
    "    sheet.column_dimensions['K'].width = 12.5\n",
    "    sheet.column_dimensions['L'].width = 12.5\n",
    "    sheet.column_dimensions['M'].width = 12.5\n",
    "    sheet.column_dimensions['N'].width = 12.5\n",
    "    sheet.column_dimensions['O'].width = 12.5\n",
    "    sheet.column_dimensions['P'].width = 12.5\n",
    "    sheet.column_dimensions['Q'].width = 12.5\n",
    "    sheet.column_dimensions['R'].width = 12.5\n",
    "    sheet.column_dimensions['S'].width = 12.5\n",
    "    sheet.column_dimensions['T'].width = 12.5   \n",
    "    sheet.column_dimensions['U'].width = 12.5   \n",
    "    sheet.column_dimensions['V'].width = 12.5   \n",
    "#    sheet.column_dimensions['D'].hidden = True\n",
    "    num_rows = sheet.max_row\n",
    "    curr_row = 1\n",
    "    for col in range(8, 21):\n",
    "        for row in range(1, num_rows+1):\n",
    "            sheet.cell(column=col, row=row).number_format = '\"$\"#,##0.00_);[Red](\"$\"#,##0.00)'\n",
    "    for col in range(1, 8):\n",
    "        for row in range(1, num_rows):\n",
    "            sheet.cell(column=col, row=row).alignment = Alignment(horizontal = 'left', vertical='top')\n",
    "            sheet.cell(column=col, row=row).fill = greyFill\n",
    "    for i in range(1, sheet.max_row + 1):\n",
    "        if sheet.cell(row=i, column=7).value == \"Subtotal\":\n",
    "            for j in range(8,21):\n",
    "                sheet.cell(column=j, row=i).font = Font(bold=True)\n",
    "                sheet.cell(column=j, row=i).border = Border(bottom=Side(style='thin'))       \n",
    "    sheet.auto_filter.ref = sheet.dimensions\n",
    "    sheet.sheet_view.zoomScale = 55\n",
    "    sheet.freeze_panes = \"H2\"\n",
    "    book.save(file)"
   ]
  },
  {
   "cell_type": "code",
   "execution_count": 101,
   "metadata": {},
   "outputs": [],
   "source": [
    "def format_FFS_pivot(Group, str):\n",
    "    step1 = create_FFS_pivot(Group)\n",
    "    step2 = add_subtotal_FFS(step1)\n",
    "    to_excel_FFS(step2, path+str)\n",
    "    edit_workbook_FFS(path+str)"
   ]
  },
  {
   "cell_type": "markdown",
   "metadata": {},
   "source": [
    "## 8.  Add ML and FFS Pivots to Second Tab"
   ]
  },
  {
   "cell_type": "code",
   "execution_count": 102,
   "metadata": {},
   "outputs": [],
   "source": [
    "format_FFS_pivot(IslandsFFS, '\\\\Islands_'+timestamp+\".xlsx\")\n",
    "format_FFS_pivot(IndiaFFS, '\\\\India_'+timestamp+\".xlsx\")\n",
    "format_FFS_pivot(OperationsFFS, '\\\\Operations_'+timestamp+\".xlsx\")\n",
    "format_FFS_pivot(ChinaFFS, '\\\\China_'+timestamp+\".xlsx\")\n",
    "format_FFS_pivot(Breakthrough_Technology_FFS, '\\\\Breakthrough_Technology-'+timestamp+\".xlsx\")\n",
    "format_FFS_pivot(CarbonFree_MobilityFFS, '\\\\CarbonFree_Mobility_'+timestamp+\".xlsx\")\n",
    "format_FFS_pivot(ClimateAligned_IndustriesFFS, '\\\\Climate_Aligned_Industries_'+timestamp+\".xlsx\")\n",
    "format_FFS_pivot(GlobalClimate_FinanceFFS, '\\\\Global_Climate_Finance_'+timestamp+\".xlsx\")\n",
    "format_FFS_pivot(Strategic_Engagement_and_Analysis_GroupFFS, '\\\\Strategic_Engagement_and_Analysis_Group_'+timestamp+\".xlsx\")\n",
    "format_FFS_pivot(Carbon_Free_BuildingsFFS, '\\\\CarbonFree_Buildings_'+timestamp+\".xlsx\")\n",
    "format_FFS_pivot(Watttime_FFS, '\\\\WattTime_'+timestamp+\".xlsx\")\n",
    "format_FFS_pivot(Carbon_Free_ElectricityFFS, '\\\\CarbonFree_Electricity_'+timestamp+\".xlsx\")\n",
    "format_FFS_pivot(UrbanTrans_FFS, '\\\\Urban_Transformation_'+timestamp+\".xlsx\")\n",
    "format_FFS_pivot(ClimateIntelFFS, '\\\\Climate_Intelligence_'+timestamp+\".xlsx\")\n",
    "format_FFS_pivot(IndustryFFS, '\\\\Industry_'+timestamp+\".xlsx\")\n",
    "format_FFS_pivot(SEAsiaFFS, '\\\\SE_Asia_'+timestamp+\".xlsx\")\n",
    "format_FFS_pivot(AfricaFFS, '\\\\Africa_'+timestamp+\".xlsx\")\n",
    "format_FFS_pivot(USFFS, '\\\\US_'+timestamp+\".xlsx\")\n",
    "format_FFS_pivot(BuildingElectrificationFFS, '\\\\Building_Electrification_'+timestamp+\".xlsx\")"
   ]
  },
  {
   "cell_type": "markdown",
   "metadata": {},
   "source": [
    "# Create Reports for Heather and Jon Creyts"
   ]
  },
  {
   "cell_type": "code",
   "execution_count": 117,
   "metadata": {},
   "outputs": [],
   "source": [
    "CFOpath = r'C:\\Users\\Jeremy Wendt\\anaconda3\\envs\\Code\\Detail_Trans_Project_FY21\\reports\\CFO_Reports'"
   ]
  },
  {
   "cell_type": "markdown",
   "metadata": {},
   "source": [
    "## Restricted Revenue Spend Type by Grant"
   ]
  },
  {
   "cell_type": "code",
   "execution_count": 118,
   "metadata": {},
   "outputs": [],
   "source": [
    "def create_CFO_pivot(Group):\n",
    "    Month_order = ['Jul 2020', 'Aug 2020', 'Sep 2020', 'Oct 2020', 'Nov 2020', 'Dec 2020', 'Jan 2021', 'Feb 2021', 'Mar 2021', 'Apr 2021', 'May 2021', 'Jun 2021']\n",
    "    table = pd.pivot_table(Group, index = ['Grant','Inst or Reclass'], values = 'Restricted Revenue', columns = 'Period', aggfunc=np.sum)\n",
    "    table2 = table.reindex(Month_order, axis=1)\n",
    "    table2['Total'] = table2.iloc[:,-12:].sum(axis=1)\n",
    "    return table2"
   ]
  },
  {
   "cell_type": "code",
   "execution_count": 119,
   "metadata": {},
   "outputs": [],
   "source": [
    "def add_subtotal_CFO(PivotedGroup):\n",
    "    out = pd.concat([d.append(d.sum().rename((k, 'Subtotal'))) for k, d in PivotedGroup.groupby('Grant')]).append((PivotedGroup.sum()).rename(('Grand', 'Total')))\n",
    "    out.index = pd.MultiIndex.from_tuples(out.index)\n",
    "    return out"
   ]
  },
  {
   "cell_type": "code",
   "execution_count": 120,
   "metadata": {},
   "outputs": [],
   "source": [
    "def to_excel_CFO(pivot, str):\n",
    "    pivot.to_excel(CFOpath+str, freeze_panes = (1,2), engine = 'openpyxl', sheet_name = 'Expense Type by Grant', float_format = \"%.2f\")"
   ]
  },
  {
   "cell_type": "code",
   "execution_count": 121,
   "metadata": {},
   "outputs": [],
   "source": [
    "def edit_workbook_CFO(file):\n",
    "    book = load_workbook(file)\n",
    "    sheet = book.active #active means last opened sheet\n",
    "    sheet['A1']= \"Grant\"\n",
    "    sheet['B1']= \"Expense Type\"\n",
    "    sheet['A1'].font = Font(bold=True)\n",
    "    sheet['B1'].font = Font(bold=True)\n",
    "    sheet.column_dimensions['A'].width = 25\n",
    "    sheet.column_dimensions['B'].width = 25\n",
    "    sheet.column_dimensions['C'].width = 15\n",
    "    sheet.column_dimensions['D'].width = 15\n",
    "    sheet.column_dimensions['E'].width = 15\n",
    "    sheet.column_dimensions['F'].width = 15\n",
    "    sheet.column_dimensions['G'].width = 15\n",
    "    sheet.column_dimensions['H'].width = 15\n",
    "    sheet.column_dimensions['I'].width = 15\n",
    "    sheet.column_dimensions['J'].width = 15\n",
    "    sheet.column_dimensions['K'].width = 15\n",
    "    sheet.column_dimensions['L'].width = 15\n",
    "    sheet.column_dimensions['M'].width = 15\n",
    "    sheet.column_dimensions['N'].width = 15\n",
    "    sheet.column_dimensions['O'].width = 15\n",
    "#    sheet.column_dimensions['D'].hidden = True\n",
    "    num_rows = sheet.max_row\n",
    "    curr_row = 1\n",
    "    for col in range(3, 16):\n",
    "        for row in range(1, num_rows+1):\n",
    "            sheet.cell(column=col, row=row).number_format = '\"$\"#,##0;[Red](\"$\"#,##0)'\n",
    "    for col in range(1, 3):\n",
    "        for row in range(1, num_rows):\n",
    "            sheet.cell(column=col, row=row).alignment = Alignment(horizontal = 'left', vertical='top')\n",
    "            sheet.cell(column=col, row=row).fill = greyFill\n",
    "    for i in range(1, sheet.max_row + 1):\n",
    "        if sheet.cell(row=i, column=2).value == \"Subtotal\":\n",
    "            for j in range(3,16):\n",
    "                sheet.cell(column=j, row=i).font = Font(bold=True)\n",
    "                sheet.cell(column=j, row=i).border = Border(bottom=Side(style='thin'))       \n",
    "    sheet.auto_filter.ref = sheet.dimensions\n",
    "    sheet.sheet_view.zoomScale = 55\n",
    "#    sheet.protection.sheet = True\n",
    "    book.save(file)"
   ]
  },
  {
   "cell_type": "code",
   "execution_count": 122,
   "metadata": {},
   "outputs": [],
   "source": [
    "def format_multi_pivot_CFO(Group, str):\n",
    "    step1 = create_CFO_pivot(Group)\n",
    "    step2 = add_subtotal_CFO(step1)\n",
    "    to_excel_CFO(step2, str)\n",
    "    edit_workbook_CFO(CFOpath+str)"
   ]
  },
  {
   "cell_type": "code",
   "execution_count": 123,
   "metadata": {},
   "outputs": [],
   "source": [
    "dfRestrictedONLY = df1[df1['Rev or Exp']==\"Expense\"]"
   ]
  },
  {
   "cell_type": "code",
   "execution_count": 124,
   "metadata": {},
   "outputs": [],
   "source": [
    "format_multi_pivot_CFO(dfRestrictedONLY, '\\\\CFO_Report_'+timestamp+\".xlsx\")"
   ]
  },
  {
   "cell_type": "markdown",
   "metadata": {},
   "source": [
    "## Unrestricted Use by Project Allocation and Program"
   ]
  },
  {
   "cell_type": "code",
   "execution_count": 125,
   "metadata": {},
   "outputs": [],
   "source": [
    "def create_CFO_pivot2(Group):\n",
    "    Month_order = ['Jul 2020', 'Aug 2020', 'Sep 2020', 'Oct 2020', 'Nov 2020', 'Dec 2020', 'Jan 2021', 'Feb 2021', 'Mar 2021', 'Apr 2021', 'May 2021', 'Jun 2021']\n",
    "    table = pd.pivot_table(Group, index = ['Project Allocations','Program'], values = 'Unrestricted', columns = 'Period', aggfunc=np.sum)\n",
    "    table2 = table.reindex(Month_order, axis=1)\n",
    "    table2['Total'] = table2.iloc[:,-12:].sum(axis=1)\n",
    "    return table2"
   ]
  },
  {
   "cell_type": "code",
   "execution_count": 126,
   "metadata": {},
   "outputs": [],
   "source": [
    "def add_subtotal_CFO2(PivotedGroup):\n",
    "    out = pd.concat([d.append(d.sum().rename((k, 'Subtotal'))) for k, d in PivotedGroup.groupby('Project Allocations')]).append((PivotedGroup.sum()).rename(('Grand', 'Total')))\n",
    "    out.index = pd.MultiIndex.from_tuples(out.index)\n",
    "    return out"
   ]
  },
  {
   "cell_type": "code",
   "execution_count": 127,
   "metadata": {},
   "outputs": [],
   "source": [
    "def to_excel_CFO2(df, file):\n",
    "    writer = pd.ExcelWriter(file, engine='openpyxl')\n",
    "    if os.path.exists(file):\n",
    "        book = openpyxl.load_workbook(file)\n",
    "        writer.book = book\n",
    "\n",
    "    df.to_excel(writer, sheet_name=\"Unrestricted by Project All\")\n",
    "    writer.save()\n",
    "    writer.close()    "
   ]
  },
  {
   "cell_type": "code",
   "execution_count": 128,
   "metadata": {},
   "outputs": [],
   "source": [
    "def edit_workbook_CFO2(file):\n",
    "    book = load_workbook(file)\n",
    "    sheet = book[\"Unrestricted by Project All\"] #active means last opened sheet\n",
    "    sheet['A1']= \"Initiative\"\n",
    "    sheet['B1']= \"Project\"\n",
    "    sheet['A1'].font = Font(bold=True)\n",
    "    sheet['B1'].font = Font(bold=True)\n",
    "    sheet.column_dimensions['A'].width = 25\n",
    "    sheet.column_dimensions['B'].width = 25\n",
    "    sheet.column_dimensions['C'].width = 15\n",
    "    sheet.column_dimensions['D'].width = 15\n",
    "    sheet.column_dimensions['E'].width = 15\n",
    "    sheet.column_dimensions['F'].width = 15\n",
    "    sheet.column_dimensions['G'].width = 15\n",
    "    sheet.column_dimensions['H'].width = 15\n",
    "    sheet.column_dimensions['I'].width = 15\n",
    "    sheet.column_dimensions['J'].width = 15\n",
    "    sheet.column_dimensions['K'].width = 15\n",
    "    sheet.column_dimensions['L'].width = 15\n",
    "    sheet.column_dimensions['M'].width = 15\n",
    "    sheet.column_dimensions['N'].width = 15\n",
    "    sheet.column_dimensions['O'].width = 15\n",
    " \n",
    "#    sheet.column_dimensions['D'].hidden = True\n",
    "    num_rows = sheet.max_row\n",
    "    curr_row = 1\n",
    "    for col in range(3, 16):\n",
    "        for row in range(1, num_rows+1):\n",
    "            sheet.cell(column=col, row=row).number_format = '\"$\"#,##0;[Red](\"$\"#,##0)'\n",
    "    for col in range(1, 3):\n",
    "        for row in range(1, num_rows):\n",
    "            sheet.cell(column=col, row=row).alignment = Alignment(horizontal = 'left', vertical='top')\n",
    "            sheet.cell(column=col, row=row).fill = greyFill\n",
    "    for i in range(1, sheet.max_row + 1):\n",
    "        if sheet.cell(row=i, column=2).value == \"Subtotal\":\n",
    "            for j in range(3,16):\n",
    "                sheet.cell(column=j, row=i).font = Font(bold=True)\n",
    "                sheet.cell(column=j, row=i).border = Border(bottom=Side(style='thin'))       \n",
    "    sheet.auto_filter.ref = sheet.dimensions\n",
    "    sheet.sheet_view.zoomScale = 55\n",
    "    sheet.freeze_panes = \"B2\"\n",
    "    book.save(file)"
   ]
  },
  {
   "cell_type": "code",
   "execution_count": 129,
   "metadata": {},
   "outputs": [],
   "source": [
    "def format_multi_pivot_CFO2(Group, str):\n",
    "    step1 = create_CFO_pivot2(Group)\n",
    "    step2 = add_subtotal_CFO2(step1)\n",
    "    to_excel_CFO2(step2, CFOpath+str)\n",
    "    edit_workbook_CFO2(CFOpath+str)"
   ]
  },
  {
   "cell_type": "code",
   "execution_count": 130,
   "metadata": {},
   "outputs": [],
   "source": [
    "format_multi_pivot_CFO2(df1, '\\\\CFO_Report_'+timestamp+\".xlsx\")"
   ]
  },
  {
   "cell_type": "code",
   "execution_count": null,
   "metadata": {},
   "outputs": [],
   "source": []
  },
  {
   "cell_type": "code",
   "execution_count": null,
   "metadata": {},
   "outputs": [],
   "source": []
  },
  {
   "cell_type": "code",
   "execution_count": null,
   "metadata": {},
   "outputs": [],
   "source": []
  },
  {
   "cell_type": "code",
   "execution_count": null,
   "metadata": {},
   "outputs": [],
   "source": []
  },
  {
   "cell_type": "code",
   "execution_count": null,
   "metadata": {},
   "outputs": [],
   "source": []
  },
  {
   "cell_type": "code",
   "execution_count": null,
   "metadata": {},
   "outputs": [],
   "source": []
  }
 ],
 "metadata": {
  "kernelspec": {
   "display_name": "Python 3",
   "language": "python",
   "name": "python3"
  },
  "language_info": {
   "codemirror_mode": {
    "name": "ipython",
    "version": 3
   },
   "file_extension": ".py",
   "mimetype": "text/x-python",
   "name": "python",
   "nbconvert_exporter": "python",
   "pygments_lexer": "ipython3",
   "version": "3.8.5"
  }
 },
 "nbformat": 4,
 "nbformat_minor": 4
}

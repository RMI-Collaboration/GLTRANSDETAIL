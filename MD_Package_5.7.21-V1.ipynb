{
 "cells": [
  {
   "cell_type": "markdown",
   "metadata": {},
   "source": [
    "# MD Package"
   ]
  },
  {
   "cell_type": "markdown",
   "metadata": {},
   "source": [
    "## 1.  Load Transactional Data, SalesForce Data, Mavenlink Data, load packages, and convert to Dataframes\n",
    "\n",
    "I am using three reports from Netsuite to populate this data:  Lists/Employees --> Run report without filters all set to \"All\".\n",
    "\n",
    "Search in Netsuite search bar usings \"sea\" for Adaptive Transaction Search - P&L - Jeremy\n",
    "\n",
    "Search in Netsuite search bar using \"sea\" for Mavenlink Time Audit\n",
    "\n",
    "In Salesforce, use Ginny's link, but filter for \"ALL\" in Opportunity Record Type.  Also include Revenue Date:  greater or equal to LAST FISCAL YEAR.\n",
    "\n",
    "![title](img/picture.jpg)"
   ]
  },
  {
   "cell_type": "code",
   "execution_count": 1,
   "metadata": {},
   "outputs": [],
   "source": [
    "import pandas as pd\n",
    "import numpy as np\n",
    "import openpyxl\n",
    "from openpyxl import load_workbook\n",
    "from openpyxl.styles import Font\n",
    "from openpyxl.styles import Alignment\n",
    "from openpyxl.styles.borders import Border, Side\n"
   ]
  },
  {
   "cell_type": "code",
   "execution_count": 2,
   "metadata": {},
   "outputs": [],
   "source": [
    "dfHistoric = pd.read_excel('../Data/raw/FY19&FY20_Detail_Trans.xlsx')"
   ]
  },
  {
   "cell_type": "code",
   "execution_count": 3,
   "metadata": {},
   "outputs": [],
   "source": [
    "dfFY18 = pd.read_excel('../Data/raw/ADAPTIVETransactionSearchPLResultsFY18.xlsx')"
   ]
  },
  {
   "cell_type": "code",
   "execution_count": 4,
   "metadata": {},
   "outputs": [],
   "source": [
    "dfGrantBalances = pd.read_excel('../Data/raw/Grant_Balance_Report_MARCH_V4_LOAD.xlsx')"
   ]
  },
  {
   "cell_type": "code",
   "execution_count": 5,
   "metadata": {},
   "outputs": [],
   "source": [
    "#Get this from Mavenlink, Custom Insights: Sharepoint Reports, Project List for MDs:  Export to XLSX, uncheck \"Keep attribute cells merged\" and \"Include active filters in each report\"\n",
    "\n",
    "dfMAVELINKACTIVEPROJECTS = pd.read_excel('../Data/raw/Sharepoint Reports 4-14-2021 0701am.xlsx')"
   ]
  },
  {
   "cell_type": "code",
   "execution_count": 6,
   "metadata": {},
   "outputs": [],
   "source": [
    "dfHistoric = pd.concat([dfFY18, dfHistoric], ignore_index=True)"
   ]
  },
  {
   "cell_type": "code",
   "execution_count": 7,
   "metadata": {},
   "outputs": [
    {
     "data": {
      "text/plain": [
       "108482"
      ]
     },
     "execution_count": 7,
     "metadata": {},
     "output_type": "execute_result"
    }
   ],
   "source": [
    "from xml.sax import ContentHandler, parse\n",
    "\n",
    "# Reference https://goo.gl/KaOBG3\n",
    "class ExcelHandler(ContentHandler):\n",
    "    def __init__(self):\n",
    "        self.chars = [  ]\n",
    "        self.cells = [  ]\n",
    "        self.rows = [  ]\n",
    "        self.tables = [  ]\n",
    "    def characters(self, content):\n",
    "        self.chars.append(content)\n",
    "    def startElement(self, name, atts):\n",
    "        if name==\"Cell\":\n",
    "            self.chars = [  ]\n",
    "        elif name==\"Row\":\n",
    "            self.cells=[  ]\n",
    "        elif name==\"Table\":\n",
    "            self.rows = [  ]\n",
    "    def endElement(self, name):\n",
    "        if name==\"Cell\":\n",
    "            self.cells.append(''.join(self.chars))\n",
    "        elif name==\"Row\":\n",
    "            self.rows.append(self.cells)\n",
    "        elif name==\"Table\":\n",
    "            self.tables.append(self.rows)\n",
    "\n",
    "excelHandler = ExcelHandler()\n",
    "parse('../Data/raw/ADAPTIVETransactionSearchPLJeremyResults145.xls', excelHandler)\n",
    "dfFY21 = pd.DataFrame(excelHandler.tables[0][1:], columns=excelHandler.tables[0][0])\n",
    "\n",
    "len(dfFY21)"
   ]
  },
  {
   "cell_type": "code",
   "execution_count": 8,
   "metadata": {},
   "outputs": [],
   "source": [
    "#Search \"Mavenlink Time Audit\", filter it to start at the beginning of the fiscal year.\n",
    "\n",
    "#excelHandler = ExcelHandler()\n",
    "#parse('../Data/raw/MavenlinkTimeAuditResults905.xls', excelHandler)\n",
    "#dfMavenlink = pd.DataFrame(excelHandler.tables[0][1:], columns=excelHandler.tables[0][0])"
   ]
  },
  {
   "cell_type": "code",
   "execution_count": 9,
   "metadata": {},
   "outputs": [],
   "source": [
    "excelHandler = ExcelHandler()\n",
    "parse('../Data/raw/Employees588.xls', excelHandler)\n",
    "employee_list = pd.DataFrame(excelHandler.tables[0][1:], columns=excelHandler.tables[0][0])\n"
   ]
  },
  {
   "cell_type": "code",
   "execution_count": 10,
   "metadata": {},
   "outputs": [],
   "source": [
    "dfSalesforce = pd.read_html('../Data/raw/report1618858455808.xls')\n",
    "dfSalesforce = dfSalesforce[0]"
   ]
  },
  {
   "cell_type": "code",
   "execution_count": 11,
   "metadata": {},
   "outputs": [],
   "source": [
    "dfSalesforceFFS = pd.read_html('../Data/raw/report1618858444686.xls')\n",
    "dfSalesforceFFS = dfSalesforceFFS[0]"
   ]
  },
  {
   "cell_type": "code",
   "execution_count": 12,
   "metadata": {},
   "outputs": [],
   "source": [
    "dfSalesforceGrantContracts = pd.read_html('../Data/raw/report1620395246783.xls')\n",
    "dfSalesforceGrantContracts = dfSalesforceGrantContracts[0]"
   ]
  },
  {
   "cell_type": "code",
   "execution_count": 13,
   "metadata": {},
   "outputs": [],
   "source": [
    "#To get the FFS Balances and Whitney's data from Netsuite: RMI Fee for Service Contract Balances\n",
    "\n",
    "excelHandler = ExcelHandler()\n",
    "parse('../Data/raw/RMIFeeforServiceContractBalancesResults927.xls', excelHandler)\n",
    "dfFFSData = pd.DataFrame(excelHandler.tables[0][1:], columns=excelHandler.tables[0][0])"
   ]
  },
  {
   "cell_type": "code",
   "execution_count": 14,
   "metadata": {},
   "outputs": [],
   "source": [
    "#\"FFS Projects\" from Netsuite\n",
    "excelHandler = ExcelHandler()\n",
    "parse('../Data/raw/FFSProjectsResults94.xls', excelHandler)\n",
    "dfFFSData2 = pd.DataFrame(excelHandler.tables[0][1:], columns=excelHandler.tables[0][0])"
   ]
  },
  {
   "cell_type": "code",
   "execution_count": 15,
   "metadata": {},
   "outputs": [],
   "source": [
    "#To get the deferred Revenue data for FFS from Netsuite:  RMI Transaction Search - Revenue Summary\n",
    "\n",
    "excelHandler = ExcelHandler()\n",
    "parse('../Data/raw/RMITransactionSearchRevenueSummaryResults277.xls', excelHandler)\n",
    "dfFFSIncludingDeferred = pd.DataFrame(excelHandler.tables[0][1:], columns=excelHandler.tables[0][0])"
   ]
  },
  {
   "cell_type": "code",
   "execution_count": 16,
   "metadata": {},
   "outputs": [],
   "source": [
    "df1 = pd.concat([dfHistoric, dfFY21], ignore_index=True)\n"
   ]
  },
  {
   "cell_type": "markdown",
   "metadata": {},
   "source": [
    "## 2. Data Manipulation\n",
    "\n",
    "In this section I start manipulting these datasets into somethign more digestable for the end user.  The main manipulation I am doing in this seciton is pulling information out of the \"Memo\" field that users may want to see seperately."
   ]
  },
  {
   "cell_type": "code",
   "execution_count": 17,
   "metadata": {},
   "outputs": [],
   "source": [
    "#EmployeeNameandID = employee_list[['Name', 'External ID', 'Job Title']]"
   ]
  },
  {
   "cell_type": "code",
   "execution_count": 18,
   "metadata": {},
   "outputs": [],
   "source": [
    "#EmployeeNameandID['External ID'].replace('', np.nan, inplace=True)"
   ]
  },
  {
   "cell_type": "code",
   "execution_count": 19,
   "metadata": {},
   "outputs": [],
   "source": [
    "#len(EmployeeNameandID)"
   ]
  },
  {
   "cell_type": "code",
   "execution_count": 20,
   "metadata": {},
   "outputs": [],
   "source": [
    "#EmployeeNameandID.to_excel('originallist.xlsx')"
   ]
  },
  {
   "cell_type": "code",
   "execution_count": 21,
   "metadata": {},
   "outputs": [],
   "source": [
    "#employee_id_list = employee_list['External ID'].tolist()"
   ]
  },
  {
   "cell_type": "code",
   "execution_count": 22,
   "metadata": {},
   "outputs": [],
   "source": [
    "#employee_id_list = list(filter(None, employee_id_list))"
   ]
  },
  {
   "cell_type": "code",
   "execution_count": 23,
   "metadata": {},
   "outputs": [],
   "source": [
    "#print(len(employee_id_list))"
   ]
  },
  {
   "cell_type": "code",
   "execution_count": 24,
   "metadata": {},
   "outputs": [],
   "source": [
    "df1['Memo'] = df1['Memo'].astype('string')"
   ]
  },
  {
   "cell_type": "code",
   "execution_count": 25,
   "metadata": {},
   "outputs": [
    {
     "data": {
      "text/plain": [
       "Date                               object\n",
       "Period                             object\n",
       "GL Account                         object\n",
       "Document Number                    object\n",
       "Program                            object\n",
       "Initiative                         object\n",
       "Project                            object\n",
       "Restriction                        object\n",
       "Grant                              object\n",
       "Amount                             object\n",
       "Vendor Name                        object\n",
       "Employee Name                      object\n",
       "Memo                               string\n",
       "Amount (Credit)                    object\n",
       "Amount (Debit)                     object\n",
       "Client                             object\n",
       "Transaction Number                 object\n",
       "Type                               object\n",
       "Vendor Rate                        object\n",
       "Vendor Contract Expiration Date    object\n",
       "dtype: object"
      ]
     },
     "execution_count": 25,
     "metadata": {},
     "output_type": "execute_result"
    }
   ],
   "source": [
    "df1.dtypes"
   ]
  },
  {
   "cell_type": "code",
   "execution_count": 26,
   "metadata": {},
   "outputs": [],
   "source": [
    "#all_ids = '|'.join(employee_id_list)"
   ]
  },
  {
   "cell_type": "code",
   "execution_count": 27,
   "metadata": {},
   "outputs": [],
   "source": [
    "def return_first(x):\n",
    "    try:\n",
    "        y = x[0]\n",
    "    except:\n",
    "        y = \"\"\n",
    "    return y"
   ]
  },
  {
   "cell_type": "code",
   "execution_count": 28,
   "metadata": {},
   "outputs": [],
   "source": [
    "#df1['External ID'] = df1['Memo'].str.findall(all_ids).apply(return_first)"
   ]
  },
  {
   "cell_type": "code",
   "execution_count": 29,
   "metadata": {},
   "outputs": [],
   "source": [
    "#employee_name_list = employee_list['Name'].tolist()"
   ]
  },
  {
   "cell_type": "code",
   "execution_count": 30,
   "metadata": {},
   "outputs": [],
   "source": [
    "#employee_name_list = list(filter(None, employee_name_list))"
   ]
  },
  {
   "cell_type": "code",
   "execution_count": 31,
   "metadata": {},
   "outputs": [],
   "source": [
    "#all_names = '|'.join(employee_name_list)"
   ]
  },
  {
   "cell_type": "code",
   "execution_count": 32,
   "metadata": {},
   "outputs": [],
   "source": [
    "#all_names = all_names + \"|Agnis Li|Anna Ledden|Greg Hales|Rachel Hohensee|Li Ma\""
   ]
  },
  {
   "cell_type": "code",
   "execution_count": 33,
   "metadata": {},
   "outputs": [],
   "source": [
    "#df1['Match ID Names'] = df1['Memo'].str.findall(all_names).apply(return_first)"
   ]
  },
  {
   "cell_type": "code",
   "execution_count": 34,
   "metadata": {},
   "outputs": [],
   "source": [
    "#df1 = pd.merge(df1, EmployeeNameandID, on = 'External ID', how='left')"
   ]
  },
  {
   "cell_type": "code",
   "execution_count": 35,
   "metadata": {},
   "outputs": [],
   "source": [
    "#df1['Match ID Names'].replace('', np.nan, inplace=True)"
   ]
  },
  {
   "cell_type": "code",
   "execution_count": 36,
   "metadata": {},
   "outputs": [],
   "source": [
    "#df1['Name'].replace('', np.nan, inplace=True)"
   ]
  },
  {
   "cell_type": "code",
   "execution_count": 37,
   "metadata": {},
   "outputs": [],
   "source": [
    "#df1['Name'].fillna(df1['Match ID Names'], inplace=True)"
   ]
  },
  {
   "cell_type": "code",
   "execution_count": 38,
   "metadata": {},
   "outputs": [],
   "source": [
    "#df1['Name'].replace('Agnis Li', 'Agnes Li', inplace=True)\n",
    "#df1['Name'].replace('Anna Ledden', 'Anna  Ledden', inplace=True)\n",
    "#df1['Name'].replace('Rachel Hohensee', 'Rachel T Hohensee', inplace=True)"
   ]
  },
  {
   "cell_type": "markdown",
   "metadata": {},
   "source": [
    "## Salesforce Data Manipulation"
   ]
  },
  {
   "cell_type": "code",
   "execution_count": 39,
   "metadata": {},
   "outputs": [],
   "source": [
    "dfSalesforce['Revenue Status'].replace('', np.nan, inplace=True)\n",
    "dfSalesforce['Initiative'].replace('', np.nan, inplace=True)\n",
    "dfSalesforce['Revenue Amount'].replace('', np.nan, inplace=True)\n",
    "dfSalesforce['RMI Grant Name'].replace('', np.nan, inplace=True)\n",
    "dfSalesforce['Grant Term - Start Date'].replace('', np.nan, inplace=True)\n",
    "dfSalesforce['Grant Term - End Date'].replace('', np.nan, inplace=True)"
   ]
  },
  {
   "cell_type": "code",
   "execution_count": 40,
   "metadata": {},
   "outputs": [],
   "source": [
    "dfSalesforce['Revenue Status'].fillna(\"na\", inplace=True)\n",
    "dfSalesforce['Initiative'].fillna(\"na\", inplace=True)\n",
    "dfSalesforce['Revenue Amount'].fillna(0, inplace=True)\n",
    "dfSalesforce['RMI Grant Name'].fillna(\"na\", inplace=True)\n",
    "dfSalesforce['Grant Term - Start Date'].fillna(\"na\", inplace=True)\n",
    "dfSalesforce['Grant Term - End Date'].fillna(\"na\", inplace=True)"
   ]
  },
  {
   "cell_type": "code",
   "execution_count": 41,
   "metadata": {},
   "outputs": [],
   "source": [
    "dfSalesforceFFS['Amount'].replace('', np.nan, inplace=True)\n",
    "dfSalesforceFFS['Relationship Manager'].replace('', np.nan, inplace=True)\n",
    "dfSalesforceFFS['Initiative'].replace('', np.nan, inplace=True)"
   ]
  },
  {
   "cell_type": "code",
   "execution_count": 42,
   "metadata": {},
   "outputs": [],
   "source": [
    "dfSalesforceFFS['Amount'].fillna(0, inplace=True)\n",
    "dfSalesforceFFS['Relationship Manager'].fillna('na', inplace=True)\n",
    "dfSalesforceFFS['Initiative'].fillna('na', inplace=True)"
   ]
  },
  {
   "cell_type": "code",
   "execution_count": 43,
   "metadata": {},
   "outputs": [],
   "source": [
    "dfSalesforceGrantContracts[\"Documents Link\"] = dfSalesforceGrantContracts['Essential Documents Link'].str.findall(r'\\<a href=(.*?)\\ target').apply(return_first)\n"
   ]
  },
  {
   "cell_type": "code",
   "execution_count": 44,
   "metadata": {},
   "outputs": [],
   "source": [
    "dfSalesforceGrantContractsNS = dfSalesforceGrantContracts[['RMI Grant Name', 'Documents Link']]"
   ]
  },
  {
   "cell_type": "code",
   "execution_count": 45,
   "metadata": {},
   "outputs": [],
   "source": [
    "dfSalesforceGrantContractsNS = dfSalesforceGrantContractsNS.dropna()\n",
    "dfSalesforceGrantContractsNS = dfSalesforceGrantContractsNS.rename(columns={'RMI Grant Name':'Grant'})\n",
    "\n"
   ]
  },
  {
   "cell_type": "code",
   "execution_count": 46,
   "metadata": {},
   "outputs": [],
   "source": [
    "\n",
    "dfSalesforceGrantContractsNS = dfSalesforceGrantContractsNS.drop_duplicates(subset='Grant', keep=\"first\")"
   ]
  },
  {
   "cell_type": "code",
   "execution_count": 47,
   "metadata": {},
   "outputs": [],
   "source": [
    "dfSalesforceGrantContractsNS['Documents Link'] = dfSalesforceGrantContractsNS['Documents Link'].str.replace('\"', '')"
   ]
  },
  {
   "cell_type": "code",
   "execution_count": 48,
   "metadata": {},
   "outputs": [],
   "source": [
    "dfSalesforceGrantContractsNS.to_excel('test.xlsx')"
   ]
  },
  {
   "cell_type": "code",
   "execution_count": 49,
   "metadata": {},
   "outputs": [],
   "source": [
    "dfSalesforceGrantContractsSF = dfSalesforceGrantContracts[['Documents Link','Opportunity Name']]"
   ]
  },
  {
   "cell_type": "code",
   "execution_count": 50,
   "metadata": {},
   "outputs": [],
   "source": [
    "dfSalesforceGrantContractsSF = dfSalesforceGrantContractsSF.drop_duplicates(subset='Opportunity Name', keep=\"first\")"
   ]
  },
  {
   "cell_type": "code",
   "execution_count": 51,
   "metadata": {},
   "outputs": [],
   "source": [
    "dfSalesforceGrantContractsSF['Documents Link'] = dfSalesforceGrantContractsSF['Documents Link'].str.replace('\"', '')"
   ]
  },
  {
   "cell_type": "code",
   "execution_count": 52,
   "metadata": {},
   "outputs": [
    {
     "data": {
      "text/plain": [
       "9439"
      ]
     },
     "execution_count": 52,
     "metadata": {},
     "output_type": "execute_result"
    }
   ],
   "source": [
    "len(dfSalesforce)"
   ]
  },
  {
   "cell_type": "code",
   "execution_count": 53,
   "metadata": {},
   "outputs": [],
   "source": [
    "dfSalesforce = pd.merge(dfSalesforce, dfSalesforceGrantContractsSF, on = 'Opportunity Name', how='left')"
   ]
  },
  {
   "cell_type": "code",
   "execution_count": 54,
   "metadata": {},
   "outputs": [
    {
     "data": {
      "text/plain": [
       "9439"
      ]
     },
     "execution_count": 54,
     "metadata": {},
     "output_type": "execute_result"
    }
   ],
   "source": [
    "len(dfSalesforce)"
   ]
  },
  {
   "cell_type": "code",
   "execution_count": null,
   "metadata": {},
   "outputs": [],
   "source": []
  },
  {
   "cell_type": "code",
   "execution_count": null,
   "metadata": {},
   "outputs": [],
   "source": []
  },
  {
   "cell_type": "code",
   "execution_count": null,
   "metadata": {},
   "outputs": [],
   "source": []
  },
  {
   "cell_type": "code",
   "execution_count": null,
   "metadata": {},
   "outputs": [],
   "source": []
  },
  {
   "cell_type": "code",
   "execution_count": 55,
   "metadata": {},
   "outputs": [],
   "source": [
    "#dfSalesforce.to_excel('Output_Salesforce.xlsx')"
   ]
  },
  {
   "cell_type": "markdown",
   "metadata": {},
   "source": [
    "## Extract Time Allocation From Memo"
   ]
  },
  {
   "cell_type": "code",
   "execution_count": 56,
   "metadata": {},
   "outputs": [],
   "source": [
    "allocations = ['BONUS ALLOCATION', 'ADMIN ALLOCATION', 'PTO/HOLIDAY ALLOCATION']"
   ]
  },
  {
   "cell_type": "code",
   "execution_count": 57,
   "metadata": {},
   "outputs": [],
   "source": [
    "all_allocations = '|'.join(allocations)"
   ]
  },
  {
   "cell_type": "code",
   "execution_count": 58,
   "metadata": {},
   "outputs": [],
   "source": [
    "df1['ALLOCATION'] = df1['Memo'].str.findall(all_allocations).apply(return_first)"
   ]
  },
  {
   "cell_type": "markdown",
   "metadata": {},
   "source": [
    "## Extract Project Fields for Heather's report"
   ]
  },
  {
   "cell_type": "code",
   "execution_count": 59,
   "metadata": {},
   "outputs": [],
   "source": [
    "df1['Project Allocations'] = df1['Project'].str.findall(r'\\[(.*?)\\]').apply(return_first)"
   ]
  },
  {
   "cell_type": "markdown",
   "metadata": {},
   "source": [
    "## Add Rollup Accounts"
   ]
  },
  {
   "cell_type": "code",
   "execution_count": 60,
   "metadata": {},
   "outputs": [],
   "source": [
    "lookups = pd.read_excel('../Data/raw/lookups.xlsx')"
   ]
  },
  {
   "cell_type": "code",
   "execution_count": 61,
   "metadata": {},
   "outputs": [
    {
     "data": {
      "text/html": [
       "<div>\n",
       "<style scoped>\n",
       "    .dataframe tbody tr th:only-of-type {\n",
       "        vertical-align: middle;\n",
       "    }\n",
       "\n",
       "    .dataframe tbody tr th {\n",
       "        vertical-align: top;\n",
       "    }\n",
       "\n",
       "    .dataframe thead th {\n",
       "        text-align: right;\n",
       "    }\n",
       "</style>\n",
       "<table border=\"1\" class=\"dataframe\">\n",
       "  <thead>\n",
       "    <tr style=\"text-align: right;\">\n",
       "      <th></th>\n",
       "      <th>GL Account</th>\n",
       "      <th>Rollup Account</th>\n",
       "    </tr>\n",
       "  </thead>\n",
       "  <tbody>\n",
       "    <tr>\n",
       "      <th>0</th>\n",
       "      <td>5010 Contributions Revenue : Foundation Contri...</td>\n",
       "      <td>5000 Contributions Revenue</td>\n",
       "    </tr>\n",
       "    <tr>\n",
       "      <th>1</th>\n",
       "      <td>5015 Contributions Revenue : Campaign Foundati...</td>\n",
       "      <td>5000 Contributions Revenue</td>\n",
       "    </tr>\n",
       "    <tr>\n",
       "      <th>2</th>\n",
       "      <td>5020 Contributions Revenue : Individual Contri...</td>\n",
       "      <td>5000 Contributions Revenue</td>\n",
       "    </tr>\n",
       "    <tr>\n",
       "      <th>3</th>\n",
       "      <td>5025 Contributions Revenue : Campaign Corporat...</td>\n",
       "      <td>5000 Contributions Revenue</td>\n",
       "    </tr>\n",
       "    <tr>\n",
       "      <th>4</th>\n",
       "      <td>5030 Contributions Revenue : Endowment Contrib...</td>\n",
       "      <td>5000 Contributions Revenue</td>\n",
       "    </tr>\n",
       "  </tbody>\n",
       "</table>\n",
       "</div>"
      ],
      "text/plain": [
       "                                          GL Account  \\\n",
       "0  5010 Contributions Revenue : Foundation Contri...   \n",
       "1  5015 Contributions Revenue : Campaign Foundati...   \n",
       "2  5020 Contributions Revenue : Individual Contri...   \n",
       "3  5025 Contributions Revenue : Campaign Corporat...   \n",
       "4  5030 Contributions Revenue : Endowment Contrib...   \n",
       "\n",
       "               Rollup Account  \n",
       "0  5000 Contributions Revenue  \n",
       "1  5000 Contributions Revenue  \n",
       "2  5000 Contributions Revenue  \n",
       "3  5000 Contributions Revenue  \n",
       "4  5000 Contributions Revenue  "
      ]
     },
     "execution_count": 61,
     "metadata": {},
     "output_type": "execute_result"
    }
   ],
   "source": [
    "lookups.head()"
   ]
  },
  {
   "cell_type": "code",
   "execution_count": 62,
   "metadata": {},
   "outputs": [],
   "source": [
    "df1 = pd.merge(df1, lookups, on = 'GL Account', how='left')"
   ]
  },
  {
   "cell_type": "code",
   "execution_count": 63,
   "metadata": {},
   "outputs": [],
   "source": [
    "df1['Account Digit'] = df1['GL Account'].astype('string').str[0]"
   ]
  },
  {
   "cell_type": "code",
   "execution_count": 64,
   "metadata": {},
   "outputs": [
    {
     "data": {
      "text/plain": [
       "Index(['Date', 'Period', 'GL Account', 'Document Number', 'Program',\n",
       "       'Initiative', 'Project', 'Restriction', 'Grant', 'Amount',\n",
       "       'Vendor Name', 'Employee Name', 'Memo', 'Amount (Credit)',\n",
       "       'Amount (Debit)', 'Client', 'Transaction Number', 'Type', 'Vendor Rate',\n",
       "       'Vendor Contract Expiration Date', 'ALLOCATION', 'Project Allocations',\n",
       "       'Rollup Account', 'Account Digit'],\n",
       "      dtype='object')"
      ]
     },
     "execution_count": 64,
     "metadata": {},
     "output_type": "execute_result"
    }
   ],
   "source": [
    "df1.columns"
   ]
  },
  {
   "cell_type": "code",
   "execution_count": 65,
   "metadata": {},
   "outputs": [],
   "source": [
    "df1['Amount'] = df1['Amount'].astype(float)\n",
    "df1['Amount (Credit)'].replace('', 0, inplace=True)\n",
    "df1['Amount (Debit)'].replace('', 0, inplace=True)\n",
    "df1['Amount (Credit)'] = df1['Amount (Credit)'].astype(float)\n",
    "df1['Amount (Debit)'] = df1['Amount (Debit)'].astype(float)"
   ]
  },
  {
   "cell_type": "code",
   "execution_count": 66,
   "metadata": {},
   "outputs": [
    {
     "data": {
      "text/plain": [
       "Date                                object\n",
       "Period                              object\n",
       "GL Account                          object\n",
       "Document Number                     object\n",
       "Program                             object\n",
       "Initiative                          object\n",
       "Project                             object\n",
       "Restriction                         object\n",
       "Grant                               object\n",
       "Amount                             float64\n",
       "Vendor Name                         object\n",
       "Employee Name                       object\n",
       "Memo                                string\n",
       "Amount (Credit)                    float64\n",
       "Amount (Debit)                     float64\n",
       "Client                              object\n",
       "Transaction Number                  object\n",
       "Type                                object\n",
       "Vendor Rate                         object\n",
       "Vendor Contract Expiration Date     object\n",
       "ALLOCATION                          object\n",
       "Project Allocations                 object\n",
       "Rollup Account                      object\n",
       "Account Digit                       string\n",
       "dtype: object"
      ]
     },
     "execution_count": 66,
     "metadata": {},
     "output_type": "execute_result"
    }
   ],
   "source": [
    "df1.dtypes"
   ]
  },
  {
   "cell_type": "markdown",
   "metadata": {},
   "source": [
    "## Add Reclass Field and Closeout field"
   ]
  },
  {
   "cell_type": "code",
   "execution_count": 67,
   "metadata": {},
   "outputs": [],
   "source": [
    "account_exceptions = ['To reclass', 'Reclass']"
   ]
  },
  {
   "cell_type": "code",
   "execution_count": 68,
   "metadata": {},
   "outputs": [],
   "source": [
    "Accounting_Moves = '|'.join(account_exceptions)"
   ]
  },
  {
   "cell_type": "code",
   "execution_count": 69,
   "metadata": {},
   "outputs": [],
   "source": [
    "closeout = 'close out'"
   ]
  },
  {
   "cell_type": "code",
   "execution_count": 70,
   "metadata": {},
   "outputs": [],
   "source": [
    "df1['Accounting Adjustments'] = df1['Memo'].str.findall(Accounting_Moves).apply(return_first)"
   ]
  },
  {
   "cell_type": "code",
   "execution_count": 71,
   "metadata": {},
   "outputs": [],
   "source": [
    "df1['Accounting Close Out'] = df1['Memo'].str.findall(closeout).apply(return_first)"
   ]
  },
  {
   "cell_type": "code",
   "execution_count": 72,
   "metadata": {},
   "outputs": [],
   "source": [
    "df1['Vendor Contract Expiration Date'] = pd.to_datetime(df1['Vendor Contract Expiration Date'])"
   ]
  },
  {
   "cell_type": "code",
   "execution_count": 73,
   "metadata": {},
   "outputs": [],
   "source": [
    "df1['Vendor Contract Expiration Date'] = df1['Vendor Contract Expiration Date'].dt.date"
   ]
  },
  {
   "cell_type": "markdown",
   "metadata": {},
   "source": [
    "## ADDING TITLES INSTEAD OF NAMES"
   ]
  },
  {
   "cell_type": "code",
   "execution_count": 74,
   "metadata": {},
   "outputs": [],
   "source": [
    "#EmployeeNameandID['Job Title'].value_counts()"
   ]
  },
  {
   "cell_type": "code",
   "execution_count": 75,
   "metadata": {},
   "outputs": [],
   "source": [
    "#uniquetitles = EmployeeNameandID['Job Title'].unique()"
   ]
  },
  {
   "cell_type": "code",
   "execution_count": 76,
   "metadata": {},
   "outputs": [],
   "source": [
    "#Titleslist = uniquetitles.tolist()"
   ]
  },
  {
   "cell_type": "code",
   "execution_count": 77,
   "metadata": {},
   "outputs": [],
   "source": [
    "#def createEmployeeTitlesdf(title, df):\n",
    "#    newdf = df[df['Job Title']==title]\n",
    "#    newdf.reset_index(drop=True, inplace=True)\n",
    "#    newdf['PositionID'] = newdf['Job Title'] + newdf.index.astype(str)    \n",
    "#    return newdf.to_dict()"
   ]
  },
  {
   "cell_type": "code",
   "execution_count": 78,
   "metadata": {},
   "outputs": [],
   "source": [
    "#DictList = {}\n",
    "\n",
    "#for i in range(len(Titleslist)):\n",
    "#    newdict = createEmployeeTitlesdf(Titleslist[i], EmployeeNameandID)\n",
    "#    DictList[i] = newdict"
   ]
  },
  {
   "cell_type": "code",
   "execution_count": 79,
   "metadata": {},
   "outputs": [],
   "source": [
    "#dflist = []\n",
    "\n",
    "#for i in range(len(DictList)):\n",
    "#    df = pd.DataFrame(DictList[i])\n",
    "#    dflist.append(df)"
   ]
  },
  {
   "cell_type": "code",
   "execution_count": 80,
   "metadata": {},
   "outputs": [],
   "source": [
    "#finalemployeedf = pd.concat(dflist).reset_index(drop=True)"
   ]
  },
  {
   "cell_type": "code",
   "execution_count": 81,
   "metadata": {},
   "outputs": [],
   "source": [
    "#employeelisttomerge = finalemployeedf[['Name', 'PositionID']]"
   ]
  },
  {
   "cell_type": "code",
   "execution_count": 82,
   "metadata": {},
   "outputs": [],
   "source": [
    "#employeelisttomerge.to_excel('listwithposition.xlsx')"
   ]
  },
  {
   "cell_type": "code",
   "execution_count": 83,
   "metadata": {},
   "outputs": [],
   "source": [
    "#len(employeelisttomerge)"
   ]
  },
  {
   "cell_type": "code",
   "execution_count": 84,
   "metadata": {},
   "outputs": [],
   "source": [
    "#df1 = pd.merge(df1, employeelisttomerge, on = 'Name', how='left')"
   ]
  },
  {
   "cell_type": "code",
   "execution_count": 85,
   "metadata": {},
   "outputs": [
    {
     "name": "stderr",
     "output_type": "stream",
     "text": [
      "c:\\users\\jeremy wendt\\anaconda3\\envs\\code\\detail_trans_project_fy21\\notebooks\\venv\\lib\\site-packages\\pandas\\core\\missing.py:49: FutureWarning: elementwise comparison failed; returning scalar instead, but in the future will perform elementwise comparison\n",
      "  mask = arr == x\n"
     ]
    }
   ],
   "source": [
    "df1['Initiative'].replace('', np.nan, inplace=True)\n",
    "df1['Project'].replace('', np.nan, inplace=True)\n",
    "df1['Grant'].replace('', np.nan, inplace=True)\n",
    "df1['GL Account'].replace('', np.nan, inplace=True)\n",
    "df1['Memo'].replace('', np.nan, inplace=True)\n",
    "df1['Transaction Number'].replace('', np.nan, inplace=True)\n",
    "df1['Vendor Name'].replace('', np.nan, inplace=True)\n",
    "df1['Vendor Rate'].replace('', np.nan, inplace=True)\n",
    "df1['Vendor Contract Expiration Date'].replace('', np.nan, inplace=True)\n",
    "df1['Program'].replace('', np.nan, inplace=True)\n",
    "df1['Project Allocations'].replace('', np.nan, inplace=True)\n",
    "df1['Project Allocations'].replace('e', np.nan, inplace=True)\n",
    "df1['Accounting Adjustments'].replace('To reclass', 'Reclass', inplace=True)\n",
    "df1['Client'].replace('', np.nan, inplace=True)\n",
    "df1['Rollup Account'].replace('', np.nan, inplace=True)"
   ]
  },
  {
   "cell_type": "code",
   "execution_count": 86,
   "metadata": {},
   "outputs": [],
   "source": [
    "df1['Initiative'].fillna(\"na\", inplace=True)\n",
    "df1['Project'].fillna(\"na\", inplace=True)\n",
    "df1['Grant'].fillna(\"No Grant\", inplace=True)\n",
    "df1['GL Account'].fillna(\"na\", inplace=True)\n",
    "df1['Memo'].fillna(\"na\", inplace=True)\n",
    "df1['Transaction Number'].fillna(\"na\", inplace=True)\n",
    "df1['Vendor Name'].fillna(\"na\", inplace=True)\n",
    "df1['Vendor Rate'].fillna(\"na\", inplace=True)\n",
    "df1['Vendor Contract Expiration Date'].fillna(\"na\", inplace=True)\n",
    "df1['Program'].fillna(\"na\", inplace=True)\n",
    "df1['Project Allocations'].fillna(\"Other\", inplace=True)\n",
    "df1['Client'].fillna(\"na\", inplace=True)\n",
    "df1['Rollup Account'].replace(\"New Account\", np.nan, inplace=True)"
   ]
  },
  {
   "cell_type": "markdown",
   "metadata": {},
   "source": [
    "## Add Further Heather Calcs"
   ]
  },
  {
   "cell_type": "code",
   "execution_count": 87,
   "metadata": {},
   "outputs": [],
   "source": [
    "df1['Inst or Reclass'] = df1['Account Digit'] + df1['Accounting Adjustments']"
   ]
  },
  {
   "cell_type": "code",
   "execution_count": 88,
   "metadata": {},
   "outputs": [
    {
     "data": {
      "text/plain": [
       "7           338216\n",
       "8            55520\n",
       "5            28076\n",
       "6            10199\n",
       "7Reclass      5569\n",
       "8Reclass      1215\n",
       "5Reclass       286\n",
       "6Reclass        23\n",
       "9                2\n",
       "Name: Inst or Reclass, dtype: Int64"
      ]
     },
     "execution_count": 88,
     "metadata": {},
     "output_type": "execute_result"
    }
   ],
   "source": [
    "df1['Inst or Reclass'].value_counts()"
   ]
  },
  {
   "cell_type": "code",
   "execution_count": 89,
   "metadata": {},
   "outputs": [],
   "source": [
    "df1['Inst or Reclass'] = df1['Inst or Reclass'].map({'7': \"Expense\", '8': \"Institutional Overhead\", '5': \"Revenue\", '6': \"Revenue\", '7Reclass': \"Expense Reclass\", '8Reclass': \"Inst Overhead Reclass\", '5Reclass': \"Revenue Reclass\", '6Reclass': \"Revenue Reclass\"})"
   ]
  },
  {
   "cell_type": "markdown",
   "metadata": {},
   "source": [
    "## Unrestricted Columns Added"
   ]
  },
  {
   "cell_type": "code",
   "execution_count": 90,
   "metadata": {},
   "outputs": [],
   "source": [
    "def return_grant(x):\n",
    "    if x != \"No Grant\":\n",
    "        return \"Yes\"\n",
    "    else: \n",
    "        return \"No\"\n",
    "    \n",
    "    "
   ]
  },
  {
   "cell_type": "code",
   "execution_count": 91,
   "metadata": {},
   "outputs": [],
   "source": [
    "df1['grant?'] = df1['Grant'].apply(return_grant)"
   ]
  },
  {
   "cell_type": "code",
   "execution_count": 92,
   "metadata": {},
   "outputs": [],
   "source": [
    "df1[\"Restricted Revenue\"] = df1['grant?'] + df1['Account Digit']"
   ]
  },
  {
   "cell_type": "code",
   "execution_count": 93,
   "metadata": {},
   "outputs": [],
   "source": [
    "df1[\"Restricted Revenue\"] = df1[\"Restricted Revenue\"].map({'No7': \"No\", 'Yes7': \"Restricted Revenue\", 'No8': \"No\", 'No5': \"No\", 'Yes8': \"Restricted Revenue\", 'Yes6': \"No\", 'No6': \"No\", 'Yes5': \"No\"})"
   ]
  },
  {
   "cell_type": "code",
   "execution_count": 94,
   "metadata": {},
   "outputs": [],
   "source": [
    "df1['Restricted Revenue'] = np.where(df1['Restricted Revenue'] == \"Restricted Revenue\", df1['Amount'], 0)"
   ]
  },
  {
   "cell_type": "code",
   "execution_count": 95,
   "metadata": {},
   "outputs": [],
   "source": [
    "df1[\"Rev or Exp\"] = df1[\"Account Digit\"].map({'6': 'Revenue', '5': 'Revenue', '7': 'Expense', '8': 'Expense'})"
   ]
  },
  {
   "cell_type": "code",
   "execution_count": 96,
   "metadata": {},
   "outputs": [
    {
     "data": {
      "text/plain": [
       "Expense    400520\n",
       "Revenue     38584\n",
       "Name: Rev or Exp, dtype: int64"
      ]
     },
     "execution_count": 96,
     "metadata": {},
     "output_type": "execute_result"
    }
   ],
   "source": [
    "df1[\"Rev or Exp\"].value_counts()"
   ]
  },
  {
   "cell_type": "code",
   "execution_count": 97,
   "metadata": {},
   "outputs": [],
   "source": [
    "df1['Multilateral'] = np.where(df1['Rev or Exp'] == \"Revenue\", df1['Amount'], 0)"
   ]
  },
  {
   "cell_type": "code",
   "execution_count": 98,
   "metadata": {},
   "outputs": [],
   "source": [
    "df1['General Expense'] = np.where(df1['Rev or Exp'] == \"Expense\", df1['Amount'], 0)"
   ]
  },
  {
   "cell_type": "code",
   "execution_count": 99,
   "metadata": {},
   "outputs": [],
   "source": [
    "df1['Unrestricted'] = - df1['Restricted Revenue'] - df1['Multilateral'] + df1['General Expense']"
   ]
  },
  {
   "cell_type": "code",
   "execution_count": 100,
   "metadata": {},
   "outputs": [],
   "source": [
    "#df1 = df1.drop('Match ID Names',1)"
   ]
  },
  {
   "cell_type": "code",
   "execution_count": 101,
   "metadata": {},
   "outputs": [
    {
     "data": {
      "text/plain": [
       "439108"
      ]
     },
     "execution_count": 101,
     "metadata": {},
     "output_type": "execute_result"
    }
   ],
   "source": [
    "len(df1)"
   ]
  },
  {
   "cell_type": "markdown",
   "metadata": {},
   "source": [
    "## Build FFS Tables"
   ]
  },
  {
   "cell_type": "code",
   "execution_count": 102,
   "metadata": {},
   "outputs": [],
   "source": [
    "df1['Project3YrRev'] = df1.groupby(['Project','Rev or Exp'])['Amount'].transform('sum')\n",
    "\n",
    "dfrevenuetable = df1[['Project', 'Project3YrRev','Rev or Exp']]\n",
    "\n",
    "dfrevenuetable = dfrevenuetable[dfrevenuetable['Rev or Exp']=='Revenue']\n"
   ]
  },
  {
   "cell_type": "code",
   "execution_count": 103,
   "metadata": {},
   "outputs": [
    {
     "name": "stderr",
     "output_type": "stream",
     "text": [
      "<ipython-input-103-5491e83c7e5f>:3: SettingWithCopyWarning: \n",
      "A value is trying to be set on a copy of a slice from a DataFrame.\n",
      "Try using .loc[row_indexer,col_indexer] = value instead\n",
      "\n",
      "See the caveats in the documentation: https://pandas.pydata.org/pandas-docs/stable/user_guide/indexing.html#returning-a-view-versus-a-copy\n",
      "  initiative_program_table['Project-edited'] = initiative_program_table['Client'] + \" : \" + initiative_program_table['Project']\n"
     ]
    }
   ],
   "source": [
    "initiative_program_table = dfMAVELINKACTIVEPROJECTS[['Program', 'Initiative', 'Project', 'Client']]\n",
    "\n",
    "initiative_program_table['Project-edited'] = initiative_program_table['Client'] + \" : \" + initiative_program_table['Project']\n",
    "\n",
    "initiative_program_table = initiative_program_table.drop_duplicates()\n",
    "\n",
    "initiative_program_table = initiative_program_table[['Program', 'Initiative', 'Project-edited']]\n",
    "\n",
    "initiative_program_table = initiative_program_table.rename(columns={'Project-edited':'Project'})"
   ]
  },
  {
   "cell_type": "code",
   "execution_count": 104,
   "metadata": {},
   "outputs": [],
   "source": [
    "initiative_program_table2 = df1[['Program', 'Initiative', 'Project']]"
   ]
  },
  {
   "cell_type": "code",
   "execution_count": 105,
   "metadata": {},
   "outputs": [],
   "source": [
    "initiative_program_table = pd.concat([initiative_program_table, initiative_program_table2], ignore_index=True)\n",
    "\n",
    "initiative_program_table = initiative_program_table.drop_duplicates()"
   ]
  },
  {
   "cell_type": "code",
   "execution_count": 106,
   "metadata": {},
   "outputs": [
    {
     "data": {
      "text/html": [
       "<div>\n",
       "<style scoped>\n",
       "    .dataframe tbody tr th:only-of-type {\n",
       "        vertical-align: middle;\n",
       "    }\n",
       "\n",
       "    .dataframe tbody tr th {\n",
       "        vertical-align: top;\n",
       "    }\n",
       "\n",
       "    .dataframe thead th {\n",
       "        text-align: right;\n",
       "    }\n",
       "</style>\n",
       "<table border=\"1\" class=\"dataframe\">\n",
       "  <thead>\n",
       "    <tr style=\"text-align: right;\">\n",
       "      <th></th>\n",
       "      <th>Program</th>\n",
       "      <th>Initiative</th>\n",
       "      <th>Project</th>\n",
       "    </tr>\n",
       "  </thead>\n",
       "  <tbody>\n",
       "    <tr>\n",
       "      <th>0</th>\n",
       "      <td>Industry</td>\n",
       "      <td>INY - Aviation</td>\n",
       "      <td>WSP : SFO SAF Feasibility</td>\n",
       "    </tr>\n",
       "    <tr>\n",
       "      <th>1</th>\n",
       "      <td>India</td>\n",
       "      <td>IN - India</td>\n",
       "      <td>WSP : Microsoft ZE Fleet Initiative</td>\n",
       "    </tr>\n",
       "    <tr>\n",
       "      <th>2</th>\n",
       "      <td>China</td>\n",
       "      <td>CHN - Early Peaking Cities</td>\n",
       "      <td>World Wide Fund for Nature Beijing Office - US...</td>\n",
       "    </tr>\n",
       "    <tr>\n",
       "      <th>3</th>\n",
       "      <td>Beijing</td>\n",
       "      <td>BEJ - Early Peaking Cities</td>\n",
       "      <td>World Wide Fund for Nature Beijing Office - CN...</td>\n",
       "    </tr>\n",
       "    <tr>\n",
       "      <th>4</th>\n",
       "      <td>Operations</td>\n",
       "      <td>OPS - CEO Special Projects</td>\n",
       "      <td>World Resources Institute (WRI) : America's Pl...</td>\n",
       "    </tr>\n",
       "    <tr>\n",
       "      <th>...</th>\n",
       "      <td>...</td>\n",
       "      <td>...</td>\n",
       "      <td>...</td>\n",
       "    </tr>\n",
       "    <tr>\n",
       "      <th>439670</th>\n",
       "      <td>WattTime</td>\n",
       "      <td>WAT - Admin</td>\n",
       "      <td>Inspire Energy Holdings, LLC</td>\n",
       "    </tr>\n",
       "    <tr>\n",
       "      <th>439671</th>\n",
       "      <td>WattTime</td>\n",
       "      <td>WAT - Admin</td>\n",
       "      <td>Sapient Industries Inc</td>\n",
       "    </tr>\n",
       "    <tr>\n",
       "      <th>439672</th>\n",
       "      <td>WattTime</td>\n",
       "      <td>WAT - Admin</td>\n",
       "      <td>Enerwise Global Technologies LLC WT</td>\n",
       "    </tr>\n",
       "    <tr>\n",
       "      <th>439674</th>\n",
       "      <td>WattTime</td>\n",
       "      <td>WAT - Admin</td>\n",
       "      <td>Exelon ComEd Energy Delivery-WT</td>\n",
       "    </tr>\n",
       "    <tr>\n",
       "      <th>440018</th>\n",
       "      <td>WattTime</td>\n",
       "      <td>WAT - Admin</td>\n",
       "      <td>Toyota Motor North America WT</td>\n",
       "    </tr>\n",
       "  </tbody>\n",
       "</table>\n",
       "<p>1867 rows × 3 columns</p>\n",
       "</div>"
      ],
      "text/plain": [
       "           Program                  Initiative  \\\n",
       "0         Industry              INY - Aviation   \n",
       "1            India                  IN - India   \n",
       "2            China  CHN - Early Peaking Cities   \n",
       "3          Beijing  BEJ - Early Peaking Cities   \n",
       "4       Operations  OPS - CEO Special Projects   \n",
       "...            ...                         ...   \n",
       "439670    WattTime                 WAT - Admin   \n",
       "439671    WattTime                 WAT - Admin   \n",
       "439672    WattTime                 WAT - Admin   \n",
       "439674    WattTime                 WAT - Admin   \n",
       "440018    WattTime                 WAT - Admin   \n",
       "\n",
       "                                                  Project  \n",
       "0                               WSP : SFO SAF Feasibility  \n",
       "1                     WSP : Microsoft ZE Fleet Initiative  \n",
       "2       World Wide Fund for Nature Beijing Office - US...  \n",
       "3       World Wide Fund for Nature Beijing Office - CN...  \n",
       "4       World Resources Institute (WRI) : America's Pl...  \n",
       "...                                                   ...  \n",
       "439670                       Inspire Energy Holdings, LLC  \n",
       "439671                             Sapient Industries Inc  \n",
       "439672                Enerwise Global Technologies LLC WT  \n",
       "439674                    Exelon ComEd Energy Delivery-WT  \n",
       "440018                      Toyota Motor North America WT  \n",
       "\n",
       "[1867 rows x 3 columns]"
      ]
     },
     "execution_count": 106,
     "metadata": {},
     "output_type": "execute_result"
    }
   ],
   "source": [
    "initiative_program_table"
   ]
  },
  {
   "cell_type": "code",
   "execution_count": 107,
   "metadata": {},
   "outputs": [],
   "source": [
    "dfFFSData = dfFFSData.rename(columns={'Name':'Project'})\n",
    "dfFFSIncludingDeferred = dfFFSIncludingDeferred.rename(columns={'Sum of Total Revenue Recognized':'Total Revenue Recognized'})\n",
    "dfFFSData2 = dfFFSData2.rename(columns={'Current Month Invoicing Action':'Current Month Action'})\n",
    "dfFFSData2 = dfFFSData2.rename(columns={'Name':'Project'})"
   ]
  },
  {
   "cell_type": "code",
   "execution_count": 108,
   "metadata": {},
   "outputs": [],
   "source": [
    "dfFFSData2['DUPLICATE'] = dfFFSData2['Project'].isin(dfFFSData['Project'])"
   ]
  },
  {
   "cell_type": "code",
   "execution_count": 109,
   "metadata": {},
   "outputs": [],
   "source": [
    "dfFFSData2 = dfFFSData2[dfFFSData2['DUPLICATE']==False]"
   ]
  },
  {
   "cell_type": "code",
   "execution_count": 110,
   "metadata": {},
   "outputs": [],
   "source": [
    "dfFFSData2 = dfFFSData2[['Project', 'Project Type', 'Contract?', 'Contract Start Date',\n",
    "       'Contract End Date', 'Contract Amount', 'Invoice Type',\n",
    "       'Invoicing Notes', 'Current Month Action', 'Project Complete?']]"
   ]
  },
  {
   "cell_type": "code",
   "execution_count": 111,
   "metadata": {},
   "outputs": [],
   "source": [
    "dfFFSData = pd.concat([dfFFSData, dfFFSData2], ignore_index=True)"
   ]
  },
  {
   "cell_type": "code",
   "execution_count": 112,
   "metadata": {},
   "outputs": [],
   "source": [
    "dfFFSData = pd.merge(dfFFSData, dfFFSIncludingDeferred, on = 'Project', how='left')\n"
   ]
  },
  {
   "cell_type": "code",
   "execution_count": 113,
   "metadata": {},
   "outputs": [],
   "source": [
    "dfFFSData['Total Revenue Recognized'].replace('', np.nan, inplace=True)\n",
    "dfFFSData['Total Revenue Recognized'].fillna(0, inplace=True)\n",
    "dfFFSData['Reimbursables NTE'].replace('', np.nan, inplace=True)\n",
    "dfFFSData['Reimbursables NTE'].fillna(0, inplace=True)\n",
    "dfFFSData['Invoice Type'].replace('', np.nan, inplace=True)\n",
    "dfFFSData['Invoice Type'].fillna(0, inplace=True)\n",
    "dfFFSData['Invoicing Notes'].replace('', np.nan, inplace=True)\n",
    "dfFFSData['Invoicing Notes'].fillna(0, inplace=True)\n",
    "dfFFSData['Current Month Action'].replace('', np.nan, inplace=True)\n",
    "dfFFSData['Current Month Action'].fillna(0, inplace=True)\n",
    "dfFFSData['Contract Amount'].replace('', np.nan, inplace=True)\n",
    "dfFFSData['Contract Amount'].fillna(0, inplace=True)\n",
    "dfFFSData['Remaining Contract Balance'].replace('', np.nan, inplace=True)\n",
    "dfFFSData['Remaining Contract Balance'].fillna(0, inplace=True)"
   ]
  },
  {
   "cell_type": "code",
   "execution_count": 114,
   "metadata": {},
   "outputs": [],
   "source": [
    "dfFFSData['Contract Amount'] = dfFFSData['Contract Amount'].astype(float)\n",
    "dfFFSData['Total Revenue Recognized'] = dfFFSData['Total Revenue Recognized'].astype(float)\n",
    "dfFFSData['Reimbursables NTE'] = dfFFSData['Reimbursables NTE'].astype(float)\n",
    "dfFFSData['Reimbursables Actual'] = dfFFSData['Reimbursables Actual'].astype(float)"
   ]
  },
  {
   "cell_type": "code",
   "execution_count": 115,
   "metadata": {},
   "outputs": [],
   "source": [
    "dfFFSData['Remaining Revenue'] = dfFFSData['Contract Amount'] + dfFFSData['Reimbursables NTE'] - dfFFSData['Total Revenue Recognized']"
   ]
  },
  {
   "cell_type": "code",
   "execution_count": 116,
   "metadata": {},
   "outputs": [],
   "source": [
    "dfFFSData.loc[dfFFSData['Remaining Revenue'] <= 0, 'Remaining Revenue'] = \"na\"\n",
    "dfFFSData.loc[dfFFSData['Contract Amount'] <= 0, 'Contract Amount'] = \"na\""
   ]
  },
  {
   "cell_type": "code",
   "execution_count": 117,
   "metadata": {},
   "outputs": [],
   "source": [
    "dfFFSData['Contract Start Date'] = pd.to_datetime(dfFFSData['Contract Start Date']).dt.strftime(\"%m/%d/%Y\")\n",
    "dfFFSData['Contract End Date'] = pd.to_datetime(dfFFSData['Contract End Date']).dt.strftime(\"%m/%d/%Y\")"
   ]
  },
  {
   "cell_type": "code",
   "execution_count": 118,
   "metadata": {},
   "outputs": [],
   "source": [
    "dfFFSDataV2 = dfFFSData\n",
    "\n",
    "dfFFSDataV2 = pd.merge(dfFFSDataV2, initiative_program_table, on = 'Project', how='left')\n",
    "\n",
    "dfFFSDataV2 = pd.merge(dfFFSDataV2, dfrevenuetable, on = 'Project', how='left')\n",
    "\n",
    "dfFFSDataV2 = dfFFSDataV2.drop_duplicates()"
   ]
  },
  {
   "cell_type": "code",
   "execution_count": 119,
   "metadata": {},
   "outputs": [],
   "source": [
    "dfFFSDataV2 = dfFFSDataV2[dfFFSDataV2['Project'] != \"Overall Total\"]"
   ]
  },
  {
   "cell_type": "code",
   "execution_count": 120,
   "metadata": {},
   "outputs": [],
   "source": [
    "dfFFSDataV2['Rev or Exp'].replace('', np.nan, inplace=True)\n",
    "dfFFSDataV2['Rev or Exp'].fillna(0, inplace=True)\n",
    "dfFFSDataV2['Reimbursables NTE'].replace('', np.nan, inplace=True)\n",
    "dfFFSDataV2['Reimbursables NTE'].fillna('na', inplace=True)\n",
    "dfFFSDataV2['Contract Start Date'].replace('', np.nan, inplace=True)\n",
    "dfFFSDataV2['Contract Start Date'].fillna('na', inplace=True)\n",
    "dfFFSDataV2['Contract End Date'].replace('', np.nan, inplace=True)\n",
    "dfFFSDataV2['Contract End Date'].fillna('na', inplace=True)"
   ]
  },
  {
   "cell_type": "code",
   "execution_count": 121,
   "metadata": {},
   "outputs": [],
   "source": [
    "PROJECTSWITHOUTINITIATIVES = dfFFSDataV2[pd.isnull(dfFFSDataV2['Initiative'])]"
   ]
  },
  {
   "cell_type": "code",
   "execution_count": 122,
   "metadata": {},
   "outputs": [
    {
     "data": {
      "text/html": [
       "<div>\n",
       "<style scoped>\n",
       "    .dataframe tbody tr th:only-of-type {\n",
       "        vertical-align: middle;\n",
       "    }\n",
       "\n",
       "    .dataframe tbody tr th {\n",
       "        vertical-align: top;\n",
       "    }\n",
       "\n",
       "    .dataframe thead th {\n",
       "        text-align: right;\n",
       "    }\n",
       "</style>\n",
       "<table border=\"1\" class=\"dataframe\">\n",
       "  <thead>\n",
       "    <tr style=\"text-align: right;\">\n",
       "      <th></th>\n",
       "      <th>Client</th>\n",
       "      <th>Project</th>\n",
       "      <th>Project Type</th>\n",
       "      <th>Contract?</th>\n",
       "      <th>Contract Start Date</th>\n",
       "      <th>Contract End Date</th>\n",
       "      <th>Invoice Type</th>\n",
       "      <th>Invoicing Notes</th>\n",
       "      <th>Current Month Action</th>\n",
       "      <th>Revenue Recognition Notes</th>\n",
       "      <th>...</th>\n",
       "      <th>Reimbursables NTE</th>\n",
       "      <th>Reimbursables Actual</th>\n",
       "      <th>Remaining Contract Balance</th>\n",
       "      <th>Project Complete?</th>\n",
       "      <th>Total Revenue Recognized</th>\n",
       "      <th>Remaining Revenue</th>\n",
       "      <th>Program</th>\n",
       "      <th>Initiative</th>\n",
       "      <th>Project3YrRev</th>\n",
       "      <th>Rev or Exp</th>\n",
       "    </tr>\n",
       "  </thead>\n",
       "  <tbody>\n",
       "    <tr>\n",
       "      <th>4024</th>\n",
       "      <td>Overall Total</td>\n",
       "      <td></td>\n",
       "      <td></td>\n",
       "      <td></td>\n",
       "      <td>na</td>\n",
       "      <td>na</td>\n",
       "      <td>0</td>\n",
       "      <td>0</td>\n",
       "      <td>0</td>\n",
       "      <td></td>\n",
       "      <td>...</td>\n",
       "      <td>0.0</td>\n",
       "      <td>1262768.24</td>\n",
       "      <td>0</td>\n",
       "      <td>NaN</td>\n",
       "      <td>0.0</td>\n",
       "      <td>na</td>\n",
       "      <td>NaN</td>\n",
       "      <td>NaN</td>\n",
       "      <td>NaN</td>\n",
       "      <td>0</td>\n",
       "    </tr>\n",
       "  </tbody>\n",
       "</table>\n",
       "<p>1 rows × 22 columns</p>\n",
       "</div>"
      ],
      "text/plain": [
       "             Client Project Project Type Contract? Contract Start Date  \\\n",
       "4024  Overall Total                                                 na   \n",
       "\n",
       "     Contract End Date Invoice Type Invoicing Notes Current Month Action  \\\n",
       "4024                na            0               0                    0   \n",
       "\n",
       "     Revenue Recognition Notes  ... Reimbursables NTE Reimbursables Actual  \\\n",
       "4024                            ...               0.0           1262768.24   \n",
       "\n",
       "      Remaining Contract Balance  Project Complete? Total Revenue Recognized  \\\n",
       "4024                           0                NaN                      0.0   \n",
       "\n",
       "     Remaining Revenue  Program Initiative Project3YrRev Rev or Exp  \n",
       "4024                na      NaN        NaN           NaN          0  \n",
       "\n",
       "[1 rows x 22 columns]"
      ]
     },
     "execution_count": 122,
     "metadata": {},
     "output_type": "execute_result"
    }
   ],
   "source": [
    "PROJECTSWITHOUTINITIATIVES"
   ]
  },
  {
   "cell_type": "code",
   "execution_count": 123,
   "metadata": {},
   "outputs": [],
   "source": [
    "dfFFSDataV2.to_excel(\"FFSOpen.xlsx\")"
   ]
  },
  {
   "cell_type": "code",
   "execution_count": 124,
   "metadata": {},
   "outputs": [],
   "source": [
    "dfFFSDataZeros = dfFFSDataV2[dfFFSDataV2['Rev or Exp']==0]"
   ]
  },
  {
   "cell_type": "markdown",
   "metadata": {},
   "source": [
    "## Add critical datapoints to Netsuite Report from RMI Fee for Service Report "
   ]
  },
  {
   "cell_type": "code",
   "execution_count": 125,
   "metadata": {},
   "outputs": [
    {
     "data": {
      "text/plain": [
       "Index(['Project', 'Project Type', 'Contract?', 'Contract Start Date',\n",
       "       'Contract End Date', 'Invoice Type', 'Invoicing Notes',\n",
       "       'Current Month Action', 'Revenue Recognition Notes', 'Contract Amount',\n",
       "       'Total Revenue Recognized', 'Reimbursables NTE', 'Reimbursables Actual',\n",
       "       'Remaining Revenue'],\n",
       "      dtype='object')"
      ]
     },
     "execution_count": 125,
     "metadata": {},
     "output_type": "execute_result"
    }
   ],
   "source": [
    "dfFFSDataedited = dfFFSData[['Project', 'Project Type', 'Contract?',\n",
    "       'Contract Start Date', 'Contract End Date', 'Invoice Type',\n",
    "       'Invoicing Notes', 'Current Month Action', 'Revenue Recognition Notes',\n",
    "       'Contract Amount', 'Total Revenue Recognized', 'Reimbursables NTE',\n",
    "       'Reimbursables Actual', 'Remaining Revenue']]\n",
    "\n",
    "\n",
    "dfFFSDataedited.columns"
   ]
  },
  {
   "cell_type": "code",
   "execution_count": 126,
   "metadata": {},
   "outputs": [],
   "source": [
    "df1 = pd.merge(df1, dfFFSDataedited, on = 'Project', how='left')"
   ]
  },
  {
   "cell_type": "code",
   "execution_count": 127,
   "metadata": {},
   "outputs": [
    {
     "data": {
      "text/plain": [
       "Index(['Date', 'Period', 'GL Account', 'Document Number', 'Program',\n",
       "       'Initiative', 'Project', 'Restriction', 'Grant', 'Amount',\n",
       "       'Vendor Name', 'Employee Name', 'Memo', 'Amount (Credit)',\n",
       "       'Amount (Debit)', 'Client', 'Transaction Number', 'Type', 'Vendor Rate',\n",
       "       'Vendor Contract Expiration Date', 'ALLOCATION', 'Project Allocations',\n",
       "       'Rollup Account', 'Account Digit', 'Accounting Adjustments',\n",
       "       'Accounting Close Out', 'Inst or Reclass', 'grant?',\n",
       "       'Restricted Revenue', 'Rev or Exp', 'Multilateral', 'General Expense',\n",
       "       'Unrestricted', 'Project3YrRev', 'Project Type', 'Contract?',\n",
       "       'Contract Start Date', 'Contract End Date', 'Invoice Type',\n",
       "       'Invoicing Notes', 'Current Month Action', 'Revenue Recognition Notes',\n",
       "       'Contract Amount', 'Total Revenue Recognized', 'Reimbursables NTE',\n",
       "       'Reimbursables Actual', 'Remaining Revenue'],\n",
       "      dtype='object')"
      ]
     },
     "execution_count": 127,
     "metadata": {},
     "output_type": "execute_result"
    }
   ],
   "source": [
    "df1.columns"
   ]
  },
  {
   "cell_type": "code",
   "execution_count": 128,
   "metadata": {},
   "outputs": [],
   "source": [
    "df1['Project Type'].replace('', np.nan, inplace=True)\n",
    "df1['Contract?'].replace('', np.nan, inplace=True)\n",
    "df1['Contract Start Date'].replace('', np.nan, inplace=True)\n",
    "df1['Contract End Date'].replace('', np.nan, inplace=True)\n",
    "df1['Invoice Type'].replace('', np.nan, inplace=True)\n",
    "df1['Invoicing Notes'].replace('', np.nan, inplace=True)\n",
    "df1['Current Month Action'].replace('', np.nan, inplace=True)\n",
    "df1['Revenue Recognition Notes'].replace('', np.nan, inplace=True)\n",
    "df1['Contract Amount'].replace('', np.nan, inplace=True)\n",
    "df1['Total Revenue Recognized'].replace('', np.nan, inplace=True)\n",
    "df1['Reimbursables NTE'].replace('', np.nan, inplace=True)\n",
    "df1['Reimbursables Actual'].replace('', inplace=True)\n",
    "df1['Remaining Revenue'].replace('', np.nan, inplace=True)"
   ]
  },
  {
   "cell_type": "code",
   "execution_count": 129,
   "metadata": {},
   "outputs": [],
   "source": [
    "df1['Project Type'].fillna(\"na\", inplace=True)\n",
    "df1['Contract?'].fillna(\"na\", inplace=True)\n",
    "df1['Contract Start Date'].fillna(\"na\", inplace=True)\n",
    "df1['Contract End Date'].fillna(\"na\", inplace=True)\n",
    "df1['Invoice Type'].fillna(\"na\", inplace=True)\n",
    "df1['Invoicing Notes'].fillna(\"na\", inplace=True)\n",
    "df1['Current Month Action'].fillna(\"na\", inplace=True)\n",
    "df1['Revenue Recognition Notes'].fillna(\"na\", inplace=True)\n",
    "df1['Contract Amount'].fillna(\"na\", inplace=True)\n",
    "df1['Total Revenue Recognized'].fillna(\"na\", inplace=True)\n",
    "df1['Reimbursables NTE'].fillna(\"na\", inplace=True)\n",
    "df1['Reimbursables Actual'].fillna(\"na\", inplace=True)\n",
    "df1['Remaining Revenue'].fillna(\"na\", inplace=True)"
   ]
  },
  {
   "cell_type": "markdown",
   "metadata": {},
   "source": [
    "## Grant Balance Data Manipulation"
   ]
  },
  {
   "cell_type": "code",
   "execution_count": 130,
   "metadata": {},
   "outputs": [],
   "source": [
    "dfGrantBalances = dfGrantBalances[dfGrantBalances['Grant'].notna()]"
   ]
  },
  {
   "cell_type": "code",
   "execution_count": 131,
   "metadata": {},
   "outputs": [],
   "source": [
    "dfGrantBalancescopy = dfGrantBalances[['Grant', 'Amount Received', 'Total Grant Spend', 'Institutional Overhead Note', 'Accounting Treatment', 'Institutional Overhead', 'NS Balance', 'Grant Close Date (Adaptive Sheet)', 'Grant Start Date', 'Grant Revenue Date', 'Close Date Notes']]"
   ]
  },
  {
   "cell_type": "code",
   "execution_count": 132,
   "metadata": {},
   "outputs": [
    {
     "name": "stderr",
     "output_type": "stream",
     "text": [
      "<ipython-input-132-13c56aec49e9>:1: SettingWithCopyWarning: \n",
      "A value is trying to be set on a copy of a slice from a DataFrame.\n",
      "Try using .loc[row_indexer,col_indexer] = value instead\n",
      "\n",
      "See the caveats in the documentation: https://pandas.pydata.org/pandas-docs/stable/user_guide/indexing.html#returning-a-view-versus-a-copy\n",
      "  dfGrantBalancescopy['Grant Start Date'] = pd.to_datetime(dfGrantBalancescopy['Grant Start Date']).dt.strftime(\"%m/%d/%Y\")\n",
      "<ipython-input-132-13c56aec49e9>:2: SettingWithCopyWarning: \n",
      "A value is trying to be set on a copy of a slice from a DataFrame.\n",
      "Try using .loc[row_indexer,col_indexer] = value instead\n",
      "\n",
      "See the caveats in the documentation: https://pandas.pydata.org/pandas-docs/stable/user_guide/indexing.html#returning-a-view-versus-a-copy\n",
      "  dfGrantBalancescopy['Grant Revenue Date'] = pd.to_datetime(dfGrantBalancescopy['Grant Revenue Date']).dt.strftime(\"%m/%d/%Y\")\n",
      "<ipython-input-132-13c56aec49e9>:3: SettingWithCopyWarning: \n",
      "A value is trying to be set on a copy of a slice from a DataFrame.\n",
      "Try using .loc[row_indexer,col_indexer] = value instead\n",
      "\n",
      "See the caveats in the documentation: https://pandas.pydata.org/pandas-docs/stable/user_guide/indexing.html#returning-a-view-versus-a-copy\n",
      "  dfGrantBalancescopy['Grant Close Date (Adaptive Sheet)'] = pd.to_datetime(dfGrantBalancescopy['Grant Close Date (Adaptive Sheet)']).dt.strftime(\"%m/%d/%Y\")\n"
     ]
    }
   ],
   "source": [
    "dfGrantBalancescopy['Grant Start Date'] = pd.to_datetime(dfGrantBalancescopy['Grant Start Date']).dt.strftime(\"%m/%d/%Y\")\n",
    "dfGrantBalancescopy['Grant Revenue Date'] = pd.to_datetime(dfGrantBalancescopy['Grant Revenue Date']).dt.strftime(\"%m/%d/%Y\")\n",
    "dfGrantBalancescopy['Grant Close Date (Adaptive Sheet)'] = pd.to_datetime(dfGrantBalancescopy['Grant Close Date (Adaptive Sheet)']).dt.strftime(\"%m/%d/%Y\")"
   ]
  },
  {
   "cell_type": "code",
   "execution_count": 133,
   "metadata": {},
   "outputs": [
    {
     "name": "stderr",
     "output_type": "stream",
     "text": [
      "<ipython-input-133-074b2e46f706>:1: SettingWithCopyWarning: \n",
      "A value is trying to be set on a copy of a slice from a DataFrame.\n",
      "Try using .loc[row_indexer,col_indexer] = value instead\n",
      "\n",
      "See the caveats in the documentation: https://pandas.pydata.org/pandas-docs/stable/user_guide/indexing.html#returning-a-view-versus-a-copy\n",
      "  dfGrantBalancescopy['Amount Received'] = dfGrantBalancescopy['Amount Received'].astype(float)\n",
      "<ipython-input-133-074b2e46f706>:2: SettingWithCopyWarning: \n",
      "A value is trying to be set on a copy of a slice from a DataFrame.\n",
      "Try using .loc[row_indexer,col_indexer] = value instead\n",
      "\n",
      "See the caveats in the documentation: https://pandas.pydata.org/pandas-docs/stable/user_guide/indexing.html#returning-a-view-versus-a-copy\n",
      "  dfGrantBalancescopy['Total Grant Spend'] = dfGrantBalancescopy['Total Grant Spend'].astype(float)\n",
      "<ipython-input-133-074b2e46f706>:3: SettingWithCopyWarning: \n",
      "A value is trying to be set on a copy of a slice from a DataFrame.\n",
      "Try using .loc[row_indexer,col_indexer] = value instead\n",
      "\n",
      "See the caveats in the documentation: https://pandas.pydata.org/pandas-docs/stable/user_guide/indexing.html#returning-a-view-versus-a-copy\n",
      "  dfGrantBalancescopy['Institutional Overhead'] = dfGrantBalancescopy['Institutional Overhead'].astype(float)\n",
      "<ipython-input-133-074b2e46f706>:4: SettingWithCopyWarning: \n",
      "A value is trying to be set on a copy of a slice from a DataFrame.\n",
      "Try using .loc[row_indexer,col_indexer] = value instead\n",
      "\n",
      "See the caveats in the documentation: https://pandas.pydata.org/pandas-docs/stable/user_guide/indexing.html#returning-a-view-versus-a-copy\n",
      "  dfGrantBalancescopy['NS Balance'] = dfGrantBalancescopy['NS Balance'].astype(float)\n"
     ]
    }
   ],
   "source": [
    "dfGrantBalancescopy['Amount Received'] = dfGrantBalancescopy['Amount Received'].astype(float)\n",
    "dfGrantBalancescopy['Total Grant Spend'] = dfGrantBalancescopy['Total Grant Spend'].astype(float)\n",
    "dfGrantBalancescopy['Institutional Overhead'] = dfGrantBalancescopy['Institutional Overhead'].astype(float)\n",
    "dfGrantBalancescopy['NS Balance'] = dfGrantBalancescopy['NS Balance'].astype(float)\n",
    "#dfGrantBalancescopy['Close Date Notes'] = dfGrantBalancescopy['Close Date Notes'].astype(str)"
   ]
  },
  {
   "cell_type": "code",
   "execution_count": 134,
   "metadata": {},
   "outputs": [
    {
     "name": "stderr",
     "output_type": "stream",
     "text": [
      "c:\\users\\jeremy wendt\\anaconda3\\envs\\code\\detail_trans_project_fy21\\notebooks\\venv\\lib\\site-packages\\pandas\\core\\series.py:4563: SettingWithCopyWarning: \n",
      "A value is trying to be set on a copy of a slice from a DataFrame\n",
      "\n",
      "See the caveats in the documentation: https://pandas.pydata.org/pandas-docs/stable/user_guide/indexing.html#returning-a-view-versus-a-copy\n",
      "  return super().replace(\n",
      "c:\\users\\jeremy wendt\\anaconda3\\envs\\code\\detail_trans_project_fy21\\notebooks\\venv\\lib\\site-packages\\pandas\\core\\series.py:4517: SettingWithCopyWarning: \n",
      "A value is trying to be set on a copy of a slice from a DataFrame\n",
      "\n",
      "See the caveats in the documentation: https://pandas.pydata.org/pandas-docs/stable/user_guide/indexing.html#returning-a-view-versus-a-copy\n",
      "  return super().fillna(\n"
     ]
    }
   ],
   "source": [
    "dfGrantBalancescopy['Grant Close Date (Adaptive Sheet)'].replace('', np.nan, inplace=True)\n",
    "dfGrantBalancescopy['Grant Start Date'].replace('', np.nan, inplace=True)\n",
    "dfGrantBalancescopy['Grant Revenue Date'].replace('', np.nan, inplace=True)\n",
    "dfGrantBalancescopy['Close Date Notes'].replace('', np.nan, inplace=True)\n",
    "dfGrantBalancescopy['Grant Close Date (Adaptive Sheet)'].fillna(\"na\", inplace=True)\n",
    "dfGrantBalancescopy['Grant Start Date'].fillna(\"na\", inplace=True)\n",
    "dfGrantBalancescopy['Grant Revenue Date'].fillna(\"na\", inplace=True)\n",
    "dfGrantBalancescopy['Close Date Notes'].fillna(\"na\", inplace=True)"
   ]
  },
  {
   "cell_type": "code",
   "execution_count": 135,
   "metadata": {},
   "outputs": [],
   "source": [
    "df1 = pd.merge(df1, dfGrantBalancescopy, on = 'Grant', how='left')"
   ]
  },
  {
   "cell_type": "code",
   "execution_count": 136,
   "metadata": {},
   "outputs": [
    {
     "data": {
      "text/plain": [
       "439108"
      ]
     },
     "execution_count": 136,
     "metadata": {},
     "output_type": "execute_result"
    }
   ],
   "source": [
    "len(df1)"
   ]
  },
  {
   "cell_type": "markdown",
   "metadata": {},
   "source": [
    "# Add Hyperlinks"
   ]
  },
  {
   "cell_type": "code",
   "execution_count": 137,
   "metadata": {},
   "outputs": [],
   "source": [
    "df1 = pd.merge(df1, dfSalesforceGrantContractsNS, on = 'Grant', how='left')"
   ]
  },
  {
   "cell_type": "code",
   "execution_count": 138,
   "metadata": {},
   "outputs": [
    {
     "data": {
      "text/plain": [
       "439108"
      ]
     },
     "execution_count": 138,
     "metadata": {},
     "output_type": "execute_result"
    }
   ],
   "source": [
    "len(df1)"
   ]
  },
  {
   "cell_type": "code",
   "execution_count": 139,
   "metadata": {},
   "outputs": [],
   "source": [
    "df1['Grant Close Date (Adaptive Sheet)'].replace('', np.nan, inplace=True)\n",
    "df1['Grant Start Date'].replace('', np.nan, inplace=True)\n",
    "df1['Close Date Notes'].replace('', np.nan, inplace=True)\n",
    "df1['Documents Link'].replace('', np.nan, inplace=True)\n",
    "df1['Grant Revenue Date'].replace('', np.nan, inplace=True)\n",
    "df1['Amount Received'].replace('', np.nan, inplace=True)\n",
    "df1['Total Grant Spend'].replace('', np.nan, inplace=True)\n",
    "df1['Institutional Overhead Note'].replace('', np.nan, inplace=True)\n",
    "df1['Accounting Treatment'].replace('', np.nan, inplace=True)\n",
    "df1['Institutional Overhead'].replace('', np.nan, inplace=True)\n",
    "df1['NS Balance'].replace('', np.nan, inplace=True)\n",
    "df1['Grant Close Date (Adaptive Sheet)'].fillna(\"na\", inplace=True)\n",
    "df1['Grant Start Date'].fillna(\"na\", inplace=True)\n",
    "df1['Grant Revenue Date'].fillna(\"na\", inplace=True)\n",
    "df1['Amount Received'].fillna(\"na\", inplace=True)\n",
    "df1['Total Grant Spend'].fillna(\"na\", inplace=True)\n",
    "df1['Institutional Overhead Note'].fillna(\"na\", inplace=True)\n",
    "df1['Accounting Treatment'].fillna(\"na\", inplace=True)\n",
    "df1['Institutional Overhead'].fillna(\"na\", inplace=True)\n",
    "df1['NS Balance'].fillna(\"na\", inplace=True)\n",
    "df1['Close Date Notes'].fillna(\"na\", inplace=True)\n",
    "df1['Documents Link'].fillna(\"na\", inplace=True)"
   ]
  },
  {
   "cell_type": "code",
   "execution_count": null,
   "metadata": {},
   "outputs": [],
   "source": []
  },
  {
   "cell_type": "markdown",
   "metadata": {},
   "source": [
    "# Create Grant Spenddown of 0 Dataframe"
   ]
  },
  {
   "cell_type": "code",
   "execution_count": 140,
   "metadata": {},
   "outputs": [],
   "source": [
    "#Missing Project\n",
    "dfGrantBalancesZEROSPEND = dfGrantBalances[['Level', 'Grant', 'Amount Received', 'Total Grant Spend', 'Institutional Overhead Note', 'Accounting Treatment', 'Institutional Overhead', 'NS Balance', 'Grant Close Date (Adaptive Sheet)', 'Grant Start Date', 'Grant Revenue Date', 'Close Date Notes']]"
   ]
  },
  {
   "cell_type": "code",
   "execution_count": 141,
   "metadata": {},
   "outputs": [],
   "source": [
    "dfGrantBalancesZEROSPEND = dfGrantBalancesZEROSPEND[dfGrantBalancesZEROSPEND['Total Grant Spend']==0]"
   ]
  },
  {
   "cell_type": "code",
   "execution_count": 142,
   "metadata": {},
   "outputs": [],
   "source": [
    "dfGrantBalancesZEROSPEND[\"Project\"] = \"\""
   ]
  },
  {
   "cell_type": "code",
   "execution_count": 143,
   "metadata": {},
   "outputs": [
    {
     "data": {
      "text/html": [
       "<div>\n",
       "<style scoped>\n",
       "    .dataframe tbody tr th:only-of-type {\n",
       "        vertical-align: middle;\n",
       "    }\n",
       "\n",
       "    .dataframe tbody tr th {\n",
       "        vertical-align: top;\n",
       "    }\n",
       "\n",
       "    .dataframe thead th {\n",
       "        text-align: right;\n",
       "    }\n",
       "</style>\n",
       "<table border=\"1\" class=\"dataframe\">\n",
       "  <thead>\n",
       "    <tr style=\"text-align: right;\">\n",
       "      <th></th>\n",
       "      <th>Level</th>\n",
       "      <th>Grant</th>\n",
       "      <th>Amount Received</th>\n",
       "      <th>Total Grant Spend</th>\n",
       "      <th>Institutional Overhead Note</th>\n",
       "      <th>Accounting Treatment</th>\n",
       "      <th>Institutional Overhead</th>\n",
       "      <th>NS Balance</th>\n",
       "      <th>Grant Close Date (Adaptive Sheet)</th>\n",
       "      <th>Grant Start Date</th>\n",
       "      <th>Grant Revenue Date</th>\n",
       "      <th>Close Date Notes</th>\n",
       "      <th>Project</th>\n",
       "    </tr>\n",
       "  </thead>\n",
       "  <tbody>\n",
       "    <tr>\n",
       "      <th>0</th>\n",
       "      <td>BKT - Third Derivative</td>\n",
       "      <td>FedEx - 3rd Derivative FY21</td>\n",
       "      <td>900000.00</td>\n",
       "      <td>0.0</td>\n",
       "      <td>20% of total cost</td>\n",
       "      <td>NaN</td>\n",
       "      <td>180000.0</td>\n",
       "      <td>720000.00</td>\n",
       "      <td>2024-01-19</td>\n",
       "      <td>NaT</td>\n",
       "      <td>NaT</td>\n",
       "      <td>NaN</td>\n",
       "      <td></td>\n",
       "    </tr>\n",
       "    <tr>\n",
       "      <th>9</th>\n",
       "      <td>GCF - Center for a Climate-Aligned Finance</td>\n",
       "      <td>Hewlett - GCF CCAF FY20</td>\n",
       "      <td>200000.00</td>\n",
       "      <td>0.0</td>\n",
       "      <td>20% of total grant</td>\n",
       "      <td>Revenue Recognized</td>\n",
       "      <td>40000.0</td>\n",
       "      <td>160000.00</td>\n",
       "      <td>2022-06-30</td>\n",
       "      <td>2020-06-01</td>\n",
       "      <td>2020-06-02</td>\n",
       "      <td>NaN</td>\n",
       "      <td></td>\n",
       "    </tr>\n",
       "    <tr>\n",
       "      <th>26</th>\n",
       "      <td>POW - Admin</td>\n",
       "      <td>Heising-Simons - Electricity FY21</td>\n",
       "      <td>250000.00</td>\n",
       "      <td>0.0</td>\n",
       "      <td>0% of Total Cost</td>\n",
       "      <td>NaN</td>\n",
       "      <td>0.0</td>\n",
       "      <td>250000.00</td>\n",
       "      <td>NaT</td>\n",
       "      <td>NaT</td>\n",
       "      <td>NaT</td>\n",
       "      <td>NaN</td>\n",
       "      <td></td>\n",
       "    </tr>\n",
       "    <tr>\n",
       "      <th>27</th>\n",
       "      <td>BLD - Building Electrification</td>\n",
       "      <td>Heising-Simons - Building Electrification FY21</td>\n",
       "      <td>150000.00</td>\n",
       "      <td>0.0</td>\n",
       "      <td>0% of Total Cost</td>\n",
       "      <td>NaN</td>\n",
       "      <td>0.0</td>\n",
       "      <td>150000.00</td>\n",
       "      <td>2021-11-20</td>\n",
       "      <td>2020-12-01</td>\n",
       "      <td>NaT</td>\n",
       "      <td>NaN</td>\n",
       "      <td></td>\n",
       "    </tr>\n",
       "    <tr>\n",
       "      <th>28</th>\n",
       "      <td>GCF - Center for a Climate-Aligned Finance</td>\n",
       "      <td>Climateworks - CAI CCAF FY21</td>\n",
       "      <td>150000.00</td>\n",
       "      <td>0.0</td>\n",
       "      <td>0% of Total Cost</td>\n",
       "      <td>Revenue Recognized</td>\n",
       "      <td>0.0</td>\n",
       "      <td>150000.00</td>\n",
       "      <td>2021-10-31</td>\n",
       "      <td>2020-11-01</td>\n",
       "      <td>2020-12-22</td>\n",
       "      <td>NaN</td>\n",
       "      <td></td>\n",
       "    </tr>\n",
       "    <tr>\n",
       "      <th>30</th>\n",
       "      <td>BLD - Building Electrification</td>\n",
       "      <td>Anonymous - Building Electrification FY21</td>\n",
       "      <td>500000.00</td>\n",
       "      <td>0.0</td>\n",
       "      <td>20% of total grant</td>\n",
       "      <td>Revenue Recognized</td>\n",
       "      <td>66600.0</td>\n",
       "      <td>433400.00</td>\n",
       "      <td>2021-10-14</td>\n",
       "      <td>2020-10-15</td>\n",
       "      <td>2020-11-05</td>\n",
       "      <td>NaN</td>\n",
       "      <td></td>\n",
       "    </tr>\n",
       "    <tr>\n",
       "      <th>33</th>\n",
       "      <td>CIP - Solutions for Oil and Gas</td>\n",
       "      <td>High Tide - Climate Intelligence FY21</td>\n",
       "      <td>250000.00</td>\n",
       "      <td>0.0</td>\n",
       "      <td>15% of total grant</td>\n",
       "      <td>Revenue Recognized</td>\n",
       "      <td>37500.0</td>\n",
       "      <td>212500.00</td>\n",
       "      <td>2021-08-30</td>\n",
       "      <td>2021-03-01</td>\n",
       "      <td>2021-02-03</td>\n",
       "      <td>NaN</td>\n",
       "      <td></td>\n",
       "    </tr>\n",
       "    <tr>\n",
       "      <th>50</th>\n",
       "      <td>UT - City Renewable Accelerator</td>\n",
       "      <td>Schmidt - SolarAPP FY20</td>\n",
       "      <td>50000.00</td>\n",
       "      <td>0.0</td>\n",
       "      <td>20% of total grant</td>\n",
       "      <td>Revenue Recognized</td>\n",
       "      <td>10000.0</td>\n",
       "      <td>40000.00</td>\n",
       "      <td>2021-06-15</td>\n",
       "      <td>2020-06-29</td>\n",
       "      <td>2020-06-29</td>\n",
       "      <td>NaN</td>\n",
       "      <td></td>\n",
       "    </tr>\n",
       "    <tr>\n",
       "      <th>63</th>\n",
       "      <td>GCF - Center for a Climate-Aligned Finance</td>\n",
       "      <td>TD Bank - CCAF FY21</td>\n",
       "      <td>400000.00</td>\n",
       "      <td>0.0</td>\n",
       "      <td>0% of total cost</td>\n",
       "      <td>Revenue Recognized</td>\n",
       "      <td>0.0</td>\n",
       "      <td>400000.00</td>\n",
       "      <td>NaT</td>\n",
       "      <td>NaT</td>\n",
       "      <td>2021-02-22</td>\n",
       "      <td>Anticipated end: FY23 Q2</td>\n",
       "      <td></td>\n",
       "    </tr>\n",
       "    <tr>\n",
       "      <th>64</th>\n",
       "      <td>BKT - Third Derivative</td>\n",
       "      <td>Engie - 3rd Derivative FY21</td>\n",
       "      <td>50000.00</td>\n",
       "      <td>0.0</td>\n",
       "      <td>0% of total cost</td>\n",
       "      <td>0</td>\n",
       "      <td>0.0</td>\n",
       "      <td>50000.00</td>\n",
       "      <td>2024-02-01</td>\n",
       "      <td>NaT</td>\n",
       "      <td>2021-03-12</td>\n",
       "      <td>NaN</td>\n",
       "      <td></td>\n",
       "    </tr>\n",
       "    <tr>\n",
       "      <th>65</th>\n",
       "      <td>GCF - Center for a Climate-Aligned Finance</td>\n",
       "      <td>CIBC - CAI CCAF FY21</td>\n",
       "      <td>150000.00</td>\n",
       "      <td>0.0</td>\n",
       "      <td>0% of total cost</td>\n",
       "      <td>Revenue Recognized</td>\n",
       "      <td>0.0</td>\n",
       "      <td>150000.00</td>\n",
       "      <td>2022-01-29</td>\n",
       "      <td>NaT</td>\n",
       "      <td>2021-02-09</td>\n",
       "      <td>NaN</td>\n",
       "      <td></td>\n",
       "    </tr>\n",
       "    <tr>\n",
       "      <th>68</th>\n",
       "      <td>BKT - Third Derivative</td>\n",
       "      <td>BP - 3rd Derivative FY21</td>\n",
       "      <td>500000.00</td>\n",
       "      <td>0.0</td>\n",
       "      <td>0% of total cost</td>\n",
       "      <td>Revenue Recognized</td>\n",
       "      <td>0.0</td>\n",
       "      <td>500000.00</td>\n",
       "      <td>2024-02-01</td>\n",
       "      <td>NaT</td>\n",
       "      <td>2021-02-12</td>\n",
       "      <td>NaN</td>\n",
       "      <td></td>\n",
       "    </tr>\n",
       "    <tr>\n",
       "      <th>73</th>\n",
       "      <td>BLD - Admin</td>\n",
       "      <td>Bloomberg - Buildings FY21</td>\n",
       "      <td>550000.00</td>\n",
       "      <td>0.0</td>\n",
       "      <td>0% of total cost</td>\n",
       "      <td>NaN</td>\n",
       "      <td>0.0</td>\n",
       "      <td>550000.00</td>\n",
       "      <td>NaT</td>\n",
       "      <td>NaT</td>\n",
       "      <td>NaT</td>\n",
       "      <td>Waiting for confirmation of end date from Betsy</td>\n",
       "      <td></td>\n",
       "    </tr>\n",
       "    <tr>\n",
       "      <th>75</th>\n",
       "      <td>BLD - Building Electrification</td>\n",
       "      <td>Moxie - Building Electrification FY20</td>\n",
       "      <td>15000.00</td>\n",
       "      <td>0.0</td>\n",
       "      <td>20% of total cost</td>\n",
       "      <td>Revenue Recognized</td>\n",
       "      <td>3000.0</td>\n",
       "      <td>12000.00</td>\n",
       "      <td>NaT</td>\n",
       "      <td>NaT</td>\n",
       "      <td>2020-06-17</td>\n",
       "      <td>Anticipated end 6/30/2020</td>\n",
       "      <td></td>\n",
       "    </tr>\n",
       "    <tr>\n",
       "      <th>81</th>\n",
       "      <td>GCF - Center for a Climate-Aligned Finance</td>\n",
       "      <td>Vision Ridge - GCF FY20</td>\n",
       "      <td>100000.00</td>\n",
       "      <td>0.0</td>\n",
       "      <td>20% of total grant</td>\n",
       "      <td>Revenue Recognized</td>\n",
       "      <td>20000.0</td>\n",
       "      <td>80000.00</td>\n",
       "      <td>NaT</td>\n",
       "      <td>NaT</td>\n",
       "      <td>2020-06-30</td>\n",
       "      <td>Anticipated end 6/30/2021</td>\n",
       "      <td></td>\n",
       "    </tr>\n",
       "    <tr>\n",
       "      <th>82</th>\n",
       "      <td>GCF - Center for a Climate-Aligned Finance</td>\n",
       "      <td>JPMC - CAI CCAF FY21</td>\n",
       "      <td>150000.00</td>\n",
       "      <td>0.0</td>\n",
       "      <td>20% of total grant</td>\n",
       "      <td>NaN</td>\n",
       "      <td>30000.0</td>\n",
       "      <td>120000.00</td>\n",
       "      <td>NaT</td>\n",
       "      <td>NaT</td>\n",
       "      <td>NaT</td>\n",
       "      <td>no grant agreement</td>\n",
       "      <td></td>\n",
       "    </tr>\n",
       "    <tr>\n",
       "      <th>83</th>\n",
       "      <td>GCF - Center for a Climate-Aligned Finance</td>\n",
       "      <td>Goldman Sachs - CAI CCAF FY21</td>\n",
       "      <td>100000.00</td>\n",
       "      <td>0.0</td>\n",
       "      <td>20% of total cost</td>\n",
       "      <td>NaN</td>\n",
       "      <td>20000.0</td>\n",
       "      <td>80000.00</td>\n",
       "      <td>NaT</td>\n",
       "      <td>NaT</td>\n",
       "      <td>NaT</td>\n",
       "      <td>no grant agreement</td>\n",
       "      <td></td>\n",
       "    </tr>\n",
       "    <tr>\n",
       "      <th>84</th>\n",
       "      <td>GCF - Center for a Climate-Aligned Finance</td>\n",
       "      <td>CCAF - General</td>\n",
       "      <td>9902.13</td>\n",
       "      <td>0.0</td>\n",
       "      <td>0% of total cost</td>\n",
       "      <td>NaN</td>\n",
       "      <td>0.0</td>\n",
       "      <td>9902.13</td>\n",
       "      <td>NaT</td>\n",
       "      <td>NaT</td>\n",
       "      <td>NaT</td>\n",
       "      <td>no grant agreement</td>\n",
       "      <td></td>\n",
       "    </tr>\n",
       "    <tr>\n",
       "      <th>85</th>\n",
       "      <td>GCF - Center for a Climate-Aligned Finance</td>\n",
       "      <td>Bank of America - GCF FY21</td>\n",
       "      <td>300000.00</td>\n",
       "      <td>0.0</td>\n",
       "      <td>20% of total grant</td>\n",
       "      <td>Revenue Recognized</td>\n",
       "      <td>30000.0</td>\n",
       "      <td>270000.00</td>\n",
       "      <td>NaT</td>\n",
       "      <td>NaT</td>\n",
       "      <td>2020-08-20</td>\n",
       "      <td>NaN</td>\n",
       "      <td></td>\n",
       "    </tr>\n",
       "    <tr>\n",
       "      <th>86</th>\n",
       "      <td>CAI - MPP</td>\n",
       "      <td>Bezos Earth Fund - CAI MPP FY21</td>\n",
       "      <td>2000763.83</td>\n",
       "      <td>0.0</td>\n",
       "      <td>15% of total project expenses (including alloc...</td>\n",
       "      <td>NaN</td>\n",
       "      <td>260969.0</td>\n",
       "      <td>1739794.83</td>\n",
       "      <td>NaT</td>\n",
       "      <td>NaT</td>\n",
       "      <td>NaT</td>\n",
       "      <td>Anticipated end: Q2 FY23</td>\n",
       "      <td></td>\n",
       "    </tr>\n",
       "    <tr>\n",
       "      <th>87</th>\n",
       "      <td>CIP - Solutions for Oil and Gas</td>\n",
       "      <td>Grantham - CIP FY21</td>\n",
       "      <td>350000.00</td>\n",
       "      <td>0.0</td>\n",
       "      <td>20% of total cost</td>\n",
       "      <td>Revenue Recognized</td>\n",
       "      <td>70000.0</td>\n",
       "      <td>280000.00</td>\n",
       "      <td>NaT</td>\n",
       "      <td>NaT</td>\n",
       "      <td>2020-12-23</td>\n",
       "      <td>TBD - WAITING ON GRANT AGREEMENT</td>\n",
       "      <td></td>\n",
       "    </tr>\n",
       "    <tr>\n",
       "      <th>91</th>\n",
       "      <td>IS - Islands</td>\n",
       "      <td>Hope Town United - Bahamas FY20</td>\n",
       "      <td>25000.00</td>\n",
       "      <td>0.0</td>\n",
       "      <td>0% of total cost</td>\n",
       "      <td>NaN</td>\n",
       "      <td>0.0</td>\n",
       "      <td>25000.00</td>\n",
       "      <td>NaT</td>\n",
       "      <td>NaT</td>\n",
       "      <td>NaT</td>\n",
       "      <td>Anticipated end: 6/30/21</td>\n",
       "      <td></td>\n",
       "    </tr>\n",
       "    <tr>\n",
       "      <th>96</th>\n",
       "      <td>POW - Admin</td>\n",
       "      <td>Bloomberg - Electricity FY21</td>\n",
       "      <td>550000.00</td>\n",
       "      <td>0.0</td>\n",
       "      <td>0% of total cost</td>\n",
       "      <td>NaN</td>\n",
       "      <td>0.0</td>\n",
       "      <td>550000.00</td>\n",
       "      <td>NaT</td>\n",
       "      <td>NaT</td>\n",
       "      <td>NaT</td>\n",
       "      <td>Waiting for confirmation of end date from Betsy</td>\n",
       "      <td></td>\n",
       "    </tr>\n",
       "    <tr>\n",
       "      <th>103</th>\n",
       "      <td>US - Admin</td>\n",
       "      <td>Bloomberg - US FY21</td>\n",
       "      <td>550000.00</td>\n",
       "      <td>0.0</td>\n",
       "      <td>0% of total cost</td>\n",
       "      <td>NaN</td>\n",
       "      <td>0.0</td>\n",
       "      <td>550000.00</td>\n",
       "      <td>NaT</td>\n",
       "      <td>NaT</td>\n",
       "      <td>NaT</td>\n",
       "      <td>TBD - waiting on grant agreement</td>\n",
       "      <td></td>\n",
       "    </tr>\n",
       "    <tr>\n",
       "      <th>105</th>\n",
       "      <td>UT - City Renewable Accelerator</td>\n",
       "      <td>Merck - SolarAPP FY21</td>\n",
       "      <td>85000.00</td>\n",
       "      <td>0.0</td>\n",
       "      <td>20% of total grant</td>\n",
       "      <td>NaN</td>\n",
       "      <td>17000.0</td>\n",
       "      <td>68000.00</td>\n",
       "      <td>NaT</td>\n",
       "      <td>2020-07-01</td>\n",
       "      <td>NaT</td>\n",
       "      <td>anticipated end 6/30/2021</td>\n",
       "      <td></td>\n",
       "    </tr>\n",
       "    <tr>\n",
       "      <th>109</th>\n",
       "      <td>WAT - Admin</td>\n",
       "      <td>Schmidt - WattTime FY20</td>\n",
       "      <td>2782.00</td>\n",
       "      <td>0.0</td>\n",
       "      <td>0% of total cost</td>\n",
       "      <td>NaN</td>\n",
       "      <td>0.0</td>\n",
       "      <td>2782.00</td>\n",
       "      <td>NaT</td>\n",
       "      <td>NaT</td>\n",
       "      <td>NaT</td>\n",
       "      <td>NaN</td>\n",
       "      <td></td>\n",
       "    </tr>\n",
       "    <tr>\n",
       "      <th>112</th>\n",
       "      <td>WAT - Admin</td>\n",
       "      <td>Tides - WattTime FY21</td>\n",
       "      <td>1250000.00</td>\n",
       "      <td>0.0</td>\n",
       "      <td>0% of total cost</td>\n",
       "      <td>NaN</td>\n",
       "      <td>0.0</td>\n",
       "      <td>1250000.00</td>\n",
       "      <td>NaT</td>\n",
       "      <td>NaT</td>\n",
       "      <td>NaT</td>\n",
       "      <td>NaN</td>\n",
       "      <td></td>\n",
       "    </tr>\n",
       "    <tr>\n",
       "      <th>114</th>\n",
       "      <td>CH - Admin</td>\n",
       "      <td>Growald - China FY21</td>\n",
       "      <td>126354.00</td>\n",
       "      <td>0.0</td>\n",
       "      <td>20% of total grant</td>\n",
       "      <td>Revenue Recognized</td>\n",
       "      <td>25271.0</td>\n",
       "      <td>101083.00</td>\n",
       "      <td>2021-12-30</td>\n",
       "      <td>2021-02-14</td>\n",
       "      <td>2021-03-08</td>\n",
       "      <td>2021-12-30 00:00:00</td>\n",
       "      <td></td>\n",
       "    </tr>\n",
       "    <tr>\n",
       "      <th>116</th>\n",
       "      <td>SEA - Admin</td>\n",
       "      <td>Stanback - SEAG 2 FY21</td>\n",
       "      <td>500000.00</td>\n",
       "      <td>0.0</td>\n",
       "      <td>0% of total cost</td>\n",
       "      <td>NaN</td>\n",
       "      <td>0.0</td>\n",
       "      <td>500000.00</td>\n",
       "      <td>NaT</td>\n",
       "      <td>NaT</td>\n",
       "      <td>NaT</td>\n",
       "      <td>NaN</td>\n",
       "      <td></td>\n",
       "    </tr>\n",
       "    <tr>\n",
       "      <th>117</th>\n",
       "      <td>IS - Puerto Rico</td>\n",
       "      <td>Lucretia Philanthropic Fund - Islands FY21</td>\n",
       "      <td>50000.00</td>\n",
       "      <td>0.0</td>\n",
       "      <td>0% of total cost</td>\n",
       "      <td>Revenue Recognized</td>\n",
       "      <td>0.0</td>\n",
       "      <td>50000.00</td>\n",
       "      <td>NaT</td>\n",
       "      <td>NaT</td>\n",
       "      <td>2021-03-23</td>\n",
       "      <td>NaN</td>\n",
       "      <td></td>\n",
       "    </tr>\n",
       "    <tr>\n",
       "      <th>118</th>\n",
       "      <td>BKT - M3</td>\n",
       "      <td>Climateworks - Breakthrough Technology FY21</td>\n",
       "      <td>100000.00</td>\n",
       "      <td>0.0</td>\n",
       "      <td>0% of total cost</td>\n",
       "      <td>Revenue Recognized</td>\n",
       "      <td>0.0</td>\n",
       "      <td>100000.00</td>\n",
       "      <td>2021-11-30</td>\n",
       "      <td>2020-12-01</td>\n",
       "      <td>2021-03-10</td>\n",
       "      <td>NaN</td>\n",
       "      <td></td>\n",
       "    </tr>\n",
       "    <tr>\n",
       "      <th>119</th>\n",
       "      <td>CAI - MPP</td>\n",
       "      <td>Climateworks - CAI MPP FY21</td>\n",
       "      <td>250000.00</td>\n",
       "      <td>0.0</td>\n",
       "      <td>0% of total cost</td>\n",
       "      <td>Revenue Recognized</td>\n",
       "      <td>0.0</td>\n",
       "      <td>250000.00</td>\n",
       "      <td>2021-12-31</td>\n",
       "      <td>2021-01-01</td>\n",
       "      <td>2021-03-10</td>\n",
       "      <td>NaN</td>\n",
       "      <td></td>\n",
       "    </tr>\n",
       "    <tr>\n",
       "      <th>120</th>\n",
       "      <td>CIP - Solutions for Oil and Gas</td>\n",
       "      <td>Grantham - CIP IG3IS FY21</td>\n",
       "      <td>2000000.00</td>\n",
       "      <td>0.0</td>\n",
       "      <td>25% of direct project costs, 4% on subawardee</td>\n",
       "      <td>Revenue Recognized</td>\n",
       "      <td>198015.0</td>\n",
       "      <td>1801985.00</td>\n",
       "      <td>NaT</td>\n",
       "      <td>NaT</td>\n",
       "      <td>2021-03-31</td>\n",
       "      <td>NaN</td>\n",
       "      <td></td>\n",
       "    </tr>\n",
       "    <tr>\n",
       "      <th>121</th>\n",
       "      <td>GCF - Center for a Climate-Aligned Finance</td>\n",
       "      <td>RBC - CAI CCAF FY21</td>\n",
       "      <td>300000.00</td>\n",
       "      <td>0.0</td>\n",
       "      <td>20% of total grant</td>\n",
       "      <td>Revenue Recognized</td>\n",
       "      <td>60000.0</td>\n",
       "      <td>240000.00</td>\n",
       "      <td>2023-02-23</td>\n",
       "      <td>2021-03-22</td>\n",
       "      <td>2021-03-22</td>\n",
       "      <td>NaN</td>\n",
       "      <td></td>\n",
       "    </tr>\n",
       "    <tr>\n",
       "      <th>122</th>\n",
       "      <td>BKT - Admin</td>\n",
       "      <td>Angela Wright Bennett Foundation - 3rd Derivat...</td>\n",
       "      <td>300000.00</td>\n",
       "      <td>0.0</td>\n",
       "      <td>20% of total grant</td>\n",
       "      <td>Revenue Recognized</td>\n",
       "      <td>60000.0</td>\n",
       "      <td>240000.00</td>\n",
       "      <td>NaT</td>\n",
       "      <td>NaT</td>\n",
       "      <td>2021-03-12</td>\n",
       "      <td>NaN</td>\n",
       "      <td></td>\n",
       "    </tr>\n",
       "    <tr>\n",
       "      <th>124</th>\n",
       "      <td>CH - City Zero-Carbon Implementation</td>\n",
       "      <td>RBF - China FY21</td>\n",
       "      <td>250000.00</td>\n",
       "      <td>0.0</td>\n",
       "      <td>10% of direct project costs</td>\n",
       "      <td>Revenue Recognized</td>\n",
       "      <td>22727.0</td>\n",
       "      <td>227273.00</td>\n",
       "      <td>2022-03-31</td>\n",
       "      <td>2021-03-01</td>\n",
       "      <td>2021-03-03</td>\n",
       "      <td>NaN</td>\n",
       "      <td></td>\n",
       "    </tr>\n",
       "  </tbody>\n",
       "</table>\n",
       "</div>"
      ],
      "text/plain": [
       "                                          Level  \\\n",
       "0                        BKT - Third Derivative   \n",
       "9    GCF - Center for a Climate-Aligned Finance   \n",
       "26                                  POW - Admin   \n",
       "27               BLD - Building Electrification   \n",
       "28   GCF - Center for a Climate-Aligned Finance   \n",
       "30               BLD - Building Electrification   \n",
       "33              CIP - Solutions for Oil and Gas   \n",
       "50              UT - City Renewable Accelerator   \n",
       "63   GCF - Center for a Climate-Aligned Finance   \n",
       "64                       BKT - Third Derivative   \n",
       "65   GCF - Center for a Climate-Aligned Finance   \n",
       "68                       BKT - Third Derivative   \n",
       "73                                  BLD - Admin   \n",
       "75               BLD - Building Electrification   \n",
       "81   GCF - Center for a Climate-Aligned Finance   \n",
       "82   GCF - Center for a Climate-Aligned Finance   \n",
       "83   GCF - Center for a Climate-Aligned Finance   \n",
       "84   GCF - Center for a Climate-Aligned Finance   \n",
       "85   GCF - Center for a Climate-Aligned Finance   \n",
       "86                                    CAI - MPP   \n",
       "87              CIP - Solutions for Oil and Gas   \n",
       "91                                 IS - Islands   \n",
       "96                                  POW - Admin   \n",
       "103                                  US - Admin   \n",
       "105             UT - City Renewable Accelerator   \n",
       "109                                 WAT - Admin   \n",
       "112                                 WAT - Admin   \n",
       "114                                  CH - Admin   \n",
       "116                                 SEA - Admin   \n",
       "117                            IS - Puerto Rico   \n",
       "118                                    BKT - M3   \n",
       "119                                   CAI - MPP   \n",
       "120             CIP - Solutions for Oil and Gas   \n",
       "121  GCF - Center for a Climate-Aligned Finance   \n",
       "122                                 BKT - Admin   \n",
       "124        CH - City Zero-Carbon Implementation   \n",
       "\n",
       "                                                 Grant  Amount Received  \\\n",
       "0                          FedEx - 3rd Derivative FY21        900000.00   \n",
       "9                              Hewlett - GCF CCAF FY20        200000.00   \n",
       "26                   Heising-Simons - Electricity FY21        250000.00   \n",
       "27      Heising-Simons - Building Electrification FY21        150000.00   \n",
       "28                        Climateworks - CAI CCAF FY21        150000.00   \n",
       "30           Anonymous - Building Electrification FY21        500000.00   \n",
       "33               High Tide - Climate Intelligence FY21        250000.00   \n",
       "50                             Schmidt - SolarAPP FY20         50000.00   \n",
       "63                                 TD Bank - CCAF FY21        400000.00   \n",
       "64                         Engie - 3rd Derivative FY21         50000.00   \n",
       "65                                CIBC - CAI CCAF FY21        150000.00   \n",
       "68                            BP - 3rd Derivative FY21        500000.00   \n",
       "73                          Bloomberg - Buildings FY21        550000.00   \n",
       "75               Moxie - Building Electrification FY20         15000.00   \n",
       "81                             Vision Ridge - GCF FY20        100000.00   \n",
       "82                                JPMC - CAI CCAF FY21        150000.00   \n",
       "83                       Goldman Sachs - CAI CCAF FY21        100000.00   \n",
       "84                                      CCAF - General          9902.13   \n",
       "85                          Bank of America - GCF FY21        300000.00   \n",
       "86                     Bezos Earth Fund - CAI MPP FY21       2000763.83   \n",
       "87                                 Grantham - CIP FY21        350000.00   \n",
       "91                     Hope Town United - Bahamas FY20         25000.00   \n",
       "96                        Bloomberg - Electricity FY21        550000.00   \n",
       "103                                Bloomberg - US FY21        550000.00   \n",
       "105                              Merck - SolarAPP FY21         85000.00   \n",
       "109                            Schmidt - WattTime FY20          2782.00   \n",
       "112                              Tides - WattTime FY21       1250000.00   \n",
       "114                               Growald - China FY21        126354.00   \n",
       "116                             Stanback - SEAG 2 FY21        500000.00   \n",
       "117         Lucretia Philanthropic Fund - Islands FY21         50000.00   \n",
       "118        Climateworks - Breakthrough Technology FY21        100000.00   \n",
       "119                        Climateworks - CAI MPP FY21        250000.00   \n",
       "120                          Grantham - CIP IG3IS FY21       2000000.00   \n",
       "121                                RBC - CAI CCAF FY21        300000.00   \n",
       "122  Angela Wright Bennett Foundation - 3rd Derivat...        300000.00   \n",
       "124                                   RBF - China FY21        250000.00   \n",
       "\n",
       "     Total Grant Spend                        Institutional Overhead Note  \\\n",
       "0                  0.0                                 20% of total cost    \n",
       "9                  0.0                                20% of total grant    \n",
       "26                 0.0                                   0% of Total Cost   \n",
       "27                 0.0                                   0% of Total Cost   \n",
       "28                 0.0                                   0% of Total Cost   \n",
       "30                 0.0                                20% of total grant    \n",
       "33                 0.0                                 15% of total grant   \n",
       "50                 0.0                                20% of total grant    \n",
       "63                 0.0                                  0% of total cost    \n",
       "64                 0.0                                  0% of total cost    \n",
       "65                 0.0                                  0% of total cost    \n",
       "68                 0.0                                  0% of total cost    \n",
       "73                 0.0                                  0% of total cost    \n",
       "75                 0.0                                 20% of total cost    \n",
       "81                 0.0                                20% of total grant    \n",
       "82                 0.0                                20% of total grant    \n",
       "83                 0.0                                 20% of total cost    \n",
       "84                 0.0                                  0% of total cost    \n",
       "85                 0.0                                20% of total grant    \n",
       "86                 0.0  15% of total project expenses (including alloc...   \n",
       "87                 0.0                                 20% of total cost    \n",
       "91                 0.0                                  0% of total cost    \n",
       "96                 0.0                                  0% of total cost    \n",
       "103                0.0                                  0% of total cost    \n",
       "105                0.0                                20% of total grant    \n",
       "109                0.0                                  0% of total cost    \n",
       "112                0.0                                  0% of total cost    \n",
       "114                0.0                                 20% of total grant   \n",
       "116                0.0                                  0% of total cost    \n",
       "117                0.0                                  0% of total cost    \n",
       "118                0.0                                  0% of total cost    \n",
       "119                0.0                                  0% of total cost    \n",
       "120                0.0      25% of direct project costs, 4% on subawardee   \n",
       "121                0.0                                 20% of total grant   \n",
       "122                0.0                                 20% of total grant   \n",
       "124                0.0                        10% of direct project costs   \n",
       "\n",
       "    Accounting Treatment  Institutional Overhead  NS Balance  \\\n",
       "0                    NaN                180000.0   720000.00   \n",
       "9     Revenue Recognized                 40000.0   160000.00   \n",
       "26                   NaN                     0.0   250000.00   \n",
       "27                   NaN                     0.0   150000.00   \n",
       "28    Revenue Recognized                     0.0   150000.00   \n",
       "30    Revenue Recognized                 66600.0   433400.00   \n",
       "33    Revenue Recognized                 37500.0   212500.00   \n",
       "50    Revenue Recognized                 10000.0    40000.00   \n",
       "63    Revenue Recognized                     0.0   400000.00   \n",
       "64                     0                     0.0    50000.00   \n",
       "65    Revenue Recognized                     0.0   150000.00   \n",
       "68    Revenue Recognized                     0.0   500000.00   \n",
       "73                   NaN                     0.0   550000.00   \n",
       "75    Revenue Recognized                  3000.0    12000.00   \n",
       "81    Revenue Recognized                 20000.0    80000.00   \n",
       "82                   NaN                 30000.0   120000.00   \n",
       "83                   NaN                 20000.0    80000.00   \n",
       "84                   NaN                     0.0     9902.13   \n",
       "85    Revenue Recognized                 30000.0   270000.00   \n",
       "86                   NaN                260969.0  1739794.83   \n",
       "87    Revenue Recognized                 70000.0   280000.00   \n",
       "91                   NaN                     0.0    25000.00   \n",
       "96                   NaN                     0.0   550000.00   \n",
       "103                  NaN                     0.0   550000.00   \n",
       "105                  NaN                 17000.0    68000.00   \n",
       "109                  NaN                     0.0     2782.00   \n",
       "112                  NaN                     0.0  1250000.00   \n",
       "114   Revenue Recognized                 25271.0   101083.00   \n",
       "116                  NaN                     0.0   500000.00   \n",
       "117   Revenue Recognized                     0.0    50000.00   \n",
       "118   Revenue Recognized                     0.0   100000.00   \n",
       "119   Revenue Recognized                     0.0   250000.00   \n",
       "120   Revenue Recognized                198015.0  1801985.00   \n",
       "121   Revenue Recognized                 60000.0   240000.00   \n",
       "122   Revenue Recognized                 60000.0   240000.00   \n",
       "124   Revenue Recognized                 22727.0   227273.00   \n",
       "\n",
       "    Grant Close Date (Adaptive Sheet) Grant Start Date Grant Revenue Date  \\\n",
       "0                          2024-01-19              NaT                NaT   \n",
       "9                          2022-06-30       2020-06-01         2020-06-02   \n",
       "26                                NaT              NaT                NaT   \n",
       "27                         2021-11-20       2020-12-01                NaT   \n",
       "28                         2021-10-31       2020-11-01         2020-12-22   \n",
       "30                         2021-10-14       2020-10-15         2020-11-05   \n",
       "33                         2021-08-30       2021-03-01         2021-02-03   \n",
       "50                         2021-06-15       2020-06-29         2020-06-29   \n",
       "63                                NaT              NaT         2021-02-22   \n",
       "64                         2024-02-01              NaT         2021-03-12   \n",
       "65                         2022-01-29              NaT         2021-02-09   \n",
       "68                         2024-02-01              NaT         2021-02-12   \n",
       "73                                NaT              NaT                NaT   \n",
       "75                                NaT              NaT         2020-06-17   \n",
       "81                                NaT              NaT         2020-06-30   \n",
       "82                                NaT              NaT                NaT   \n",
       "83                                NaT              NaT                NaT   \n",
       "84                                NaT              NaT                NaT   \n",
       "85                                NaT              NaT         2020-08-20   \n",
       "86                                NaT              NaT                NaT   \n",
       "87                                NaT              NaT         2020-12-23   \n",
       "91                                NaT              NaT                NaT   \n",
       "96                                NaT              NaT                NaT   \n",
       "103                               NaT              NaT                NaT   \n",
       "105                               NaT       2020-07-01                NaT   \n",
       "109                               NaT              NaT                NaT   \n",
       "112                               NaT              NaT                NaT   \n",
       "114                        2021-12-30       2021-02-14         2021-03-08   \n",
       "116                               NaT              NaT                NaT   \n",
       "117                               NaT              NaT         2021-03-23   \n",
       "118                        2021-11-30       2020-12-01         2021-03-10   \n",
       "119                        2021-12-31       2021-01-01         2021-03-10   \n",
       "120                               NaT              NaT         2021-03-31   \n",
       "121                        2023-02-23       2021-03-22         2021-03-22   \n",
       "122                               NaT              NaT         2021-03-12   \n",
       "124                        2022-03-31       2021-03-01         2021-03-03   \n",
       "\n",
       "                                    Close Date Notes Project  \n",
       "0                                                NaN          \n",
       "9                                                NaN          \n",
       "26                                               NaN          \n",
       "27                                               NaN          \n",
       "28                                               NaN          \n",
       "30                                               NaN          \n",
       "33                                               NaN          \n",
       "50                                               NaN          \n",
       "63                          Anticipated end: FY23 Q2          \n",
       "64                                               NaN          \n",
       "65                                               NaN          \n",
       "68                                               NaN          \n",
       "73   Waiting for confirmation of end date from Betsy          \n",
       "75                         Anticipated end 6/30/2020          \n",
       "81                         Anticipated end 6/30/2021          \n",
       "82                                no grant agreement          \n",
       "83                                no grant agreement          \n",
       "84                                no grant agreement          \n",
       "85                                               NaN          \n",
       "86                         Anticipated end: Q2 FY23           \n",
       "87                  TBD - WAITING ON GRANT AGREEMENT          \n",
       "91                          Anticipated end: 6/30/21          \n",
       "96   Waiting for confirmation of end date from Betsy          \n",
       "103                 TBD - waiting on grant agreement          \n",
       "105                        anticipated end 6/30/2021          \n",
       "109                                              NaN          \n",
       "112                                              NaN          \n",
       "114                              2021-12-30 00:00:00          \n",
       "116                                              NaN          \n",
       "117                                              NaN          \n",
       "118                                              NaN          \n",
       "119                                              NaN          \n",
       "120                                              NaN          \n",
       "121                                              NaN          \n",
       "122                                              NaN          \n",
       "124                                              NaN          "
      ]
     },
     "execution_count": 143,
     "metadata": {},
     "output_type": "execute_result"
    }
   ],
   "source": [
    "dfGrantBalancesZEROSPEND"
   ]
  },
  {
   "cell_type": "markdown",
   "metadata": {},
   "source": [
    "## Output manipulated DF to Excel"
   ]
  },
  {
   "cell_type": "code",
   "execution_count": 144,
   "metadata": {},
   "outputs": [
    {
     "name": "stdout",
     "output_type": "stream",
     "text": [
      "Wall time: 0 ns\n"
     ]
    }
   ],
   "source": [
    "%%time\n",
    "\n",
    "#df1.to_excel('Output_Netsuite.xlsx')"
   ]
  },
  {
   "cell_type": "markdown",
   "metadata": {},
   "source": [
    "# 3.  Data Segmentation by Program\n",
    "\n",
    "Here I'm taking the manipulated data and ultimately creating a dataframe to filter out each program's restricted revenue."
   ]
  },
  {
   "cell_type": "code",
   "execution_count": 145,
   "metadata": {},
   "outputs": [],
   "source": [
    "Programs = list(df1['Program'].unique())"
   ]
  },
  {
   "cell_type": "code",
   "execution_count": 146,
   "metadata": {},
   "outputs": [
    {
     "name": "stdout",
     "output_type": "stream",
     "text": [
      "['Development', 'Global Climate Finance', 'Operations', 'Strategic Engagement and Analysis Group', 'Beijing', 'China', 'Islands', 'Africa', 'Methane', 'Carbon-Free Buildings', 'Sustainable Finance', 'Sunshine for Mines', 'India', 'Carbon-Free Electricity', 'Shine', 'Trucking', 'Carbon-Free Mobility', 'na', 'WattTime', 'Shipping', 'Business Renewable Center', 'Aviation', 'Industry', 'Building Electrification', 'Communications', 'Carbon War Room', 'Emerging Energy Solutions', 'Energy Web Foundation', 'Urban Transformation', 'Breakthrough Technology', 'Climate Aligned Industries', 'Climate Intelligence', 'SE Asia', 'US', 'CFAN', 'Energy Transition Academy', 'Cross-Program Impact Acceleration', 'Canary Media Program']\n"
     ]
    }
   ],
   "source": [
    "print(Programs)"
   ]
  },
  {
   "cell_type": "code",
   "execution_count": 147,
   "metadata": {},
   "outputs": [],
   "source": [
    "def create_program(program):\n",
    "    firstdf = df1[df1['Program']==program]\n",
    "    seconddf = firstdf[firstdf['Grant'] != 'No Grant'] \n",
    "    thirddf = seconddf[(seconddf['Account Digit']=='7')|(seconddf['Account Digit']=='8')]\n",
    "    if thirddf.empty == True:\n",
    "        print(str(program)+ \" DF is EMPTY\")\n",
    "    else:    \n",
    "        return thirddf"
   ]
  },
  {
   "cell_type": "code",
   "execution_count": 148,
   "metadata": {},
   "outputs": [
    {
     "name": "stdout",
     "output_type": "stream",
     "text": [
      "Communications DF is EMPTY\n"
     ]
    }
   ],
   "source": [
    "Development = create_program('Development')\n",
    "Islands = create_program('Islands')\n",
    "India = create_program('India')\n",
    "Communications = create_program('Communications')\n",
    "Operations = create_program('Operations')\n",
    "Development = create_program('Development')\n",
    "China = create_program('China')\n",
    "Breakthrough_Technology = create_program('Breakthrough Technology')\n",
    "CarbonFree_Mobility = create_program('Carbon-Free Mobility')\n",
    "Climate_Aligned_Industries = create_program('Climate Aligned Industries')\n",
    "Global_Climate_Finance = create_program('Global Climate Finance')\n",
    "Strategic_Engagement_and_Analysis_Group = create_program('Strategic Engagement and Analysis Group')\n",
    "CarbonFree_Buildings = create_program('Carbon-Free Buildings')\n",
    "WattTime = create_program('WattTime')\n",
    "CarbonFree_Electricty = create_program('Carbon-Free Electricity')\n",
    "Urban_Transformation = create_program('Urban Transformation')\n",
    "Climate_Intelligence = create_program('Climate Intelligence')\n",
    "Industry = create_program('Industry')\n",
    "SE_Asia = create_program('SE Asia')\n",
    "Africa = create_program('Africa')\n",
    "US = create_program('US')\n",
    "Building_Electrification = create_program('Building Electrification')\n",
    "Energy_Transition_Academy = create_program('Energy Transition Academy')\n",
    "Beijing = create_program('Beijing')\n",
    "CFAN = create_program('CFAN')"
   ]
  },
  {
   "cell_type": "code",
   "execution_count": 149,
   "metadata": {},
   "outputs": [],
   "source": [
    "Developing_Economies_Rollup = pd.concat([Islands, Africa, SE_Asia, Energy_Transition_Academy, CFAN], ignore_index = True, sort=False)\n",
    "CarbonFreeBuildings_Rollup = pd.concat([CarbonFree_Buildings, Building_Electrification], ignore_index = True, sort=False)\n",
    "China_Rollup = pd.concat([China, Beijing], ignore_index = True, sort=False)"
   ]
  },
  {
   "cell_type": "markdown",
   "metadata": {},
   "source": [
    "## 4. Create Reports Path and Manipulate File Names\n",
    "\n",
    "I will need to come up with naming conventions that work over time for this project, so in this step I do just that.   Also I am loading the Openpyxl packages that i'm going to need for the rest of this program."
   ]
  },
  {
   "cell_type": "code",
   "execution_count": 150,
   "metadata": {},
   "outputs": [],
   "source": [
    "import os\n",
    "\n",
    "path = r'C:\\Users\\Jeremy Wendt\\anaconda3\\envs\\Code\\Detail_Trans_Project_FY21\\reports\\Detail_Trans_Reports'"
   ]
  },
  {
   "cell_type": "code",
   "execution_count": 151,
   "metadata": {},
   "outputs": [],
   "source": [
    "from datetime import datetime\n",
    "today = datetime.today()\n",
    "datem = datetime(today.year, today.month-1, 1)\n",
    "timestamp = \"Detail_Transactions_\"+datem.strftime(\"%b_%Y\")"
   ]
  },
  {
   "cell_type": "code",
   "execution_count": 152,
   "metadata": {},
   "outputs": [
    {
     "name": "stdout",
     "output_type": "stream",
     "text": [
      "Detail_Transactions_Apr_2021.xlsx\n"
     ]
    }
   ],
   "source": [
    "print(timestamp+\".xlsx\")"
   ]
  },
  {
   "cell_type": "code",
   "execution_count": 153,
   "metadata": {},
   "outputs": [],
   "source": [
    "from openpyxl.styles import Color, PatternFill, Font, Border\n",
    "greyFill = PatternFill(start_color='00C0C0C0',\n",
    "                   end_color='00C0C0C0',\n",
    "                   fill_type='solid')"
   ]
  },
  {
   "cell_type": "markdown",
   "metadata": {},
   "source": [
    "# Create FFS DFs"
   ]
  },
  {
   "cell_type": "code",
   "execution_count": 154,
   "metadata": {},
   "outputs": [],
   "source": [
    "def create_df_FeeforService(program):\n",
    "    firstdf = df1[df1['Program']==program]\n",
    "    seconddf = firstdf[(firstdf['Account Digit']=='5')|(firstdf['Account Digit']=='6')]\n",
    "    if seconddf.empty == True:\n",
    "        print(str(program)+ \" DF is EMPTY\")\n",
    "    else:    \n",
    "        return seconddf"
   ]
  },
  {
   "cell_type": "code",
   "execution_count": 155,
   "metadata": {},
   "outputs": [],
   "source": [
    "DevelopmentFFS = create_df_FeeforService(\"Development\")\n",
    "IslandsFFS = create_df_FeeforService(\"Islands\")\n",
    "IndiaFFS = create_df_FeeforService(\"India\")\n",
    "OperationsFFS = create_df_FeeforService(\"Operations\")\n",
    "ChinaFFS = create_df_FeeforService(\"China\")\n",
    "Breakthrough_Technology_FFS = create_df_FeeforService(\"Breakthrough Technology\")\n",
    "CarbonFree_MobilityFFS = create_df_FeeforService(\"Carbon-Free Mobility\")\n",
    "ClimateAligned_IndustriesFFS = create_df_FeeforService(\"Climate Aligned Industries\")\n",
    "CommunicationsFFS = create_df_FeeforService(\"Communications\")\n",
    "GlobalClimate_FinanceFFS = create_df_FeeforService(\"Global Climate Finance\")\n",
    "Strategic_Engagement_and_Analysis_GroupFFS = create_df_FeeforService(\"Strategic Engagement and Analysis Group\")\n",
    "Carbon_Free_BuildingsFFS = create_df_FeeforService(\"Carbon-Free Buildings\")\n",
    "Watttime_FFS = create_df_FeeforService(\"WattTime\")\n",
    "Carbon_Free_ElectricityFFS = create_df_FeeforService(\"Carbon-Free Electricity\")\n",
    "UrbanTrans_FFS = create_df_FeeforService(\"Urban Transformation\")\n",
    "ClimateIntelFFS = create_df_FeeforService(\"Climate Intelligence\")\n",
    "IndustryFFS = create_df_FeeforService(\"Industry\")\n",
    "SEAsiaFFS = create_df_FeeforService(\"SE Asia\")\n",
    "AfricaFFS = create_df_FeeforService(\"Africa\")\n",
    "USFFS = create_df_FeeforService(\"US\")\n",
    "BuildingElectrificationFFS = create_df_FeeforService(\"Building Electrification\")\n",
    "Energy_Transition_AcademyFFS = create_df_FeeforService(\"Energy Transition Academy\")\n",
    "BeijingFFS = create_df_FeeforService(\"Beijing\")\n",
    "CFANFFS = create_df_FeeforService(\"CFAN\")"
   ]
  },
  {
   "cell_type": "code",
   "execution_count": 156,
   "metadata": {},
   "outputs": [],
   "source": [
    "Developing_Economies_RollupFFS = pd.concat([IslandsFFS, AfricaFFS, SEAsiaFFS, Energy_Transition_AcademyFFS, CFANFFS], ignore_index = True, sort=False)\n",
    "CarbonFreeBuildings_RollupFFS = pd.concat([Carbon_Free_BuildingsFFS, BuildingElectrificationFFS], ignore_index = True, sort=False)\n",
    "China_RollupFFS = pd.concat([ChinaFFS,BeijingFFS], ignore_index = True, sort=False)\n"
   ]
  },
  {
   "cell_type": "markdown",
   "metadata": {},
   "source": [
    "# Create All Expense DFs"
   ]
  },
  {
   "cell_type": "code",
   "execution_count": 157,
   "metadata": {},
   "outputs": [],
   "source": [
    "def create_df_allExpenses(program):\n",
    "    firstdf = df1[df1['Program']==program]\n",
    "    seconddf = firstdf[(firstdf['Account Digit']=='7')|(firstdf['Account Digit']=='8')]\n",
    "    if seconddf.empty == True:\n",
    "        print(str(program)+ \" DF is EMPTY\")\n",
    "    else:    \n",
    "        return seconddf"
   ]
  },
  {
   "cell_type": "code",
   "execution_count": 158,
   "metadata": {},
   "outputs": [],
   "source": [
    "\n",
    "DevelopmentExp = create_df_allExpenses(\"Development\")\n",
    "IslandsExp = create_df_allExpenses(\"Islands\")\n",
    "IndiaExp = create_df_allExpenses(\"India\")\n",
    "OperationsExp = create_df_allExpenses(\"Operations\")\n",
    "ChinaExp = create_df_allExpenses(\"China\")\n",
    "Breakthrough_Technology_Exp = create_df_allExpenses(\"Breakthrough Technology\")\n",
    "CarbonFree_MobilityExp = create_df_allExpenses(\"Carbon-Free Mobility\")\n",
    "ClimateAligned_IndustriesExp = create_df_allExpenses(\"Climate Aligned Industries\")\n",
    "CommunicationsExp = create_df_allExpenses(\"Communications\")\n",
    "GlobalClimate_FinanceExp = create_df_allExpenses(\"Global Climate Finance\")\n",
    "Strategic_Engagement_and_Analysis_GroupExp = create_df_allExpenses(\"Strategic Engagement and Analysis Group\")\n",
    "Carbon_Free_BuildingsExp = create_df_allExpenses(\"Carbon-Free Buildings\")\n",
    "Watttime_Exp = create_df_allExpenses(\"WattTime\")\n",
    "Carbon_Free_ElectricityExp = create_df_allExpenses(\"Carbon-Free Electricity\")\n",
    "UrbanTrans_Exp = create_df_allExpenses(\"Urban Transformation\")\n",
    "ClimateIntelExp = create_df_allExpenses(\"Climate Intelligence\")\n",
    "IndustryExp = create_df_allExpenses(\"Industry\")\n",
    "SEAsiaExp = create_df_allExpenses(\"SE Asia\")\n",
    "AfricaExp = create_df_allExpenses(\"Africa\")\n",
    "USExp = create_df_allExpenses(\"US\")\n",
    "BuildingElectrificationExp = create_df_allExpenses(\"Building Electrification\")\n",
    "Energy_Transition_AcademyExp = create_df_allExpenses(\"Energy Transition Academy\")\n",
    "BeijingExp = create_df_allExpenses(\"Beijing\")\n",
    "CFANExp = create_df_allExpenses(\"CFAN\")"
   ]
  },
  {
   "cell_type": "code",
   "execution_count": 159,
   "metadata": {},
   "outputs": [],
   "source": [
    "Developing_Economies_RollupExp = pd.concat([IslandsExp, AfricaExp, SEAsiaExp, Energy_Transition_AcademyExp], ignore_index = True, sort=False)\n",
    "CarbonFreeBuildings_RollupExp = pd.concat([Carbon_Free_BuildingsExp, BuildingElectrificationExp, CFANExp], ignore_index = True, sort=False)\n",
    "China_RollupExp = pd.concat([ChinaExp, BeijingExp], ignore_index = True, sort=False)"
   ]
  },
  {
   "cell_type": "code",
   "execution_count": null,
   "metadata": {},
   "outputs": [],
   "source": []
  },
  {
   "cell_type": "markdown",
   "metadata": {},
   "source": [
    "# Create Reports for Heather and Jon Creyts"
   ]
  },
  {
   "cell_type": "code",
   "execution_count": 160,
   "metadata": {},
   "outputs": [],
   "source": [
    "todayMD = datetime.today()\n",
    "datemMD = datetime(today.year, today.month-1, 1)\n",
    "timestampMD = datem.strftime(\"%B %Y\")"
   ]
  },
  {
   "cell_type": "code",
   "execution_count": 161,
   "metadata": {},
   "outputs": [
    {
     "data": {
      "text/plain": [
       "'April 2021'"
      ]
     },
     "execution_count": 161,
     "metadata": {},
     "output_type": "execute_result"
    }
   ],
   "source": [
    "timestampMD"
   ]
  },
  {
   "cell_type": "code",
   "execution_count": 162,
   "metadata": {},
   "outputs": [],
   "source": [
    "from openpyxl.styles import Border, Side, PatternFill, Font, GradientFill, Alignment\n",
    "\n",
    "CFOpath = r'C:\\Users\\Jeremy Wendt\\anaconda3\\envs\\Code\\Detail_Trans_Project_FY21\\reports\\CFO_Reports'\n",
    "\n",
    "CFOTemplatepath = 'C:\\\\Users\\\\Jeremy Wendt\\\\anaconda3\\\\envs\\\\Code\\\\Detail_Trans_Project_FY21\\\\Data\\\\raw\\\\CFO_Cover_Page.xlsx'"
   ]
  },
  {
   "cell_type": "code",
   "execution_count": 163,
   "metadata": {},
   "outputs": [],
   "source": [
    "blueFill = PatternFill(start_color='0033CCCC',\n",
    "                   end_color='0033CCCC',\n",
    "                   fill_type='solid')\n",
    "\n"
   ]
  },
  {
   "cell_type": "markdown",
   "metadata": {},
   "source": [
    "## Create Cover Sheet CFO"
   ]
  },
  {
   "cell_type": "code",
   "execution_count": 164,
   "metadata": {},
   "outputs": [],
   "source": [
    "Logopath = r'C:\\Users\\Jeremy Wendt\\anaconda3\\envs\\Code\\Detail_Trans_Project_FY21\\notebooks\\img\\Picture1.png'\n",
    "\n",
    "# 'C:\\\\Users\\\\Jeremy Wendt\\\\anaconda3\\\\envs\\\\Code\\\\Detail_Trans_Project_FY21\\\\notebooks\\\\img\\\\MD_Cover_Page.xlsx'"
   ]
  },
  {
   "cell_type": "code",
   "execution_count": 165,
   "metadata": {},
   "outputs": [],
   "source": [
    "wbCFO = load_workbook(CFOTemplatepath)\n",
    "wsCFO = wbCFO['Cover']    \n",
    "img = openpyxl.drawing.image.Image(Logopath)\n",
    "img.anchor = 'A1'\n",
    "wsCFO.add_image(img)\n",
    "wsCFO.cell(row = 14, column = 1).value = 'CFO Report ' + timestampMD\n",
    "wbCFO.save(str(CFOpath+'\\\\CFO_Report_'+timestampMD+'.xlsx'))"
   ]
  },
  {
   "cell_type": "markdown",
   "metadata": {},
   "source": [
    "## Restricted Revenue Spend Type by Grant"
   ]
  },
  {
   "cell_type": "code",
   "execution_count": 166,
   "metadata": {},
   "outputs": [],
   "source": [
    "dfCFOREport = df1[(df1['Period'] == 'Jun 2021')|(df1['Period'] == 'Jul 2020')|(df1['Period'] == 'Aug 2020')|(df1['Period'] == 'Sep 2020')|(df1['Period'] == 'Oct 2020')|(df1['Period'] == 'Nov 2020')|(df1['Period'] == 'Dec 2020')|(df1['Period'] == 'Jan 2021')|(df1['Period'] == 'Feb 2021')|(df1['Period'] == 'Mar 2021')|(df1['Period'] == 'Apr 2021')|(df1['Period'] == 'May 2021')]"
   ]
  },
  {
   "cell_type": "code",
   "execution_count": 167,
   "metadata": {},
   "outputs": [],
   "source": [
    "def create_CFO_pivot(Group):\n",
    "    Month_order = ['Jul 2020', 'Aug 2020', 'Sep 2020', 'Oct 2020', 'Nov 2020', 'Dec 2020', 'Jan 2021', 'Feb 2021', 'Mar 2021', 'Apr 2021', 'May 2021', 'Jun 2021']\n",
    "    table = pd.pivot_table(Group, index = ['Grant','Inst or Reclass'], values = 'Restricted Revenue', columns = 'Period', aggfunc=np.sum)\n",
    "    table2 = table.reindex(Month_order, axis=1)\n",
    "    table2['Total'] = table2.iloc[:,-12:].sum(axis=1)\n",
    "    return table2"
   ]
  },
  {
   "cell_type": "code",
   "execution_count": 168,
   "metadata": {},
   "outputs": [],
   "source": [
    "def add_subtotal_CFO(PivotedGroup):\n",
    "    out = pd.concat([d.append(d.sum().rename((k, 'Subtotal'))) for k, d in PivotedGroup.groupby('Grant')]).append((PivotedGroup.sum()).rename(('Grand', 'Total')))\n",
    "    out.index = pd.MultiIndex.from_tuples(out.index)\n",
    "    return out"
   ]
  },
  {
   "cell_type": "code",
   "execution_count": 169,
   "metadata": {},
   "outputs": [],
   "source": [
    "def to_excel_CFO(df, file):\n",
    "    writer = pd.ExcelWriter(file, engine='openpyxl')\n",
    "    if os.path.exists(file):\n",
    "        book = openpyxl.load_workbook(file)\n",
    "        writer.book = book\n",
    "\n",
    "    df.to_excel(writer, sheet_name=\"RR by Expense Type\", startrow = 1)\n",
    "    writer.save()\n",
    "    writer.close()   "
   ]
  },
  {
   "cell_type": "code",
   "execution_count": 170,
   "metadata": {},
   "outputs": [],
   "source": [
    "def edit_workbook_CFO(file):\n",
    "    book = load_workbook(file)\n",
    "    sheet = book[\"RR by Expense Type\"] #active means last opened sheet\n",
    "    rd = sheet.row_dimensions[1]\n",
    "    rd.height = 25\n",
    "    sheet['A2']= \"Grant\"\n",
    "    sheet['B2']= \"Inst or Reclass\" \n",
    "    sheet['A2'].font = Font(bold=True)\n",
    "    sheet['B2'].font = Font(bold=True)\n",
    "#    fontStyle = Font(size = \"20\")\n",
    "    sheet.merge_cells('A1:O1')\n",
    "    top_left_cell = sheet['A1']\n",
    "    top_right_cell = sheet['O1']\n",
    "    top_left_cell.value = \"Restricted Revenue by Expense Type\"\n",
    "    thin = Side(border_style=\"thin\", color=\"000000\")\n",
    "    double = Side(border_style=\"double\", color=\"000000\")\n",
    "    top_left_cell.border = Border(top=thin, left=thin, right=thin, bottom=thin)\n",
    "    top_left_cell.fill = PatternFill(\"solid\", fgColor=\"003366\")\n",
    "#    top_left_cell.fill = fill = GradientFill(stop=(\"000080\", \"FFFFFF\"))\n",
    "    top_left_cell.font  = Font(color=\"FFFFFF\", size = \"26\")\n",
    "#    top_left_cell.font = fontStyle\n",
    "    top_left_cell.alignment = Alignment(horizontal=\"center\", vertical=\"center\")\n",
    "    top_right_cell.border = Border(top=thin, left=thin, right=thin, bottom=thin)\n",
    "    sheet.column_dimensions['A'].width = 25\n",
    "    sheet.column_dimensions['B'].width = 25\n",
    "    sheet.column_dimensions['C'].width = 15\n",
    "    sheet.column_dimensions['D'].width = 15\n",
    "    sheet.column_dimensions['E'].width = 15\n",
    "    sheet.column_dimensions['F'].width = 15\n",
    "    sheet.column_dimensions['G'].width = 15\n",
    "    sheet.column_dimensions['H'].width = 15\n",
    "    sheet.column_dimensions['I'].width = 15\n",
    "    sheet.column_dimensions['J'].width = 15\n",
    "    sheet.column_dimensions['K'].width = 15\n",
    "    sheet.column_dimensions['L'].width = 15\n",
    "    sheet.column_dimensions['M'].width = 15\n",
    "    sheet.column_dimensions['N'].width = 15\n",
    "    sheet.column_dimensions['O'].width = 15\n",
    "#    sheet.column_dimensions['D'].hidden = True\n",
    "    num_rows = sheet.max_row\n",
    "    curr_row = 2\n",
    "    for col in range(3, 16):\n",
    "        for row in range(2, num_rows+1):\n",
    "            sheet.cell(column=col, row=row).number_format = '\"$\"#,##0;[Red](\"$\"#,##0)'\n",
    "    for col in range(1, 3):\n",
    "        for row in range(3, num_rows):\n",
    "            sheet.cell(column=col, row=row).alignment = Alignment(horizontal = 'left', vertical='top')\n",
    "            sheet.cell(column=col, row=row).fill = blueFill\n",
    "    for i in range(1, sheet.max_row + 1):\n",
    "        if sheet.cell(row=i, column=2).value == \"Subtotal\":\n",
    "            for j in range(2,16):\n",
    "                sheet.cell(column=j, row=i).font = Font(bold=True)\n",
    "                sheet.cell(column=j, row=i).border = Border(bottom=Side(style='thin'))     \n",
    "    for i in range(1, sheet.max_row + 1):\n",
    "        if sheet.cell(row=i, column=1).value == \"Grand\":\n",
    "            for j in range(1,16):\n",
    "                sheet.cell(column=j, row=i).font = Font(bold=True)\n",
    "                sheet.cell(column=j, row=i).border = Border(bottom=Side(style=\"double\"))   \n",
    "    for i in range(1, sheet.max_row + 1):\n",
    "        if sheet.cell(row=i, column=1).value == \"Grant\":\n",
    "            for j in range(1,16):\n",
    "                sheet.cell(column=j, row=i).font = Font(bold=True)\n",
    "                sheet.cell(column=j, row=i).border = Border(top = thin, bottom = thin)  \n",
    "                sheet.cell(column=j, row=i).fill = greyFill\n",
    "    for col in range(16, 17):\n",
    "        for row in range(2, num_rows+1):\n",
    "            sheet.cell(column=col, row=row).border = Border(left=thin)\n",
    "#    sheet.auto_filter.ref = sheet.dimensions\n",
    "    sheet.sheet_view.zoomScale = 70\n",
    "    sheet.freeze_panes = \"C3\"\n",
    "    book.save(file)"
   ]
  },
  {
   "cell_type": "code",
   "execution_count": 171,
   "metadata": {},
   "outputs": [],
   "source": [
    "def format_multi_pivot_CFO(Group, str):\n",
    "    step1 = create_CFO_pivot(Group)\n",
    "    step2 = add_subtotal_CFO(step1)\n",
    "    to_excel_CFO(step2, str)\n",
    "    edit_workbook_CFO(str)"
   ]
  },
  {
   "cell_type": "code",
   "execution_count": 172,
   "metadata": {},
   "outputs": [],
   "source": [
    "dfRestrictedONLY = dfCFOREport[dfCFOREport['Rev or Exp']==\"Expense\"]"
   ]
  },
  {
   "cell_type": "code",
   "execution_count": 173,
   "metadata": {},
   "outputs": [],
   "source": [
    "format_multi_pivot_CFO(dfRestrictedONLY, CFOpath+'\\\\CFO_Report_'+timestampMD+'.xlsx')"
   ]
  },
  {
   "cell_type": "markdown",
   "metadata": {},
   "source": [
    "## Unrestricted Use by Project Allocation and Program"
   ]
  },
  {
   "cell_type": "code",
   "execution_count": 174,
   "metadata": {},
   "outputs": [],
   "source": [
    "def create_CFO_pivot2(Group):\n",
    "    Month_order = ['Jul 2020', 'Aug 2020', 'Sep 2020', 'Oct 2020', 'Nov 2020', 'Dec 2020', 'Jan 2021', 'Feb 2021', 'Mar 2021', 'Apr 2021', 'May 2021', 'Jun 2021']\n",
    "    table = pd.pivot_table(Group, index = ['Project Allocations','Program'], values = 'Unrestricted', columns = 'Period', aggfunc=np.sum)\n",
    "    table2 = table.reindex(Month_order, axis=1)\n",
    "    table2['Total'] = table2.iloc[:,-12:].sum(axis=1)\n",
    "    return table2"
   ]
  },
  {
   "cell_type": "code",
   "execution_count": 175,
   "metadata": {},
   "outputs": [],
   "source": [
    "def add_subtotal_CFO2(PivotedGroup):\n",
    "    out = pd.concat([d.append(d.sum().rename((k, 'Subtotal'))) for k, d in PivotedGroup.groupby('Project Allocations')]).append((PivotedGroup.sum()).rename(('Grand', 'Total')))\n",
    "    out.index = pd.MultiIndex.from_tuples(out.index)\n",
    "    return out"
   ]
  },
  {
   "cell_type": "code",
   "execution_count": 176,
   "metadata": {},
   "outputs": [],
   "source": [
    "def to_excel_CFO2(df, file):\n",
    "    writer = pd.ExcelWriter(file, engine='openpyxl')\n",
    "    if os.path.exists(file):\n",
    "        book = openpyxl.load_workbook(file)\n",
    "        writer.book = book\n",
    "\n",
    "    df.to_excel(writer, sheet_name=\"Unrestricted by Project All\", startrow = 1)\n",
    "    writer.save()\n",
    "    writer.close()    "
   ]
  },
  {
   "cell_type": "code",
   "execution_count": 177,
   "metadata": {},
   "outputs": [],
   "source": [
    "def edit_workbook_CFO2(file):\n",
    "    book = load_workbook(file)\n",
    "    sheet = book[\"Unrestricted by Project All\"] #active means last opened sheet\n",
    "    rd = sheet.row_dimensions[1]\n",
    "    rd.height = 25\n",
    "    sheet['A2']= \"Project Allocations\"\n",
    "    sheet['B2']= 'Program'\n",
    "    sheet['A2'].font = Font(bold=True)\n",
    "    sheet['B2'].font = Font(bold=True)\n",
    "#    fontStyle = Font(size = \"20\")\n",
    "    sheet.merge_cells('A1:O1')\n",
    "    top_left_cell = sheet['A1']\n",
    "    top_right_cell = sheet['O1']\n",
    "    top_left_cell.value = \"Unrestricted Used by Project Type\"\n",
    "    thin = Side(border_style=\"thin\", color=\"000000\")\n",
    "    double = Side(border_style=\"double\", color=\"000000\")\n",
    "    top_left_cell.border = Border(top=thin, left=thin, right=thin, bottom=thin)\n",
    "    top_left_cell.fill = PatternFill(\"solid\", fgColor=\"003366\")\n",
    "#    top_left_cell.fill = fill = GradientFill(stop=(\"000080\", \"FFFFFF\"))\n",
    "    top_left_cell.font  = Font(color=\"FFFFFF\", size = \"26\")\n",
    "#    top_left_cell.font = fontStyle\n",
    "    top_left_cell.alignment = Alignment(horizontal=\"center\", vertical=\"center\")\n",
    "    top_right_cell.border = Border(top=thin, left=thin, right=thin, bottom=thin)\n",
    "    sheet.column_dimensions['A'].width = 25\n",
    "    sheet.column_dimensions['B'].width = 25\n",
    "    sheet.column_dimensions['C'].width = 15\n",
    "    sheet.column_dimensions['D'].width = 15\n",
    "    sheet.column_dimensions['E'].width = 15\n",
    "    sheet.column_dimensions['F'].width = 15\n",
    "    sheet.column_dimensions['G'].width = 15\n",
    "    sheet.column_dimensions['H'].width = 15\n",
    "    sheet.column_dimensions['I'].width = 15\n",
    "    sheet.column_dimensions['J'].width = 15\n",
    "    sheet.column_dimensions['K'].width = 15\n",
    "    sheet.column_dimensions['L'].width = 15\n",
    "    sheet.column_dimensions['M'].width = 15\n",
    "    sheet.column_dimensions['N'].width = 15\n",
    "    sheet.column_dimensions['O'].width = 15\n",
    "#    sheet.column_dimensions['D'].hidden = True\n",
    "    num_rows = sheet.max_row\n",
    "    curr_row = 2\n",
    "    for col in range(3, 16):\n",
    "        for row in range(2, num_rows+1):\n",
    "            sheet.cell(column=col, row=row).number_format = '\"$\"#,##0;[Red](\"$\"#,##0)'\n",
    "    for col in range(1, 3):\n",
    "        for row in range(3, num_rows):\n",
    "            sheet.cell(column=col, row=row).alignment = Alignment(horizontal = 'left', vertical='top')\n",
    "            sheet.cell(column=col, row=row).fill = blueFill\n",
    "    for i in range(1, sheet.max_row + 1):\n",
    "        if sheet.cell(row=i, column=2).value == \"Subtotal\":\n",
    "            for j in range(2,16):\n",
    "                sheet.cell(column=j, row=i).font = Font(bold=True)\n",
    "                sheet.cell(column=j, row=i).border = Border(bottom=Side(style='thin'))     \n",
    "    for i in range(1, sheet.max_row + 1):\n",
    "        if sheet.cell(row=i, column=1).value == \"Grand\":\n",
    "            for j in range(1,16):\n",
    "                sheet.cell(column=j, row=i).font = Font(bold=True)\n",
    "                sheet.cell(column=j, row=i).border = Border(bottom=Side(style=\"double\"))   \n",
    "    for i in range(1, sheet.max_row + 1):\n",
    "        if sheet.cell(row=i, column=1).value == \"Project Allocations\":\n",
    "            for j in range(1,16):\n",
    "                sheet.cell(column=j, row=i).font = Font(bold=True)\n",
    "                sheet.cell(column=j, row=i).border = Border(top = thin, bottom = thin)  \n",
    "                sheet.cell(column=j, row=i).fill = greyFill\n",
    "    for col in range(16, 17):\n",
    "        for row in range(2, num_rows+1):\n",
    "            sheet.cell(column=col, row=row).border = Border(left=thin)\n",
    "#    sheet.auto_filter.ref = sheet.dimensions\n",
    "    sheet.sheet_view.zoomScale = 70\n",
    "    sheet.freeze_panes = \"C3\"\n",
    "    book.save(file)"
   ]
  },
  {
   "cell_type": "code",
   "execution_count": 178,
   "metadata": {},
   "outputs": [],
   "source": [
    "def format_multi_pivot_CFO2(Group, str):\n",
    "    step1 = create_CFO_pivot2(Group)\n",
    "    step2 = add_subtotal_CFO2(step1)\n",
    "    to_excel_CFO2(step2, str)\n",
    "    edit_workbook_CFO2(str)"
   ]
  },
  {
   "cell_type": "code",
   "execution_count": 179,
   "metadata": {},
   "outputs": [],
   "source": [
    "format_multi_pivot_CFO2(dfCFOREport, CFOpath+'\\\\CFO_Report_'+timestampMD+'.xlsx')"
   ]
  },
  {
   "cell_type": "markdown",
   "metadata": {},
   "source": [
    "# Managing Director Dashboard"
   ]
  },
  {
   "cell_type": "code",
   "execution_count": 180,
   "metadata": {},
   "outputs": [],
   "source": [
    "MDpath = r'C:\\Users\\Jeremy Wendt\\anaconda3\\envs\\Code\\Detail_Trans_Project_FY21\\reports\\MD_Package'\n",
    "\n",
    "\n",
    "Templatepath = 'C:\\\\Users\\\\Jeremy Wendt\\\\anaconda3\\\\envs\\\\Code\\\\Detail_Trans_Project_FY21\\\\Data\\\\raw\\\\MD_Cover_Page.xlsx'"
   ]
  },
  {
   "cell_type": "code",
   "execution_count": 181,
   "metadata": {},
   "outputs": [],
   "source": [
    "\n",
    "#wb = openpyxl.load_workbook(filename=Templatepath)\n",
    "#ws = wb['Cover']"
   ]
  },
  {
   "cell_type": "code",
   "execution_count": 182,
   "metadata": {},
   "outputs": [],
   "source": [
    "ProgramsMD = Programs"
   ]
  },
  {
   "cell_type": "code",
   "execution_count": 183,
   "metadata": {},
   "outputs": [],
   "source": [
    "ProgramsMD.remove('na')\n",
    "ProgramsMD.remove('Building Electrification')\n",
    "ProgramsMD.remove('Islands')\n",
    "ProgramsMD.remove('SE Asia')\n",
    "ProgramsMD.remove('Africa')\n",
    "ProgramsMD.remove('Energy Transition Academy')\n",
    "ProgramsMD.remove('Sustainable Finance')\n",
    "ProgramsMD.remove('Energy Web Foundation')\n",
    "ProgramsMD.remove('Business Renewable Center')\n",
    "ProgramsMD.remove('Emerging Energy Solutions')\n",
    "ProgramsMD.remove('Shine')\n",
    "ProgramsMD.remove('Carbon War Room')\n",
    "ProgramsMD.remove('Methane')\n",
    "ProgramsMD.remove('Sunshine for Mines')\n",
    "ProgramsMD.remove('Aviation')\n",
    "ProgramsMD.remove('Trucking')\n",
    "ProgramsMD.remove('Shipping')\n",
    "ProgramsMD.append('Developing Economies')\n",
    "ProgramsMD.remove('Beijing')"
   ]
  },
  {
   "cell_type": "code",
   "execution_count": 184,
   "metadata": {},
   "outputs": [
    {
     "data": {
      "text/plain": [
       "['Development',\n",
       " 'Global Climate Finance',\n",
       " 'Operations',\n",
       " 'Strategic Engagement and Analysis Group',\n",
       " 'China',\n",
       " 'Carbon-Free Buildings',\n",
       " 'India',\n",
       " 'Carbon-Free Electricity',\n",
       " 'Carbon-Free Mobility',\n",
       " 'WattTime',\n",
       " 'Industry',\n",
       " 'Communications',\n",
       " 'Urban Transformation',\n",
       " 'Breakthrough Technology',\n",
       " 'Climate Aligned Industries',\n",
       " 'Climate Intelligence',\n",
       " 'US',\n",
       " 'CFAN',\n",
       " 'Cross-Program Impact Acceleration',\n",
       " 'Canary Media Program',\n",
       " 'Developing Economies']"
      ]
     },
     "execution_count": 184,
     "metadata": {},
     "output_type": "execute_result"
    }
   ],
   "source": [
    "ProgramsMD"
   ]
  },
  {
   "cell_type": "markdown",
   "metadata": {},
   "source": [
    "## Create Cover Sheet"
   ]
  },
  {
   "cell_type": "code",
   "execution_count": 185,
   "metadata": {},
   "outputs": [],
   "source": [
    "CoverNames = []\n",
    "\n",
    "for i in ProgramsMD:\n",
    "    CoverNames.append(i + \" - \" + timestampMD)"
   ]
  },
  {
   "cell_type": "code",
   "execution_count": 186,
   "metadata": {},
   "outputs": [],
   "source": [
    "for i in CoverNames:    \n",
    "    wb = load_workbook(Templatepath)\n",
    "    ws = wb['Cover']    \n",
    "    img = openpyxl.drawing.image.Image(Logopath)\n",
    "    img.anchor = 'A1'\n",
    "    ws.add_image(img)\n",
    "    ws.cell(row = 14, column = 1).value = i\n",
    "    wb.save(str(MDpath+'\\\\'+i+' - MD Package.xlsx'))"
   ]
  },
  {
   "cell_type": "markdown",
   "metadata": {},
   "source": [
    "## Create First MD Table"
   ]
  },
  {
   "cell_type": "code",
   "execution_count": 187,
   "metadata": {},
   "outputs": [],
   "source": [
    "initiative_program_table3 = initiative_program_table[['Program', 'Initiative']].drop_duplicates()"
   ]
  },
  {
   "cell_type": "code",
   "execution_count": 188,
   "metadata": {},
   "outputs": [],
   "source": [
    "dfGrantBalancesZEROSPEND = dfGrantBalancesZEROSPEND.rename(columns={'Level':'Initiative'})"
   ]
  },
  {
   "cell_type": "code",
   "execution_count": 189,
   "metadata": {},
   "outputs": [],
   "source": [
    "dfGrantBalancesZEROSPEND = pd.merge(dfGrantBalancesZEROSPEND, initiative_program_table3, on = 'Initiative', how='left')"
   ]
  },
  {
   "cell_type": "code",
   "execution_count": 190,
   "metadata": {},
   "outputs": [],
   "source": [
    "dfGrantBalancesZEROSPEND = pd.merge(dfGrantBalancesZEROSPEND, dfSalesforceGrantContractsNS, on = 'Grant', how='left')"
   ]
  },
  {
   "cell_type": "code",
   "execution_count": 191,
   "metadata": {},
   "outputs": [
    {
     "data": {
      "text/plain": [
       "Index(['Initiative', 'Grant', 'Amount Received', 'Total Grant Spend',\n",
       "       'Institutional Overhead Note', 'Accounting Treatment',\n",
       "       'Institutional Overhead', 'NS Balance',\n",
       "       'Grant Close Date (Adaptive Sheet)', 'Grant Start Date',\n",
       "       'Grant Revenue Date', 'Close Date Notes', 'Project', 'Program',\n",
       "       'Documents Link'],\n",
       "      dtype='object')"
      ]
     },
     "execution_count": 191,
     "metadata": {},
     "output_type": "execute_result"
    }
   ],
   "source": [
    "dfGrantBalancesZEROSPEND.columns"
   ]
  },
  {
   "cell_type": "code",
   "execution_count": 192,
   "metadata": {},
   "outputs": [],
   "source": [
    "dfGrantBalancesZEROSPEND['Grant Start Date'] = pd.to_datetime(dfGrantBalancesZEROSPEND['Grant Start Date']).dt.strftime(\"%m/%d/%Y\")\n",
    "dfGrantBalancesZEROSPEND['Grant Revenue Date'] = pd.to_datetime(dfGrantBalancesZEROSPEND['Grant Revenue Date']).dt.strftime(\"%m/%d/%Y\")\n",
    "dfGrantBalancesZEROSPEND['Grant Close Date (Adaptive Sheet)'] = pd.to_datetime(dfGrantBalancesZEROSPEND['Grant Close Date (Adaptive Sheet)']).dt.strftime(\"%m/%d/%Y\")\n",
    "dfGrantBalancesZEROSPEND['Amount Received'] = dfGrantBalancesZEROSPEND['Amount Received'].astype(float)\n",
    "dfGrantBalancesZEROSPEND['Total Grant Spend'] = dfGrantBalancesZEROSPEND['Total Grant Spend'].astype(float)\n",
    "dfGrantBalancesZEROSPEND['Institutional Overhead'] = dfGrantBalancesZEROSPEND['Institutional Overhead'].astype(float)\n",
    "dfGrantBalancesZEROSPEND['NS Balance'] = dfGrantBalancesZEROSPEND['NS Balance'].astype(float)"
   ]
  },
  {
   "cell_type": "code",
   "execution_count": 193,
   "metadata": {},
   "outputs": [],
   "source": [
    "dfGrantBalancesZEROSPEND['Grant Close Date (Adaptive Sheet)'].replace('', np.nan, inplace=True)\n",
    "dfGrantBalancesZEROSPEND['Grant Start Date'].replace('', np.nan, inplace=True)\n",
    "dfGrantBalancesZEROSPEND['Close Date Notes'].replace('', np.nan, inplace=True)\n",
    "dfGrantBalancesZEROSPEND['Grant Revenue Date'].replace('', np.nan, inplace=True)\n",
    "dfGrantBalancesZEROSPEND['Amount Received'].replace('', np.nan, inplace=True)\n",
    "dfGrantBalancesZEROSPEND['Total Grant Spend'].replace('', np.nan, inplace=True)\n",
    "dfGrantBalancesZEROSPEND['Institutional Overhead Note'].replace('', np.nan, inplace=True)\n",
    "dfGrantBalancesZEROSPEND['Accounting Treatment'].replace('', np.nan, inplace=True)\n",
    "dfGrantBalancesZEROSPEND['Institutional Overhead'].replace('', np.nan, inplace=True)\n",
    "dfGrantBalancesZEROSPEND['NS Balance'].replace('', np.nan, inplace=True)\n",
    "dfGrantBalancesZEROSPEND['Grant Close Date (Adaptive Sheet)'].fillna(\"na\", inplace=True)\n",
    "dfGrantBalancesZEROSPEND['Grant Start Date'].fillna(\"na\", inplace=True)\n",
    "dfGrantBalancesZEROSPEND['Grant Revenue Date'].fillna(\"na\", inplace=True)\n",
    "dfGrantBalancesZEROSPEND['Amount Received'].fillna(\"na\", inplace=True)\n",
    "dfGrantBalancesZEROSPEND['Total Grant Spend'].fillna(\"na\", inplace=True)\n",
    "dfGrantBalancesZEROSPEND['Institutional Overhead Note'].fillna(\"na\", inplace=True)\n",
    "dfGrantBalancesZEROSPEND['Accounting Treatment'].fillna(\"na\", inplace=True)\n",
    "dfGrantBalancesZEROSPEND['Institutional Overhead'].fillna(\"na\", inplace=True)\n",
    "dfGrantBalancesZEROSPEND['NS Balance'].fillna(\"na\", inplace=True)\n",
    "dfGrantBalancesZEROSPEND['Close Date Notes'].fillna(\"na\", inplace=True)"
   ]
  },
  {
   "cell_type": "code",
   "execution_count": 194,
   "metadata": {},
   "outputs": [],
   "source": [
    "\n",
    "ChinaGrantNOEXP = dfGrantBalancesZEROSPEND[dfGrantBalancesZEROSPEND[\"Program\"]==\"China\"]\n",
    "BEGrantNOEXP = dfGrantBalancesZEROSPEND[dfGrantBalancesZEROSPEND[\"Program\"]==\"Building Electrification\"]\n",
    "CFEGrantNOEXP = dfGrantBalancesZEROSPEND[dfGrantBalancesZEROSPEND[\"Program\"]==\"Carbon-Free Electricity\"]\n",
    "UTGrantNOEXP = dfGrantBalancesZEROSPEND[dfGrantBalancesZEROSPEND[\"Program\"]==\"Urban Transformation\"]\n",
    "CAIGrantNOEXP = dfGrantBalancesZEROSPEND[dfGrantBalancesZEROSPEND[\"Program\"]==\"Climate Aligned Industries\"]\n",
    "CFBGrantNOEXP = dfGrantBalancesZEROSPEND[dfGrantBalancesZEROSPEND[\"Program\"]==\"Carbon-Free Buildings\"]\n",
    "BTGrantNOEXP = dfGrantBalancesZEROSPEND[dfGrantBalancesZEROSPEND[\"Program\"]==\"Breakthrough Technology\"]\n",
    "CFMGrantNOEXP = dfGrantBalancesZEROSPEND[dfGrantBalancesZEROSPEND[\"Program\"]==\"Carbon-Free Mobility\"]\n",
    "ISLANDSGrantNOEXP = dfGrantBalancesZEROSPEND[dfGrantBalancesZEROSPEND[\"Program\"]==\"Islands\"]\n",
    "IndiaGrantNOEXP = dfGrantBalancesZEROSPEND[dfGrantBalancesZEROSPEND[\"Program\"]==\"India\"]\n",
    "GCFGrantNOEXP = dfGrantBalancesZEROSPEND[dfGrantBalancesZEROSPEND[\"Program\"]==\"Global Climate Finance\"]\n",
    "SEAGrantNOEXP = dfGrantBalancesZEROSPEND[dfGrantBalancesZEROSPEND[\"Program\"]==\"Strategic Engagement and Analysis Group\"]\n",
    "WattTimeGrantNOEXP = dfGrantBalancesZEROSPEND[dfGrantBalancesZEROSPEND[\"Program\"]==\"WattTime\"]\n",
    "SEASIAGrantNOEXP = dfGrantBalancesZEROSPEND[dfGrantBalancesZEROSPEND[\"Program\"]==\"SE Asia\"]\n",
    "AfricaGrantNOEXP = dfGrantBalancesZEROSPEND[dfGrantBalancesZEROSPEND[\"Program\"]==\"Africa\"]\n",
    "USGrantNOEXP = dfGrantBalancesZEROSPEND[dfGrantBalancesZEROSPEND[\"Program\"]==\"US\"]\n",
    "CIGrantNOEXP = dfGrantBalancesZEROSPEND[dfGrantBalancesZEROSPEND[\"Program\"]==\"Climate Intelligence\"]\n",
    "ETAGrantNOEXP = dfGrantBalancesZEROSPEND[dfGrantBalancesZEROSPEND[\"Program\"]==\"Energy Transition Academy\"]\n",
    "CFANGrantNOEXP = dfGrantBalancesZEROSPEND[dfGrantBalancesZEROSPEND[\"Program\"]==\"CFAN\"]\n",
    "\n",
    "DEGrantNOEXP = pd.concat([ISLANDSGrantNOEXP, SEASIAGrantNOEXP, AfricaGrantNOEXP, ETAGrantNOEXP, CFANGrantNOEXP], ignore_index = True, sort=False)\n",
    "CFRRollingGrantNOEXP = pd.concat([BEGrantNOEXP, CFBGrantNOEXP], ignore_index = True, sort=False)"
   ]
  },
  {
   "cell_type": "code",
   "execution_count": 195,
   "metadata": {},
   "outputs": [],
   "source": [
    "from openpyxl.utils.dataframe import dataframe_to_rows\n",
    "\n",
    "def create_data_GrantZeroBalance(Group, str):\n",
    "    table = Group[['Initiative','Project','Grant', 'Documents Link', 'Grant Revenue Date', 'Grant Start Date', 'Grant Close Date (Adaptive Sheet)', 'Close Date Notes', 'Accounting Treatment', 'Amount Received','Total Grant Spend', 'Institutional Overhead Note', 'Institutional Overhead',  'NS Balance']]\n",
    "    book = load_workbook(MDpath+str)\n",
    "    sheet = book[\"Restricted Revenue\"]\n",
    "    data = table\n",
    "    rows = dataframe_to_rows(table, index=False, header=True)\n",
    "    for r_idx, row in enumerate(rows, sheet.max_row+2):\n",
    "        for c_idx, value in enumerate(row, 1):\n",
    "            sheet.cell(row=r_idx, column=c_idx, value=value)\n",
    "            sheet.cell(column=c_idx, row=r_idx).font = Font(bold=True)\n",
    "            sheet.cell(column=c_idx, row=r_idx).number_format = '\"$\"#,##0;[Red](\"$\"#,##0)'\n",
    "            if sheet.cell(column=4, row=r_idx).value is None or sheet.cell(column=4, row=r_idx).value == 'Documents Link':\n",
    "                continue\n",
    "            else:\n",
    "                try:\n",
    "                    sheet.cell(column=3, row=r_idx).hyperlink = sheet.cell(column=4, row=r_idx).value  \n",
    "                    sheet.cell(column=3, row=r_idx).value = sheet.cell(column=3, row=r_idx).value    \n",
    "                    sheet.cell(column=3, row=r_idx).style = \"Hyperlink\"   \n",
    "                except:\n",
    "                    pass    \n",
    "    book.save(MDpath+str)"
   ]
  },
  {
   "cell_type": "code",
   "execution_count": null,
   "metadata": {},
   "outputs": [],
   "source": []
  },
  {
   "cell_type": "code",
   "execution_count": 196,
   "metadata": {},
   "outputs": [],
   "source": [
    "def create_MD_pivot1(Group):\n",
    "    Month_order = ['Jul 2017', 'Aug 2017', 'Sep 2017', 'Oct 2017', 'Nov 2017', 'Dec 2017', 'Jan 2018', 'Feb 2018', 'Mar 2018', 'Apr 2018', 'May 2018', 'Jun 2018', 'Jul 2018', 'Aug 2018', 'Sep 2018', 'Oct 2018', 'Nov 2018', 'Dec 2018', 'Jan 2019', 'Feb 2019', 'Mar 2019', 'Apr 2019', 'May 2019', 'Jun 2019', 'July 2019', 'Aug 2019', 'Sep 2019', 'Oct 2019', 'Nov 2019', 'Dec 2019', 'Jan 2020', 'Feb 2020', 'Mar 2020', 'Apr 2020', 'May 2020', 'Jun 2020', 'Jul 2020', 'Aug 2020', 'Sep 2020', 'Oct 2020', 'Nov 2020', 'Dec 2020', 'Jan 2021', 'Feb 2021', 'Mar 2021', 'Apr 2021', 'May 2021', 'Jun 2021']\n",
    "    table = pd.pivot_table(Group, index = ['Initiative','Project','Grant', 'Documents Link', 'Grant Revenue Date', 'Grant Start Date', 'Grant Close Date (Adaptive Sheet)', 'Close Date Notes', 'Accounting Treatment', 'Amount Received','Total Grant Spend', 'Institutional Overhead Note', 'Institutional Overhead',  'NS Balance'], values = 'Amount', columns = 'Period', aggfunc=np.sum)\n",
    "    table2 = table.reindex(Month_order, axis=1)\n",
    "    table2['FY21 Total'] = table2.iloc[:,-12:].sum(axis=1)\n",
    "    table2['FY20-FY21 Total'] = table2.iloc[:,-36:].sum(axis=1)\n",
    "    table2 = table2[table2['FY20-FY21 Total']!=0]      \n",
    "    return table2"
   ]
  },
  {
   "cell_type": "code",
   "execution_count": 197,
   "metadata": {},
   "outputs": [],
   "source": [
    "def add_subtotal_MD1(PivotedGroup):\n",
    "    out = pd.concat([d.append(d.sum().rename((k,'','','','','','','','','','','','','Subtotal'))) for k, d in PivotedGroup.groupby('Initiative')]).append((PivotedGroup.sum()).rename(('Grand','','','','','','','','','','','','','Total')))\n",
    "    out.index = pd.MultiIndex.from_tuples(out.index)\n",
    "    return out"
   ]
  },
  {
   "cell_type": "code",
   "execution_count": 198,
   "metadata": {},
   "outputs": [],
   "source": [
    "def to_excel_MD1(df, file):\n",
    "    writer = pd.ExcelWriter(file, engine='openpyxl')\n",
    "    if os.path.exists(file):\n",
    "        book = openpyxl.load_workbook(file)\n",
    "        writer.book = book\n",
    "\n",
    "    df.to_excel(writer, sheet_name=\"Restricted Revenue\", startrow = 1)\n",
    "    writer.save()\n",
    "    writer.close()    "
   ]
  },
  {
   "cell_type": "code",
   "execution_count": 199,
   "metadata": {},
   "outputs": [],
   "source": [
    "from openpyxl.styles import Border, Side, PatternFill, Font, GradientFill, Alignment\n",
    "from openpyxl.utils import get_column_letter\n",
    "\n",
    "def edit_workbook_MD1(file):\n",
    "    book = load_workbook(file)\n",
    "    sheet = book[\"Restricted Revenue\"] #active means last opened sheet\n",
    "    rd = sheet.row_dimensions[1]\n",
    "    rd.height = 25\n",
    "    sheet['A2']= \"Initiative\"\n",
    "    sheet['B2']= \"Project\"\n",
    "    sheet['C2']= \"Grant\"    \n",
    "    sheet['D2']= \"Grant Agreement Link\"       \n",
    "    sheet['E2']= \"Grant Revenue Date\"    \n",
    "    sheet['F2']= \"Grant Start Date\"    \n",
    "    sheet['G2']= \"Grant Close Date\"  \n",
    "    sheet['H2']= \"Close Date Notes\" \n",
    "    sheet['I2']= \"Accounting Treatment \"    \n",
    "    sheet['J2']= \"Amount Received\"    \n",
    "    sheet['K2']= \"Total Grant Spend\"    \n",
    "    sheet['L2']= \"Institutional Overhead Note\"    \n",
    "    sheet['M2']= \"Institutional Overhead\"    \n",
    "    sheet['N2']= \"Grant Balance\"    \n",
    "    sheet['A2'].font = Font(bold=True)\n",
    "    sheet['B2'].font = Font(bold=True)\n",
    "    sheet['C2'].font = Font(bold=True)\n",
    "    sheet['D2'].font = Font(bold=True)\n",
    "    sheet['E2'].font = Font(bold=True)\n",
    "    sheet['F2'].font = Font(bold=True)\n",
    "    sheet['G2'].font = Font(bold=True)\n",
    "    sheet['H2'].font = Font(bold=True)\n",
    "    sheet['I2'].font = Font(bold=True)\n",
    "    sheet['J2'].font = Font(bold=True)\n",
    "    sheet['K2'].font = Font(bold=True)\n",
    "    sheet['L2'].font = Font(bold=True)\n",
    "    sheet['M2'].font = Font(bold=True)\n",
    "#    fontStyle = Font(size = \"26\")\n",
    "    sheet.merge_cells('A1:BK1')\n",
    "    top_left_cell = sheet['A1']\n",
    "    top_right_cell = sheet['BK1']\n",
    "    top_left_cell.value = \"FY21 Restricted Revenue\"\n",
    "    thin = Side(border_style=\"thin\", color=\"000000\")\n",
    "    double = Side(border_style=\"double\", color=\"000000\")\n",
    "    top_left_cell.border = Border(top=thin, left=thin, right=thin, bottom=thin)\n",
    "    top_left_cell.fill = PatternFill(\"solid\", fgColor=\"003366\")\n",
    "#    top_left_cell.fill = fill = GradientFill(stop=(\"000080\", \"FFFFFF\"))\n",
    "    top_left_cell.font  = Font(color=\"FFFFFF\", size = \"26\")\n",
    "#    top_left_cell.font = fontStyle\n",
    "    top_left_cell.alignment = Alignment(horizontal=\"center\", vertical=\"center\")\n",
    "    top_right_cell.border = Border(top=thin, left=thin, right=thin, bottom=thin)\n",
    "    sheet.column_dimensions['A'].width = 25\n",
    "    sheet.column_dimensions['B'].width = 25\n",
    "    sheet.column_dimensions['C'].width = 35\n",
    "    sheet.column_dimensions['D'].width = 15\n",
    "    sheet.column_dimensions['E'].width = 15\n",
    "    sheet.column_dimensions['F'].width = 15\n",
    "    sheet.column_dimensions['G'].width = 15\n",
    "    sheet.column_dimensions['H'].width = 15\n",
    "    sheet.column_dimensions['I'].width = 15\n",
    "    sheet.column_dimensions['J'].width = 15\n",
    "    sheet.column_dimensions['K'].width = 15\n",
    "    sheet.column_dimensions['L'].width = 15\n",
    "    sheet.column_dimensions['M'].width = 15\n",
    "    sheet.column_dimensions['N'].width = 15\n",
    "    sheet.column_dimensions['O'].width = 15\n",
    "    sheet.column_dimensions['P'].width = 15\n",
    "    sheet.column_dimensions['Q'].width = 15\n",
    "    sheet.column_dimensions['E'].hidden = True\n",
    "    sheet.column_dimensions['F'].hidden = True  \n",
    "    sheet.column_dimensions['I'].hidden = True  \n",
    "    sheet.column_dimensions['BL'].hidden = True\n",
    "    sheet.column_dimensions['D'].hidden = True\n",
    "    num_rows = sheet.max_row\n",
    "    curr_row = 2\n",
    "    thin_border = Border(left=Side(style='thin'), \n",
    "                         right=Side(style='thin'), \n",
    "                         top=Side(style='thin'), \n",
    "                         bottom=Side(style='thin'))\n",
    "    for col in range(3, 4):\n",
    "        for row in range(2, num_rows+1):\n",
    "            if sheet.cell(column=4, row=row).value == 'na':\n",
    "                continue\n",
    "            else:\n",
    "                try:\n",
    "                    sheet.cell(column=col, row=row).hyperlink = sheet.cell(column=4, row=row).value  \n",
    "                    sheet.cell(column=col, row=row).value = sheet.cell(column=col, row=row).value    \n",
    "                    sheet.cell(column=col, row=row).style = \"Hyperlink\"   \n",
    "                except:\n",
    "                    pass    \n",
    "    for col in range(3, 4):\n",
    "        for row in range(2, num_rows+1):\n",
    "                sheet.cell(column=col, row=row).border = thin_border\n",
    "    for col in range(9, 64):\n",
    "        for row in range(2, num_rows+1):\n",
    "            sheet.cell(column=col, row=row).number_format = '\"$\"#,##0;[Red](\"$\"#,##0)'\n",
    "    for col in range(1, 15):\n",
    "        for row in range(3, num_rows):\n",
    "            sheet.cell(column=col, row=row).alignment = Alignment(horizontal = 'left', vertical='top')\n",
    "            sheet.cell(column=col, row=row).fill = blueFill\n",
    "    for i in range(1, sheet.max_row + 1):\n",
    "        if sheet.cell(row=i, column=14).value == \"Subtotal\":\n",
    "            for j in range(4,64):\n",
    "                sheet.cell(column=j, row=i).font = Font(bold=True)\n",
    "                sheet.cell(column=j, row=i).border = Border(bottom=Side(style='thin'))     \n",
    "    for i in range(1, sheet.max_row + 1):\n",
    "        if sheet.cell(row=i, column=1).value == \"Grand\":\n",
    "            for j in range(1,64):\n",
    "                sheet.cell(column=j, row=i).font = Font(bold=True)\n",
    "                sheet.cell(column=j, row=i).border = Border(bottom=Side(style=\"double\"))   \n",
    "    for i in range(1, sheet.max_row + 1):\n",
    "        if sheet.cell(row=i, column=1).value == \"Initiative\":\n",
    "            for j in range(1,64):\n",
    "                sheet.cell(column=j, row=i).font = Font(bold=True)\n",
    "                sheet.cell(column=j, row=i).border = Border(top = thin, bottom = thin)  \n",
    "                sheet.cell(column=j, row=i).fill = greyFill\n",
    "    for col in range(64, 65):\n",
    "        for row in range(2, num_rows+1):\n",
    "            sheet.cell(column=col, row=row).border = Border(left=thin)\n",
    "#    sheet.auto_filter.ref = sheet.dimensions\n",
    "    FullRange = \"A2:\" + get_column_letter(sheet.max_column) \\\n",
    "    + str(sheet.max_row)\n",
    "    sheet.auto_filter.ref = FullRange\n",
    "    sheet.sheet_view.zoomScale = 70\n",
    "    sheet.freeze_panes = \"O3\"\n",
    "    sheet.column_dimensions.group(\"O\",\"AX\",hidden=True)\n",
    "    book.save(file)"
   ]
  },
  {
   "cell_type": "code",
   "execution_count": null,
   "metadata": {},
   "outputs": [],
   "source": []
  },
  {
   "cell_type": "code",
   "execution_count": 200,
   "metadata": {},
   "outputs": [],
   "source": [
    "def format_multi_pivot_MD1(Group, str):\n",
    "    step1 = create_MD_pivot1(Group)\n",
    "    step2 = add_subtotal_MD1(step1)\n",
    "    to_excel_MD1(step2, MDpath+str)\n",
    "    edit_workbook_MD1(MDpath+str)"
   ]
  },
  {
   "cell_type": "code",
   "execution_count": 201,
   "metadata": {},
   "outputs": [
    {
     "data": {
      "text/plain": [
       "['Development - April 2021',\n",
       " 'Global Climate Finance - April 2021',\n",
       " 'Operations - April 2021',\n",
       " 'Strategic Engagement and Analysis Group - April 2021',\n",
       " 'China - April 2021',\n",
       " 'Carbon-Free Buildings - April 2021',\n",
       " 'India - April 2021',\n",
       " 'Carbon-Free Electricity - April 2021',\n",
       " 'Carbon-Free Mobility - April 2021',\n",
       " 'WattTime - April 2021',\n",
       " 'Industry - April 2021',\n",
       " 'Communications - April 2021',\n",
       " 'Urban Transformation - April 2021',\n",
       " 'Breakthrough Technology - April 2021',\n",
       " 'Climate Aligned Industries - April 2021',\n",
       " 'Climate Intelligence - April 2021',\n",
       " 'US - April 2021',\n",
       " 'CFAN - April 2021',\n",
       " 'Cross-Program Impact Acceleration - April 2021',\n",
       " 'Canary Media Program - April 2021',\n",
       " 'Developing Economies - April 2021']"
      ]
     },
     "execution_count": 201,
     "metadata": {},
     "output_type": "execute_result"
    }
   ],
   "source": [
    "CoverNames"
   ]
  },
  {
   "cell_type": "code",
   "execution_count": 202,
   "metadata": {},
   "outputs": [],
   "source": [
    "#!pip install openpyxl==3.0.7"
   ]
  },
  {
   "cell_type": "code",
   "execution_count": 203,
   "metadata": {},
   "outputs": [],
   "source": [
    "format_multi_pivot_MD1(Developing_Economies_Rollup, '\\\\Developing Economies - '+timestampMD+' - MD Package.xlsx')\n",
    "format_multi_pivot_MD1(Climate_Aligned_Industries, '\\\\Climate Aligned Industries - '+timestampMD+' - MD Package.xlsx')\n",
    "format_multi_pivot_MD1(India, '\\\\India - '+timestampMD+' - MD Package.xlsx')\n",
    "format_multi_pivot_MD1(Operations, '\\\\Operations - '+timestampMD+' - MD Package.xlsx')\n",
    "#format_multi_pivot_MD1(Development, '\\\\Development - '+timestampMD+' - MD Package.xlsx')\n",
    "#format_multi_pivot_MD1(Communications, '\\\\Communications - '+timestampMD+' - MD Package.xlsx')\n",
    "format_multi_pivot_MD1(China_Rollup, '\\\\China - '+timestampMD+' - MD Package.xlsx')\n",
    "format_multi_pivot_MD1(Breakthrough_Technology, '\\\\Breakthrough Technology - '+timestampMD+' - MD Package.xlsx')\n",
    "format_multi_pivot_MD1(CarbonFree_Mobility, '\\\\Carbon-Free Mobility - '+timestampMD+' - MD Package.xlsx')\n",
    "format_multi_pivot_MD1(CarbonFree_Electricty, '\\\\Carbon-Free Electricity - '+timestampMD+' - MD Package.xlsx')\n",
    "format_multi_pivot_MD1(Strategic_Engagement_and_Analysis_Group, '\\\\Strategic Engagement and Analysis Group - '+timestampMD+' - MD Package.xlsx')\n",
    "format_multi_pivot_MD1(CarbonFreeBuildings_Rollup, '\\\\Carbon-Free Buildings - '+timestampMD+' - MD Package.xlsx')\n",
    "format_multi_pivot_MD1(Urban_Transformation, '\\\\Urban Transformation - '+timestampMD+' - MD Package.xlsx')\n",
    "format_multi_pivot_MD1(Climate_Intelligence, '\\\\Climate Intelligence - '+timestampMD+' - MD Package.xlsx')\n",
    "format_multi_pivot_MD1(Industry, '\\\\Industry - '+timestampMD+' - MD Package.xlsx')\n",
    "format_multi_pivot_MD1(US, '\\\\US - '+timestampMD+' - MD Package.xlsx')\n",
    "format_multi_pivot_MD1(WattTime, '\\\\WattTime - '+timestampMD+' - MD Package.xlsx')\n",
    "format_multi_pivot_MD1(Global_Climate_Finance, '\\\\Global Climate Finance - '+timestampMD+' - MD Package.xlsx')"
   ]
  },
  {
   "cell_type": "code",
   "execution_count": 204,
   "metadata": {},
   "outputs": [],
   "source": [
    "create_data_GrantZeroBalance(ChinaGrantNOEXP,'\\\\China - '+timestampMD+' - MD Package.xlsx')\n",
    "create_data_GrantZeroBalance(CFEGrantNOEXP,'\\\\Carbon-Free Electricity - '+timestampMD+' - MD Package.xlsx')\n",
    "create_data_GrantZeroBalance(UTGrantNOEXP,'\\\\Urban Transformation - '+timestampMD+' - MD Package.xlsx')\n",
    "create_data_GrantZeroBalance(CAIGrantNOEXP,'\\\\Climate Aligned Industries - '+timestampMD+' - MD Package.xlsx')\n",
    "create_data_GrantZeroBalance(CFRRollingGrantNOEXP,'\\\\Carbon-Free Buildings - '+timestampMD+' - MD Package.xlsx')\n",
    "create_data_GrantZeroBalance(BTGrantNOEXP,'\\\\Breakthrough Technology - '+timestampMD+' - MD Package.xlsx')\n",
    "create_data_GrantZeroBalance(CFMGrantNOEXP,'\\\\Carbon-Free Mobility - '+timestampMD+' - MD Package.xlsx')\n",
    "create_data_GrantZeroBalance(IndiaGrantNOEXP,'\\\\India - '+timestampMD+' - MD Package.xlsx')\n",
    "create_data_GrantZeroBalance(GCFGrantNOEXP,'\\\\Global Climate Finance - '+timestampMD+' - MD Package.xlsx')\n",
    "create_data_GrantZeroBalance(SEAGrantNOEXP,'\\\\Strategic Engagement and Analysis Group - '+timestampMD+' - MD Package.xlsx')\n",
    "create_data_GrantZeroBalance(WattTimeGrantNOEXP,'\\\\WattTime - '+timestampMD+' - MD Package.xlsx')\n",
    "create_data_GrantZeroBalance(USGrantNOEXP,'\\\\US - '+timestampMD+' - MD Package.xlsx')\n",
    "create_data_GrantZeroBalance(CIGrantNOEXP,'\\\\Climate Intelligence - '+timestampMD+' - MD Package.xlsx')\n",
    "create_data_GrantZeroBalance(DEGrantNOEXP,'\\\\Developing Economies - '+timestampMD+' - MD Package.xlsx')\n"
   ]
  },
  {
   "cell_type": "markdown",
   "metadata": {},
   "source": [
    "# Create Multi Lat Tab"
   ]
  },
  {
   "cell_type": "code",
   "execution_count": 205,
   "metadata": {},
   "outputs": [],
   "source": [
    "dfFFSDataZeros = dfFFSDataZeros[['Program','Initiative','Project','Contract?','Project Type', 'Contract Start Date', 'Contract End Date','Invoice Type', 'Invoicing Notes', 'Current Month Action', 'Revenue Recognition Notes', 'Contract Amount', 'Total Revenue Recognized', 'Reimbursables NTE', 'Reimbursables Actual', 'Remaining Revenue']]\n",
    "\n",
    "\n",
    "\n",
    "ChinaFFSNOREV = dfFFSDataZeros[dfFFSDataZeros[\"Program\"]==\"China\"]\n",
    "CFEFFSNOREV = dfFFSDataZeros[dfFFSDataZeros[\"Program\"]==\"Carbon-Free Electricity\"]\n",
    "UTFFSNOREV = dfFFSDataZeros[dfFFSDataZeros[\"Program\"]==\"Urban Transformation\"]\n",
    "CAIFFSNOREV = dfFFSDataZeros[dfFFSDataZeros[\"Program\"]==\"Climate Aligned Industries\"]\n",
    "CFBFFSNOREV = dfFFSDataZeros[dfFFSDataZeros[\"Program\"]==\"Carbon-Free Buildings\"]\n",
    "BTFFSNOREV = dfFFSDataZeros[dfFFSDataZeros[\"Program\"]==\"Breakthrough Technology\"]\n",
    "CFMFFSNOREV = dfFFSDataZeros[dfFFSDataZeros[\"Program\"]==\"Carbon-Free Mobility\"]\n",
    "ISLANDSFFSNOREV = dfFFSDataZeros[dfFFSDataZeros[\"Program\"]==\"Islands\"]\n",
    "CIFFSNOREV = dfFFSDataZeros[dfFFSDataZeros[\"Program\"]==\"Climate Intelligence\"]\n"
   ]
  },
  {
   "cell_type": "code",
   "execution_count": 206,
   "metadata": {},
   "outputs": [],
   "source": [
    "from openpyxl.utils.dataframe import dataframe_to_rows\n",
    "\n",
    "def create_data_FFSZeroBalance(Group, str):\n",
    "    table = Group[['Initiative','Project','Project Type','Contract?','Contract Start Date', 'Contract End Date','Invoice Type',  'Invoicing Notes', 'Current Month Action', 'Revenue Recognition Notes', 'Contract Amount', 'Total Revenue Recognized', 'Reimbursables NTE', 'Reimbursables Actual', 'Remaining Revenue']]\n",
    "    book = load_workbook(MDpath+str)\n",
    "    sheet = book[\"ER & ML Govt Rev\"]\n",
    "    data = table\n",
    "    rows = dataframe_to_rows(table, index=False, header=True)\n",
    "    for r_idx, row in enumerate(rows, sheet.max_row+2):\n",
    "        for c_idx, value in enumerate(row, 1):\n",
    "            sheet.cell(row=r_idx, column=c_idx, value=value)\n",
    "            sheet.cell(column=c_idx, row=r_idx).font = Font(bold=True)\n",
    "            sheet.cell(column=c_idx, row=r_idx).number_format = '\"$\"#,##0;[Red](\"$\"#,##0)'\n",
    "    book.save(MDpath+str)"
   ]
  },
  {
   "cell_type": "code",
   "execution_count": 207,
   "metadata": {},
   "outputs": [],
   "source": [
    "def create_MD_pivot2(Group):\n",
    "    Month_order = ['Jul 2018', 'Aug 2018', 'Sep 2018', 'Oct 2018', 'Nov 2018', 'Dec 2018', 'Jan 2019', 'Feb 2019', 'Mar 2019', 'Apr 2019', 'May 2019', 'Jun 2019', 'July 2019', 'Aug 2019', 'Sep 2019', 'Oct 2019', 'Nov 2019', 'Dec 2019', 'Jan 2020', 'Feb 2020', 'Mar 2020', 'Apr 2020', 'May 2020', 'Jun 2020', 'Jul 2020', 'Aug 2020', 'Sep 2020', 'Oct 2020', 'Nov 2020', 'Dec 2020', 'Jan 2021', 'Feb 2021', 'Mar 2021', 'Apr 2021', 'May 2021', 'Jun 2021']\n",
    "    table = pd.pivot_table(Group, index = ['Initiative','Project','Project Type', 'Contract?', 'Contract Start Date', 'Contract End Date','Invoice Type', 'Invoicing Notes', 'Current Month Action', 'Revenue Recognition Notes', 'Contract Amount', 'Total Revenue Recognized', 'Reimbursables NTE', 'Reimbursables Actual', 'Remaining Revenue'], values = 'Amount', columns = 'Period', aggfunc=np.sum)\n",
    "    table2 = table.reindex(Month_order, axis=1)\n",
    "    table2['FY21 Total'] = table2.iloc[:,-12:].sum(axis=1)\n",
    "    table2['FY20-FY21 Total'] = table2.iloc[:,-36:].sum(axis=1)\n",
    "    table2 = table2[table2['FY20-FY21 Total']!=0]\n",
    "    return table2"
   ]
  },
  {
   "cell_type": "code",
   "execution_count": 208,
   "metadata": {},
   "outputs": [],
   "source": [
    "def add_subtotal_MD2(PivotedGroup):\n",
    "    out = pd.concat([d.append(d.sum().rename((k, '','','','','','','','','','','','','','Subtotal'))) for k, d in PivotedGroup.groupby('Initiative')]).append((PivotedGroup.sum()).rename(('Grand', '','','','','','','','','','','','','', 'Total')))\n",
    "    out.index = pd.MultiIndex.from_tuples(out.index)\n",
    "    return out"
   ]
  },
  {
   "cell_type": "code",
   "execution_count": 209,
   "metadata": {},
   "outputs": [],
   "source": [
    "def to_excel_MD2(df, file):\n",
    "    writer = pd.ExcelWriter(file, engine='openpyxl')\n",
    "    if os.path.exists(file):\n",
    "        book = openpyxl.load_workbook(file)\n",
    "        writer.book = book\n",
    "   \n",
    "    df.to_excel(writer, sheet_name=\"ER & ML Govt Rev\", startrow = 1)\n",
    "    writer.save()\n",
    "    writer.close()    "
   ]
  },
  {
   "cell_type": "code",
   "execution_count": 210,
   "metadata": {},
   "outputs": [],
   "source": [
    "def edit_workbook_MD2(file):\n",
    "    book = load_workbook(file)\n",
    "    sheet = book[\"ER & ML Govt Rev\"] #active means last opened sheet\n",
    "    rd = sheet.row_dimensions[1]\n",
    "    rd.height = 25\n",
    "    sheet['A2']= \"Initiative\"\n",
    "    sheet['B2']= \"Project\"\n",
    "    sheet['C2']= \"Project Type\"\n",
    "    sheet['D2']= \"Contract?\"\n",
    "    sheet['E2']= \"Contract Start Date\"\n",
    "    sheet['F2']= \"Contract End Date\"\n",
    "    sheet['G2']= \"Invoice Type\"\n",
    "    sheet['H2']= \"Invoicing Notes\"\n",
    "    sheet['I2']= \"Current Month Action\"\n",
    "    sheet['J2']= \"Revenue Recognition Notes\"\n",
    "    sheet['K2']= \"Contract Amount\"\n",
    "    sheet['L2']= \"Total Revenue Recognized (INCLUDES DEFERRED REVENUE)\"\n",
    "    sheet['M2']= \"Reimbursables NTE\"\n",
    "    sheet['N2']= \"Reimbursables Actual\"\n",
    "    sheet['O2']= \"Remaining Revenue\"\n",
    "    sheet['A2'].font = Font(bold=True)\n",
    "    sheet['B2'].font = Font(bold=True)\n",
    "#    fontStyle = Font(size = \"20\")\n",
    "    sheet.merge_cells('A1:AZ1')\n",
    "    top_left_cell = sheet['A1']\n",
    "    top_right_cell = sheet['AZ1']\n",
    "    top_left_cell.value = \"FY21 Earned, Government, and Multilateral Grant Revenue\"\n",
    "    thin = Side(border_style=\"thin\", color=\"000000\")\n",
    "    double = Side(border_style=\"double\", color=\"000000\")\n",
    "    top_left_cell.border = Border(top=thin, left=thin, right=thin, bottom=thin)\n",
    "    top_left_cell.fill = PatternFill(\"solid\", fgColor=\"003366\")\n",
    "#    top_left_cell.fill = fill = GradientFill(stop=(\"000080\", \"FFFFFF\"))\n",
    "    top_left_cell.font  = Font(color=\"FFFFFF\", size = \"26\")\n",
    "#    top_left_cell.font = fontStyle\n",
    "    top_left_cell.alignment = Alignment(horizontal=\"center\", vertical=\"center\")\n",
    "    top_right_cell.border = Border(top=thin, left=thin, right=thin, bottom=thin)\n",
    "    sheet.column_dimensions['A'].width = 25\n",
    "    sheet.column_dimensions['B'].width = 35\n",
    "    sheet.column_dimensions['C'].width = 10\n",
    "    sheet.column_dimensions['D'].width = 10\n",
    "    sheet.column_dimensions['E'].width = 15\n",
    "    sheet.column_dimensions['F'].width = 15\n",
    "    sheet.column_dimensions['G'].width = 15\n",
    "    sheet.column_dimensions['H'].width = 15\n",
    "    sheet.column_dimensions['I'].width = 15\n",
    "    sheet.column_dimensions['J'].width = 15\n",
    "    sheet.column_dimensions['K'].width = 15\n",
    "    sheet.column_dimensions['L'].width = 15\n",
    "    sheet.column_dimensions['M'].width = 15\n",
    "    sheet.column_dimensions['N'].width = 15\n",
    "    sheet.column_dimensions['O'].width = 15\n",
    "    sheet.column_dimensions['E'].hidden = True\n",
    "    sheet.column_dimensions['I'].hidden = True\n",
    "    sheet.column_dimensions['M'].hidden = True\n",
    "    sheet.column_dimensions['N'].hidden = True\n",
    "    sheet.column_dimensions['J'].hidden = True\n",
    "    sheet.column_dimensions['BA'].hidden = True\n",
    "    num_rows = sheet.max_row\n",
    "    curr_row = 2\n",
    "    for col in range(1, 16):\n",
    "        for row in range(3, num_rows):\n",
    "            sheet.cell(column=col, row=row).alignment = Alignment(horizontal = 'left', vertical='top')\n",
    "            sheet.cell(column=col, row=row).fill = blueFill\n",
    "    for col in range(10, 53):\n",
    "        for row in range(2, num_rows+1):\n",
    "            sheet.cell(column=col, row=row).number_format = '\"$\"#,##0;[Red](\"$\"#,##0)'\n",
    "    for i in range(1, sheet.max_row + 1):\n",
    "        if sheet.cell(row=i, column=15).value == \"Subtotal\":\n",
    "            for j in range(2,53):\n",
    "                sheet.cell(column=j, row=i).font = Font(bold=True)\n",
    "                sheet.cell(column=j, row=i).border = Border(bottom=Side(style='thin'))     \n",
    "    for i in range(1, sheet.max_row + 1):\n",
    "        if sheet.cell(row=i, column=1).value == \"Grand\":\n",
    "            for j in range(1,53):\n",
    "                sheet.cell(column=j, row=i).font = Font(bold=True)\n",
    "                sheet.cell(column=j, row=i).border = Border(bottom=Side(style=\"double\"))   \n",
    "    for i in range(1, sheet.max_row + 1):\n",
    "        if sheet.cell(row=i, column=1).value == \"Initiative\":\n",
    "            for j in range(1,53):\n",
    "                sheet.cell(column=j, row=i).font = Font(bold=True)\n",
    "                sheet.cell(column=j, row=i).border = Border(top = thin, bottom = thin)   \n",
    "                sheet.cell(column=j, row=i).fill = greyFill\n",
    "    for col in range(53, 54):\n",
    "        for row in range(2, num_rows+1):\n",
    "            sheet.cell(column=col, row=row).border = Border(left=thin)\n",
    "#    sheet.auto_filter.ref = sheet.dimensions\n",
    "    FullRange = \"A2:\" + get_column_letter(sheet.max_column) \\\n",
    "    + str(sheet.max_row)\n",
    "    sheet.auto_filter.ref = FullRange\n",
    "    sheet.sheet_view.zoomScale = 70\n",
    "    sheet.freeze_panes = \"P3\"\n",
    "    sheet.column_dimensions.group(\"P\",\"AM\",hidden=True)\n",
    "    book.save(file)"
   ]
  },
  {
   "cell_type": "code",
   "execution_count": 211,
   "metadata": {},
   "outputs": [],
   "source": [
    "def format_multi_pivot_MD2(Group, str):\n",
    "    step1 = create_MD_pivot2(Group)\n",
    "    step2 = add_subtotal_MD2(step1)\n",
    "    to_excel_MD2(step2, MDpath+str)\n",
    "    edit_workbook_MD2(MDpath+str)"
   ]
  },
  {
   "cell_type": "code",
   "execution_count": 212,
   "metadata": {},
   "outputs": [],
   "source": [
    "format_multi_pivot_MD2(Developing_Economies_RollupFFS, '\\\\Developing Economies - '+timestampMD+' - MD Package.xlsx')\n",
    "format_multi_pivot_MD2(ClimateAligned_IndustriesFFS, '\\\\Climate Aligned Industries - '+timestampMD+' - MD Package.xlsx')\n",
    "format_multi_pivot_MD2(IndiaFFS, '\\\\India - '+timestampMD+' - MD Package.xlsx')\n",
    "format_multi_pivot_MD2(OperationsFFS, '\\\\Operations - '+timestampMD+' - MD Package.xlsx')\n",
    "format_multi_pivot_MD2(DevelopmentFFS, '\\\\Development - '+timestampMD+' - MD Package.xlsx')\n",
    "format_multi_pivot_MD2(CommunicationsFFS, '\\\\Communications - '+timestampMD+' - MD Package.xlsx')\n",
    "format_multi_pivot_MD2(ChinaFFS, '\\\\China - '+timestampMD+' - MD Package.xlsx')\n",
    "format_multi_pivot_MD2(Breakthrough_Technology_FFS, '\\\\Breakthrough Technology - '+timestampMD+' - MD Package.xlsx')\n",
    "format_multi_pivot_MD2(CarbonFree_MobilityFFS, '\\\\Carbon-Free Mobility - '+timestampMD+' - MD Package.xlsx')\n",
    "format_multi_pivot_MD2(Carbon_Free_ElectricityFFS, '\\\\Carbon-Free Electricity - '+timestampMD+' - MD Package.xlsx')\n",
    "format_multi_pivot_MD2(Strategic_Engagement_and_Analysis_GroupFFS, '\\\\Strategic Engagement and Analysis Group - '+timestampMD+' - MD Package.xlsx')\n",
    "format_multi_pivot_MD2(CarbonFreeBuildings_RollupFFS, '\\\\Carbon-Free Buildings - '+timestampMD+' - MD Package.xlsx')\n",
    "format_multi_pivot_MD2(UrbanTrans_FFS, '\\\\Urban Transformation - '+timestampMD+' - MD Package.xlsx')\n",
    "format_multi_pivot_MD2(ClimateIntelFFS, '\\\\Climate Intelligence - '+timestampMD+' - MD Package.xlsx')\n",
    "format_multi_pivot_MD2(IndustryFFS, '\\\\Industry - '+timestampMD+' - MD Package.xlsx')\n",
    "format_multi_pivot_MD2(GlobalClimate_FinanceFFS, '\\\\Global Climate Finance - '+timestampMD+' - MD Package.xlsx')\n",
    "format_multi_pivot_MD2(Watttime_FFS, '\\\\WattTime - '+timestampMD+' - MD Package.xlsx')\n",
    "#format_multi_pivot_MD2(USFFS, '\\\\US - '+timestampMD+\".xlsx\")"
   ]
  },
  {
   "cell_type": "code",
   "execution_count": 213,
   "metadata": {},
   "outputs": [],
   "source": [
    "create_data_FFSZeroBalance(CFEFFSNOREV,'\\\\Carbon-Free Electricity - '+timestampMD+' - MD Package.xlsx')\n",
    "create_data_FFSZeroBalance(ChinaFFSNOREV,'\\\\China - '+timestampMD+' - MD Package.xlsx')\n",
    "create_data_FFSZeroBalance(UTFFSNOREV,'\\\\Urban Transformation - '+timestampMD+' - MD Package.xlsx')\n",
    "create_data_FFSZeroBalance(CAIFFSNOREV,'\\\\Climate Aligned Industries - '+timestampMD+' - MD Package.xlsx')\n",
    "create_data_FFSZeroBalance(CFBFFSNOREV,'\\\\Carbon-Free Buildings - '+timestampMD+' - MD Package.xlsx')\n",
    "create_data_FFSZeroBalance(BTFFSNOREV,'\\\\Breakthrough Technology - '+timestampMD+' - MD Package.xlsx')\n",
    "create_data_FFSZeroBalance(CFMFFSNOREV,'\\\\Carbon-Free Mobility - '+timestampMD+' - MD Package.xlsx')\n",
    "create_data_FFSZeroBalance(CIFFSNOREV,'\\\\Climate Intelligence - '+timestampMD+' - MD Package.xlsx')\n",
    "create_data_FFSZeroBalance(ISLANDSFFSNOREV,'\\\\Developing Economies - '+timestampMD+' - MD Package.xlsx')\n"
   ]
  },
  {
   "cell_type": "code",
   "execution_count": null,
   "metadata": {},
   "outputs": [],
   "source": []
  },
  {
   "cell_type": "markdown",
   "metadata": {},
   "source": [
    "## Create Total Expenses by Initiative and Project"
   ]
  },
  {
   "cell_type": "code",
   "execution_count": 214,
   "metadata": {},
   "outputs": [],
   "source": [
    "def create_MD_pivot7(Group):\n",
    "    Month_order = ['Jul 2020', 'Aug 2020', 'Sep 2020', 'Oct 2020', 'Nov 2020', 'Dec 2020', 'Jan 2021', 'Feb 2021', 'Mar 2021', 'Apr 2021', 'May 2021', 'Jun 2021']\n",
    "    table = pd.pivot_table(Group, index = ['Initiative','Project','Rollup Account'], values = 'Amount', columns = 'Period', aggfunc=np.sum)\n",
    "    table2 = table.reindex(Month_order, axis=1)\n",
    "    table2['Total'] = table2.iloc[:,-12:].sum(axis=1)\n",
    "    return table2"
   ]
  },
  {
   "cell_type": "code",
   "execution_count": 215,
   "metadata": {},
   "outputs": [],
   "source": [
    "def add_subtotal_MD7(PivotedGroup):\n",
    "    out = pd.concat([d.append(d.sum().rename((k,'', 'Subtotal'))) for k, d in PivotedGroup.groupby('Initiative')]).append((PivotedGroup.sum()).rename(('Grand','', 'Total')))\n",
    "    out.index = pd.MultiIndex.from_tuples(out.index)\n",
    "    return out"
   ]
  },
  {
   "cell_type": "code",
   "execution_count": 216,
   "metadata": {},
   "outputs": [],
   "source": [
    "def to_excel_MD7(df, file):\n",
    "    writer = pd.ExcelWriter(file, engine='openpyxl')\n",
    "    if os.path.exists(file):\n",
    "        book = openpyxl.load_workbook(file)\n",
    "        writer.book = book\n",
    "\n",
    "    df.to_excel(writer, sheet_name=\"Expenses by Project\", startrow = 1)\n",
    "    writer.save()\n",
    "    writer.close()    "
   ]
  },
  {
   "cell_type": "code",
   "execution_count": 217,
   "metadata": {},
   "outputs": [],
   "source": [
    "def edit_workbook_MD7(file):\n",
    "    book = load_workbook(file)\n",
    "    sheet = book[\"Expenses by Project\"] #active means last opened sheet\n",
    "    rd = sheet.row_dimensions[1]\n",
    "    rd.height = 25\n",
    "    sheet['A2']= \"Initiative\"\n",
    "    sheet['B2']= \"Project\"\n",
    "    sheet['C2']= \"Account Category\"\n",
    "    sheet['A2'].font = Font(bold=True)\n",
    "    sheet['B2'].font = Font(bold=True)\n",
    "    sheet['C2'].font = Font(bold=True)\n",
    "#    fontStyle = Font(size = \"20\")\n",
    "    sheet.merge_cells('A1:P1')\n",
    "    top_left_cell = sheet['A1']\n",
    "    top_right_cell = sheet['P1']\n",
    "    top_left_cell.value = \"FY21 Total Program Expenses by Initiative and Project\"\n",
    "    thin = Side(border_style=\"thin\", color=\"000000\")\n",
    "    double = Side(border_style=\"double\", color=\"000000\")\n",
    "    top_left_cell.border = Border(top=thin, left=thin, right=thin, bottom=thin)\n",
    "    top_left_cell.fill = PatternFill(\"solid\", fgColor=\"003366\")\n",
    "#    top_left_cell.fill = fill = GradientFill(stop=(\"000080\", \"FFFFFF\"))\n",
    "    top_left_cell.font  = Font(color=\"FFFFFF\", size = \"26\")\n",
    "#    top_left_cell.font = fontStyle\n",
    "    top_left_cell.alignment = Alignment(horizontal=\"center\", vertical=\"center\")\n",
    "    top_right_cell.border = Border(top=thin, left=thin, right=thin, bottom=thin)\n",
    "    sheet.column_dimensions['A'].width = 25\n",
    "    sheet.column_dimensions['B'].width = 25\n",
    "    sheet.column_dimensions['C'].width = 30\n",
    "    sheet.column_dimensions['D'].width = 15\n",
    "    sheet.column_dimensions['E'].width = 15\n",
    "    sheet.column_dimensions['F'].width = 15\n",
    "    sheet.column_dimensions['G'].width = 15\n",
    "    sheet.column_dimensions['H'].width = 15\n",
    "    sheet.column_dimensions['I'].width = 15\n",
    "    sheet.column_dimensions['J'].width = 15\n",
    "    sheet.column_dimensions['K'].width = 15\n",
    "    sheet.column_dimensions['L'].width = 15\n",
    "    sheet.column_dimensions['M'].width = 15\n",
    "    sheet.column_dimensions['N'].width = 15\n",
    "    sheet.column_dimensions['O'].width = 15\n",
    "    sheet.column_dimensions['P'].width = 15\n",
    "#    sheet.column_dimensions['D'].hidden = True\n",
    "    num_rows = sheet.max_row\n",
    "    curr_row = 2\n",
    "    for col in range(4, 17):\n",
    "        for row in range(2, num_rows+1):\n",
    "            sheet.cell(column=col, row=row).number_format = '\"$\"#,##0;[Red](\"$\"#,##0)'\n",
    "    for col in range(1, 4):\n",
    "        for row in range(3, num_rows):\n",
    "            sheet.cell(column=col, row=row).alignment = Alignment(horizontal = 'left', vertical='top')\n",
    "            sheet.cell(column=col, row=row).fill = blueFill\n",
    "    for i in range(1, sheet.max_row + 1):\n",
    "        if sheet.cell(row=i, column=3).value == \"Subtotal\":\n",
    "            for j in range(3,17):\n",
    "                sheet.cell(column=j, row=i).font = Font(bold=True)\n",
    "                sheet.cell(column=j, row=i).border = Border(bottom=Side(style='thin'))     \n",
    "    for i in range(1, sheet.max_row + 1):\n",
    "        if sheet.cell(row=i, column=1).value == \"Grand\":\n",
    "            for j in range(1,17):\n",
    "                sheet.cell(column=j, row=i).font = Font(bold=True)\n",
    "                sheet.cell(column=j, row=i).border = Border(bottom=Side(style=\"double\"))   \n",
    "    for i in range(1, sheet.max_row + 1):\n",
    "        if sheet.cell(row=i, column=1).value == \"Initiative\":\n",
    "            for j in range(1,17):\n",
    "                sheet.cell(column=j, row=i).font = Font(bold=True)\n",
    "                sheet.cell(column=j, row=i).border = Border(top = thin, bottom = thin)   \n",
    "                sheet.cell(column=j, row=i).fill = greyFill\n",
    "    for col in range(17, 18):\n",
    "        for row in range(2, num_rows+1):\n",
    "            sheet.cell(column=col, row=row).border = Border(left=thin)\n",
    "#    sheet.auto_filter.ref = sheet.dimensions\n",
    "    sheet.sheet_view.zoomScale = 70\n",
    "    sheet.freeze_panes = \"D3\"\n",
    "    sheet.sheet_state = 'hidden'\n",
    "    book.save(file)"
   ]
  },
  {
   "cell_type": "code",
   "execution_count": 218,
   "metadata": {},
   "outputs": [],
   "source": [
    "def format_multi_pivot_MD7(Group, str):\n",
    "    step1 = create_MD_pivot7(Group)\n",
    "    step2 = add_subtotal_MD7(step1)\n",
    "    to_excel_MD7(step2, MDpath+str)\n",
    "    edit_workbook_MD7(MDpath+str)"
   ]
  },
  {
   "cell_type": "code",
   "execution_count": 219,
   "metadata": {},
   "outputs": [],
   "source": [
    "format_multi_pivot_MD7(Developing_Economies_RollupExp, '\\\\Developing Economies - '+timestampMD+' - MD Package.xlsx')\n",
    "format_multi_pivot_MD7(ClimateAligned_IndustriesExp, '\\\\Climate Aligned Industries - '+timestampMD+' - MD Package.xlsx')\n",
    "format_multi_pivot_MD7(IndiaExp, '\\\\India - '+timestampMD+' - MD Package.xlsx')\n",
    "format_multi_pivot_MD7(OperationsExp, '\\\\Operations - '+timestampMD+' - MD Package.xlsx')\n",
    "format_multi_pivot_MD7(DevelopmentExp, '\\\\Development - '+timestampMD+' - MD Package.xlsx')\n",
    "format_multi_pivot_MD7(CommunicationsExp, '\\\\Communications - '+timestampMD+' - MD Package.xlsx')\n",
    "format_multi_pivot_MD7(ChinaExp, '\\\\China - '+timestampMD+' - MD Package.xlsx')\n",
    "format_multi_pivot_MD7(Breakthrough_Technology_Exp, '\\\\Breakthrough Technology - '+timestampMD+' - MD Package.xlsx')\n",
    "format_multi_pivot_MD7(CarbonFree_MobilityExp, '\\\\Carbon-Free Mobility - '+timestampMD+' - MD Package.xlsx')\n",
    "format_multi_pivot_MD7(Carbon_Free_ElectricityExp, '\\\\Carbon-Free Electricity - '+timestampMD+' - MD Package.xlsx')\n",
    "format_multi_pivot_MD7(Strategic_Engagement_and_Analysis_GroupExp, '\\\\Strategic Engagement and Analysis Group - '+timestampMD+' - MD Package.xlsx')\n",
    "format_multi_pivot_MD7(CarbonFreeBuildings_RollupExp, '\\\\Carbon-Free Buildings - '+timestampMD+' - MD Package.xlsx')\n",
    "format_multi_pivot_MD7(UrbanTrans_Exp, '\\\\Urban Transformation - '+timestampMD+' - MD Package.xlsx')\n",
    "format_multi_pivot_MD7(ClimateIntelExp, '\\\\Climate Intelligence - '+timestampMD+' - MD Package.xlsx')\n",
    "format_multi_pivot_MD7(IndustryExp, '\\\\Industry - '+timestampMD+' - MD Package.xlsx')\n",
    "format_multi_pivot_MD7(USExp, '\\\\US - '+timestampMD+' - MD Package.xlsx')\n",
    "format_multi_pivot_MD7(GlobalClimate_FinanceExp, '\\\\Global Climate Finance - '+timestampMD+' - MD Package.xlsx')\n",
    "format_multi_pivot_MD7(Watttime_Exp, '\\\\WattTime - '+timestampMD+' - MD Package.xlsx')\n",
    "#format_multi_pivot_MD3(BuildingElectrificationExp, '\\\\Building Electrification - '+timestampMD+' - MD Package.xlsx')"
   ]
  },
  {
   "cell_type": "code",
   "execution_count": null,
   "metadata": {},
   "outputs": [],
   "source": []
  },
  {
   "cell_type": "code",
   "execution_count": null,
   "metadata": {},
   "outputs": [],
   "source": []
  },
  {
   "cell_type": "code",
   "execution_count": null,
   "metadata": {},
   "outputs": [],
   "source": []
  },
  {
   "cell_type": "markdown",
   "metadata": {},
   "source": [
    "# Create All Expenses Report by Initiative and Account"
   ]
  },
  {
   "cell_type": "code",
   "execution_count": 220,
   "metadata": {},
   "outputs": [],
   "source": [
    "def create_MD_pivot3(Group):\n",
    "    Month_order = ['Jul 2020', 'Aug 2020', 'Sep 2020', 'Oct 2020', 'Nov 2020', 'Dec 2020', 'Jan 2021', 'Feb 2021', 'Mar 2021', 'Apr 2021', 'May 2021', 'Jun 2021']\n",
    "    table = pd.pivot_table(Group, index = ['Initiative','Rollup Account'], values = 'Amount', columns = 'Period', aggfunc=np.sum)\n",
    "    table2 = table.reindex(Month_order, axis=1)\n",
    "    table2['Total'] = table2.iloc[:,-12:].sum(axis=1)\n",
    "    return table2"
   ]
  },
  {
   "cell_type": "code",
   "execution_count": 221,
   "metadata": {},
   "outputs": [],
   "source": [
    "def add_subtotal_MD3(PivotedGroup):\n",
    "    out = pd.concat([d.append(d.sum().rename((k, 'Subtotal'))) for k, d in PivotedGroup.groupby('Initiative')]).append((PivotedGroup.sum()).rename(('Grand', 'Total')))\n",
    "    out.index = pd.MultiIndex.from_tuples(out.index)\n",
    "    return out"
   ]
  },
  {
   "cell_type": "code",
   "execution_count": 222,
   "metadata": {},
   "outputs": [],
   "source": [
    "def to_excel_MD3(df, file):\n",
    "    writer = pd.ExcelWriter(file, engine='openpyxl')\n",
    "    if os.path.exists(file):\n",
    "        book = openpyxl.load_workbook(file)\n",
    "        writer.book = book\n",
    "\n",
    "    df.to_excel(writer, sheet_name=\"Total Expenses\", startrow = 1)\n",
    "    writer.save()\n",
    "    writer.close()    "
   ]
  },
  {
   "cell_type": "code",
   "execution_count": 223,
   "metadata": {},
   "outputs": [],
   "source": [
    "def edit_workbook_MD3(file):\n",
    "    book = load_workbook(file)\n",
    "    sheet = book[\"Total Expenses\"] #active means last opened sheet\n",
    "    rd = sheet.row_dimensions[1]\n",
    "    rd.height = 25\n",
    "    sheet['A2']= \"Initiative\"\n",
    "    sheet['B2']= \"Account Category\"\n",
    "    sheet['A2'].font = Font(bold=True)\n",
    "    sheet['B2'].font = Font(bold=True)\n",
    "#    fontStyle = Font(size = \"20\")\n",
    "    sheet.merge_cells('A1:O1')\n",
    "    top_left_cell = sheet['A1']\n",
    "    top_right_cell = sheet['O1']\n",
    "    top_left_cell.value = \"FY21 Total Program Expenses by Initiative and Account\"\n",
    "    thin = Side(border_style=\"thin\", color=\"000000\")\n",
    "    double = Side(border_style=\"double\", color=\"000000\")\n",
    "    top_left_cell.border = Border(top=thin, left=thin, right=thin, bottom=thin)\n",
    "    top_left_cell.fill = PatternFill(\"solid\", fgColor=\"003366\")\n",
    "#    top_left_cell.fill = fill = GradientFill(stop=(\"000080\", \"FFFFFF\"))\n",
    "    top_left_cell.font  = Font(color=\"FFFFFF\", size = \"26\")\n",
    "#    top_left_cell.font = fontStyle\n",
    "    top_left_cell.alignment = Alignment(horizontal=\"center\", vertical=\"center\")\n",
    "    top_right_cell.border = Border(top=thin, left=thin, right=thin, bottom=thin)\n",
    "    sheet.column_dimensions['A'].width = 25\n",
    "    sheet.column_dimensions['B'].width = 35\n",
    "    sheet.column_dimensions['C'].width = 15\n",
    "    sheet.column_dimensions['D'].width = 15\n",
    "    sheet.column_dimensions['E'].width = 15\n",
    "    sheet.column_dimensions['F'].width = 15\n",
    "    sheet.column_dimensions['G'].width = 15\n",
    "    sheet.column_dimensions['H'].width = 15\n",
    "    sheet.column_dimensions['I'].width = 15\n",
    "    sheet.column_dimensions['J'].width = 15\n",
    "    sheet.column_dimensions['K'].width = 15\n",
    "    sheet.column_dimensions['L'].width = 15\n",
    "    sheet.column_dimensions['M'].width = 15\n",
    "    sheet.column_dimensions['N'].width = 15\n",
    "    sheet.column_dimensions['O'].width = 15\n",
    "#    sheet.column_dimensions['D'].hidden = True\n",
    "    num_rows = sheet.max_row\n",
    "    curr_row = 2\n",
    "    for col in range(3, 16):\n",
    "        for row in range(2, num_rows+1):\n",
    "            sheet.cell(column=col, row=row).number_format = '\"$\"#,##0;[Red](\"$\"#,##0)'\n",
    "    for col in range(1, 3):\n",
    "        for row in range(3, num_rows):\n",
    "            sheet.cell(column=col, row=row).alignment = Alignment(horizontal = 'left', vertical='top')\n",
    "            sheet.cell(column=col, row=row).fill = blueFill\n",
    "    for i in range(1, sheet.max_row + 1):\n",
    "        if sheet.cell(row=i, column=2).value == \"Subtotal\":\n",
    "            for j in range(2,16):\n",
    "                sheet.cell(column=j, row=i).font = Font(bold=True)\n",
    "                sheet.cell(column=j, row=i).border = Border(bottom=Side(style='thin'))     \n",
    "    for i in range(1, sheet.max_row + 1):\n",
    "        if sheet.cell(row=i, column=1).value == \"Grand\":\n",
    "            for j in range(1,16):\n",
    "                sheet.cell(column=j, row=i).font = Font(bold=True)\n",
    "                sheet.cell(column=j, row=i).border = Border(bottom=Side(style=\"double\"))   \n",
    "    for i in range(1, sheet.max_row + 1):\n",
    "        if sheet.cell(row=i, column=1).value == \"Initiative\":\n",
    "            for j in range(1,16):\n",
    "                sheet.cell(column=j, row=i).font = Font(bold=True)\n",
    "                sheet.cell(column=j, row=i).border = Border(top = thin, bottom = thin)   \n",
    "                sheet.cell(column=j, row=i).fill = greyFill\n",
    "    for col in range(16, 17):\n",
    "        for row in range(2, num_rows+1):\n",
    "            sheet.cell(column=col, row=row).border = Border(left=thin)\n",
    "#    sheet.auto_filter.ref = sheet.dimensions\n",
    "    sheet.sheet_view.zoomScale = 70\n",
    "    sheet.freeze_panes = \"C3\"\n",
    "    book.save(file)"
   ]
  },
  {
   "cell_type": "code",
   "execution_count": 224,
   "metadata": {},
   "outputs": [],
   "source": [
    "def format_multi_pivot_MD3(Group, str):\n",
    "    step1 = create_MD_pivot3(Group)\n",
    "    step2 = add_subtotal_MD3(step1)\n",
    "    to_excel_MD3(step2, MDpath+str)\n",
    "    edit_workbook_MD3(MDpath+str)"
   ]
  },
  {
   "cell_type": "code",
   "execution_count": 225,
   "metadata": {},
   "outputs": [],
   "source": [
    "format_multi_pivot_MD3(Developing_Economies_RollupExp, '\\\\Developing Economies - '+timestampMD+' - MD Package.xlsx')\n",
    "format_multi_pivot_MD3(ClimateAligned_IndustriesExp, '\\\\Climate Aligned Industries - '+timestampMD+' - MD Package.xlsx')\n",
    "format_multi_pivot_MD3(IndiaExp, '\\\\India - '+timestampMD+' - MD Package.xlsx')\n",
    "format_multi_pivot_MD3(OperationsExp, '\\\\Operations - '+timestampMD+' - MD Package.xlsx')\n",
    "format_multi_pivot_MD3(DevelopmentExp, '\\\\Development - '+timestampMD+' - MD Package.xlsx')\n",
    "format_multi_pivot_MD3(CommunicationsExp, '\\\\Communications - '+timestampMD+' - MD Package.xlsx')\n",
    "format_multi_pivot_MD3(ChinaExp, '\\\\China - '+timestampMD+' - MD Package.xlsx')\n",
    "format_multi_pivot_MD3(Breakthrough_Technology_Exp, '\\\\Breakthrough Technology - '+timestampMD+' - MD Package.xlsx')\n",
    "format_multi_pivot_MD3(CarbonFree_MobilityExp, '\\\\Carbon-Free Mobility - '+timestampMD+' - MD Package.xlsx')\n",
    "format_multi_pivot_MD3(Carbon_Free_ElectricityExp, '\\\\Carbon-Free Electricity - '+timestampMD+' - MD Package.xlsx')\n",
    "format_multi_pivot_MD3(Strategic_Engagement_and_Analysis_GroupExp, '\\\\Strategic Engagement and Analysis Group - '+timestampMD+' - MD Package.xlsx')\n",
    "format_multi_pivot_MD3(CarbonFreeBuildings_RollupExp, '\\\\Carbon-Free Buildings - '+timestampMD+' - MD Package.xlsx')\n",
    "format_multi_pivot_MD3(UrbanTrans_Exp, '\\\\Urban Transformation - '+timestampMD+' - MD Package.xlsx')\n",
    "format_multi_pivot_MD3(ClimateIntelExp, '\\\\Climate Intelligence - '+timestampMD+' - MD Package.xlsx')\n",
    "format_multi_pivot_MD3(IndustryExp, '\\\\Industry - '+timestampMD+' - MD Package.xlsx')\n",
    "format_multi_pivot_MD3(USExp, '\\\\US - '+timestampMD+' - MD Package.xlsx')\n",
    "format_multi_pivot_MD3(GlobalClimate_FinanceExp, '\\\\Global Climate Finance - '+timestampMD+' - MD Package.xlsx')\n",
    "format_multi_pivot_MD3(Watttime_Exp, '\\\\WattTime - '+timestampMD+' - MD Package.xlsx')\n",
    "#format_multi_pivot_MD3(BuildingElectrificationExp, '\\\\Building Electrification - '+timestampMD+' - MD Package.xlsx')"
   ]
  },
  {
   "cell_type": "markdown",
   "metadata": {},
   "source": [
    "# Unrestricted Report"
   ]
  },
  {
   "cell_type": "code",
   "execution_count": 226,
   "metadata": {},
   "outputs": [],
   "source": [
    "def create_Totalprogram(program):\n",
    "    firstdf = df1[df1['Program']==program]\n",
    "    if firstdf.empty == True:\n",
    "        print(str(program)+ \" DF is EMPTY\")\n",
    "    else:    \n",
    "        return firstdf"
   ]
  },
  {
   "cell_type": "code",
   "execution_count": 227,
   "metadata": {},
   "outputs": [],
   "source": [
    "DevelopmentTotal = create_Totalprogram('Development')\n",
    "CommunicationsTotal = create_Totalprogram('Communications')\n",
    "IslandsTotal = create_Totalprogram('Islands')\n",
    "IndiaTotal = create_Totalprogram('India')\n",
    "OperationsTotal = create_Totalprogram('Operations')\n",
    "ChinaTotal = create_Totalprogram('China')\n",
    "Breakthrough_TechnologyTotal = create_Totalprogram('Breakthrough Technology')\n",
    "CarbonFree_MobilityTotal = create_Totalprogram('Carbon-Free Mobility')\n",
    "Climate_Aligned_IndustriesTotal = create_Totalprogram('Climate Aligned Industries')\n",
    "Global_Climate_FinanceTotal = create_Totalprogram('Global Climate Finance')\n",
    "Strategic_Engagement_and_Analysis_GroupTotal = create_Totalprogram('Strategic Engagement and Analysis Group')\n",
    "CarbonFree_BuildingsTotal = create_Totalprogram('Carbon-Free Buildings')\n",
    "WattTimeTotal = create_Totalprogram('WattTime')\n",
    "CarbonFree_ElectrictyTotal = create_Totalprogram('Carbon-Free Electricity')\n",
    "Urban_TransformationTotal = create_Totalprogram('Urban Transformation')\n",
    "Climate_IntelligenceTotal = create_Totalprogram('Climate Intelligence')\n",
    "IndustryTotal = create_Totalprogram('Industry')\n",
    "SE_AsiaTotal = create_Totalprogram('SE Asia')\n",
    "AfricaTotal = create_Totalprogram('Africa')\n",
    "USTotal = create_Totalprogram('US')\n",
    "Building_ElectrificationTotal = create_Totalprogram('Building Electrification')\n",
    "Energy_Transition_AcademyTotal = create_Totalprogram('Energy Transition Academy')\n",
    "BeijingTotal = create_Totalprogram('Beijing')\n",
    "CFANTotal = create_Totalprogram('CFAN')"
   ]
  },
  {
   "cell_type": "code",
   "execution_count": 228,
   "metadata": {},
   "outputs": [],
   "source": [
    "Developing_Economies_RollupTotal = pd.concat([IslandsTotal, AfricaTotal, SE_AsiaTotal, Energy_Transition_AcademyTotal, CFANTotal], ignore_index = True, sort=False)\n",
    "CarbonFreeBuildings_RollupTotal = pd.concat([CarbonFree_BuildingsTotal, Building_ElectrificationTotal], ignore_index = True, sort=False)\n",
    "China_RollupTotal = pd.concat([ChinaTotal, BeijingTotal], ignore_index = True, sort=False)"
   ]
  },
  {
   "cell_type": "code",
   "execution_count": 229,
   "metadata": {},
   "outputs": [],
   "source": [
    "def create_MD_pivot4(Group):\n",
    "    Month_order = ['Jul 2020', 'Aug 2020', 'Sep 2020', 'Oct 2020', 'Nov 2020', 'Dec 2020', 'Jan 2021', 'Feb 2021', 'Mar 2021', 'Apr 2021', 'May 2021', 'Jun 2021']\n",
    "    table = pd.pivot_table(Group, index = ['Initiative','Project','Grant'], values = 'Unrestricted', columns = 'Period', aggfunc=np.sum)\n",
    "    table2 = table.reindex(Month_order, axis=1)\n",
    "    table2['Total'] = table2.iloc[:,-12:].sum(axis=1)\n",
    "    return table2"
   ]
  },
  {
   "cell_type": "code",
   "execution_count": 230,
   "metadata": {},
   "outputs": [],
   "source": [
    "def add_subtotal_MD4(PivotedGroup):\n",
    "    out = pd.concat([d.append(d.sum().rename((k,'', 'Subtotal'))) for k, d in PivotedGroup.groupby('Initiative')]).append((PivotedGroup.sum()).rename(('Grand','', 'Total')))\n",
    "    out.index = pd.MultiIndex.from_tuples(out.index)\n",
    "    return out"
   ]
  },
  {
   "cell_type": "code",
   "execution_count": 231,
   "metadata": {},
   "outputs": [],
   "source": [
    "def to_excel_MD4(df, file):\n",
    "    writer = pd.ExcelWriter(file, engine='openpyxl')\n",
    "    if os.path.exists(file):\n",
    "        book = openpyxl.load_workbook(file)\n",
    "        writer.book = book\n",
    "\n",
    "    df.to_excel(writer, sheet_name=\"Unrestricted Use\", startrow = 1)\n",
    "    writer.save()\n",
    "    writer.close()    "
   ]
  },
  {
   "cell_type": "code",
   "execution_count": 232,
   "metadata": {},
   "outputs": [],
   "source": [
    "def edit_workbook_MD4(file):\n",
    "    book = load_workbook(file)\n",
    "    sheet = book[\"Unrestricted Use\"] #active means last opened sheet\n",
    "    rd = sheet.row_dimensions[1]\n",
    "    rd.height = 25\n",
    "    sheet['A2']= \"Initiative\"\n",
    "    sheet['B2']= \"Project\"\n",
    "    sheet['C2']= \"Grant\"    \n",
    "    sheet['A2'].font = Font(bold=True)\n",
    "    sheet['B2'].font = Font(bold=True)\n",
    "    sheet['C2'].font = Font(bold=True)\n",
    "#    fontStyle = Font(size = \"20\")\n",
    "    sheet.merge_cells('A1:P1')\n",
    "    top_left_cell = sheet['A1']\n",
    "    top_right_cell = sheet['P1']\n",
    "    top_left_cell.value = \"FY21 Unrestricted Use by Initiative, Project, and Grant\"\n",
    "    thin = Side(border_style=\"thin\", color=\"000000\")\n",
    "    double = Side(border_style=\"double\", color=\"000000\")\n",
    "    top_left_cell.border = Border(top=thin, left=thin, right=thin, bottom=thin)\n",
    "    top_left_cell.fill = PatternFill(\"solid\", fgColor=\"003366\")\n",
    "#    top_left_cell.fill = fill = GradientFill(stop=(\"000080\", \"FFFFFF\"))\n",
    "    top_left_cell.font  = Font(color=\"FFFFFF\", size = \"26\")\n",
    "#    top_left_cell.font = fontStyle\n",
    "    top_left_cell.alignment = Alignment(horizontal=\"center\", vertical=\"center\")\n",
    "    top_right_cell.border = Border(top=thin, left=thin, right=thin, bottom=thin)\n",
    "    sheet.column_dimensions['A'].width = 25\n",
    "    sheet.column_dimensions['B'].width = 35\n",
    "    sheet.column_dimensions['C'].width = 25\n",
    "    sheet.column_dimensions['D'].width = 15\n",
    "    sheet.column_dimensions['E'].width = 15\n",
    "    sheet.column_dimensions['F'].width = 15\n",
    "    sheet.column_dimensions['G'].width = 15\n",
    "    sheet.column_dimensions['H'].width = 15\n",
    "    sheet.column_dimensions['I'].width = 15\n",
    "    sheet.column_dimensions['J'].width = 15\n",
    "    sheet.column_dimensions['K'].width = 15\n",
    "    sheet.column_dimensions['L'].width = 15\n",
    "    sheet.column_dimensions['M'].width = 15\n",
    "    sheet.column_dimensions['N'].width = 15\n",
    "    sheet.column_dimensions['O'].width = 15\n",
    "    sheet.column_dimensions['P'].width = 15\n",
    "#    sheet.column_dimensions['D'].hidden = True\n",
    "    num_rows = sheet.max_row\n",
    "    curr_row = 2\n",
    "    for col in range(4, 17):\n",
    "        for row in range(2, num_rows+1):\n",
    "            sheet.cell(column=col, row=row).number_format = '\"$\"#,##0;[Red](\"$\"#,##0)'\n",
    "    for col in range(1, 4):\n",
    "        for row in range(3, num_rows):\n",
    "            sheet.cell(column=col, row=row).alignment = Alignment(horizontal = 'left', vertical='top')\n",
    "            sheet.cell(column=col, row=row).fill = blueFill\n",
    "    for i in range(1, sheet.max_row + 1):\n",
    "        if sheet.cell(row=i, column=3).value == \"Subtotal\":\n",
    "            for j in range(3,17):\n",
    "                sheet.cell(column=j, row=i).font = Font(bold=True)\n",
    "                sheet.cell(column=j, row=i).border = Border(bottom=Side(style='thin'))     \n",
    "    for i in range(1, sheet.max_row + 1):\n",
    "        if sheet.cell(row=i, column=1).value == \"Grand\":\n",
    "            for j in range(1,17):\n",
    "                sheet.cell(column=j, row=i).font = Font(bold=True)\n",
    "                sheet.cell(column=j, row=i).border = Border(bottom=Side(style=\"double\"))   \n",
    "    for i in range(1, sheet.max_row + 1):\n",
    "        if sheet.cell(row=i, column=1).value == \"Initiative\":\n",
    "            for j in range(1,17):\n",
    "                sheet.cell(column=j, row=i).font = Font(bold=True)\n",
    "                sheet.cell(column=j, row=i).border = Border(top = thin, bottom = thin) \n",
    "                sheet.cell(column=j, row=i).fill = greyFill\n",
    "    for col in range(17, 18):\n",
    "        for row in range(2, num_rows+1):\n",
    "            sheet.cell(column=col, row=row).border = Border(left=thin)\n",
    "#    sheet.auto_filter.ref = sheet.dimensions\n",
    "    sheet.sheet_view.zoomScale = 70\n",
    "    sheet.freeze_panes = \"D3\"\n",
    "    book.save(file)"
   ]
  },
  {
   "cell_type": "code",
   "execution_count": 233,
   "metadata": {},
   "outputs": [],
   "source": [
    "def format_multi_pivot_MD4(Group, str):\n",
    "    step1 = create_MD_pivot4(Group)\n",
    "    step2 = add_subtotal_MD4(step1)\n",
    "    to_excel_MD4(step2, MDpath+str)\n",
    "    edit_workbook_MD4(MDpath+str)"
   ]
  },
  {
   "cell_type": "code",
   "execution_count": 234,
   "metadata": {},
   "outputs": [],
   "source": [
    "format_multi_pivot_MD4(Developing_Economies_RollupTotal, '\\\\Developing Economies - '+timestampMD+' - MD Package.xlsx')\n",
    "format_multi_pivot_MD4(Climate_Aligned_IndustriesTotal, '\\\\Climate Aligned Industries - '+timestampMD+' - MD Package.xlsx')\n",
    "format_multi_pivot_MD4(IndiaTotal, '\\\\India - '+timestampMD+' - MD Package.xlsx')\n",
    "format_multi_pivot_MD4(OperationsTotal, '\\\\Operations - '+timestampMD+' - MD Package.xlsx')\n",
    "format_multi_pivot_MD4(DevelopmentTotal, '\\\\Development - '+timestampMD+' - MD Package.xlsx')\n",
    "format_multi_pivot_MD4(CommunicationsTotal, '\\\\Communications - '+timestampMD+' - MD Package.xlsx')\n",
    "format_multi_pivot_MD4(China_RollupTotal, '\\\\China - '+timestampMD+' - MD Package.xlsx')\n",
    "format_multi_pivot_MD4(Breakthrough_TechnologyTotal, '\\\\Breakthrough Technology - '+timestampMD+' - MD Package.xlsx')\n",
    "format_multi_pivot_MD4(CarbonFree_MobilityTotal, '\\\\Carbon-Free Mobility - '+timestampMD+' - MD Package.xlsx')\n",
    "format_multi_pivot_MD4(CarbonFree_ElectrictyTotal, '\\\\Carbon-Free Electricity - '+timestampMD+' - MD Package.xlsx')\n",
    "format_multi_pivot_MD4(Strategic_Engagement_and_Analysis_GroupTotal, '\\\\Strategic Engagement and Analysis Group - '+timestampMD+' - MD Package.xlsx')\n",
    "format_multi_pivot_MD4(CarbonFreeBuildings_RollupTotal, '\\\\Carbon-Free Buildings - '+timestampMD+' - MD Package.xlsx')\n",
    "format_multi_pivot_MD4(Urban_TransformationTotal, '\\\\Urban Transformation - '+timestampMD+' - MD Package.xlsx')\n",
    "format_multi_pivot_MD4(Climate_IntelligenceTotal, '\\\\Climate Intelligence - '+timestampMD+' - MD Package.xlsx')\n",
    "format_multi_pivot_MD4(IndustryTotal, '\\\\Industry - '+timestampMD+' - MD Package.xlsx')\n",
    "format_multi_pivot_MD4(USTotal, '\\\\US - '+timestampMD+' - MD Package.xlsx')\n",
    "format_multi_pivot_MD4(WattTimeTotal, '\\\\WattTime - '+timestampMD+' - MD Package.xlsx')\n",
    "format_multi_pivot_MD4(Global_Climate_FinanceTotal, '\\\\Global Climate Finance - '+timestampMD+' - MD Package.xlsx')\n"
   ]
  },
  {
   "cell_type": "markdown",
   "metadata": {},
   "source": [
    "## Create Salesforce Pivots for Philanthropic"
   ]
  },
  {
   "cell_type": "code",
   "execution_count": 235,
   "metadata": {},
   "outputs": [],
   "source": [
    "def create_Salesforceprogram(program):\n",
    "    firstdf = dfSalesforce[dfSalesforce['Program: Program Name']==program]\n",
    "    seconddf = firstdf[firstdf['Grant Status']!='Complete - Satisfactory']\n",
    "    if seconddf.empty == True:\n",
    "        print(str(program)+ \" DF is EMPTY\")\n",
    "    else:    \n",
    "        return firstdf"
   ]
  },
  {
   "cell_type": "code",
   "execution_count": 236,
   "metadata": {},
   "outputs": [
    {
     "name": "stdout",
     "output_type": "stream",
     "text": [
      "Communications DF is EMPTY\n",
      "Building Electrification DF is EMPTY\n",
      "Beijing DF is EMPTY\n",
      "CFAN DF is EMPTY\n"
     ]
    }
   ],
   "source": [
    "DevelopmentSF = create_Salesforceprogram(\"General Support\")\n",
    "IslandsSF = create_Salesforceprogram(\"Islands\")\n",
    "IndiaSF = create_Salesforceprogram(\"India\")\n",
    "OperationsSF = create_Salesforceprogram(\"Operations\")\n",
    "ChinaSF = create_Salesforceprogram(\"China\")\n",
    "Breakthrough_Technology_SF = create_Salesforceprogram(\"Breakthrough Technology\")\n",
    "CarbonFree_MobilitySF = create_Salesforceprogram(\"Carbon-Free Mobility\")\n",
    "ClimateAligned_IndustriesSF = create_Salesforceprogram(\"Climate Aligned Industries\")\n",
    "CommunicationsSF = create_Salesforceprogram(\"Communications\")\n",
    "GlobalClimate_FinanceSF = create_Salesforceprogram(\"Global Climate Finance\")\n",
    "Strategic_Engagement_and_Analysis_GroupSF = create_Salesforceprogram(\"Strategic Engagement and Analysis Group\")\n",
    "Carbon_Free_BuildingsSF = create_Salesforceprogram(\"Carbon-Free Buildings\")\n",
    "Carbon_Free_ElectricitySF = create_Salesforceprogram(\"Carbon-Free Electricity\")\n",
    "UrbanTrans_SF = create_Salesforceprogram(\"Urban Transformation\")\n",
    "ClimateIntelSF = create_Salesforceprogram(\"Climate Intelligence\")\n",
    "IndustrySF = create_Salesforceprogram(\"Industry\")\n",
    "SEAsiaSF = create_Salesforceprogram(\"SE Asia Energy\")\n",
    "AfricaSF = create_Salesforceprogram(\"Africa\")\n",
    "USSF = create_Salesforceprogram(\"US\")\n",
    "BuildingElectrificationSF = create_Salesforceprogram(\"Building Electrification\")\n",
    "Energy_Transition_AcademySF = create_Salesforceprogram(\"Energy Transition Academy\")\n",
    "BeijingSF = create_Salesforceprogram(\"Beijing\")\n",
    "CFANSF = create_Salesforceprogram(\"CFAN\")"
   ]
  },
  {
   "cell_type": "code",
   "execution_count": 237,
   "metadata": {},
   "outputs": [],
   "source": [
    "Developing_Economies_RollupSF = pd.concat([IslandsSF, AfricaSF, SEAsiaSF, Energy_Transition_AcademySF, CFANSF], ignore_index = True, sort=False)\n",
    "CarbonFreeBuildings_RollupSF = pd.concat([Carbon_Free_BuildingsSF, BuildingElectrificationSF], ignore_index = True, sort=False)\n",
    "China_RollupSF = pd.concat([ChinaSF, BeijingSF], ignore_index = True, sort=False)"
   ]
  },
  {
   "cell_type": "code",
   "execution_count": 238,
   "metadata": {},
   "outputs": [],
   "source": [
    "def create_MD_pivot5(Group):\n",
    "    table = pd.pivot_table(Group, index = ['Opportunity Record Type','Initiative','Forecast Category','Opportunity Name', 'Documents Link', 'RMI Grant Name', 'Revenue Name','Stage', 'Revenue Date', 'Grant Term - Start Date', 'Grant Term - End Date', 'Revenue Status', 'Program Fund Type', 'Probability (%)', 'Revenue Amount'], values = 'Expected Revenue', aggfunc=np.sum)\n",
    "    return table"
   ]
  },
  {
   "cell_type": "code",
   "execution_count": 239,
   "metadata": {},
   "outputs": [],
   "source": [
    "today = datetime.today()\n",
    "timestamptoday = today.strftime(\"%B %d, %Y\")"
   ]
  },
  {
   "cell_type": "code",
   "execution_count": 240,
   "metadata": {},
   "outputs": [],
   "source": [
    "def to_excel_MD5(df, file):\n",
    "    writer = pd.ExcelWriter(file, engine='openpyxl')\n",
    "    if os.path.exists(file):\n",
    "        book = openpyxl.load_workbook(file)\n",
    "        writer.book = book\n",
    "\n",
    "    df.to_excel(writer, sheet_name=\"SF Data DEV&GovMLBL\", startrow = 1)\n",
    "    writer.save()\n",
    "    writer.close()   "
   ]
  },
  {
   "cell_type": "code",
   "execution_count": 241,
   "metadata": {},
   "outputs": [],
   "source": [
    "def edit_workbook_MD5(file):\n",
    "    book = load_workbook(file)\n",
    "    sheet = book[\"SF Data DEV&GovMLBL\"] #active means last opened sheet\n",
    "    rd = sheet.row_dimensions[1]\n",
    "    rd.height = 25\n",
    "    sheet['A2']= \"Opportunity Record Type\"    \n",
    "    sheet['B2']= \"Initiative\"\n",
    "    sheet['C2']= \"Forecast Category\" \n",
    "    sheet['D2']= \"Opportunity Name\"\n",
    "    sheet['E2']= \"Essential Documents Link\"      \n",
    "    sheet['F2']= \"RMI Grant Name\"    \n",
    "    sheet['G2']= \"Revenue Name\" \n",
    "    sheet['H2']= \"Stage\"     \n",
    "    sheet['I2']= \"Revenue Date\"     \n",
    "    sheet['J2']= \"Grant Term - Start Date\"\n",
    "    sheet['K2']= \"Grant Term - End Date\"  \n",
    "    sheet['L2']= \"Revenue Status\"   \n",
    "    sheet['M2']= \"Program Fund Type\"   \n",
    "    sheet['N2']= \"Probability (%)\"     \n",
    "    sheet['O2']= \"Revenue Amount\"\n",
    "    sheet['P2']= \"Expected Revenue\"   \n",
    "    sheet['A2'].font = Font(bold=True)\n",
    "    sheet['B2'].font = Font(bold=True)\n",
    "    sheet['C2'].font = Font(bold=True)\n",
    "    sheet['D2'].font = Font(bold=True) \n",
    "#    fontStyle = Font(size = \"20\")\n",
    "    sheet.merge_cells('A1:P1')\n",
    "    top_left_cell = sheet['A1']\n",
    "    top_right_cell = sheet['P1']\n",
    "    top_left_cell.value = \"SalesForce FY20+ Data as of \" +timestamptoday\n",
    "    thin = Side(border_style=\"thin\", color=\"000000\")\n",
    "    double = Side(border_style=\"double\", color=\"000000\")\n",
    "    top_left_cell.border = Border(top=thin, left=thin, right=thin, bottom=thin)\n",
    "    top_left_cell.fill = PatternFill(\"solid\", fgColor=\"003366\")\n",
    "#    top_left_cell.fill = fill = GradientFill(stop=(\"000080\", \"FFFFFF\"))\n",
    "    top_left_cell.font  = Font(color=\"FFFFFF\", size = \"26\")\n",
    "#    top_left_cell.font = fontStyle\n",
    "    top_left_cell.alignment = Alignment(horizontal=\"center\", vertical=\"center\")\n",
    "    top_right_cell.border = Border(top=thin, left=thin, right=thin, bottom=thin)\n",
    "    sheet.column_dimensions['A'].width = 25\n",
    "    sheet.column_dimensions['B'].width = 20\n",
    "    sheet.column_dimensions['C'].width = 15\n",
    "    sheet.column_dimensions['D'].width = 30\n",
    "    sheet.column_dimensions['E'].width = 25\n",
    "    sheet.column_dimensions['F'].width = 25\n",
    "    sheet.column_dimensions['G'].width = 30\n",
    "    sheet.column_dimensions['H'].width = 15\n",
    "    sheet.column_dimensions['I'].width = 15\n",
    "    sheet.column_dimensions['J'].width = 15\n",
    "    sheet.column_dimensions['K'].width = 15\n",
    "    sheet.column_dimensions['L'].width = 15\n",
    "    sheet.column_dimensions['M'].width = 15\n",
    "    sheet.column_dimensions['N'].width = 15\n",
    "    sheet.column_dimensions['O'].width = 15\n",
    "    sheet.column_dimensions['F'].hidden = True\n",
    "    sheet.column_dimensions['E'].hidden = True\n",
    "    num_rows = sheet.max_row\n",
    "    curr_row = 2\n",
    "    thin_border = Border(left=Side(style='thin'), \n",
    "                         right=Side(style='thin'), \n",
    "                         top=Side(style='thin'), \n",
    "                         bottom=Side(style='thin'))\n",
    "    for col in range(4, 5):\n",
    "        for row in range(2, num_rows+1):\n",
    "            if sheet.cell(column=5, row=row).value == 'na':\n",
    "                continue\n",
    "            else:\n",
    "                try:\n",
    "                    sheet.cell(column=col, row=row).hyperlink = sheet.cell(column=5, row=row).value  \n",
    "                    sheet.cell(column=col, row=row).value = sheet.cell(column=col, row=row).value    \n",
    "                    sheet.cell(column=col, row=row).style = \"Hyperlink\"   \n",
    "                except:\n",
    "                    pass    \n",
    "    for col in range(4, 5):\n",
    "        for row in range(2, num_rows+1):\n",
    "                sheet.cell(column=col, row=row).border = thin_border\n",
    "    for col in range(14, 17):\n",
    "        for row in range(2, num_rows+1):\n",
    "            sheet.cell(column=col, row=row).number_format = '#,##0;[Red](#,##0)'\n",
    "    for col in range(1, 8):\n",
    "        for row in range(3, num_rows+1):\n",
    "            sheet.cell(column=col, row=row).alignment = Alignment(horizontal = 'left', vertical='top')\n",
    "            sheet.cell(column=col, row=row).fill = blueFill\n",
    "    for i in range(1, sheet.max_row + 1):\n",
    "        if sheet.cell(row=i, column=1).value == \"Opportunity Record Type\":\n",
    "            for j in range(1,17):\n",
    "                sheet.cell(column=j, row=i).font = Font(bold=True)\n",
    "                sheet.cell(column=j, row=i).border = Border(top = thin, bottom = thin)   \n",
    "                sheet.cell(column=j, row=i).fill = greyFill\n",
    "    for col in range(16, 17):\n",
    "        for row in range(2, num_rows+1):\n",
    "            sheet.cell(column=col, row=row).border = Border(top=thin, left=thin, right=thin, bottom=thin)\n",
    "    for col in range(8, 17):\n",
    "        for row in range(3, num_rows+1):\n",
    "            sheet.cell(column=col, row=row).font = Font(bold=False)\n",
    "    sheet.sheet_view.zoomScale = 85  \n",
    "    sheet.freeze_panes = sheet['H3']\n",
    "    book.save(file)"
   ]
  },
  {
   "cell_type": "code",
   "execution_count": 242,
   "metadata": {},
   "outputs": [],
   "source": [
    "def format_multi_pivot_MD5(Group, str):\n",
    "    step1 = create_MD_pivot5(Group)\n",
    "    to_excel_MD5(step1, MDpath+str)\n",
    "    edit_workbook_MD5(MDpath+str)"
   ]
  },
  {
   "cell_type": "code",
   "execution_count": 243,
   "metadata": {},
   "outputs": [],
   "source": [
    "format_multi_pivot_MD5(Developing_Economies_RollupSF, '\\\\Developing Economies - '+timestampMD+' - MD Package.xlsx')\n",
    "format_multi_pivot_MD5(ClimateAligned_IndustriesSF, '\\\\Climate Aligned Industries - '+timestampMD+' - MD Package.xlsx')\n",
    "format_multi_pivot_MD5(IndiaSF, '\\\\India - '+timestampMD+' - MD Package.xlsx')\n",
    "format_multi_pivot_MD5(OperationsSF, '\\\\Operations - '+timestampMD+' - MD Package.xlsx')\n",
    "#format_multi_pivot_MD5(CommunicationsSF, '\\\\Communications - '+timestampMD+' - MD Package.xlsx')\n",
    "format_multi_pivot_MD5(DevelopmentSF, '\\\\Development - '+timestampMD+' - MD Package.xlsx')\n",
    "format_multi_pivot_MD5(China_RollupSF, '\\\\China - '+timestampMD+' - MD Package.xlsx')\n",
    "format_multi_pivot_MD5(Breakthrough_Technology_SF, '\\\\Breakthrough Technology - '+timestampMD+' - MD Package.xlsx')\n",
    "format_multi_pivot_MD5(CarbonFree_MobilitySF, '\\\\Carbon-Free Mobility - '+timestampMD+' - MD Package.xlsx')\n",
    "format_multi_pivot_MD5(Carbon_Free_ElectricitySF, '\\\\Carbon-Free Electricity - '+timestampMD+' - MD Package.xlsx')\n",
    "format_multi_pivot_MD5(Strategic_Engagement_and_Analysis_GroupSF, '\\\\Strategic Engagement and Analysis Group - '+timestampMD+' - MD Package.xlsx')\n",
    "format_multi_pivot_MD5(CarbonFreeBuildings_RollupSF, '\\\\Carbon-Free Buildings - '+timestampMD+' - MD Package.xlsx')\n",
    "format_multi_pivot_MD5(UrbanTrans_SF, '\\\\Urban Transformation - '+timestampMD+' - MD Package.xlsx')\n",
    "format_multi_pivot_MD5(ClimateIntelSF, '\\\\Climate Intelligence - '+timestampMD+' - MD Package.xlsx')\n",
    "format_multi_pivot_MD5(IndustrySF, '\\\\Industry - '+timestampMD+' - MD Package.xlsx')\n",
    "format_multi_pivot_MD5(USSF, '\\\\US - '+timestampMD+' - MD Package.xlsx')\n",
    "format_multi_pivot_MD5(GlobalClimate_FinanceSF, '\\\\Global Climate Finance - '+timestampMD+' - MD Package.xlsx')\n",
    "#format_multi_pivot_MD6(BuildingElectrificationSF, '\\\\Building Electrification - '+timestampMD+' - MD Package.xlsx')"
   ]
  },
  {
   "cell_type": "markdown",
   "metadata": {},
   "source": [
    "## Create Salesforce Pivots for FFS"
   ]
  },
  {
   "cell_type": "code",
   "execution_count": 244,
   "metadata": {},
   "outputs": [],
   "source": [
    "def create_Salesforceprogram2(program):\n",
    "    firstdf = dfSalesforceFFS[dfSalesforceFFS['Program Area: Program Name']==program]\n",
    "    if firstdf.empty == True:\n",
    "        print(str(program)+ \" DF is EMPTY\")\n",
    "    else:    \n",
    "        return firstdf"
   ]
  },
  {
   "cell_type": "code",
   "execution_count": 245,
   "metadata": {},
   "outputs": [
    {
     "name": "stdout",
     "output_type": "stream",
     "text": [
      "General Support DF is EMPTY\n",
      "Operations DF is EMPTY\n",
      "Communications DF is EMPTY\n",
      "Building Electrification DF is EMPTY\n",
      "Energy Transition Academy DF is EMPTY\n",
      "Beijing DF is EMPTY\n",
      "CFAN DF is EMPTY\n"
     ]
    }
   ],
   "source": [
    "DevelopmentSFffs = create_Salesforceprogram2(\"General Support\")\n",
    "IslandsSFffs = create_Salesforceprogram2(\"Islands\")\n",
    "IndiaSFffs = create_Salesforceprogram2(\"India\")\n",
    "OperationsSFffs = create_Salesforceprogram2(\"Operations\")\n",
    "ChinaSFffs = create_Salesforceprogram2(\"China\")\n",
    "Breakthrough_Technology_SFffs = create_Salesforceprogram2(\"Breakthrough Technology\")\n",
    "CarbonFree_MobilitySFffs = create_Salesforceprogram2(\"Carbon-Free Mobility\")\n",
    "ClimateAligned_IndustriesSFffs = create_Salesforceprogram2(\"Climate Aligned Industries\")\n",
    "CommunicationsSF = create_Salesforceprogram(\"Communications\")\n",
    "GlobalClimate_FinanceSFffs = create_Salesforceprogram2(\"Global Climate Finance\")\n",
    "Strategic_Engagement_and_Analysis_GroupSFffs = create_Salesforceprogram2(\"Strategic Engagement and Analysis Group\")\n",
    "Carbon_Free_BuildingsSFffs = create_Salesforceprogram2(\"Carbon-Free Buildings\")\n",
    "Carbon_Free_ElectricitySFffs = create_Salesforceprogram2(\"Carbon-Free Electricity\")\n",
    "UrbanTrans_SFffs = create_Salesforceprogram2(\"Urban Transformation\")\n",
    "ClimateIntelSFffs = create_Salesforceprogram2(\"Climate Intelligence\")\n",
    "IndustrySFffs = create_Salesforceprogram2(\"Industry\")\n",
    "SEAsiaSFffs = create_Salesforceprogram2(\"SE Asia Energy\")\n",
    "AfricaSFffs = create_Salesforceprogram2(\"Africa\")\n",
    "USSFffs = create_Salesforceprogram2(\"US\")\n",
    "BuildingElectrificationSFffs = create_Salesforceprogram2(\"Building Electrification\")\n",
    "Energy_Transition_AcademySFffs = create_Salesforceprogram2(\"Energy Transition Academy\")\n",
    "BeijingSFffs = create_Salesforceprogram2(\"Beijing\")\n",
    "CFANSFffs = create_Salesforceprogram2(\"CFAN\")"
   ]
  },
  {
   "cell_type": "code",
   "execution_count": 246,
   "metadata": {},
   "outputs": [],
   "source": [
    "Developing_Economies_RollupSFffs = pd.concat([IslandsSFffs, AfricaSFffs, SEAsiaSFffs, Energy_Transition_AcademySFffs, CFANSFffs], ignore_index = True, sort=False)\n",
    "CarbonFreeBuildings_RollupSFffs = pd.concat([Carbon_Free_BuildingsSFffs, BuildingElectrificationSFffs], ignore_index = True, sort=False)\n",
    "China_RollupSFffs = pd.concat([ChinaSFffs, BeijingSFffs], ignore_index = True, sort=False)"
   ]
  },
  {
   "cell_type": "code",
   "execution_count": 247,
   "metadata": {},
   "outputs": [],
   "source": [
    "def create_MD_pivot6(Group):\n",
    "    table = pd.pivot_table(Group, index = ['Initiative','Account Name', 'Opportunity Name','Relationship Manager', 'Stage', 'Close Date', 'Probability (%)', 'Amount'], values = 'Weighted Value of Opportunity', aggfunc=np.sum)\n",
    "    return table"
   ]
  },
  {
   "cell_type": "code",
   "execution_count": 248,
   "metadata": {},
   "outputs": [],
   "source": [
    "def to_excel_MD6(df, file):\n",
    "    writer = pd.ExcelWriter(file, engine='openpyxl')\n",
    "    if os.path.exists(file):\n",
    "        book = openpyxl.load_workbook(file)\n",
    "        writer.book = book\n",
    "\n",
    "    df.to_excel(writer, sheet_name=\"SF Data FFS & Other Opps\", startrow = 1)\n",
    "    writer.save()\n",
    "    writer.close()   "
   ]
  },
  {
   "cell_type": "code",
   "execution_count": 249,
   "metadata": {},
   "outputs": [],
   "source": [
    "def edit_workbook_MD6(file):\n",
    "    book = load_workbook(file)\n",
    "    sheet = book[\"SF Data FFS & Other Opps\"] #active means last opened sheet\n",
    "    rd = sheet.row_dimensions[1]\n",
    "    rd.height = 25\n",
    "    sheet['A2']= \"Initiative\"\n",
    "    sheet['B2']= \"Account Name\"    \n",
    "    sheet['C2']= \"Opportunity Name\"\n",
    "    sheet['D2']= \"Relationship Manager\" \n",
    "    sheet['E2']= \"Stage\"\n",
    "    sheet['F2']= \"Close Date\"    \n",
    "    sheet['G2']= \"Probability (%)\"   \n",
    "    sheet['H2']= \"Amount\"  \n",
    "    sheet['I2']= \"Weighted Value of Opportunity\"   \n",
    "    sheet['A2'].font = Font(bold=True)\n",
    "    sheet['B2'].font = Font(bold=True)\n",
    "    sheet['C2'].font = Font(bold=True)\n",
    "    sheet['D2'].font = Font(bold=True) \n",
    "#    fontStyle = Font(size = \"20\")\n",
    "    sheet.merge_cells('A1:I1')\n",
    "    top_left_cell = sheet['A1']\n",
    "    top_right_cell = sheet['I1']\n",
    "    top_left_cell.value = \"SalesForce FY20+ Data as of \" +timestamptoday \n",
    "    thin = Side(border_style=\"thin\", color=\"000000\")\n",
    "    double = Side(border_style=\"double\", color=\"000000\")\n",
    "    top_left_cell.border = Border(top=thin, left=thin, right=thin, bottom=thin)\n",
    "    top_left_cell.fill = PatternFill(\"solid\", fgColor=\"003366\")\n",
    "#    top_left_cell.fill = fill = GradientFill(stop=(\"000080\", \"FFFFFF\"))\n",
    "    top_left_cell.font  = Font(color=\"FFFFFF\", size = \"26\")\n",
    "#    top_left_cell.font = fontStyle\n",
    "    top_left_cell.alignment = Alignment(horizontal=\"center\", vertical=\"center\")\n",
    "    top_right_cell.border = Border(top=thin, left=thin, right=thin, bottom=thin)\n",
    "    sheet.column_dimensions['A'].width = 25\n",
    "    sheet.column_dimensions['B'].width = 25\n",
    "    sheet.column_dimensions['C'].width = 35\n",
    "    sheet.column_dimensions['D'].width = 25\n",
    "    sheet.column_dimensions['E'].width = 25\n",
    "    sheet.column_dimensions['F'].width = 15\n",
    "    sheet.column_dimensions['G'].width = 25\n",
    "    sheet.column_dimensions['H'].width = 25\n",
    "    sheet.column_dimensions['I'].width = 15\n",
    "    sheet.column_dimensions['J'].width = 15\n",
    "#    sheet.column_dimensions['D'].hidden = True\n",
    "    num_rows = sheet.max_row\n",
    "    curr_row = 2\n",
    "    for col in range(7, 10):\n",
    "        for row in range(2, num_rows+1):\n",
    "            sheet.cell(column=col, row=row).number_format = '#,##0;[Red](#,##0)'\n",
    "    for col in range(1, 6):\n",
    "        for row in range(3, num_rows+1):\n",
    "            sheet.cell(column=col, row=row).alignment = Alignment(horizontal = 'left', vertical='top')\n",
    "            sheet.cell(column=col, row=row).fill = blueFill\n",
    "    for i in range(1, sheet.max_row + 1):\n",
    "        if sheet.cell(row=i, column=1).value == \"Initiative\":\n",
    "            for j in range(1,10):\n",
    "                sheet.cell(column=j, row=i).font = Font(bold=True)\n",
    "                sheet.cell(column=j, row=i).border = Border(top = thin, bottom = thin)   \n",
    "                sheet.cell(column=j, row=i).fill = greyFill\n",
    "    for col in range(9, 10):\n",
    "        for row in range(2, num_rows+1):\n",
    "            sheet.cell(column=col, row=row).border = Border(top=thin, left=thin, right=thin, bottom=thin)\n",
    "    for col in range(6, 10):\n",
    "        for row in range(3, num_rows+1):\n",
    "            sheet.cell(column=col, row=row).font = Font(bold=False)\n",
    "    sheet.sheet_view.zoomScale = 70  \n",
    "    sheet.freeze_panes = sheet['F3']\n",
    "    book.save(file)"
   ]
  },
  {
   "cell_type": "code",
   "execution_count": 250,
   "metadata": {},
   "outputs": [],
   "source": [
    "def format_multi_pivot_MD6(Group, str):\n",
    "    step1 = create_MD_pivot6(Group)\n",
    "    to_excel_MD6(step1, MDpath+str)\n",
    "    edit_workbook_MD6(MDpath+str)"
   ]
  },
  {
   "cell_type": "code",
   "execution_count": 251,
   "metadata": {},
   "outputs": [],
   "source": [
    "format_multi_pivot_MD6(Developing_Economies_RollupSFffs, '\\\\Developing Economies - '+timestampMD+' - MD Package.xlsx')\n",
    "format_multi_pivot_MD6(ClimateAligned_IndustriesSFffs, '\\\\Climate Aligned Industries - '+timestampMD+' - MD Package.xlsx')\n",
    "format_multi_pivot_MD6(IndiaSFffs, '\\\\India - '+timestampMD+' - MD Package.xlsx')\n",
    "#format_multi_pivot_MD6(OperationsSFffs, '\\\\Operations - '+timestampMD+' - MD Package.xlsx')\n",
    "#format_multi_pivot_MD6(DevelopmentSFffs, '\\\\Development - '+timestampMD+' - MD Package.xlsx')\n",
    "#format_multi_pivot_MD6(CommunicationsSFffs, '\\\\Communications - '+timestampMD+' - MD Package.xlsx')\n",
    "format_multi_pivot_MD6(China_RollupSFffs, '\\\\China - '+timestampMD+' - MD Package.xlsx')\n",
    "format_multi_pivot_MD6(Breakthrough_Technology_SFffs, '\\\\Breakthrough Technology - '+timestampMD+' - MD Package.xlsx')\n",
    "format_multi_pivot_MD6(CarbonFree_MobilitySFffs, '\\\\Carbon-Free Mobility - '+timestampMD+' - MD Package.xlsx')\n",
    "format_multi_pivot_MD6(Carbon_Free_ElectricitySFffs, '\\\\Carbon-Free Electricity - '+timestampMD+' - MD Package.xlsx')\n",
    "format_multi_pivot_MD6(Strategic_Engagement_and_Analysis_GroupSFffs, '\\\\Strategic Engagement and Analysis Group - '+timestampMD+' - MD Package.xlsx')\n",
    "format_multi_pivot_MD6(CarbonFreeBuildings_RollupSFffs, '\\\\Carbon-Free Buildings - '+timestampMD+' - MD Package.xlsx')\n",
    "format_multi_pivot_MD6(UrbanTrans_SFffs, '\\\\Urban Transformation - '+timestampMD+' - MD Package.xlsx')\n",
    "format_multi_pivot_MD6(ClimateIntelSFffs, '\\\\Climate Intelligence - '+timestampMD+' - MD Package.xlsx')\n",
    "format_multi_pivot_MD6(IndustrySFffs, '\\\\Industry - '+timestampMD+' - MD Package.xlsx')\n",
    "format_multi_pivot_MD6(USSFffs, '\\\\US - '+timestampMD+' - MD Package.xlsx')\n",
    "format_multi_pivot_MD6(GlobalClimate_FinanceSFffs, '\\\\Global Climate Finance - '+timestampMD+' - MD Package.xlsx')"
   ]
  },
  {
   "cell_type": "code",
   "execution_count": null,
   "metadata": {},
   "outputs": [],
   "source": []
  },
  {
   "cell_type": "code",
   "execution_count": null,
   "metadata": {},
   "outputs": [],
   "source": []
  },
  {
   "cell_type": "code",
   "execution_count": null,
   "metadata": {},
   "outputs": [],
   "source": []
  },
  {
   "cell_type": "code",
   "execution_count": null,
   "metadata": {},
   "outputs": [],
   "source": []
  },
  {
   "cell_type": "code",
   "execution_count": null,
   "metadata": {},
   "outputs": [],
   "source": []
  },
  {
   "cell_type": "code",
   "execution_count": null,
   "metadata": {},
   "outputs": [],
   "source": []
  },
  {
   "cell_type": "code",
   "execution_count": null,
   "metadata": {},
   "outputs": [],
   "source": []
  },
  {
   "cell_type": "code",
   "execution_count": null,
   "metadata": {},
   "outputs": [],
   "source": []
  },
  {
   "cell_type": "code",
   "execution_count": null,
   "metadata": {},
   "outputs": [],
   "source": []
  },
  {
   "cell_type": "code",
   "execution_count": null,
   "metadata": {},
   "outputs": [],
   "source": []
  },
  {
   "cell_type": "code",
   "execution_count": null,
   "metadata": {},
   "outputs": [],
   "source": []
  },
  {
   "cell_type": "code",
   "execution_count": null,
   "metadata": {},
   "outputs": [],
   "source": []
  },
  {
   "cell_type": "code",
   "execution_count": null,
   "metadata": {},
   "outputs": [],
   "source": []
  }
 ],
 "metadata": {
  "kernelspec": {
   "display_name": "Python 3",
   "language": "python",
   "name": "python3"
  },
  "language_info": {
   "codemirror_mode": {
    "name": "ipython",
    "version": 3
   },
   "file_extension": ".py",
   "mimetype": "text/x-python",
   "name": "python",
   "nbconvert_exporter": "python",
   "pygments_lexer": "ipython3",
   "version": "3.8.5"
  }
 },
 "nbformat": 4,
 "nbformat_minor": 4
}

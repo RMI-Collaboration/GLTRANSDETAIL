{
 "cells": [
  {
   "cell_type": "markdown",
   "metadata": {},
   "source": [
    "# RMI Detail Transactions Project"
   ]
  },
  {
   "cell_type": "markdown",
   "metadata": {},
   "source": [
    "## 1.  Load Transactional Data, SalesForce Data, Mavenlink Data, load packages, and convert to Dataframes\n",
    "\n",
    "I am using three reports from Netsuite to populate this data:  Lists/Employees --> Run report without filters all set to \"All\".\n",
    "\n",
    "Search in Netsuite search bar usings \"sea\" for Adaptive Transaction Search - P&L - Jeremy\n",
    "\n",
    "Search in Netsuite search bar using \"sea\" for Mavenlink Time Audit\n",
    "\n",
    "In Salesforce, use Ginny's link, but filter for \"ALL\" in Opportunity Record Type.  Also include Revenue Date:  greater or equal to LAST FISCAL YEAR.\n",
    "\n",
    "![title](img/picture.jpg)"
   ]
  },
  {
   "cell_type": "code",
   "execution_count": 1,
   "metadata": {},
   "outputs": [],
   "source": [
    "import pandas as pd\n",
    "import numpy as np\n",
    "import openpyxl\n",
    "from openpyxl import load_workbook\n",
    "from openpyxl.styles import Font\n",
    "from openpyxl.styles import Alignment\n",
    "from openpyxl.styles.borders import Border, Side\n"
   ]
  },
  {
   "cell_type": "code",
   "execution_count": 2,
   "metadata": {},
   "outputs": [],
   "source": [
    "dfHistoric = pd.read_excel('../Data/raw/FY19&FY20_Detail_Trans.xlsx')"
   ]
  },
  {
   "cell_type": "code",
   "execution_count": 3,
   "metadata": {},
   "outputs": [],
   "source": [
    "from xml.sax import ContentHandler, parse\n",
    "\n",
    "# Reference https://goo.gl/KaOBG3\n",
    "class ExcelHandler(ContentHandler):\n",
    "    def __init__(self):\n",
    "        self.chars = [  ]\n",
    "        self.cells = [  ]\n",
    "        self.rows = [  ]\n",
    "        self.tables = [  ]\n",
    "    def characters(self, content):\n",
    "        self.chars.append(content)\n",
    "    def startElement(self, name, atts):\n",
    "        if name==\"Cell\":\n",
    "            self.chars = [  ]\n",
    "        elif name==\"Row\":\n",
    "            self.cells=[  ]\n",
    "        elif name==\"Table\":\n",
    "            self.rows = [  ]\n",
    "    def endElement(self, name):\n",
    "        if name==\"Cell\":\n",
    "            self.cells.append(''.join(self.chars))\n",
    "        elif name==\"Row\":\n",
    "            self.rows.append(self.cells)\n",
    "        elif name==\"Table\":\n",
    "            self.tables.append(self.rows)\n",
    "\n",
    "excelHandler = ExcelHandler()\n",
    "parse('../Data/raw/ADAPTIVETransactionSearchPLJeremyResults17.xls', excelHandler)\n",
    "df1 = pd.DataFrame(excelHandler.tables[0][1:], columns=excelHandler.tables[0][0])\n",
    "\n"
   ]
  },
  {
   "cell_type": "code",
   "execution_count": 4,
   "metadata": {},
   "outputs": [],
   "source": [
    "excelHandler = ExcelHandler()\n",
    "parse('../Data/raw/MavenlinkTimeAuditResults375.xls', excelHandler)\n",
    "dfMavenlink = pd.DataFrame(excelHandler.tables[0][1:], columns=excelHandler.tables[0][0])"
   ]
  },
  {
   "cell_type": "code",
   "execution_count": 5,
   "metadata": {},
   "outputs": [],
   "source": [
    "excelHandler = ExcelHandler()\n",
    "parse('../Data/raw/Employees588.xls', excelHandler)\n",
    "employee_list = pd.DataFrame(excelHandler.tables[0][1:], columns=excelHandler.tables[0][0])\n"
   ]
  },
  {
   "cell_type": "code",
   "execution_count": 6,
   "metadata": {},
   "outputs": [],
   "source": [
    "dfSalesforce = pd.read_html('../Data/raw/report1617115813076.xls')\n",
    "dfSalesforce = dfSalesforce[0]"
   ]
  },
  {
   "cell_type": "code",
   "execution_count": 7,
   "metadata": {},
   "outputs": [],
   "source": [
    "dfSalesforceFFS = pd.read_html('../Data/raw/report1617115880508.xls')\n",
    "dfSalesforceFFS = dfSalesforceFFS[0]"
   ]
  },
  {
   "cell_type": "code",
   "execution_count": 8,
   "metadata": {},
   "outputs": [],
   "source": [
    "#To get the FFS Balances and Whitney's data from Netsuite: RMI Fee for Service Contract Balances\n",
    "\n",
    "excelHandler = ExcelHandler()\n",
    "parse('../Data/raw/RMIFeeforServiceContractBalancesResults539.xls', excelHandler)\n",
    "dfFFSData = pd.DataFrame(excelHandler.tables[0][1:], columns=excelHandler.tables[0][0])"
   ]
  },
  {
   "cell_type": "code",
   "execution_count": 9,
   "metadata": {},
   "outputs": [],
   "source": [
    "#To get the deferred Revenue data for FFS from Netsuite:  RMI Transaction Search - Revenue Summary\n",
    "\n",
    "excelHandler = ExcelHandler()\n",
    "parse('../Data/raw/RMITransactionSearchRevenueSummaryResults385.xls', excelHandler)\n",
    "dfFFSIncludingDeferred = pd.DataFrame(excelHandler.tables[0][1:], columns=excelHandler.tables[0][0])"
   ]
  },
  {
   "cell_type": "code",
   "execution_count": 10,
   "metadata": {},
   "outputs": [],
   "source": [
    "df1 = pd.concat([dfHistoric, df1], ignore_index=True)"
   ]
  },
  {
   "cell_type": "markdown",
   "metadata": {},
   "source": [
    "## 2. Data Manipulation\n",
    "\n",
    "In this section I start manipulting these datasets into somethign more digestable for the end user.  The main manipulation I am doing in this seciton is pulling information out of the \"Memo\" field that users may want to see seperately."
   ]
  },
  {
   "cell_type": "code",
   "execution_count": 11,
   "metadata": {},
   "outputs": [],
   "source": [
    "EmployeeNameandID = employee_list[['Name', 'External ID', 'Job Title']]"
   ]
  },
  {
   "cell_type": "code",
   "execution_count": 12,
   "metadata": {},
   "outputs": [
    {
     "name": "stderr",
     "output_type": "stream",
     "text": [
      "c:\\users\\jeremy wendt\\anaconda3\\envs\\code\\detail_trans_project_fy21\\notebooks\\venv\\lib\\site-packages\\pandas\\core\\series.py:4563: SettingWithCopyWarning: \n",
      "A value is trying to be set on a copy of a slice from a DataFrame\n",
      "\n",
      "See the caveats in the documentation: https://pandas.pydata.org/pandas-docs/stable/user_guide/indexing.html#returning-a-view-versus-a-copy\n",
      "  return super().replace(\n"
     ]
    }
   ],
   "source": [
    "EmployeeNameandID['External ID'].replace('', np.nan, inplace=True)"
   ]
  },
  {
   "cell_type": "code",
   "execution_count": 13,
   "metadata": {},
   "outputs": [
    {
     "data": {
      "text/plain": [
       "509"
      ]
     },
     "execution_count": 13,
     "metadata": {},
     "output_type": "execute_result"
    }
   ],
   "source": [
    "len(EmployeeNameandID)"
   ]
  },
  {
   "cell_type": "code",
   "execution_count": 14,
   "metadata": {},
   "outputs": [],
   "source": [
    "#EmployeeNameandID.to_excel('originallist.xlsx')"
   ]
  },
  {
   "cell_type": "code",
   "execution_count": 15,
   "metadata": {},
   "outputs": [],
   "source": [
    "employee_id_list = employee_list['External ID'].tolist()"
   ]
  },
  {
   "cell_type": "code",
   "execution_count": 16,
   "metadata": {},
   "outputs": [],
   "source": [
    "employee_id_list = list(filter(None, employee_id_list))"
   ]
  },
  {
   "cell_type": "code",
   "execution_count": 17,
   "metadata": {},
   "outputs": [
    {
     "name": "stdout",
     "output_type": "stream",
     "text": [
      "465\n"
     ]
    }
   ],
   "source": [
    "print(len(employee_id_list))"
   ]
  },
  {
   "cell_type": "code",
   "execution_count": 18,
   "metadata": {},
   "outputs": [],
   "source": [
    "df1['Memo'] = df1['Memo'].astype('string')"
   ]
  },
  {
   "cell_type": "code",
   "execution_count": 19,
   "metadata": {},
   "outputs": [
    {
     "data": {
      "text/plain": [
       "Date                               object\n",
       "Period                             object\n",
       "GL Account                         object\n",
       "Document Number                    object\n",
       "Program                            object\n",
       "Initiative                         object\n",
       "Project                            object\n",
       "Restriction                        object\n",
       "Grant                              object\n",
       "Amount                             object\n",
       "Vendor Name                        object\n",
       "Employee Name                      object\n",
       "Memo                               string\n",
       "Amount (Credit)                    object\n",
       "Amount (Debit)                     object\n",
       "Client                             object\n",
       "Transaction Number                 object\n",
       "Type                               object\n",
       "Vendor Rate                        object\n",
       "Vendor Contract Expiration Date    object\n",
       "dtype: object"
      ]
     },
     "execution_count": 19,
     "metadata": {},
     "output_type": "execute_result"
    }
   ],
   "source": [
    "df1.dtypes"
   ]
  },
  {
   "cell_type": "code",
   "execution_count": 20,
   "metadata": {},
   "outputs": [],
   "source": [
    "all_ids = '|'.join(employee_id_list)"
   ]
  },
  {
   "cell_type": "code",
   "execution_count": 21,
   "metadata": {},
   "outputs": [],
   "source": [
    "def return_first(x):\n",
    "    try:\n",
    "        y = x[0]\n",
    "    except:\n",
    "        y = \"\"\n",
    "    return y"
   ]
  },
  {
   "cell_type": "code",
   "execution_count": 22,
   "metadata": {},
   "outputs": [],
   "source": [
    "df1['External ID'] = df1['Memo'].str.findall(all_ids).apply(return_first)"
   ]
  },
  {
   "cell_type": "code",
   "execution_count": 23,
   "metadata": {},
   "outputs": [],
   "source": [
    "employee_name_list = employee_list['Name'].tolist()"
   ]
  },
  {
   "cell_type": "code",
   "execution_count": 24,
   "metadata": {},
   "outputs": [],
   "source": [
    "employee_name_list = list(filter(None, employee_name_list))"
   ]
  },
  {
   "cell_type": "code",
   "execution_count": 25,
   "metadata": {},
   "outputs": [],
   "source": [
    "all_names = '|'.join(employee_name_list)"
   ]
  },
  {
   "cell_type": "code",
   "execution_count": 26,
   "metadata": {},
   "outputs": [],
   "source": [
    "all_names = all_names + \"|Agnis Li|Anna Ledden|Greg Hales|Rachel Hohensee|Li Ma\""
   ]
  },
  {
   "cell_type": "code",
   "execution_count": 27,
   "metadata": {},
   "outputs": [],
   "source": [
    "df1['Match ID Names'] = df1['Memo'].str.findall(all_names).apply(return_first)"
   ]
  },
  {
   "cell_type": "code",
   "execution_count": 28,
   "metadata": {},
   "outputs": [],
   "source": [
    "df1 = pd.merge(df1, EmployeeNameandID, on = 'External ID', how='left')"
   ]
  },
  {
   "cell_type": "code",
   "execution_count": 29,
   "metadata": {},
   "outputs": [],
   "source": [
    "df1['Match ID Names'].replace('', np.nan, inplace=True)"
   ]
  },
  {
   "cell_type": "code",
   "execution_count": 30,
   "metadata": {},
   "outputs": [],
   "source": [
    "df1['Name'].replace('', np.nan, inplace=True)"
   ]
  },
  {
   "cell_type": "code",
   "execution_count": 31,
   "metadata": {},
   "outputs": [],
   "source": [
    "df1['Name'].fillna(df1['Match ID Names'], inplace=True)"
   ]
  },
  {
   "cell_type": "code",
   "execution_count": 32,
   "metadata": {},
   "outputs": [],
   "source": [
    "df1['Name'].replace('Agnis Li', 'Agnes Li', inplace=True)\n",
    "df1['Name'].replace('Anna Ledden', 'Anna  Ledden', inplace=True)\n",
    "df1['Name'].replace('Rachel Hohensee', 'Rachel T Hohensee', inplace=True)"
   ]
  },
  {
   "cell_type": "markdown",
   "metadata": {},
   "source": [
    "## Mavenlink Data Manipulation"
   ]
  },
  {
   "cell_type": "code",
   "execution_count": 33,
   "metadata": {},
   "outputs": [],
   "source": [
    "dfMavenlink['Month'] = pd.DatetimeIndex(dfMavenlink['Date']).month\n",
    "dfMavenlink['Month'] = dfMavenlink['Month'].map({7: 'Jul 2020', 8: \"Aug 2020\", 9: \"Sep 2020\", 10: \"Oct 2020\", 11: \"Nov 2020\", 12: \"Dec 2020\", 1: \"Jan 2021\", 2: \"Feb 2021\", 3: \"Mar 2021\", 4: \"Apr 2021\", 5: \"May 2021\", 6: \"Jun 2021\"})"
   ]
  },
  {
   "cell_type": "code",
   "execution_count": 34,
   "metadata": {},
   "outputs": [],
   "source": [
    "dfMavenlink['Minutes'] =  dfMavenlink['Duration'].str.split(':').apply(lambda x: int(x[0]) * 60 + int(x[1]) * 1)\n",
    "dfMavenlink['Hours'] =  dfMavenlink['Minutes'] / 60"
   ]
  },
  {
   "cell_type": "code",
   "execution_count": 35,
   "metadata": {},
   "outputs": [],
   "source": [
    "dfMavenlink['Grant'].replace('', np.nan, inplace=True)\n",
    "dfMavenlink['Initiative'].replace('', np.nan, inplace=True)\n",
    "dfMavenlink['Employee'].replace('', np.nan, inplace=True)\n",
    "dfMavenlink['Case/Task/Event'].replace('', np.nan, inplace=True)\n",
    "dfMavenlink['Billable'].replace('', np.nan, inplace=True)"
   ]
  },
  {
   "cell_type": "code",
   "execution_count": 36,
   "metadata": {},
   "outputs": [],
   "source": [
    "dfMavenlink['Grant'].fillna(\"No Grant\", inplace=True)\n",
    "dfMavenlink['Initiative'].fillna(\"na\", inplace=True)\n",
    "dfMavenlink['Employee'].fillna(\"na\", inplace=True)\n",
    "dfMavenlink['Case/Task/Event'].fillna(\"na\", inplace=True)\n",
    "dfMavenlink['Billable'].fillna(\"Billable\", inplace=True)"
   ]
  },
  {
   "cell_type": "code",
   "execution_count": 37,
   "metadata": {},
   "outputs": [],
   "source": [
    "dfMavenlink['Employee Hours'] = dfMavenlink.groupby(['Employee','Month'])['Hours'].transform('sum')"
   ]
  },
  {
   "cell_type": "code",
   "execution_count": 38,
   "metadata": {},
   "outputs": [],
   "source": [
    "dfMavenlink['Percent of Total Monthly Hours'] = dfMavenlink['Hours'] / dfMavenlink['Employee Hours']"
   ]
  },
  {
   "cell_type": "code",
   "execution_count": 40,
   "metadata": {},
   "outputs": [],
   "source": [
    "#dfMavenlink.to_excel('Output_Mavenlink.xlsx')"
   ]
  },
  {
   "cell_type": "markdown",
   "metadata": {},
   "source": [
    "## Salesforce Data Manipulation"
   ]
  },
  {
   "cell_type": "code",
   "execution_count": 41,
   "metadata": {},
   "outputs": [],
   "source": [
    "dfSalesforce['Revenue Status'].replace('', np.nan, inplace=True)\n",
    "dfSalesforce['Initiative'].replace('', np.nan, inplace=True)\n",
    "dfSalesforce['Revenue Amount'].replace('', np.nan, inplace=True)\n",
    "dfSalesforce['RMI Grant Name'].replace('', np.nan, inplace=True)\n",
    "dfSalesforce['Grant Term - Start Date'].replace('', np.nan, inplace=True)\n",
    "dfSalesforce['Grant Term - End Date'].replace('', np.nan, inplace=True)"
   ]
  },
  {
   "cell_type": "code",
   "execution_count": 42,
   "metadata": {},
   "outputs": [],
   "source": [
    "dfSalesforce['Revenue Status'].fillna(\"na\", inplace=True)\n",
    "dfSalesforce['Initiative'].fillna(\"na\", inplace=True)\n",
    "dfSalesforce['Revenue Amount'].fillna(0, inplace=True)\n",
    "dfSalesforce['RMI Grant Name'].fillna(\"na\", inplace=True)\n",
    "dfSalesforce['Grant Term - Start Date'].fillna(\"na\", inplace=True)\n",
    "dfSalesforce['Grant Term - End Date'].fillna(\"na\", inplace=True)"
   ]
  },
  {
   "cell_type": "code",
   "execution_count": 43,
   "metadata": {},
   "outputs": [],
   "source": [
    "dfSalesforceFFS['Amount'].replace('', np.nan, inplace=True)\n",
    "dfSalesforceFFS['Relationship Manager'].replace('', np.nan, inplace=True)\n",
    "dfSalesforceFFS['Initiative'].replace('', np.nan, inplace=True)"
   ]
  },
  {
   "cell_type": "code",
   "execution_count": 44,
   "metadata": {},
   "outputs": [],
   "source": [
    "dfSalesforceFFS['Amount'].fillna(0, inplace=True)\n",
    "dfSalesforceFFS['Relationship Manager'].fillna('na', inplace=True)\n",
    "dfSalesforceFFS['Initiative'].fillna('na', inplace=True)"
   ]
  },
  {
   "cell_type": "code",
   "execution_count": 45,
   "metadata": {},
   "outputs": [],
   "source": [
    "#dfSalesforce.to_excel('Output_Salesforce.xlsx')"
   ]
  },
  {
   "cell_type": "markdown",
   "metadata": {},
   "source": [
    "## Extract Time Allocation From Memo"
   ]
  },
  {
   "cell_type": "code",
   "execution_count": 46,
   "metadata": {},
   "outputs": [],
   "source": [
    "allocations = ['BONUS ALLOCATION', 'ADMIN ALLOCATION', 'PTO/HOLIDAY ALLOCATION']"
   ]
  },
  {
   "cell_type": "code",
   "execution_count": 47,
   "metadata": {},
   "outputs": [],
   "source": [
    "all_allocations = '|'.join(allocations)"
   ]
  },
  {
   "cell_type": "code",
   "execution_count": 48,
   "metadata": {},
   "outputs": [],
   "source": [
    "df1['ALLOCATION'] = df1['Memo'].str.findall(all_allocations).apply(return_first)"
   ]
  },
  {
   "cell_type": "markdown",
   "metadata": {},
   "source": [
    "## Extract Project Fields for Heather's report"
   ]
  },
  {
   "cell_type": "code",
   "execution_count": 49,
   "metadata": {},
   "outputs": [],
   "source": [
    "df1['Project Allocations'] = df1['Project'].str.findall(r'\\[(.*?)\\]').apply(return_first)"
   ]
  },
  {
   "cell_type": "markdown",
   "metadata": {},
   "source": [
    "## Add Rollup Accounts"
   ]
  },
  {
   "cell_type": "code",
   "execution_count": 50,
   "metadata": {},
   "outputs": [],
   "source": [
    "lookups = pd.read_excel('../Data/raw/lookups.xlsx')"
   ]
  },
  {
   "cell_type": "code",
   "execution_count": 51,
   "metadata": {},
   "outputs": [
    {
     "data": {
      "text/html": [
       "<div>\n",
       "<style scoped>\n",
       "    .dataframe tbody tr th:only-of-type {\n",
       "        vertical-align: middle;\n",
       "    }\n",
       "\n",
       "    .dataframe tbody tr th {\n",
       "        vertical-align: top;\n",
       "    }\n",
       "\n",
       "    .dataframe thead th {\n",
       "        text-align: right;\n",
       "    }\n",
       "</style>\n",
       "<table border=\"1\" class=\"dataframe\">\n",
       "  <thead>\n",
       "    <tr style=\"text-align: right;\">\n",
       "      <th></th>\n",
       "      <th>GL Account</th>\n",
       "      <th>Rollup Account</th>\n",
       "    </tr>\n",
       "  </thead>\n",
       "  <tbody>\n",
       "    <tr>\n",
       "      <th>0</th>\n",
       "      <td>5010 Contributions Revenue : Foundation Contri...</td>\n",
       "      <td>5000 Contributions Revenue</td>\n",
       "    </tr>\n",
       "    <tr>\n",
       "      <th>1</th>\n",
       "      <td>5015 Contributions Revenue : Campaign Foundati...</td>\n",
       "      <td>5000 Contributions Revenue</td>\n",
       "    </tr>\n",
       "    <tr>\n",
       "      <th>2</th>\n",
       "      <td>5020 Contributions Revenue : Individual Contri...</td>\n",
       "      <td>5000 Contributions Revenue</td>\n",
       "    </tr>\n",
       "    <tr>\n",
       "      <th>3</th>\n",
       "      <td>5025 Contributions Revenue : Campaign Corporat...</td>\n",
       "      <td>5000 Contributions Revenue</td>\n",
       "    </tr>\n",
       "    <tr>\n",
       "      <th>4</th>\n",
       "      <td>5030 Contributions Revenue : Endowment Contrib...</td>\n",
       "      <td>5000 Contributions Revenue</td>\n",
       "    </tr>\n",
       "  </tbody>\n",
       "</table>\n",
       "</div>"
      ],
      "text/plain": [
       "                                          GL Account  \\\n",
       "0  5010 Contributions Revenue : Foundation Contri...   \n",
       "1  5015 Contributions Revenue : Campaign Foundati...   \n",
       "2  5020 Contributions Revenue : Individual Contri...   \n",
       "3  5025 Contributions Revenue : Campaign Corporat...   \n",
       "4  5030 Contributions Revenue : Endowment Contrib...   \n",
       "\n",
       "               Rollup Account  \n",
       "0  5000 Contributions Revenue  \n",
       "1  5000 Contributions Revenue  \n",
       "2  5000 Contributions Revenue  \n",
       "3  5000 Contributions Revenue  \n",
       "4  5000 Contributions Revenue  "
      ]
     },
     "execution_count": 51,
     "metadata": {},
     "output_type": "execute_result"
    }
   ],
   "source": [
    "lookups.head()"
   ]
  },
  {
   "cell_type": "code",
   "execution_count": 52,
   "metadata": {},
   "outputs": [],
   "source": [
    "df1 = pd.merge(df1, lookups, on = 'GL Account', how='left')"
   ]
  },
  {
   "cell_type": "code",
   "execution_count": 53,
   "metadata": {},
   "outputs": [],
   "source": [
    "df1['Account Digit'] = df1['GL Account'].astype('string').str[0]"
   ]
  },
  {
   "cell_type": "code",
   "execution_count": 54,
   "metadata": {},
   "outputs": [
    {
     "data": {
      "text/plain": [
       "Index(['Date', 'Period', 'GL Account', 'Document Number', 'Program',\n",
       "       'Initiative', 'Project', 'Restriction', 'Grant', 'Amount',\n",
       "       'Vendor Name', 'Employee Name', 'Memo', 'Amount (Credit)',\n",
       "       'Amount (Debit)', 'Client', 'Transaction Number', 'Type', 'Vendor Rate',\n",
       "       'Vendor Contract Expiration Date', 'External ID', 'Match ID Names',\n",
       "       'Name', 'Job Title', 'ALLOCATION', 'Project Allocations',\n",
       "       'Rollup Account', 'Account Digit'],\n",
       "      dtype='object')"
      ]
     },
     "execution_count": 54,
     "metadata": {},
     "output_type": "execute_result"
    }
   ],
   "source": [
    "df1.columns"
   ]
  },
  {
   "cell_type": "code",
   "execution_count": 55,
   "metadata": {},
   "outputs": [],
   "source": [
    "df1['Amount'] = df1['Amount'].astype(float)\n",
    "df1['Amount (Credit)'].replace('', 0, inplace=True)\n",
    "df1['Amount (Debit)'].replace('', 0, inplace=True)\n",
    "df1['Amount (Credit)'] = df1['Amount (Credit)'].astype(float)\n",
    "df1['Amount (Debit)'] = df1['Amount (Debit)'].astype(float)"
   ]
  },
  {
   "cell_type": "code",
   "execution_count": 56,
   "metadata": {},
   "outputs": [
    {
     "data": {
      "text/plain": [
       "Date                                object\n",
       "Period                              object\n",
       "GL Account                          object\n",
       "Document Number                     object\n",
       "Program                             object\n",
       "Initiative                          object\n",
       "Project                             object\n",
       "Restriction                         object\n",
       "Grant                               object\n",
       "Amount                             float64\n",
       "Vendor Name                         object\n",
       "Employee Name                       object\n",
       "Memo                                string\n",
       "Amount (Credit)                    float64\n",
       "Amount (Debit)                     float64\n",
       "Client                              object\n",
       "Transaction Number                  object\n",
       "Type                                object\n",
       "Vendor Rate                         object\n",
       "Vendor Contract Expiration Date     object\n",
       "External ID                         object\n",
       "Match ID Names                      object\n",
       "Name                                object\n",
       "Job Title                           object\n",
       "ALLOCATION                          object\n",
       "Project Allocations                 object\n",
       "Rollup Account                      object\n",
       "Account Digit                       string\n",
       "dtype: object"
      ]
     },
     "execution_count": 56,
     "metadata": {},
     "output_type": "execute_result"
    }
   ],
   "source": [
    "df1.dtypes"
   ]
  },
  {
   "cell_type": "markdown",
   "metadata": {},
   "source": [
    "## Add Reclass Field and Closeout field"
   ]
  },
  {
   "cell_type": "code",
   "execution_count": 57,
   "metadata": {},
   "outputs": [],
   "source": [
    "account_exceptions = ['To reclass', 'Reclass']"
   ]
  },
  {
   "cell_type": "code",
   "execution_count": 58,
   "metadata": {},
   "outputs": [],
   "source": [
    "Accounting_Moves = '|'.join(account_exceptions)"
   ]
  },
  {
   "cell_type": "code",
   "execution_count": 59,
   "metadata": {},
   "outputs": [],
   "source": [
    "closeout = 'close out'"
   ]
  },
  {
   "cell_type": "code",
   "execution_count": 60,
   "metadata": {},
   "outputs": [],
   "source": [
    "df1['Accounting Adjustments'] = df1['Memo'].str.findall(Accounting_Moves).apply(return_first)"
   ]
  },
  {
   "cell_type": "code",
   "execution_count": 61,
   "metadata": {},
   "outputs": [],
   "source": [
    "df1['Accounting Close Out'] = df1['Memo'].str.findall(closeout).apply(return_first)"
   ]
  },
  {
   "cell_type": "code",
   "execution_count": 62,
   "metadata": {},
   "outputs": [],
   "source": [
    "df1['Vendor Contract Expiration Date'] = pd.to_datetime(df1['Vendor Contract Expiration Date'])"
   ]
  },
  {
   "cell_type": "code",
   "execution_count": 63,
   "metadata": {},
   "outputs": [],
   "source": [
    "df1['Vendor Contract Expiration Date'] = df1['Vendor Contract Expiration Date'].dt.date"
   ]
  },
  {
   "cell_type": "markdown",
   "metadata": {},
   "source": [
    "## ADDING TITLES INSTEAD OF NAMES"
   ]
  },
  {
   "cell_type": "code",
   "execution_count": 64,
   "metadata": {},
   "outputs": [
    {
     "data": {
      "text/plain": [
       "Senior Associate                  72\n",
       "Associate                         69\n",
       "Manager                           66\n",
       "Intern                            47\n",
       "Principal                         39\n",
       "                                  ..\n",
       "BRC Manager                        1\n",
       "Wheel Runner                       1\n",
       "Development Marketing Director     1\n",
       "Program Services Manager           1\n",
       "Email Marketing Lead               1\n",
       "Name: Job Title, Length: 112, dtype: int64"
      ]
     },
     "execution_count": 64,
     "metadata": {},
     "output_type": "execute_result"
    }
   ],
   "source": [
    "EmployeeNameandID['Job Title'].value_counts()"
   ]
  },
  {
   "cell_type": "code",
   "execution_count": 65,
   "metadata": {},
   "outputs": [],
   "source": [
    "uniquetitles = EmployeeNameandID['Job Title'].unique()"
   ]
  },
  {
   "cell_type": "code",
   "execution_count": 66,
   "metadata": {},
   "outputs": [],
   "source": [
    "Titleslist = uniquetitles.tolist()"
   ]
  },
  {
   "cell_type": "code",
   "execution_count": 67,
   "metadata": {},
   "outputs": [],
   "source": [
    "def createEmployeeTitlesdf(title, df):\n",
    "    newdf = df[df['Job Title']==title]\n",
    "    newdf.reset_index(drop=True, inplace=True)\n",
    "    newdf['PositionID'] = newdf['Job Title'] + newdf.index.astype(str)    \n",
    "    return newdf.to_dict()"
   ]
  },
  {
   "cell_type": "code",
   "execution_count": 68,
   "metadata": {},
   "outputs": [
    {
     "name": "stderr",
     "output_type": "stream",
     "text": [
      "<ipython-input-67-933c5a1db0ab>:4: SettingWithCopyWarning: \n",
      "A value is trying to be set on a copy of a slice from a DataFrame.\n",
      "Try using .loc[row_indexer,col_indexer] = value instead\n",
      "\n",
      "See the caveats in the documentation: https://pandas.pydata.org/pandas-docs/stable/user_guide/indexing.html#returning-a-view-versus-a-copy\n",
      "  newdf['PositionID'] = newdf['Job Title'] + newdf.index.astype(str)\n"
     ]
    }
   ],
   "source": [
    "DictList = {}\n",
    "\n",
    "for i in range(len(Titleslist)):\n",
    "    newdict = createEmployeeTitlesdf(Titleslist[i], EmployeeNameandID)\n",
    "    DictList[i] = newdict"
   ]
  },
  {
   "cell_type": "code",
   "execution_count": 69,
   "metadata": {},
   "outputs": [],
   "source": [
    "dflist = []\n",
    "\n",
    "for i in range(len(DictList)):\n",
    "    df = pd.DataFrame(DictList[i])\n",
    "    dflist.append(df)"
   ]
  },
  {
   "cell_type": "code",
   "execution_count": 70,
   "metadata": {},
   "outputs": [],
   "source": [
    "finalemployeedf = pd.concat(dflist).reset_index(drop=True)"
   ]
  },
  {
   "cell_type": "code",
   "execution_count": 71,
   "metadata": {},
   "outputs": [],
   "source": [
    "employeelisttomerge = finalemployeedf[['Name', 'PositionID']]"
   ]
  },
  {
   "cell_type": "code",
   "execution_count": 72,
   "metadata": {},
   "outputs": [],
   "source": [
    "#employeelisttomerge.to_excel('listwithposition.xlsx')"
   ]
  },
  {
   "cell_type": "code",
   "execution_count": 73,
   "metadata": {},
   "outputs": [
    {
     "data": {
      "text/plain": [
       "509"
      ]
     },
     "execution_count": 73,
     "metadata": {},
     "output_type": "execute_result"
    }
   ],
   "source": [
    "len(employeelisttomerge)"
   ]
  },
  {
   "cell_type": "code",
   "execution_count": 74,
   "metadata": {},
   "outputs": [],
   "source": [
    "df1 = pd.merge(df1, employeelisttomerge, on = 'Name', how='left')"
   ]
  },
  {
   "cell_type": "code",
   "execution_count": 75,
   "metadata": {},
   "outputs": [
    {
     "name": "stderr",
     "output_type": "stream",
     "text": [
      "c:\\users\\jeremy wendt\\anaconda3\\envs\\code\\detail_trans_project_fy21\\notebooks\\venv\\lib\\site-packages\\pandas\\core\\missing.py:49: FutureWarning: elementwise comparison failed; returning scalar instead, but in the future will perform elementwise comparison\n",
      "  mask = arr == x\n"
     ]
    }
   ],
   "source": [
    "df1['Initiative'].replace('', np.nan, inplace=True)\n",
    "df1['Project'].replace('', np.nan, inplace=True)\n",
    "df1['Grant'].replace('', np.nan, inplace=True)\n",
    "df1['GL Account'].replace('', np.nan, inplace=True)\n",
    "df1['Memo'].replace('', np.nan, inplace=True)\n",
    "df1['Transaction Number'].replace('', np.nan, inplace=True)\n",
    "df1['Vendor Name'].replace('', np.nan, inplace=True)\n",
    "df1['Vendor Rate'].replace('', np.nan, inplace=True)\n",
    "df1['Vendor Contract Expiration Date'].replace('', np.nan, inplace=True)\n",
    "df1['Program'].replace('', np.nan, inplace=True)\n",
    "df1['Project Allocations'].replace('', np.nan, inplace=True)\n",
    "df1['Project Allocations'].replace('e', np.nan, inplace=True)\n",
    "df1['Accounting Adjustments'].replace('To reclass', 'Reclass', inplace=True)\n",
    "df1['Client'].replace('', np.nan, inplace=True)\n",
    "df1['Rollup Account'].replace('', np.nan, inplace=True)"
   ]
  },
  {
   "cell_type": "code",
   "execution_count": 76,
   "metadata": {},
   "outputs": [],
   "source": [
    "df1['Initiative'].fillna(\"na\", inplace=True)\n",
    "df1['Project'].fillna(\"na\", inplace=True)\n",
    "df1['Grant'].fillna(\"No Grant\", inplace=True)\n",
    "df1['GL Account'].fillna(\"na\", inplace=True)\n",
    "df1['Memo'].fillna(\"na\", inplace=True)\n",
    "df1['Transaction Number'].fillna(\"na\", inplace=True)\n",
    "df1['Vendor Name'].fillna(\"na\", inplace=True)\n",
    "df1['Vendor Rate'].fillna(\"na\", inplace=True)\n",
    "df1['Vendor Contract Expiration Date'].fillna(\"na\", inplace=True)\n",
    "df1['Program'].fillna(\"na\", inplace=True)\n",
    "df1['Project Allocations'].fillna(\"Other\", inplace=True)\n",
    "df1['Client'].fillna(\"na\", inplace=True)\n",
    "df1['Rollup Account'].replace(\"New Account\", np.nan, inplace=True)"
   ]
  },
  {
   "cell_type": "markdown",
   "metadata": {},
   "source": [
    "## Add Further Heather Calcs"
   ]
  },
  {
   "cell_type": "code",
   "execution_count": 77,
   "metadata": {},
   "outputs": [],
   "source": [
    "df1['Inst or Reclass'] = df1['Account Digit'] + df1['Accounting Adjustments']"
   ]
  },
  {
   "cell_type": "code",
   "execution_count": 78,
   "metadata": {},
   "outputs": [
    {
     "data": {
      "text/plain": [
       "7           253197\n",
       "8            44622\n",
       "5            22240\n",
       "6             8078\n",
       "7Reclass      4057\n",
       "8Reclass       950\n",
       "5Reclass       141\n",
       "6Reclass         4\n",
       "9                2\n",
       "Name: Inst or Reclass, dtype: Int64"
      ]
     },
     "execution_count": 78,
     "metadata": {},
     "output_type": "execute_result"
    }
   ],
   "source": [
    "df1['Inst or Reclass'].value_counts()"
   ]
  },
  {
   "cell_type": "code",
   "execution_count": 79,
   "metadata": {},
   "outputs": [],
   "source": [
    "df1['Inst or Reclass'] = df1['Inst or Reclass'].map({'7': \"Expense\", '8': \"Institutional Overhead\", '5': \"Revenue\", '6': \"Revenue\", '7Reclass': \"Expense Reclass\", '8Reclass': \"Inst Overhead Reclass\", '5Reclass': \"Revenue Reclass\", '6Reclass': \"Revenue Reclass\"})"
   ]
  },
  {
   "cell_type": "markdown",
   "metadata": {},
   "source": [
    "## Unrestricted Columns Added"
   ]
  },
  {
   "cell_type": "code",
   "execution_count": 80,
   "metadata": {},
   "outputs": [],
   "source": [
    "def return_grant(x):\n",
    "    if x != \"No Grant\":\n",
    "        return \"Yes\"\n",
    "    else: \n",
    "        return \"No\"\n",
    "    \n",
    "    "
   ]
  },
  {
   "cell_type": "code",
   "execution_count": 81,
   "metadata": {},
   "outputs": [],
   "source": [
    "df1['grant?'] = df1['Grant'].apply(return_grant)"
   ]
  },
  {
   "cell_type": "code",
   "execution_count": 82,
   "metadata": {},
   "outputs": [],
   "source": [
    "df1[\"Restricted Revenue\"] = df1['grant?'] + df1['Account Digit']"
   ]
  },
  {
   "cell_type": "code",
   "execution_count": 83,
   "metadata": {},
   "outputs": [],
   "source": [
    "df1[\"Restricted Revenue\"] = df1[\"Restricted Revenue\"].map({'No7': \"No\", 'Yes7': \"Restricted Revenue\", 'No8': \"No\", 'No5': \"No\", 'Yes8': \"Restricted Revenue\", 'Yes6': \"No\", 'No6': \"No\", 'Yes5': \"No\"})"
   ]
  },
  {
   "cell_type": "code",
   "execution_count": 84,
   "metadata": {},
   "outputs": [],
   "source": [
    "df1['Restricted Revenue'] = np.where(df1['Restricted Revenue'] == \"Restricted Revenue\", df1['Amount'], 0)"
   ]
  },
  {
   "cell_type": "code",
   "execution_count": 85,
   "metadata": {},
   "outputs": [],
   "source": [
    "df1[\"Rev or Exp\"] = df1[\"Account Digit\"].map({'6': 'Revenue', '5': 'Revenue', '7': 'Expense', '8': 'Expense'})"
   ]
  },
  {
   "cell_type": "code",
   "execution_count": 86,
   "metadata": {},
   "outputs": [
    {
     "data": {
      "text/plain": [
       "Expense    302826\n",
       "Revenue     30463\n",
       "Name: Rev or Exp, dtype: int64"
      ]
     },
     "execution_count": 86,
     "metadata": {},
     "output_type": "execute_result"
    }
   ],
   "source": [
    "df1[\"Rev or Exp\"].value_counts()"
   ]
  },
  {
   "cell_type": "code",
   "execution_count": 87,
   "metadata": {},
   "outputs": [],
   "source": [
    "df1['Multilateral'] = np.where(df1['Rev or Exp'] == \"Revenue\", df1['Amount'], 0)"
   ]
  },
  {
   "cell_type": "code",
   "execution_count": 88,
   "metadata": {},
   "outputs": [],
   "source": [
    "df1['General Expense'] = np.where(df1['Rev or Exp'] == \"Expense\", df1['Amount'], 0)"
   ]
  },
  {
   "cell_type": "code",
   "execution_count": 89,
   "metadata": {},
   "outputs": [],
   "source": [
    "df1['Unrestricted'] = - df1['Restricted Revenue'] - df1['Multilateral'] + df1['General Expense']"
   ]
  },
  {
   "cell_type": "code",
   "execution_count": 90,
   "metadata": {},
   "outputs": [],
   "source": [
    "df1 = df1.drop('Match ID Names',1)"
   ]
  },
  {
   "cell_type": "markdown",
   "metadata": {},
   "source": [
    "## Build FFS Tables"
   ]
  },
  {
   "cell_type": "code",
   "execution_count": 91,
   "metadata": {},
   "outputs": [],
   "source": [
    "df1['Project3YrRev'] = df1.groupby(['Project','Rev or Exp'])['Amount'].transform('sum')\n",
    "\n",
    "dfrevenuetable = df1[['Project', 'Project3YrRev','Rev or Exp']]\n",
    "\n",
    "dfrevenuetable = dfrevenuetable[dfrevenuetable['Rev or Exp']=='Revenue']\n",
    "\n",
    "initiative_program_table = df1[['Program', 'Initiative', 'Project']]\n",
    "\n",
    "initiative_program_table = initiative_program_table.drop_duplicates()"
   ]
  },
  {
   "cell_type": "code",
   "execution_count": 92,
   "metadata": {},
   "outputs": [],
   "source": [
    "dfFFSData = dfFFSData.rename(columns={'Name':'Project'})\n",
    "dfFFSIncludingDeferred = dfFFSIncludingDeferred.rename(columns={'Sum of Total Revenue Recognized':'Total Revenue Recognized'})"
   ]
  },
  {
   "cell_type": "code",
   "execution_count": 93,
   "metadata": {},
   "outputs": [],
   "source": [
    "dfFFSData = pd.merge(dfFFSData, dfFFSIncludingDeferred, on = 'Project', how='left')\n"
   ]
  },
  {
   "cell_type": "code",
   "execution_count": 94,
   "metadata": {},
   "outputs": [],
   "source": [
    "dfFFSData['Total Revenue Recognized'].replace('', np.nan, inplace=True)\n",
    "dfFFSData['Total Revenue Recognized'].fillna(0, inplace=True)\n",
    "dfFFSData['Reimbursables NTE'].replace('', np.nan, inplace=True)\n",
    "dfFFSData['Reimbursables NTE'].fillna(0, inplace=True)\n",
    "dfFFSData['Contract Amount'].replace('', np.nan, inplace=True)\n",
    "dfFFSData['Contract Amount'].fillna(0, inplace=True)\n",
    "dfFFSData['Remaining Contract Balance'].replace('', np.nan, inplace=True)\n",
    "dfFFSData['Remaining Contract Balance'].fillna(0, inplace=True)"
   ]
  },
  {
   "cell_type": "code",
   "execution_count": 95,
   "metadata": {},
   "outputs": [],
   "source": [
    "dfFFSData['Contract Amount'] = dfFFSData['Contract Amount'].astype(float)\n",
    "dfFFSData['Total Revenue Recognized'] = dfFFSData['Total Revenue Recognized'].astype(float)\n",
    "dfFFSData['Reimbursables NTE'] = dfFFSData['Reimbursables NTE'].astype(float)\n",
    "dfFFSData['Reimbursables Actual'] = dfFFSData['Reimbursables Actual'].astype(float)"
   ]
  },
  {
   "cell_type": "code",
   "execution_count": 96,
   "metadata": {},
   "outputs": [],
   "source": [
    "dfFFSData['Remaining Revenue'] = dfFFSData['Contract Amount'] + dfFFSData['Reimbursables NTE'] - dfFFSData['Total Revenue Recognized']"
   ]
  },
  {
   "cell_type": "code",
   "execution_count": 97,
   "metadata": {},
   "outputs": [],
   "source": [
    "dfFFSData.loc[dfFFSData['Remaining Revenue'] <= 0, 'Remaining Revenue'] = \"NA\"\n",
    "dfFFSData.loc[dfFFSData['Contract Amount'] <= 0, 'Contract Amount'] = \"NA\""
   ]
  },
  {
   "cell_type": "code",
   "execution_count": 98,
   "metadata": {},
   "outputs": [],
   "source": [
    "dfFFSData['Contract Start Date'] = pd.to_datetime(dfFFSData['Contract Start Date']).dt.strftime(\"%m/%d/%Y\")\n",
    "dfFFSData['Contract End Date'] = pd.to_datetime(dfFFSData['Contract End Date']).dt.strftime(\"%m/%d/%Y\")"
   ]
  },
  {
   "cell_type": "code",
   "execution_count": 99,
   "metadata": {},
   "outputs": [
    {
     "data": {
      "text/html": [
       "<div>\n",
       "<style scoped>\n",
       "    .dataframe tbody tr th:only-of-type {\n",
       "        vertical-align: middle;\n",
       "    }\n",
       "\n",
       "    .dataframe tbody tr th {\n",
       "        vertical-align: top;\n",
       "    }\n",
       "\n",
       "    .dataframe thead th {\n",
       "        text-align: right;\n",
       "    }\n",
       "</style>\n",
       "<table border=\"1\" class=\"dataframe\">\n",
       "  <thead>\n",
       "    <tr style=\"text-align: right;\">\n",
       "      <th></th>\n",
       "      <th>Project</th>\n",
       "      <th>Project Type</th>\n",
       "      <th>Contract?</th>\n",
       "      <th>Contract Start Date</th>\n",
       "      <th>Contract End Date</th>\n",
       "      <th>Invoice Type</th>\n",
       "      <th>Invoicing Notes</th>\n",
       "      <th>Current Month Action</th>\n",
       "      <th>Revenue Recognition Notes</th>\n",
       "      <th>Contract Amount</th>\n",
       "      <th>Project Invoicing Actual</th>\n",
       "      <th>Reimbursables NTE</th>\n",
       "      <th>Reimbursables Actual</th>\n",
       "      <th>Remaining Contract Balance</th>\n",
       "      <th>Total Revenue Recognized</th>\n",
       "      <th>Remaining Revenue</th>\n",
       "    </tr>\n",
       "  </thead>\n",
       "  <tbody>\n",
       "    <tr>\n",
       "      <th>0</th>\n",
       "      <td>Nebraska Conservation Voters (NECV) : Nebraska...</td>\n",
       "      <td>FFS</td>\n",
       "      <td>Yes</td>\n",
       "      <td>12/03/2020</td>\n",
       "      <td>NaN</td>\n",
       "      <td>Fixed fee</td>\n",
       "      <td>Invoice 25% upfront and remainder on completion</td>\n",
       "      <td>1901 sent to Kristine 2/17, 25%, Kristine sent...</td>\n",
       "      <td>Point in time; Note no revenue has been recogn...</td>\n",
       "      <td>10500</td>\n",
       "      <td>2625.00</td>\n",
       "      <td>0.0</td>\n",
       "      <td>0.00</td>\n",
       "      <td>7875.00</td>\n",
       "      <td>0.000000e+00</td>\n",
       "      <td>10500</td>\n",
       "    </tr>\n",
       "    <tr>\n",
       "      <th>1</th>\n",
       "      <td>NREL : NREL - Islands Playbook 2.0 (FFS)</td>\n",
       "      <td>FFS</td>\n",
       "      <td>No</td>\n",
       "      <td>NaN</td>\n",
       "      <td>NaN</td>\n",
       "      <td>- None -</td>\n",
       "      <td>3/5 no contract yet per Shelley, Note first $4...</td>\n",
       "      <td>- None -</td>\n",
       "      <td>- None -</td>\n",
       "      <td>NA</td>\n",
       "      <td>4000.00</td>\n",
       "      <td>0.0</td>\n",
       "      <td>0.00</td>\n",
       "      <td>0</td>\n",
       "      <td>4.000000e+03</td>\n",
       "      <td>NA</td>\n",
       "    </tr>\n",
       "    <tr>\n",
       "      <th>2</th>\n",
       "      <td>Breitling SA : Breitling LCA</td>\n",
       "      <td>FFS</td>\n",
       "      <td>Yes</td>\n",
       "      <td>11/16/2020</td>\n",
       "      <td>NaN</td>\n",
       "      <td>Fixed fee plus reimbursables</td>\n",
       "      <td>Invoice in full when work is complete (likely ...</td>\n",
       "      <td>1896 sent to client 2/9, ready to invoice Feb ...</td>\n",
       "      <td>Point in time</td>\n",
       "      <td>24080</td>\n",
       "      <td>4016.00</td>\n",
       "      <td>0.0</td>\n",
       "      <td>0.00</td>\n",
       "      <td>20064.00</td>\n",
       "      <td>4.016000e+03</td>\n",
       "      <td>20064</td>\n",
       "    </tr>\n",
       "    <tr>\n",
       "      <th>3</th>\n",
       "      <td>Connecticut Public Utilities Regulatory Author...</td>\n",
       "      <td>FFS</td>\n",
       "      <td>Yes</td>\n",
       "      <td>12/07/2020</td>\n",
       "      <td>12/31/2021</td>\n",
       "      <td>Hourly plus reimbursables</td>\n",
       "      <td>Per person - include Phase, task, person name,...</td>\n",
       "      <td>3/5 1939 sent to client, sent 1821 to client 2/9</td>\n",
       "      <td>Over time</td>\n",
       "      <td>200000</td>\n",
       "      <td>10161.75</td>\n",
       "      <td>0.0</td>\n",
       "      <td>0.00</td>\n",
       "      <td>189838.25</td>\n",
       "      <td>1.016175e+04</td>\n",
       "      <td>189838</td>\n",
       "    </tr>\n",
       "    <tr>\n",
       "      <th>4</th>\n",
       "      <td>Apple, Inc. : Apple Supply Chain EE Finance</td>\n",
       "      <td>FFS</td>\n",
       "      <td>No</td>\n",
       "      <td>NaN</td>\n",
       "      <td>NaN</td>\n",
       "      <td>Hourly</td>\n",
       "      <td>BPO 6000487884 dated 12/14/20, delivery deadli...</td>\n",
       "      <td>- None -</td>\n",
       "      <td>Over time</td>\n",
       "      <td>NA</td>\n",
       "      <td>13985.00</td>\n",
       "      <td>0.0</td>\n",
       "      <td>0.00</td>\n",
       "      <td>0</td>\n",
       "      <td>1.398500e+04</td>\n",
       "      <td>NA</td>\n",
       "    </tr>\n",
       "    <tr>\n",
       "      <th>5</th>\n",
       "      <td>European Climate Foundation : GCoM/ECF: Case S...</td>\n",
       "      <td>FFS</td>\n",
       "      <td>Yes</td>\n",
       "      <td>01/01/2021</td>\n",
       "      <td>07/31/2021</td>\n",
       "      <td>Fixed fee</td>\n",
       "      <td>Contract in EUR; 25,000 EUR converted to USD i...</td>\n",
       "      <td>First invoice generated as an SO prior to cont...</td>\n",
       "      <td>Point in time; first invoice for 12,500 EUR is...</td>\n",
       "      <td>30374.7</td>\n",
       "      <td>14141.25</td>\n",
       "      <td>0.0</td>\n",
       "      <td>0.00</td>\n",
       "      <td>16233.40</td>\n",
       "      <td>0.000000e+00</td>\n",
       "      <td>30374.7</td>\n",
       "    </tr>\n",
       "    <tr>\n",
       "      <th>6</th>\n",
       "      <td>NACFE : Run on Less - Electric</td>\n",
       "      <td>FFS</td>\n",
       "      <td>Yes</td>\n",
       "      <td>01/01/2021</td>\n",
       "      <td>12/31/2021</td>\n",
       "      <td>Hourly plus reimbursables</td>\n",
       "      <td>Invoice actual monthly expenses, no budget</td>\n",
       "      <td>1955 sent to client 3/10, 1899 sent to Mike/cl...</td>\n",
       "      <td>Over time</td>\n",
       "      <td>NA</td>\n",
       "      <td>15114.38</td>\n",
       "      <td>0.0</td>\n",
       "      <td>0.00</td>\n",
       "      <td>0</td>\n",
       "      <td>1.511438e+04</td>\n",
       "      <td>NA</td>\n",
       "    </tr>\n",
       "    <tr>\n",
       "      <th>7</th>\n",
       "      <td>Association for Energy Affordability : REALIZE...</td>\n",
       "      <td>State</td>\n",
       "      <td>Yes</td>\n",
       "      <td>06/30/2020</td>\n",
       "      <td>03/31/2024</td>\n",
       "      <td>Hourly plus reimbursables</td>\n",
       "      <td>Invoices to record revenue only, see ML/BL/GOV...</td>\n",
       "      <td>1962 in March for Feb work started 3/12, Feb 1...</td>\n",
       "      <td>Over time</td>\n",
       "      <td>172658</td>\n",
       "      <td>15177.76</td>\n",
       "      <td>0.0</td>\n",
       "      <td>0.00</td>\n",
       "      <td>157480.24</td>\n",
       "      <td>1.517776e+04</td>\n",
       "      <td>157480</td>\n",
       "    </tr>\n",
       "    <tr>\n",
       "      <th>8</th>\n",
       "      <td>3Degrees : 3D Utility Product Strategy</td>\n",
       "      <td>FFS</td>\n",
       "      <td>Yes</td>\n",
       "      <td>12/04/2020</td>\n",
       "      <td>06/30/2021</td>\n",
       "      <td>Fixed fee</td>\n",
       "      <td>Fixed fee amount when deliverable is met</td>\n",
       "      <td>1932 sent to client 3/3, 1905 sent to Client 2...</td>\n",
       "      <td>Over time</td>\n",
       "      <td>78116</td>\n",
       "      <td>15500.00</td>\n",
       "      <td>0.0</td>\n",
       "      <td>0.00</td>\n",
       "      <td>62616.00</td>\n",
       "      <td>1.550000e+04</td>\n",
       "      <td>62616</td>\n",
       "    </tr>\n",
       "    <tr>\n",
       "      <th>9</th>\n",
       "      <td>Voloridge Investment Management, LLC : Volorid...</td>\n",
       "      <td>FFS</td>\n",
       "      <td>Yes</td>\n",
       "      <td>06/02/2019</td>\n",
       "      <td>NaN</td>\n",
       "      <td>Hourly</td>\n",
       "      <td>10/20 confirming how/when to invoice- idea is ...</td>\n",
       "      <td>Not in Feb/Jan (no change from Dec), Not in Oc...</td>\n",
       "      <td>Over time</td>\n",
       "      <td>41000</td>\n",
       "      <td>16000.00</td>\n",
       "      <td>0.0</td>\n",
       "      <td>0.00</td>\n",
       "      <td>25000.00</td>\n",
       "      <td>1.600000e+04</td>\n",
       "      <td>25000</td>\n",
       "    </tr>\n",
       "    <tr>\n",
       "      <th>10</th>\n",
       "      <td>Inter-American Development Bank : Renewable En...</td>\n",
       "      <td>Multilateral</td>\n",
       "      <td>Yes</td>\n",
       "      <td>07/17/2020</td>\n",
       "      <td>02/26/2021</td>\n",
       "      <td>Fixed fee</td>\n",
       "      <td>3/5 Per Callie/Shelley 2nd invoice ($26,448) a...</td>\n",
       "      <td>1991 sent to client 3/30 2/9 no direction recd...</td>\n",
       "      <td>Point in time</td>\n",
       "      <td>88160</td>\n",
       "      <td>17632.00</td>\n",
       "      <td>0.0</td>\n",
       "      <td>0.00</td>\n",
       "      <td>70528.00</td>\n",
       "      <td>1.763200e+04</td>\n",
       "      <td>70528</td>\n",
       "    </tr>\n",
       "    <tr>\n",
       "      <th>11</th>\n",
       "      <td>John Bucksbaum : Bucksbaum Residence</td>\n",
       "      <td>FFS</td>\n",
       "      <td>Yes</td>\n",
       "      <td>04/15/2018</td>\n",
       "      <td>12/15/2020</td>\n",
       "      <td>Hourly plus reimbursables</td>\n",
       "      <td>Invoice quarterly, no T&amp;E since July 2019</td>\n",
       "      <td>not in Feb/Jan, 1836 sent to client 1/6</td>\n",
       "      <td>Over time</td>\n",
       "      <td>40000</td>\n",
       "      <td>19680.00</td>\n",
       "      <td>0.0</td>\n",
       "      <td>771.49</td>\n",
       "      <td>19548.51</td>\n",
       "      <td>2.045149e+04</td>\n",
       "      <td>19548.5</td>\n",
       "    </tr>\n",
       "    <tr>\n",
       "      <th>12</th>\n",
       "      <td>Guyana Power &amp; Light Inc : Guyana Power &amp; Ligh...</td>\n",
       "      <td>FFS</td>\n",
       "      <td>Yes</td>\n",
       "      <td>02/20/2019</td>\n",
       "      <td>06/30/2021</td>\n",
       "      <td>Fixed fee plus reimbursables</td>\n",
       "      <td>3/5 ​Waiting on a PO from Guyana, Invoice for ...</td>\n",
       "      <td>2/4 Not in Jan, Dec, 1/12 Owen is following up...</td>\n",
       "      <td>Over time</td>\n",
       "      <td>71500</td>\n",
       "      <td>20829.00</td>\n",
       "      <td>0.0</td>\n",
       "      <td>4952.00</td>\n",
       "      <td>45719.00</td>\n",
       "      <td>2.578100e+04</td>\n",
       "      <td>45719</td>\n",
       "    </tr>\n",
       "    <tr>\n",
       "      <th>13</th>\n",
       "      <td>Logistics Management Institute : GSA Guide and...</td>\n",
       "      <td>FFS</td>\n",
       "      <td>Yes</td>\n",
       "      <td>09/20/2020</td>\n",
       "      <td>09/19/2021</td>\n",
       "      <td>Hourly</td>\n",
       "      <td>Mod 5 only, RMIers enter time in LMI system an...</td>\n",
       "      <td>generated 1925, 1926, 1927, 1928, 1929 Dec Jan...</td>\n",
       "      <td>Over time</td>\n",
       "      <td>74902.8</td>\n",
       "      <td>21821.68</td>\n",
       "      <td>0.0</td>\n",
       "      <td>0.00</td>\n",
       "      <td>53081.09</td>\n",
       "      <td>2.182168e+04</td>\n",
       "      <td>53081.1</td>\n",
       "    </tr>\n",
       "    <tr>\n",
       "      <th>14</th>\n",
       "      <td>Helen Frankenthaler Foundation : HFF- Helen Fr...</td>\n",
       "      <td>FFS</td>\n",
       "      <td>Yes</td>\n",
       "      <td>10/19/2020</td>\n",
       "      <td>09/30/2021</td>\n",
       "      <td>Fixed fee</td>\n",
       "      <td>New contract Jan 2021, recd 1st payment 1/11 w...</td>\n",
       "      <td>possible invoice 3/31 or in April for next del...</td>\n",
       "      <td>Point in time; Note no revenue has been recogn...</td>\n",
       "      <td>75000</td>\n",
       "      <td>25000.00</td>\n",
       "      <td>0.0</td>\n",
       "      <td>0.00</td>\n",
       "      <td>50000.00</td>\n",
       "      <td>0.000000e+00</td>\n",
       "      <td>75000</td>\n",
       "    </tr>\n",
       "    <tr>\n",
       "      <th>15</th>\n",
       "      <td>Michigan Department of Environment, Great Lake...</td>\n",
       "      <td>Federal</td>\n",
       "      <td>Yes</td>\n",
       "      <td>11/05/2020</td>\n",
       "      <td>08/31/2021</td>\n",
       "      <td>Hourly plus reimbursables</td>\n",
       "      <td>First invoice in Jan 2021</td>\n",
       "      <td>1863 sent to client by Anna Sophia 2/1</td>\n",
       "      <td>Over time; Revenue 80% Federal, 20% State</td>\n",
       "      <td>105000</td>\n",
       "      <td>25407.13</td>\n",
       "      <td>0.0</td>\n",
       "      <td>0.00</td>\n",
       "      <td>79592.87</td>\n",
       "      <td>2.540713e+04</td>\n",
       "      <td>79592.9</td>\n",
       "    </tr>\n",
       "    <tr>\n",
       "      <th>16</th>\n",
       "      <td>Secunda Family Foundation : USVI St. John Micr...</td>\n",
       "      <td>FFS</td>\n",
       "      <td>Yes</td>\n",
       "      <td>06/01/2019</td>\n",
       "      <td>06/30/2021</td>\n",
       "      <td>Hourly plus reimbursables</td>\n",
       "      <td>3/5 agreed to do a bi-monthly invoice per Shel...</td>\n",
       "      <td>3/5 next invoice 3/31, 1887 sent to client 2/9</td>\n",
       "      <td>Over time</td>\n",
       "      <td>165000</td>\n",
       "      <td>28124.00</td>\n",
       "      <td>0.0</td>\n",
       "      <td>88159.00</td>\n",
       "      <td>48717.00</td>\n",
       "      <td>1.162830e+05</td>\n",
       "      <td>48717</td>\n",
       "    </tr>\n",
       "    <tr>\n",
       "      <th>17</th>\n",
       "      <td>New Buildings Institute : NYSERDA CNBR Writing...</td>\n",
       "      <td>FFS</td>\n",
       "      <td>Yes</td>\n",
       "      <td>05/27/2020</td>\n",
       "      <td>01/31/2021</td>\n",
       "      <td>Hourly plus reimbursables</td>\n",
       "      <td>We booked two invoices for this project under ...</td>\n",
       "      <td>11/5 Per Cara, on hold until Jan/Feb, invoice ...</td>\n",
       "      <td>Over time</td>\n",
       "      <td>127488</td>\n",
       "      <td>29401.00</td>\n",
       "      <td>0.0</td>\n",
       "      <td>0.00</td>\n",
       "      <td>98087.00</td>\n",
       "      <td>7.464050e+04</td>\n",
       "      <td>52847.5</td>\n",
       "    </tr>\n",
       "    <tr>\n",
       "      <th>18</th>\n",
       "      <td>United Nations : Implementation of the Malawi ...</td>\n",
       "      <td>Multilateral</td>\n",
       "      <td>No</td>\n",
       "      <td>NaN</td>\n",
       "      <td>NaN</td>\n",
       "      <td>Fixed fee</td>\n",
       "      <td>3/5 per Callie/Shelley where is 1st interim re...</td>\n",
       "      <td>3/5 not yet for Feb., 1/13 per Shelley, may in...</td>\n",
       "      <td>Point in time</td>\n",
       "      <td>89846</td>\n",
       "      <td>30000.00</td>\n",
       "      <td>0.0</td>\n",
       "      <td>0.00</td>\n",
       "      <td>59846.00</td>\n",
       "      <td>3.000000e+04</td>\n",
       "      <td>59846</td>\n",
       "    </tr>\n",
       "    <tr>\n",
       "      <th>19</th>\n",
       "      <td>NREL : NREL - Smart Communities v2</td>\n",
       "      <td>FFS</td>\n",
       "      <td>Yes</td>\n",
       "      <td>NaN</td>\n",
       "      <td>03/31/2021</td>\n",
       "      <td>Hourly plus reimbursables</td>\n",
       "      <td>see Smart Comm email for format to use. requir...</td>\n",
       "      <td>1936 sent to seth/victor 3/5, 1894 sent to cli...</td>\n",
       "      <td>Over time</td>\n",
       "      <td>59975</td>\n",
       "      <td>31359.00</td>\n",
       "      <td>0.0</td>\n",
       "      <td>0.00</td>\n",
       "      <td>28616.00</td>\n",
       "      <td>3.135900e+04</td>\n",
       "      <td>28616</td>\n",
       "    </tr>\n",
       "    <tr>\n",
       "      <th>20</th>\n",
       "      <td>Modern West Properties, LLC : Modern West Grid...</td>\n",
       "      <td>FFS</td>\n",
       "      <td>Yes</td>\n",
       "      <td>06/17/2019</td>\n",
       "      <td>NaN</td>\n",
       "      <td>Hourly plus reimbursables</td>\n",
       "      <td>- None -</td>\n",
       "      <td>1935 sent to client 3/10, 1895 sent to client 2/9</td>\n",
       "      <td>Over time</td>\n",
       "      <td>100000</td>\n",
       "      <td>34897.75</td>\n",
       "      <td>0.0</td>\n",
       "      <td>0.00</td>\n",
       "      <td>65102.25</td>\n",
       "      <td>3.489775e+04</td>\n",
       "      <td>65102.2</td>\n",
       "    </tr>\n",
       "    <tr>\n",
       "      <th>21</th>\n",
       "      <td>New Buildings Institute : BER (Building Electr...</td>\n",
       "      <td>FFS</td>\n",
       "      <td>Yes</td>\n",
       "      <td>02/11/2021</td>\n",
       "      <td>12/31/2021</td>\n",
       "      <td>Hourly plus reimbursables</td>\n",
       "      <td>see 1942 for totals to add to invoice, update ...</td>\n",
       "      <td>sent 1942 to client 3/10</td>\n",
       "      <td>Over time; we had a preagreement letter that a...</td>\n",
       "      <td>136844</td>\n",
       "      <td>37174.50</td>\n",
       "      <td>0.0</td>\n",
       "      <td>0.00</td>\n",
       "      <td>99669.50</td>\n",
       "      <td>3.717450e+04</td>\n",
       "      <td>99669.5</td>\n",
       "    </tr>\n",
       "    <tr>\n",
       "      <th>22</th>\n",
       "      <td>Nevada Public Utilities Commission : Nevada PB...</td>\n",
       "      <td>FFS</td>\n",
       "      <td>Yes</td>\n",
       "      <td>03/16/2020</td>\n",
       "      <td>06/01/2021</td>\n",
       "      <td>Hourly plus reimbursables</td>\n",
       "      <td>Amendment recd Increase $25K, project st ends ...</td>\n",
       "      <td>- None -</td>\n",
       "      <td>Over time</td>\n",
       "      <td>114000</td>\n",
       "      <td>39656.00</td>\n",
       "      <td>0.0</td>\n",
       "      <td>49343.58</td>\n",
       "      <td>25000.42</td>\n",
       "      <td>8.899958e+04</td>\n",
       "      <td>25000.4</td>\n",
       "    </tr>\n",
       "    <tr>\n",
       "      <th>23</th>\n",
       "      <td>Department of Energy (DOE) : REALIZE - EE00090...</td>\n",
       "      <td>Federal</td>\n",
       "      <td>Yes</td>\n",
       "      <td>07/01/2020</td>\n",
       "      <td>01/31/2022</td>\n",
       "      <td>Hourly plus reimbursables</td>\n",
       "      <td>Quarterly, next after March, Invoice quarterly...</td>\n",
       "      <td>1861 sent to Callie 1/28</td>\n",
       "      <td>Over time</td>\n",
       "      <td>475000</td>\n",
       "      <td>41466.40</td>\n",
       "      <td>0.0</td>\n",
       "      <td>75781.10</td>\n",
       "      <td>357752.50</td>\n",
       "      <td>1.172475e+05</td>\n",
       "      <td>357752</td>\n",
       "    </tr>\n",
       "    <tr>\n",
       "      <th>24</th>\n",
       "      <td>California Energy Commission (CEC) : REALIZE C...</td>\n",
       "      <td>State</td>\n",
       "      <td>Yes</td>\n",
       "      <td>06/30/2020</td>\n",
       "      <td>03/31/2024</td>\n",
       "      <td>Hourly plus reimbursables</td>\n",
       "      <td>Invoices to record revenue only, see ML/BL/GOV...</td>\n",
       "      <td>1961 in March for Feb work started 3/12, Feb 1...</td>\n",
       "      <td>Over time</td>\n",
       "      <td>1.91797e+06</td>\n",
       "      <td>42521.71</td>\n",
       "      <td>0.0</td>\n",
       "      <td>89559.01</td>\n",
       "      <td>1785886.28</td>\n",
       "      <td>1.320807e+05</td>\n",
       "      <td>1.78589e+06</td>\n",
       "    </tr>\n",
       "    <tr>\n",
       "      <th>25</th>\n",
       "      <td>Oregon Dept. of Transportation : ODOT TE Syste...</td>\n",
       "      <td>FFS</td>\n",
       "      <td>Yes</td>\n",
       "      <td>08/28/2020</td>\n",
       "      <td>04/22/2021</td>\n",
       "      <td>Hourly</td>\n",
       "      <td>3/2 asked Per Lynn waiting on paperwork, 2/11 ...</td>\n",
       "      <td>not in Feb, 1893 sent to client 2/11</td>\n",
       "      <td>Over time</td>\n",
       "      <td>48761</td>\n",
       "      <td>48761.00</td>\n",
       "      <td>0.0</td>\n",
       "      <td>0.00</td>\n",
       "      <td>.00</td>\n",
       "      <td>4.876100e+04</td>\n",
       "      <td>NA</td>\n",
       "    </tr>\n",
       "    <tr>\n",
       "      <th>26</th>\n",
       "      <td>WattTime : WattTime - Great Lakes Protection Fund</td>\n",
       "      <td>FFS</td>\n",
       "      <td>Yes</td>\n",
       "      <td>07/11/2019</td>\n",
       "      <td>NaN</td>\n",
       "      <td>Fixed fee</td>\n",
       "      <td>We are billing the client $25k three times the...</td>\n",
       "      <td>- None -</td>\n",
       "      <td>Point in time</td>\n",
       "      <td>75000</td>\n",
       "      <td>50000.00</td>\n",
       "      <td>0.0</td>\n",
       "      <td>0.00</td>\n",
       "      <td>25000.00</td>\n",
       "      <td>5.000000e+04</td>\n",
       "      <td>25000</td>\n",
       "    </tr>\n",
       "    <tr>\n",
       "      <th>27</th>\n",
       "      <td>Factor[e] : Electric Vehicle &amp; Minigrid Econom...</td>\n",
       "      <td>FFS</td>\n",
       "      <td>Yes</td>\n",
       "      <td>03/01/2019</td>\n",
       "      <td>03/01/2020</td>\n",
       "      <td>Fixed fee</td>\n",
       "      <td>Waiting for Nigeria to come back from Covid, t...</td>\n",
       "      <td>Next invoice Mar 21, SO's</td>\n",
       "      <td>Point in time</td>\n",
       "      <td>90000</td>\n",
       "      <td>60000.00</td>\n",
       "      <td>0.0</td>\n",
       "      <td>0.00</td>\n",
       "      <td>30000.00</td>\n",
       "      <td>6.000000e+04</td>\n",
       "      <td>30000</td>\n",
       "    </tr>\n",
       "    <tr>\n",
       "      <th>28</th>\n",
       "      <td>ClimateWorks Foundation : ClimateWorks/KCEP: S...</td>\n",
       "      <td>FFS</td>\n",
       "      <td>Yes</td>\n",
       "      <td>11/01/2020</td>\n",
       "      <td>06/30/2021</td>\n",
       "      <td>Fixed fee</td>\n",
       "      <td>- None -</td>\n",
       "      <td>- None -</td>\n",
       "      <td>Over time; although this is fixed fee, all del...</td>\n",
       "      <td>80000</td>\n",
       "      <td>60000.00</td>\n",
       "      <td>0.0</td>\n",
       "      <td>0.00</td>\n",
       "      <td>20000.00</td>\n",
       "      <td>0.000000e+00</td>\n",
       "      <td>80000</td>\n",
       "    </tr>\n",
       "    <tr>\n",
       "      <th>29</th>\n",
       "      <td>The Estee Lauder Companies Inc. Global Corpora...</td>\n",
       "      <td>FFS</td>\n",
       "      <td>Yes</td>\n",
       "      <td>11/16/2018</td>\n",
       "      <td>12/31/2021</td>\n",
       "      <td>Hourly</td>\n",
       "      <td>3/23/21 recd amendment - same PO, 11/10 discov...</td>\n",
       "      <td>SO548 &amp; SO543 re-sent to Mark 3/23, SO535 Dec ...</td>\n",
       "      <td>Over time</td>\n",
       "      <td>90000</td>\n",
       "      <td>69157.50</td>\n",
       "      <td>0.0</td>\n",
       "      <td>2136.00</td>\n",
       "      <td>18706.50</td>\n",
       "      <td>7.129350e+04</td>\n",
       "      <td>18706.5</td>\n",
       "    </tr>\n",
       "    <tr>\n",
       "      <th>30</th>\n",
       "      <td>NYSERDA : NYSERDA  Empire Building Challenge a...</td>\n",
       "      <td>FFS</td>\n",
       "      <td>Yes</td>\n",
       "      <td>08/11/2020</td>\n",
       "      <td>NaN</td>\n",
       "      <td>Hourly plus reimbursables</td>\n",
       "      <td>Agreement 140390, PO 153555, TWO 4, 1/31/21 NY...</td>\n",
       "      <td>- None -</td>\n",
       "      <td>Over time</td>\n",
       "      <td>179007</td>\n",
       "      <td>71472.75</td>\n",
       "      <td>0.0</td>\n",
       "      <td>73666.25</td>\n",
       "      <td>33868.00</td>\n",
       "      <td>1.451390e+05</td>\n",
       "      <td>33868</td>\n",
       "    </tr>\n",
       "    <tr>\n",
       "      <th>31</th>\n",
       "      <td>Bahamas Power and Light : Bahamas Power and Li...</td>\n",
       "      <td>FFS</td>\n",
       "      <td>Yes</td>\n",
       "      <td>04/01/2019</td>\n",
       "      <td>12/31/2020</td>\n",
       "      <td>Fixed fee</td>\n",
       "      <td>3/5 Per Shelley - Will check with Chris - shou...</td>\n",
       "      <td>Project stalled till after Covid</td>\n",
       "      <td>Over time; although this is fixed fee, we were...</td>\n",
       "      <td>217650</td>\n",
       "      <td>77712.50</td>\n",
       "      <td>0.0</td>\n",
       "      <td>0.00</td>\n",
       "      <td>139937.50</td>\n",
       "      <td>8.071250e+04</td>\n",
       "      <td>136938</td>\n",
       "    </tr>\n",
       "    <tr>\n",
       "      <th>32</th>\n",
       "      <td>Oregon Dept. of Transportation : OR TEINA</td>\n",
       "      <td>FFS</td>\n",
       "      <td>Yes</td>\n",
       "      <td>11/10/2020</td>\n",
       "      <td>01/30/2022</td>\n",
       "      <td>Hourly</td>\n",
       "      <td>Monthly invoice</td>\n",
       "      <td>1940 sent to Client 3/5, 2/9 sent invoice 1892...</td>\n",
       "      <td>Over time</td>\n",
       "      <td>161302</td>\n",
       "      <td>78116.00</td>\n",
       "      <td>0.0</td>\n",
       "      <td>0.00</td>\n",
       "      <td>83186.00</td>\n",
       "      <td>7.811600e+04</td>\n",
       "      <td>83186</td>\n",
       "    </tr>\n",
       "    <tr>\n",
       "      <th>33</th>\n",
       "      <td>State of New Jersey : NJ Transit eBus Workshop...</td>\n",
       "      <td>FFS</td>\n",
       "      <td>Yes</td>\n",
       "      <td>11/08/2019</td>\n",
       "      <td>NaN</td>\n",
       "      <td>Fixed fee plus reimbursables</td>\n",
       "      <td>recd new contract in Feb 2021, Contract 20-029...</td>\n",
       "      <td>3/4 Chuck will LMK if Feb invoice, SO526 sent ...</td>\n",
       "      <td>Over time</td>\n",
       "      <td>137021</td>\n",
       "      <td>127054.60</td>\n",
       "      <td>5900.0</td>\n",
       "      <td>8865.26</td>\n",
       "      <td>7001.14</td>\n",
       "      <td>1.359199e+05</td>\n",
       "      <td>7001.14</td>\n",
       "    </tr>\n",
       "    <tr>\n",
       "      <th>34</th>\n",
       "      <td>Loughborough University : Modern Energy Cookin...</td>\n",
       "      <td>Multilateral</td>\n",
       "      <td>Yes</td>\n",
       "      <td>06/01/2020</td>\n",
       "      <td>09/30/2023</td>\n",
       "      <td>Fixed fee</td>\n",
       "      <td>3/5 Per Callie, working through some things wi...</td>\n",
       "      <td>not in Feb</td>\n",
       "      <td>Point in time; note revenue recognized is only...</td>\n",
       "      <td>188213</td>\n",
       "      <td>138492.00</td>\n",
       "      <td>0.0</td>\n",
       "      <td>0.00</td>\n",
       "      <td>49720.80</td>\n",
       "      <td>1.138526e+05</td>\n",
       "      <td>74360.2</td>\n",
       "    </tr>\n",
       "    <tr>\n",
       "      <th>35</th>\n",
       "      <td>SNAM : Green Hydrogen Catapult</td>\n",
       "      <td>FFS</td>\n",
       "      <td>No</td>\n",
       "      <td>NaN</td>\n",
       "      <td>NaN</td>\n",
       "      <td>Fixed fee</td>\n",
       "      <td>7 different clients are paying for the same bo...</td>\n",
       "      <td>1949-1953 sent to Kieran 3/9.</td>\n",
       "      <td>Point in time</td>\n",
       "      <td>150000</td>\n",
       "      <td>150000.00</td>\n",
       "      <td>0.0</td>\n",
       "      <td>0.00</td>\n",
       "      <td>.00</td>\n",
       "      <td>1.500000e+05</td>\n",
       "      <td>NA</td>\n",
       "    </tr>\n",
       "    <tr>\n",
       "      <th>36</th>\n",
       "      <td>NACFE : Guiding Futures CBEV 2021</td>\n",
       "      <td>FFS</td>\n",
       "      <td>Yes</td>\n",
       "      <td>02/01/2020</td>\n",
       "      <td>12/31/2021</td>\n",
       "      <td>Fixed fee</td>\n",
       "      <td>$14K/month for 2021; NS balance remaining is o...</td>\n",
       "      <td>1954 sent to client 3/10, 1897 sent to Mike/Cl...</td>\n",
       "      <td>Over time; although this is fixed fee, we're i...</td>\n",
       "      <td>296337</td>\n",
       "      <td>151937.00</td>\n",
       "      <td>0.0</td>\n",
       "      <td>0.00</td>\n",
       "      <td>144400.00</td>\n",
       "      <td>1.519370e+05</td>\n",
       "      <td>144400</td>\n",
       "    </tr>\n",
       "    <tr>\n",
       "      <th>37</th>\n",
       "      <td>Deutsche Gesellschaft fur Internationale Zusam...</td>\n",
       "      <td>Multilateral</td>\n",
       "      <td>Yes</td>\n",
       "      <td>12/01/2019</td>\n",
       "      <td>09/30/2021</td>\n",
       "      <td>Hourly plus reimbursables</td>\n",
       "      <td>Add currency symbol to total on invoice, Contr...</td>\n",
       "      <td>1858 moved to March 3/10, generated for Callie...</td>\n",
       "      <td>Over time</td>\n",
       "      <td>296563</td>\n",
       "      <td>158867.11</td>\n",
       "      <td>0.0</td>\n",
       "      <td>11723.50</td>\n",
       "      <td>125971.91</td>\n",
       "      <td>1.705906e+05</td>\n",
       "      <td>125972</td>\n",
       "    </tr>\n",
       "    <tr>\n",
       "      <th>38</th>\n",
       "      <td>NREL : GPG GEB Pilot - NREL</td>\n",
       "      <td>FFS</td>\n",
       "      <td>Yes</td>\n",
       "      <td>07/11/2019</td>\n",
       "      <td>09/30/2021</td>\n",
       "      <td>Hourly plus reimbursables</td>\n",
       "      <td>see 1937 for totals to add to invoice - update...</td>\n",
       "      <td>1937 sent to client 3/10 1885 sent to client 1...</td>\n",
       "      <td>Over time</td>\n",
       "      <td>305987</td>\n",
       "      <td>208180.75</td>\n",
       "      <td>0.0</td>\n",
       "      <td>15222.35</td>\n",
       "      <td>82583.90</td>\n",
       "      <td>2.234031e+05</td>\n",
       "      <td>82583.9</td>\n",
       "    </tr>\n",
       "    <tr>\n",
       "      <th>39</th>\n",
       "      <td>NREL : Solar Energy Innovation Network - Round 2</td>\n",
       "      <td>FFS</td>\n",
       "      <td>Yes</td>\n",
       "      <td>12/01/2019</td>\n",
       "      <td>06/30/2021</td>\n",
       "      <td>Fixed fee</td>\n",
       "      <td>NREL wants one per deliverable starting in Jun...</td>\n",
       "      <td>not in Jan, Feb</td>\n",
       "      <td>Over time</td>\n",
       "      <td>616497</td>\n",
       "      <td>218786.86</td>\n",
       "      <td>0.0</td>\n",
       "      <td>0.00</td>\n",
       "      <td>397709.74</td>\n",
       "      <td>2.187869e+05</td>\n",
       "      <td>397710</td>\n",
       "    </tr>\n",
       "    <tr>\n",
       "      <th>40</th>\n",
       "      <td>NACFE : NACFE Scaling Available Tech Support</td>\n",
       "      <td>FFS</td>\n",
       "      <td>Yes</td>\n",
       "      <td>01/01/2018</td>\n",
       "      <td>12/31/2021</td>\n",
       "      <td>Hourly plus reimbursables</td>\n",
       "      <td>Invoice actual monthly expenses, no budget</td>\n",
       "      <td>1956 sent to client 3/10, 1898 sent to Mike/cl...</td>\n",
       "      <td>Over time; contract extended for 2021</td>\n",
       "      <td>NA</td>\n",
       "      <td>283531.81</td>\n",
       "      <td>0.0</td>\n",
       "      <td>9387.86</td>\n",
       "      <td>0</td>\n",
       "      <td>2.929197e+05</td>\n",
       "      <td>NA</td>\n",
       "    </tr>\n",
       "    <tr>\n",
       "      <th>41</th>\n",
       "      <td>Google LLC : Project Shirley</td>\n",
       "      <td>FFS</td>\n",
       "      <td>Yes</td>\n",
       "      <td>11/16/2020</td>\n",
       "      <td>06/30/2021</td>\n",
       "      <td>Fixed fee</td>\n",
       "      <td>First $300K invoiced via SO</td>\n",
       "      <td>- None -</td>\n",
       "      <td>Over time; only recognized $264K of revenue th...</td>\n",
       "      <td>375000</td>\n",
       "      <td>300000.00</td>\n",
       "      <td>0.0</td>\n",
       "      <td>0.00</td>\n",
       "      <td>75000.00</td>\n",
       "      <td>2.929412e+05</td>\n",
       "      <td>82058.8</td>\n",
       "    </tr>\n",
       "    <tr>\n",
       "      <th>42</th>\n",
       "      <td>Colorado Energy Office : CoRRED</td>\n",
       "      <td>State</td>\n",
       "      <td>Yes</td>\n",
       "      <td>06/11/2019</td>\n",
       "      <td>04/30/2021</td>\n",
       "      <td>Fixed fee</td>\n",
       "      <td>Invoice 822 for $20K was booked against this p...</td>\n",
       "      <td>Not in Feb, 1857 sent to Beth 1/19, Beth sent ...</td>\n",
       "      <td>Over time</td>\n",
       "      <td>310000</td>\n",
       "      <td>300000.00</td>\n",
       "      <td>0.0</td>\n",
       "      <td>0.00</td>\n",
       "      <td>10000.00</td>\n",
       "      <td>1.000000e+05</td>\n",
       "      <td>210000</td>\n",
       "    </tr>\n",
       "    <tr>\n",
       "      <th>43</th>\n",
       "      <td>Department of Energy (DOE) : REALIZE - EE00081...</td>\n",
       "      <td>Federal</td>\n",
       "      <td>Yes</td>\n",
       "      <td>01/01/2018</td>\n",
       "      <td>03/31/2022</td>\n",
       "      <td>Hourly plus reimbursables</td>\n",
       "      <td>quarterly, next after March, Invoice quarterly...</td>\n",
       "      <td>1859 finished sent to Callie 2/2/21,</td>\n",
       "      <td>Over time</td>\n",
       "      <td>499999</td>\n",
       "      <td>345614.45</td>\n",
       "      <td>0.0</td>\n",
       "      <td>66482.75</td>\n",
       "      <td>87901.80</td>\n",
       "      <td>4.120972e+05</td>\n",
       "      <td>87901.8</td>\n",
       "    </tr>\n",
       "    <tr>\n",
       "      <th>44</th>\n",
       "      <td>Department of Energy (DOE) : REALIZE - EE00090...</td>\n",
       "      <td>Federal</td>\n",
       "      <td>Yes</td>\n",
       "      <td>07/01/2020</td>\n",
       "      <td>06/30/2021</td>\n",
       "      <td>Hourly plus reimbursables</td>\n",
       "      <td>Invoice quarterly; Donna creates invoice for C...</td>\n",
       "      <td>- None -</td>\n",
       "      <td>Over time</td>\n",
       "      <td>5e+06</td>\n",
       "      <td>384177.77</td>\n",
       "      <td>0.0</td>\n",
       "      <td>149440.12</td>\n",
       "      <td>4466382.11</td>\n",
       "      <td>5.336179e+05</td>\n",
       "      <td>4.46638e+06</td>\n",
       "    </tr>\n",
       "    <tr>\n",
       "      <th>45</th>\n",
       "      <td>*Restricted : Australia Industry ETI</td>\n",
       "      <td>FFS</td>\n",
       "      <td>Yes</td>\n",
       "      <td>10/01/2019</td>\n",
       "      <td>03/31/2021</td>\n",
       "      <td>Fixed fee</td>\n",
       "      <td>Contract in AUD; 583,749 AUD converted to USD ...</td>\n",
       "      <td>3/31 recd new PO 20199250  for stage 3 USD$127...</td>\n",
       "      <td>Over time; although this is fixed fee, we were...</td>\n",
       "      <td>391318</td>\n",
       "      <td>393258.00</td>\n",
       "      <td>0.0</td>\n",
       "      <td>0.00</td>\n",
       "      <td>-1939.52</td>\n",
       "      <td>3.932580e+05</td>\n",
       "      <td>NA</td>\n",
       "    </tr>\n",
       "    <tr>\n",
       "      <th>46</th>\n",
       "      <td>Abuja Disco : AEDC Distributed Energy Resource...</td>\n",
       "      <td>Multilateral</td>\n",
       "      <td>Yes</td>\n",
       "      <td>09/11/2019</td>\n",
       "      <td>06/30/2021</td>\n",
       "      <td>Fixed fee</td>\n",
       "      <td>2/9 no direction recd, Callie 1/12 said this o...</td>\n",
       "      <td>1966 sent to Callie 3/23, 2/28 1924 Alexis sen...</td>\n",
       "      <td>Point in time; note revenue recognized is only...</td>\n",
       "      <td>897476</td>\n",
       "      <td>394318.00</td>\n",
       "      <td>0.0</td>\n",
       "      <td>0.00</td>\n",
       "      <td>503158.00</td>\n",
       "      <td>2.685287e+05</td>\n",
       "      <td>628947</td>\n",
       "    </tr>\n",
       "    <tr>\n",
       "      <th>47</th>\n",
       "      <td>Shell International B.V. : India - Electricity...</td>\n",
       "      <td>FFS</td>\n",
       "      <td>Yes</td>\n",
       "      <td>12/02/2019</td>\n",
       "      <td>03/31/2021</td>\n",
       "      <td>Fixed fee</td>\n",
       "      <td>$100K phase 1, $250K phase 2, for India power ...</td>\n",
       "      <td>Next invoice Mar 2021</td>\n",
       "      <td>Point in time</td>\n",
       "      <td>750000</td>\n",
       "      <td>550000.00</td>\n",
       "      <td>0.0</td>\n",
       "      <td>0.00</td>\n",
       "      <td>200000.00</td>\n",
       "      <td>5.500000e+05</td>\n",
       "      <td>200000</td>\n",
       "    </tr>\n",
       "    <tr>\n",
       "      <th>48</th>\n",
       "      <td>NYSERDA : NYSERDA CNBR Analysis</td>\n",
       "      <td>FFS</td>\n",
       "      <td>Yes</td>\n",
       "      <td>09/17/2019</td>\n",
       "      <td>NaN</td>\n",
       "      <td>Hourly plus reimbursables</td>\n",
       "      <td>TWO1 $484375 10/3/19, TWO2 $96875 Apr20, TWO3 ...</td>\n",
       "      <td>1934 uploaded 3/11, 1862 uploaded 2/9</td>\n",
       "      <td>Over time</td>\n",
       "      <td>881250</td>\n",
       "      <td>603387.50</td>\n",
       "      <td>0.0</td>\n",
       "      <td>179408.75</td>\n",
       "      <td>98453.75</td>\n",
       "      <td>7.827962e+05</td>\n",
       "      <td>98453.8</td>\n",
       "    </tr>\n",
       "    <tr>\n",
       "      <th>49</th>\n",
       "      <td>State of Hawaii Public Utilities Commission : ...</td>\n",
       "      <td>FFS</td>\n",
       "      <td>Yes</td>\n",
       "      <td>07/01/2020</td>\n",
       "      <td>06/30/2021</td>\n",
       "      <td>Hourly plus reimbursables</td>\n",
       "      <td>Cara copies AR when she sends</td>\n",
       "      <td>1938 Cara sent to client 3/26, 1889 sent to cl...</td>\n",
       "      <td>Over time; note we negotiated a new contract f...</td>\n",
       "      <td>717000</td>\n",
       "      <td>651958.74</td>\n",
       "      <td>0.0</td>\n",
       "      <td>0.00</td>\n",
       "      <td>65041.26</td>\n",
       "      <td>6.573875e+05</td>\n",
       "      <td>59612.5</td>\n",
       "    </tr>\n",
       "    <tr>\n",
       "      <th>50</th>\n",
       "      <td>California Energy Commission (CEC) : REALIZE -...</td>\n",
       "      <td>State</td>\n",
       "      <td>Yes</td>\n",
       "      <td>06/29/2018</td>\n",
       "      <td>03/31/2023</td>\n",
       "      <td>Hourly plus reimbursables</td>\n",
       "      <td>Invoices to record revenue only, see ML/BL/GOV...</td>\n",
       "      <td>1960 in March for Feb work started 3/12, Feb 1...</td>\n",
       "      <td>Over time</td>\n",
       "      <td>7.20431e+06</td>\n",
       "      <td>863226.71</td>\n",
       "      <td>0.0</td>\n",
       "      <td>360149.70</td>\n",
       "      <td>5980931.59</td>\n",
       "      <td>1.223376e+06</td>\n",
       "      <td>5.98093e+06</td>\n",
       "    </tr>\n",
       "    <tr>\n",
       "      <th>51</th>\n",
       "      <td>Overall Total</td>\n",
       "      <td></td>\n",
       "      <td></td>\n",
       "      <td>NaN</td>\n",
       "      <td>NaN</td>\n",
       "      <td></td>\n",
       "      <td></td>\n",
       "      <td></td>\n",
       "      <td></td>\n",
       "      <td>NA</td>\n",
       "      <td>7293702.36</td>\n",
       "      <td>0.0</td>\n",
       "      <td>1185048.72</td>\n",
       "      <td>0</td>\n",
       "      <td>2.486313e+08</td>\n",
       "      <td>NA</td>\n",
       "    </tr>\n",
       "  </tbody>\n",
       "</table>\n",
       "</div>"
      ],
      "text/plain": [
       "                                              Project  Project Type Contract?  \\\n",
       "0   Nebraska Conservation Voters (NECV) : Nebraska...           FFS       Yes   \n",
       "1            NREL : NREL - Islands Playbook 2.0 (FFS)           FFS        No   \n",
       "2                        Breitling SA : Breitling LCA           FFS       Yes   \n",
       "3   Connecticut Public Utilities Regulatory Author...           FFS       Yes   \n",
       "4         Apple, Inc. : Apple Supply Chain EE Finance           FFS        No   \n",
       "5   European Climate Foundation : GCoM/ECF: Case S...           FFS       Yes   \n",
       "6                      NACFE : Run on Less - Electric           FFS       Yes   \n",
       "7   Association for Energy Affordability : REALIZE...         State       Yes   \n",
       "8              3Degrees : 3D Utility Product Strategy           FFS       Yes   \n",
       "9   Voloridge Investment Management, LLC : Volorid...           FFS       Yes   \n",
       "10  Inter-American Development Bank : Renewable En...  Multilateral       Yes   \n",
       "11               John Bucksbaum : Bucksbaum Residence           FFS       Yes   \n",
       "12  Guyana Power & Light Inc : Guyana Power & Ligh...           FFS       Yes   \n",
       "13  Logistics Management Institute : GSA Guide and...           FFS       Yes   \n",
       "14  Helen Frankenthaler Foundation : HFF- Helen Fr...           FFS       Yes   \n",
       "15  Michigan Department of Environment, Great Lake...       Federal       Yes   \n",
       "16  Secunda Family Foundation : USVI St. John Micr...           FFS       Yes   \n",
       "17  New Buildings Institute : NYSERDA CNBR Writing...           FFS       Yes   \n",
       "18  United Nations : Implementation of the Malawi ...  Multilateral        No   \n",
       "19                 NREL : NREL - Smart Communities v2           FFS       Yes   \n",
       "20  Modern West Properties, LLC : Modern West Grid...           FFS       Yes   \n",
       "21  New Buildings Institute : BER (Building Electr...           FFS       Yes   \n",
       "22  Nevada Public Utilities Commission : Nevada PB...           FFS       Yes   \n",
       "23  Department of Energy (DOE) : REALIZE - EE00090...       Federal       Yes   \n",
       "24  California Energy Commission (CEC) : REALIZE C...         State       Yes   \n",
       "25  Oregon Dept. of Transportation : ODOT TE Syste...           FFS       Yes   \n",
       "26  WattTime : WattTime - Great Lakes Protection Fund           FFS       Yes   \n",
       "27  Factor[e] : Electric Vehicle & Minigrid Econom...           FFS       Yes   \n",
       "28  ClimateWorks Foundation : ClimateWorks/KCEP: S...           FFS       Yes   \n",
       "29  The Estee Lauder Companies Inc. Global Corpora...           FFS       Yes   \n",
       "30  NYSERDA : NYSERDA  Empire Building Challenge a...           FFS       Yes   \n",
       "31  Bahamas Power and Light : Bahamas Power and Li...           FFS       Yes   \n",
       "32          Oregon Dept. of Transportation : OR TEINA           FFS       Yes   \n",
       "33  State of New Jersey : NJ Transit eBus Workshop...           FFS       Yes   \n",
       "34  Loughborough University : Modern Energy Cookin...  Multilateral       Yes   \n",
       "35                     SNAM : Green Hydrogen Catapult           FFS        No   \n",
       "36                  NACFE : Guiding Futures CBEV 2021           FFS       Yes   \n",
       "37  Deutsche Gesellschaft fur Internationale Zusam...  Multilateral       Yes   \n",
       "38                        NREL : GPG GEB Pilot - NREL           FFS       Yes   \n",
       "39   NREL : Solar Energy Innovation Network - Round 2           FFS       Yes   \n",
       "40       NACFE : NACFE Scaling Available Tech Support           FFS       Yes   \n",
       "41                       Google LLC : Project Shirley           FFS       Yes   \n",
       "42                    Colorado Energy Office : CoRRED         State       Yes   \n",
       "43  Department of Energy (DOE) : REALIZE - EE00081...       Federal       Yes   \n",
       "44  Department of Energy (DOE) : REALIZE - EE00090...       Federal       Yes   \n",
       "45               *Restricted : Australia Industry ETI           FFS       Yes   \n",
       "46  Abuja Disco : AEDC Distributed Energy Resource...  Multilateral       Yes   \n",
       "47  Shell International B.V. : India - Electricity...           FFS       Yes   \n",
       "48                    NYSERDA : NYSERDA CNBR Analysis           FFS       Yes   \n",
       "49  State of Hawaii Public Utilities Commission : ...           FFS       Yes   \n",
       "50  California Energy Commission (CEC) : REALIZE -...         State       Yes   \n",
       "51                                      Overall Total                           \n",
       "\n",
       "   Contract Start Date Contract End Date                  Invoice Type  \\\n",
       "0           12/03/2020               NaN                     Fixed fee   \n",
       "1                  NaN               NaN                      - None -   \n",
       "2           11/16/2020               NaN  Fixed fee plus reimbursables   \n",
       "3           12/07/2020        12/31/2021     Hourly plus reimbursables   \n",
       "4                  NaN               NaN                        Hourly   \n",
       "5           01/01/2021        07/31/2021                     Fixed fee   \n",
       "6           01/01/2021        12/31/2021     Hourly plus reimbursables   \n",
       "7           06/30/2020        03/31/2024     Hourly plus reimbursables   \n",
       "8           12/04/2020        06/30/2021                     Fixed fee   \n",
       "9           06/02/2019               NaN                        Hourly   \n",
       "10          07/17/2020        02/26/2021                     Fixed fee   \n",
       "11          04/15/2018        12/15/2020     Hourly plus reimbursables   \n",
       "12          02/20/2019        06/30/2021  Fixed fee plus reimbursables   \n",
       "13          09/20/2020        09/19/2021                        Hourly   \n",
       "14          10/19/2020        09/30/2021                     Fixed fee   \n",
       "15          11/05/2020        08/31/2021     Hourly plus reimbursables   \n",
       "16          06/01/2019        06/30/2021     Hourly plus reimbursables   \n",
       "17          05/27/2020        01/31/2021     Hourly plus reimbursables   \n",
       "18                 NaN               NaN                     Fixed fee   \n",
       "19                 NaN        03/31/2021     Hourly plus reimbursables   \n",
       "20          06/17/2019               NaN     Hourly plus reimbursables   \n",
       "21          02/11/2021        12/31/2021     Hourly plus reimbursables   \n",
       "22          03/16/2020        06/01/2021     Hourly plus reimbursables   \n",
       "23          07/01/2020        01/31/2022     Hourly plus reimbursables   \n",
       "24          06/30/2020        03/31/2024     Hourly plus reimbursables   \n",
       "25          08/28/2020        04/22/2021                        Hourly   \n",
       "26          07/11/2019               NaN                     Fixed fee   \n",
       "27          03/01/2019        03/01/2020                     Fixed fee   \n",
       "28          11/01/2020        06/30/2021                     Fixed fee   \n",
       "29          11/16/2018        12/31/2021                        Hourly   \n",
       "30          08/11/2020               NaN     Hourly plus reimbursables   \n",
       "31          04/01/2019        12/31/2020                     Fixed fee   \n",
       "32          11/10/2020        01/30/2022                        Hourly   \n",
       "33          11/08/2019               NaN  Fixed fee plus reimbursables   \n",
       "34          06/01/2020        09/30/2023                     Fixed fee   \n",
       "35                 NaN               NaN                     Fixed fee   \n",
       "36          02/01/2020        12/31/2021                     Fixed fee   \n",
       "37          12/01/2019        09/30/2021     Hourly plus reimbursables   \n",
       "38          07/11/2019        09/30/2021     Hourly plus reimbursables   \n",
       "39          12/01/2019        06/30/2021                     Fixed fee   \n",
       "40          01/01/2018        12/31/2021     Hourly plus reimbursables   \n",
       "41          11/16/2020        06/30/2021                     Fixed fee   \n",
       "42          06/11/2019        04/30/2021                     Fixed fee   \n",
       "43          01/01/2018        03/31/2022     Hourly plus reimbursables   \n",
       "44          07/01/2020        06/30/2021     Hourly plus reimbursables   \n",
       "45          10/01/2019        03/31/2021                     Fixed fee   \n",
       "46          09/11/2019        06/30/2021                     Fixed fee   \n",
       "47          12/02/2019        03/31/2021                     Fixed fee   \n",
       "48          09/17/2019               NaN     Hourly plus reimbursables   \n",
       "49          07/01/2020        06/30/2021     Hourly plus reimbursables   \n",
       "50          06/29/2018        03/31/2023     Hourly plus reimbursables   \n",
       "51                 NaN               NaN                                 \n",
       "\n",
       "                                      Invoicing Notes  \\\n",
       "0     Invoice 25% upfront and remainder on completion   \n",
       "1   3/5 no contract yet per Shelley, Note first $4...   \n",
       "2   Invoice in full when work is complete (likely ...   \n",
       "3   Per person - include Phase, task, person name,...   \n",
       "4   BPO 6000487884 dated 12/14/20, delivery deadli...   \n",
       "5   Contract in EUR; 25,000 EUR converted to USD i...   \n",
       "6          Invoice actual monthly expenses, no budget   \n",
       "7   Invoices to record revenue only, see ML/BL/GOV...   \n",
       "8            Fixed fee amount when deliverable is met   \n",
       "9   10/20 confirming how/when to invoice- idea is ...   \n",
       "10  3/5 Per Callie/Shelley 2nd invoice ($26,448) a...   \n",
       "11          Invoice quarterly, no T&E since July 2019   \n",
       "12  3/5 ​Waiting on a PO from Guyana, Invoice for ...   \n",
       "13  Mod 5 only, RMIers enter time in LMI system an...   \n",
       "14  New contract Jan 2021, recd 1st payment 1/11 w...   \n",
       "15                          First invoice in Jan 2021   \n",
       "16  3/5 agreed to do a bi-monthly invoice per Shel...   \n",
       "17  We booked two invoices for this project under ...   \n",
       "18  3/5 per Callie/Shelley where is 1st interim re...   \n",
       "19  see Smart Comm email for format to use. requir...   \n",
       "20                                           - None -   \n",
       "21  see 1942 for totals to add to invoice, update ...   \n",
       "22  Amendment recd Increase $25K, project st ends ...   \n",
       "23  Quarterly, next after March, Invoice quarterly...   \n",
       "24  Invoices to record revenue only, see ML/BL/GOV...   \n",
       "25  3/2 asked Per Lynn waiting on paperwork, 2/11 ...   \n",
       "26  We are billing the client $25k three times the...   \n",
       "27  Waiting for Nigeria to come back from Covid, t...   \n",
       "28                                           - None -   \n",
       "29  3/23/21 recd amendment - same PO, 11/10 discov...   \n",
       "30  Agreement 140390, PO 153555, TWO 4, 1/31/21 NY...   \n",
       "31  3/5 Per Shelley - Will check with Chris - shou...   \n",
       "32                                    Monthly invoice   \n",
       "33  recd new contract in Feb 2021, Contract 20-029...   \n",
       "34  3/5 Per Callie, working through some things wi...   \n",
       "35  7 different clients are paying for the same bo...   \n",
       "36  $14K/month for 2021; NS balance remaining is o...   \n",
       "37  Add currency symbol to total on invoice, Contr...   \n",
       "38  see 1937 for totals to add to invoice - update...   \n",
       "39  NREL wants one per deliverable starting in Jun...   \n",
       "40         Invoice actual monthly expenses, no budget   \n",
       "41                        First $300K invoiced via SO   \n",
       "42  Invoice 822 for $20K was booked against this p...   \n",
       "43  quarterly, next after March, Invoice quarterly...   \n",
       "44  Invoice quarterly; Donna creates invoice for C...   \n",
       "45  Contract in AUD; 583,749 AUD converted to USD ...   \n",
       "46  2/9 no direction recd, Callie 1/12 said this o...   \n",
       "47  $100K phase 1, $250K phase 2, for India power ...   \n",
       "48  TWO1 $484375 10/3/19, TWO2 $96875 Apr20, TWO3 ...   \n",
       "49                      Cara copies AR when she sends   \n",
       "50  Invoices to record revenue only, see ML/BL/GOV...   \n",
       "51                                                      \n",
       "\n",
       "                                 Current Month Action  \\\n",
       "0   1901 sent to Kristine 2/17, 25%, Kristine sent...   \n",
       "1                                            - None -   \n",
       "2   1896 sent to client 2/9, ready to invoice Feb ...   \n",
       "3    3/5 1939 sent to client, sent 1821 to client 2/9   \n",
       "4                                            - None -   \n",
       "5   First invoice generated as an SO prior to cont...   \n",
       "6   1955 sent to client 3/10, 1899 sent to Mike/cl...   \n",
       "7   1962 in March for Feb work started 3/12, Feb 1...   \n",
       "8   1932 sent to client 3/3, 1905 sent to Client 2...   \n",
       "9   Not in Feb/Jan (no change from Dec), Not in Oc...   \n",
       "10  1991 sent to client 3/30 2/9 no direction recd...   \n",
       "11            not in Feb/Jan, 1836 sent to client 1/6   \n",
       "12  2/4 Not in Jan, Dec, 1/12 Owen is following up...   \n",
       "13  generated 1925, 1926, 1927, 1928, 1929 Dec Jan...   \n",
       "14  possible invoice 3/31 or in April for next del...   \n",
       "15             1863 sent to client by Anna Sophia 2/1   \n",
       "16     3/5 next invoice 3/31, 1887 sent to client 2/9   \n",
       "17  11/5 Per Cara, on hold until Jan/Feb, invoice ...   \n",
       "18  3/5 not yet for Feb., 1/13 per Shelley, may in...   \n",
       "19  1936 sent to seth/victor 3/5, 1894 sent to cli...   \n",
       "20  1935 sent to client 3/10, 1895 sent to client 2/9   \n",
       "21                           sent 1942 to client 3/10   \n",
       "22                                           - None -   \n",
       "23                           1861 sent to Callie 1/28   \n",
       "24  1961 in March for Feb work started 3/12, Feb 1...   \n",
       "25               not in Feb, 1893 sent to client 2/11   \n",
       "26                                           - None -   \n",
       "27                          Next invoice Mar 21, SO's   \n",
       "28                                           - None -   \n",
       "29  SO548 & SO543 re-sent to Mark 3/23, SO535 Dec ...   \n",
       "30                                           - None -   \n",
       "31                   Project stalled till after Covid   \n",
       "32  1940 sent to Client 3/5, 2/9 sent invoice 1892...   \n",
       "33  3/4 Chuck will LMK if Feb invoice, SO526 sent ...   \n",
       "34                                         not in Feb   \n",
       "35                      1949-1953 sent to Kieran 3/9.   \n",
       "36  1954 sent to client 3/10, 1897 sent to Mike/Cl...   \n",
       "37  1858 moved to March 3/10, generated for Callie...   \n",
       "38  1937 sent to client 3/10 1885 sent to client 1...   \n",
       "39                                    not in Jan, Feb   \n",
       "40  1956 sent to client 3/10, 1898 sent to Mike/cl...   \n",
       "41                                           - None -   \n",
       "42  Not in Feb, 1857 sent to Beth 1/19, Beth sent ...   \n",
       "43               1859 finished sent to Callie 2/2/21,   \n",
       "44                                           - None -   \n",
       "45  3/31 recd new PO 20199250  for stage 3 USD$127...   \n",
       "46  1966 sent to Callie 3/23, 2/28 1924 Alexis sen...   \n",
       "47                              Next invoice Mar 2021   \n",
       "48              1934 uploaded 3/11, 1862 uploaded 2/9   \n",
       "49  1938 Cara sent to client 3/26, 1889 sent to cl...   \n",
       "50  1960 in March for Feb work started 3/12, Feb 1...   \n",
       "51                                                      \n",
       "\n",
       "                            Revenue Recognition Notes Contract Amount  \\\n",
       "0   Point in time; Note no revenue has been recogn...           10500   \n",
       "1                                            - None -              NA   \n",
       "2                                       Point in time           24080   \n",
       "3                                           Over time          200000   \n",
       "4                                           Over time              NA   \n",
       "5   Point in time; first invoice for 12,500 EUR is...         30374.7   \n",
       "6                                           Over time              NA   \n",
       "7                                           Over time          172658   \n",
       "8                                           Over time           78116   \n",
       "9                                           Over time           41000   \n",
       "10                                      Point in time           88160   \n",
       "11                                          Over time           40000   \n",
       "12                                          Over time           71500   \n",
       "13                                          Over time         74902.8   \n",
       "14  Point in time; Note no revenue has been recogn...           75000   \n",
       "15          Over time; Revenue 80% Federal, 20% State          105000   \n",
       "16                                          Over time          165000   \n",
       "17                                          Over time          127488   \n",
       "18                                      Point in time           89846   \n",
       "19                                          Over time           59975   \n",
       "20                                          Over time          100000   \n",
       "21  Over time; we had a preagreement letter that a...          136844   \n",
       "22                                          Over time          114000   \n",
       "23                                          Over time          475000   \n",
       "24                                          Over time     1.91797e+06   \n",
       "25                                          Over time           48761   \n",
       "26                                      Point in time           75000   \n",
       "27                                      Point in time           90000   \n",
       "28  Over time; although this is fixed fee, all del...           80000   \n",
       "29                                          Over time           90000   \n",
       "30                                          Over time          179007   \n",
       "31  Over time; although this is fixed fee, we were...          217650   \n",
       "32                                          Over time          161302   \n",
       "33                                          Over time          137021   \n",
       "34  Point in time; note revenue recognized is only...          188213   \n",
       "35                                      Point in time          150000   \n",
       "36  Over time; although this is fixed fee, we're i...          296337   \n",
       "37                                          Over time          296563   \n",
       "38                                          Over time          305987   \n",
       "39                                          Over time          616497   \n",
       "40              Over time; contract extended for 2021              NA   \n",
       "41  Over time; only recognized $264K of revenue th...          375000   \n",
       "42                                          Over time          310000   \n",
       "43                                          Over time          499999   \n",
       "44                                          Over time           5e+06   \n",
       "45  Over time; although this is fixed fee, we were...          391318   \n",
       "46  Point in time; note revenue recognized is only...          897476   \n",
       "47                                      Point in time          750000   \n",
       "48                                          Over time          881250   \n",
       "49  Over time; note we negotiated a new contract f...          717000   \n",
       "50                                          Over time     7.20431e+06   \n",
       "51                                                                 NA   \n",
       "\n",
       "   Project Invoicing Actual  Reimbursables NTE  Reimbursables Actual  \\\n",
       "0                   2625.00                0.0                  0.00   \n",
       "1                   4000.00                0.0                  0.00   \n",
       "2                   4016.00                0.0                  0.00   \n",
       "3                  10161.75                0.0                  0.00   \n",
       "4                  13985.00                0.0                  0.00   \n",
       "5                  14141.25                0.0                  0.00   \n",
       "6                  15114.38                0.0                  0.00   \n",
       "7                  15177.76                0.0                  0.00   \n",
       "8                  15500.00                0.0                  0.00   \n",
       "9                  16000.00                0.0                  0.00   \n",
       "10                 17632.00                0.0                  0.00   \n",
       "11                 19680.00                0.0                771.49   \n",
       "12                 20829.00                0.0               4952.00   \n",
       "13                 21821.68                0.0                  0.00   \n",
       "14                 25000.00                0.0                  0.00   \n",
       "15                 25407.13                0.0                  0.00   \n",
       "16                 28124.00                0.0              88159.00   \n",
       "17                 29401.00                0.0                  0.00   \n",
       "18                 30000.00                0.0                  0.00   \n",
       "19                 31359.00                0.0                  0.00   \n",
       "20                 34897.75                0.0                  0.00   \n",
       "21                 37174.50                0.0                  0.00   \n",
       "22                 39656.00                0.0              49343.58   \n",
       "23                 41466.40                0.0              75781.10   \n",
       "24                 42521.71                0.0              89559.01   \n",
       "25                 48761.00                0.0                  0.00   \n",
       "26                 50000.00                0.0                  0.00   \n",
       "27                 60000.00                0.0                  0.00   \n",
       "28                 60000.00                0.0                  0.00   \n",
       "29                 69157.50                0.0               2136.00   \n",
       "30                 71472.75                0.0              73666.25   \n",
       "31                 77712.50                0.0                  0.00   \n",
       "32                 78116.00                0.0                  0.00   \n",
       "33                127054.60             5900.0               8865.26   \n",
       "34                138492.00                0.0                  0.00   \n",
       "35                150000.00                0.0                  0.00   \n",
       "36                151937.00                0.0                  0.00   \n",
       "37                158867.11                0.0              11723.50   \n",
       "38                208180.75                0.0              15222.35   \n",
       "39                218786.86                0.0                  0.00   \n",
       "40                283531.81                0.0               9387.86   \n",
       "41                300000.00                0.0                  0.00   \n",
       "42                300000.00                0.0                  0.00   \n",
       "43                345614.45                0.0              66482.75   \n",
       "44                384177.77                0.0             149440.12   \n",
       "45                393258.00                0.0                  0.00   \n",
       "46                394318.00                0.0                  0.00   \n",
       "47                550000.00                0.0                  0.00   \n",
       "48                603387.50                0.0             179408.75   \n",
       "49                651958.74                0.0                  0.00   \n",
       "50                863226.71                0.0             360149.70   \n",
       "51               7293702.36                0.0            1185048.72   \n",
       "\n",
       "   Remaining Contract Balance  Total Revenue Recognized Remaining Revenue  \n",
       "0                     7875.00              0.000000e+00             10500  \n",
       "1                           0              4.000000e+03                NA  \n",
       "2                    20064.00              4.016000e+03             20064  \n",
       "3                   189838.25              1.016175e+04            189838  \n",
       "4                           0              1.398500e+04                NA  \n",
       "5                    16233.40              0.000000e+00           30374.7  \n",
       "6                           0              1.511438e+04                NA  \n",
       "7                   157480.24              1.517776e+04            157480  \n",
       "8                    62616.00              1.550000e+04             62616  \n",
       "9                    25000.00              1.600000e+04             25000  \n",
       "10                   70528.00              1.763200e+04             70528  \n",
       "11                   19548.51              2.045149e+04           19548.5  \n",
       "12                   45719.00              2.578100e+04             45719  \n",
       "13                   53081.09              2.182168e+04           53081.1  \n",
       "14                   50000.00              0.000000e+00             75000  \n",
       "15                   79592.87              2.540713e+04           79592.9  \n",
       "16                   48717.00              1.162830e+05             48717  \n",
       "17                   98087.00              7.464050e+04           52847.5  \n",
       "18                   59846.00              3.000000e+04             59846  \n",
       "19                   28616.00              3.135900e+04             28616  \n",
       "20                   65102.25              3.489775e+04           65102.2  \n",
       "21                   99669.50              3.717450e+04           99669.5  \n",
       "22                   25000.42              8.899958e+04           25000.4  \n",
       "23                  357752.50              1.172475e+05            357752  \n",
       "24                 1785886.28              1.320807e+05       1.78589e+06  \n",
       "25                        .00              4.876100e+04                NA  \n",
       "26                   25000.00              5.000000e+04             25000  \n",
       "27                   30000.00              6.000000e+04             30000  \n",
       "28                   20000.00              0.000000e+00             80000  \n",
       "29                   18706.50              7.129350e+04           18706.5  \n",
       "30                   33868.00              1.451390e+05             33868  \n",
       "31                  139937.50              8.071250e+04            136938  \n",
       "32                   83186.00              7.811600e+04             83186  \n",
       "33                    7001.14              1.359199e+05           7001.14  \n",
       "34                   49720.80              1.138526e+05           74360.2  \n",
       "35                        .00              1.500000e+05                NA  \n",
       "36                  144400.00              1.519370e+05            144400  \n",
       "37                  125971.91              1.705906e+05            125972  \n",
       "38                   82583.90              2.234031e+05           82583.9  \n",
       "39                  397709.74              2.187869e+05            397710  \n",
       "40                          0              2.929197e+05                NA  \n",
       "41                   75000.00              2.929412e+05           82058.8  \n",
       "42                   10000.00              1.000000e+05            210000  \n",
       "43                   87901.80              4.120972e+05           87901.8  \n",
       "44                 4466382.11              5.336179e+05       4.46638e+06  \n",
       "45                   -1939.52              3.932580e+05                NA  \n",
       "46                  503158.00              2.685287e+05            628947  \n",
       "47                  200000.00              5.500000e+05            200000  \n",
       "48                   98453.75              7.827962e+05           98453.8  \n",
       "49                   65041.26              6.573875e+05           59612.5  \n",
       "50                 5980931.59              1.223376e+06       5.98093e+06  \n",
       "51                          0              2.486313e+08                NA  "
      ]
     },
     "execution_count": 99,
     "metadata": {},
     "output_type": "execute_result"
    }
   ],
   "source": [
    "dfFFSData"
   ]
  },
  {
   "cell_type": "code",
   "execution_count": 100,
   "metadata": {},
   "outputs": [],
   "source": [
    "dfFFSDataV2 = dfFFSData\n",
    "\n",
    "dfFFSDataV2 = pd.merge(dfFFSDataV2, initiative_program_table, on = 'Project', how='left')\n",
    "\n",
    "dfFFSDataV2 = pd.merge(dfFFSDataV2, dfrevenuetable, on = 'Project', how='left')\n",
    "\n",
    "dfFFSDataV2 = dfFFSDataV2.drop_duplicates()"
   ]
  },
  {
   "cell_type": "code",
   "execution_count": 101,
   "metadata": {},
   "outputs": [],
   "source": [
    "dfFFSDataV2 = dfFFSDataV2[dfFFSDataV2['Project'] != \"Overall Total\"]"
   ]
  },
  {
   "cell_type": "code",
   "execution_count": 102,
   "metadata": {},
   "outputs": [],
   "source": [
    "dfFFSDataV2['Rev or Exp'].replace('', np.nan, inplace=True)\n",
    "dfFFSDataV2['Rev or Exp'].fillna(0, inplace=True)\n",
    "dfFFSDataV2['Reimbursables NTE'].replace('', np.nan, inplace=True)\n",
    "dfFFSDataV2['Reimbursables NTE'].fillna('NA', inplace=True)\n",
    "dfFFSDataV2['Contract Start Date'].replace('', np.nan, inplace=True)\n",
    "dfFFSDataV2['Contract Start Date'].fillna('NA', inplace=True)\n",
    "dfFFSDataV2['Contract End Date'].replace('', np.nan, inplace=True)\n",
    "dfFFSDataV2['Contract End Date'].fillna('NA', inplace=True)"
   ]
  },
  {
   "cell_type": "code",
   "execution_count": 104,
   "metadata": {},
   "outputs": [],
   "source": [
    "dfFFSDataV2.to_excel(\"FFSOpen.xlsx\")"
   ]
  },
  {
   "cell_type": "code",
   "execution_count": 105,
   "metadata": {},
   "outputs": [],
   "source": [
    "dfFFSDataZeros = dfFFSDataV2[dfFFSDataV2['Rev or Exp']==0]"
   ]
  },
  {
   "cell_type": "code",
   "execution_count": null,
   "metadata": {},
   "outputs": [],
   "source": []
  },
  {
   "cell_type": "markdown",
   "metadata": {},
   "source": [
    "## Add critical datapoints to Netsuite Report from RMI Fee for Service Report "
   ]
  },
  {
   "cell_type": "code",
   "execution_count": 106,
   "metadata": {},
   "outputs": [
    {
     "data": {
      "text/plain": [
       "Index(['Project', 'Project Type', 'Contract?', 'Contract Start Date',\n",
       "       'Contract End Date', 'Invoice Type', 'Invoicing Notes',\n",
       "       'Current Month Action', 'Revenue Recognition Notes', 'Contract Amount',\n",
       "       'Total Revenue Recognized', 'Reimbursables NTE', 'Reimbursables Actual',\n",
       "       'Remaining Revenue'],\n",
       "      dtype='object')"
      ]
     },
     "execution_count": 106,
     "metadata": {},
     "output_type": "execute_result"
    }
   ],
   "source": [
    "dfFFSDataedited = dfFFSData[['Project', 'Project Type', 'Contract?',\n",
    "       'Contract Start Date', 'Contract End Date', 'Invoice Type',\n",
    "       'Invoicing Notes', 'Current Month Action', 'Revenue Recognition Notes',\n",
    "       'Contract Amount', 'Total Revenue Recognized', 'Reimbursables NTE',\n",
    "       'Reimbursables Actual', 'Remaining Revenue']]\n",
    "\n",
    "\n",
    "dfFFSDataedited.columns"
   ]
  },
  {
   "cell_type": "code",
   "execution_count": 107,
   "metadata": {},
   "outputs": [],
   "source": [
    "df1 = pd.merge(df1, dfFFSDataedited, on = 'Project', how='left')"
   ]
  },
  {
   "cell_type": "code",
   "execution_count": 108,
   "metadata": {},
   "outputs": [
    {
     "data": {
      "text/plain": [
       "Index(['Date', 'Period', 'GL Account', 'Document Number', 'Program',\n",
       "       'Initiative', 'Project', 'Restriction', 'Grant', 'Amount',\n",
       "       'Vendor Name', 'Employee Name', 'Memo', 'Amount (Credit)',\n",
       "       'Amount (Debit)', 'Client', 'Transaction Number', 'Type', 'Vendor Rate',\n",
       "       'Vendor Contract Expiration Date', 'External ID', 'Name', 'Job Title',\n",
       "       'ALLOCATION', 'Project Allocations', 'Rollup Account', 'Account Digit',\n",
       "       'Accounting Adjustments', 'Accounting Close Out', 'PositionID',\n",
       "       'Inst or Reclass', 'grant?', 'Restricted Revenue', 'Rev or Exp',\n",
       "       'Multilateral', 'General Expense', 'Unrestricted', 'Project3YrRev',\n",
       "       'Project Type', 'Contract?', 'Contract Start Date', 'Contract End Date',\n",
       "       'Invoice Type', 'Invoicing Notes', 'Current Month Action',\n",
       "       'Revenue Recognition Notes', 'Contract Amount',\n",
       "       'Total Revenue Recognized', 'Reimbursables NTE', 'Reimbursables Actual',\n",
       "       'Remaining Revenue'],\n",
       "      dtype='object')"
      ]
     },
     "execution_count": 108,
     "metadata": {},
     "output_type": "execute_result"
    }
   ],
   "source": [
    "df1.columns"
   ]
  },
  {
   "cell_type": "code",
   "execution_count": 109,
   "metadata": {},
   "outputs": [],
   "source": [
    "df1['Project Type'].replace('', np.nan, inplace=True)\n",
    "df1['Contract?'].replace('', np.nan, inplace=True)\n",
    "df1['Contract Start Date'].replace('', np.nan, inplace=True)\n",
    "df1['Contract End Date'].replace('', np.nan, inplace=True)\n",
    "df1['Invoice Type'].replace('', np.nan, inplace=True)\n",
    "df1['Invoicing Notes'].replace('', np.nan, inplace=True)\n",
    "df1['Current Month Action'].replace('', np.nan, inplace=True)\n",
    "df1['Revenue Recognition Notes'].replace('', np.nan, inplace=True)\n",
    "df1['Contract Amount'].replace('', np.nan, inplace=True)\n",
    "df1['Total Revenue Recognized'].replace('', np.nan, inplace=True)\n",
    "df1['Reimbursables NTE'].replace('', np.nan, inplace=True)\n",
    "df1['Reimbursables Actual'].replace('', inplace=True)\n",
    "df1['Remaining Revenue'].replace('', np.nan, inplace=True)"
   ]
  },
  {
   "cell_type": "code",
   "execution_count": 110,
   "metadata": {},
   "outputs": [],
   "source": [
    "df1['Project Type'].fillna(\"na\", inplace=True)\n",
    "df1['Contract?'].fillna(\"na\", inplace=True)\n",
    "df1['Contract Start Date'].fillna(\"na\", inplace=True)\n",
    "df1['Contract End Date'].fillna(\"na\", inplace=True)\n",
    "df1['Invoice Type'].fillna(\"na\", inplace=True)\n",
    "df1['Invoicing Notes'].fillna(\"na\", inplace=True)\n",
    "df1['Current Month Action'].fillna(\"na\", inplace=True)\n",
    "df1['Revenue Recognition Notes'].fillna(\"na\", inplace=True)\n",
    "df1['Contract Amount'].fillna(\"na\", inplace=True)\n",
    "df1['Total Revenue Recognized'].fillna(\"na\", inplace=True)\n",
    "df1['Reimbursables NTE'].fillna(\"na\", inplace=True)\n",
    "df1['Reimbursables Actual'].fillna(\"na\", inplace=True)\n",
    "df1['Remaining Revenue'].fillna(\"na\", inplace=True)"
   ]
  },
  {
   "cell_type": "code",
   "execution_count": null,
   "metadata": {},
   "outputs": [],
   "source": []
  },
  {
   "cell_type": "markdown",
   "metadata": {},
   "source": [
    "## Output manipulated DF to Excel"
   ]
  },
  {
   "cell_type": "code",
   "execution_count": 111,
   "metadata": {},
   "outputs": [],
   "source": [
    "#df1.to_excel('Output_Netsuite.xlsx')"
   ]
  },
  {
   "cell_type": "markdown",
   "metadata": {},
   "source": [
    "# 3.  Data Segmentation by Program\n",
    "\n",
    "Here I'm taking the manipulated data and ultimately creating a dataframe to filter out each program's restricted revenue."
   ]
  },
  {
   "cell_type": "code",
   "execution_count": 112,
   "metadata": {},
   "outputs": [],
   "source": [
    "Programs = list(df1['Program'].unique())"
   ]
  },
  {
   "cell_type": "code",
   "execution_count": 113,
   "metadata": {},
   "outputs": [
    {
     "name": "stdout",
     "output_type": "stream",
     "text": [
      "['Development', 'Carbon-Free Electricity', 'Urban Transformation', 'Building Electrification', 'Operations', 'Beijing', 'China', 'Islands', 'Industry', 'Africa', 'Carbon-Free Buildings', 'Strategic Engagement and Analysis Group', 'Global Climate Finance', 'India', 'Shine', 'Carbon-Free Mobility', 'Emerging Energy Solutions', 'WattTime', 'Business Renewable Center', 'Breakthrough Technology', 'Communications', 'Energy Web Foundation', 'Sustainable Finance', 'na', 'Climate Aligned Industries', 'Climate Intelligence', 'SE Asia', 'US', 'Energy Transition Academy']\n"
     ]
    }
   ],
   "source": [
    "print(Programs)"
   ]
  },
  {
   "cell_type": "code",
   "execution_count": 114,
   "metadata": {},
   "outputs": [],
   "source": [
    "def create_program(program):\n",
    "    firstdf = df1[df1['Program']==program]\n",
    "    seconddf = firstdf[firstdf['Grant'] != 'No Grant'] \n",
    "    thirddf = seconddf[(seconddf['Account Digit']=='7')|(seconddf['Account Digit']=='8')]\n",
    "    if thirddf.empty == True:\n",
    "        print(str(program)+ \" DF is EMPTY\")\n",
    "    else:    \n",
    "        return thirddf"
   ]
  },
  {
   "cell_type": "code",
   "execution_count": 115,
   "metadata": {},
   "outputs": [
    {
     "name": "stdout",
     "output_type": "stream",
     "text": [
      "Development DF is EMPTY\n"
     ]
    }
   ],
   "source": [
    "Development = create_program('Development')\n",
    "Islands = create_program('Islands')\n",
    "India = create_program('India')\n",
    "Operations = create_program('Operations')\n",
    "China = create_program('China')\n",
    "Breakthrough_Technology = create_program('Breakthrough Technology')\n",
    "CarbonFree_Mobility = create_program('Carbon-Free Mobility')\n",
    "Climate_Aligned_Industries = create_program('Climate Aligned Industries')\n",
    "Global_Climate_Finance = create_program('Global Climate Finance')\n",
    "Strategic_Engagement_and_Analysis_Group = create_program('Strategic Engagement and Analysis Group')\n",
    "CarbonFree_Buildings = create_program('Carbon-Free Buildings')\n",
    "WattTime = create_program('WattTime')\n",
    "CarbonFree_Electricty = create_program('Carbon-Free Electricity')\n",
    "Urban_Transformation = create_program('Urban Transformation')\n",
    "Climate_Intelligence = create_program('Climate Intelligence')\n",
    "Industry = create_program('Industry')\n",
    "SE_Asia = create_program('SE Asia')\n",
    "Africa = create_program('Africa')\n",
    "US = create_program('US')\n",
    "Building_Electrification = create_program('Building Electrification')\n",
    "Energy_Transition_Academy = create_program('Energy Transition Academy')\n",
    "Beijing = create_program('Beijing')"
   ]
  },
  {
   "cell_type": "code",
   "execution_count": 116,
   "metadata": {},
   "outputs": [],
   "source": [
    "Developing_Economies_Rollup = pd.concat([Islands, Africa, SE_Asia, Energy_Transition_Academy], ignore_index = True, sort=False)\n",
    "CarbonFreeBuildings_Rollup = pd.concat([CarbonFree_Buildings, Building_Electrification], ignore_index = True, sort=False)\n",
    "China_Rollup = pd.concat([China, Beijing], ignore_index = True, sort=False)"
   ]
  },
  {
   "cell_type": "markdown",
   "metadata": {},
   "source": [
    "## 4. Create Reports Path and Manipulate File Names\n",
    "\n",
    "I will need to come up with naming conventions that work over time for this project, so in this step I do just that.   Also I am loading the Openpyxl packages that i'm going to need for the rest of this program."
   ]
  },
  {
   "cell_type": "code",
   "execution_count": 117,
   "metadata": {},
   "outputs": [],
   "source": [
    "import os\n",
    "\n",
    "path = r'C:\\Users\\Jeremy Wendt\\anaconda3\\envs\\Code\\Detail_Trans_Project_FY21\\reports\\Detail_Trans_Reports'"
   ]
  },
  {
   "cell_type": "code",
   "execution_count": 118,
   "metadata": {},
   "outputs": [],
   "source": [
    "from datetime import datetime\n",
    "today = datetime.today()\n",
    "datem = datetime(today.year, today.month-1, 1)\n",
    "timestamp = \"Detail_Transactions_\"+datem.strftime(\"%b_%Y\")"
   ]
  },
  {
   "cell_type": "code",
   "execution_count": 119,
   "metadata": {},
   "outputs": [
    {
     "name": "stdout",
     "output_type": "stream",
     "text": [
      "Detail_Transactions_Feb_2021.xlsx\n"
     ]
    }
   ],
   "source": [
    "print(timestamp+\".xlsx\")"
   ]
  },
  {
   "cell_type": "code",
   "execution_count": 120,
   "metadata": {},
   "outputs": [],
   "source": [
    "from openpyxl.styles import Color, PatternFill, Font, Border\n",
    "greyFill = PatternFill(start_color='00C0C0C0',\n",
    "                   end_color='00C0C0C0',\n",
    "                   fill_type='solid')"
   ]
  },
  {
   "cell_type": "markdown",
   "metadata": {},
   "source": [
    "## 5.  Create Pivot Table, Add Subtotals, Export to Excel, and Combine All These Functions into One"
   ]
  },
  {
   "cell_type": "code",
   "execution_count": 121,
   "metadata": {},
   "outputs": [],
   "source": [
    "def create_multi_pivot(Group):\n",
    "    Month_order = ['Jul 2020', 'Aug 2020', 'Sep 2020', 'Oct 2020', 'Nov 2020', 'Dec 2020', 'Jan 2021', 'Feb 2021', 'Mar 2021', 'Apr 2021', 'May 2021', 'Jun 2021']\n",
    "    table = pd.pivot_table(Group, index = ['Initiative','Project','Grant', 'GL Account', 'Memo', 'Transaction Number', 'Vendor Name', 'Vendor Rate', 'Vendor Contract Expiration Date'], values = 'Amount', columns = 'Period', aggfunc=np.sum)\n",
    "    table2 = table.reindex(Month_order, axis=1)\n",
    "    table2['Total'] = table2.iloc[:,-12:].sum(axis=1)\n",
    "    return table2"
   ]
  },
  {
   "cell_type": "code",
   "execution_count": 122,
   "metadata": {},
   "outputs": [],
   "source": [
    "def add_subtotal_multi(PivotedGroup):\n",
    "    out = pd.concat([d.append(d.sum().rename((k, '', '', '', '', '', '', '', 'Subtotal'))) for k, d in PivotedGroup.groupby('Initiative')]).append((PivotedGroup.sum()).rename(('Grand', '', '', '', '', '', '', '', 'Total')))\n",
    "    out.index = pd.MultiIndex.from_tuples(out.index)\n",
    "    return out"
   ]
  },
  {
   "cell_type": "code",
   "execution_count": 123,
   "metadata": {},
   "outputs": [],
   "source": [
    "def to_excel(pivot, str):\n",
    "    pivot.to_excel(path+str, freeze_panes = (1,9), engine = 'openpyxl', sheet_name = 'Restricted_Rev_Detail', float_format = \"%.2f\")"
   ]
  },
  {
   "cell_type": "code",
   "execution_count": 124,
   "metadata": {},
   "outputs": [],
   "source": [
    "\n",
    "\n",
    "def edit_workbook(file):\n",
    "    book = load_workbook(file)\n",
    "    sheet = book.active #active means last opened sheet\n",
    "    sheet['A1']= \"Initiative\"\n",
    "    sheet['B1']= \"Project\"\n",
    "    sheet['C1']= \"Grant\"\n",
    "    sheet['D1']= \"GL Account\"\n",
    "    sheet['E1']= \"Memo\"\n",
    "    sheet['F1']= \"Transaction Number\"\n",
    "    sheet['G1']= \"Vendor Name\"\n",
    "    sheet['H1']= \"Vendor Rate\"\n",
    "    sheet['I1']= \"Vendor Contract Expiration Date\" \n",
    "    sheet['A1'].font = Font(bold=True)\n",
    "    sheet['B1'].font = Font(bold=True)\n",
    "    sheet['C1'].font = Font(bold=True)\n",
    "    sheet['D1'].font = Font(bold=True)\n",
    "    sheet['E1'].font = Font(bold=True)\n",
    "    sheet['F1'].font = Font(bold=True)\n",
    "    sheet['G1'].font = Font(bold=True)\n",
    "    sheet['H1'].font = Font(bold=True)\n",
    "    sheet['I1'].font = Font(bold=True)\n",
    "    sheet.column_dimensions['A'].width = 15\n",
    "    sheet.column_dimensions['B'].width = 20\n",
    "    sheet.column_dimensions['C'].width = 20\n",
    "    sheet.column_dimensions['D'].width = 20\n",
    "    sheet.column_dimensions['E'].width = 15\n",
    "    sheet.column_dimensions['F'].width = 15\n",
    "    sheet.column_dimensions['G'].width = 15\n",
    "    sheet.column_dimensions['H'].width = 15\n",
    "    sheet.column_dimensions['I'].width = 15\n",
    "    sheet.column_dimensions['J'].width = 12.5\n",
    "    sheet.column_dimensions['K'].width = 12.5\n",
    "    sheet.column_dimensions['L'].width = 12.5\n",
    "    sheet.column_dimensions['M'].width = 12.5\n",
    "    sheet.column_dimensions['N'].width = 12.5\n",
    "    sheet.column_dimensions['O'].width = 12.5\n",
    "    sheet.column_dimensions['P'].width = 12.5\n",
    "    sheet.column_dimensions['Q'].width = 12.5\n",
    "    sheet.column_dimensions['R'].width = 12.5\n",
    "    sheet.column_dimensions['S'].width = 12.5\n",
    "    sheet.column_dimensions['T'].width = 12.5   \n",
    "    sheet.column_dimensions['U'].width = 12.5   \n",
    "    sheet.column_dimensions['V'].width = 12.5   \n",
    "#    sheet.column_dimensions['D'].hidden = True\n",
    "    num_rows = sheet.max_row\n",
    "    curr_row = 1\n",
    "    for col in range(10, 23):\n",
    "        for row in range(1, num_rows+1):\n",
    "            sheet.cell(column=col, row=row).number_format = '\"$\"#,##0.00_);[Red](\"$\"#,##0.00)'\n",
    "    for col in range(1, 10):\n",
    "        for row in range(1, num_rows):\n",
    "            sheet.cell(column=col, row=row).alignment = Alignment(horizontal = 'left', vertical='top')\n",
    "            sheet.cell(column=col, row=row).fill = greyFill\n",
    "    for i in range(1, sheet.max_row + 1):\n",
    "        if sheet.cell(row=i, column=9).value == \"Subtotal\":\n",
    "            for j in range(10,23):\n",
    "                sheet.cell(column=j, row=i).font = Font(bold=True)\n",
    "                sheet.cell(column=j, row=i).border = Border(bottom=Side(style='thin'))       \n",
    "    sheet.auto_filter.ref = sheet.dimensions\n",
    "    sheet.sheet_view.zoomScale = 55\n",
    "#    sheet.protection.sheet = True\n",
    "    book.save(file)"
   ]
  },
  {
   "cell_type": "markdown",
   "metadata": {},
   "source": [
    "## Testing for unmerging cells"
   ]
  },
  {
   "cell_type": "code",
   "execution_count": 125,
   "metadata": {},
   "outputs": [],
   "source": [
    "# THIS CODE WILL UNMERGE ALL THE CELLS IN A SHEET.   \n",
    "def unmerge_rows(file):\n",
    "    for col in range(1,5):\n",
    "        rowstounmerge = []\n",
    "        book = load_workbook(file)\n",
    "        testsheet = book['Restricted_Rev_Detail'] #active means last opened sheet\n",
    "        for i in range(1,testsheet.max_row + 1):\n",
    "            if testsheet.cell(row=i, column=col).value:\n",
    "                rowstounmerge.append(i)\n",
    "        rowstounmerge.append(testsheet.max_row)\n",
    "        for i in range(1,len(rowstounmerge)-1):        \n",
    "            try:\n",
    "                testsheet.unmerge_cells(start_row=rowstounmerge[i], start_column=col, end_row = rowstounmerge[i+1]-1, end_column=col) \n",
    "            except:\n",
    "                pass\n",
    "        book.save(file) \n",
    "        book = load_workbook(file)\n",
    "        testsheet = book['Restricted_Rev_Detail'] #active means last opened sheet\n",
    "        for i in range(1,testsheet.max_row + 1):\n",
    "            if testsheet.cell(row=i, column=col).value:\n",
    "                continue\n",
    "            else:\n",
    "                testsheet.cell(row=i, column=col).value = testsheet.cell(row=i-1, column=col).value\n",
    "        book.save(file) \n",
    "        book = load_workbook(file)\n",
    "        testsheet = book['Restricted_Rev_Detail'] #active means last opened sheet\n",
    "        for i in range(1, testsheet.max_row + 1):\n",
    "            if testsheet.cell(row=i, column=9).value == \"Subtotal\":\n",
    "                testsheet.cell(row=i, column=col).value = None\n",
    "        book.save(file) \n",
    "        book = load_workbook(file)\n",
    "        testsheet = book['Restricted_Rev_Detail'] #active means last opened sheet\n",
    "        for i in range(1, testsheet.max_row + 1):\n",
    "            if testsheet.cell(row=i, column=1).value == \"Grand\":\n",
    "                testsheet.cell(row=i, column=2).value = None\n",
    "                testsheet.cell(row=i, column=3).value = None\n",
    "                testsheet.cell(row=i, column=4).value = None\n",
    "        book.save(file) "
   ]
  },
  {
   "cell_type": "code",
   "execution_count": 126,
   "metadata": {},
   "outputs": [],
   "source": [
    "def format_multi_pivot(Group, str):\n",
    "    step1 = create_multi_pivot(Group)\n",
    "    step2 = add_subtotal_multi(step1)\n",
    "    to_excel(step2, str)\n",
    "    edit_workbook(path+str)\n",
    "    unmerge_rows(path+str)"
   ]
  },
  {
   "cell_type": "markdown",
   "metadata": {},
   "source": [
    "## 6.  Create Restricted Revenue Files"
   ]
  },
  {
   "cell_type": "code",
   "execution_count": 127,
   "metadata": {},
   "outputs": [
    {
     "data": {
      "text/plain": [
       "'\\nformat_multi_pivot(Climate_Aligned_Industries, \\'\\\\Climate_Aligned_Industries_\\'+timestamp+\".xlsx\")\\nformat_multi_pivot(Strategic_Engagement_and_Analysis_Group, \\'\\\\Strategic_Engagement_and_Analysis_Group_\\'+timestamp+\".xlsx\")\\nformat_multi_pivot(US, \\'\\\\US_\\'+timestamp+\".xlsx\")  \\nformat_multi_pivot(Urban_Transformation, \\'\\\\Urban_Transformation_\\'+timestamp+\".xlsx\")\\nformat_multi_pivot(CarbonFreeBuildings_Rollup, \\'\\\\CarbonFree_Buildings_\\'+timestamp+\".xlsx\")\\nformat_multi_pivot(WattTime, \\'\\\\WattTime_\\'+timestamp+\".xlsx\")\\nformat_multi_pivot(CarbonFree_Electricty, \\'\\\\CarbonFree_Electricity_\\'+timestamp+\".xlsx\")\\nformat_multi_pivot(Climate_Intelligence, \\'\\\\Climate_Intelligence_\\'+timestamp+\".xlsx\")\\nformat_multi_pivot(Industry, \\'\\\\Industry_\\'+timestamp+\".xlsx\")\\nformat_multi_pivot(Developing_Economies_Rollup, \\'\\\\Developing_Economies_\\'+timestamp+\".xlsx\")\\nformat_multi_pivot(Global_Climate_Finance, \\'\\\\Global_Climate_Finance_\\'+timestamp+\".xlsx\")  \\n'"
      ]
     },
     "execution_count": 127,
     "metadata": {},
     "output_type": "execute_result"
    }
   ],
   "source": [
    "'''\n",
    "%%time\n",
    "format_multi_pivot(India, '\\\\India_'+timestamp+\".xlsx\")\n",
    "format_multi_pivot(Operations, '\\\\Operations_'+timestamp+\".xlsx\")\n",
    "format_multi_pivot(China_Rollup, '\\\\China_'+timestamp+\".xlsx\")\n",
    "format_multi_pivot(Breakthrough_Technology, '\\\\Breakthrough_Technology-'+timestamp+\".xlsx\")\n",
    "'''\n",
    "format_multi_pivot(CarbonFree_Mobility, '\\\\CarbonFree_Mobility_'+timestamp+\".xlsx\")\n",
    "'''\n",
    "format_multi_pivot(Climate_Aligned_Industries, '\\\\Climate_Aligned_Industries_'+timestamp+\".xlsx\")\n",
    "format_multi_pivot(Strategic_Engagement_and_Analysis_Group, '\\\\Strategic_Engagement_and_Analysis_Group_'+timestamp+\".xlsx\")\n",
    "format_multi_pivot(US, '\\\\US_'+timestamp+\".xlsx\")  \n",
    "format_multi_pivot(Urban_Transformation, '\\\\Urban_Transformation_'+timestamp+\".xlsx\")\n",
    "format_multi_pivot(CarbonFreeBuildings_Rollup, '\\\\CarbonFree_Buildings_'+timestamp+\".xlsx\")\n",
    "format_multi_pivot(WattTime, '\\\\WattTime_'+timestamp+\".xlsx\")\n",
    "format_multi_pivot(CarbonFree_Electricty, '\\\\CarbonFree_Electricity_'+timestamp+\".xlsx\")\n",
    "format_multi_pivot(Climate_Intelligence, '\\\\Climate_Intelligence_'+timestamp+\".xlsx\")\n",
    "format_multi_pivot(Industry, '\\\\Industry_'+timestamp+\".xlsx\")\n",
    "format_multi_pivot(Developing_Economies_Rollup, '\\\\Developing_Economies_'+timestamp+\".xlsx\")\n",
    "format_multi_pivot(Global_Climate_Finance, '\\\\Global_Climate_Finance_'+timestamp+\".xlsx\")  \n",
    "'''"
   ]
  },
  {
   "cell_type": "code",
   "execution_count": null,
   "metadata": {},
   "outputs": [],
   "source": []
  },
  {
   "cell_type": "markdown",
   "metadata": {},
   "source": [
    "## 7.  Add ML and Consulting Fee Tab"
   ]
  },
  {
   "cell_type": "code",
   "execution_count": 128,
   "metadata": {},
   "outputs": [],
   "source": [
    "def create_df_FeeforService(program):\n",
    "    firstdf = df1[df1['Program']==program]\n",
    "    seconddf = firstdf[(firstdf['Account Digit']=='5')|(firstdf['Account Digit']=='6')]\n",
    "    if seconddf.empty == True:\n",
    "        print(str(program)+ \" DF is EMPTY\")\n",
    "    else:    \n",
    "        return seconddf"
   ]
  },
  {
   "cell_type": "code",
   "execution_count": 129,
   "metadata": {},
   "outputs": [],
   "source": [
    "DevelopmentFFS = create_df_FeeforService(\"Development\")\n",
    "IslandsFFS = create_df_FeeforService(\"Islands\")\n",
    "IndiaFFS = create_df_FeeforService(\"India\")\n",
    "OperationsFFS = create_df_FeeforService(\"Operations\")\n",
    "ChinaFFS = create_df_FeeforService(\"China\")\n",
    "Breakthrough_Technology_FFS = create_df_FeeforService(\"Breakthrough Technology\")\n",
    "CarbonFree_MobilityFFS = create_df_FeeforService(\"Carbon-Free Mobility\")\n",
    "ClimateAligned_IndustriesFFS = create_df_FeeforService(\"Climate Aligned Industries\")\n",
    "CommunicationsFFS = create_df_FeeforService(\"Communications\")\n",
    "GlobalClimate_FinanceFFS = create_df_FeeforService(\"Global Climate Finance\")\n",
    "Strategic_Engagement_and_Analysis_GroupFFS = create_df_FeeforService(\"Strategic Engagement and Analysis Group\")\n",
    "Carbon_Free_BuildingsFFS = create_df_FeeforService(\"Carbon-Free Buildings\")\n",
    "Watttime_FFS = create_df_FeeforService(\"WattTime\")\n",
    "Carbon_Free_ElectricityFFS = create_df_FeeforService(\"Carbon-Free Electricity\")\n",
    "UrbanTrans_FFS = create_df_FeeforService(\"Urban Transformation\")\n",
    "ClimateIntelFFS = create_df_FeeforService(\"Climate Intelligence\")\n",
    "IndustryFFS = create_df_FeeforService(\"Industry\")\n",
    "SEAsiaFFS = create_df_FeeforService(\"SE Asia\")\n",
    "AfricaFFS = create_df_FeeforService(\"Africa\")\n",
    "USFFS = create_df_FeeforService(\"US\")\n",
    "BuildingElectrificationFFS = create_df_FeeforService(\"Building Electrification\")\n",
    "Energy_Transition_AcademyFFS = create_df_FeeforService(\"Energy Transition Academy\")\n",
    "BeijingFFS = create_df_FeeforService(\"Beijing\")"
   ]
  },
  {
   "cell_type": "code",
   "execution_count": 130,
   "metadata": {},
   "outputs": [],
   "source": [
    "Developing_Economies_RollupFFS = pd.concat([IslandsFFS, AfricaFFS, SEAsiaFFS, Energy_Transition_AcademyFFS], ignore_index = True, sort=False)\n",
    "CarbonFreeBuildings_RollupFFS = pd.concat([Carbon_Free_BuildingsFFS, BuildingElectrificationFFS], ignore_index = True, sort=False)\n",
    "China_RollupFFS = pd.concat([ChinaFFS,BeijingFFS], ignore_index = True, sort=False)\n"
   ]
  },
  {
   "cell_type": "code",
   "execution_count": 131,
   "metadata": {},
   "outputs": [],
   "source": [
    "def create_FFS_pivot(Group):\n",
    "    Month_order = ['Jul 2020', 'Aug 2020', 'Sep 2020', 'Oct 2020', 'Nov 2020', 'Dec 2020', 'Jan 2021', 'Feb 2021', 'Mar 2021', 'Apr 2021', 'May 2021', 'Jun 2021']\n",
    "    table = pd.pivot_table(Group, index = ['Initiative','Project','Grant', 'GL Account', 'Memo', 'Client', 'Transaction Number'], values = 'Amount', columns = 'Period', aggfunc=np.sum)\n",
    "    table2 = table.reindex(Month_order, axis=1)\n",
    "    table2['Total'] = table2.iloc[:,-12:].sum(axis=1)\n",
    "    return table2"
   ]
  },
  {
   "cell_type": "code",
   "execution_count": 132,
   "metadata": {},
   "outputs": [],
   "source": [
    "def add_subtotal_FFS(PivotedGroup):\n",
    "    out = pd.concat([d.append(d.sum().rename((k, '', '', '', '', '',  'Subtotal'))) for k, d in PivotedGroup.groupby('Initiative')]).append((PivotedGroup.sum()).rename(('Grand', '', '', '',  '', '', 'Total')))\n",
    "    out.index = pd.MultiIndex.from_tuples(out.index)\n",
    "    return out"
   ]
  },
  {
   "cell_type": "code",
   "execution_count": 133,
   "metadata": {},
   "outputs": [],
   "source": [
    "def to_excel_FFS(df, file):\n",
    "    writer = pd.ExcelWriter(file, engine='openpyxl')\n",
    "    if os.path.exists(file):\n",
    "        book = openpyxl.load_workbook(file)\n",
    "        writer.book = book\n",
    "\n",
    "    df.to_excel(writer, sheet_name=\"ML & FFS Revenue\")\n",
    "    writer.save()\n",
    "    writer.close()    "
   ]
  },
  {
   "cell_type": "code",
   "execution_count": 134,
   "metadata": {},
   "outputs": [],
   "source": [
    "def edit_workbook_FFS(file):\n",
    "    book = load_workbook(file)\n",
    "    sheet = book[\"ML & FFS Revenue\"] #active means last opened sheet\n",
    "    sheet['A1']= \"Initiative\"\n",
    "    sheet['B1']= \"Project\"\n",
    "    sheet['C1']= \"Grant\"\n",
    "    sheet['D1']= \"GL Account\"\n",
    "    sheet['E1']= \"Memo\"\n",
    "    sheet['F1']= \"Client\"\n",
    "    sheet['G1']= \"Transaction Number\" \n",
    "    sheet['A1'].font = Font(bold=True)\n",
    "    sheet['B1'].font = Font(bold=True)\n",
    "    sheet['C1'].font = Font(bold=True)\n",
    "    sheet['D1'].font = Font(bold=True)\n",
    "    sheet['E1'].font = Font(bold=True)\n",
    "    sheet['F1'].font = Font(bold=True)\n",
    "    sheet['G1'].font = Font(bold=True)\n",
    "    sheet.column_dimensions['A'].width = 15\n",
    "    sheet.column_dimensions['B'].width = 20\n",
    "    sheet.column_dimensions['C'].width = 20\n",
    "    sheet.column_dimensions['D'].width = 20\n",
    "    sheet.column_dimensions['E'].width = 15\n",
    "    sheet.column_dimensions['F'].width = 15\n",
    "    sheet.column_dimensions['G'].width = 15\n",
    "    sheet.column_dimensions['J'].width = 12.5\n",
    "    sheet.column_dimensions['K'].width = 12.5\n",
    "    sheet.column_dimensions['L'].width = 12.5\n",
    "    sheet.column_dimensions['M'].width = 12.5\n",
    "    sheet.column_dimensions['N'].width = 12.5\n",
    "    sheet.column_dimensions['O'].width = 12.5\n",
    "    sheet.column_dimensions['P'].width = 12.5\n",
    "    sheet.column_dimensions['Q'].width = 12.5\n",
    "    sheet.column_dimensions['R'].width = 12.5\n",
    "    sheet.column_dimensions['S'].width = 12.5\n",
    "    sheet.column_dimensions['T'].width = 12.5   \n",
    "    sheet.column_dimensions['U'].width = 12.5   \n",
    "    sheet.column_dimensions['V'].width = 12.5   \n",
    "#    sheet.column_dimensions['D'].hidden = True\n",
    "    num_rows = sheet.max_row\n",
    "    curr_row = 1\n",
    "    for col in range(8, 21):\n",
    "        for row in range(1, num_rows+1):\n",
    "            sheet.cell(column=col, row=row).number_format = '\"$\"#,##0.00_);[Red](\"$\"#,##0.00)'\n",
    "    for col in range(1, 8):\n",
    "        for row in range(1, num_rows):\n",
    "            sheet.cell(column=col, row=row).alignment = Alignment(horizontal = 'left', vertical='top')\n",
    "            sheet.cell(column=col, row=row).fill = greyFill\n",
    "    for i in range(1, sheet.max_row + 1):\n",
    "        if sheet.cell(row=i, column=7).value == \"Subtotal\":\n",
    "            for j in range(8,21):\n",
    "                sheet.cell(column=j, row=i).font = Font(bold=True)\n",
    "                sheet.cell(column=j, row=i).border = Border(bottom=Side(style='thin'))       \n",
    "    sheet.auto_filter.ref = sheet.dimensions\n",
    "    sheet.sheet_view.zoomScale = 55\n",
    "    sheet.freeze_panes = \"H2\"\n",
    "    book.save(file)"
   ]
  },
  {
   "cell_type": "code",
   "execution_count": 135,
   "metadata": {},
   "outputs": [],
   "source": [
    "def unmerge_rows_FFS(file):\n",
    "    for col in range(1,5):\n",
    "        rowstounmerge = []\n",
    "        book = load_workbook(file)\n",
    "        testsheet = book['ML & FFS Revenue'] #active means last opened sheet\n",
    "        for i in range(1,testsheet.max_row + 1):\n",
    "            if testsheet.cell(row=i, column=col).value:\n",
    "                rowstounmerge.append(i)\n",
    "        rowstounmerge.append(testsheet.max_row)\n",
    "        for i in range(1,len(rowstounmerge)-1):        \n",
    "            try:\n",
    "                testsheet.unmerge_cells(start_row=rowstounmerge[i], start_column=col, end_row = rowstounmerge[i+1]-1, end_column=col) \n",
    "            except:\n",
    "                pass\n",
    "        book.save(file) \n",
    "        book = load_workbook(file)\n",
    "        testsheet = book['ML & FFS Revenue'] #active means last opened sheet\n",
    "        for i in range(1,testsheet.max_row + 1):\n",
    "            if testsheet.cell(row=i, column=col).value:\n",
    "                continue\n",
    "            else:\n",
    "                testsheet.cell(row=i, column=col).value = testsheet.cell(row=i-1, column=col).value\n",
    "        book.save(file) \n",
    "        book = load_workbook(file)\n",
    "        testsheet = book['ML & FFS Revenue'] #active means last opened sheet\n",
    "        for i in range(1, testsheet.max_row + 1):\n",
    "            if testsheet.cell(row=i, column=7).value == \"Subtotal\":\n",
    "                testsheet.cell(row=i, column=col).value = None\n",
    "        book.save(file) \n",
    "        book = load_workbook(file)\n",
    "        testsheet = book['ML & FFS Revenue'] #active means last opened sheet\n",
    "        for i in range(1, testsheet.max_row + 1):\n",
    "            if testsheet.cell(row=i, column=1).value == \"Grand\":\n",
    "                testsheet.cell(row=i, column=2).value = None\n",
    "                testsheet.cell(row=i, column=3).value = None\n",
    "                testsheet.cell(row=i, column=4).value = None\n",
    "        book.save(file) "
   ]
  },
  {
   "cell_type": "code",
   "execution_count": 136,
   "metadata": {},
   "outputs": [],
   "source": [
    "def format_FFS_pivot(Group, str):\n",
    "    step1 = create_FFS_pivot(Group)\n",
    "    step2 = add_subtotal_FFS(step1)\n",
    "    to_excel_FFS(step2, path+str)\n",
    "    edit_workbook_FFS(path+str)\n",
    "    unmerge_rows_FFS(path+str)"
   ]
  },
  {
   "cell_type": "markdown",
   "metadata": {},
   "source": [
    "## 8.  Add ML and FFS Pivots to Second Tab"
   ]
  },
  {
   "cell_type": "code",
   "execution_count": 137,
   "metadata": {},
   "outputs": [
    {
     "data": {
      "text/plain": [
       "'\\nformat_FFS_pivot(ClimateAligned_IndustriesFFS, \\'\\\\Climate_Aligned_Industries_\\'+timestamp+\".xlsx\")\\nformat_FFS_pivot(CarbonFreeBuildings_RollupFFS, \\'\\\\CarbonFree_Buildings_\\'+timestamp+\".xlsx\")\\nformat_FFS_pivot(Strategic_Engagement_and_Analysis_GroupFFS, \\'\\\\Strategic_Engagement_and_Analysis_Group_\\'+timestamp+\".xlsx\")\\nformat_FFS_pivot(UrbanTrans_FFS, \\'\\\\Urban_Transformation_\\'+timestamp+\".xlsx\")\\nformat_FFS_pivot(USFFS, \\'\\\\US_\\'+timestamp+\".xlsx\")\\nformat_FFS_pivot(Watttime_FFS, \\'\\\\WattTime_\\'+timestamp+\".xlsx\")\\nformat_FFS_pivot(Carbon_Free_ElectricityFFS, \\'\\\\CarbonFree_Electricity_\\'+timestamp+\".xlsx\")\\nformat_FFS_pivot(UrbanTrans_FFS, \\'\\\\Urban_Transformation_\\'+timestamp+\".xlsx\")\\nformat_FFS_pivot(ClimateIntelFFS, \\'\\\\Climate_Intelligence_\\'+timestamp+\".xlsx\")\\nformat_FFS_pivot(IndustryFFS, \\'\\\\Industry_\\'+timestamp+\".xlsx\")\\nformat_FFS_pivot(GlobalClimate_FinanceFFS, \\'\\\\Global_Climate_Finance_\\'+timestamp+\".xlsx\")\\nformat_FFS_pivot(Breakthrough_Technology_FFS, \\'\\\\Breakthrough_Technology-\\'+timestamp+\".xlsx\")\\n'"
      ]
     },
     "execution_count": 137,
     "metadata": {},
     "output_type": "execute_result"
    }
   ],
   "source": [
    "'''\n",
    "format_FFS_pivot(Developing_Economies_RollupFFS, '\\\\Developing_Economies_'+timestamp+\".xlsx\")\n",
    "format_FFS_pivot(IndiaFFS, '\\\\India_'+timestamp+\".xlsx\")\n",
    "format_FFS_pivot(OperationsFFS, '\\\\Operations_'+timestamp+\".xlsx\")\n",
    "format_FFS_pivot(China_RollupFFS, '\\\\China_'+timestamp+\".xlsx\")\n",
    "format_FFS_pivot(Breakthrough_Technology_FFS, '\\\\Breakthrough_Technology-'+timestamp+\".xlsx\")\n",
    "'''\n",
    "format_FFS_pivot(CarbonFree_MobilityFFS, '\\\\CarbonFree_Mobility_'+timestamp+\".xlsx\")\n",
    "'''\n",
    "format_FFS_pivot(ClimateAligned_IndustriesFFS, '\\\\Climate_Aligned_Industries_'+timestamp+\".xlsx\")\n",
    "format_FFS_pivot(CarbonFreeBuildings_RollupFFS, '\\\\CarbonFree_Buildings_'+timestamp+\".xlsx\")\n",
    "format_FFS_pivot(Strategic_Engagement_and_Analysis_GroupFFS, '\\\\Strategic_Engagement_and_Analysis_Group_'+timestamp+\".xlsx\")\n",
    "format_FFS_pivot(UrbanTrans_FFS, '\\\\Urban_Transformation_'+timestamp+\".xlsx\")\n",
    "format_FFS_pivot(USFFS, '\\\\US_'+timestamp+\".xlsx\")\n",
    "format_FFS_pivot(Watttime_FFS, '\\\\WattTime_'+timestamp+\".xlsx\")\n",
    "format_FFS_pivot(Carbon_Free_ElectricityFFS, '\\\\CarbonFree_Electricity_'+timestamp+\".xlsx\")\n",
    "format_FFS_pivot(UrbanTrans_FFS, '\\\\Urban_Transformation_'+timestamp+\".xlsx\")\n",
    "format_FFS_pivot(ClimateIntelFFS, '\\\\Climate_Intelligence_'+timestamp+\".xlsx\")\n",
    "format_FFS_pivot(IndustryFFS, '\\\\Industry_'+timestamp+\".xlsx\")\n",
    "format_FFS_pivot(GlobalClimate_FinanceFFS, '\\\\Global_Climate_Finance_'+timestamp+\".xlsx\")\n",
    "format_FFS_pivot(Breakthrough_Technology_FFS, '\\\\Breakthrough_Technology-'+timestamp+\".xlsx\")\n",
    "'''"
   ]
  },
  {
   "cell_type": "markdown",
   "metadata": {},
   "source": [
    "# 9.  Total Expenses"
   ]
  },
  {
   "cell_type": "code",
   "execution_count": 138,
   "metadata": {},
   "outputs": [],
   "source": [
    "def create_df_allExpenses(program):\n",
    "    firstdf = df1[df1['Program']==program]\n",
    "    seconddf = firstdf[(firstdf['Account Digit']=='7')|(firstdf['Account Digit']=='8')]\n",
    "    if seconddf.empty == True:\n",
    "        print(str(program)+ \" DF is EMPTY\")\n",
    "    else:    \n",
    "        return seconddf"
   ]
  },
  {
   "cell_type": "code",
   "execution_count": 139,
   "metadata": {},
   "outputs": [],
   "source": [
    "DevelopmentExp = create_df_allExpenses(\"Development\")\n",
    "IslandsExp = create_df_allExpenses(\"Islands\")\n",
    "IndiaExp = create_df_allExpenses(\"India\")\n",
    "OperationsExp = create_df_allExpenses(\"Operations\")\n",
    "ChinaExp = create_df_allExpenses(\"China\")\n",
    "Breakthrough_Technology_Exp = create_df_allExpenses(\"Breakthrough Technology\")\n",
    "CarbonFree_MobilityExp = create_df_allExpenses(\"Carbon-Free Mobility\")\n",
    "ClimateAligned_IndustriesExp = create_df_allExpenses(\"Climate Aligned Industries\")\n",
    "CommunicationsExp = create_df_allExpenses(\"Communications\")\n",
    "GlobalClimate_FinanceExp = create_df_allExpenses(\"Global Climate Finance\")\n",
    "Strategic_Engagement_and_Analysis_GroupExp = create_df_allExpenses(\"Strategic Engagement and Analysis Group\")\n",
    "Carbon_Free_BuildingsExp = create_df_allExpenses(\"Carbon-Free Buildings\")\n",
    "Watttime_Exp = create_df_allExpenses(\"WattTime\")\n",
    "Carbon_Free_ElectricityExp = create_df_allExpenses(\"Carbon-Free Electricity\")\n",
    "UrbanTrans_Exp = create_df_allExpenses(\"Urban Transformation\")\n",
    "ClimateIntelExp = create_df_allExpenses(\"Climate Intelligence\")\n",
    "IndustryExp = create_df_allExpenses(\"Industry\")\n",
    "SEAsiaExp = create_df_allExpenses(\"SE Asia\")\n",
    "AfricaExp = create_df_allExpenses(\"Africa\")\n",
    "USExp = create_df_allExpenses(\"US\")\n",
    "BuildingElectrificationExp = create_df_allExpenses(\"Building Electrification\")\n",
    "Energy_Transition_AcademyExp = create_df_allExpenses(\"Energy Transition Academy\")\n",
    "BeijingExp = create_df_allExpenses(\"Beijing\")"
   ]
  },
  {
   "cell_type": "code",
   "execution_count": 140,
   "metadata": {},
   "outputs": [],
   "source": [
    "Developing_Economies_RollupExp = pd.concat([IslandsExp, AfricaExp, SEAsiaExp, Energy_Transition_AcademyExp], ignore_index = True, sort=False)\n",
    "CarbonFreeBuildings_RollupExp = pd.concat([Carbon_Free_BuildingsExp, BuildingElectrificationExp], ignore_index = True, sort=False)\n",
    "China_RollupExp = pd.concat([ChinaExp, BeijingExp], ignore_index = True, sort=False)"
   ]
  },
  {
   "cell_type": "code",
   "execution_count": 141,
   "metadata": {},
   "outputs": [],
   "source": [
    "def create_pivot_Exp(Group):\n",
    "    Month_order = ['Jul 2020', 'Aug 2020', 'Sep 2020', 'Oct 2020', 'Nov 2020', 'Dec 2020', 'Jan 2021', 'Feb 2021', 'Mar 2021', 'Apr 2021', 'May 2021', 'Jun 2021']\n",
    "    table = pd.pivot_table(Group, index = ['Initiative','Project','Grant', 'GL Account', 'Memo', 'Transaction Number', 'Vendor Name', 'Vendor Rate', 'Vendor Contract Expiration Date'], values = 'Amount', columns = 'Period', aggfunc=np.sum)\n",
    "    table2 = table.reindex(Month_order, axis=1)\n",
    "    table2['Total'] = table2.iloc[:,-12:].sum(axis=1)\n",
    "    return table2"
   ]
  },
  {
   "cell_type": "code",
   "execution_count": 142,
   "metadata": {},
   "outputs": [],
   "source": [
    "def add_subtotal_Exp(PivotedGroup):\n",
    "    out = pd.concat([d.append(d.sum().rename((k, '', '', '', '', '', '', '', 'Subtotal'))) for k, d in PivotedGroup.groupby('Initiative')]).append((PivotedGroup.sum()).rename(('Grand', '', '', '', '', '', '', '', 'Total')))\n",
    "    out.index = pd.MultiIndex.from_tuples(out.index)\n",
    "    return out"
   ]
  },
  {
   "cell_type": "code",
   "execution_count": 143,
   "metadata": {},
   "outputs": [],
   "source": [
    "def to_excel_Exp(df, file):\n",
    "    writer = pd.ExcelWriter(file, engine='openpyxl')\n",
    "    if os.path.exists(file):\n",
    "        book = openpyxl.load_workbook(file)\n",
    "        writer.book = book\n",
    "\n",
    "    df.to_excel(writer, sheet_name=\"All Expense Detail\")\n",
    "    writer.save()\n",
    "    writer.close()    "
   ]
  },
  {
   "cell_type": "code",
   "execution_count": 144,
   "metadata": {},
   "outputs": [],
   "source": [
    "def edit_workbook_Exp(file):\n",
    "    book = load_workbook(file)\n",
    "    sheet = book['All Expense Detail'] #active means last opened sheet\n",
    "    sheet['A1']= \"Initiative\"\n",
    "    sheet['B1']= \"Project\"\n",
    "    sheet['C1']= \"Grant\"\n",
    "    sheet['D1']= \"GL Account\"\n",
    "    sheet['E1']= \"Memo\"\n",
    "    sheet['F1']= \"Transaction Number\"\n",
    "    sheet['G1']= \"Vendor Name\"\n",
    "    sheet['H1']= \"Vendor Rate\"\n",
    "    sheet['I1']= \"Vendor Contract Expiration Date\" \n",
    "    sheet['A1'].font = Font(bold=True)\n",
    "    sheet['B1'].font = Font(bold=True)\n",
    "    sheet['C1'].font = Font(bold=True)\n",
    "    sheet['D1'].font = Font(bold=True)\n",
    "    sheet['E1'].font = Font(bold=True)\n",
    "    sheet['F1'].font = Font(bold=True)\n",
    "    sheet['G1'].font = Font(bold=True)\n",
    "    sheet['H1'].font = Font(bold=True)\n",
    "    sheet['I1'].font = Font(bold=True)\n",
    "    sheet.column_dimensions['A'].width = 15\n",
    "    sheet.column_dimensions['B'].width = 20\n",
    "    sheet.column_dimensions['C'].width = 20\n",
    "    sheet.column_dimensions['D'].width = 20\n",
    "    sheet.column_dimensions['E'].width = 15\n",
    "    sheet.column_dimensions['F'].width = 15\n",
    "    sheet.column_dimensions['G'].width = 15\n",
    "    sheet.column_dimensions['H'].width = 15\n",
    "    sheet.column_dimensions['I'].width = 15\n",
    "    sheet.column_dimensions['J'].width = 12.5\n",
    "    sheet.column_dimensions['K'].width = 12.5\n",
    "    sheet.column_dimensions['L'].width = 12.5\n",
    "    sheet.column_dimensions['M'].width = 12.5\n",
    "    sheet.column_dimensions['N'].width = 12.5\n",
    "    sheet.column_dimensions['O'].width = 12.5\n",
    "    sheet.column_dimensions['P'].width = 12.5\n",
    "    sheet.column_dimensions['Q'].width = 12.5\n",
    "    sheet.column_dimensions['R'].width = 12.5\n",
    "    sheet.column_dimensions['S'].width = 12.5\n",
    "    sheet.column_dimensions['T'].width = 12.5   \n",
    "    sheet.column_dimensions['U'].width = 12.5   \n",
    "    sheet.column_dimensions['V'].width = 12.5   \n",
    "#    sheet.column_dimensions['D'].hidden = True\n",
    "    num_rows = sheet.max_row\n",
    "    curr_row = 1\n",
    "    for col in range(10, 23):\n",
    "        for row in range(1, num_rows+1):\n",
    "            sheet.cell(column=col, row=row).number_format = '\"$\"#,##0.00_);[Red](\"$\"#,##0.00)'\n",
    "    for col in range(1, 10):\n",
    "        for row in range(1, num_rows):\n",
    "            sheet.cell(column=col, row=row).alignment = Alignment(horizontal = 'left', vertical='top')\n",
    "            sheet.cell(column=col, row=row).fill = greyFill\n",
    "    for i in range(1, sheet.max_row + 1):\n",
    "        if sheet.cell(row=i, column=9).value == \"Subtotal\":\n",
    "            for j in range(10,23):\n",
    "                sheet.cell(column=j, row=i).font = Font(bold=True)\n",
    "                sheet.cell(column=j, row=i).border = Border(bottom=Side(style='thin'))       \n",
    "    sheet.auto_filter.ref = sheet.dimensions\n",
    "    sheet.sheet_view.zoomScale = 55\n",
    "    sheet.freeze_panes = \"J2\"\n",
    "    book.save(file)"
   ]
  },
  {
   "cell_type": "code",
   "execution_count": 145,
   "metadata": {},
   "outputs": [],
   "source": [
    "def unmerge_rows_EXP(file):\n",
    "    for col in range(1,5):\n",
    "        rowstounmerge = []\n",
    "        book = load_workbook(file)\n",
    "        testsheet = book['All Expense Detail'] #active means last opened sheet\n",
    "        for i in range(1,testsheet.max_row + 1):\n",
    "            if testsheet.cell(row=i, column=col).value:\n",
    "                rowstounmerge.append(i)\n",
    "        rowstounmerge.append(testsheet.max_row)\n",
    "        for i in range(1,len(rowstounmerge)-1):        \n",
    "            try:\n",
    "                testsheet.unmerge_cells(start_row=rowstounmerge[i], start_column=col, end_row = rowstounmerge[i+1]-1, end_column=col) \n",
    "            except:\n",
    "                pass\n",
    "        book.save(file) \n",
    "        book = load_workbook(file)\n",
    "        testsheet = book['All Expense Detail'] #active means last opened sheet\n",
    "        for i in range(1,testsheet.max_row + 1):\n",
    "            if testsheet.cell(row=i, column=col).value:\n",
    "                continue\n",
    "            else:\n",
    "                testsheet.cell(row=i, column=col).value = testsheet.cell(row=i-1, column=col).value\n",
    "        book.save(file) \n",
    "        book = load_workbook(file)\n",
    "        testsheet = book['All Expense Detail'] #active means last opened sheet\n",
    "        for i in range(1, testsheet.max_row + 1):\n",
    "            if testsheet.cell(row=i, column=9).value == \"Subtotal\":\n",
    "                testsheet.cell(row=i, column=col).value = None\n",
    "        book.save(file) \n",
    "        book = load_workbook(file)\n",
    "        testsheet = book['All Expense Detail'] #active means last opened sheet\n",
    "        for i in range(1, testsheet.max_row + 1):\n",
    "            if testsheet.cell(row=i, column=1).value == \"Grand\":\n",
    "                testsheet.cell(row=i, column=2).value = None\n",
    "                testsheet.cell(row=i, column=3).value = None\n",
    "                testsheet.cell(row=i, column=4).value = None\n",
    "        book.save(file) "
   ]
  },
  {
   "cell_type": "code",
   "execution_count": 146,
   "metadata": {},
   "outputs": [],
   "source": [
    "def format_Exp_pivot(Group, str):\n",
    "    step1 = create_pivot_Exp(Group)\n",
    "    step2 = add_subtotal_Exp(step1)\n",
    "    to_excel_Exp(step2, path+str)\n",
    "    edit_workbook_Exp(path+str)\n",
    "    unmerge_rows_EXP(path+str)"
   ]
  },
  {
   "cell_type": "code",
   "execution_count": 147,
   "metadata": {},
   "outputs": [
    {
     "data": {
      "text/plain": [
       "'\\nformat_Exp_pivot(ClimateAligned_IndustriesExp, \\'\\\\Climate_Aligned_Industries_\\'+timestamp+\".xlsx\")\\nformat_Exp_pivot(USExp, \\'\\\\US_\\'+timestamp+\".xlsx\")\\nformat_Exp_pivot(UrbanTrans_Exp, \\'\\\\Urban_Transformation_\\'+timestamp+\".xlsx\")\\nformat_Exp_pivot(Strategic_Engagement_and_Analysis_GroupExp, \\'\\\\Strategic_Engagement_and_Analysis_Group_\\'+timestamp+\".xlsx\")\\nformat_Exp_pivot(CarbonFreeBuildings_RollupExp, \\'\\\\CarbonFree_Buildings_\\'+timestamp+\".xlsx\")\\nformat_Exp_pivot(Watttime_Exp, \\'\\\\WattTime_\\'+timestamp+\".xlsx\")\\nformat_Exp_pivot(Carbon_Free_ElectricityExp, \\'\\\\CarbonFree_Electricity_\\'+timestamp+\".xlsx\")\\nformat_Exp_pivot(ClimateIntelExp, \\'\\\\Climate_Intelligence_\\'+timestamp+\".xlsx\")\\nformat_Exp_pivot(IndustryExp, \\'\\\\Industry_\\'+timestamp+\".xlsx\")\\nformat_Exp_pivot(GlobalClimate_FinanceExp, \\'\\\\Global_Climate_Finance_\\'+timestamp+\".xlsx\")\\n'"
      ]
     },
     "execution_count": 147,
     "metadata": {},
     "output_type": "execute_result"
    }
   ],
   "source": [
    "'''\n",
    "format_Exp_pivot(Developing_Economies_RollupExp, '\\\\Developing_Economies_'+timestamp+\".xlsx\")\n",
    "format_Exp_pivot(IndiaExp, '\\\\India_'+timestamp+\".xlsx\")\n",
    "format_Exp_pivot(OperationsExp, '\\\\Operations_'+timestamp+\".xlsx\")\n",
    "format_Exp_pivot(China_RollupExp, '\\\\China_'+timestamp+\".xlsx\")\n",
    "format_Exp_pivot(Breakthrough_Technology_Exp, '\\\\Breakthrough_Technology-'+timestamp+\".xlsx\")\n",
    "'''\n",
    "format_Exp_pivot(CarbonFree_MobilityExp, '\\\\CarbonFree_Mobility_'+timestamp+\".xlsx\")\n",
    "'''\n",
    "format_Exp_pivot(ClimateAligned_IndustriesExp, '\\\\Climate_Aligned_Industries_'+timestamp+\".xlsx\")\n",
    "format_Exp_pivot(USExp, '\\\\US_'+timestamp+\".xlsx\")\n",
    "format_Exp_pivot(UrbanTrans_Exp, '\\\\Urban_Transformation_'+timestamp+\".xlsx\")\n",
    "format_Exp_pivot(Strategic_Engagement_and_Analysis_GroupExp, '\\\\Strategic_Engagement_and_Analysis_Group_'+timestamp+\".xlsx\")\n",
    "format_Exp_pivot(CarbonFreeBuildings_RollupExp, '\\\\CarbonFree_Buildings_'+timestamp+\".xlsx\")\n",
    "format_Exp_pivot(Watttime_Exp, '\\\\WattTime_'+timestamp+\".xlsx\")\n",
    "format_Exp_pivot(Carbon_Free_ElectricityExp, '\\\\CarbonFree_Electricity_'+timestamp+\".xlsx\")\n",
    "format_Exp_pivot(ClimateIntelExp, '\\\\Climate_Intelligence_'+timestamp+\".xlsx\")\n",
    "format_Exp_pivot(IndustryExp, '\\\\Industry_'+timestamp+\".xlsx\")\n",
    "format_Exp_pivot(GlobalClimate_FinanceExp, '\\\\Global_Climate_Finance_'+timestamp+\".xlsx\")\n",
    "'''"
   ]
  },
  {
   "cell_type": "markdown",
   "metadata": {},
   "source": [
    "## 10. Add Mavenlink Detail"
   ]
  },
  {
   "cell_type": "code",
   "execution_count": 148,
   "metadata": {},
   "outputs": [],
   "source": [
    "def create_Mavenlinkprogram(program):\n",
    "    firstdf = dfMavenlink[dfMavenlink['Program']==program]\n",
    "    if firstdf.empty == True:\n",
    "        print(str(program)+ \" DF is EMPTY\")\n",
    "    else:    \n",
    "        return firstdf"
   ]
  },
  {
   "cell_type": "code",
   "execution_count": 149,
   "metadata": {},
   "outputs": [
    {
     "name": "stdout",
     "output_type": "stream",
     "text": [
      "Beijing DF is EMPTY\n"
     ]
    }
   ],
   "source": [
    "\n",
    "DevelopmentML = create_Mavenlinkprogram(\"Development\")\n",
    "IslandsML = create_Mavenlinkprogram(\"Islands\")\n",
    "IndiaML = create_Mavenlinkprogram(\"India\")\n",
    "OperationsML = create_Mavenlinkprogram(\"Operations\")\n",
    "ChinaML = create_Mavenlinkprogram(\"China\")\n",
    "Breakthrough_Technology_ML = create_Mavenlinkprogram(\"Breakthrough Technology\")\n",
    "CarbonFree_MobilityML = create_Mavenlinkprogram(\"Carbon-Free Mobility\")\n",
    "ClimateAligned_IndustriesML = create_Mavenlinkprogram(\"Climate Aligned Industries\")\n",
    "CommunicationsML = create_Mavenlinkprogram(\"Communications\")\n",
    "GlobalClimate_FinanceML = create_Mavenlinkprogram(\"Global Climate Finance\")\n",
    "Strategic_Engagement_and_Analysis_GroupML = create_Mavenlinkprogram(\"Strategic Engagement and Analysis Group\")\n",
    "Carbon_Free_BuildingsML = create_Mavenlinkprogram(\"Carbon-Free Buildings\")\n",
    "Carbon_Free_ElectricityML = create_Mavenlinkprogram(\"Carbon-Free Electricity\")\n",
    "UrbanTrans_ML = create_Mavenlinkprogram(\"Urban Transformation\")\n",
    "ClimateIntelML = create_Mavenlinkprogram(\"Climate Intelligence\")\n",
    "IndustryML = create_Mavenlinkprogram(\"Industry\")\n",
    "SEAsiaML = create_Mavenlinkprogram(\"SE Asia\")\n",
    "AfricaML = create_Mavenlinkprogram(\"Africa\")\n",
    "USML = create_Mavenlinkprogram(\"US\")\n",
    "BuildingElectrificationML = create_Mavenlinkprogram(\"Building Electrification\")\n",
    "Energy_Transition_AcademyML = create_Mavenlinkprogram(\"Energy Transition Academy\")\n",
    "BeijingML = create_Mavenlinkprogram(\"Beijing\")\n",
    "\n"
   ]
  },
  {
   "cell_type": "code",
   "execution_count": 150,
   "metadata": {},
   "outputs": [],
   "source": [
    "Developing_Economies_RollupML = pd.concat([IslandsML, AfricaML, SEAsiaML, Energy_Transition_AcademyML], ignore_index = True, sort=False)\n",
    "CarbonFreeBuildings_RollupML = pd.concat([Carbon_Free_BuildingsML, BuildingElectrificationML], ignore_index = True, sort=False)\n",
    "China_RollupML = pd.concat([ChinaML, BeijingML], ignore_index = True, sort=False)"
   ]
  },
  {
   "cell_type": "code",
   "execution_count": 151,
   "metadata": {},
   "outputs": [],
   "source": [
    "def create_ML_pivot(Group):\n",
    "    Month_order = ['Jul 2020', 'Aug 2020', 'Sep 2020', 'Oct 2020', 'Nov 2020', 'Dec 2020', 'Jan 2021', 'Feb 2021', 'Mar 2021', 'Apr 2021', 'May 2021', 'Jun 2021']\n",
    "    table = pd.pivot_table(Group, index = ['Initiative','Employee','Case/Task/Event','Grant','Billable'], values = 'Percent of Total Monthly Hours', columns = 'Month', aggfunc=np.sum)\n",
    "    table2 = table.reindex(Month_order, axis=1)\n",
    "    table2['Total'] = table2.iloc[:,-12:].sum(axis=1)\n",
    "    return table2"
   ]
  },
  {
   "cell_type": "code",
   "execution_count": 152,
   "metadata": {},
   "outputs": [],
   "source": [
    "def to_excel_ML(df, file):\n",
    "    writer = pd.ExcelWriter(file, engine='openpyxl')\n",
    "    if os.path.exists(file):\n",
    "        book = openpyxl.load_workbook(file)\n",
    "        writer.book = book\n",
    "\n",
    "    df.to_excel(writer, sheet_name=\"Mavenlink Hours\")\n",
    "    writer.save()\n",
    "    writer.close()   "
   ]
  },
  {
   "cell_type": "code",
   "execution_count": 153,
   "metadata": {},
   "outputs": [],
   "source": [
    "def edit_workbook_ML(file):\n",
    "    book = load_workbook(file)\n",
    "    sheet = book[\"Mavenlink Hours\"] #active means last opened sheet\n",
    "    sheet['B1']= \"Employee\"\n",
    "    sheet['A1']= \"Initiative\"\n",
    "    sheet['C1']= \"Case/Task/Event\"    \n",
    "    sheet['D1']= \"Grant\"     \n",
    "    sheet['E1']= \"Billable\"    \n",
    "    sheet['A1'].font = Font(bold=True)\n",
    "    sheet['B1'].font = Font(bold=True)\n",
    "    sheet['C1'].font = Font(bold=True)\n",
    "    sheet['D1'].font = Font(bold=True)\n",
    "    sheet['E1'].font = Font(bold=True)\n",
    "    sheet.column_dimensions['A'].width = 25\n",
    "    sheet.column_dimensions['B'].width = 25\n",
    "    sheet.column_dimensions['C'].width = 25\n",
    "    sheet.column_dimensions['D'].width = 25\n",
    "    sheet.column_dimensions['E'].width = 25\n",
    "    sheet.column_dimensions['F'].width = 15\n",
    "    sheet.column_dimensions['G'].width = 15\n",
    "    sheet.column_dimensions['H'].width = 15\n",
    "    sheet.column_dimensions['I'].width = 15\n",
    "    sheet.column_dimensions['J'].width = 15\n",
    "    sheet.column_dimensions['K'].width = 15\n",
    "    sheet.column_dimensions['L'].width = 15\n",
    "    sheet.column_dimensions['M'].width = 15\n",
    "    sheet.column_dimensions['N'].width = 15\n",
    "    sheet.column_dimensions['O'].width = 15\n",
    "    sheet.column_dimensions['P'].width = 15\n",
    "    sheet.column_dimensions['Q'].width = 15\n",
    "    sheet.column_dimensions['R'].width = 15\n",
    "#    sheet.column_dimensions['D'].hidden = True\n",
    "    num_rows = sheet.max_row\n",
    "    curr_row = 2\n",
    "    for col in range(6, 19):\n",
    "        for row in range(2, num_rows+1):\n",
    "            sheet.cell(column=col, row=row).number_format = '0.00%'\n",
    "    for col in range(1, 6):\n",
    "        for row in range(1, num_rows+1):\n",
    "            sheet.cell(column=col, row=row).alignment = Alignment(horizontal = 'left', vertical='top')\n",
    "            sheet.cell(column=col, row=row).fill = greyFill \n",
    "    sheet.auto_filter.ref = sheet.dimensions\n",
    "    sheet.sheet_view.zoomScale = 60\n",
    "    sheet.freeze_panes = \"F2\"\n",
    "    book.save(file)"
   ]
  },
  {
   "cell_type": "code",
   "execution_count": 154,
   "metadata": {},
   "outputs": [],
   "source": [
    "def unmerge_rows_ML(file):\n",
    "    for col in range(1,4):\n",
    "        rowstounmerge = []\n",
    "        book = load_workbook(file)\n",
    "        testsheet = book[\"Mavenlink Hours\"] #active means last opened sheet\n",
    "        for i in range(1,testsheet.max_row + 1):\n",
    "            if testsheet.cell(row=i, column=col).value:\n",
    "                rowstounmerge.append(i)\n",
    "        rowstounmerge.append(testsheet.max_row+1)\n",
    "        for i in range(1,len(rowstounmerge)-1):        \n",
    "            try:\n",
    "                testsheet.unmerge_cells(start_row=rowstounmerge[i], start_column=col, end_row = rowstounmerge[i+1]-1, end_column=col) \n",
    "            except:\n",
    "                pass\n",
    "        book.save(file) \n",
    "        book = load_workbook(file)\n",
    "        testsheet = book[\"Mavenlink Hours\"] #active means last opened sheet\n",
    "        for i in range(1,testsheet.max_row + 1):\n",
    "            if testsheet.cell(row=i, column=col).value:\n",
    "                continue\n",
    "            else:\n",
    "                testsheet.cell(row=i, column=col).value = testsheet.cell(row=i-1, column=col).value\n",
    "        book.save(file) \n"
   ]
  },
  {
   "cell_type": "code",
   "execution_count": 155,
   "metadata": {},
   "outputs": [],
   "source": [
    "def format_pivot_ML(Group, str):\n",
    "    step1 = create_ML_pivot(Group)\n",
    "    to_excel_ML(step1, path+str)\n",
    "    edit_workbook_ML(path+str)\n",
    "    unmerge_rows_ML(path+str)"
   ]
  },
  {
   "cell_type": "code",
   "execution_count": 156,
   "metadata": {},
   "outputs": [
    {
     "data": {
      "text/plain": [
       "'\\nformat_pivot_ML(ClimateAligned_IndustriesML, \\'\\\\Climate Intelligence_\\'+timestamp+\".xlsx\")\\nformat_pivot_ML(Strategic_Engagement_and_Analysis_GroupML, \\'\\\\Strategic_Engagement_and_Analysis_Group_\\'+timestamp+\".xlsx\")\\nformat_pivot_ML(USML, \\'\\\\US_\\'+timestamp+\".xlsx\")\\nformat_pivot_ML(UrbanTrans_ML, \\'\\\\Urban_Transformation_\\'+timestamp+\".xlsx\")\\nformat_pivot_ML(CarbonFreeBuildings_RollupML, \\'\\\\CarbonFree_Buildings_\\'+timestamp+\".xlsx\")\\nformat_pivot_ML(Carbon_Free_ElectricityML, \\'\\\\CarbonFree_Electricity_\\'+timestamp+\".xlsx\")\\nformat_pivot_ML(ClimateIntelML, \\'\\\\Climate_Intelligence_\\'+timestamp+\".xlsx\")\\nformat_pivot_ML(IndustryML, \\'\\\\Industry_\\'+timestamp+\".xlsx\")\\nformat_pivot_ML(GlobalClimate_FinanceML, \\'\\\\Global_Climate_Finance_\\'+timestamp+\".xlsx\")\\n'"
      ]
     },
     "execution_count": 156,
     "metadata": {},
     "output_type": "execute_result"
    }
   ],
   "source": [
    "'''\n",
    "format_pivot_ML(Developing_Economies_RollupML, '\\\\Developing_Economies_'+timestamp+\".xlsx\")\n",
    "format_pivot_ML(IndiaML, '\\\\India_'+timestamp+\".xlsx\")\n",
    "format_pivot_ML(OperationsML, '\\\\Operations_'+timestamp+\".xlsx\")\n",
    "format_pivot_ML(China_RollupML, '\\\\China_'+timestamp+\".xlsx\")\n",
    "format_pivot_ML(Breakthrough_Technology_ML, '\\\\Breakthrough_Technology-'+timestamp+\".xlsx\")\n",
    "'''\n",
    "format_pivot_ML(CarbonFree_MobilityML, '\\\\CarbonFree_Mobility_'+timestamp+\".xlsx\")\n",
    "'''\n",
    "format_pivot_ML(ClimateAligned_IndustriesML, '\\\\Climate Intelligence_'+timestamp+\".xlsx\")\n",
    "format_pivot_ML(Strategic_Engagement_and_Analysis_GroupML, '\\\\Strategic_Engagement_and_Analysis_Group_'+timestamp+\".xlsx\")\n",
    "format_pivot_ML(USML, '\\\\US_'+timestamp+\".xlsx\")\n",
    "format_pivot_ML(UrbanTrans_ML, '\\\\Urban_Transformation_'+timestamp+\".xlsx\")\n",
    "format_pivot_ML(CarbonFreeBuildings_RollupML, '\\\\CarbonFree_Buildings_'+timestamp+\".xlsx\")\n",
    "format_pivot_ML(Carbon_Free_ElectricityML, '\\\\CarbonFree_Electricity_'+timestamp+\".xlsx\")\n",
    "format_pivot_ML(ClimateIntelML, '\\\\Climate_Intelligence_'+timestamp+\".xlsx\")\n",
    "format_pivot_ML(IndustryML, '\\\\Industry_'+timestamp+\".xlsx\")\n",
    "format_pivot_ML(GlobalClimate_FinanceML, '\\\\Global_Climate_Finance_'+timestamp+\".xlsx\")\n",
    "'''"
   ]
  },
  {
   "cell_type": "code",
   "execution_count": null,
   "metadata": {},
   "outputs": [],
   "source": []
  },
  {
   "cell_type": "code",
   "execution_count": null,
   "metadata": {},
   "outputs": [],
   "source": []
  },
  {
   "cell_type": "code",
   "execution_count": null,
   "metadata": {},
   "outputs": [],
   "source": []
  },
  {
   "cell_type": "markdown",
   "metadata": {},
   "source": [
    "# Create Reports for Heather and Jon Creyts"
   ]
  },
  {
   "cell_type": "code",
   "execution_count": 157,
   "metadata": {},
   "outputs": [],
   "source": [
    "todayMD = datetime.today()\n",
    "datemMD = datetime(today.year, today.month-1, 1)\n",
    "timestampMD = datem.strftime(\"%B %Y\")"
   ]
  },
  {
   "cell_type": "code",
   "execution_count": 158,
   "metadata": {},
   "outputs": [
    {
     "data": {
      "text/plain": [
       "'February 2021'"
      ]
     },
     "execution_count": 158,
     "metadata": {},
     "output_type": "execute_result"
    }
   ],
   "source": [
    "timestampMD"
   ]
  },
  {
   "cell_type": "code",
   "execution_count": 159,
   "metadata": {},
   "outputs": [],
   "source": [
    "from openpyxl.styles import Border, Side, PatternFill, Font, GradientFill, Alignment\n",
    "\n",
    "CFOpath = r'C:\\Users\\Jeremy Wendt\\anaconda3\\envs\\Code\\Detail_Trans_Project_FY21\\reports\\CFO_Reports'\n",
    "\n",
    "CFOTemplatepath = 'C:\\\\Users\\\\Jeremy Wendt\\\\anaconda3\\\\envs\\\\Code\\\\Detail_Trans_Project_FY21\\\\Data\\\\raw\\\\CFO_Cover_Page.xlsx'"
   ]
  },
  {
   "cell_type": "code",
   "execution_count": 160,
   "metadata": {},
   "outputs": [],
   "source": [
    "blueFill = PatternFill(start_color='0033CCCC',\n",
    "                   end_color='0033CCCC',\n",
    "                   fill_type='solid')\n",
    "\n"
   ]
  },
  {
   "cell_type": "markdown",
   "metadata": {},
   "source": [
    "## Create Cover Sheet CFO"
   ]
  },
  {
   "cell_type": "code",
   "execution_count": 161,
   "metadata": {},
   "outputs": [],
   "source": [
    "Logopath = r'C:\\Users\\Jeremy Wendt\\anaconda3\\envs\\Code\\Detail_Trans_Project_FY21\\notebooks\\img\\Picture1.png'\n",
    "\n",
    "# 'C:\\\\Users\\\\Jeremy Wendt\\\\anaconda3\\\\envs\\\\Code\\\\Detail_Trans_Project_FY21\\\\notebooks\\\\img\\\\MD_Cover_Page.xlsx'"
   ]
  },
  {
   "cell_type": "code",
   "execution_count": 162,
   "metadata": {},
   "outputs": [],
   "source": [
    "wbCFO = load_workbook(CFOTemplatepath)\n",
    "wsCFO = wbCFO['Cover']    \n",
    "img = openpyxl.drawing.image.Image(Logopath)\n",
    "img.anchor = 'A1'\n",
    "wsCFO.add_image(img)\n",
    "wsCFO.cell(row = 14, column = 1).value = 'CFO Report ' + timestampMD\n",
    "wbCFO.save(str(CFOpath+'\\\\CFO_Report_'+timestampMD+'.xlsx'))"
   ]
  },
  {
   "cell_type": "markdown",
   "metadata": {},
   "source": [
    "## Restricted Revenue Spend Type by Grant"
   ]
  },
  {
   "cell_type": "code",
   "execution_count": 163,
   "metadata": {},
   "outputs": [],
   "source": [
    "def create_CFO_pivot(Group):\n",
    "    Month_order = ['Jul 2020', 'Aug 2020', 'Sep 2020', 'Oct 2020', 'Nov 2020', 'Dec 2020', 'Jan 2021', 'Feb 2021', 'Mar 2021', 'Apr 2021', 'May 2021', 'Jun 2021']\n",
    "    table = pd.pivot_table(Group, index = ['Grant','Inst or Reclass'], values = 'Restricted Revenue', columns = 'Period', aggfunc=np.sum)\n",
    "    table2 = table.reindex(Month_order, axis=1)\n",
    "    table2['Total'] = table2.iloc[:,-12:].sum(axis=1)\n",
    "    return table2"
   ]
  },
  {
   "cell_type": "code",
   "execution_count": 164,
   "metadata": {},
   "outputs": [],
   "source": [
    "def add_subtotal_CFO(PivotedGroup):\n",
    "    out = pd.concat([d.append(d.sum().rename((k, 'Subtotal'))) for k, d in PivotedGroup.groupby('Grant')]).append((PivotedGroup.sum()).rename(('Grand', 'Total')))\n",
    "    out.index = pd.MultiIndex.from_tuples(out.index)\n",
    "    return out"
   ]
  },
  {
   "cell_type": "code",
   "execution_count": 165,
   "metadata": {},
   "outputs": [],
   "source": [
    "def to_excel_CFO(df, file):\n",
    "    writer = pd.ExcelWriter(file, engine='openpyxl')\n",
    "    if os.path.exists(file):\n",
    "        book = openpyxl.load_workbook(file)\n",
    "        writer.book = book\n",
    "\n",
    "    df.to_excel(writer, sheet_name=\"RR by Expense Type\", startrow = 1)\n",
    "    writer.save()\n",
    "    writer.close()   "
   ]
  },
  {
   "cell_type": "code",
   "execution_count": 166,
   "metadata": {},
   "outputs": [],
   "source": [
    "def edit_workbook_CFO(file):\n",
    "    book = load_workbook(file)\n",
    "    sheet = book[\"RR by Expense Type\"] #active means last opened sheet\n",
    "    rd = sheet.row_dimensions[1]\n",
    "    rd.height = 25\n",
    "    sheet['A2']= \"Grant\"\n",
    "    sheet['B2']= \"Inst or Reclass\" \n",
    "    sheet['A2'].font = Font(bold=True)\n",
    "    sheet['B2'].font = Font(bold=True)\n",
    "    fontStyle = Font(size = \"20\")\n",
    "    sheet.merge_cells('A1:O1')\n",
    "    top_left_cell = sheet['A1']\n",
    "    top_right_cell = sheet['O1']\n",
    "    top_left_cell.value = \"Restricted Revenue by Expense Type\"\n",
    "    thin = Side(border_style=\"thin\", color=\"000000\")\n",
    "    double = Side(border_style=\"double\", color=\"000000\")\n",
    "    top_left_cell.border = Border(top=thin, left=thin, right=thin, bottom=thin)\n",
    "    top_left_cell.fill = PatternFill(\"solid\", fgColor=\"DDDDDD\")\n",
    "    top_left_cell.fill = fill = GradientFill(stop=(\"000080\", \"FFFFFF\"))\n",
    "    top_left_cell.font  = Font(b=True, color=\"FFFFFF\")\n",
    "    top_left_cell.font = fontStyle\n",
    "    top_left_cell.alignment = Alignment(horizontal=\"center\", vertical=\"center\")\n",
    "    top_right_cell.border = Border(top=thin, left=thin, right=thin, bottom=thin)\n",
    "    sheet.column_dimensions['A'].width = 25\n",
    "    sheet.column_dimensions['B'].width = 25\n",
    "    sheet.column_dimensions['C'].width = 15\n",
    "    sheet.column_dimensions['D'].width = 15\n",
    "    sheet.column_dimensions['E'].width = 15\n",
    "    sheet.column_dimensions['F'].width = 15\n",
    "    sheet.column_dimensions['G'].width = 15\n",
    "    sheet.column_dimensions['H'].width = 15\n",
    "    sheet.column_dimensions['I'].width = 15\n",
    "    sheet.column_dimensions['J'].width = 15\n",
    "    sheet.column_dimensions['K'].width = 15\n",
    "    sheet.column_dimensions['L'].width = 15\n",
    "    sheet.column_dimensions['M'].width = 15\n",
    "    sheet.column_dimensions['N'].width = 15\n",
    "    sheet.column_dimensions['O'].width = 15\n",
    "#    sheet.column_dimensions['D'].hidden = True\n",
    "    num_rows = sheet.max_row\n",
    "    curr_row = 2\n",
    "    for col in range(3, 16):\n",
    "        for row in range(2, num_rows+1):\n",
    "            sheet.cell(column=col, row=row).number_format = '\"$\"#,##0;[Red](\"$\"#,##0)'\n",
    "    for col in range(1, 3):\n",
    "        for row in range(3, num_rows):\n",
    "            sheet.cell(column=col, row=row).alignment = Alignment(horizontal = 'left', vertical='top')\n",
    "            sheet.cell(column=col, row=row).fill = blueFill\n",
    "    for i in range(1, sheet.max_row + 1):\n",
    "        if sheet.cell(row=i, column=2).value == \"Subtotal\":\n",
    "            for j in range(2,16):\n",
    "                sheet.cell(column=j, row=i).font = Font(bold=True)\n",
    "                sheet.cell(column=j, row=i).border = Border(bottom=Side(style='thin'))     \n",
    "    for i in range(1, sheet.max_row + 1):\n",
    "        if sheet.cell(row=i, column=1).value == \"Grand\":\n",
    "            for j in range(1,16):\n",
    "                sheet.cell(column=j, row=i).font = Font(bold=True)\n",
    "                sheet.cell(column=j, row=i).border = Border(bottom=Side(style=\"double\"))   \n",
    "    for i in range(1, sheet.max_row + 1):\n",
    "        if sheet.cell(row=i, column=1).value == \"Grant\":\n",
    "            for j in range(1,16):\n",
    "                sheet.cell(column=j, row=i).font = Font(bold=True)\n",
    "                sheet.cell(column=j, row=i).border = Border(top = thin, bottom = thin)  \n",
    "                sheet.cell(column=j, row=i).fill = greyFill\n",
    "    for col in range(16, 17):\n",
    "        for row in range(2, num_rows+1):\n",
    "            sheet.cell(column=col, row=row).border = Border(left=thin)\n",
    "#    sheet.auto_filter.ref = sheet.dimensions\n",
    "    sheet.sheet_view.zoomScale = 70\n",
    "    sheet.freeze_panes = \"C3\"\n",
    "    book.save(file)"
   ]
  },
  {
   "cell_type": "code",
   "execution_count": 167,
   "metadata": {},
   "outputs": [],
   "source": [
    "def format_multi_pivot_CFO(Group, str):\n",
    "    step1 = create_CFO_pivot(Group)\n",
    "    step2 = add_subtotal_CFO(step1)\n",
    "    to_excel_CFO(step2, str)\n",
    "    edit_workbook_CFO(str)"
   ]
  },
  {
   "cell_type": "code",
   "execution_count": 168,
   "metadata": {},
   "outputs": [],
   "source": [
    "dfRestrictedONLY = df1[df1['Rev or Exp']==\"Expense\"]"
   ]
  },
  {
   "cell_type": "code",
   "execution_count": 169,
   "metadata": {},
   "outputs": [],
   "source": [
    "format_multi_pivot_CFO(dfRestrictedONLY, CFOpath+'\\\\CFO_Report_'+timestampMD+'.xlsx')"
   ]
  },
  {
   "cell_type": "markdown",
   "metadata": {},
   "source": [
    "## Unrestricted Use by Project Allocation and Program"
   ]
  },
  {
   "cell_type": "code",
   "execution_count": 170,
   "metadata": {},
   "outputs": [],
   "source": [
    "def create_CFO_pivot2(Group):\n",
    "    Month_order = ['Jul 2020', 'Aug 2020', 'Sep 2020', 'Oct 2020', 'Nov 2020', 'Dec 2020', 'Jan 2021', 'Feb 2021', 'Mar 2021', 'Apr 2021', 'May 2021', 'Jun 2021']\n",
    "    table = pd.pivot_table(Group, index = ['Project Allocations','Program'], values = 'Unrestricted', columns = 'Period', aggfunc=np.sum)\n",
    "    table2 = table.reindex(Month_order, axis=1)\n",
    "    table2['Total'] = table2.iloc[:,-12:].sum(axis=1)\n",
    "    return table2"
   ]
  },
  {
   "cell_type": "code",
   "execution_count": 171,
   "metadata": {},
   "outputs": [],
   "source": [
    "def add_subtotal_CFO2(PivotedGroup):\n",
    "    out = pd.concat([d.append(d.sum().rename((k, 'Subtotal'))) for k, d in PivotedGroup.groupby('Project Allocations')]).append((PivotedGroup.sum()).rename(('Grand', 'Total')))\n",
    "    out.index = pd.MultiIndex.from_tuples(out.index)\n",
    "    return out"
   ]
  },
  {
   "cell_type": "code",
   "execution_count": 172,
   "metadata": {},
   "outputs": [],
   "source": [
    "def to_excel_CFO2(df, file):\n",
    "    writer = pd.ExcelWriter(file, engine='openpyxl')\n",
    "    if os.path.exists(file):\n",
    "        book = openpyxl.load_workbook(file)\n",
    "        writer.book = book\n",
    "\n",
    "    df.to_excel(writer, sheet_name=\"Unrestricted by Project All\", startrow = 1)\n",
    "    writer.save()\n",
    "    writer.close()    "
   ]
  },
  {
   "cell_type": "code",
   "execution_count": 173,
   "metadata": {},
   "outputs": [],
   "source": [
    "def edit_workbook_CFO2(file):\n",
    "    book = load_workbook(file)\n",
    "    sheet = book[\"Unrestricted by Project All\"] #active means last opened sheet\n",
    "    rd = sheet.row_dimensions[1]\n",
    "    rd.height = 25\n",
    "    sheet['A2']= \"Project Allocations\"\n",
    "    sheet['B2']= 'Program'\n",
    "    sheet['A2'].font = Font(bold=True)\n",
    "    sheet['B2'].font = Font(bold=True)\n",
    "    fontStyle = Font(size = \"20\")\n",
    "    sheet.merge_cells('A1:O1')\n",
    "    top_left_cell = sheet['A1']\n",
    "    top_right_cell = sheet['O1']\n",
    "    top_left_cell.value = \"Unrestricted Used by Project Type\"\n",
    "    thin = Side(border_style=\"thin\", color=\"000000\")\n",
    "    double = Side(border_style=\"double\", color=\"000000\")\n",
    "    top_left_cell.border = Border(top=thin, left=thin, right=thin, bottom=thin)\n",
    "    top_left_cell.fill = PatternFill(\"solid\", fgColor=\"DDDDDD\")\n",
    "    top_left_cell.fill = fill = GradientFill(stop=(\"000080\", \"FFFFFF\"))\n",
    "    top_left_cell.font  = Font(b=True, color=\"FFFFFF\")\n",
    "    top_left_cell.font = fontStyle\n",
    "    top_left_cell.alignment = Alignment(horizontal=\"center\", vertical=\"center\")\n",
    "    top_right_cell.border = Border(top=thin, left=thin, right=thin, bottom=thin)\n",
    "    sheet.column_dimensions['A'].width = 25\n",
    "    sheet.column_dimensions['B'].width = 25\n",
    "    sheet.column_dimensions['C'].width = 15\n",
    "    sheet.column_dimensions['D'].width = 15\n",
    "    sheet.column_dimensions['E'].width = 15\n",
    "    sheet.column_dimensions['F'].width = 15\n",
    "    sheet.column_dimensions['G'].width = 15\n",
    "    sheet.column_dimensions['H'].width = 15\n",
    "    sheet.column_dimensions['I'].width = 15\n",
    "    sheet.column_dimensions['J'].width = 15\n",
    "    sheet.column_dimensions['K'].width = 15\n",
    "    sheet.column_dimensions['L'].width = 15\n",
    "    sheet.column_dimensions['M'].width = 15\n",
    "    sheet.column_dimensions['N'].width = 15\n",
    "    sheet.column_dimensions['O'].width = 15\n",
    "#    sheet.column_dimensions['D'].hidden = True\n",
    "    num_rows = sheet.max_row\n",
    "    curr_row = 2\n",
    "    for col in range(3, 16):\n",
    "        for row in range(2, num_rows+1):\n",
    "            sheet.cell(column=col, row=row).number_format = '\"$\"#,##0;[Red](\"$\"#,##0)'\n",
    "    for col in range(1, 3):\n",
    "        for row in range(3, num_rows):\n",
    "            sheet.cell(column=col, row=row).alignment = Alignment(horizontal = 'left', vertical='top')\n",
    "            sheet.cell(column=col, row=row).fill = blueFill\n",
    "    for i in range(1, sheet.max_row + 1):\n",
    "        if sheet.cell(row=i, column=2).value == \"Subtotal\":\n",
    "            for j in range(2,16):\n",
    "                sheet.cell(column=j, row=i).font = Font(bold=True)\n",
    "                sheet.cell(column=j, row=i).border = Border(bottom=Side(style='thin'))     \n",
    "    for i in range(1, sheet.max_row + 1):\n",
    "        if sheet.cell(row=i, column=1).value == \"Grand\":\n",
    "            for j in range(1,16):\n",
    "                sheet.cell(column=j, row=i).font = Font(bold=True)\n",
    "                sheet.cell(column=j, row=i).border = Border(bottom=Side(style=\"double\"))   \n",
    "    for i in range(1, sheet.max_row + 1):\n",
    "        if sheet.cell(row=i, column=1).value == \"Project Allocations\":\n",
    "            for j in range(1,16):\n",
    "                sheet.cell(column=j, row=i).font = Font(bold=True)\n",
    "                sheet.cell(column=j, row=i).border = Border(top = thin, bottom = thin)  \n",
    "                sheet.cell(column=j, row=i).fill = greyFill\n",
    "    for col in range(16, 17):\n",
    "        for row in range(2, num_rows+1):\n",
    "            sheet.cell(column=col, row=row).border = Border(left=thin)\n",
    "#    sheet.auto_filter.ref = sheet.dimensions\n",
    "    sheet.sheet_view.zoomScale = 70\n",
    "    sheet.freeze_panes = \"C3\"\n",
    "    book.save(file)"
   ]
  },
  {
   "cell_type": "code",
   "execution_count": 174,
   "metadata": {},
   "outputs": [],
   "source": [
    "def format_multi_pivot_CFO2(Group, str):\n",
    "    step1 = create_CFO_pivot2(Group)\n",
    "    step2 = add_subtotal_CFO2(step1)\n",
    "    to_excel_CFO2(step2, str)\n",
    "    edit_workbook_CFO2(str)"
   ]
  },
  {
   "cell_type": "code",
   "execution_count": 175,
   "metadata": {},
   "outputs": [],
   "source": [
    "format_multi_pivot_CFO2(df1, CFOpath+'\\\\CFO_Report_'+timestampMD+'.xlsx')"
   ]
  },
  {
   "cell_type": "markdown",
   "metadata": {},
   "source": [
    "# Managing Director Dashboard"
   ]
  },
  {
   "cell_type": "code",
   "execution_count": 176,
   "metadata": {},
   "outputs": [],
   "source": [
    "MDpath = r'C:\\Users\\Jeremy Wendt\\anaconda3\\envs\\Code\\Detail_Trans_Project_FY21\\reports\\MD_Package'\n",
    "\n",
    "\n",
    "Templatepath = 'C:\\\\Users\\\\Jeremy Wendt\\\\anaconda3\\\\envs\\\\Code\\\\Detail_Trans_Project_FY21\\\\Data\\\\raw\\\\MD_Cover_Page.xlsx'"
   ]
  },
  {
   "cell_type": "code",
   "execution_count": 177,
   "metadata": {},
   "outputs": [],
   "source": [
    "\n",
    "#wb = openpyxl.load_workbook(filename=Templatepath)\n",
    "#ws = wb['Cover']"
   ]
  },
  {
   "cell_type": "code",
   "execution_count": 178,
   "metadata": {},
   "outputs": [],
   "source": [
    "ProgramsMD = Programs"
   ]
  },
  {
   "cell_type": "code",
   "execution_count": 181,
   "metadata": {},
   "outputs": [],
   "source": [
    "ProgramsMD.remove('na')\n",
    "ProgramsMD.remove('Communications')\n",
    "ProgramsMD.remove('Development')\n",
    "ProgramsMD.remove('Building Electrification')\n",
    "ProgramsMD.remove('Islands')\n",
    "ProgramsMD.remove('SE Asia')\n",
    "ProgramsMD.remove('Africa')\n",
    "ProgramsMD.remove('Energy Transition Academy')\n",
    "ProgramsMD.remove('Sustainable Finance')\n",
    "ProgramsMD.remove('Energy Web Foundation')\n",
    "ProgramsMD.remove('Business Renewable Center')\n",
    "ProgramsMD.remove('Emerging Energy Solutions')\n",
    "ProgramsMD.remove('Shine')\n",
    "ProgramsMD.append('Developing Economies')\n",
    "ProgramsMD.remove('Beijing')"
   ]
  },
  {
   "cell_type": "code",
   "execution_count": 182,
   "metadata": {},
   "outputs": [
    {
     "data": {
      "text/plain": [
       "['Carbon-Free Electricity',\n",
       " 'Urban Transformation',\n",
       " 'Operations',\n",
       " 'China',\n",
       " 'Industry',\n",
       " 'Carbon-Free Buildings',\n",
       " 'Strategic Engagement and Analysis Group',\n",
       " 'Global Climate Finance',\n",
       " 'India',\n",
       " 'Carbon-Free Mobility',\n",
       " 'WattTime',\n",
       " 'Breakthrough Technology',\n",
       " 'Climate Aligned Industries',\n",
       " 'Climate Intelligence',\n",
       " 'US',\n",
       " 'Developing Economies']"
      ]
     },
     "execution_count": 182,
     "metadata": {},
     "output_type": "execute_result"
    }
   ],
   "source": [
    "ProgramsMD"
   ]
  },
  {
   "cell_type": "markdown",
   "metadata": {},
   "source": [
    "## Create Cover Sheet"
   ]
  },
  {
   "cell_type": "code",
   "execution_count": 183,
   "metadata": {},
   "outputs": [],
   "source": [
    "CoverNames = []\n",
    "\n",
    "for i in ProgramsMD:\n",
    "    CoverNames.append(i + \" - \" + timestampMD)"
   ]
  },
  {
   "cell_type": "code",
   "execution_count": 184,
   "metadata": {},
   "outputs": [],
   "source": [
    "for i in CoverNames:    \n",
    "    wb = load_workbook(Templatepath)\n",
    "    ws = wb['Cover']    \n",
    "    img = openpyxl.drawing.image.Image(Logopath)\n",
    "    img.anchor = 'A1'\n",
    "    ws.add_image(img)\n",
    "    ws.cell(row = 14, column = 1).value = i\n",
    "    wb.save(str(MDpath+'\\\\'+i+' - MD Package.xlsx'))"
   ]
  },
  {
   "cell_type": "markdown",
   "metadata": {},
   "source": [
    "## Create First MD Table"
   ]
  },
  {
   "cell_type": "code",
   "execution_count": 185,
   "metadata": {},
   "outputs": [],
   "source": [
    "def create_MD_pivot1(Group):\n",
    "    Month_order = ['Jul 2018', 'Aug 2018', 'Sep 2018', 'Oct 2018', 'Nov 2018', 'Dec 2018', 'Jan 2019', 'Feb 2019', 'Mar 2019', 'Apr 2019', 'May 2019', 'Jun 2019', 'July 2019', 'Aug 2019', 'Sep 2019', 'Oct 2019', 'Nov 2019', 'Dec 2019', 'Jan 2020', 'Feb 2020', 'Mar 2020', 'Apr 2020', 'May 2020', 'Jun 2020', 'Jul 2020', 'Aug 2020', 'Sep 2020', 'Oct 2020', 'Nov 2020', 'Dec 2020', 'Jan 2021', 'Feb 2021', 'Mar 2021', 'Apr 2021', 'May 2021', 'Jun 2021']\n",
    "    table = pd.pivot_table(Group, index = ['Initiative','Project','Grant'], values = 'Amount', columns = 'Period', aggfunc=np.sum)\n",
    "    table2 = table.reindex(Month_order, axis=1)\n",
    "    table2['FY21 Total'] = table2.iloc[:,-12:].sum(axis=1)\n",
    "    table2['FY20-FY21 Total'] = table2.iloc[:,-36:].sum(axis=1)\n",
    "    table2 = table2[table2['FY20-FY21 Total']!=0]      \n",
    "    return table2"
   ]
  },
  {
   "cell_type": "code",
   "execution_count": 186,
   "metadata": {},
   "outputs": [],
   "source": [
    "def add_subtotal_MD1(PivotedGroup):\n",
    "    out = pd.concat([d.append(d.sum().rename((k,'', 'Subtotal'))) for k, d in PivotedGroup.groupby('Initiative')]).append((PivotedGroup.sum()).rename(('Grand','', 'Total')))\n",
    "    out.index = pd.MultiIndex.from_tuples(out.index)\n",
    "    return out"
   ]
  },
  {
   "cell_type": "code",
   "execution_count": 187,
   "metadata": {},
   "outputs": [],
   "source": [
    "def to_excel_MD1(df, file):\n",
    "    writer = pd.ExcelWriter(file, engine='openpyxl')\n",
    "    if os.path.exists(file):\n",
    "        book = openpyxl.load_workbook(file)\n",
    "        writer.book = book\n",
    "\n",
    "    df.to_excel(writer, sheet_name=\"Restricted Revenue Exp\", startrow = 1)\n",
    "    writer.save()\n",
    "    writer.close()    "
   ]
  },
  {
   "cell_type": "code",
   "execution_count": 188,
   "metadata": {},
   "outputs": [],
   "source": [
    "from openpyxl.styles import Border, Side, PatternFill, Font, GradientFill, Alignment\n",
    "\n",
    "def edit_workbook_MD1(file):\n",
    "    book = load_workbook(file)\n",
    "    sheet = book[\"Restricted Revenue Exp\"] #active means last opened sheet\n",
    "    rd = sheet.row_dimensions[1]\n",
    "    rd.height = 25\n",
    "    sheet['A2']= \"Initiative\"\n",
    "    sheet['B2']= \"Project\"\n",
    "    sheet['C2']= \"Grant\"    \n",
    "    sheet['A2'].font = Font(bold=True)\n",
    "    sheet['B2'].font = Font(bold=True)\n",
    "    sheet['C2'].font = Font(bold=True)\n",
    "    fontStyle = Font(size = \"20\")\n",
    "    sheet.merge_cells('A1:AN1')\n",
    "    top_left_cell = sheet['A1']\n",
    "    top_right_cell = sheet['AN1']\n",
    "    top_left_cell.value = \"FY21 Restricted Revenue\"\n",
    "    thin = Side(border_style=\"thin\", color=\"000000\")\n",
    "    double = Side(border_style=\"double\", color=\"000000\")\n",
    "    top_left_cell.border = Border(top=thin, left=thin, right=thin, bottom=thin)\n",
    "    top_left_cell.fill = PatternFill(\"solid\", fgColor=\"DDDDDD\")\n",
    "    top_left_cell.fill = fill = GradientFill(stop=(\"000080\", \"FFFFFF\"))\n",
    "    top_left_cell.font  = Font(b=True, color=\"FFFFFF\")\n",
    "    top_left_cell.font = fontStyle\n",
    "    top_left_cell.alignment = Alignment(horizontal=\"center\", vertical=\"center\")\n",
    "    top_right_cell.border = Border(top=thin, left=thin, right=thin, bottom=thin)\n",
    "    sheet.column_dimensions['A'].width = 25\n",
    "    sheet.column_dimensions['B'].width = 25\n",
    "    sheet.column_dimensions['C'].width = 25\n",
    "    sheet.column_dimensions['D'].width = 15\n",
    "    sheet.column_dimensions['E'].width = 15\n",
    "    sheet.column_dimensions['F'].width = 15\n",
    "    sheet.column_dimensions['G'].width = 15\n",
    "    sheet.column_dimensions['H'].width = 15\n",
    "    sheet.column_dimensions['I'].width = 15\n",
    "    sheet.column_dimensions['J'].width = 15\n",
    "    sheet.column_dimensions['K'].width = 15\n",
    "    sheet.column_dimensions['L'].width = 15\n",
    "    sheet.column_dimensions['M'].width = 15\n",
    "    sheet.column_dimensions['N'].width = 15\n",
    "    sheet.column_dimensions['O'].width = 15\n",
    "    sheet.column_dimensions['P'].width = 15\n",
    "    sheet.column_dimensions['AO'].hidden = True\n",
    "    num_rows = sheet.max_row\n",
    "    curr_row = 2\n",
    "    for col in range(4, 41):\n",
    "        for row in range(2, num_rows+1):\n",
    "            sheet.cell(column=col, row=row).number_format = '\"$\"#,##0;[Red](\"$\"#,##0)'\n",
    "    for col in range(1, 4):\n",
    "        for row in range(3, num_rows):\n",
    "            sheet.cell(column=col, row=row).alignment = Alignment(horizontal = 'left', vertical='top')\n",
    "            sheet.cell(column=col, row=row).fill = blueFill\n",
    "    for i in range(1, sheet.max_row + 1):\n",
    "        if sheet.cell(row=i, column=3).value == \"Subtotal\":\n",
    "            for j in range(3,41):\n",
    "                sheet.cell(column=j, row=i).font = Font(bold=True)\n",
    "                sheet.cell(column=j, row=i).border = Border(bottom=Side(style='thin'))     \n",
    "    for i in range(1, sheet.max_row + 1):\n",
    "        if sheet.cell(row=i, column=1).value == \"Grand\":\n",
    "            for j in range(1,41):\n",
    "                sheet.cell(column=j, row=i).font = Font(bold=True)\n",
    "                sheet.cell(column=j, row=i).border = Border(bottom=Side(style=\"double\"))   \n",
    "    for i in range(1, sheet.max_row + 1):\n",
    "        if sheet.cell(row=i, column=1).value == \"Initiative\":\n",
    "            for j in range(1,41):\n",
    "                sheet.cell(column=j, row=i).font = Font(bold=True)\n",
    "                sheet.cell(column=j, row=i).border = Border(top = thin, bottom = thin)  \n",
    "                sheet.cell(column=j, row=i).fill = greyFill\n",
    "    for col in range(41, 42):\n",
    "        for row in range(2, num_rows+1):\n",
    "            sheet.cell(column=col, row=row).border = Border(left=thin)\n",
    "#    sheet.auto_filter.ref = sheet.dimensions\n",
    "    sheet.sheet_view.zoomScale = 70\n",
    "    sheet.freeze_panes = \"D3\"\n",
    "    sheet.column_dimensions.group(\"D\",\"AA\",hidden=True)\n",
    "    book.save(file)"
   ]
  },
  {
   "cell_type": "code",
   "execution_count": 189,
   "metadata": {},
   "outputs": [],
   "source": [
    "def format_multi_pivot_MD1(Group, str):\n",
    "    step1 = create_MD_pivot1(Group)\n",
    "    step2 = add_subtotal_MD1(step1)\n",
    "    to_excel_MD1(step2, MDpath+str)\n",
    "    edit_workbook_MD1(MDpath+str)"
   ]
  },
  {
   "cell_type": "code",
   "execution_count": 190,
   "metadata": {},
   "outputs": [
    {
     "data": {
      "text/plain": [
       "['Carbon-Free Electricity - February 2021',\n",
       " 'Urban Transformation - February 2021',\n",
       " 'Operations - February 2021',\n",
       " 'China - February 2021',\n",
       " 'Industry - February 2021',\n",
       " 'Carbon-Free Buildings - February 2021',\n",
       " 'Strategic Engagement and Analysis Group - February 2021',\n",
       " 'Global Climate Finance - February 2021',\n",
       " 'India - February 2021',\n",
       " 'Carbon-Free Mobility - February 2021',\n",
       " 'WattTime - February 2021',\n",
       " 'Breakthrough Technology - February 2021',\n",
       " 'Climate Aligned Industries - February 2021',\n",
       " 'Climate Intelligence - February 2021',\n",
       " 'US - February 2021',\n",
       " 'Developing Economies - February 2021']"
      ]
     },
     "execution_count": 190,
     "metadata": {},
     "output_type": "execute_result"
    }
   ],
   "source": [
    "CoverNames"
   ]
  },
  {
   "cell_type": "code",
   "execution_count": 191,
   "metadata": {},
   "outputs": [],
   "source": [
    "format_multi_pivot_MD1(Developing_Economies_Rollup, '\\\\Developing Economies - '+timestampMD+' - MD Package.xlsx')\n",
    "format_multi_pivot_MD1(Climate_Aligned_Industries, '\\\\Climate Aligned Industries - '+timestampMD+' - MD Package.xlsx')\n",
    "format_multi_pivot_MD1(India, '\\\\India - '+timestampMD+' - MD Package.xlsx')\n",
    "format_multi_pivot_MD1(Operations, '\\\\Operations - '+timestampMD+' - MD Package.xlsx')\n",
    "format_multi_pivot_MD1(China_Rollup, '\\\\China - '+timestampMD+' - MD Package.xlsx')\n",
    "format_multi_pivot_MD1(Breakthrough_Technology, '\\\\Breakthrough Technology - '+timestampMD+' - MD Package.xlsx')\n",
    "format_multi_pivot_MD1(CarbonFree_Mobility, '\\\\Carbon-Free Mobility - '+timestampMD+' - MD Package.xlsx')\n",
    "format_multi_pivot_MD1(CarbonFree_Electricty, '\\\\Carbon-Free Electricity - '+timestampMD+' - MD Package.xlsx')\n",
    "format_multi_pivot_MD1(Strategic_Engagement_and_Analysis_Group, '\\\\Strategic Engagement and Analysis Group - '+timestampMD+' - MD Package.xlsx')\n",
    "format_multi_pivot_MD1(CarbonFreeBuildings_Rollup, '\\\\Carbon-Free Buildings - '+timestampMD+' - MD Package.xlsx')\n",
    "format_multi_pivot_MD1(Urban_Transformation, '\\\\Urban Transformation - '+timestampMD+' - MD Package.xlsx')\n",
    "format_multi_pivot_MD1(Climate_Intelligence, '\\\\Climate Intelligence - '+timestampMD+' - MD Package.xlsx')\n",
    "format_multi_pivot_MD1(Industry, '\\\\Industry - '+timestampMD+' - MD Package.xlsx')\n",
    "format_multi_pivot_MD1(US, '\\\\US - '+timestampMD+' - MD Package.xlsx')\n",
    "format_multi_pivot_MD1(WattTime, '\\\\WattTime - '+timestampMD+' - MD Package.xlsx')\n",
    "format_multi_pivot_MD1(Global_Climate_Finance, '\\\\Global Climate Finance - '+timestampMD+' - MD Package.xlsx')"
   ]
  },
  {
   "cell_type": "markdown",
   "metadata": {},
   "source": [
    "# Create Multi Lat Tab"
   ]
  },
  {
   "cell_type": "code",
   "execution_count": 192,
   "metadata": {},
   "outputs": [],
   "source": [
    "dfFFSDataZeros = dfFFSDataZeros[['Program','Initiative','Project','Project Type', 'Contract Start Date', 'Contract End Date','Invoice Type', 'Invoicing Notes', 'Current Month Action', 'Revenue Recognition Notes', 'Contract Amount', 'Total Revenue Recognized', 'Reimbursables NTE', 'Reimbursables Actual', 'Remaining Revenue']]\n",
    "\n",
    "\n",
    "ChinaFFSNOREV = dfFFSDataZeros[dfFFSDataZeros[\"Program\"]==\"China\"]\n",
    "CFEFFSNOREV = dfFFSDataZeros[dfFFSDataZeros[\"Program\"]==\"Carbon-Free Electricity\"]\n",
    "UTFFSNOREV = dfFFSDataZeros[dfFFSDataZeros[\"Program\"]==\"Urban Transformation\"]\n",
    "CAIFFSNOREV = dfFFSDataZeros[dfFFSDataZeros[\"Program\"]==\"Climate Aligned Industries\"]\n",
    "CFBFFSNOREV = dfFFSDataZeros[dfFFSDataZeros[\"Program\"]==\"Carbon-Free Buildings\"]\n"
   ]
  },
  {
   "cell_type": "code",
   "execution_count": 193,
   "metadata": {},
   "outputs": [],
   "source": [
    "from openpyxl.utils.dataframe import dataframe_to_rows\n",
    "\n",
    "def create_data_FFSZeroBalance(Group, str):\n",
    "    table = Group[['Initiative','Project','Project Type', 'Contract Start Date', 'Contract End Date','Invoice Type', 'Invoicing Notes', 'Current Month Action', 'Revenue Recognition Notes', 'Contract Amount', 'Total Revenue Recognized', 'Reimbursables NTE', 'Reimbursables Actual', 'Remaining Revenue']]\n",
    "    book = load_workbook(MDpath+str)\n",
    "    sheet = book[\"ER & ML Govt Rev\"]\n",
    "    data = table\n",
    "    rows = dataframe_to_rows(table, index=False, header=True)\n",
    "    for r_idx, row in enumerate(rows, sheet.max_row+2):\n",
    "        for c_idx, value in enumerate(row, 1):\n",
    "            sheet.cell(row=r_idx, column=c_idx, value=value)\n",
    "            sheet.cell(column=c_idx, row=r_idx).font = Font(bold=True)\n",
    "            sheet.cell(column=c_idx, row=r_idx).number_format = '\"$\"#,##0;[Red](\"$\"#,##0)'\n",
    "    book.save(MDpath+str)"
   ]
  },
  {
   "cell_type": "code",
   "execution_count": 194,
   "metadata": {},
   "outputs": [],
   "source": [
    "def create_MD_pivot2(Group):\n",
    "    Month_order = ['Jul 2018', 'Aug 2018', 'Sep 2018', 'Oct 2018', 'Nov 2018', 'Dec 2018', 'Jan 2019', 'Feb 2019', 'Mar 2019', 'Apr 2019', 'May 2019', 'Jun 2019', 'July 2019', 'Aug 2019', 'Sep 2019', 'Oct 2019', 'Nov 2019', 'Dec 2019', 'Jan 2020', 'Feb 2020', 'Mar 2020', 'Apr 2020', 'May 2020', 'Jun 2020', 'Jul 2020', 'Aug 2020', 'Sep 2020', 'Oct 2020', 'Nov 2020', 'Dec 2020', 'Jan 2021', 'Feb 2021', 'Mar 2021', 'Apr 2021', 'May 2021', 'Jun 2021']\n",
    "    table = pd.pivot_table(Group, index = ['Initiative','Project','Project Type', 'Contract Start Date', 'Contract End Date','Invoice Type', 'Invoicing Notes', 'Current Month Action', 'Revenue Recognition Notes', 'Contract Amount', 'Total Revenue Recognized', 'Reimbursables NTE', 'Reimbursables Actual', 'Remaining Revenue'], values = 'Amount', columns = 'Period', aggfunc=np.sum)\n",
    "    table2 = table.reindex(Month_order, axis=1)\n",
    "    table2['FY21 Total'] = table2.iloc[:,-12:].sum(axis=1)\n",
    "    table2['FY20-FY21 Total'] = table2.iloc[:,-36:].sum(axis=1)\n",
    "    table2 = table2[table2['FY20-FY21 Total']!=0]\n",
    "    return table2"
   ]
  },
  {
   "cell_type": "code",
   "execution_count": 195,
   "metadata": {},
   "outputs": [],
   "source": [
    "def add_subtotal_MD2(PivotedGroup):\n",
    "    out = pd.concat([d.append(d.sum().rename((k, '','','','','','','','','','','','','Subtotal'))) for k, d in PivotedGroup.groupby('Initiative')]).append((PivotedGroup.sum()).rename(('Grand', '','','','','','','','','','','','', 'Total')))\n",
    "    out.index = pd.MultiIndex.from_tuples(out.index)\n",
    "    return out"
   ]
  },
  {
   "cell_type": "code",
   "execution_count": 196,
   "metadata": {},
   "outputs": [],
   "source": [
    "def to_excel_MD2(df, file):\n",
    "    writer = pd.ExcelWriter(file, engine='openpyxl')\n",
    "    if os.path.exists(file):\n",
    "        book = openpyxl.load_workbook(file)\n",
    "        writer.book = book\n",
    "   \n",
    "    df.to_excel(writer, sheet_name=\"ER & ML Govt Rev\", startrow = 1)\n",
    "    writer.save()\n",
    "    writer.close()    "
   ]
  },
  {
   "cell_type": "code",
   "execution_count": 197,
   "metadata": {},
   "outputs": [],
   "source": [
    "def edit_workbook_MD2(file):\n",
    "    book = load_workbook(file)\n",
    "    sheet = book[\"ER & ML Govt Rev\"] #active means last opened sheet\n",
    "    rd = sheet.row_dimensions[1]\n",
    "    rd.height = 25\n",
    "    sheet['A2']= \"Initiative\"\n",
    "    sheet['B2']= \"Project\"\n",
    "    sheet['C2']= \"Project Type\"\n",
    "    sheet['D2']= \"Contract Start Date\"\n",
    "    sheet['E2']= \"Contract End Date\"\n",
    "    sheet['F2']= \"Invoice Type\"\n",
    "    sheet['G2']= \"Invoicing Notes\"\n",
    "    sheet['H2']= \"Current Month Action\"\n",
    "    sheet['I2']= \"Revenue Recognition Notes\"\n",
    "    sheet['J2']= \"Contract Amount\"\n",
    "    sheet['K2']= \"Total Revenue Recognized (INCLUDES DEFERRED REVENUE)\"\n",
    "    sheet['L2']= \"Reimbursables NTE\"\n",
    "    sheet['M2']= \"Reimbursables Actual\"\n",
    "    sheet['N2']= \"Remaining Revenue\"\n",
    "    sheet['A2'].font = Font(bold=True)\n",
    "    sheet['B2'].font = Font(bold=True)\n",
    "    fontStyle = Font(size = \"20\")\n",
    "    sheet.merge_cells('A1:AY1')\n",
    "    top_left_cell = sheet['A1']\n",
    "    top_right_cell = sheet['AY1']\n",
    "    top_left_cell.value = \"FY21 Earned, Government, and Multilateral Grant Revenue\"\n",
    "    thin = Side(border_style=\"thin\", color=\"000000\")\n",
    "    double = Side(border_style=\"double\", color=\"000000\")\n",
    "    top_left_cell.border = Border(top=thin, left=thin, right=thin, bottom=thin)\n",
    "    top_left_cell.fill = PatternFill(\"solid\", fgColor=\"DDDDDD\")\n",
    "    top_left_cell.fill = fill = GradientFill(stop=(\"000080\", \"FFFFFF\"))\n",
    "    top_left_cell.font  = Font(b=True, color=\"FFFFFF\")\n",
    "    top_left_cell.font = fontStyle\n",
    "    top_left_cell.alignment = Alignment(horizontal=\"center\", vertical=\"center\")\n",
    "    top_right_cell.border = Border(top=thin, left=thin, right=thin, bottom=thin)\n",
    "    sheet.column_dimensions['A'].width = 25\n",
    "    sheet.column_dimensions['B'].width = 25\n",
    "    sheet.column_dimensions['C'].width = 25\n",
    "    sheet.column_dimensions['D'].width = 15\n",
    "    sheet.column_dimensions['E'].width = 15\n",
    "    sheet.column_dimensions['F'].width = 15\n",
    "    sheet.column_dimensions['G'].width = 15\n",
    "    sheet.column_dimensions['H'].width = 15\n",
    "    sheet.column_dimensions['I'].width = 15\n",
    "    sheet.column_dimensions['J'].width = 15\n",
    "    sheet.column_dimensions['K'].width = 15\n",
    "    sheet.column_dimensions['L'].width = 15\n",
    "    sheet.column_dimensions['M'].width = 15\n",
    "    sheet.column_dimensions['N'].width = 15\n",
    "    sheet.column_dimensions['O'].width = 15\n",
    "    sheet.column_dimensions['D'].hidden = True\n",
    "    sheet.column_dimensions['L'].hidden = True\n",
    "    sheet.column_dimensions['M'].hidden = True\n",
    "    sheet.column_dimensions['F'].hidden = True\n",
    "    sheet.column_dimensions['H'].hidden = True\n",
    "    sheet.column_dimensions['AZ'].hidden = True\n",
    "    num_rows = sheet.max_row\n",
    "    curr_row = 2\n",
    "    for col in range(1, 15):\n",
    "        for row in range(3, num_rows):\n",
    "            sheet.cell(column=col, row=row).alignment = Alignment(horizontal = 'left', vertical='top')\n",
    "            sheet.cell(column=col, row=row).fill = blueFill\n",
    "    for col in range(10, 52):\n",
    "        for row in range(2, num_rows+1):\n",
    "            sheet.cell(column=col, row=row).number_format = '\"$\"#,##0;[Red](\"$\"#,##0)'\n",
    "    for i in range(1, sheet.max_row + 1):\n",
    "        if sheet.cell(row=i, column=14).value == \"Subtotal\":\n",
    "            for j in range(2,52):\n",
    "                sheet.cell(column=j, row=i).font = Font(bold=True)\n",
    "                sheet.cell(column=j, row=i).border = Border(bottom=Side(style='thin'))     \n",
    "    for i in range(1, sheet.max_row + 1):\n",
    "        if sheet.cell(row=i, column=1).value == \"Grand\":\n",
    "            for j in range(1,52):\n",
    "                sheet.cell(column=j, row=i).font = Font(bold=True)\n",
    "                sheet.cell(column=j, row=i).border = Border(bottom=Side(style=\"double\"))   \n",
    "    for i in range(1, sheet.max_row + 1):\n",
    "        if sheet.cell(row=i, column=1).value == \"Initiative\":\n",
    "            for j in range(1,52):\n",
    "                sheet.cell(column=j, row=i).font = Font(bold=True)\n",
    "                sheet.cell(column=j, row=i).border = Border(top = thin, bottom = thin)   \n",
    "                sheet.cell(column=j, row=i).fill = greyFill\n",
    "    for col in range(52, 53):\n",
    "        for row in range(2, num_rows+1):\n",
    "            sheet.cell(column=col, row=row).border = Border(left=thin)\n",
    "#    sheet.auto_filter.ref = sheet.dimensions\n",
    "    sheet.sheet_view.zoomScale = 70\n",
    "    sheet.freeze_panes = \"O3\"\n",
    "    sheet.column_dimensions.group(\"O\",\"AL\",hidden=True)\n",
    "    book.save(file)"
   ]
  },
  {
   "cell_type": "code",
   "execution_count": 198,
   "metadata": {},
   "outputs": [],
   "source": [
    "def format_multi_pivot_MD2(Group, str):\n",
    "    step1 = create_MD_pivot2(Group)\n",
    "    step2 = add_subtotal_MD2(step1)\n",
    "    to_excel_MD2(step2, MDpath+str)\n",
    "    edit_workbook_MD2(MDpath+str)"
   ]
  },
  {
   "cell_type": "code",
   "execution_count": 199,
   "metadata": {},
   "outputs": [],
   "source": [
    "format_multi_pivot_MD2(Developing_Economies_RollupFFS, '\\\\Developing Economies - '+timestampMD+' - MD Package.xlsx')\n",
    "format_multi_pivot_MD2(ClimateAligned_IndustriesFFS, '\\\\Climate Aligned Industries - '+timestampMD+' - MD Package.xlsx')\n",
    "format_multi_pivot_MD2(IndiaFFS, '\\\\India - '+timestampMD+' - MD Package.xlsx')\n",
    "format_multi_pivot_MD2(OperationsFFS, '\\\\Operations - '+timestampMD+' - MD Package.xlsx')\n",
    "format_multi_pivot_MD2(ChinaFFS, '\\\\China - '+timestampMD+' - MD Package.xlsx')\n",
    "#format_multi_pivot_MD2(Breakthrough_Technology_FFS, '\\\\Breakthrough Technology - '+timestampMD+' - MD Package.xlsx')\n",
    "format_multi_pivot_MD2(CarbonFree_MobilityFFS, '\\\\Carbon-Free Mobility - '+timestampMD+' - MD Package.xlsx')\n",
    "format_multi_pivot_MD2(Carbon_Free_ElectricityFFS, '\\\\Carbon-Free Electricity - '+timestampMD+' - MD Package.xlsx')\n",
    "#format_multi_pivot_MD2(Strategic_Engagement_and_Analysis_GroupFFS, '\\\\Strategic Engagement and Analysis Group - '+timestampMD+' - MD Package.xlsx')\n",
    "format_multi_pivot_MD2(CarbonFreeBuildings_RollupFFS, '\\\\Carbon-Free Buildings - '+timestampMD+' - MD Package.xlsx')\n",
    "format_multi_pivot_MD2(UrbanTrans_FFS, '\\\\Urban Transformation - '+timestampMD+' - MD Package.xlsx')\n",
    "format_multi_pivot_MD2(ClimateIntelFFS, '\\\\Climate Intelligence - '+timestampMD+' - MD Package.xlsx')\n",
    "format_multi_pivot_MD2(IndustryFFS, '\\\\Industry - '+timestampMD+' - MD Package.xlsx')\n",
    "format_multi_pivot_MD2(GlobalClimate_FinanceFFS, '\\\\Global Climate Finance - '+timestampMD+' - MD Package.xlsx')\n",
    "format_multi_pivot_MD2(Watttime_FFS, '\\\\WattTime - '+timestampMD+' - MD Package.xlsx')\n",
    "#format_multi_pivot_MD2(USFFS, '\\\\US - '+timestampMD+\".xlsx\")"
   ]
  },
  {
   "cell_type": "code",
   "execution_count": 200,
   "metadata": {},
   "outputs": [],
   "source": [
    "create_data_FFSZeroBalance(CFEFFSNOREV,'\\\\Carbon-Free Electricity - '+timestampMD+' - MD Package.xlsx')\n",
    "create_data_FFSZeroBalance(ChinaFFSNOREV,'\\\\China - '+timestampMD+' - MD Package.xlsx')\n",
    "create_data_FFSZeroBalance(UTFFSNOREV,'\\\\Urban Transformation - '+timestampMD+' - MD Package.xlsx')\n",
    "create_data_FFSZeroBalance(CAIFFSNOREV,'\\\\Climate Aligned Industries - '+timestampMD+' - MD Package.xlsx')\n",
    "create_data_FFSZeroBalance(CFBFFSNOREV,'\\\\Carbon-Free Buildings - '+timestampMD+' - MD Package.xlsx')"
   ]
  },
  {
   "cell_type": "code",
   "execution_count": null,
   "metadata": {},
   "outputs": [],
   "source": []
  },
  {
   "cell_type": "code",
   "execution_count": null,
   "metadata": {},
   "outputs": [],
   "source": []
  },
  {
   "cell_type": "markdown",
   "metadata": {},
   "source": [
    "# Create All Expenses Report"
   ]
  },
  {
   "cell_type": "code",
   "execution_count": 201,
   "metadata": {},
   "outputs": [],
   "source": [
    "def create_MD_pivot3(Group):\n",
    "    Month_order = ['Jul 2020', 'Aug 2020', 'Sep 2020', 'Oct 2020', 'Nov 2020', 'Dec 2020', 'Jan 2021', 'Feb 2021', 'Mar 2021', 'Apr 2021', 'May 2021', 'Jun 2021']\n",
    "    table = pd.pivot_table(Group, index = ['Initiative','Rollup Account'], values = 'Amount', columns = 'Period', aggfunc=np.sum)\n",
    "    table2 = table.reindex(Month_order, axis=1)\n",
    "    table2['Total'] = table2.iloc[:,-12:].sum(axis=1)\n",
    "    return table2"
   ]
  },
  {
   "cell_type": "code",
   "execution_count": 202,
   "metadata": {},
   "outputs": [],
   "source": [
    "def add_subtotal_MD3(PivotedGroup):\n",
    "    out = pd.concat([d.append(d.sum().rename((k, 'Subtotal'))) for k, d in PivotedGroup.groupby('Initiative')]).append((PivotedGroup.sum()).rename(('Grand', 'Total')))\n",
    "    out.index = pd.MultiIndex.from_tuples(out.index)\n",
    "    return out"
   ]
  },
  {
   "cell_type": "code",
   "execution_count": 203,
   "metadata": {},
   "outputs": [],
   "source": [
    "def to_excel_MD3(df, file):\n",
    "    writer = pd.ExcelWriter(file, engine='openpyxl')\n",
    "    if os.path.exists(file):\n",
    "        book = openpyxl.load_workbook(file)\n",
    "        writer.book = book\n",
    "\n",
    "    df.to_excel(writer, sheet_name=\"Total Expenses\", startrow = 1)\n",
    "    writer.save()\n",
    "    writer.close()    "
   ]
  },
  {
   "cell_type": "code",
   "execution_count": 204,
   "metadata": {},
   "outputs": [],
   "source": [
    "def edit_workbook_MD3(file):\n",
    "    book = load_workbook(file)\n",
    "    sheet = book[\"Total Expenses\"] #active means last opened sheet\n",
    "    rd = sheet.row_dimensions[1]\n",
    "    rd.height = 25\n",
    "    sheet['A2']= \"Initiative\"\n",
    "    sheet['B2']= \"Account Category\"\n",
    "    sheet['A2'].font = Font(bold=True)\n",
    "    sheet['B2'].font = Font(bold=True)\n",
    "    fontStyle = Font(size = \"20\")\n",
    "    sheet.merge_cells('A1:O1')\n",
    "    top_left_cell = sheet['A1']\n",
    "    top_right_cell = sheet['O1']\n",
    "    top_left_cell.value = \"FY21 Total Program Expenses by Initiative and Account\"\n",
    "    thin = Side(border_style=\"thin\", color=\"000000\")\n",
    "    double = Side(border_style=\"double\", color=\"000000\")\n",
    "    top_left_cell.border = Border(top=thin, left=thin, right=thin, bottom=thin)\n",
    "    top_left_cell.fill = PatternFill(\"solid\", fgColor=\"DDDDDD\")\n",
    "    top_left_cell.fill = fill = GradientFill(stop=(\"000080\", \"FFFFFF\"))\n",
    "    top_left_cell.font  = Font(b=True, color=\"FFFFFF\")\n",
    "    top_left_cell.font = fontStyle\n",
    "    top_left_cell.alignment = Alignment(horizontal=\"center\", vertical=\"center\")\n",
    "    top_right_cell.border = Border(top=thin, left=thin, right=thin, bottom=thin)\n",
    "    sheet.column_dimensions['A'].width = 25\n",
    "    sheet.column_dimensions['B'].width = 25\n",
    "    sheet.column_dimensions['C'].width = 15\n",
    "    sheet.column_dimensions['D'].width = 15\n",
    "    sheet.column_dimensions['E'].width = 15\n",
    "    sheet.column_dimensions['F'].width = 15\n",
    "    sheet.column_dimensions['G'].width = 15\n",
    "    sheet.column_dimensions['H'].width = 15\n",
    "    sheet.column_dimensions['I'].width = 15\n",
    "    sheet.column_dimensions['J'].width = 15\n",
    "    sheet.column_dimensions['K'].width = 15\n",
    "    sheet.column_dimensions['L'].width = 15\n",
    "    sheet.column_dimensions['M'].width = 15\n",
    "    sheet.column_dimensions['N'].width = 15\n",
    "    sheet.column_dimensions['O'].width = 15\n",
    "#    sheet.column_dimensions['D'].hidden = True\n",
    "    num_rows = sheet.max_row\n",
    "    curr_row = 2\n",
    "    for col in range(3, 16):\n",
    "        for row in range(2, num_rows+1):\n",
    "            sheet.cell(column=col, row=row).number_format = '\"$\"#,##0;[Red](\"$\"#,##0)'\n",
    "    for col in range(1, 3):\n",
    "        for row in range(3, num_rows):\n",
    "            sheet.cell(column=col, row=row).alignment = Alignment(horizontal = 'left', vertical='top')\n",
    "            sheet.cell(column=col, row=row).fill = blueFill\n",
    "    for i in range(1, sheet.max_row + 1):\n",
    "        if sheet.cell(row=i, column=2).value == \"Subtotal\":\n",
    "            for j in range(2,16):\n",
    "                sheet.cell(column=j, row=i).font = Font(bold=True)\n",
    "                sheet.cell(column=j, row=i).border = Border(bottom=Side(style='thin'))     \n",
    "    for i in range(1, sheet.max_row + 1):\n",
    "        if sheet.cell(row=i, column=1).value == \"Grand\":\n",
    "            for j in range(1,16):\n",
    "                sheet.cell(column=j, row=i).font = Font(bold=True)\n",
    "                sheet.cell(column=j, row=i).border = Border(bottom=Side(style=\"double\"))   \n",
    "    for i in range(1, sheet.max_row + 1):\n",
    "        if sheet.cell(row=i, column=1).value == \"Initiative\":\n",
    "            for j in range(1,16):\n",
    "                sheet.cell(column=j, row=i).font = Font(bold=True)\n",
    "                sheet.cell(column=j, row=i).border = Border(top = thin, bottom = thin)   \n",
    "                sheet.cell(column=j, row=i).fill = greyFill\n",
    "    for col in range(16, 17):\n",
    "        for row in range(2, num_rows+1):\n",
    "            sheet.cell(column=col, row=row).border = Border(left=thin)\n",
    "#    sheet.auto_filter.ref = sheet.dimensions\n",
    "    sheet.sheet_view.zoomScale = 70\n",
    "    sheet.freeze_panes = \"C3\"\n",
    "    book.save(file)"
   ]
  },
  {
   "cell_type": "code",
   "execution_count": 205,
   "metadata": {},
   "outputs": [],
   "source": [
    "def format_multi_pivot_MD3(Group, str):\n",
    "    step1 = create_MD_pivot3(Group)\n",
    "    step2 = add_subtotal_MD3(step1)\n",
    "    to_excel_MD3(step2, MDpath+str)\n",
    "    edit_workbook_MD3(MDpath+str)"
   ]
  },
  {
   "cell_type": "code",
   "execution_count": 206,
   "metadata": {},
   "outputs": [],
   "source": [
    "format_multi_pivot_MD3(Developing_Economies_RollupExp, '\\\\Developing Economies - '+timestampMD+' - MD Package.xlsx')\n",
    "format_multi_pivot_MD3(ClimateAligned_IndustriesExp, '\\\\Climate Aligned Industries - '+timestampMD+' - MD Package.xlsx')\n",
    "format_multi_pivot_MD3(IndiaExp, '\\\\India - '+timestampMD+' - MD Package.xlsx')\n",
    "format_multi_pivot_MD3(OperationsExp, '\\\\Operations - '+timestampMD+' - MD Package.xlsx')\n",
    "format_multi_pivot_MD3(ChinaExp, '\\\\China - '+timestampMD+' - MD Package.xlsx')\n",
    "format_multi_pivot_MD3(Breakthrough_Technology_Exp, '\\\\Breakthrough Technology - '+timestampMD+' - MD Package.xlsx')\n",
    "format_multi_pivot_MD3(CarbonFree_MobilityExp, '\\\\Carbon-Free Mobility - '+timestampMD+' - MD Package.xlsx')\n",
    "format_multi_pivot_MD3(Carbon_Free_ElectricityExp, '\\\\Carbon-Free Electricity - '+timestampMD+' - MD Package.xlsx')\n",
    "format_multi_pivot_MD3(Strategic_Engagement_and_Analysis_GroupExp, '\\\\Strategic Engagement and Analysis Group - '+timestampMD+' - MD Package.xlsx')\n",
    "format_multi_pivot_MD3(CarbonFreeBuildings_RollupExp, '\\\\Carbon-Free Buildings - '+timestampMD+' - MD Package.xlsx')\n",
    "format_multi_pivot_MD3(UrbanTrans_Exp, '\\\\Urban Transformation - '+timestampMD+' - MD Package.xlsx')\n",
    "format_multi_pivot_MD3(ClimateIntelExp, '\\\\Climate Intelligence - '+timestampMD+' - MD Package.xlsx')\n",
    "format_multi_pivot_MD3(IndustryExp, '\\\\Industry - '+timestampMD+' - MD Package.xlsx')\n",
    "format_multi_pivot_MD3(USExp, '\\\\US - '+timestampMD+' - MD Package.xlsx')\n",
    "format_multi_pivot_MD3(GlobalClimate_FinanceExp, '\\\\Global Climate Finance - '+timestampMD+' - MD Package.xlsx')\n",
    "format_multi_pivot_MD3(Watttime_Exp, '\\\\WattTime - '+timestampMD+' - MD Package.xlsx')\n",
    "#format_multi_pivot_MD3(BuildingElectrificationExp, '\\\\Building Electrification - '+timestampMD+' - MD Package.xlsx')"
   ]
  },
  {
   "cell_type": "markdown",
   "metadata": {},
   "source": [
    "# Unrestricted Report"
   ]
  },
  {
   "cell_type": "code",
   "execution_count": 207,
   "metadata": {},
   "outputs": [],
   "source": [
    "def create_Totalprogram(program):\n",
    "    firstdf = df1[df1['Program']==program]\n",
    "    if firstdf.empty == True:\n",
    "        print(str(program)+ \" DF is EMPTY\")\n",
    "    else:    \n",
    "        return firstdf"
   ]
  },
  {
   "cell_type": "code",
   "execution_count": 208,
   "metadata": {},
   "outputs": [],
   "source": [
    "DevelopmentTotal = create_Totalprogram('Development')\n",
    "IslandsTotal = create_Totalprogram('Islands')\n",
    "IndiaTotal = create_Totalprogram('India')\n",
    "OperationsTotal = create_Totalprogram('Operations')\n",
    "ChinaTotal = create_Totalprogram('China')\n",
    "Breakthrough_TechnologyTotal = create_Totalprogram('Breakthrough Technology')\n",
    "CarbonFree_MobilityTotal = create_Totalprogram('Carbon-Free Mobility')\n",
    "Climate_Aligned_IndustriesTotal = create_Totalprogram('Climate Aligned Industries')\n",
    "Global_Climate_FinanceTotal = create_Totalprogram('Global Climate Finance')\n",
    "Strategic_Engagement_and_Analysis_GroupTotal = create_Totalprogram('Strategic Engagement and Analysis Group')\n",
    "CarbonFree_BuildingsTotal = create_Totalprogram('Carbon-Free Buildings')\n",
    "WattTimeTotal = create_Totalprogram('WattTime')\n",
    "CarbonFree_ElectrictyTotal = create_Totalprogram('Carbon-Free Electricity')\n",
    "Urban_TransformationTotal = create_Totalprogram('Urban Transformation')\n",
    "Climate_IntelligenceTotal = create_Totalprogram('Climate Intelligence')\n",
    "IndustryTotal = create_Totalprogram('Industry')\n",
    "SE_AsiaTotal = create_Totalprogram('SE Asia')\n",
    "AfricaTotal = create_Totalprogram('Africa')\n",
    "USTotal = create_Totalprogram('US')\n",
    "Building_ElectrificationTotal = create_Totalprogram('Building Electrification')\n",
    "Energy_Transition_AcademyTotal = create_Totalprogram('Energy Transition Academy')\n",
    "BeijingTotal = create_Totalprogram('Beijing')"
   ]
  },
  {
   "cell_type": "code",
   "execution_count": 209,
   "metadata": {},
   "outputs": [],
   "source": [
    "Developing_Economies_RollupTotal = pd.concat([IslandsTotal, AfricaTotal, SE_AsiaTotal, Energy_Transition_AcademyTotal], ignore_index = True, sort=False)\n",
    "CarbonFreeBuildings_RollupTotal = pd.concat([CarbonFree_BuildingsTotal, Building_ElectrificationTotal], ignore_index = True, sort=False)\n",
    "China_RollupTotal = pd.concat([ChinaTotal, BeijingTotal], ignore_index = True, sort=False)"
   ]
  },
  {
   "cell_type": "code",
   "execution_count": 210,
   "metadata": {},
   "outputs": [],
   "source": [
    "def create_MD_pivot4(Group):\n",
    "    Month_order = ['Jul 2020', 'Aug 2020', 'Sep 2020', 'Oct 2020', 'Nov 2020', 'Dec 2020', 'Jan 2021', 'Feb 2021', 'Mar 2021', 'Apr 2021', 'May 2021', 'Jun 2021']\n",
    "    table = pd.pivot_table(Group, index = ['Initiative','Project','Grant'], values = 'Unrestricted', columns = 'Period', aggfunc=np.sum)\n",
    "    table2 = table.reindex(Month_order, axis=1)\n",
    "    table2['Total'] = table2.iloc[:,-12:].sum(axis=1)\n",
    "    return table2"
   ]
  },
  {
   "cell_type": "code",
   "execution_count": 211,
   "metadata": {},
   "outputs": [],
   "source": [
    "def add_subtotal_MD4(PivotedGroup):\n",
    "    out = pd.concat([d.append(d.sum().rename((k,'', 'Subtotal'))) for k, d in PivotedGroup.groupby('Initiative')]).append((PivotedGroup.sum()).rename(('Grand','', 'Total')))\n",
    "    out.index = pd.MultiIndex.from_tuples(out.index)\n",
    "    return out"
   ]
  },
  {
   "cell_type": "code",
   "execution_count": 212,
   "metadata": {},
   "outputs": [],
   "source": [
    "def to_excel_MD4(df, file):\n",
    "    writer = pd.ExcelWriter(file, engine='openpyxl')\n",
    "    if os.path.exists(file):\n",
    "        book = openpyxl.load_workbook(file)\n",
    "        writer.book = book\n",
    "\n",
    "    df.to_excel(writer, sheet_name=\"Unrestricted Use\", startrow = 1)\n",
    "    writer.save()\n",
    "    writer.close()    "
   ]
  },
  {
   "cell_type": "code",
   "execution_count": 213,
   "metadata": {},
   "outputs": [],
   "source": [
    "def edit_workbook_MD4(file):\n",
    "    book = load_workbook(file)\n",
    "    sheet = book[\"Unrestricted Use\"] #active means last opened sheet\n",
    "    rd = sheet.row_dimensions[1]\n",
    "    rd.height = 25\n",
    "    sheet['A2']= \"Initiative\"\n",
    "    sheet['B2']= \"Project\"\n",
    "    sheet['C2']= \"Grant\"    \n",
    "    sheet['A2'].font = Font(bold=True)\n",
    "    sheet['B2'].font = Font(bold=True)\n",
    "    sheet['C2'].font = Font(bold=True)\n",
    "    fontStyle = Font(size = \"20\")\n",
    "    sheet.merge_cells('A1:P1')\n",
    "    top_left_cell = sheet['A1']\n",
    "    top_right_cell = sheet['P1']\n",
    "    top_left_cell.value = \"FY21 Unrestricted Use by Initiative, Project, and Grant\"\n",
    "    thin = Side(border_style=\"thin\", color=\"000000\")\n",
    "    double = Side(border_style=\"double\", color=\"000000\")\n",
    "    top_left_cell.border = Border(top=thin, left=thin, right=thin, bottom=thin)\n",
    "    top_left_cell.fill = PatternFill(\"solid\", fgColor=\"DDDDDD\")\n",
    "    top_left_cell.fill = fill = GradientFill(stop=(\"000080\", \"FFFFFF\"))\n",
    "    top_left_cell.font  = Font(b=True, color=\"FFFFFF\")\n",
    "    top_left_cell.font = fontStyle\n",
    "    top_left_cell.alignment = Alignment(horizontal=\"center\", vertical=\"center\")\n",
    "    top_right_cell.border = Border(top=thin, left=thin, right=thin, bottom=thin)\n",
    "    sheet.column_dimensions['A'].width = 25\n",
    "    sheet.column_dimensions['B'].width = 25\n",
    "    sheet.column_dimensions['C'].width = 25\n",
    "    sheet.column_dimensions['D'].width = 15\n",
    "    sheet.column_dimensions['E'].width = 15\n",
    "    sheet.column_dimensions['F'].width = 15\n",
    "    sheet.column_dimensions['G'].width = 15\n",
    "    sheet.column_dimensions['H'].width = 15\n",
    "    sheet.column_dimensions['I'].width = 15\n",
    "    sheet.column_dimensions['J'].width = 15\n",
    "    sheet.column_dimensions['K'].width = 15\n",
    "    sheet.column_dimensions['L'].width = 15\n",
    "    sheet.column_dimensions['M'].width = 15\n",
    "    sheet.column_dimensions['N'].width = 15\n",
    "    sheet.column_dimensions['O'].width = 15\n",
    "    sheet.column_dimensions['P'].width = 15\n",
    "#    sheet.column_dimensions['D'].hidden = True\n",
    "    num_rows = sheet.max_row\n",
    "    curr_row = 2\n",
    "    for col in range(4, 17):\n",
    "        for row in range(2, num_rows+1):\n",
    "            sheet.cell(column=col, row=row).number_format = '\"$\"#,##0;[Red](\"$\"#,##0)'\n",
    "    for col in range(1, 4):\n",
    "        for row in range(3, num_rows):\n",
    "            sheet.cell(column=col, row=row).alignment = Alignment(horizontal = 'left', vertical='top')\n",
    "            sheet.cell(column=col, row=row).fill = blueFill\n",
    "    for i in range(1, sheet.max_row + 1):\n",
    "        if sheet.cell(row=i, column=3).value == \"Subtotal\":\n",
    "            for j in range(3,17):\n",
    "                sheet.cell(column=j, row=i).font = Font(bold=True)\n",
    "                sheet.cell(column=j, row=i).border = Border(bottom=Side(style='thin'))     \n",
    "    for i in range(1, sheet.max_row + 1):\n",
    "        if sheet.cell(row=i, column=1).value == \"Grand\":\n",
    "            for j in range(1,17):\n",
    "                sheet.cell(column=j, row=i).font = Font(bold=True)\n",
    "                sheet.cell(column=j, row=i).border = Border(bottom=Side(style=\"double\"))   \n",
    "    for i in range(1, sheet.max_row + 1):\n",
    "        if sheet.cell(row=i, column=1).value == \"Initiative\":\n",
    "            for j in range(1,17):\n",
    "                sheet.cell(column=j, row=i).font = Font(bold=True)\n",
    "                sheet.cell(column=j, row=i).border = Border(top = thin, bottom = thin) \n",
    "                sheet.cell(column=j, row=i).fill = greyFill\n",
    "    for col in range(17, 18):\n",
    "        for row in range(2, num_rows+1):\n",
    "            sheet.cell(column=col, row=row).border = Border(left=thin)\n",
    "#    sheet.auto_filter.ref = sheet.dimensions\n",
    "    sheet.sheet_view.zoomScale = 70\n",
    "    sheet.freeze_panes = \"D3\"\n",
    "    book.save(file)"
   ]
  },
  {
   "cell_type": "code",
   "execution_count": 214,
   "metadata": {},
   "outputs": [],
   "source": [
    "def format_multi_pivot_MD4(Group, str):\n",
    "    step1 = create_MD_pivot4(Group)\n",
    "    step2 = add_subtotal_MD4(step1)\n",
    "    to_excel_MD4(step2, MDpath+str)\n",
    "    edit_workbook_MD4(MDpath+str)"
   ]
  },
  {
   "cell_type": "code",
   "execution_count": 215,
   "metadata": {},
   "outputs": [],
   "source": [
    "format_multi_pivot_MD4(Developing_Economies_RollupTotal, '\\\\Developing Economies - '+timestampMD+' - MD Package.xlsx')\n",
    "format_multi_pivot_MD4(Climate_Aligned_IndustriesTotal, '\\\\Climate Aligned Industries - '+timestampMD+' - MD Package.xlsx')\n",
    "format_multi_pivot_MD4(IndiaTotal, '\\\\India - '+timestampMD+' - MD Package.xlsx')\n",
    "format_multi_pivot_MD4(OperationsTotal, '\\\\Operations - '+timestampMD+' - MD Package.xlsx')\n",
    "format_multi_pivot_MD4(China_RollupTotal, '\\\\China - '+timestampMD+' - MD Package.xlsx')\n",
    "format_multi_pivot_MD4(Breakthrough_TechnologyTotal, '\\\\Breakthrough Technology - '+timestampMD+' - MD Package.xlsx')\n",
    "format_multi_pivot_MD4(CarbonFree_MobilityTotal, '\\\\Carbon-Free Mobility - '+timestampMD+' - MD Package.xlsx')\n",
    "format_multi_pivot_MD4(CarbonFree_ElectrictyTotal, '\\\\Carbon-Free Electricity - '+timestampMD+' - MD Package.xlsx')\n",
    "format_multi_pivot_MD4(Strategic_Engagement_and_Analysis_GroupTotal, '\\\\Strategic Engagement and Analysis Group - '+timestampMD+' - MD Package.xlsx')\n",
    "format_multi_pivot_MD4(CarbonFreeBuildings_RollupTotal, '\\\\Carbon-Free Buildings - '+timestampMD+' - MD Package.xlsx')\n",
    "format_multi_pivot_MD4(Urban_TransformationTotal, '\\\\Urban Transformation - '+timestampMD+' - MD Package.xlsx')\n",
    "format_multi_pivot_MD4(Climate_IntelligenceTotal, '\\\\Climate Intelligence - '+timestampMD+' - MD Package.xlsx')\n",
    "format_multi_pivot_MD4(IndustryTotal, '\\\\Industry - '+timestampMD+' - MD Package.xlsx')\n",
    "format_multi_pivot_MD4(USTotal, '\\\\US - '+timestampMD+' - MD Package.xlsx')\n",
    "format_multi_pivot_MD4(WattTimeTotal, '\\\\WattTime - '+timestampMD+' - MD Package.xlsx')\n",
    "format_multi_pivot_MD4(Global_Climate_FinanceTotal, '\\\\Global Climate Finance - '+timestampMD+' - MD Package.xlsx')\n"
   ]
  },
  {
   "cell_type": "markdown",
   "metadata": {},
   "source": [
    "## Create Salesforce Pivots for Philanthropic"
   ]
  },
  {
   "cell_type": "code",
   "execution_count": 216,
   "metadata": {},
   "outputs": [],
   "source": [
    "def create_Salesforceprogram(program):\n",
    "    firstdf = dfSalesforce[dfSalesforce['Program: Program Name']==program]\n",
    "    seconddf = firstdf[firstdf['Grant Status']!='Complete - Satisfactory']\n",
    "    if seconddf.empty == True:\n",
    "        print(str(program)+ \" DF is EMPTY\")\n",
    "    else:    \n",
    "        return firstdf"
   ]
  },
  {
   "cell_type": "code",
   "execution_count": 217,
   "metadata": {},
   "outputs": [
    {
     "name": "stdout",
     "output_type": "stream",
     "text": [
      "Building Electrification DF is EMPTY\n",
      "Beijing DF is EMPTY\n"
     ]
    }
   ],
   "source": [
    "DevelopmentSF = create_Salesforceprogram(\"General Support\")\n",
    "IslandsSF = create_Salesforceprogram(\"Islands\")\n",
    "IndiaSF = create_Salesforceprogram(\"India\")\n",
    "OperationsSF = create_Salesforceprogram(\"Operations\")\n",
    "ChinaSF = create_Salesforceprogram(\"China\")\n",
    "Breakthrough_Technology_SF = create_Salesforceprogram(\"Breakthrough Technology\")\n",
    "CarbonFree_MobilitySF = create_Salesforceprogram(\"Carbon-Free Mobility\")\n",
    "ClimateAligned_IndustriesSF = create_Salesforceprogram(\"Climate Aligned Industries\")\n",
    "#CommunicationsSF = create_Salesforceprogram(\"Communications\")\n",
    "GlobalClimate_FinanceSF = create_Salesforceprogram(\"Global Climate Finance\")\n",
    "Strategic_Engagement_and_Analysis_GroupSF = create_Salesforceprogram(\"Strategic Engagement and Analysis Group\")\n",
    "Carbon_Free_BuildingsSF = create_Salesforceprogram(\"Carbon-Free Buildings\")\n",
    "Carbon_Free_ElectricitySF = create_Salesforceprogram(\"Carbon-Free Electricity\")\n",
    "UrbanTrans_SF = create_Salesforceprogram(\"Urban Transformation\")\n",
    "ClimateIntelSF = create_Salesforceprogram(\"Climate Intelligence\")\n",
    "IndustrySF = create_Salesforceprogram(\"Industry\")\n",
    "SEAsiaSF = create_Salesforceprogram(\"SE Asia Energy\")\n",
    "AfricaSF = create_Salesforceprogram(\"Africa\")\n",
    "USSF = create_Salesforceprogram(\"US\")\n",
    "BuildingElectrificationSF = create_Salesforceprogram(\"Building Electrification\")\n",
    "Energy_Transition_AcademySF = create_Salesforceprogram(\"Energy Transition Academy\")\n",
    "BeijingSF = create_Salesforceprogram(\"Beijing\")"
   ]
  },
  {
   "cell_type": "code",
   "execution_count": 218,
   "metadata": {},
   "outputs": [],
   "source": [
    "Developing_Economies_RollupSF = pd.concat([IslandsSF, AfricaSF, SEAsiaSF, Energy_Transition_AcademySF], ignore_index = True, sort=False)\n",
    "CarbonFreeBuildings_RollupSF = pd.concat([Carbon_Free_BuildingsSF, BuildingElectrificationSF], ignore_index = True, sort=False)\n",
    "China_RollupSF = pd.concat([ChinaSF, BeijingSF], ignore_index = True, sort=False)"
   ]
  },
  {
   "cell_type": "code",
   "execution_count": 219,
   "metadata": {},
   "outputs": [],
   "source": [
    "def create_MD_pivot5(Group):\n",
    "    table = pd.pivot_table(Group, index = ['Opportunity Record Type','Initiative','Forecast Category','Opportunity Name', 'RMI Grant Name', 'Revenue Name','Stage', 'Revenue Date', 'Grant Term - Start Date', 'Grant Term - End Date', 'Revenue Status', 'Program Fund Type', 'Probability (%)', 'Revenue Amount'], values = 'Expected Revenue', aggfunc=np.sum)\n",
    "    return table"
   ]
  },
  {
   "cell_type": "code",
   "execution_count": 220,
   "metadata": {},
   "outputs": [],
   "source": [
    "today = datetime.today()\n",
    "timestamptoday = today.strftime(\"%B %d, %Y\")"
   ]
  },
  {
   "cell_type": "code",
   "execution_count": 221,
   "metadata": {},
   "outputs": [],
   "source": [
    "def to_excel_MD5(df, file):\n",
    "    writer = pd.ExcelWriter(file, engine='openpyxl')\n",
    "    if os.path.exists(file):\n",
    "        book = openpyxl.load_workbook(file)\n",
    "        writer.book = book\n",
    "\n",
    "    df.to_excel(writer, sheet_name=\"SF Data DEV&GovMLBL\", startrow = 1)\n",
    "    writer.save()\n",
    "    writer.close()   "
   ]
  },
  {
   "cell_type": "code",
   "execution_count": 222,
   "metadata": {},
   "outputs": [],
   "source": [
    "def edit_workbook_MD5(file):\n",
    "    book = load_workbook(file)\n",
    "    sheet = book[\"SF Data DEV&GovMLBL\"] #active means last opened sheet\n",
    "    rd = sheet.row_dimensions[1]\n",
    "    rd.height = 25\n",
    "    sheet['A2']= \"Opportunity Record Type\"    \n",
    "    sheet['B2']= \"Initiative\"\n",
    "    sheet['C2']= \"Forecast Category\" \n",
    "    sheet['D2']= \"Opportunity Name\"\n",
    "    sheet['E2']= \"RMI Grant Name\"    \n",
    "    sheet['F2']= \"Revenue Name\" \n",
    "    sheet['G2']= \"Stage\"     \n",
    "    sheet['H2']= \"Revenue Date\"     \n",
    "    sheet['I2']= \"Grant Term - Start Date\"\n",
    "    sheet['J2']= \"Grant Term - End Date\"  \n",
    "    sheet['K2']= \"Revenue Status\"   \n",
    "    sheet['L2']= \"Program Fund Type\"   \n",
    "    sheet['M2']= \"Probability (%)\"     \n",
    "    sheet['N2']= \"Revenue Amount\"\n",
    "    sheet['O2']= \"Expected Revenue\"   \n",
    "    sheet['A2'].font = Font(bold=True)\n",
    "    sheet['B2'].font = Font(bold=True)\n",
    "    sheet['C2'].font = Font(bold=True)\n",
    "    sheet['D2'].font = Font(bold=True) \n",
    "    fontStyle = Font(size = \"20\")\n",
    "    sheet.merge_cells('A1:O1')\n",
    "    top_left_cell = sheet['A1']\n",
    "    top_right_cell = sheet['O1']\n",
    "    top_left_cell.value = \"SalesForce FY20+ Data as of \" +timestamptoday\n",
    "    thin = Side(border_style=\"thin\", color=\"000000\")\n",
    "    double = Side(border_style=\"double\", color=\"000000\")\n",
    "    top_left_cell.border = Border(top=thin, left=thin, right=thin, bottom=thin)\n",
    "    top_left_cell.fill = PatternFill(\"solid\", fgColor=\"DDDDDD\")\n",
    "    top_left_cell.fill = fill = GradientFill(stop=(\"000080\", \"FFFFFF\"))\n",
    "    top_left_cell.font  = Font(b=True, color=\"FFFFFF\")\n",
    "    top_left_cell.font = fontStyle\n",
    "    top_left_cell.alignment = Alignment(horizontal=\"center\", vertical=\"center\")\n",
    "    top_right_cell.border = Border(top=thin, left=thin, right=thin, bottom=thin)\n",
    "    sheet.column_dimensions['A'].width = 25\n",
    "    sheet.column_dimensions['B'].width = 20\n",
    "    sheet.column_dimensions['C'].width = 15\n",
    "    sheet.column_dimensions['D'].width = 20\n",
    "    sheet.column_dimensions['E'].width = 25\n",
    "    sheet.column_dimensions['F'].width = 25\n",
    "    sheet.column_dimensions['G'].width = 15\n",
    "    sheet.column_dimensions['H'].width = 15\n",
    "    sheet.column_dimensions['I'].width = 15\n",
    "    sheet.column_dimensions['J'].width = 15\n",
    "    sheet.column_dimensions['K'].width = 15\n",
    "    sheet.column_dimensions['L'].width = 15\n",
    "    sheet.column_dimensions['M'].width = 15\n",
    "    sheet.column_dimensions['N'].width = 15\n",
    "    sheet.column_dimensions['O'].width = 15\n",
    "    sheet.column_dimensions['E'].hidden = True\n",
    "    num_rows = sheet.max_row\n",
    "    curr_row = 2\n",
    "    for col in range(13, 16):\n",
    "        for row in range(2, num_rows+1):\n",
    "            sheet.cell(column=col, row=row).number_format = '#,##0;[Red](#,##0)'\n",
    "    for col in range(1, 7):\n",
    "        for row in range(3, num_rows+1):\n",
    "            sheet.cell(column=col, row=row).alignment = Alignment(horizontal = 'left', vertical='top')\n",
    "            sheet.cell(column=col, row=row).fill = blueFill\n",
    "    for i in range(1, sheet.max_row + 1):\n",
    "        if sheet.cell(row=i, column=1).value == \"Opportunity Record Type\":\n",
    "            for j in range(1,16):\n",
    "                sheet.cell(column=j, row=i).font = Font(bold=True)\n",
    "                sheet.cell(column=j, row=i).border = Border(top = thin, bottom = thin)   \n",
    "                sheet.cell(column=j, row=i).fill = greyFill\n",
    "    for col in range(15, 16):\n",
    "        for row in range(2, num_rows+1):\n",
    "            sheet.cell(column=col, row=row).border = Border(top=thin, left=thin, right=thin, bottom=thin)\n",
    "    for col in range(7, 16):\n",
    "        for row in range(3, num_rows+1):\n",
    "            sheet.cell(column=col, row=row).font = Font(bold=False)\n",
    "    sheet.sheet_view.zoomScale = 85  \n",
    "    sheet.freeze_panes = sheet['G3']\n",
    "    book.save(file)"
   ]
  },
  {
   "cell_type": "code",
   "execution_count": 223,
   "metadata": {},
   "outputs": [],
   "source": [
    "def format_multi_pivot_MD5(Group, str):\n",
    "    step1 = create_MD_pivot5(Group)\n",
    "    to_excel_MD5(step1, MDpath+str)\n",
    "    edit_workbook_MD5(MDpath+str)"
   ]
  },
  {
   "cell_type": "code",
   "execution_count": 224,
   "metadata": {},
   "outputs": [],
   "source": [
    "format_multi_pivot_MD5(Developing_Economies_RollupSF, '\\\\Developing Economies - '+timestampMD+' - MD Package.xlsx')\n",
    "format_multi_pivot_MD5(ClimateAligned_IndustriesSF, '\\\\Climate Aligned Industries - '+timestampMD+' - MD Package.xlsx')\n",
    "format_multi_pivot_MD5(IndiaSF, '\\\\India - '+timestampMD+' - MD Package.xlsx')\n",
    "format_multi_pivot_MD5(OperationsSF, '\\\\Operations - '+timestampMD+' - MD Package.xlsx')\n",
    "format_multi_pivot_MD5(China_RollupSF, '\\\\China - '+timestampMD+' - MD Package.xlsx')\n",
    "format_multi_pivot_MD5(Breakthrough_Technology_SF, '\\\\Breakthrough Technology - '+timestampMD+' - MD Package.xlsx')\n",
    "format_multi_pivot_MD5(CarbonFree_MobilitySF, '\\\\Carbon-Free Mobility - '+timestampMD+' - MD Package.xlsx')\n",
    "format_multi_pivot_MD5(Carbon_Free_ElectricitySF, '\\\\Carbon-Free Electricity - '+timestampMD+' - MD Package.xlsx')\n",
    "format_multi_pivot_MD5(Strategic_Engagement_and_Analysis_GroupSF, '\\\\Strategic Engagement and Analysis Group - '+timestampMD+' - MD Package.xlsx')\n",
    "format_multi_pivot_MD5(CarbonFreeBuildings_RollupSF, '\\\\Carbon-Free Buildings - '+timestampMD+' - MD Package.xlsx')\n",
    "format_multi_pivot_MD5(UrbanTrans_SF, '\\\\Urban Transformation - '+timestampMD+' - MD Package.xlsx')\n",
    "format_multi_pivot_MD5(ClimateIntelSF, '\\\\Climate Intelligence - '+timestampMD+' - MD Package.xlsx')\n",
    "format_multi_pivot_MD5(IndustrySF, '\\\\Industry - '+timestampMD+' - MD Package.xlsx')\n",
    "format_multi_pivot_MD5(USSF, '\\\\US - '+timestampMD+' - MD Package.xlsx')\n",
    "#format_multi_pivot_MD6(BuildingElectrificationSF, '\\\\Building Electrification - '+timestampMD+' - MD Package.xlsx')"
   ]
  },
  {
   "cell_type": "markdown",
   "metadata": {},
   "source": [
    "## Create Salesforce Pivots for FFS"
   ]
  },
  {
   "cell_type": "code",
   "execution_count": 225,
   "metadata": {},
   "outputs": [],
   "source": [
    "def create_Salesforceprogram2(program):\n",
    "    firstdf = dfSalesforceFFS[dfSalesforceFFS['Program Area: Program Name']==program]\n",
    "    if firstdf.empty == True:\n",
    "        print(str(program)+ \" DF is EMPTY\")\n",
    "    else:    \n",
    "        return firstdf"
   ]
  },
  {
   "cell_type": "code",
   "execution_count": 226,
   "metadata": {},
   "outputs": [
    {
     "name": "stdout",
     "output_type": "stream",
     "text": [
      "General Support DF is EMPTY\n",
      "Operations DF is EMPTY\n",
      "Global Climate Finance DF is EMPTY\n",
      "SE Asia Energy DF is EMPTY\n",
      "Building Electrification DF is EMPTY\n",
      "Energy Transition Academy DF is EMPTY\n",
      "Beijing DF is EMPTY\n"
     ]
    }
   ],
   "source": [
    "DevelopmentSFffs = create_Salesforceprogram2(\"General Support\")\n",
    "IslandsSFffs = create_Salesforceprogram2(\"Islands\")\n",
    "IndiaSFffs = create_Salesforceprogram2(\"India\")\n",
    "OperationsSFffs = create_Salesforceprogram2(\"Operations\")\n",
    "ChinaSFffs = create_Salesforceprogram2(\"China\")\n",
    "Breakthrough_Technology_SFffs = create_Salesforceprogram2(\"Breakthrough Technology\")\n",
    "CarbonFree_MobilitySFffs = create_Salesforceprogram2(\"Carbon-Free Mobility\")\n",
    "ClimateAligned_IndustriesSFffs = create_Salesforceprogram2(\"Climate Aligned Industries\")\n",
    "#CommunicationsSF = create_Salesforceprogram(\"Communications\")\n",
    "GlobalClimate_FinanceSFffs = create_Salesforceprogram2(\"Global Climate Finance\")\n",
    "Strategic_Engagement_and_Analysis_GroupSFffs = create_Salesforceprogram2(\"Strategic Engagement and Analysis Group\")\n",
    "Carbon_Free_BuildingsSFffs = create_Salesforceprogram2(\"Carbon-Free Buildings\")\n",
    "Carbon_Free_ElectricitySFffs = create_Salesforceprogram2(\"Carbon-Free Electricity\")\n",
    "UrbanTrans_SFffs = create_Salesforceprogram2(\"Urban Transformation\")\n",
    "ClimateIntelSFffs = create_Salesforceprogram2(\"Climate Intelligence\")\n",
    "IndustrySFffs = create_Salesforceprogram2(\"Industry\")\n",
    "SEAsiaSFffs = create_Salesforceprogram2(\"SE Asia Energy\")\n",
    "AfricaSFffs = create_Salesforceprogram2(\"Africa\")\n",
    "USSFffs = create_Salesforceprogram2(\"US\")\n",
    "BuildingElectrificationSFffs = create_Salesforceprogram2(\"Building Electrification\")\n",
    "Energy_Transition_AcademySFffs = create_Salesforceprogram2(\"Energy Transition Academy\")\n",
    "BeijingSFffs = create_Salesforceprogram2(\"Beijing\")"
   ]
  },
  {
   "cell_type": "code",
   "execution_count": 227,
   "metadata": {},
   "outputs": [],
   "source": [
    "Developing_Economies_RollupSFffs = pd.concat([IslandsSFffs, AfricaSFffs, SEAsiaSFffs, Energy_Transition_AcademySFffs], ignore_index = True, sort=False)\n",
    "CarbonFreeBuildings_RollupSFffs = pd.concat([Carbon_Free_BuildingsSFffs, BuildingElectrificationSFffs], ignore_index = True, sort=False)\n",
    "China_RollupSFffs = pd.concat([ChinaSFffs, BeijingSFffs], ignore_index = True, sort=False)"
   ]
  },
  {
   "cell_type": "code",
   "execution_count": 228,
   "metadata": {},
   "outputs": [],
   "source": [
    "def create_MD_pivot6(Group):\n",
    "    table = pd.pivot_table(Group, index = ['Initiative','Account Name', 'Opportunity Name','Relationship Manager', 'Stage', 'Close Date', 'Probability (%)', 'Amount'], values = 'Weighted Value of Opportunity', aggfunc=np.sum)\n",
    "    return table"
   ]
  },
  {
   "cell_type": "code",
   "execution_count": 229,
   "metadata": {},
   "outputs": [],
   "source": [
    "def to_excel_MD6(df, file):\n",
    "    writer = pd.ExcelWriter(file, engine='openpyxl')\n",
    "    if os.path.exists(file):\n",
    "        book = openpyxl.load_workbook(file)\n",
    "        writer.book = book\n",
    "\n",
    "    df.to_excel(writer, sheet_name=\"SF Data FFS & Other Opps\", startrow = 1)\n",
    "    writer.save()\n",
    "    writer.close()   "
   ]
  },
  {
   "cell_type": "code",
   "execution_count": 230,
   "metadata": {},
   "outputs": [],
   "source": [
    "def edit_workbook_MD6(file):\n",
    "    book = load_workbook(file)\n",
    "    sheet = book[\"SF Data FFS & Other Opps\"] #active means last opened sheet\n",
    "    rd = sheet.row_dimensions[1]\n",
    "    rd.height = 25\n",
    "    sheet['A2']= \"Initiative\"\n",
    "    sheet['B2']= \"Account Name\"    \n",
    "    sheet['C2']= \"Opportunity Name\"\n",
    "    sheet['D2']= \"Relationship Manager\" \n",
    "    sheet['E2']= \"Stage\"\n",
    "    sheet['F2']= \"Close Date\"    \n",
    "    sheet['G2']= \"Probability (%)\"   \n",
    "    sheet['H2']= \"Amount\"  \n",
    "    sheet['I2']= \"Weighted Value of Opportunity\"   \n",
    "    sheet['A2'].font = Font(bold=True)\n",
    "    sheet['B2'].font = Font(bold=True)\n",
    "    sheet['C2'].font = Font(bold=True)\n",
    "    sheet['D2'].font = Font(bold=True) \n",
    "    fontStyle = Font(size = \"20\")\n",
    "    sheet.merge_cells('A1:I1')\n",
    "    top_left_cell = sheet['A1']\n",
    "    top_right_cell = sheet['I1']\n",
    "    top_left_cell.value = \"SalesForce FY20+ Data as of \" +timestamptoday \n",
    "    thin = Side(border_style=\"thin\", color=\"000000\")\n",
    "    double = Side(border_style=\"double\", color=\"000000\")\n",
    "    top_left_cell.border = Border(top=thin, left=thin, right=thin, bottom=thin)\n",
    "    top_left_cell.fill = PatternFill(\"solid\", fgColor=\"DDDDDD\")\n",
    "    top_left_cell.fill = fill = GradientFill(stop=(\"000080\", \"FFFFFF\"))\n",
    "    top_left_cell.font  = Font(b=True, color=\"FFFFFF\")\n",
    "    top_left_cell.font = fontStyle\n",
    "    top_left_cell.alignment = Alignment(horizontal=\"center\", vertical=\"center\")\n",
    "    top_right_cell.border = Border(top=thin, left=thin, right=thin, bottom=thin)\n",
    "    sheet.column_dimensions['A'].width = 25\n",
    "    sheet.column_dimensions['B'].width = 25\n",
    "    sheet.column_dimensions['C'].width = 25\n",
    "    sheet.column_dimensions['D'].width = 25\n",
    "    sheet.column_dimensions['E'].width = 25\n",
    "    sheet.column_dimensions['F'].width = 15\n",
    "    sheet.column_dimensions['G'].width = 25\n",
    "    sheet.column_dimensions['H'].width = 25\n",
    "    sheet.column_dimensions['I'].width = 15\n",
    "    sheet.column_dimensions['J'].width = 15\n",
    "#    sheet.column_dimensions['D'].hidden = True\n",
    "    num_rows = sheet.max_row\n",
    "    curr_row = 2\n",
    "    for col in range(7, 10):\n",
    "        for row in range(2, num_rows+1):\n",
    "            sheet.cell(column=col, row=row).number_format = '#,##0;[Red](#,##0)'\n",
    "    for col in range(1, 6):\n",
    "        for row in range(3, num_rows+1):\n",
    "            sheet.cell(column=col, row=row).alignment = Alignment(horizontal = 'left', vertical='top')\n",
    "            sheet.cell(column=col, row=row).fill = blueFill\n",
    "    for i in range(1, sheet.max_row + 1):\n",
    "        if sheet.cell(row=i, column=1).value == \"Initiative\":\n",
    "            for j in range(1,10):\n",
    "                sheet.cell(column=j, row=i).font = Font(bold=True)\n",
    "                sheet.cell(column=j, row=i).border = Border(top = thin, bottom = thin)   \n",
    "                sheet.cell(column=j, row=i).fill = greyFill\n",
    "    for col in range(9, 10):\n",
    "        for row in range(2, num_rows+1):\n",
    "            sheet.cell(column=col, row=row).border = Border(top=thin, left=thin, right=thin, bottom=thin)\n",
    "    for col in range(6, 10):\n",
    "        for row in range(3, num_rows+1):\n",
    "            sheet.cell(column=col, row=row).font = Font(bold=False)\n",
    "    sheet.sheet_view.zoomScale = 70  \n",
    "    sheet.freeze_panes = sheet['F3']\n",
    "    book.save(file)"
   ]
  },
  {
   "cell_type": "code",
   "execution_count": 231,
   "metadata": {},
   "outputs": [],
   "source": [
    "def format_multi_pivot_MD6(Group, str):\n",
    "    step1 = create_MD_pivot6(Group)\n",
    "    to_excel_MD6(step1, MDpath+str)\n",
    "    edit_workbook_MD6(MDpath+str)"
   ]
  },
  {
   "cell_type": "code",
   "execution_count": 232,
   "metadata": {},
   "outputs": [],
   "source": [
    "format_multi_pivot_MD6(Developing_Economies_RollupSFffs, '\\\\Developing Economies - '+timestampMD+' - MD Package.xlsx')\n",
    "format_multi_pivot_MD6(ClimateAligned_IndustriesSFffs, '\\\\Climate Aligned Industries - '+timestampMD+' - MD Package.xlsx')\n",
    "format_multi_pivot_MD6(IndiaSFffs, '\\\\India - '+timestampMD+' - MD Package.xlsx')\n",
    "#format_multi_pivot_MD6(OperationsSFffs, '\\\\Operations - '+timestampMD+' - MD Package.xlsx')\n",
    "format_multi_pivot_MD6(China_RollupSFffs, '\\\\China - '+timestampMD+' - MD Package.xlsx')\n",
    "format_multi_pivot_MD6(Breakthrough_Technology_SFffs, '\\\\Breakthrough Technology - '+timestampMD+' - MD Package.xlsx')\n",
    "format_multi_pivot_MD6(CarbonFree_MobilitySFffs, '\\\\Carbon-Free Mobility - '+timestampMD+' - MD Package.xlsx')\n",
    "format_multi_pivot_MD6(Carbon_Free_ElectricitySFffs, '\\\\Carbon-Free Electricity - '+timestampMD+' - MD Package.xlsx')\n",
    "format_multi_pivot_MD6(Strategic_Engagement_and_Analysis_GroupSFffs, '\\\\Strategic Engagement and Analysis Group - '+timestampMD+' - MD Package.xlsx')\n",
    "format_multi_pivot_MD6(CarbonFreeBuildings_RollupSFffs, '\\\\Carbon-Free Buildings - '+timestampMD+' - MD Package.xlsx')\n",
    "format_multi_pivot_MD6(UrbanTrans_SFffs, '\\\\Urban Transformation - '+timestampMD+' - MD Package.xlsx')\n",
    "format_multi_pivot_MD6(ClimateIntelSFffs, '\\\\Climate Intelligence - '+timestampMD+' - MD Package.xlsx')\n",
    "format_multi_pivot_MD6(IndustrySFffs, '\\\\Industry - '+timestampMD+' - MD Package.xlsx')\n",
    "format_multi_pivot_MD6(USSFffs, '\\\\US - '+timestampMD+' - MD Package.xlsx')\n"
   ]
  },
  {
   "cell_type": "code",
   "execution_count": null,
   "metadata": {},
   "outputs": [],
   "source": []
  },
  {
   "cell_type": "code",
   "execution_count": null,
   "metadata": {},
   "outputs": [],
   "source": []
  },
  {
   "cell_type": "code",
   "execution_count": null,
   "metadata": {},
   "outputs": [],
   "source": []
  },
  {
   "cell_type": "code",
   "execution_count": null,
   "metadata": {},
   "outputs": [],
   "source": []
  },
  {
   "cell_type": "code",
   "execution_count": null,
   "metadata": {},
   "outputs": [],
   "source": []
  },
  {
   "cell_type": "code",
   "execution_count": null,
   "metadata": {},
   "outputs": [],
   "source": []
  },
  {
   "cell_type": "code",
   "execution_count": null,
   "metadata": {},
   "outputs": [],
   "source": []
  },
  {
   "cell_type": "code",
   "execution_count": null,
   "metadata": {},
   "outputs": [],
   "source": []
  },
  {
   "cell_type": "code",
   "execution_count": null,
   "metadata": {},
   "outputs": [],
   "source": []
  },
  {
   "cell_type": "code",
   "execution_count": null,
   "metadata": {},
   "outputs": [],
   "source": []
  },
  {
   "cell_type": "code",
   "execution_count": null,
   "metadata": {},
   "outputs": [],
   "source": []
  },
  {
   "cell_type": "code",
   "execution_count": null,
   "metadata": {},
   "outputs": [],
   "source": []
  },
  {
   "cell_type": "code",
   "execution_count": null,
   "metadata": {},
   "outputs": [],
   "source": []
  }
 ],
 "metadata": {
  "kernelspec": {
   "display_name": "Python 3",
   "language": "python",
   "name": "python3"
  },
  "language_info": {
   "codemirror_mode": {
    "name": "ipython",
    "version": 3
   },
   "file_extension": ".py",
   "mimetype": "text/x-python",
   "name": "python",
   "nbconvert_exporter": "python",
   "pygments_lexer": "ipython3",
   "version": "3.8.5"
  }
 },
 "nbformat": 4,
 "nbformat_minor": 4
}

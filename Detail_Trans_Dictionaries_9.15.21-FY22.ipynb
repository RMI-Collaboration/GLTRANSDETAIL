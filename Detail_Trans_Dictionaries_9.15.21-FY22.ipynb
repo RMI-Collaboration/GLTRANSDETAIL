{
 "cells": [
  {
   "cell_type": "code",
   "execution_count": 1,
   "metadata": {},
   "outputs": [],
   "source": [
    "import pandas as pd\n",
    "import numpy as np\n",
    "import openpyxl\n",
    "from openpyxl import load_workbook\n",
    "from openpyxl.styles import Font\n",
    "from openpyxl.styles import Alignment\n",
    "from openpyxl.styles.borders import Border, Side"
   ]
  },
  {
   "cell_type": "code",
   "execution_count": 2,
   "metadata": {},
   "outputs": [],
   "source": [
    "path = 'C:\\\\Users\\\\jerem\\\\anaconda3\\\\envs\\\\Code\\\\RMICODING\\\\Data\\\\ADAPTIVETransactionSearchPLJeremyResultsFY21.xls'"
   ]
  },
  {
   "cell_type": "code",
   "execution_count": 3,
   "metadata": {},
   "outputs": [],
   "source": [
    "from xml.sax import ContentHandler, parse\n",
    "\n",
    "# Reference https://goo.gl/KaOBG3\n",
    "class ExcelHandler(ContentHandler):\n",
    "    def __init__(self):\n",
    "        self.chars = [  ]\n",
    "        self.cells = [  ]\n",
    "        self.rows = [  ]\n",
    "        self.tables = [  ]\n",
    "    def characters(self, content):\n",
    "        self.chars.append(content)\n",
    "    def startElement(self, name, atts):\n",
    "        if name==\"Cell\":\n",
    "            self.chars = [  ]\n",
    "        elif name==\"Row\":\n",
    "            self.cells=[  ]\n",
    "        elif name==\"Table\":\n",
    "            self.rows = [  ]\n",
    "    def endElement(self, name):\n",
    "        if name==\"Cell\":\n",
    "            self.cells.append(''.join(self.chars))\n",
    "        elif name==\"Row\":\n",
    "            self.rows.append(self.cells)\n",
    "        elif name==\"Table\":\n",
    "            self.tables.append(self.rows)\n",
    "\n",
    "excelHandler = ExcelHandler()\n",
    "parse(path, excelHandler)\n",
    "df1 = pd.DataFrame(excelHandler.tables[0][1:], columns=excelHandler.tables[0][0])"
   ]
  },
  {
   "cell_type": "code",
   "execution_count": 4,
   "metadata": {},
   "outputs": [],
   "source": [
    "path2 = 'C:\\\\Users\\\\jerem\\\\anaconda3\\\\envs\\\\Code\\\\RMICODING\\\\Data\\\\ADAPTIVETransactionSearchPLJeremyResults455.xls'"
   ]
  },
  {
   "cell_type": "code",
   "execution_count": 5,
   "metadata": {},
   "outputs": [],
   "source": [
    "from xml.sax import ContentHandler, parse\n",
    "\n",
    "# Reference https://goo.gl/KaOBG3\n",
    "class ExcelHandler(ContentHandler):\n",
    "    def __init__(self):\n",
    "        self.chars = [  ]\n",
    "        self.cells = [  ]\n",
    "        self.rows = [  ]\n",
    "        self.tables = [  ]\n",
    "    def characters(self, content):\n",
    "        self.chars.append(content)\n",
    "    def startElement(self, name, atts):\n",
    "        if name==\"Cell\":\n",
    "            self.chars = [  ]\n",
    "        elif name==\"Row\":\n",
    "            self.cells=[  ]\n",
    "        elif name==\"Table\":\n",
    "            self.rows = [  ]\n",
    "    def endElement(self, name):\n",
    "        if name==\"Cell\":\n",
    "            self.cells.append(''.join(self.chars))\n",
    "        elif name==\"Row\":\n",
    "            self.rows.append(self.cells)\n",
    "        elif name==\"Table\":\n",
    "            self.tables.append(self.rows)\n",
    "\n",
    "excelHandler = ExcelHandler()\n",
    "parse(path2, excelHandler)\n",
    "df3 = pd.DataFrame(excelHandler.tables[0][1:], columns=excelHandler.tables[0][0])"
   ]
  },
  {
   "cell_type": "code",
   "execution_count": null,
   "metadata": {},
   "outputs": [],
   "source": []
  },
  {
   "cell_type": "code",
   "execution_count": 6,
   "metadata": {},
   "outputs": [],
   "source": [
    "HistoricDatapath = 'C:\\\\Users\\\\jerem\\\\anaconda3\\\\envs\\\\Code\\\\RMICODING\\\\Data\\\\FY19&FY20_Detail_Trans.xlsx'\n",
    "\n",
    "dfHistoric = pd.read_excel(HistoricDatapath)"
   ]
  },
  {
   "cell_type": "code",
   "execution_count": 7,
   "metadata": {},
   "outputs": [],
   "source": [
    "FY18Datapath = 'C:\\\\Users\\\\jerem\\\\anaconda3\\\\envs\\\\Code\\\\RMICODING\\\\Data\\\\ADAPTIVETransactionSearchPLResultsFY18.xlsx'\n",
    "\n",
    "dfFY18 = pd.read_excel(FY18Datapath)"
   ]
  },
  {
   "cell_type": "code",
   "execution_count": 8,
   "metadata": {},
   "outputs": [],
   "source": [
    "df2 = pd.concat([df3, df1, dfHistoric, dfFY18], ignore_index=True)"
   ]
  },
  {
   "cell_type": "code",
   "execution_count": 9,
   "metadata": {},
   "outputs": [],
   "source": [
    "df3.loc[df3['Initiative'] == 'BKT - Market Affiliates', 'Program'] = 'Strategic Analysis and Engagement'  \n",
    "df3.loc[df3['Initiative'] == 'BKT - Third Derivative', 'Program'] = 'Third Derivative'  \n",
    "df3.loc[df3['Initiative'] == 'BKT - Market Affiliates', 'Initiative'] = 'SAE - Market Affiliates'  \n",
    "df3.loc[df3['Initiative'] == 'BKT - Third Derivative', 'Initiative'] = 'D3 - Third Derivative' \n",
    "df3.loc[df3['Program'] == 'Global Climate Finance', 'Program'] = 'Finance'  "
   ]
  },
  {
   "cell_type": "code",
   "execution_count": 10,
   "metadata": {},
   "outputs": [],
   "source": [
    "df2.loc[df2['Initiative'] == 'BKT - Market Affiliates', 'Program'] = 'Strategic Analysis and Engagement'  \n",
    "df2.loc[df2['Initiative'] == 'BKT - Third Derivative', 'Program'] = 'Third Derivative'  \n",
    "df2.loc[df2['Initiative'] == 'BKT - Market Affiliates', 'Initiative'] = 'SAE - Market Affiliates'  \n",
    "df2.loc[df2['Initiative'] == 'BKT - Third Derivative', 'Initiative'] = 'D3 - Third Derivative' \n",
    "df2.loc[df2['Program'] == 'Global Climate Finance', 'Program'] = 'Finance'  "
   ]
  },
  {
   "cell_type": "code",
   "execution_count": 11,
   "metadata": {},
   "outputs": [],
   "source": [
    "df3.loc[(df3['Program'] == '') & (df3['GL Account'] != '7110 Employee Benefits : Employer Expense - 403B') & (df3['GL Account'] != '7145 Employee Benefits : Payroll Tax Expense') & (df3['GL Account'] != '9051 Gain/Loss from Investment in Subsidiaries : Gain/Loss from Equity Investment - China'), 'Initiative'] = 'CH - Admin'  \n",
    "df3.loc[(df3['Program'] == '') & (df3['GL Account'] != '7110 Employee Benefits : Employer Expense - 403B') & (df3['GL Account'] != '7145 Employee Benefits : Payroll Tax Expense') & (df3['GL Account'] != '9051 Gain/Loss from Investment in Subsidiaries : Gain/Loss from Equity Investment - China'), 'Program'] = 'China'  "
   ]
  },
  {
   "cell_type": "code",
   "execution_count": 12,
   "metadata": {},
   "outputs": [],
   "source": [
    "df2.loc[(df2['Program'] == '') & (df2['GL Account'] != '7110 Employee Benefits : Employer Expense - 403B') & (df2['GL Account'] != '7145 Employee Benefits : Payroll Tax Expense') & (df2['GL Account'] != '9051 Gain/Loss from Investment in Subsidiaries : Gain/Loss from Equity Investment - China'), 'Initiative'] = 'CH - Admin'  \n",
    "df2.loc[(df2['Program'] == '') & (df2['GL Account'] != '7110 Employee Benefits : Employer Expense - 403B') & (df2['GL Account'] != '7145 Employee Benefits : Payroll Tax Expense') & (df2['GL Account'] != '9051 Gain/Loss from Investment in Subsidiaries : Gain/Loss from Equity Investment - China'), 'Program'] = 'China'  "
   ]
  },
  {
   "cell_type": "code",
   "execution_count": 13,
   "metadata": {},
   "outputs": [],
   "source": [
    "df3 = df3[df3['Date'] != 'Overall Total']"
   ]
  },
  {
   "cell_type": "code",
   "execution_count": 14,
   "metadata": {},
   "outputs": [],
   "source": [
    "df2 = df2[df2['Date'] != 'Overall Total']"
   ]
  },
  {
   "cell_type": "code",
   "execution_count": 15,
   "metadata": {},
   "outputs": [
    {
     "data": {
      "text/plain": [
       "Operations                           6208\n",
       "Carbon-Free Buildings                4110\n",
       "Carbon-Free Electricity              3247\n",
       "China                                2160\n",
       "Climate Intelligence                 1834\n",
       "Urban Transformation                 1494\n",
       "Strategic Analysis and Engagement    1295\n",
       "Climate Aligned Industries           1085\n",
       "US                                    922\n",
       "Carbon-Free Mobility                  858\n",
       "Islands                               830\n",
       "Third Derivative                      817\n",
       "Finance                               814\n",
       "Africa                                814\n",
       "India                                 756\n",
       "Development                           430\n",
       "M3                                    392\n",
       "CFAN                                  340\n",
       "Communications                        297\n",
       "Canary Media Program                  248\n",
       "WattTime                              247\n",
       "Energy Transition Academy             237\n",
       "SE Asia                               104\n",
       "Cross-Program Impact Acceleration      95\n",
       "Name: Program, dtype: int64"
      ]
     },
     "execution_count": 15,
     "metadata": {},
     "output_type": "execute_result"
    }
   ],
   "source": [
    "df3['Program'].value_counts()"
   ]
  },
  {
   "cell_type": "markdown",
   "metadata": {},
   "source": [
    "# Part 1:  Create Trans Detail Organized Tab"
   ]
  },
  {
   "cell_type": "code",
   "execution_count": 16,
   "metadata": {},
   "outputs": [],
   "source": [
    "data1 = df3.to_dict('records')\n",
    "#This gives us a list of dictionaries."
   ]
  },
  {
   "cell_type": "code",
   "execution_count": 17,
   "metadata": {},
   "outputs": [
    {
     "data": {
      "text/plain": [
       "29634"
      ]
     },
     "execution_count": 17,
     "metadata": {},
     "output_type": "execute_result"
    }
   ],
   "source": [
    "len(data1)"
   ]
  },
  {
   "cell_type": "code",
   "execution_count": 18,
   "metadata": {},
   "outputs": [
    {
     "data": {
      "text/plain": [
       "{'Date': '2021-07-31T00:00:00',\n",
       " 'Period': 'Jul 2021',\n",
       " 'GL Account': '8005 Allocated Expenses : Allocated Expenses Clearing Account',\n",
       " 'Document Number': 'JE7209',\n",
       " 'Program': 'Urban Transformation',\n",
       " 'Initiative': 'UT - Other',\n",
       " 'Project': '*Restricted : Lowenstein Aggregation Cohort',\n",
       " 'Restriction': '1-Unrestricted',\n",
       " 'Grant': 'WRI - Urban Transformation FY21',\n",
       " 'Amount': '.00',\n",
       " 'Vendor Name': '',\n",
       " 'Employee Name': '',\n",
       " 'Memo': 'JULY 2021 001234 Abigail Vanover *Restricted : Lowenstein Aggregation Cohort Expense Allocation',\n",
       " 'Amount (Credit)': '',\n",
       " 'Amount (Debit)': '',\n",
       " 'Client': '',\n",
       " 'Transaction Number': 'JOURNAL7209',\n",
       " 'Type': 'Journal',\n",
       " 'Vendor Rate': '',\n",
       " 'Vendor Contract Expiration Date': ''}"
      ]
     },
     "execution_count": 18,
     "metadata": {},
     "output_type": "execute_result"
    }
   ],
   "source": [
    "data1[0]"
   ]
  },
  {
   "cell_type": "code",
   "execution_count": 19,
   "metadata": {},
   "outputs": [],
   "source": [
    "\n",
    "from datetime import datetime\n",
    "\n",
    "for line in data1:\n",
    "    try:\n",
    "        line['Date'] =  datetime.strptime(line['Date'],\"%Y-%m-%dT%H:%M:%S\")\n",
    "        line['Vendor Contract Expiration Date'] = datetime.strptime(line['Vendor Contract Expiration Date'],\"%Y-%m-%dT%H:%M:%S\")\n",
    "    except:\n",
    "        pass\n"
   ]
  },
  {
   "cell_type": "code",
   "execution_count": 20,
   "metadata": {},
   "outputs": [],
   "source": [
    "for line in data1:\n",
    "    try:\n",
    "        line['Date'] = line['Date'].strftime('%Y-%m-%d')\n",
    "        line['Vendor Contract Expiration Date'] = line['Vendor Contract Expiration Date'].strftime('%Y-%m-%d')\n",
    "    except:\n",
    "        pass"
   ]
  },
  {
   "cell_type": "code",
   "execution_count": 21,
   "metadata": {},
   "outputs": [],
   "source": [
    "programs = {}\n",
    "\n",
    "for row in data1:\n",
    "    row[row['Period']] = float(row['Amount'])\n",
    "    row['Total'] = float(row['Amount'])\n",
    "    filtered_list = programs.get(row[\"Program\"], [])\n",
    "    filtered_list.append(row)\n",
    "    programs[row[\"Program\"]] = filtered_list"
   ]
  },
  {
   "cell_type": "code",
   "execution_count": 22,
   "metadata": {},
   "outputs": [
    {
     "data": {
      "text/plain": [
       "dict_keys(['Urban Transformation', 'Development', 'Islands', 'Operations', 'India', 'China', 'Climate Aligned Industries', 'Finance', 'Climate Intelligence', 'Carbon-Free Buildings', 'WattTime', 'Strategic Analysis and Engagement', 'Carbon-Free Electricity', 'Africa', 'Third Derivative', 'Carbon-Free Mobility', 'US', 'CFAN', 'Energy Transition Academy', 'SE Asia', 'Communications', 'Cross-Program Impact Acceleration', 'M3', 'Canary Media Program'])"
      ]
     },
     "execution_count": 22,
     "metadata": {},
     "output_type": "execute_result"
    }
   ],
   "source": [
    "programs.keys()"
   ]
  },
  {
   "cell_type": "code",
   "execution_count": 23,
   "metadata": {},
   "outputs": [],
   "source": [
    "#DevelopingEconomies = programs['Africa'] + programs['SE Asia']+ programs['CFAN']+ programs['Energy Transition Academy']+ programs['Islands']"
   ]
  },
  {
   "cell_type": "code",
   "execution_count": 24,
   "metadata": {},
   "outputs": [
    {
     "data": {
      "text/plain": [
       "'DE = {}\\n\\nfor row in DevelopingEconomies:\\n    row[row[\\'Period\\']] = float(row[\\'Amount\\'])\\n    row[\\'Total\\'] = float(row[\\'Amount\\'])\\n    filtered_list = DE.get(row[\"Program\"], [])\\n    filtered_list.append(row)\\n    DE[row[\"Program\"]] = filtered_list'"
      ]
     },
     "execution_count": 24,
     "metadata": {},
     "output_type": "execute_result"
    }
   ],
   "source": [
    "'''DE = {}\n",
    "\n",
    "for row in DevelopingEconomies:\n",
    "    row[row['Period']] = float(row['Amount'])\n",
    "    row['Total'] = float(row['Amount'])\n",
    "    filtered_list = DE.get(row[\"Program\"], [])\n",
    "    filtered_list.append(row)\n",
    "    DE[row[\"Program\"]] = filtered_list'''"
   ]
  },
  {
   "cell_type": "code",
   "execution_count": 25,
   "metadata": {},
   "outputs": [],
   "source": [
    "sorts = ['Initiative', 'Project', 'Grant', 'GL Account']\n",
    "sorts.reverse()\n",
    "\n",
    "for p in programs:\n",
    "    for s in sorts:\n",
    "        programs[p].sort(key=lambda x: x[s])"
   ]
  },
  {
   "cell_type": "code",
   "execution_count": 26,
   "metadata": {},
   "outputs": [],
   "source": [
    "titles = \"\"\"Program\tInitiative\tProject\tRestriction\tClient\tGrant\tGL Account\tMemo\tType\tTransaction Number\tEmployee Name\tVendor Name\tVendor Rate\tVendor Contract Expiration Date\tJul 2021\tAug 2021\tSep 2021\tOct 2021\tNov 2021\tDec 2021\tJan 2022\tFeb 2022\tMar 2022\tApr 2022\tMay 2022\tJun 2022\tTotal\n",
    "\"\"\"\n",
    "\n",
    "titles = [y.strip(\"\\n\") for y in titles.split('\\t')]"
   ]
  },
  {
   "cell_type": "code",
   "execution_count": 27,
   "metadata": {},
   "outputs": [],
   "source": [
    "testpath = 'C:\\\\Users\\\\jerem\\\\anaconda3\\\\envs\\\\Code\\\\RMICODING\\\\Outputs\\\\Detail_Trans\\\\'"
   ]
  },
  {
   "cell_type": "code",
   "execution_count": 28,
   "metadata": {},
   "outputs": [],
   "source": [
    "months='Jul 2021\tAug 2021\tSep 2021\tOct 2021\tNov 2021\tDec 2021\tJan 2022\tFeb 2022\tMar 2022\tApr 2022\tMay 2022\tJun 2022'\n",
    "\n",
    "sumfields = set([y.strip(\"\\n\") for y in months.split('\\t')])"
   ]
  },
  {
   "cell_type": "code",
   "execution_count": 29,
   "metadata": {},
   "outputs": [],
   "source": [
    "import os\n",
    "\n",
    "path = 'C:\\\\Users\\\\jerem\\\\anaconda3\\\\envs\\\\Code\\\\RMICODING\\\\Outputs\\\\Detail_Trans'"
   ]
  },
  {
   "cell_type": "code",
   "execution_count": 30,
   "metadata": {},
   "outputs": [],
   "source": [
    "from datetime import datetime\n",
    "today = datetime.today()\n",
    "datem = datetime(today.year, today.month-1, 1)\n",
    "timestamp = \" Detail Transactions - \"+datem.strftime(\"%b_%Y\")"
   ]
  },
  {
   "cell_type": "code",
   "execution_count": 31,
   "metadata": {},
   "outputs": [
    {
     "name": "stdout",
     "output_type": "stream",
     "text": [
      " Detail Transactions - Aug_2021.xlsx\n"
     ]
    }
   ],
   "source": [
    "print(timestamp+\".xlsx\")"
   ]
  },
  {
   "cell_type": "code",
   "execution_count": 32,
   "metadata": {},
   "outputs": [],
   "source": [
    "def create_report(data, program):\n",
    "    book = openpyxl.Workbook()\n",
    "    sheet = book.active\n",
    "#    rows = add_totals(data[program])\n",
    "    rows = data[program]\n",
    "    for i, t in enumerate(titles):\n",
    "        sheet.cell(row = 1, column = i + 1).value = t \n",
    "    for i, r in enumerate(rows):\n",
    "        for j, t in enumerate(titles):\n",
    "            sheet.cell(row = i+2, column = j + 1).value = r.get(t,\"\")\n",
    "    book.save(testpath + program + timestamp + '.xlsx')"
   ]
  },
  {
   "cell_type": "code",
   "execution_count": 33,
   "metadata": {},
   "outputs": [],
   "source": [
    "def create_report_combined(data, str):\n",
    "    book = openpyxl.Workbook()\n",
    "    sheet = book.active\n",
    "#    rows = add_totals(data[program])\n",
    "    rows = data\n",
    "    for i, t in enumerate(titles):\n",
    "        sheet.cell(row = 1, column = i + 1).value = t \n",
    "    for i, r in enumerate(rows):\n",
    "        for j, t in enumerate(titles):\n",
    "            sheet.cell(row = i+2, column = j + 1).value = r.get(t,\"\")\n",
    "    book.save(testpath + str + timestamp + '.xlsx')"
   ]
  },
  {
   "cell_type": "code",
   "execution_count": 34,
   "metadata": {},
   "outputs": [],
   "source": [
    "single_program_transaction_files = list(programs.keys())"
   ]
  },
  {
   "cell_type": "code",
   "execution_count": 35,
   "metadata": {},
   "outputs": [],
   "source": [
    "single_program_transaction_files.remove('Carbon-Free Buildings')\n",
    "single_program_transaction_files.remove('Energy Transition Academy')\n",
    "single_program_transaction_files.remove('Islands')\n",
    "single_program_transaction_files.remove('Africa')\n",
    "single_program_transaction_files.remove('SE Asia')\n",
    "single_program_transaction_files.remove('CFAN')\n",
    "#single_program_transaction_files.remove('')\n"
   ]
  },
  {
   "cell_type": "code",
   "execution_count": 36,
   "metadata": {},
   "outputs": [],
   "source": [
    "DevelopingEconomies = programs['Energy Transition Academy'] + programs['Islands'] + programs['Africa'] + programs['SE Asia'] + programs['CFAN']"
   ]
  },
  {
   "cell_type": "code",
   "execution_count": 37,
   "metadata": {},
   "outputs": [],
   "source": [
    "CarbonFreeBuildings = programs['Carbon-Free Buildings']"
   ]
  },
  {
   "cell_type": "code",
   "execution_count": 38,
   "metadata": {},
   "outputs": [],
   "source": [
    "def create_report_DE(data):\n",
    "    book = openpyxl.Workbook()\n",
    "    sheet = book.active\n",
    "#    rows = add_totals(data[program])\n",
    "    rows = data\n",
    "    for i, t in enumerate(titles):\n",
    "        sheet.cell(row = 1, column = i + 1).value = t \n",
    "    for i, r in enumerate(rows):\n",
    "        for j, t in enumerate(titles):\n",
    "            sheet.cell(row = i+2, column = j + 1).value = r.get(t,\"\")\n",
    "    book.save(testpath + \"Global South\" + timestamp + '.xlsx')"
   ]
  },
  {
   "cell_type": "code",
   "execution_count": 39,
   "metadata": {},
   "outputs": [],
   "source": [
    "def create_report_CFB(data):\n",
    "    book = openpyxl.Workbook()\n",
    "    sheet = book.active\n",
    "#    rows = add_totals(data[program])\n",
    "    rows = data\n",
    "    for i, t in enumerate(titles):\n",
    "        sheet.cell(row = 1, column = i + 1).value = t \n",
    "    for i, r in enumerate(rows):\n",
    "        for j, t in enumerate(titles):\n",
    "            sheet.cell(row = i+2, column = j + 1).value = r.get(t,\"\")\n",
    "    book.save(testpath + \"Carbon-Free Buildings\" + timestamp + '.xlsx')"
   ]
  },
  {
   "cell_type": "code",
   "execution_count": 40,
   "metadata": {},
   "outputs": [],
   "source": [
    "create_report_CFB(CarbonFreeBuildings)"
   ]
  },
  {
   "cell_type": "code",
   "execution_count": 41,
   "metadata": {},
   "outputs": [],
   "source": [
    "create_report_DE(DevelopingEconomies)"
   ]
  },
  {
   "cell_type": "code",
   "execution_count": 42,
   "metadata": {},
   "outputs": [
    {
     "data": {
      "text/plain": [
       "['Urban Transformation',\n",
       " 'Development',\n",
       " 'Operations',\n",
       " 'India',\n",
       " 'China',\n",
       " 'Climate Aligned Industries',\n",
       " 'Finance',\n",
       " 'Climate Intelligence',\n",
       " 'WattTime',\n",
       " 'Strategic Analysis and Engagement',\n",
       " 'Carbon-Free Electricity',\n",
       " 'Third Derivative',\n",
       " 'Carbon-Free Mobility',\n",
       " 'US',\n",
       " 'Communications',\n",
       " 'Cross-Program Impact Acceleration',\n",
       " 'M3',\n",
       " 'Canary Media Program']"
      ]
     },
     "execution_count": 42,
     "metadata": {},
     "output_type": "execute_result"
    }
   ],
   "source": [
    "single_program_transaction_files"
   ]
  },
  {
   "cell_type": "code",
   "execution_count": 43,
   "metadata": {},
   "outputs": [],
   "source": [
    "for k in single_program_transaction_files:\n",
    "    create_report(programs, k)"
   ]
  },
  {
   "cell_type": "code",
   "execution_count": 44,
   "metadata": {},
   "outputs": [],
   "source": [
    "#create_report(programs, 'Climate Aligned Industries')"
   ]
  },
  {
   "cell_type": "code",
   "execution_count": 45,
   "metadata": {},
   "outputs": [],
   "source": [
    "from openpyxl import load_workbook\n",
    "from openpyxl.styles import Font\n",
    "from openpyxl.styles import Alignment\n",
    "from openpyxl.styles.borders import Border, Side\n",
    "from openpyxl.styles import Color, PatternFill, Font, Border\n",
    "\n",
    "greyFill = PatternFill(start_color='00C0C0C0',\n",
    "                   end_color='00C0C0C0',\n",
    "                   fill_type='solid')\n",
    "\n",
    "def edit_workbook(file):\n",
    "    book = load_workbook(file)\n",
    "    sheet = book.active #active means last opened sheet\n",
    "    sheet['A1'].font = Font(bold=True)\n",
    "    sheet['B1'].font = Font(bold=True)\n",
    "    sheet['C1'].font = Font(bold=True)\n",
    "    sheet['D1'].font = Font(bold=True)\n",
    "    sheet['E1'].font = Font(bold=True)\n",
    "    sheet['F1'].font = Font(bold=True)\n",
    "    sheet['G1'].font = Font(bold=True)\n",
    "    sheet['H1'].font = Font(bold=True)\n",
    "    sheet['I1'].font = Font(bold=True)\n",
    "    sheet['J1'].font = Font(bold=True)\n",
    "    sheet['K1'].font = Font(bold=True)\n",
    "    sheet['L1'].font = Font(bold=True)\n",
    "    sheet['M1'].font = Font(bold=True)\n",
    "    sheet['N1'].font = Font(bold=True)\n",
    "    sheet.column_dimensions['A'].width = 15\n",
    "    sheet.column_dimensions['B'].width = 20\n",
    "    sheet.column_dimensions['C'].width = 20\n",
    "    sheet.column_dimensions['D'].width = 20\n",
    "    sheet.column_dimensions['E'].width = 15\n",
    "    sheet.column_dimensions['F'].width = 15\n",
    "    sheet.column_dimensions['G'].width = 15\n",
    "    sheet.column_dimensions['H'].width = 15\n",
    "    sheet.column_dimensions['I'].width = 15\n",
    "    sheet.column_dimensions['J'].width = 15\n",
    "    sheet.column_dimensions['K'].width = 12.5\n",
    "    sheet.column_dimensions['L'].width = 12.5\n",
    "    sheet.column_dimensions['M'].width = 12.5\n",
    "    sheet.column_dimensions['N'].width = 12.5\n",
    "    sheet.column_dimensions['O'].width = 12.5\n",
    "    sheet.column_dimensions['P'].width = 12.5\n",
    "    sheet.column_dimensions['Q'].width = 12.5\n",
    "    sheet.column_dimensions['R'].width = 12.5\n",
    "    sheet.column_dimensions['S'].width = 12.5\n",
    "    sheet.column_dimensions['T'].width = 12.5   \n",
    "    sheet.column_dimensions['U'].width = 12.5   \n",
    "    sheet.column_dimensions['V'].width = 12.5   \n",
    "    sheet.column_dimensions['W'].width = 12.5  \n",
    "    sheet.column_dimensions['X'].width = 12.5\n",
    "    sheet.column_dimensions['Y'].width = 15\n",
    "#    sheet.column_dimensions['D'].hidden = True\n",
    "    num_rows = sheet.max_row\n",
    "    curr_row = 1\n",
    "    for col in range(15, 28):\n",
    "        for row in range(1, num_rows+1):\n",
    "            sheet.cell(column=col, row=row).number_format = '\"$\"#,##0.00_);[Red](\"$\"#,##0.00)'\n",
    "    for col in range(1, 15):\n",
    "        for row in range(1, num_rows+1):\n",
    "            sheet.cell(column=col, row=row).alignment = Alignment(horizontal = 'left', vertical='top')\n",
    "            sheet.cell(column=col, row=row).fill = greyFill\n",
    "#    for i in range(1, sheet.max_row + 1):\n",
    "#        if sheet.cell(row=i, column=9).value == \"Subtotal\":\n",
    "#            for j in range(10,23):\n",
    "#                sheet.cell(column=j, row=i).font = Font(bold=True)\n",
    "#                sheet.cell(column=j, row=i).border = Border(bottom=Side(style='thin'))       \n",
    "    sheet.auto_filter.ref = sheet.dimensions\n",
    "    sheet.sheet_view.zoomScale = 55\n",
    "    sheet.freeze_panes = sheet['O2']\n",
    "#    sheet.protection.sheet = True\n",
    "    sheet.title = \"Organized Data\"\n",
    "    book.save(file)"
   ]
  },
  {
   "cell_type": "code",
   "execution_count": 46,
   "metadata": {},
   "outputs": [],
   "source": [
    "for i in single_program_transaction_files:\n",
    "    edit_workbook(testpath+i+ timestamp + '.xlsx')"
   ]
  },
  {
   "cell_type": "code",
   "execution_count": 47,
   "metadata": {},
   "outputs": [],
   "source": [
    "edit_workbook(testpath+'Global South' + timestamp + '.xlsx')\n",
    "edit_workbook(testpath+'Carbon-Free Buildings' + timestamp + '.xlsx')"
   ]
  },
  {
   "cell_type": "code",
   "execution_count": null,
   "metadata": {},
   "outputs": [],
   "source": []
  },
  {
   "cell_type": "markdown",
   "metadata": {},
   "source": [
    "# Part 2:  Add Mavenlink Tab"
   ]
  },
  {
   "cell_type": "code",
   "execution_count": 48,
   "metadata": {},
   "outputs": [],
   "source": [
    "pathmavenlink = 'C:\\\\Users\\\\jerem\\\\anaconda3\\\\envs\\\\Code\\\\RMICODING\\\\Data\\\\MavenlinkTimeAuditResults865.xls'\n",
    "\n",
    "excelHandler = ExcelHandler()\n",
    "parse(pathmavenlink, excelHandler)\n",
    "dfMavenlink = pd.DataFrame(excelHandler.tables[0][1:], columns=excelHandler.tables[0][0])"
   ]
  },
  {
   "cell_type": "code",
   "execution_count": 49,
   "metadata": {},
   "outputs": [],
   "source": [
    "dfMavenlink['Month'] = pd.DatetimeIndex(dfMavenlink['Date']).month\n",
    "dfMavenlink['Month'] = dfMavenlink['Month'].map({7: 'Jul 2021', 8: \"Aug 2021\", 9: \"Sep 2021\", 10: \"Oct 2021\", 11: \"Nov 2021\", 12: \"Dec 2021\", 1: \"Jan 2022\", 2: \"Feb 2022\", 3: \"Mar 2022\", 4: \"Apr 2022\", 5: \"May 2022\", 6: \"Jun 2022\"})"
   ]
  },
  {
   "cell_type": "code",
   "execution_count": 50,
   "metadata": {},
   "outputs": [],
   "source": [
    "#dfMavenlink['Minutes'] =  dfMavenlink['Duration'].str.split(':').apply(lambda x: int(x[0]) * 60 + int(x[1]) * 1)\n",
    "dfMavenlink['Hours'] =  dfMavenlink['Duration (Decimal)']"
   ]
  },
  {
   "cell_type": "code",
   "execution_count": 51,
   "metadata": {},
   "outputs": [],
   "source": [
    "dfMavenlink['Grant'].replace('', np.nan, inplace=True)\n",
    "dfMavenlink['Initiative'].replace('', np.nan, inplace=True)\n",
    "dfMavenlink['Employee'].replace('', np.nan, inplace=True)\n",
    "dfMavenlink['Case/Task/Event'].replace('', np.nan, inplace=True)\n",
    "dfMavenlink['Billable'].replace('', np.nan, inplace=True)"
   ]
  },
  {
   "cell_type": "code",
   "execution_count": 52,
   "metadata": {},
   "outputs": [],
   "source": [
    "dfMavenlink['Grant'].fillna(\"No Grant\", inplace=True)\n",
    "dfMavenlink['Initiative'].fillna(\"No Initiative\", inplace=True)\n",
    "dfMavenlink['Grant'].fillna(\"Employee\", inplace=True)\n",
    "dfMavenlink['Case/Task/Event'].fillna(\"Case/Task/Event\", inplace=True)\n",
    "dfMavenlink['Billable'].fillna(\"Billable\", inplace=True)"
   ]
  },
  {
   "cell_type": "code",
   "execution_count": 53,
   "metadata": {},
   "outputs": [],
   "source": [
    "dfMavenlink['Hours'] = pd.to_numeric(dfMavenlink['Hours'],errors='coerce')"
   ]
  },
  {
   "cell_type": "code",
   "execution_count": 54,
   "metadata": {},
   "outputs": [],
   "source": [
    "dfMavenlink['Employee Hours'] = dfMavenlink.groupby(['Employee','Month'])['Hours'].transform('sum')"
   ]
  },
  {
   "cell_type": "code",
   "execution_count": 55,
   "metadata": {},
   "outputs": [],
   "source": [
    "dfMavenlink['Percent of Total Monthly Hours'] = dfMavenlink['Hours'] / dfMavenlink['Employee Hours']"
   ]
  },
  {
   "cell_type": "code",
   "execution_count": 56,
   "metadata": {},
   "outputs": [],
   "source": [
    "dfMavenlink.loc[dfMavenlink['Initiative'] == 'BKT - Market Affiliates', 'Program'] = 'Strategic Analysis and Engagement'  \n",
    "dfMavenlink.loc[dfMavenlink['Initiative'] == 'BKT - Third Derivative', 'Program'] = 'Third Derivative'  \n",
    "dfMavenlink.loc[dfMavenlink['Initiative'] == 'BKT - Market Affiliates', 'Initiative'] = 'SAE - Market Affiliates'  \n",
    "dfMavenlink.loc[dfMavenlink['Initiative'] == 'BKT - Third Derivative', 'Initiative'] = 'D3 - Third Derivative' \n",
    "dfMavenlink.loc[dfMavenlink['Program'] == 'Global Climate Finance', 'Program'] = 'Finance' "
   ]
  },
  {
   "cell_type": "code",
   "execution_count": 57,
   "metadata": {},
   "outputs": [
    {
     "data": {
      "text/plain": [
       "Internal ID                        object\n",
       "External ID                        object\n",
       "Employee                           object\n",
       "Duration (Decimal)                 object\n",
       "Program                            object\n",
       "Initiative                         object\n",
       "Client                             object\n",
       "Grant                              object\n",
       "Restriction                        object\n",
       "Case/Task/Event                    object\n",
       "Approval Status                    object\n",
       "Billable                           object\n",
       "Date                               object\n",
       "Item                               object\n",
       "Type                               object\n",
       "Actual Time Entry Cost             object\n",
       "Month                              object\n",
       "Hours                             float64\n",
       "Employee Hours                    float64\n",
       "Percent of Total Monthly Hours    float64\n",
       "dtype: object"
      ]
     },
     "execution_count": 57,
     "metadata": {},
     "output_type": "execute_result"
    }
   ],
   "source": [
    "dfMavenlink.dtypes"
   ]
  },
  {
   "cell_type": "code",
   "execution_count": 58,
   "metadata": {},
   "outputs": [],
   "source": [
    "def create_Mavenlinkprogram(program):\n",
    "    firstdf = dfMavenlink[dfMavenlink['Program']==program]\n",
    "    if firstdf.empty == True:\n",
    "        print(str(program)+ \" DF is EMPTY\")\n",
    "    else:    \n",
    "        return firstdf"
   ]
  },
  {
   "cell_type": "code",
   "execution_count": 59,
   "metadata": {},
   "outputs": [
    {
     "name": "stdout",
     "output_type": "stream",
     "text": [
      "Industry DF is EMPTY\n",
      "Building Electrification DF is EMPTY\n"
     ]
    }
   ],
   "source": [
    "DevelopmentML = create_Mavenlinkprogram(\"Development\")\n",
    "IslandsML = create_Mavenlinkprogram(\"Islands\")\n",
    "IndiaML = create_Mavenlinkprogram(\"India\")\n",
    "OperationsML = create_Mavenlinkprogram(\"Operations\")\n",
    "ChinaML = create_Mavenlinkprogram(\"China\")\n",
    "Breakthrough_Technology_ML = create_Mavenlinkprogram(\"M3\")\n",
    "CarbonFree_MobilityML = create_Mavenlinkprogram(\"Carbon-Free Mobility\")\n",
    "ClimateAligned_IndustriesML = create_Mavenlinkprogram(\"Climate Aligned Industries\")\n",
    "CommunicationsML = create_Mavenlinkprogram(\"Communications\")\n",
    "GlobalClimate_FinanceML = create_Mavenlinkprogram(\"Finance\")\n",
    "Strategic_Engagement_and_Analysis_GroupML = create_Mavenlinkprogram(\"Strategic Analysis and Engagement\")\n",
    "CrossProgramImpactAcceleration_GroupML = create_Mavenlinkprogram('Cross-Program Impact Acceleration')\n",
    "Carbon_Free_BuildingsML = create_Mavenlinkprogram(\"Carbon-Free Buildings\")\n",
    "Carbon_Free_ElectricityML = create_Mavenlinkprogram(\"Carbon-Free Electricity\")\n",
    "UrbanTrans_ML = create_Mavenlinkprogram(\"Urban Transformation\")\n",
    "ClimateIntelML = create_Mavenlinkprogram(\"Climate Intelligence\")\n",
    "IndustryML = create_Mavenlinkprogram(\"Industry\")\n",
    "SEAsiaML = create_Mavenlinkprogram(\"SE Asia\")\n",
    "AfricaML = create_Mavenlinkprogram(\"Africa\")\n",
    "USML = create_Mavenlinkprogram(\"US\")\n",
    "BuildingElectrificationML = create_Mavenlinkprogram(\"Building Electrification\")\n",
    "Energy_Transition_AcademyML = create_Mavenlinkprogram(\"Energy Transition Academy\")\n",
    "CommunicationsML = create_Mavenlinkprogram(\"Communications\")\n",
    "CFANML = create_Mavenlinkprogram(\"CFAN\")\n",
    "D3ML = create_Mavenlinkprogram(\"Third Derivative\")"
   ]
  },
  {
   "cell_type": "code",
   "execution_count": 60,
   "metadata": {},
   "outputs": [],
   "source": [
    "Developing_Economies_RollupML = pd.concat([IslandsML, AfricaML, SEAsiaML, Energy_Transition_AcademyML, CFANML], ignore_index = True, sort=False)\n",
    "CarbonFreeBuildings_RollupML = pd.concat([Carbon_Free_BuildingsML, BuildingElectrificationML], ignore_index = True, sort=False)\n"
   ]
  },
  {
   "cell_type": "code",
   "execution_count": 61,
   "metadata": {},
   "outputs": [],
   "source": [
    "def create_ML_pivot(Group):\n",
    "    Month_order = ['Jul 2021', 'Aug 2021', 'Sep 2021', 'Oct 2021', 'Nov 2021', 'Dec 2021', 'Jan 2022', 'Feb 2022', 'Mar 2022', 'Apr 2022', 'May 2022', 'Jun 2022']\n",
    "    table = pd.pivot_table(Group, index = ['Initiative','Employee','Client','Case/Task/Event','Grant','Billable'], values = 'Percent of Total Monthly Hours', columns = 'Month', aggfunc=np.sum)\n",
    "    table2 = table.reindex(Month_order, axis=1)\n",
    "    table2['Total'] = table2.iloc[:,-12:].sum(axis=1)\n",
    "    return table2"
   ]
  },
  {
   "cell_type": "code",
   "execution_count": 62,
   "metadata": {},
   "outputs": [],
   "source": [
    "def to_excel_ML(df, file):\n",
    "    writer = pd.ExcelWriter(file, engine='openpyxl')\n",
    "    if os.path.exists(file):\n",
    "        book = openpyxl.load_workbook(file)\n",
    "        writer.book = book\n",
    "    df.to_excel(writer, sheet_name=\"Mavenlink Hours\")\n",
    "    writer.save()\n",
    "    writer.close()   "
   ]
  },
  {
   "cell_type": "code",
   "execution_count": 63,
   "metadata": {},
   "outputs": [],
   "source": [
    "def edit_workbook_ML(file):\n",
    "    book = load_workbook(file)\n",
    "    sheet = book[\"Mavenlink Hours\"] #active means last opened sheet\n",
    "    sheet['B1']= \"Employee\"\n",
    "    sheet['A1']= \"Initiative\"\n",
    "    sheet['C1']= \"Client\"      \n",
    "    sheet['D1']= \"Case/Task/Event\"    \n",
    "    sheet['E1']= \"Grant\"     \n",
    "    sheet['F1']= \"Billable\"    \n",
    "    sheet['A1'].font = Font(bold=True)\n",
    "    sheet['B1'].font = Font(bold=True)\n",
    "    sheet['C1'].font = Font(bold=True)\n",
    "    sheet['D1'].font = Font(bold=True)\n",
    "    sheet['E1'].font = Font(bold=True)\n",
    "    sheet.column_dimensions['A'].width = 25\n",
    "    sheet.column_dimensions['B'].width = 25\n",
    "    sheet.column_dimensions['C'].width = 25\n",
    "    sheet.column_dimensions['D'].width = 25\n",
    "    sheet.column_dimensions['E'].width = 25\n",
    "    sheet.column_dimensions['F'].width = 15\n",
    "    sheet.column_dimensions['G'].width = 15\n",
    "    sheet.column_dimensions['H'].width = 15\n",
    "    sheet.column_dimensions['I'].width = 15\n",
    "    sheet.column_dimensions['J'].width = 15\n",
    "    sheet.column_dimensions['K'].width = 15\n",
    "    sheet.column_dimensions['L'].width = 15\n",
    "    sheet.column_dimensions['M'].width = 15\n",
    "    sheet.column_dimensions['N'].width = 15\n",
    "    sheet.column_dimensions['O'].width = 15\n",
    "    sheet.column_dimensions['P'].width = 15\n",
    "    sheet.column_dimensions['Q'].width = 15\n",
    "    sheet.column_dimensions['R'].width = 15\n",
    "#    sheet.column_dimensions['D'].hidden = True\n",
    "    num_rows = sheet.max_row\n",
    "    curr_row = 2\n",
    "    for col in range(7, 20):\n",
    "        for row in range(2, num_rows+1):\n",
    "            sheet.cell(column=col, row=row).number_format = '0.00%'\n",
    "    for col in range(1, 7):\n",
    "        for row in range(1, num_rows+1):\n",
    "            sheet.cell(column=col, row=row).alignment = Alignment(horizontal = 'left', vertical='top')\n",
    "            sheet.cell(column=col, row=row).fill = greyFill \n",
    "    sheet.auto_filter.ref = sheet.dimensions\n",
    "    sheet.sheet_view.zoomScale = 60\n",
    "    sheet.freeze_panes = \"G2\"\n",
    "    book.save(file)"
   ]
  },
  {
   "cell_type": "code",
   "execution_count": 64,
   "metadata": {},
   "outputs": [],
   "source": [
    "def unmerge_rows_ML(file):\n",
    "    for col in range(1,5):\n",
    "        rowstounmerge = []\n",
    "        book = load_workbook(file)\n",
    "        testsheet = book[\"Mavenlink Hours\"] #active means last opened sheet\n",
    "        for i in range(1,testsheet.max_row + 1):\n",
    "            if testsheet.cell(row=i, column=col).value:\n",
    "                rowstounmerge.append(i)\n",
    "        rowstounmerge.append(testsheet.max_row+1)\n",
    "        for i in range(1,len(rowstounmerge)-1):        \n",
    "            try:\n",
    "                testsheet.unmerge_cells(start_row=rowstounmerge[i], start_column=col, end_row = rowstounmerge[i+1]-1, end_column=col) \n",
    "            except:\n",
    "                pass\n",
    "        book.save(file) \n",
    "        book = load_workbook(file)\n",
    "        testsheet = book[\"Mavenlink Hours\"] #active means last opened sheet\n",
    "        for i in range(1,testsheet.max_row + 1):\n",
    "            if testsheet.cell(row=i, column=col).value:\n",
    "                continue\n",
    "            else:\n",
    "                testsheet.cell(row=i, column=col).value = testsheet.cell(row=i-1, column=col).value\n",
    "        book.save(file) "
   ]
  },
  {
   "cell_type": "code",
   "execution_count": 65,
   "metadata": {},
   "outputs": [],
   "source": [
    "def format_pivot_ML(Group, str):\n",
    "    step1 = create_ML_pivot(Group)\n",
    "    to_excel_ML(step1, path+str)\n",
    "    edit_workbook_ML(path+str)\n",
    "    unmerge_rows_ML(path+str)"
   ]
  },
  {
   "cell_type": "code",
   "execution_count": 66,
   "metadata": {},
   "outputs": [
    {
     "name": "stdout",
     "output_type": "stream",
     "text": [
      "Wall time: 17.7 s\n"
     ]
    }
   ],
   "source": [
    "%%time\n",
    "format_pivot_ML(Developing_Economies_RollupML, '\\\\Global South'+timestamp+\".xlsx\")"
   ]
  },
  {
   "cell_type": "code",
   "execution_count": 67,
   "metadata": {},
   "outputs": [],
   "source": [
    "format_pivot_ML(IndiaML, '\\\\India'+timestamp+\".xlsx\")"
   ]
  },
  {
   "cell_type": "code",
   "execution_count": 68,
   "metadata": {},
   "outputs": [],
   "source": [
    "format_pivot_ML(OperationsML, '\\\\Operations'+timestamp+\".xlsx\")"
   ]
  },
  {
   "cell_type": "code",
   "execution_count": 69,
   "metadata": {},
   "outputs": [],
   "source": [
    "format_pivot_ML(ChinaML, '\\\\China'+timestamp+\".xlsx\")"
   ]
  },
  {
   "cell_type": "code",
   "execution_count": 70,
   "metadata": {},
   "outputs": [],
   "source": [
    "format_pivot_ML(Breakthrough_Technology_ML, '\\\\M3'+timestamp+\".xlsx\")"
   ]
  },
  {
   "cell_type": "code",
   "execution_count": 71,
   "metadata": {},
   "outputs": [],
   "source": [
    "format_pivot_ML(CarbonFree_MobilityML, '\\\\Carbon-Free Mobility'+timestamp+\".xlsx\")"
   ]
  },
  {
   "cell_type": "code",
   "execution_count": 72,
   "metadata": {},
   "outputs": [],
   "source": [
    "format_pivot_ML(ClimateAligned_IndustriesML, '\\\\Climate Aligned Industries'+timestamp+\".xlsx\")"
   ]
  },
  {
   "cell_type": "code",
   "execution_count": 73,
   "metadata": {},
   "outputs": [],
   "source": [
    "format_pivot_ML(Strategic_Engagement_and_Analysis_GroupML, '\\\\Strategic Analysis and Engagement'+timestamp+\".xlsx\")"
   ]
  },
  {
   "cell_type": "code",
   "execution_count": 74,
   "metadata": {},
   "outputs": [],
   "source": [
    "format_pivot_ML(CrossProgramImpactAcceleration_GroupML, '\\\\Cross-Program Impact Acceleration'+timestamp+\".xlsx\")"
   ]
  },
  {
   "cell_type": "code",
   "execution_count": 75,
   "metadata": {},
   "outputs": [],
   "source": [
    "format_pivot_ML(CarbonFreeBuildings_RollupML, '\\\\Carbon-Free Buildings'+timestamp+\".xlsx\")"
   ]
  },
  {
   "cell_type": "code",
   "execution_count": 76,
   "metadata": {},
   "outputs": [],
   "source": [
    "format_pivot_ML(Carbon_Free_ElectricityML, '\\\\Carbon-Free Electricity'+timestamp+\".xlsx\")"
   ]
  },
  {
   "cell_type": "code",
   "execution_count": 77,
   "metadata": {},
   "outputs": [],
   "source": [
    "format_pivot_ML(UrbanTrans_ML, '\\\\Urban Transformation'+timestamp+\".xlsx\")"
   ]
  },
  {
   "cell_type": "code",
   "execution_count": 78,
   "metadata": {},
   "outputs": [],
   "source": [
    "format_pivot_ML(ClimateIntelML, '\\\\Climate Intelligence'+timestamp+\".xlsx\")"
   ]
  },
  {
   "cell_type": "code",
   "execution_count": 79,
   "metadata": {},
   "outputs": [],
   "source": [
    "#format_pivot_ML(IndustryML, '\\\\Industry'+timestamp+\".xlsx\")"
   ]
  },
  {
   "cell_type": "code",
   "execution_count": 80,
   "metadata": {},
   "outputs": [],
   "source": [
    "format_pivot_ML(USML, '\\\\US'+timestamp+\".xlsx\")"
   ]
  },
  {
   "cell_type": "code",
   "execution_count": 81,
   "metadata": {},
   "outputs": [],
   "source": [
    "format_pivot_ML(GlobalClimate_FinanceML, '\\\\Finance'+timestamp+\".xlsx\")"
   ]
  },
  {
   "cell_type": "code",
   "execution_count": 82,
   "metadata": {},
   "outputs": [],
   "source": [
    "format_pivot_ML(DevelopmentML, '\\\\Development'+timestamp+\".xlsx\")"
   ]
  },
  {
   "cell_type": "code",
   "execution_count": 83,
   "metadata": {},
   "outputs": [],
   "source": [
    "format_pivot_ML(CommunicationsML, '\\\\Communications'+timestamp+\".xlsx\")"
   ]
  },
  {
   "cell_type": "code",
   "execution_count": 84,
   "metadata": {},
   "outputs": [],
   "source": [
    "format_pivot_ML(D3ML, '\\\\Third Derivative'+timestamp+\".xlsx\")"
   ]
  },
  {
   "cell_type": "code",
   "execution_count": null,
   "metadata": {},
   "outputs": [],
   "source": []
  },
  {
   "cell_type": "markdown",
   "metadata": {},
   "source": [
    "# Part 3: Add Raw Data"
   ]
  },
  {
   "cell_type": "code",
   "execution_count": 85,
   "metadata": {},
   "outputs": [],
   "source": [
    "df2['Memo'] = df2['Memo'].astype('string')"
   ]
  },
  {
   "cell_type": "code",
   "execution_count": 86,
   "metadata": {},
   "outputs": [],
   "source": [
    "def return_first(x):\n",
    "    try:\n",
    "        y = x[0]\n",
    "    except:\n",
    "        y = \"\"\n",
    "    return y"
   ]
  },
  {
   "cell_type": "code",
   "execution_count": 87,
   "metadata": {},
   "outputs": [],
   "source": [
    "allocations = ['BONUS ALLOCATION', 'ADMIN ALLOCATION', 'PTO/HOLIDAY ALLOCATION']"
   ]
  },
  {
   "cell_type": "code",
   "execution_count": 88,
   "metadata": {},
   "outputs": [],
   "source": [
    "all_allocations = '|'.join(allocations)"
   ]
  },
  {
   "cell_type": "code",
   "execution_count": 89,
   "metadata": {},
   "outputs": [],
   "source": [
    "df2['ALLOCATION'] = df2['Memo'].str.findall(all_allocations).apply(return_first)"
   ]
  },
  {
   "cell_type": "code",
   "execution_count": 90,
   "metadata": {},
   "outputs": [],
   "source": [
    "df2['Project Allocations'] = df2['Project'].str.findall(r'\\[(.*?)\\]').apply(return_first)"
   ]
  },
  {
   "cell_type": "code",
   "execution_count": 91,
   "metadata": {},
   "outputs": [],
   "source": [
    "Lookuppath = 'C:\\\\Users\\\\jerem\\\\anaconda3\\\\envs\\\\Code\\\\RMICODING\\\\Data\\\\lookups.xlsx'\n",
    "\n",
    "lookups = pd.read_excel(Lookuppath)"
   ]
  },
  {
   "cell_type": "code",
   "execution_count": 92,
   "metadata": {},
   "outputs": [],
   "source": [
    "df2 = pd.merge(df2, lookups, on = 'GL Account', how='left')"
   ]
  },
  {
   "cell_type": "code",
   "execution_count": 93,
   "metadata": {},
   "outputs": [],
   "source": [
    "df2['Amount'] = df2['Amount'].astype(float)\n",
    "df2['Amount (Credit)'].replace('', 0, inplace=True)\n",
    "df2['Amount (Debit)'].replace('', 0, inplace=True)\n",
    "df2['Amount (Credit)'] = df2['Amount (Credit)'].astype(float)\n",
    "df2['Amount (Debit)'] = df2['Amount (Debit)'].astype(float)"
   ]
  },
  {
   "cell_type": "code",
   "execution_count": 94,
   "metadata": {},
   "outputs": [],
   "source": [
    "df2['Vendor Contract Expiration Date'] = pd.to_datetime(df2['Vendor Contract Expiration Date'])"
   ]
  },
  {
   "cell_type": "code",
   "execution_count": 95,
   "metadata": {},
   "outputs": [],
   "source": [
    "df2['Vendor Contract Expiration Date'] = df2['Vendor Contract Expiration Date'].dt.date"
   ]
  },
  {
   "cell_type": "code",
   "execution_count": 96,
   "metadata": {},
   "outputs": [
    {
     "name": "stderr",
     "output_type": "stream",
     "text": [
      "C:\\Users\\jerem\\anaconda3\\lib\\site-packages\\pandas\\core\\missing.py:49: FutureWarning: elementwise comparison failed; returning scalar instead, but in the future will perform elementwise comparison\n",
      "  mask = arr == x\n"
     ]
    }
   ],
   "source": [
    "df2['Initiative'].replace('', np.nan, inplace=True)\n",
    "df2['Project'].replace('', np.nan, inplace=True)\n",
    "df2['Grant'].replace('', np.nan, inplace=True)\n",
    "df2['GL Account'].replace('', np.nan, inplace=True)\n",
    "df2['Memo'].replace('', np.nan, inplace=True)\n",
    "df2['Transaction Number'].replace('', np.nan, inplace=True)\n",
    "df2['Vendor Name'].replace('', np.nan, inplace=True)\n",
    "df2['Vendor Rate'].replace('', np.nan, inplace=True)\n",
    "df2['Vendor Contract Expiration Date'].replace('', np.nan, inplace=True)\n",
    "df2['Program'].replace('', np.nan, inplace=True)\n",
    "df2['Project Allocations'].replace('', np.nan, inplace=True)\n",
    "df2['Project Allocations'].replace('e', np.nan, inplace=True)\n",
    "df2['Client'].replace('', np.nan, inplace=True)\n",
    "df2['Rollup Account'].replace('', np.nan, inplace=True)\n",
    "df2['ALLOCATION'].replace('', np.nan, inplace=True)"
   ]
  },
  {
   "cell_type": "code",
   "execution_count": 97,
   "metadata": {},
   "outputs": [],
   "source": [
    "df2['Initiative'].fillna(\"na\", inplace=True)\n",
    "df2['Project'].fillna(\"na\", inplace=True)\n",
    "df2['Grant'].fillna(\"na\", inplace=True)\n",
    "df2['GL Account'].fillna(\"na\", inplace=True)\n",
    "df2['Memo'].fillna(\"na\", inplace=True)\n",
    "df2['Transaction Number'].fillna(\"na\", inplace=True)\n",
    "df2['Vendor Name'].fillna(\"na\", inplace=True)\n",
    "df2['Vendor Rate'].fillna(\"na\", inplace=True)\n",
    "df2['Vendor Contract Expiration Date'].fillna(\"na\", inplace=True)\n",
    "df2['Program'].fillna(\"na\", inplace=True)\n",
    "df2['Project Allocations'].fillna(\"na\", inplace=True)\n",
    "df2['Client'].fillna(\"na\", inplace=True)\n",
    "df2['Rollup Account'].fillna(\"na\", inplace=True)\n",
    "df2['ALLOCATION'].fillna(\"na\", inplace=True)"
   ]
  },
  {
   "cell_type": "code",
   "execution_count": 98,
   "metadata": {},
   "outputs": [],
   "source": [
    "def create_df_all(program):\n",
    "    firstdf = df2[df2['Program']==program]\n",
    "    if firstdf.empty == True:\n",
    "        print(str(program)+ \" DF is EMPTY\")\n",
    "    else:    \n",
    "        return firstdf"
   ]
  },
  {
   "cell_type": "code",
   "execution_count": 99,
   "metadata": {},
   "outputs": [],
   "source": [
    "DevelopmentExp = create_df_all(\"Development\")\n",
    "IslandsExp = create_df_all(\"Islands\")\n",
    "IndiaExp = create_df_all(\"India\")\n",
    "OperationsExp = create_df_all(\"Operations\")\n",
    "ChinaExp = create_df_all(\"China\")\n",
    "Breakthrough_Technology_Exp = create_df_all(\"M3\")\n",
    "CarbonFree_MobilityExp = create_df_all(\"Carbon-Free Mobility\")\n",
    "ClimateAligned_IndustriesExp = create_df_all(\"Climate Aligned Industries\")\n",
    "CommunicationsExp = create_df_all(\"Communications\")\n",
    "GlobalClimate_FinanceExp = create_df_all(\"Finance\")\n",
    "Strategic_Engagement_and_Analysis_GroupExp = create_df_all(\"Strategic Analysis and Engagement\")\n",
    "CrossProgramImpactAcceleration_GroupExp = create_df_all(\"Cross-Program Impact Acceleration\")\n",
    "Carbon_Free_BuildingsExp = create_df_all(\"Carbon-Free Buildings\")\n",
    "Watttime_Exp = create_df_all(\"WattTime\")\n",
    "Carbon_Free_ElectricityExp = create_df_all(\"Carbon-Free Electricity\")\n",
    "UrbanTrans_Exp = create_df_all(\"Urban Transformation\")\n",
    "ClimateIntelExp = create_df_all(\"Climate Intelligence\")\n",
    "IndustryExp = create_df_all(\"Industry\")\n",
    "SEAsiaExp = create_df_all(\"SE Asia\")\n",
    "AfricaExp = create_df_all(\"Africa\")\n",
    "USExp = create_df_all(\"US\")\n",
    "BuildingElectrificationExp = create_df_all(\"Building Electrification\")\n",
    "Energy_Transition_AcademyExp = create_df_all(\"Energy Transition Academy\")\n",
    "CFANExp = create_df_all(\"CFAN\")\n",
    "D3Exp = create_df_all(\"Third Derivative\")"
   ]
  },
  {
   "cell_type": "code",
   "execution_count": 100,
   "metadata": {},
   "outputs": [],
   "source": [
    "Developing_Economies_RollupExp = pd.concat([IslandsExp, CFANExp, AfricaExp, SEAsiaExp, Energy_Transition_AcademyExp], ignore_index = True, sort=False)\n",
    "CarbonFreeBuildings_RollupExp = pd.concat([Carbon_Free_BuildingsExp, BuildingElectrificationExp], ignore_index = True, sort=False)"
   ]
  },
  {
   "cell_type": "code",
   "execution_count": 101,
   "metadata": {},
   "outputs": [],
   "source": [
    "def to_excel_df(df, file):\n",
    "    writer = pd.ExcelWriter(file, engine='openpyxl')\n",
    "    if os.path.exists(file):\n",
    "        book = openpyxl.load_workbook(file)\n",
    "        writer.book = book\n",
    "    df.to_excel(writer, sheet_name=\"Unformatted Data\", index = False)\n",
    "    writer.save()\n",
    "    writer.close()   "
   ]
  },
  {
   "cell_type": "code",
   "execution_count": 102,
   "metadata": {},
   "outputs": [
    {
     "name": "stdout",
     "output_type": "stream",
     "text": [
      "Wall time: 5min 22s\n"
     ]
    }
   ],
   "source": [
    "%%time\n",
    "to_excel_df(DevelopmentExp, path + '\\\\Development'+timestamp+\".xlsx\")\n",
    "to_excel_df(OperationsExp, path + '\\\\Operations'+timestamp+\".xlsx\")\n",
    "to_excel_df(ChinaExp, path + '\\\\China'+timestamp+\".xlsx\")\n",
    "to_excel_df(Breakthrough_Technology_Exp, path + '\\\\M3'+timestamp+\".xlsx\")\n",
    "to_excel_df(CarbonFree_MobilityExp, path + '\\\\Carbon-Free Mobility'+timestamp+\".xlsx\")\n",
    "to_excel_df(ClimateAligned_IndustriesExp, path + '\\\\Climate Aligned Industries'+timestamp+\".xlsx\")\n",
    "to_excel_df(CommunicationsExp, path + '\\\\Communications'+timestamp+\".xlsx\")\n",
    "to_excel_df(GlobalClimate_FinanceExp, path + '\\\\Finance'+timestamp+\".xlsx\")\n",
    "to_excel_df(Strategic_Engagement_and_Analysis_GroupExp, path + '\\\\Strategic Analysis and Engagement'+timestamp+\".xlsx\")\n",
    "to_excel_df(CrossProgramImpactAcceleration_GroupExp, path + '\\\\Cross-Program Impact Acceleration'+timestamp+\".xlsx\")\n",
    "to_excel_df(Watttime_Exp, path + '\\\\WattTime'+timestamp+\".xlsx\")\n",
    "to_excel_df(Carbon_Free_ElectricityExp, path + '\\\\Carbon-Free Electricity'+timestamp+\".xlsx\")\n",
    "to_excel_df(UrbanTrans_Exp, path + '\\\\Urban Transformation'+timestamp+\".xlsx\")\n",
    "to_excel_df(ClimateIntelExp, path + '\\\\Climate Intelligence'+timestamp+\".xlsx\")\n",
    "to_excel_df(IndiaExp, path + '\\\\India'+timestamp+\".xlsx\")\n",
    "to_excel_df(IndustryExp, path + '\\\\Industry'+timestamp+\".xlsx\")\n",
    "to_excel_df(USExp, path + '\\\\US'+timestamp+\".xlsx\")\n",
    "to_excel_df(CarbonFreeBuildings_RollupExp, path + '\\\\Carbon-Free Buildings'+timestamp+\".xlsx\")\n",
    "to_excel_df(Developing_Economies_RollupExp, path + '\\\\Global South'+timestamp+\".xlsx\")\n",
    "to_excel_df(D3Exp, path + '\\\\Third Derivative'+timestamp+\".xlsx\")"
   ]
  },
  {
   "cell_type": "code",
   "execution_count": null,
   "metadata": {},
   "outputs": [],
   "source": []
  },
  {
   "cell_type": "code",
   "execution_count": null,
   "metadata": {},
   "outputs": [],
   "source": []
  },
  {
   "cell_type": "code",
   "execution_count": null,
   "metadata": {},
   "outputs": [],
   "source": []
  },
  {
   "cell_type": "code",
   "execution_count": null,
   "metadata": {},
   "outputs": [],
   "source": []
  },
  {
   "cell_type": "code",
   "execution_count": null,
   "metadata": {},
   "outputs": [],
   "source": []
  },
  {
   "cell_type": "code",
   "execution_count": null,
   "metadata": {},
   "outputs": [],
   "source": []
  },
  {
   "cell_type": "code",
   "execution_count": null,
   "metadata": {},
   "outputs": [],
   "source": []
  },
  {
   "cell_type": "code",
   "execution_count": null,
   "metadata": {},
   "outputs": [],
   "source": []
  }
 ],
 "metadata": {
  "kernelspec": {
   "display_name": "Python 3",
   "language": "python",
   "name": "python3"
  },
  "language_info": {
   "codemirror_mode": {
    "name": "ipython",
    "version": 3
   },
   "file_extension": ".py",
   "mimetype": "text/x-python",
   "name": "python",
   "nbconvert_exporter": "python",
   "pygments_lexer": "ipython3",
   "version": "3.8.5"
  }
 },
 "nbformat": 4,
 "nbformat_minor": 4
}
